{
 "cells": [
  {
   "cell_type": "code",
   "execution_count": null,
   "metadata": {},
   "outputs": [],
   "source": [
    "%load_ext autoreload\n",
    "%autoreload 2\n",
    "%config Completer.use_jedi = False"
   ]
  },
  {
   "cell_type": "code",
   "execution_count": null,
   "metadata": {},
   "outputs": [],
   "source": [
    "#hide\n",
    "import json\n",
    "from pathlib import Path\n",
    "from nbdev.showdoc import show_doc\n",
    "from getpass import getuser, getpass\n",
    "from fiscaliza.redmine import *\n",
    "from fiscaliza.constants import SERVICOS\n",
    "from rich.console import Console\n",
    "console = Console()"
   ]
  },
  {
   "cell_type": "markdown",
   "metadata": {},
   "source": [
    "# Fiscaliza\n",
    "\n",
    "> Scripts para baixar informações sobre inspeções no Sistema Fiscaliza da Anatel e atualizar inspeções por meio da API do Redmine."
   ]
  },
  {
   "cell_type": "markdown",
   "metadata": {},
   "source": [
    "## Instalação\n",
    "Como boa prática é sugerido a criação de um ambiente virtual para encapsular o ambiente python no qual você irá instalar a biblioteca"
   ]
  },
  {
   "cell_type": "markdown",
   "metadata": {},
   "source": [
    "Utilizando o `conda`:\n",
    "```bash\n",
    "conda create -n fiscaliza python=3.8\n",
    "conda activate fiscaliza\n",
    "python -m pip install fiscaliza\n",
    "```\n",
    "Utilizando somente python:\n",
    "\n",
    "Windows\n",
    "```bash\n",
    "python -m venv <pasta onde criar o ambiente virtual>\n",
    "<pasta onde criou o ambiente virtual>\\Scripts\\activate.bat\n",
    "python -m pip install fiscaliza\n",
    "```\n",
    "Linux:\n",
    "```bash\n",
    "python -m venv <pasta onde criar o ambiente virtual>\n",
    "source <pasta onde criou o ambiente virtual>/Scripts/activate\n",
    "python -m pip install fiscaliza\n",
    "```"
   ]
  },
  {
   "cell_type": "markdown",
   "metadata": {},
   "source": [
    "Caso não desejar utilizar um ambiente virtual basta rodar:\n",
    "`pip install fiscaliza`"
   ]
  },
  {
   "cell_type": "markdown",
   "metadata": {},
   "source": [
    "## Como utilizar"
   ]
  },
  {
   "cell_type": "markdown",
   "metadata": {},
   "source": [
    "O `Fiscaliza` da Anatel é um sistema web que utiliza a plataforma Redmine. É basicamente um softaware de gerenciamento e atividades.\n",
    "\n",
    "O Fiscaliza possui 2 módulos para os fiscais utilizarem:\n",
    "* Módulo de Teste ( Homologação ) : \"https://sistemashm.anatel.gov.br/fiscaliza\"\n",
    "* Módulo de Produção: \"https://sistemas.anatel.gov.br/fiscaliza/\"\n",
    "\n",
    "Ambos módulos precisam de um usuário e senha com acesso autorizado, em geral somente servidores da Anatel.\n",
    "\n",
    "O Escopo desse módulo basicamente está encapsulado em 3 funções básicas:\n",
    "* detalhar_inspecao - **Retorna as informações do estado atual da Issue ( Inspeção )**\n",
    "* validar_dicionario - **Para dado dicionário de dados, formata-o para a API do Redmine**\n",
    "* relatar_inspecao - **Atualiza e Issue com o dicionário de dados passado**\n",
    "\n",
    "A terceira função `relatar_inspecao` possui escopo limitado. Atualmente somente é formatado e relatado Inspeções ( Issue ) to tipo \"Uso do Espectro - Monitoração\". Essa inspeção é a principal utilizada para as atividades de monitoração da Anatel e foi o que motivou a criação da presente biblioteca. Outras inspeções possuem campos distintos e assim exigem formatação distinta. Versões futuras poderão abarcar o relato de diferentes inspeções. "
   ]
  },
  {
   "cell_type": "markdown",
   "metadata": {},
   "source": [
    "### Detalhar Inspeção"
   ]
  },
  {
   "cell_type": "code",
   "execution_count": null,
   "metadata": {},
   "outputs": [
    {
     "data": {
      "text/markdown": [
       "<h4 id=\"detalhar_issue\" class=\"doc_header\"><code>detalhar_issue</code><a href=\"https://github.com/ronaldokun/fiscaliza/tree/master/fiscaliza/redmine.py#L489\" class=\"source_link\" style=\"float:right\">[source]</a></h4>\n",
       "\n",
       "> <code>detalhar_issue</code>(**`inspecao`**:\"Número da Inspeção a ser relatada\", **`login`**:\"Login Anatel do Usuário\"=*`None`*, **`senha`**:\"Senha Utilizada nos Sistemas Interativos da Anatel\"=*`None`*, **`fiscaliza`**:\"Objeto Redmine logado, opcional ao login e senha\"=*`None`*, **`teste`**:\"Indica se o relato será de teste\"=*`True`*)\n",
       "\n",
       "Recebe número da inspeção `inspecao`, o login e senha ou opcionalmente objeto Redmine logado `fiscaliza`\n",
       "inspecao: str - Número da Inspeção a ser relatada\n",
       "login: str - Login Anatel do Usuário\n",
       "senha: str - Senha Utilizada nos Sistemas Interativos da\n",
       "fiscaliza: Redmine - Objeto Redmine logado, opcional ao login e senha\n",
       "teste: bool - Caso verdadeiro o Fiscaliza de Teste ( Homologação ) é utilizado\n",
       "\n",
       "Returns:\n",
       "    dict: Retorna um dicionário com a Situação Atual e campos preenchidos da Inspeção"
      ],
      "text/plain": [
       "<IPython.core.display.Markdown object>"
      ]
     },
     "metadata": {},
     "output_type": "display_data"
    }
   ],
   "source": [
    "#hide\n",
    "show_doc(detalhar_issue)"
   ]
  },
  {
   "cell_type": "markdown",
   "metadata": {},
   "source": [
    "Vamos exemplificar a Inspeção de Teste `57824`"
   ]
  },
  {
   "cell_type": "code",
   "execution_count": null,
   "metadata": {},
   "outputs": [],
   "source": [
    "login = getuser()\n",
    "senha = 'D0_0r_d0_n0t' #getpass()"
   ]
  },
  {
   "cell_type": "code",
   "execution_count": null,
   "metadata": {},
   "outputs": [],
   "source": [
    "# issue = '72088'\n",
    "# detalhes = detalhar_issue(issue, login, senha)\n",
    "# console.print(detalhes)"
   ]
  },
  {
   "cell_type": "code",
   "execution_count": null,
   "metadata": {},
   "outputs": [
    {
     "data": {
      "text/html": [
       "<pre style=\"white-space:pre;overflow-x:auto;line-height:normal;font-family:Menlo,'DejaVu Sans Mono',consolas,'Courier New',monospace\"><span style=\"font-weight: bold\">{</span>\n",
       "    <span style=\"color: #008000; text-decoration-color: #008000\">'Anexos'</span>: <span style=\"font-weight: bold\">{</span>\n",
       "        <span style=\"color: #008000; text-decoration-color: #008000\">'Lista_de_Exceção_PMEC_Etapa_2_Sorocaba'</span>: <span style=\"color: #008000; text-decoration-color: #008000\">'http://sistemashm.anatel.gov.br/fiscaliza/</span>\n",
       "<span style=\"color: #008000; text-decoration-color: #008000\">attachments/download/1303/Lista_de_Exce%C3%A7%C3%A3o_PMEC_Etapa_2_Sorocaba'</span>\n",
       "    <span style=\"font-weight: bold\">}</span>,\n",
       "    <span style=\"color: #008000; text-decoration-color: #008000\">'id'</span>: <span style=\"color: #008000; text-decoration-color: #008000\">'72145'</span>,\n",
       "    <span style=\"color: #008000; text-decoration-color: #008000\">'subject'</span>: <span style=\"color: #008000; text-decoration-color: #008000\">'INSP_GR01_2021_0715'</span>,\n",
       "    <span style=\"color: #008000; text-decoration-color: #008000\">'status'</span>: <span style=\"color: #008000; text-decoration-color: #008000\">'Relatando'</span>,\n",
       "    <span style=\"color: #008000; text-decoration-color: #008000\">'priority'</span>: <span style=\"color: #008000; text-decoration-color: #008000\">'Normal'</span>,\n",
       "    <span style=\"color: #008000; text-decoration-color: #008000\">'start_date'</span>: <span style=\"color: #008000; text-decoration-color: #008000\">'2021-09-13'</span>,\n",
       "    <span style=\"color: #008000; text-decoration-color: #008000\">'due_date'</span>: <span style=\"color: #008000; text-decoration-color: #008000\">'2021-12-31'</span>,\n",
       "    <span style=\"color: #008000; text-decoration-color: #008000\">'description'</span>: <span style=\"color: #008000; text-decoration-color: #008000\">'Atendimento da Denúncia AC202010}213075425 (6104512), \\r\\nverificação da </span>\n",
       "<span style=\"color: #008000; text-decoration-color: #008000\">Potência e Intensidade de Campo Elétrico da Frequência 105.1MHz e seus harmônicos, \\r\\nalém </span>\n",
       "<span style=\"color: #008000; text-decoration-color: #008000\">da checagem de Intermodulação e Espúrios nas frequências 450.3MHz e 750MHz.'</span>,\n",
       "    <span style=\"color: #008000; text-decoration-color: #008000\">'Data_de_inicio_efetivo'</span>: <span style=\"color: #800080; text-decoration-color: #800080; font-weight: bold\">datetime.date</span><span style=\"font-weight: bold\">(</span><span style=\"color: #008080; text-decoration-color: #008080; font-weight: bold\">2021</span>, <span style=\"color: #008080; text-decoration-color: #008080; font-weight: bold\">8</span>, <span style=\"color: #008080; text-decoration-color: #008080; font-weight: bold\">11</span><span style=\"font-weight: bold\">)</span>,\n",
       "    <span style=\"color: #008000; text-decoration-color: #008000\">'Classe_da_Inspecao'</span>: <span style=\"color: #008000; text-decoration-color: #008000\">'Técnica'</span>,\n",
       "    <span style=\"color: #008000; text-decoration-color: #008000\">'Tipo_de_Inspecao'</span>: <span style=\"color: #008000; text-decoration-color: #008000\">'Uso do Espectro - Monitoração'</span>,\n",
       "    <span style=\"color: #008000; text-decoration-color: #008000\">'Ano'</span>: <span style=\"color: #008000; text-decoration-color: #008000\">'2021'</span>,\n",
       "    <span style=\"color: #008000; text-decoration-color: #008000\">'Coordenacao'</span>: <span style=\"color: #008000; text-decoration-color: #008000\">''</span>,\n",
       "    <span style=\"color: #008000; text-decoration-color: #008000\">'Numero_Sei_do_Processo'</span>: <span style=\"color: #008000; text-decoration-color: #008000\">'{\"numero\"=&gt;\"53554.000013/2021-11\", \"link_acesso\"=&gt;\"https://sei</span>\n",
       "<span style=\"color: #008000; text-decoration-color: #008000\">hm.anatel.gov.br/sei/controlador.php?acao=procedimento_trabalhar&amp;id_procedimento=1964149\"}'</span>,\n",
       "    <span style=\"color: #008000; text-decoration-color: #008000\">'Fiscal_Responsavel'</span>: <span style=\"color: #008000; text-decoration-color: #008000\">'Ronaldo da Silva Alves Batista'</span>,\n",
       "    <span style=\"color: #008000; text-decoration-color: #008000\">'Fiscais'</span>: <span style=\"font-weight: bold\">[</span>\n",
       "        <span style=\"color: #008000; text-decoration-color: #008000\">'Ronaldo da Silva Alves Batista'</span>,\n",
       "        <span style=\"color: #008000; text-decoration-color: #008000\">'Paulo Diogo Costa'</span>,\n",
       "        <span style=\"color: #008000; text-decoration-color: #008000\">'Mario Augusto Volpini'</span>\n",
       "    <span style=\"font-weight: bold\">]</span>,\n",
       "    <span style=\"color: #008000; text-decoration-color: #008000\">'Entidade_da_Inspecao'</span>: <span style=\"font-weight: bold\">[]</span>,\n",
       "    <span style=\"color: #008000; text-decoration-color: #008000\">'UF_Municipio'</span>: <span style=\"font-weight: bold\">[</span><span style=\"color: #008000; text-decoration-color: #008000\">'SP/Itatiba'</span><span style=\"font-weight: bold\">]</span>,\n",
       "    <span style=\"color: #008000; text-decoration-color: #008000\">'Servicos_da_Inspecao'</span>: <span style=\"font-weight: bold\">[</span><span style=\"color: #008000; text-decoration-color: #008000\">'230 - COLETIVO - RADIODIFUSÃO SONORA EM FREQÜÊNCIA MODULADA'</span><span style=\"font-weight: bold\">]</span>,\n",
       "    <span style=\"color: #008000; text-decoration-color: #008000\">'Qnt_de_emissoes_na_faixa'</span>: <span style=\"color: #008000; text-decoration-color: #008000\">'1'</span>,\n",
       "    <span style=\"color: #008000; text-decoration-color: #008000\">'Emissoes_nao_autorizadas'</span>: <span style=\"color: #008000; text-decoration-color: #008000\">'0'</span>,\n",
       "    <span style=\"color: #008000; text-decoration-color: #008000\">'Horas_de_Preparacao'</span>: <span style=\"color: #008000; text-decoration-color: #008000\">'2'</span>,\n",
       "    <span style=\"color: #008000; text-decoration-color: #008000\">'Horas_de_Deslocamento'</span>: <span style=\"color: #008000; text-decoration-color: #008000\">'0'</span>,\n",
       "    <span style=\"color: #008000; text-decoration-color: #008000\">'Horas_de_Execucao'</span>: <span style=\"color: #008000; text-decoration-color: #008000\">'24'</span>,\n",
       "    <span style=\"color: #008000; text-decoration-color: #008000\">'Horas_de_Conclusao'</span>: <span style=\"color: #008000; text-decoration-color: #008000\">'4'</span>,\n",
       "    <span style=\"color: #008000; text-decoration-color: #008000\">'SAV'</span>: <span style=\"color: #008000; text-decoration-color: #008000\">''</span>,\n",
       "    <span style=\"color: #008000; text-decoration-color: #008000\">'PCDP'</span>: <span style=\"color: #008000; text-decoration-color: #008000\">''</span>,\n",
       "    <span style=\"color: #008000; text-decoration-color: #008000\">'Procedimentos'</span>: <span style=\"font-weight: bold\">[]</span>,\n",
       "    <span style=\"color: #008000; text-decoration-color: #008000\">'Latitude'</span>: <span style=\"color: #008000; text-decoration-color: #008000\">'-23.0175'</span>,\n",
       "    <span style=\"color: #008000; text-decoration-color: #008000\">'Longitude'</span>: <span style=\"color: #008000; text-decoration-color: #008000\">'-46.884722'</span>,\n",
       "    <span style=\"color: #008000; text-decoration-color: #008000\">'Uso_de_PF'</span>: <span style=\"color: #008000; text-decoration-color: #008000\">'Não se aplica PF - uso apenas de formulários'</span>,\n",
       "    <span style=\"color: #008000; text-decoration-color: #008000\">'Acao_de_risco_a_vida_criada'</span>: <span style=\"color: #008000; text-decoration-color: #008000\">'Não'</span>,\n",
       "    <span style=\"color: #008000; text-decoration-color: #008000\">'Frequencia_Inicial'</span>: <span style=\"color: #008000; text-decoration-color: #008000\">'102.9'</span>,\n",
       "    <span style=\"color: #008000; text-decoration-color: #008000\">'Unidade_da_Frequencia_Inicial'</span>: <span style=\"color: #008000; text-decoration-color: #008000\">'MHz'</span>,\n",
       "    <span style=\"color: #008000; text-decoration-color: #008000\">'Frequencia_Final'</span>: <span style=\"color: #008000; text-decoration-color: #008000\">'102.9'</span>,\n",
       "    <span style=\"color: #008000; text-decoration-color: #008000\">'Unidade_da_Frequencia_Final'</span>: <span style=\"color: #008000; text-decoration-color: #008000\">'MHz'</span>,\n",
       "    <span style=\"color: #008000; text-decoration-color: #008000\">'Agrupamento'</span>: <span style=\"color: #008000; text-decoration-color: #008000\">''</span>,\n",
       "    <span style=\"color: #008000; text-decoration-color: #008000\">'AppFiscaliza'</span>: <span style=\"color: #008000; text-decoration-color: #008000\">'0'</span>,\n",
       "    <span style=\"color: #008000; text-decoration-color: #008000\">'Relatorio_de_Monitoramento'</span>: <span style=\"color: #008000; text-decoration-color: #008000\">'{\"numero\"=&gt;\"0191899\", \"link_acesso\"=&gt;\"https://seihm.anatel</span>\n",
       "<span style=\"color: #008000; text-decoration-color: #008000\">.gov.br/sei/controlador.php?acao=procedimento_trabalhar&amp;id_procedimento=1964149&amp;id_documento=</span>\n",
       "<span style=\"color: #008000; text-decoration-color: #008000\">1964508\"}'</span>,\n",
       "    <span style=\"color: #008000; text-decoration-color: #008000\">'Reservar_Instrumentos'</span>: <span style=\"color: #008000; text-decoration-color: #008000\">'0'</span>,\n",
       "    <span style=\"color: #008000; text-decoration-color: #008000\">'Utilizou_algum_instrumento'</span>: <span style=\"color: #008000; text-decoration-color: #008000\">'0'</span>,\n",
       "    <span style=\"color: #008000; text-decoration-color: #008000\">'id_ACAO'</span>: <span style=\"color: #008080; text-decoration-color: #008080; font-weight: bold\">72088</span>,\n",
       "    <span style=\"color: #008000; text-decoration-color: #008000\">'nome_ACAO'</span>: <span style=\"color: #008000; text-decoration-color: #008000\">'ACAO_GR01_2021_0688'</span>,\n",
       "    <span style=\"color: #008000; text-decoration-color: #008000\">'descricao_ACAO'</span>: <span style=\"color: #008000; text-decoration-color: #008000\">''</span>,\n",
       "    <span style=\"color: #008000; text-decoration-color: #008000\">'Users'</span>: <span style=\"font-weight: bold\">[</span>\n",
       "        <span style=\"color: #008000; text-decoration-color: #008000\">'Alexandre Elias de Andrade Oliveira'</span>,\n",
       "        <span style=\"color: #008000; text-decoration-color: #008000\">'Alexandre Freitas de Lima'</span>,\n",
       "        <span style=\"color: #008000; text-decoration-color: #008000\">'Alexandre Inacio'</span>,\n",
       "        <span style=\"color: #008000; text-decoration-color: #008000\">'Alexandre Junzo Hamada'</span>,\n",
       "        <span style=\"color: #008000; text-decoration-color: #008000\">'Alfredo de Andrade Filho'</span>,\n",
       "        <span style=\"color: #008000; text-decoration-color: #008000\">'Ananias Pereira'</span>,\n",
       "        <span style=\"color: #008000; text-decoration-color: #008000\">'Antonio Carlos Cardoso de Mello'</span>,\n",
       "        <span style=\"color: #008000; text-decoration-color: #008000\">'Aparecido Sebastiao da Silva'</span>,\n",
       "        <span style=\"color: #008000; text-decoration-color: #008000\">'Arthur Pisaruk'</span>,\n",
       "        <span style=\"color: #008000; text-decoration-color: #008000\">'Carlos Augusto de Carvalho'</span>,\n",
       "        <span style=\"color: #008000; text-decoration-color: #008000\">'Carlos Eduardo Guimaraes Silveira'</span>,\n",
       "        <span style=\"color: #008000; text-decoration-color: #008000\">'Carlos da Paixao Filho'</span>,\n",
       "        <span style=\"color: #008000; text-decoration-color: #008000\">'Celio Yukio Takahashi'</span>,\n",
       "        <span style=\"color: #008000; text-decoration-color: #008000\">'Celso Luiz Maximino'</span>,\n",
       "        <span style=\"color: #008000; text-decoration-color: #008000\">'Diogo Caldeira'</span>,\n",
       "        <span style=\"color: #008000; text-decoration-color: #008000\">'Ediceu Beraldi'</span>,\n",
       "        <span style=\"color: #008000; text-decoration-color: #008000\">'Eduardo Narkevicius'</span>,\n",
       "        <span style=\"color: #008000; text-decoration-color: #008000\">'Elcio Maehara'</span>,\n",
       "        <span style=\"color: #008000; text-decoration-color: #008000\">'Eustaquio Lages Duarte'</span>,\n",
       "        <span style=\"color: #008000; text-decoration-color: #008000\">'Fiscal UD'</span>,\n",
       "        <span style=\"color: #008000; text-decoration-color: #008000\">'Gauber Albuquerque'</span>,\n",
       "        <span style=\"color: #008000; text-decoration-color: #008000\">'Gilson Ponce Ayres Filho'</span>,\n",
       "        <span style=\"color: #008000; text-decoration-color: #008000\">'Helio Lopes de Carvalho Filho'</span>,\n",
       "        <span style=\"color: #008000; text-decoration-color: #008000\">'Higor da Paz Melo'</span>,\n",
       "        <span style=\"color: #008000; text-decoration-color: #008000\">'Hugo Santana Lima'</span>,\n",
       "        <span style=\"color: #008000; text-decoration-color: #008000\">'Humberto Barbosa Vinagre'</span>,\n",
       "        <span style=\"color: #008000; text-decoration-color: #008000\">'Jamilson Evangelista'</span>,\n",
       "        <span style=\"color: #008000; text-decoration-color: #008000\">'Joao Yokoyama'</span>,\n",
       "        <span style=\"color: #008000; text-decoration-color: #008000\">'Joaquim Miranda'</span>,\n",
       "        <span style=\"color: #008000; text-decoration-color: #008000\">'José Antônio S. Sanches'</span>,\n",
       "        <span style=\"color: #008000; text-decoration-color: #008000\">'Julio Cesar de Assis Santos'</span>,\n",
       "        <span style=\"color: #008000; text-decoration-color: #008000\">'Kiyotomo Kawamura'</span>,\n",
       "        <span style=\"color: #008000; text-decoration-color: #008000\">'Laert Calil Junior'</span>,\n",
       "        <span style=\"color: #008000; text-decoration-color: #008000\">'Lannei Vilela Moraes'</span>,\n",
       "        <span style=\"color: #008000; text-decoration-color: #008000\">'Luis Lagomes'</span>,\n",
       "        <span style=\"color: #008000; text-decoration-color: #008000\">'Luiz Vinicios Mielniczuk Seelig'</span>,\n",
       "        <span style=\"color: #008000; text-decoration-color: #008000\">'Marcelo Augusto Scacabarozi'</span>,\n",
       "        <span style=\"color: #008000; text-decoration-color: #008000\">'Marcelo Vaz Netto'</span>,\n",
       "        <span style=\"color: #008000; text-decoration-color: #008000\">'Marcio Colazingari'</span>,\n",
       "        <span style=\"color: #008000; text-decoration-color: #008000\">'Marcio Costa'</span>,\n",
       "        <span style=\"color: #008000; text-decoration-color: #008000\">'Marcio Rodrigues Maciel'</span>,\n",
       "        <span style=\"color: #008000; text-decoration-color: #008000\">'Marcos Antônio Rodrigues'</span>,\n",
       "        <span style=\"color: #008000; text-decoration-color: #008000\">'Marcos Juliano Valim da Silva'</span>,\n",
       "        <span style=\"color: #008000; text-decoration-color: #008000\">'Maria Teresa Flosi Garrafa'</span>,\n",
       "        <span style=\"color: #008000; text-decoration-color: #008000\">'Mario Augusto Volpini'</span>,\n",
       "        <span style=\"color: #008000; text-decoration-color: #008000\">'Murilo Amaro'</span>,\n",
       "        <span style=\"color: #008000; text-decoration-color: #008000\">'Osnir Lopes'</span>,\n",
       "        <span style=\"color: #008000; text-decoration-color: #008000\">'Paulo Diogo Costa'</span>,\n",
       "        <span style=\"color: #008000; text-decoration-color: #008000\">'Pedro Arai'</span>,\n",
       "        <span style=\"color: #008000; text-decoration-color: #008000\">'Renato Sadao Kushioyada'</span>,\n",
       "        <span style=\"color: #008000; text-decoration-color: #008000\">'Ricardo Santos Marques'</span>,\n",
       "        <span style=\"color: #008000; text-decoration-color: #008000\">'Ricardo da Silva e Souza'</span>,\n",
       "        <span style=\"color: #008000; text-decoration-color: #008000\">'Roberto Carlos Soares Campos'</span>,\n",
       "        <span style=\"color: #008000; text-decoration-color: #008000\">'Roberto Ferreira dos Santos'</span>,\n",
       "        <span style=\"color: #008000; text-decoration-color: #008000\">'Roberto Takata'</span>,\n",
       "        <span style=\"color: #008000; text-decoration-color: #008000\">'Rodrigo Barbosa de Paula'</span>,\n",
       "        <span style=\"color: #008000; text-decoration-color: #008000\">'Rogerio Zambotto'</span>,\n",
       "        <span style=\"color: #008000; text-decoration-color: #008000\">'Ronaldo da Silva Alves Batista'</span>,\n",
       "        <span style=\"color: #008000; text-decoration-color: #008000\">'Sergio Pereira'</span>,\n",
       "        <span style=\"color: #008000; text-decoration-color: #008000\">'Thiago Silva'</span>,\n",
       "        <span style=\"color: #008000; text-decoration-color: #008000\">'Thomaz Honma Ishida'</span>,\n",
       "        <span style=\"color: #008000; text-decoration-color: #008000\">'Vinicius Paiva de Oliveira'</span>,\n",
       "        <span style=\"color: #008000; text-decoration-color: #008000\">'Vitor Zelada'</span>,\n",
       "        <span style=\"color: #008000; text-decoration-color: #008000\">'Wellington Devechi Piauilino'</span>,\n",
       "        <span style=\"color: #008000; text-decoration-color: #008000\">'Wladimir Senise'</span>\n",
       "    <span style=\"font-weight: bold\">]</span>,\n",
       "    <span style=\"color: #008000; text-decoration-color: #008000\">'Atualizado'</span>: <span style=\"color: #008000; text-decoration-color: #008000\">'Atualizado por Ronaldo da Silva Alves Batista em 17/09/2021 às 21:31:08'</span>\n",
       "<span style=\"font-weight: bold\">}</span>\n",
       "</pre>\n"
      ],
      "text/plain": [
       "\u001b[1m{\u001b[0m\n",
       "    \u001b[32m'Anexos'\u001b[0m: \u001b[1m{\u001b[0m\n",
       "        \u001b[32m'Lista_de_Exceção_PMEC_Etapa_2_Sorocaba'\u001b[0m: \u001b[32m'http://sistemashm.anatel.gov.br/fiscaliza/\u001b[0m\n",
       "\u001b[32mattachments/download/1303/Lista_de_Exce%C3%A7%C3%A3o_PMEC_Etapa_2_Sorocaba'\u001b[0m\n",
       "    \u001b[1m}\u001b[0m,\n",
       "    \u001b[32m'id'\u001b[0m: \u001b[32m'72145'\u001b[0m,\n",
       "    \u001b[32m'subject'\u001b[0m: \u001b[32m'INSP_GR01_2021_0715'\u001b[0m,\n",
       "    \u001b[32m'status'\u001b[0m: \u001b[32m'Relatando'\u001b[0m,\n",
       "    \u001b[32m'priority'\u001b[0m: \u001b[32m'Normal'\u001b[0m,\n",
       "    \u001b[32m'start_date'\u001b[0m: \u001b[32m'2021-09-13'\u001b[0m,\n",
       "    \u001b[32m'due_date'\u001b[0m: \u001b[32m'2021-12-31'\u001b[0m,\n",
       "    \u001b[32m'description'\u001b[0m: \u001b[32m'Atendimento da Denúncia AC202010\u001b[0m\u001b[32m}\u001b[0m\u001b[32m213075425 \u001b[0m\u001b[32m(\u001b[0m\u001b[32m6104512\u001b[0m\u001b[32m)\u001b[0m\u001b[32m, \\r\\nverificação da \u001b[0m\n",
       "\u001b[32mPotência e Intensidade de Campo Elétrico da Frequência 105.1MHz e seus harmônicos, \\r\\nalém \u001b[0m\n",
       "\u001b[32mda checagem de Intermodulação e Espúrios nas frequências 450.3MHz e 750MHz.'\u001b[0m,\n",
       "    \u001b[32m'Data_de_inicio_efetivo'\u001b[0m: \u001b[1;35mdatetime.date\u001b[0m\u001b[1m(\u001b[0m\u001b[1;36m2021\u001b[0m, \u001b[1;36m8\u001b[0m, \u001b[1;36m11\u001b[0m\u001b[1m)\u001b[0m,\n",
       "    \u001b[32m'Classe_da_Inspecao'\u001b[0m: \u001b[32m'Técnica'\u001b[0m,\n",
       "    \u001b[32m'Tipo_de_Inspecao'\u001b[0m: \u001b[32m'Uso do Espectro - Monitoração'\u001b[0m,\n",
       "    \u001b[32m'Ano'\u001b[0m: \u001b[32m'2021'\u001b[0m,\n",
       "    \u001b[32m'Coordenacao'\u001b[0m: \u001b[32m''\u001b[0m,\n",
       "    \u001b[32m'Numero_Sei_do_Processo'\u001b[0m: \u001b[32m'\u001b[0m\u001b[32m{\u001b[0m\u001b[32m\"numero\"=>\"53554.000013/2021-11\", \"link_acesso\"=>\"https://sei\u001b[0m\n",
       "\u001b[32mhm.anatel.gov.br/sei/controlador.php?\u001b[0m\u001b[32macao\u001b[0m\u001b[32m=\u001b[0m\u001b[32mprocedimento_trabalhar\u001b[0m\u001b[32m&\u001b[0m\u001b[32mid_procedimento\u001b[0m\u001b[32m=\u001b[0m\u001b[32m1964149\"\u001b[0m\u001b[32m}\u001b[0m\u001b[32m'\u001b[0m,\n",
       "    \u001b[32m'Fiscal_Responsavel'\u001b[0m: \u001b[32m'Ronaldo da Silva Alves Batista'\u001b[0m,\n",
       "    \u001b[32m'Fiscais'\u001b[0m: \u001b[1m[\u001b[0m\n",
       "        \u001b[32m'Ronaldo da Silva Alves Batista'\u001b[0m,\n",
       "        \u001b[32m'Paulo Diogo Costa'\u001b[0m,\n",
       "        \u001b[32m'Mario Augusto Volpini'\u001b[0m\n",
       "    \u001b[1m]\u001b[0m,\n",
       "    \u001b[32m'Entidade_da_Inspecao'\u001b[0m: \u001b[1m[\u001b[0m\u001b[1m]\u001b[0m,\n",
       "    \u001b[32m'UF_Municipio'\u001b[0m: \u001b[1m[\u001b[0m\u001b[32m'SP/Itatiba'\u001b[0m\u001b[1m]\u001b[0m,\n",
       "    \u001b[32m'Servicos_da_Inspecao'\u001b[0m: \u001b[1m[\u001b[0m\u001b[32m'230 - COLETIVO - RADIODIFUSÃO SONORA EM FREQÜÊNCIA MODULADA'\u001b[0m\u001b[1m]\u001b[0m,\n",
       "    \u001b[32m'Qnt_de_emissoes_na_faixa'\u001b[0m: \u001b[32m'1'\u001b[0m,\n",
       "    \u001b[32m'Emissoes_nao_autorizadas'\u001b[0m: \u001b[32m'0'\u001b[0m,\n",
       "    \u001b[32m'Horas_de_Preparacao'\u001b[0m: \u001b[32m'2'\u001b[0m,\n",
       "    \u001b[32m'Horas_de_Deslocamento'\u001b[0m: \u001b[32m'0'\u001b[0m,\n",
       "    \u001b[32m'Horas_de_Execucao'\u001b[0m: \u001b[32m'24'\u001b[0m,\n",
       "    \u001b[32m'Horas_de_Conclusao'\u001b[0m: \u001b[32m'4'\u001b[0m,\n",
       "    \u001b[32m'SAV'\u001b[0m: \u001b[32m''\u001b[0m,\n",
       "    \u001b[32m'PCDP'\u001b[0m: \u001b[32m''\u001b[0m,\n",
       "    \u001b[32m'Procedimentos'\u001b[0m: \u001b[1m[\u001b[0m\u001b[1m]\u001b[0m,\n",
       "    \u001b[32m'Latitude'\u001b[0m: \u001b[32m'-23.0175'\u001b[0m,\n",
       "    \u001b[32m'Longitude'\u001b[0m: \u001b[32m'-46.884722'\u001b[0m,\n",
       "    \u001b[32m'Uso_de_PF'\u001b[0m: \u001b[32m'Não se aplica PF - uso apenas de formulários'\u001b[0m,\n",
       "    \u001b[32m'Acao_de_risco_a_vida_criada'\u001b[0m: \u001b[32m'Não'\u001b[0m,\n",
       "    \u001b[32m'Frequencia_Inicial'\u001b[0m: \u001b[32m'102.9'\u001b[0m,\n",
       "    \u001b[32m'Unidade_da_Frequencia_Inicial'\u001b[0m: \u001b[32m'MHz'\u001b[0m,\n",
       "    \u001b[32m'Frequencia_Final'\u001b[0m: \u001b[32m'102.9'\u001b[0m,\n",
       "    \u001b[32m'Unidade_da_Frequencia_Final'\u001b[0m: \u001b[32m'MHz'\u001b[0m,\n",
       "    \u001b[32m'Agrupamento'\u001b[0m: \u001b[32m''\u001b[0m,\n",
       "    \u001b[32m'AppFiscaliza'\u001b[0m: \u001b[32m'0'\u001b[0m,\n",
       "    \u001b[32m'Relatorio_de_Monitoramento'\u001b[0m: \u001b[32m'\u001b[0m\u001b[32m{\u001b[0m\u001b[32m\"numero\"=>\"0191899\", \"link_acesso\"=>\"https://seihm.anatel\u001b[0m\n",
       "\u001b[32m.gov.br/sei/controlador.php?\u001b[0m\u001b[32macao\u001b[0m\u001b[32m=\u001b[0m\u001b[32mprocedimento_trabalhar\u001b[0m\u001b[32m&\u001b[0m\u001b[32mid_procedimento\u001b[0m\u001b[32m=\u001b[0m\u001b[32m1964149\u001b[0m\u001b[32m&\u001b[0m\u001b[32mid_documento\u001b[0m\u001b[32m=\u001b[0m\n",
       "\u001b[32m1964508\"\u001b[0m\u001b[32m}\u001b[0m\u001b[32m'\u001b[0m,\n",
       "    \u001b[32m'Reservar_Instrumentos'\u001b[0m: \u001b[32m'0'\u001b[0m,\n",
       "    \u001b[32m'Utilizou_algum_instrumento'\u001b[0m: \u001b[32m'0'\u001b[0m,\n",
       "    \u001b[32m'id_ACAO'\u001b[0m: \u001b[1;36m72088\u001b[0m,\n",
       "    \u001b[32m'nome_ACAO'\u001b[0m: \u001b[32m'ACAO_GR01_2021_0688'\u001b[0m,\n",
       "    \u001b[32m'descricao_ACAO'\u001b[0m: \u001b[32m''\u001b[0m,\n",
       "    \u001b[32m'Users'\u001b[0m: \u001b[1m[\u001b[0m\n",
       "        \u001b[32m'Alexandre Elias de Andrade Oliveira'\u001b[0m,\n",
       "        \u001b[32m'Alexandre Freitas de Lima'\u001b[0m,\n",
       "        \u001b[32m'Alexandre Inacio'\u001b[0m,\n",
       "        \u001b[32m'Alexandre Junzo Hamada'\u001b[0m,\n",
       "        \u001b[32m'Alfredo de Andrade Filho'\u001b[0m,\n",
       "        \u001b[32m'Ananias Pereira'\u001b[0m,\n",
       "        \u001b[32m'Antonio Carlos Cardoso de Mello'\u001b[0m,\n",
       "        \u001b[32m'Aparecido Sebastiao da Silva'\u001b[0m,\n",
       "        \u001b[32m'Arthur Pisaruk'\u001b[0m,\n",
       "        \u001b[32m'Carlos Augusto de Carvalho'\u001b[0m,\n",
       "        \u001b[32m'Carlos Eduardo Guimaraes Silveira'\u001b[0m,\n",
       "        \u001b[32m'Carlos da Paixao Filho'\u001b[0m,\n",
       "        \u001b[32m'Celio Yukio Takahashi'\u001b[0m,\n",
       "        \u001b[32m'Celso Luiz Maximino'\u001b[0m,\n",
       "        \u001b[32m'Diogo Caldeira'\u001b[0m,\n",
       "        \u001b[32m'Ediceu Beraldi'\u001b[0m,\n",
       "        \u001b[32m'Eduardo Narkevicius'\u001b[0m,\n",
       "        \u001b[32m'Elcio Maehara'\u001b[0m,\n",
       "        \u001b[32m'Eustaquio Lages Duarte'\u001b[0m,\n",
       "        \u001b[32m'Fiscal UD'\u001b[0m,\n",
       "        \u001b[32m'Gauber Albuquerque'\u001b[0m,\n",
       "        \u001b[32m'Gilson Ponce Ayres Filho'\u001b[0m,\n",
       "        \u001b[32m'Helio Lopes de Carvalho Filho'\u001b[0m,\n",
       "        \u001b[32m'Higor da Paz Melo'\u001b[0m,\n",
       "        \u001b[32m'Hugo Santana Lima'\u001b[0m,\n",
       "        \u001b[32m'Humberto Barbosa Vinagre'\u001b[0m,\n",
       "        \u001b[32m'Jamilson Evangelista'\u001b[0m,\n",
       "        \u001b[32m'Joao Yokoyama'\u001b[0m,\n",
       "        \u001b[32m'Joaquim Miranda'\u001b[0m,\n",
       "        \u001b[32m'José Antônio S. Sanches'\u001b[0m,\n",
       "        \u001b[32m'Julio Cesar de Assis Santos'\u001b[0m,\n",
       "        \u001b[32m'Kiyotomo Kawamura'\u001b[0m,\n",
       "        \u001b[32m'Laert Calil Junior'\u001b[0m,\n",
       "        \u001b[32m'Lannei Vilela Moraes'\u001b[0m,\n",
       "        \u001b[32m'Luis Lagomes'\u001b[0m,\n",
       "        \u001b[32m'Luiz Vinicios Mielniczuk Seelig'\u001b[0m,\n",
       "        \u001b[32m'Marcelo Augusto Scacabarozi'\u001b[0m,\n",
       "        \u001b[32m'Marcelo Vaz Netto'\u001b[0m,\n",
       "        \u001b[32m'Marcio Colazingari'\u001b[0m,\n",
       "        \u001b[32m'Marcio Costa'\u001b[0m,\n",
       "        \u001b[32m'Marcio Rodrigues Maciel'\u001b[0m,\n",
       "        \u001b[32m'Marcos Antônio Rodrigues'\u001b[0m,\n",
       "        \u001b[32m'Marcos Juliano Valim da Silva'\u001b[0m,\n",
       "        \u001b[32m'Maria Teresa Flosi Garrafa'\u001b[0m,\n",
       "        \u001b[32m'Mario Augusto Volpini'\u001b[0m,\n",
       "        \u001b[32m'Murilo Amaro'\u001b[0m,\n",
       "        \u001b[32m'Osnir Lopes'\u001b[0m,\n",
       "        \u001b[32m'Paulo Diogo Costa'\u001b[0m,\n",
       "        \u001b[32m'Pedro Arai'\u001b[0m,\n",
       "        \u001b[32m'Renato Sadao Kushioyada'\u001b[0m,\n",
       "        \u001b[32m'Ricardo Santos Marques'\u001b[0m,\n",
       "        \u001b[32m'Ricardo da Silva e Souza'\u001b[0m,\n",
       "        \u001b[32m'Roberto Carlos Soares Campos'\u001b[0m,\n",
       "        \u001b[32m'Roberto Ferreira dos Santos'\u001b[0m,\n",
       "        \u001b[32m'Roberto Takata'\u001b[0m,\n",
       "        \u001b[32m'Rodrigo Barbosa de Paula'\u001b[0m,\n",
       "        \u001b[32m'Rogerio Zambotto'\u001b[0m,\n",
       "        \u001b[32m'Ronaldo da Silva Alves Batista'\u001b[0m,\n",
       "        \u001b[32m'Sergio Pereira'\u001b[0m,\n",
       "        \u001b[32m'Thiago Silva'\u001b[0m,\n",
       "        \u001b[32m'Thomaz Honma Ishida'\u001b[0m,\n",
       "        \u001b[32m'Vinicius Paiva de Oliveira'\u001b[0m,\n",
       "        \u001b[32m'Vitor Zelada'\u001b[0m,\n",
       "        \u001b[32m'Wellington Devechi Piauilino'\u001b[0m,\n",
       "        \u001b[32m'Wladimir Senise'\u001b[0m\n",
       "    \u001b[1m]\u001b[0m,\n",
       "    \u001b[32m'Atualizado'\u001b[0m: \u001b[32m'Atualizado por Ronaldo da Silva Alves Batista em 17/09/2021 às 21:31:08'\u001b[0m\n",
       "\u001b[1m}\u001b[0m\n"
      ]
     },
     "metadata": {},
     "output_type": "display_data"
    }
   ],
   "source": [
    "issue = '72145'\n",
    "detalhes = detalhar_issue(issue, login, senha, teste=True)\n",
    "console.print(detalhes)"
   ]
  },
  {
   "cell_type": "markdown",
   "metadata": {},
   "source": [
    "Agora vamos testar o retorno de informações para um Inspeção no Fiscaliza de produção `teste=False`."
   ]
  },
  {
   "cell_type": "markdown",
   "metadata": {},
   "source": [
    "### Validação de Dados e Formatação para submeter à API\n",
    "A função anterior somente retorna as informações já constantes em dada Inspeção ( Issue ) do Fiscaliza. Para alterarmos ou atualizarmos dada inspeção, precisamos passar um dicionário de dados ou um caminho para um arquivo `.json` ou pickle `.pkl` onde conste esse dicionário de dados serializado. O exemplo seguinte mostra um dicionário de dados com as informações básicas constantes de uma monitoração e a formatação que elas são validadas:"
   ]
  },
  {
   "cell_type": "code",
   "execution_count": null,
   "metadata": {},
   "outputs": [],
   "source": [
    "d = {}\n",
    "\n",
    "d['Classe_da_Inspecao'] = 'Técnica' # str\n",
    "\n",
    "d['Tipo_de_Inspecao'] = 'Uso do Espectro - Monitoração' #str\n",
    "\n",
    "d['description'] = '''Atendimento à Ação ACAO_GR01_2021_0792 #74488, instruída pela Denúncia 202108182925413 (7283673), \n",
    "verificação da Potência e Intensidade de Campo Elétrico da Frequência 102.9MHz e seus harmônicos, \n",
    "além de Radiogoniometria para checagem se o transmissor está instalado no local autorizado: Morro do Mombuca S/N Itatiba/SP..''' #str\n",
    "\n",
    "d['Fiscal_Responsavel'] = 'Ronaldo da Silva Alves Batista' #str\n",
    "\n",
    "d['Fiscais'] = ['Ronaldo da Silva Alves Batista'] #string ou lista de strings\n",
    "\n",
    "# # Windows\n",
    "d['Html'] = r'D:\\html_simples.html' #str\n",
    "\n",
    "# #ou \n",
    "\n",
    "# #Unix d['Html'] = '/d/OneDrive - ANATEL/Monitoramento/53504.0005432021-55/Guarulhos.html' #str\n",
    "            \n",
    "d['Gerar_Relatorio'] = 1 # int 0 ou 1\n",
    "\n",
    "d['Frequencia_Inicial']  = 102.9 #int ou float\n",
    "\n",
    "d['Unidade_da_Frequencia_Inicial'] = 'MHz' #string\n",
    "\n",
    "d['Frequencia_Final'] = 102.9 #int ou float\n",
    "\n",
    "d['Unidade_da_Frequencia_Final'] = 'MHz' #string\n",
    "\n",
    "d['start_date'] = '2021-09-13' #YYYY-MM-DD #string nesse formato\n",
    "\n",
    "d['due_date'] = '2021-12-31'  #YYYY-MM-DD #string nesse formato\n",
    "\n",
    "d['UF_Municipio'] = \"SP/Itatiba\" # string ou Lista de Strings: [\"SP/São Paulo\", \"SP/Sorocaba\"]\n",
    "\n",
    "d['Servicos_da_Inspecao'] = ['230'] # String ou Lista de Strings\n",
    "\n",
    "d['Qnt_de_emissoes_na_faixa'] = 1 # int\n",
    "\n",
    "d['Emissoes_nao_autorizadas'] = 0 # int\n",
    "\n",
    "d['Horas_de_Preparacao'] = 2 # int\n",
    "\n",
    "d['Horas_de_Deslocamento'] = 0 # int\n",
    "\n",
    "d['Horas_de_Execucao'] = 24 # int\n",
    "\n",
    "d['Horas_de_Conclusao'] = 4 # int\n",
    "\n",
    "d['Latitude'] = -23.017500 # float\n",
    "\n",
    "d['Longitude'] = -46.884722 # float\n",
    "\n",
    "d['Uso_de_PF'] = 'Não se aplica PF - uso apenas de formulários' # string\n",
    "\n",
    "d['Acao_de_risco_a_vida_criada'] = 'Não' # string Sim | Não\n",
    "\n",
    "d['Impossibilidade_acesso_online'] = '0' # string '0' | '1'\n",
    "\n",
    "d['Reservar_Instrumentos'] = '0' #string '0' = Não | '1' = 'Sim'\n",
    "\n",
    "d['Utilizou_algum_instrumento'] = '0'\n",
    "\n",
    "# d['notes'] = \"\"\"A intensidade de campo elétrico do 2º e 3º Harmônico não apresentou níveis fora da tolerância em nenhuma das estações medidas, somente ruído foi detectado nas monitorações desses canais. Não foi possível efetuar uma radiogoniometria com localização exata, somente uma mancha de maior probabilidade da origem do sinal, as coordenadas do transmissor principal da autorizada estava contido nessa mancha e de acordo com os items 3.4.1 a 3.4.4, os níveis de sinal diminuem conforme vamos nos afastando da localidade do transmissor autorizado.A estação mais próxima do Grande ABC, no Aeroporto de Congonhas em São Paulo, foi a que apresentou o sinal mais fraco com grande interferência do áudio na intermodulação.Em suma, não houve indícios de irregularidade no período monitorado.\"\"\" # string\n",
    "\n",
    "# No caso de uma tabela, string formatada como csv\n",
    "\n",
    "d['notes'] = [\"\"\"Faixa, Classe Especial, Classe A, Classe B, Classe C\n",
    "                VHF-L,0,5,7,5\n",
    "                VHF-H,0,12,1,0\n",
    "                UHF,1,1,2,4\n",
    "                FM,5,1,0,0\n",
    "                RADCOM,0,0,0,0\n",
    "                Outorgadas com indícios de irregularidades,1,2,3,4\n",
    "              \"\"\",\n",
    "              \"\"\"[{\"Banda\":\"87.800 - 108.000 MHz\",\"Sinais\":35,\"Licenciados\":31,\"NaoLicenciados\":4,\"NaoLicenciaveis\":0},\n",
    "                  {\"Banda\":\"470.000 - 698.000 MHz\",\"Sinais\":19,\"Licenciados\":19,\"NaoLicenciados\":0,\"NaoLicenciaveis\":0}]\n",
    "              \"\"\"]\n",
    "\n",
    "d['uploads'] = {'path': r'D:\\OneDrive - ANATEL\\Monitoramento\\Processos\\Diogo\\Mapa3\\106_1.csv', \n",
    "                'filename': \"Lista_de_Exceção_PMEC_Etapa_2_Sorocaba\", \n",
    "                'description': \"Lista de Emissões Desmascaradas e Não Licenciadas\",\n",
    "                'content_type': '.csv'\n",
    "               }"
   ]
  },
  {
   "cell_type": "code",
   "execution_count": null,
   "metadata": {},
   "outputs": [],
   "source": []
  },
  {
   "cell_type": "markdown",
   "metadata": {},
   "source": [
    "A API do Redmine possui formatos específicos de como esses campos devem ser submetidos, validar os formatos acima e fazer essa formatação exigida pela API do Redmine é o papel da função `validar_dicionario`."
   ]
  },
  {
   "cell_type": "code",
   "execution_count": null,
   "metadata": {},
   "outputs": [
    {
     "data": {
      "text/markdown": [
       "<h4 id=\"validar_dicionario\" class=\"doc_header\"><code>validar_dicionario</code><a href=\"https://github.com/ronaldokun/fiscaliza/tree/master/fiscaliza/redmine.py#L111\" class=\"source_link\" style=\"float:right\">[source]</a></h4>\n",
       "\n",
       "> <code>validar_dicionario</code>(**`data_dict`**:\"Dicionário de Dados ou Caminho para o arquivo .json\", **`inspecao`**:\"Número da Inspeção a ser relatada\", **`login`**:\"Login Anatel do Usuário\"=*`None`*, **`senha`**:\"Senha Utilizada nos Sistemas Interativos da Anatel\"=*`None`*, **`fiscaliza`**:\"Objeto Redmine logado, opcional ao login e senha\"=*`None`*, **`teste`**:\"Caso verdadeiro o Fiscaliza de Teste ( Homologação ) é utilizado\"=*`True`*, **`save_path`**:\"Caminho para salvar o dicionário formatado\"=*`None`*)\n",
       "\n",
       "Valida as informações de data_dict e as formata como exigido pela API do Redmine.\n",
       "Opcionalmente salva o dicionário serializado como .json caso seja passado um `save_path` válido\n",
       "Returns: dicionário com os dados formatados"
      ],
      "text/plain": [
       "<IPython.core.display.Markdown object>"
      ]
     },
     "metadata": {},
     "output_type": "display_data"
    }
   ],
   "source": [
    "#hide\n",
    "show_doc(validar_dicionario)"
   ]
  },
  {
   "cell_type": "code",
   "execution_count": null,
   "metadata": {},
   "outputs": [],
   "source": [
    "dados = validar_dicionario(d, issue, login, senha, teste=True)"
   ]
  },
  {
   "cell_type": "code",
   "execution_count": null,
   "metadata": {},
   "outputs": [
    {
     "data": {
      "text/html": [
       "<pre style=\"white-space:pre;overflow-x:auto;line-height:normal;font-family:Menlo,'DejaVu Sans Mono',consolas,'Courier New',monospace\"><span style=\"color: #000080; text-decoration-color: #000080\">Classe_da_Inspecao </span><span style=\"color: #800000; text-decoration-color: #800000\">-&gt; </span><span style=\"color: #008000; text-decoration-color: #008000; font-weight: bold\">{</span><span style=\"color: #008000; text-decoration-color: #008000\">'id'</span><span style=\"color: #008000; text-decoration-color: #008000\">: </span><span style=\"color: #008000; text-decoration-color: #008000; font-weight: bold\">89</span><span style=\"color: #008000; text-decoration-color: #008000\">, </span><span style=\"color: #008000; text-decoration-color: #008000\">'value'</span><span style=\"color: #008000; text-decoration-color: #008000\">: </span><span style=\"color: #008000; text-decoration-color: #008000\">'{\"valor\":\"Técnica\",\"texto\":\"Técnica\"}'</span><span style=\"color: #008000; text-decoration-color: #008000; font-weight: bold\">}</span>\n",
       "</pre>\n"
      ],
      "text/plain": [
       "\u001b[34mClasse_da_Inspecao \u001b[0m\u001b[31m-> \u001b[0m\u001b[1;32m{\u001b[0m\u001b[32m'id'\u001b[0m\u001b[32m: \u001b[0m\u001b[1;32m89\u001b[0m\u001b[32m, \u001b[0m\u001b[32m'value'\u001b[0m\u001b[32m: \u001b[0m\u001b[32m'\u001b[0m\u001b[32m{\u001b[0m\u001b[32m\"valor\":\"Técnica\",\"texto\":\"Técnica\"\u001b[0m\u001b[32m}\u001b[0m\u001b[32m'\u001b[0m\u001b[1;32m}\u001b[0m\n"
      ]
     },
     "metadata": {},
     "output_type": "display_data"
    },
    {
     "data": {
      "text/html": [
       "<pre style=\"white-space:pre;overflow-x:auto;line-height:normal;font-family:Menlo,'DejaVu Sans Mono',consolas,'Courier New',monospace\"><span style=\"color: #000080; text-decoration-color: #000080\">Tipo_de_Inspecao </span><span style=\"color: #800000; text-decoration-color: #800000\">-&gt; </span><span style=\"color: #008000; text-decoration-color: #008000; font-weight: bold\">{</span><span style=\"color: #008000; text-decoration-color: #008000\">'id'</span><span style=\"color: #008000; text-decoration-color: #008000\">: </span><span style=\"color: #008000; text-decoration-color: #008000; font-weight: bold\">2</span><span style=\"color: #008000; text-decoration-color: #008000\">, </span><span style=\"color: #008000; text-decoration-color: #008000\">'value'</span><span style=\"color: #008000; text-decoration-color: #008000\">: </span><span style=\"color: #008000; text-decoration-color: #008000\">'{\"valor\":\"Uso do Espectro - Monitoração\",\"texto\":\"Uso</span>\n",
       "<span style=\"color: #008000; text-decoration-color: #008000\">do Espectro - Monitoração\"}'</span><span style=\"color: #008000; text-decoration-color: #008000; font-weight: bold\">}</span>\n",
       "</pre>\n"
      ],
      "text/plain": [
       "\u001b[34mTipo_de_Inspecao \u001b[0m\u001b[31m-> \u001b[0m\u001b[1;32m{\u001b[0m\u001b[32m'id'\u001b[0m\u001b[32m: \u001b[0m\u001b[1;32m2\u001b[0m\u001b[32m, \u001b[0m\u001b[32m'value'\u001b[0m\u001b[32m: \u001b[0m\u001b[32m'\u001b[0m\u001b[32m{\u001b[0m\u001b[32m\"valor\":\"Uso do Espectro - Monitoração\",\"texto\":\"Uso\u001b[0m\n",
       "\u001b[32mdo Espectro - Monitoração\"\u001b[0m\u001b[32m}\u001b[0m\u001b[32m'\u001b[0m\u001b[1;32m}\u001b[0m\n"
      ]
     },
     "metadata": {},
     "output_type": "display_data"
    },
    {
     "data": {
      "text/html": [
       "<pre style=\"white-space:pre;overflow-x:auto;line-height:normal;font-family:Menlo,'DejaVu Sans Mono',consolas,'Courier New',monospace\"><span style=\"color: #000080; text-decoration-color: #000080\">description </span><span style=\"color: #800000; text-decoration-color: #800000\">-&gt; </span><span style=\"color: #008000; text-decoration-color: #008000\">Atendimento à Ação ACAO_GR01_2021_0792 #</span><span style=\"color: #008000; text-decoration-color: #008000; font-weight: bold\">74488</span><span style=\"color: #008000; text-decoration-color: #008000\">, instruída pela Denúncia </span>\n",
       "<span style=\"color: #008000; text-decoration-color: #008000; font-weight: bold\">202108182925413</span><span style=\"color: #008000; text-decoration-color: #008000\"> </span><span style=\"color: #008000; text-decoration-color: #008000; font-weight: bold\">(</span><span style=\"color: #008000; text-decoration-color: #008000; font-weight: bold\">7283673</span><span style=\"color: #008000; text-decoration-color: #008000; font-weight: bold\">)</span><span style=\"color: #008000; text-decoration-color: #008000\">, </span>\n",
       "<span style=\"color: #008000; text-decoration-color: #008000\">verificação da Potência e Intensidade de Campo Elétrico da Frequência </span><span style=\"color: #008000; text-decoration-color: #008000; font-weight: bold\">102.</span><span style=\"color: #008000; text-decoration-color: #008000\">9MHz e seus </span>\n",
       "<span style=\"color: #008000; text-decoration-color: #008000\">harmônicos, </span>\n",
       "<span style=\"color: #008000; text-decoration-color: #008000\">além de Radiogoniometria para checagem se o transmissor está instalado no local autorizado: </span>\n",
       "<span style=\"color: #008000; text-decoration-color: #008000\">Morro do Mombuca S/N Itatiba/SP..</span>\n",
       "</pre>\n"
      ],
      "text/plain": [
       "\u001b[34mdescription \u001b[0m\u001b[31m-> \u001b[0m\u001b[32mAtendimento à Ação ACAO_GR01_2021_0792 #\u001b[0m\u001b[1;32m74488\u001b[0m\u001b[32m, instruída pela Denúncia \u001b[0m\n",
       "\u001b[1;32m202108182925413\u001b[0m\u001b[32m \u001b[0m\u001b[1;32m(\u001b[0m\u001b[1;32m7283673\u001b[0m\u001b[1;32m)\u001b[0m\u001b[32m, \u001b[0m\n",
       "\u001b[32mverificação da Potência e Intensidade de Campo Elétrico da Frequência \u001b[0m\u001b[1;32m102.\u001b[0m\u001b[32m9MHz e seus \u001b[0m\n",
       "\u001b[32mharmônicos, \u001b[0m\n",
       "\u001b[32malém de Radiogoniometria para checagem se o transmissor está instalado no local autorizado: \u001b[0m\n",
       "\u001b[32mMorro do Mombuca S/N Itatiba/SP..\u001b[0m\n"
      ]
     },
     "metadata": {},
     "output_type": "display_data"
    },
    {
     "data": {
      "text/html": [
       "<pre style=\"white-space:pre;overflow-x:auto;line-height:normal;font-family:Menlo,'DejaVu Sans Mono',consolas,'Courier New',monospace\"><span style=\"color: #000080; text-decoration-color: #000080\">Fiscal_Responsavel </span><span style=\"color: #800000; text-decoration-color: #800000\">-&gt; </span><span style=\"color: #008000; text-decoration-color: #008000; font-weight: bold\">{</span><span style=\"color: #008000; text-decoration-color: #008000\">'id'</span><span style=\"color: #008000; text-decoration-color: #008000\">: </span><span style=\"color: #008000; text-decoration-color: #008000; font-weight: bold\">25</span><span style=\"color: #008000; text-decoration-color: #008000\">, </span><span style=\"color: #008000; text-decoration-color: #008000\">'value'</span><span style=\"color: #008000; text-decoration-color: #008000\">: </span><span style=\"color: #008000; text-decoration-color: #008000; font-weight: bold\">887</span><span style=\"color: #008000; text-decoration-color: #008000; font-weight: bold\">}</span>\n",
       "</pre>\n"
      ],
      "text/plain": [
       "\u001b[34mFiscal_Responsavel \u001b[0m\u001b[31m-> \u001b[0m\u001b[1;32m{\u001b[0m\u001b[32m'id'\u001b[0m\u001b[32m: \u001b[0m\u001b[1;32m25\u001b[0m\u001b[32m, \u001b[0m\u001b[32m'value'\u001b[0m\u001b[32m: \u001b[0m\u001b[1;32m887\u001b[0m\u001b[1;32m}\u001b[0m\n"
      ]
     },
     "metadata": {},
     "output_type": "display_data"
    },
    {
     "data": {
      "text/html": [
       "<pre style=\"white-space:pre;overflow-x:auto;line-height:normal;font-family:Menlo,'DejaVu Sans Mono',consolas,'Courier New',monospace\"><span style=\"color: #000080; text-decoration-color: #000080\">Fiscais </span><span style=\"color: #800000; text-decoration-color: #800000\">-&gt; </span><span style=\"color: #008000; text-decoration-color: #008000; font-weight: bold\">{</span><span style=\"color: #008000; text-decoration-color: #008000\">'id'</span><span style=\"color: #008000; text-decoration-color: #008000\">: </span><span style=\"color: #008000; text-decoration-color: #008000; font-weight: bold\">26</span><span style=\"color: #008000; text-decoration-color: #008000\">, </span><span style=\"color: #008000; text-decoration-color: #008000\">'value'</span><span style=\"color: #008000; text-decoration-color: #008000\">: </span><span style=\"color: #008000; text-decoration-color: #008000; font-weight: bold\">[</span><span style=\"color: #008000; text-decoration-color: #008000; font-weight: bold\">887</span><span style=\"color: #008000; text-decoration-color: #008000; font-weight: bold\">]}</span>\n",
       "</pre>\n"
      ],
      "text/plain": [
       "\u001b[34mFiscais \u001b[0m\u001b[31m-> \u001b[0m\u001b[1;32m{\u001b[0m\u001b[32m'id'\u001b[0m\u001b[32m: \u001b[0m\u001b[1;32m26\u001b[0m\u001b[32m, \u001b[0m\u001b[32m'value'\u001b[0m\u001b[32m: \u001b[0m\u001b[1;32m[\u001b[0m\u001b[1;32m887\u001b[0m\u001b[1;32m]\u001b[0m\u001b[1;32m}\u001b[0m\n"
      ]
     },
     "metadata": {},
     "output_type": "display_data"
    },
    {
     "data": {
      "text/html": [
       "<pre style=\"white-space:pre;overflow-x:auto;line-height:normal;font-family:Menlo,'DejaVu Sans Mono',consolas,'Courier New',monospace\"><span style=\"color: #000080; text-decoration-color: #000080\">Html </span><span style=\"color: #800000; text-decoration-color: #800000\">-&gt; </span><span style=\"color: #008000; text-decoration-color: #008000; font-weight: bold\">{</span><span style=\"color: #008000; text-decoration-color: #008000\">'id'</span><span style=\"color: #008000; text-decoration-color: #008000\">: </span><span style=\"color: #008000; text-decoration-color: #008000; font-weight: bold\">543</span><span style=\"color: #008000; text-decoration-color: #008000\">, </span><span style=\"color: #008000; text-decoration-color: #008000\">'value'</span><span style=\"color: #008000; text-decoration-color: #008000\">: '</span><span style=\"color: #008000; text-decoration-color: #008000; font-weight: bold\">&lt;</span><span style=\"color: #008000; text-decoration-color: #008000\">!DOCTYPE html</span><span style=\"color: #008000; text-decoration-color: #008000; font-weight: bold\">&gt;</span><span style=\"color: #008000; text-decoration-color: #008000\">\\n</span><span style=\"color: #008000; text-decoration-color: #008000; font-weight: bold\">&lt;html</span><span style=\"color: #008000; text-decoration-color: #008000\"> </span><span style=\"color: #008000; text-decoration-color: #008000\">lang</span><span style=\"color: #008000; text-decoration-color: #008000\">=</span><span style=\"color: #008000; text-decoration-color: #008000\">\"pt-br\"</span><span style=\"color: #008000; text-decoration-color: #008000; font-weight: bold\">&gt;</span><span style=\"color: #008000; text-decoration-color: #008000\">\\n\\n</span><span style=\"color: #008000; text-decoration-color: #008000; font-weight: bold\">&lt;head&gt;</span><span style=\"color: #008000; text-decoration-color: #008000\">\\n    </span>\n",
       "<span style=\"color: #008000; text-decoration-color: #008000; font-weight: bold\">&lt;title&gt;</span><span style=\"color: #008000; text-decoration-color: #008000\">Título da página</span><span style=\"color: #008000; text-decoration-color: #008000; font-weight: bold\">&lt;</span><span style=\"color: #008000; text-decoration-color: #008000\">/t</span>\n",
       "<span style=\"color: #008000; text-decoration-color: #008000\">...</span>\n",
       "<span style=\"color: #008000; text-decoration-color: #008000; font-weight: bold\">8</span><span style=\"color: #008000; text-decoration-color: #008000\">\"</span><span style=\"color: #008000; text-decoration-color: #008000; font-weight: bold\">&gt;</span><span style=\"color: #008000; text-decoration-color: #008000\">\\n</span><span style=\"color: #008000; text-decoration-color: #008000; font-weight: bold\">&lt;</span><span style=\"color: #008000; text-decoration-color: #008000\">/head</span><span style=\"color: #008000; text-decoration-color: #008000; font-weight: bold\">&gt;</span><span style=\"color: #008000; text-decoration-color: #008000\">\\n\\n</span><span style=\"color: #008000; text-decoration-color: #008000; font-weight: bold\">&lt;body&gt;</span><span style=\"color: #008000; text-decoration-color: #008000\">\\n    Aqui vai o código HTML que fará seu site </span>\n",
       "<span style=\"color: #008000; text-decoration-color: #008000\">aparecer.\\n</span><span style=\"color: #008000; text-decoration-color: #008000; font-weight: bold\">&lt;</span><span style=\"color: #008000; text-decoration-color: #008000\">/body</span><span style=\"color: #008000; text-decoration-color: #008000; font-weight: bold\">&gt;</span><span style=\"color: #008000; text-decoration-color: #008000\">\\n\\n</span><span style=\"color: #008000; text-decoration-color: #008000; font-weight: bold\">&lt;</span><span style=\"color: #008000; text-decoration-color: #008000\">/html</span><span style=\"color: #008000; text-decoration-color: #008000; font-weight: bold\">&gt;</span><span style=\"color: #008000; text-decoration-color: #008000\">'</span><span style=\"color: #008000; text-decoration-color: #008000; font-weight: bold\">}</span>\n",
       "</pre>\n"
      ],
      "text/plain": [
       "\u001b[34mHtml \u001b[0m\u001b[31m-> \u001b[0m\u001b[1;32m{\u001b[0m\u001b[32m'id'\u001b[0m\u001b[32m: \u001b[0m\u001b[1;32m543\u001b[0m\u001b[32m, \u001b[0m\u001b[32m'value'\u001b[0m\u001b[32m: '\u001b[0m\u001b[1;32m<\u001b[0m\u001b[32m!DOCTYPE html\u001b[0m\u001b[1;32m>\u001b[0m\u001b[32m\\n\u001b[0m\u001b[1;32m<\u001b[0m\u001b[1;32mhtml\u001b[0m\u001b[32m \u001b[0m\u001b[32mlang\u001b[0m\u001b[32m=\u001b[0m\u001b[32m\"pt\u001b[0m\u001b[32m-br\"\u001b[0m\u001b[1;32m>\u001b[0m\u001b[32m\\n\\n\u001b[0m\u001b[1;32m<\u001b[0m\u001b[1;32mhead\u001b[0m\u001b[1;32m>\u001b[0m\u001b[32m\\n    \u001b[0m\n",
       "\u001b[1;32m<\u001b[0m\u001b[1;32mtitle\u001b[0m\u001b[1;32m>\u001b[0m\u001b[32mTítulo da página\u001b[0m\u001b[1;32m<\u001b[0m\u001b[32m/\u001b[0m\u001b[32mt\u001b[0m\n",
       "\u001b[32m...\u001b[0m\n",
       "\u001b[1;32m8\u001b[0m\u001b[32m\"\u001b[0m\u001b[1;32m>\u001b[0m\u001b[32m\\n\u001b[0m\u001b[1;32m<\u001b[0m\u001b[32m/\u001b[0m\u001b[32mhead\u001b[0m\u001b[1;32m>\u001b[0m\u001b[32m\\n\\n\u001b[0m\u001b[1;32m<\u001b[0m\u001b[1;32mbody\u001b[0m\u001b[1;32m>\u001b[0m\u001b[32m\\n    Aqui vai o código HTML que fará seu site \u001b[0m\n",
       "\u001b[32maparecer.\\n\u001b[0m\u001b[1;32m<\u001b[0m\u001b[32m/\u001b[0m\u001b[32mbody\u001b[0m\u001b[1;32m>\u001b[0m\u001b[32m\\n\\n\u001b[0m\u001b[1;32m<\u001b[0m\u001b[32m/\u001b[0m\u001b[32mhtml\u001b[0m\u001b[1;32m>\u001b[0m\u001b[32m'\u001b[0m\u001b[1;32m}\u001b[0m\n"
      ]
     },
     "metadata": {},
     "output_type": "display_data"
    },
    {
     "data": {
      "text/html": [
       "<pre style=\"white-space:pre;overflow-x:auto;line-height:normal;font-family:Menlo,'DejaVu Sans Mono',consolas,'Courier New',monospace\"><span style=\"color: #000080; text-decoration-color: #000080\">Gerar_Relatorio </span><span style=\"color: #800000; text-decoration-color: #800000\">-&gt; </span><span style=\"color: #008000; text-decoration-color: #008000; font-weight: bold\">{</span><span style=\"color: #008000; text-decoration-color: #008000\">'id'</span><span style=\"color: #008000; text-decoration-color: #008000\">: </span><span style=\"color: #008000; text-decoration-color: #008000; font-weight: bold\">541</span><span style=\"color: #008000; text-decoration-color: #008000\">, </span><span style=\"color: #008000; text-decoration-color: #008000\">'value'</span><span style=\"color: #008000; text-decoration-color: #008000\">: </span><span style=\"color: #008000; text-decoration-color: #008000; font-weight: bold\">1</span><span style=\"color: #008000; text-decoration-color: #008000; font-weight: bold\">}</span>\n",
       "</pre>\n"
      ],
      "text/plain": [
       "\u001b[34mGerar_Relatorio \u001b[0m\u001b[31m-> \u001b[0m\u001b[1;32m{\u001b[0m\u001b[32m'id'\u001b[0m\u001b[32m: \u001b[0m\u001b[1;32m541\u001b[0m\u001b[32m, \u001b[0m\u001b[32m'value'\u001b[0m\u001b[32m: \u001b[0m\u001b[1;32m1\u001b[0m\u001b[1;32m}\u001b[0m\n"
      ]
     },
     "metadata": {},
     "output_type": "display_data"
    },
    {
     "data": {
      "text/html": [
       "<pre style=\"white-space:pre;overflow-x:auto;line-height:normal;font-family:Menlo,'DejaVu Sans Mono',consolas,'Courier New',monospace\"><span style=\"color: #000080; text-decoration-color: #000080\">Frequencia_Inicial </span><span style=\"color: #800000; text-decoration-color: #800000\">-&gt; </span><span style=\"color: #008000; text-decoration-color: #008000; font-weight: bold\">{</span><span style=\"color: #008000; text-decoration-color: #008000\">'id'</span><span style=\"color: #008000; text-decoration-color: #008000\">: </span><span style=\"color: #008000; text-decoration-color: #008000; font-weight: bold\">156</span><span style=\"color: #008000; text-decoration-color: #008000\">, </span><span style=\"color: #008000; text-decoration-color: #008000\">'value'</span><span style=\"color: #008000; text-decoration-color: #008000\">: </span><span style=\"color: #008000; text-decoration-color: #008000; font-weight: bold\">102.9</span><span style=\"color: #008000; text-decoration-color: #008000; font-weight: bold\">}</span>\n",
       "</pre>\n"
      ],
      "text/plain": [
       "\u001b[34mFrequencia_Inicial \u001b[0m\u001b[31m-> \u001b[0m\u001b[1;32m{\u001b[0m\u001b[32m'id'\u001b[0m\u001b[32m: \u001b[0m\u001b[1;32m156\u001b[0m\u001b[32m, \u001b[0m\u001b[32m'value'\u001b[0m\u001b[32m: \u001b[0m\u001b[1;32m102.9\u001b[0m\u001b[1;32m}\u001b[0m\n"
      ]
     },
     "metadata": {},
     "output_type": "display_data"
    },
    {
     "data": {
      "text/html": [
       "<pre style=\"white-space:pre;overflow-x:auto;line-height:normal;font-family:Menlo,'DejaVu Sans Mono',consolas,'Courier New',monospace\"><span style=\"color: #000080; text-decoration-color: #000080\">Unidade_da_Frequencia_Inicial </span><span style=\"color: #800000; text-decoration-color: #800000\">-&gt; </span><span style=\"color: #008000; text-decoration-color: #008000; font-weight: bold\">{</span><span style=\"color: #008000; text-decoration-color: #008000\">'id'</span><span style=\"color: #008000; text-decoration-color: #008000\">: </span><span style=\"color: #008000; text-decoration-color: #008000; font-weight: bold\">157</span><span style=\"color: #008000; text-decoration-color: #008000\">, </span><span style=\"color: #008000; text-decoration-color: #008000\">'value'</span><span style=\"color: #008000; text-decoration-color: #008000\">: </span><span style=\"color: #008000; text-decoration-color: #008000\">'MHz'</span><span style=\"color: #008000; text-decoration-color: #008000; font-weight: bold\">}</span>\n",
       "</pre>\n"
      ],
      "text/plain": [
       "\u001b[34mUnidade_da_Frequencia_Inicial \u001b[0m\u001b[31m-> \u001b[0m\u001b[1;32m{\u001b[0m\u001b[32m'id'\u001b[0m\u001b[32m: \u001b[0m\u001b[1;32m157\u001b[0m\u001b[32m, \u001b[0m\u001b[32m'value'\u001b[0m\u001b[32m: \u001b[0m\u001b[32m'MHz'\u001b[0m\u001b[1;32m}\u001b[0m\n"
      ]
     },
     "metadata": {},
     "output_type": "display_data"
    },
    {
     "data": {
      "text/html": [
       "<pre style=\"white-space:pre;overflow-x:auto;line-height:normal;font-family:Menlo,'DejaVu Sans Mono',consolas,'Courier New',monospace\"><span style=\"color: #000080; text-decoration-color: #000080\">Frequencia_Final </span><span style=\"color: #800000; text-decoration-color: #800000\">-&gt; </span><span style=\"color: #008000; text-decoration-color: #008000; font-weight: bold\">{</span><span style=\"color: #008000; text-decoration-color: #008000\">'id'</span><span style=\"color: #008000; text-decoration-color: #008000\">: </span><span style=\"color: #008000; text-decoration-color: #008000; font-weight: bold\">158</span><span style=\"color: #008000; text-decoration-color: #008000\">, </span><span style=\"color: #008000; text-decoration-color: #008000\">'value'</span><span style=\"color: #008000; text-decoration-color: #008000\">: </span><span style=\"color: #008000; text-decoration-color: #008000; font-weight: bold\">102.9</span><span style=\"color: #008000; text-decoration-color: #008000; font-weight: bold\">}</span>\n",
       "</pre>\n"
      ],
      "text/plain": [
       "\u001b[34mFrequencia_Final \u001b[0m\u001b[31m-> \u001b[0m\u001b[1;32m{\u001b[0m\u001b[32m'id'\u001b[0m\u001b[32m: \u001b[0m\u001b[1;32m158\u001b[0m\u001b[32m, \u001b[0m\u001b[32m'value'\u001b[0m\u001b[32m: \u001b[0m\u001b[1;32m102.9\u001b[0m\u001b[1;32m}\u001b[0m\n"
      ]
     },
     "metadata": {},
     "output_type": "display_data"
    },
    {
     "data": {
      "text/html": [
       "<pre style=\"white-space:pre;overflow-x:auto;line-height:normal;font-family:Menlo,'DejaVu Sans Mono',consolas,'Courier New',monospace\"><span style=\"color: #000080; text-decoration-color: #000080\">Unidade_da_Frequencia_Final </span><span style=\"color: #800000; text-decoration-color: #800000\">-&gt; </span><span style=\"color: #008000; text-decoration-color: #008000; font-weight: bold\">{</span><span style=\"color: #008000; text-decoration-color: #008000\">'id'</span><span style=\"color: #008000; text-decoration-color: #008000\">: </span><span style=\"color: #008000; text-decoration-color: #008000; font-weight: bold\">159</span><span style=\"color: #008000; text-decoration-color: #008000\">, </span><span style=\"color: #008000; text-decoration-color: #008000\">'value'</span><span style=\"color: #008000; text-decoration-color: #008000\">: </span><span style=\"color: #008000; text-decoration-color: #008000\">'MHz'</span><span style=\"color: #008000; text-decoration-color: #008000; font-weight: bold\">}</span>\n",
       "</pre>\n"
      ],
      "text/plain": [
       "\u001b[34mUnidade_da_Frequencia_Final \u001b[0m\u001b[31m-> \u001b[0m\u001b[1;32m{\u001b[0m\u001b[32m'id'\u001b[0m\u001b[32m: \u001b[0m\u001b[1;32m159\u001b[0m\u001b[32m, \u001b[0m\u001b[32m'value'\u001b[0m\u001b[32m: \u001b[0m\u001b[32m'MHz'\u001b[0m\u001b[1;32m}\u001b[0m\n"
      ]
     },
     "metadata": {},
     "output_type": "display_data"
    },
    {
     "data": {
      "text/html": [
       "<pre style=\"white-space:pre;overflow-x:auto;line-height:normal;font-family:Menlo,'DejaVu Sans Mono',consolas,'Courier New',monospace\"><span style=\"color: #000080; text-decoration-color: #000080\">start_date </span><span style=\"color: #800000; text-decoration-color: #800000\">-&gt; </span><span style=\"color: #008000; text-decoration-color: #008000; font-weight: bold\">2021</span><span style=\"color: #008000; text-decoration-color: #008000\">-</span><span style=\"color: #008000; text-decoration-color: #008000; font-weight: bold\">09</span><span style=\"color: #008000; text-decoration-color: #008000\">-</span><span style=\"color: #008000; text-decoration-color: #008000; font-weight: bold\">13</span>\n",
       "</pre>\n"
      ],
      "text/plain": [
       "\u001b[34mstart_date \u001b[0m\u001b[31m-> \u001b[0m\u001b[1;32m2021\u001b[0m\u001b[32m-\u001b[0m\u001b[1;32m09\u001b[0m\u001b[32m-\u001b[0m\u001b[1;32m13\u001b[0m\n"
      ]
     },
     "metadata": {},
     "output_type": "display_data"
    },
    {
     "data": {
      "text/html": [
       "<pre style=\"white-space:pre;overflow-x:auto;line-height:normal;font-family:Menlo,'DejaVu Sans Mono',consolas,'Courier New',monospace\"><span style=\"color: #000080; text-decoration-color: #000080\">due_date </span><span style=\"color: #800000; text-decoration-color: #800000\">-&gt; </span><span style=\"color: #008000; text-decoration-color: #008000; font-weight: bold\">2021</span><span style=\"color: #008000; text-decoration-color: #008000\">-</span><span style=\"color: #008000; text-decoration-color: #008000; font-weight: bold\">12</span><span style=\"color: #008000; text-decoration-color: #008000\">-</span><span style=\"color: #008000; text-decoration-color: #008000; font-weight: bold\">31</span>\n",
       "</pre>\n"
      ],
      "text/plain": [
       "\u001b[34mdue_date \u001b[0m\u001b[31m-> \u001b[0m\u001b[1;32m2021\u001b[0m\u001b[32m-\u001b[0m\u001b[1;32m12\u001b[0m\u001b[32m-\u001b[0m\u001b[1;32m31\u001b[0m\n"
      ]
     },
     "metadata": {},
     "output_type": "display_data"
    },
    {
     "data": {
      "text/html": [
       "<pre style=\"white-space:pre;overflow-x:auto;line-height:normal;font-family:Menlo,'DejaVu Sans Mono',consolas,'Courier New',monospace\"><span style=\"color: #000080; text-decoration-color: #000080\">UF_Municipio </span><span style=\"color: #800000; text-decoration-color: #800000\">-&gt; </span><span style=\"color: #008000; text-decoration-color: #008000; font-weight: bold\">{</span><span style=\"color: #008000; text-decoration-color: #008000\">'id'</span><span style=\"color: #008000; text-decoration-color: #008000\">: </span><span style=\"color: #008000; text-decoration-color: #008000; font-weight: bold\">31</span><span style=\"color: #008000; text-decoration-color: #008000\">, </span><span style=\"color: #008000; text-decoration-color: #008000\">'value'</span><span style=\"color: #008000; text-decoration-color: #008000\">: </span><span style=\"color: #008000; text-decoration-color: #008000; font-weight: bold\">[</span><span style=\"color: #008000; text-decoration-color: #008000\">'{\"valor\":\"SP/Itatiba\",\"texto\":\"SP/Itatiba\"}'</span><span style=\"color: #008000; text-decoration-color: #008000; font-weight: bold\">]}</span>\n",
       "</pre>\n"
      ],
      "text/plain": [
       "\u001b[34mUF_Municipio \u001b[0m\u001b[31m-> \u001b[0m\u001b[1;32m{\u001b[0m\u001b[32m'id'\u001b[0m\u001b[32m: \u001b[0m\u001b[1;32m31\u001b[0m\u001b[32m, \u001b[0m\u001b[32m'value'\u001b[0m\u001b[32m: \u001b[0m\u001b[1;32m[\u001b[0m\u001b[32m'\u001b[0m\u001b[32m{\u001b[0m\u001b[32m\"valor\":\"SP/Itatiba\",\"texto\":\"SP/Itatiba\"\u001b[0m\u001b[32m}\u001b[0m\u001b[32m'\u001b[0m\u001b[1;32m]\u001b[0m\u001b[1;32m}\u001b[0m\n"
      ]
     },
     "metadata": {},
     "output_type": "display_data"
    },
    {
     "data": {
      "text/html": [
       "<pre style=\"white-space:pre;overflow-x:auto;line-height:normal;font-family:Menlo,'DejaVu Sans Mono',consolas,'Courier New',monospace\"><span style=\"color: #000080; text-decoration-color: #000080\">Servicos_da_Inspecao </span><span style=\"color: #800000; text-decoration-color: #800000\">-&gt; </span><span style=\"color: #008000; text-decoration-color: #008000; font-weight: bold\">{</span><span style=\"color: #008000; text-decoration-color: #008000\">'id'</span><span style=\"color: #008000; text-decoration-color: #008000\">: </span><span style=\"color: #008000; text-decoration-color: #008000; font-weight: bold\">57</span><span style=\"color: #008000; text-decoration-color: #008000\">, </span><span style=\"color: #008000; text-decoration-color: #008000\">'value'</span><span style=\"color: #008000; text-decoration-color: #008000\">: </span><span style=\"color: #008000; text-decoration-color: #008000; font-weight: bold\">[</span><span style=\"color: #008000; text-decoration-color: #008000\">'{\"valor\":\"230 - COLETIVO - RADIODIFUSÃO SONORA </span>\n",
       "<span style=\"color: #008000; text-decoration-color: #008000\">EM FREQÜÊNCIA MODULADA\",\"texto\":\"230 - COLETIVO - RADIODIFUSÃO SONORA EM FREQÜÊNCIA </span>\n",
       "<span style=\"color: #008000; text-decoration-color: #008000\">MODULADA\"}'</span><span style=\"color: #008000; text-decoration-color: #008000; font-weight: bold\">]}</span>\n",
       "</pre>\n"
      ],
      "text/plain": [
       "\u001b[34mServicos_da_Inspecao \u001b[0m\u001b[31m-> \u001b[0m\u001b[1;32m{\u001b[0m\u001b[32m'id'\u001b[0m\u001b[32m: \u001b[0m\u001b[1;32m57\u001b[0m\u001b[32m, \u001b[0m\u001b[32m'value'\u001b[0m\u001b[32m: \u001b[0m\u001b[1;32m[\u001b[0m\u001b[32m'\u001b[0m\u001b[32m{\u001b[0m\u001b[32m\"valor\":\"230 - COLETIVO - RADIODIFUSÃO SONORA \u001b[0m\n",
       "\u001b[32mEM FREQÜÊNCIA MODULADA\",\"texto\":\"230 - COLETIVO - RADIODIFUSÃO SONORA EM FREQÜÊNCIA \u001b[0m\n",
       "\u001b[32mMODULADA\"\u001b[0m\u001b[32m}\u001b[0m\u001b[32m'\u001b[0m\u001b[1;32m]\u001b[0m\u001b[1;32m}\u001b[0m\n"
      ]
     },
     "metadata": {},
     "output_type": "display_data"
    },
    {
     "data": {
      "text/html": [
       "<pre style=\"white-space:pre;overflow-x:auto;line-height:normal;font-family:Menlo,'DejaVu Sans Mono',consolas,'Courier New',monospace\"><span style=\"color: #000080; text-decoration-color: #000080\">Qnt_de_emissoes_na_faixa </span><span style=\"color: #800000; text-decoration-color: #800000\">-&gt; </span><span style=\"color: #008000; text-decoration-color: #008000; font-weight: bold\">{</span><span style=\"color: #008000; text-decoration-color: #008000\">'id'</span><span style=\"color: #008000; text-decoration-color: #008000\">: </span><span style=\"color: #008000; text-decoration-color: #008000; font-weight: bold\">69</span><span style=\"color: #008000; text-decoration-color: #008000\">, </span><span style=\"color: #008000; text-decoration-color: #008000\">'value'</span><span style=\"color: #008000; text-decoration-color: #008000\">: </span><span style=\"color: #008000; text-decoration-color: #008000; font-weight: bold\">1</span><span style=\"color: #008000; text-decoration-color: #008000; font-weight: bold\">}</span>\n",
       "</pre>\n"
      ],
      "text/plain": [
       "\u001b[34mQnt_de_emissoes_na_faixa \u001b[0m\u001b[31m-> \u001b[0m\u001b[1;32m{\u001b[0m\u001b[32m'id'\u001b[0m\u001b[32m: \u001b[0m\u001b[1;32m69\u001b[0m\u001b[32m, \u001b[0m\u001b[32m'value'\u001b[0m\u001b[32m: \u001b[0m\u001b[1;32m1\u001b[0m\u001b[1;32m}\u001b[0m\n"
      ]
     },
     "metadata": {},
     "output_type": "display_data"
    },
    {
     "data": {
      "text/html": [
       "<pre style=\"white-space:pre;overflow-x:auto;line-height:normal;font-family:Menlo,'DejaVu Sans Mono',consolas,'Courier New',monospace\"><span style=\"color: #000080; text-decoration-color: #000080\">Emissoes_nao_autorizadas </span><span style=\"color: #800000; text-decoration-color: #800000\">-&gt; </span><span style=\"color: #008000; text-decoration-color: #008000; font-weight: bold\">{</span><span style=\"color: #008000; text-decoration-color: #008000\">'id'</span><span style=\"color: #008000; text-decoration-color: #008000\">: </span><span style=\"color: #008000; text-decoration-color: #008000; font-weight: bold\">70</span><span style=\"color: #008000; text-decoration-color: #008000\">, </span><span style=\"color: #008000; text-decoration-color: #008000\">'value'</span><span style=\"color: #008000; text-decoration-color: #008000\">: </span><span style=\"color: #008000; text-decoration-color: #008000; font-weight: bold\">0</span><span style=\"color: #008000; text-decoration-color: #008000; font-weight: bold\">}</span>\n",
       "</pre>\n"
      ],
      "text/plain": [
       "\u001b[34mEmissoes_nao_autorizadas \u001b[0m\u001b[31m-> \u001b[0m\u001b[1;32m{\u001b[0m\u001b[32m'id'\u001b[0m\u001b[32m: \u001b[0m\u001b[1;32m70\u001b[0m\u001b[32m, \u001b[0m\u001b[32m'value'\u001b[0m\u001b[32m: \u001b[0m\u001b[1;32m0\u001b[0m\u001b[1;32m}\u001b[0m\n"
      ]
     },
     "metadata": {},
     "output_type": "display_data"
    },
    {
     "data": {
      "text/html": [
       "<pre style=\"white-space:pre;overflow-x:auto;line-height:normal;font-family:Menlo,'DejaVu Sans Mono',consolas,'Courier New',monospace\"><span style=\"color: #000080; text-decoration-color: #000080\">Horas_de_Preparacao </span><span style=\"color: #800000; text-decoration-color: #800000\">-&gt; </span><span style=\"color: #008000; text-decoration-color: #008000; font-weight: bold\">{</span><span style=\"color: #008000; text-decoration-color: #008000\">'id'</span><span style=\"color: #008000; text-decoration-color: #008000\">: </span><span style=\"color: #008000; text-decoration-color: #008000; font-weight: bold\">91</span><span style=\"color: #008000; text-decoration-color: #008000\">, </span><span style=\"color: #008000; text-decoration-color: #008000\">'value'</span><span style=\"color: #008000; text-decoration-color: #008000\">: </span><span style=\"color: #008000; text-decoration-color: #008000; font-weight: bold\">2</span><span style=\"color: #008000; text-decoration-color: #008000; font-weight: bold\">}</span>\n",
       "</pre>\n"
      ],
      "text/plain": [
       "\u001b[34mHoras_de_Preparacao \u001b[0m\u001b[31m-> \u001b[0m\u001b[1;32m{\u001b[0m\u001b[32m'id'\u001b[0m\u001b[32m: \u001b[0m\u001b[1;32m91\u001b[0m\u001b[32m, \u001b[0m\u001b[32m'value'\u001b[0m\u001b[32m: \u001b[0m\u001b[1;32m2\u001b[0m\u001b[1;32m}\u001b[0m\n"
      ]
     },
     "metadata": {},
     "output_type": "display_data"
    },
    {
     "data": {
      "text/html": [
       "<pre style=\"white-space:pre;overflow-x:auto;line-height:normal;font-family:Menlo,'DejaVu Sans Mono',consolas,'Courier New',monospace\"><span style=\"color: #000080; text-decoration-color: #000080\">Horas_de_Deslocamento </span><span style=\"color: #800000; text-decoration-color: #800000\">-&gt; </span><span style=\"color: #008000; text-decoration-color: #008000; font-weight: bold\">{</span><span style=\"color: #008000; text-decoration-color: #008000\">'id'</span><span style=\"color: #008000; text-decoration-color: #008000\">: </span><span style=\"color: #008000; text-decoration-color: #008000; font-weight: bold\">92</span><span style=\"color: #008000; text-decoration-color: #008000\">, </span><span style=\"color: #008000; text-decoration-color: #008000\">'value'</span><span style=\"color: #008000; text-decoration-color: #008000\">: </span><span style=\"color: #008000; text-decoration-color: #008000; font-weight: bold\">0</span><span style=\"color: #008000; text-decoration-color: #008000; font-weight: bold\">}</span>\n",
       "</pre>\n"
      ],
      "text/plain": [
       "\u001b[34mHoras_de_Deslocamento \u001b[0m\u001b[31m-> \u001b[0m\u001b[1;32m{\u001b[0m\u001b[32m'id'\u001b[0m\u001b[32m: \u001b[0m\u001b[1;32m92\u001b[0m\u001b[32m, \u001b[0m\u001b[32m'value'\u001b[0m\u001b[32m: \u001b[0m\u001b[1;32m0\u001b[0m\u001b[1;32m}\u001b[0m\n"
      ]
     },
     "metadata": {},
     "output_type": "display_data"
    },
    {
     "data": {
      "text/html": [
       "<pre style=\"white-space:pre;overflow-x:auto;line-height:normal;font-family:Menlo,'DejaVu Sans Mono',consolas,'Courier New',monospace\"><span style=\"color: #000080; text-decoration-color: #000080\">Horas_de_Execucao </span><span style=\"color: #800000; text-decoration-color: #800000\">-&gt; </span><span style=\"color: #008000; text-decoration-color: #008000; font-weight: bold\">{</span><span style=\"color: #008000; text-decoration-color: #008000\">'id'</span><span style=\"color: #008000; text-decoration-color: #008000\">: </span><span style=\"color: #008000; text-decoration-color: #008000; font-weight: bold\">93</span><span style=\"color: #008000; text-decoration-color: #008000\">, </span><span style=\"color: #008000; text-decoration-color: #008000\">'value'</span><span style=\"color: #008000; text-decoration-color: #008000\">: </span><span style=\"color: #008000; text-decoration-color: #008000; font-weight: bold\">24</span><span style=\"color: #008000; text-decoration-color: #008000; font-weight: bold\">}</span>\n",
       "</pre>\n"
      ],
      "text/plain": [
       "\u001b[34mHoras_de_Execucao \u001b[0m\u001b[31m-> \u001b[0m\u001b[1;32m{\u001b[0m\u001b[32m'id'\u001b[0m\u001b[32m: \u001b[0m\u001b[1;32m93\u001b[0m\u001b[32m, \u001b[0m\u001b[32m'value'\u001b[0m\u001b[32m: \u001b[0m\u001b[1;32m24\u001b[0m\u001b[1;32m}\u001b[0m\n"
      ]
     },
     "metadata": {},
     "output_type": "display_data"
    },
    {
     "data": {
      "text/html": [
       "<pre style=\"white-space:pre;overflow-x:auto;line-height:normal;font-family:Menlo,'DejaVu Sans Mono',consolas,'Courier New',monospace\"><span style=\"color: #000080; text-decoration-color: #000080\">Horas_de_Conclusao </span><span style=\"color: #800000; text-decoration-color: #800000\">-&gt; </span><span style=\"color: #008000; text-decoration-color: #008000; font-weight: bold\">{</span><span style=\"color: #008000; text-decoration-color: #008000\">'id'</span><span style=\"color: #008000; text-decoration-color: #008000\">: </span><span style=\"color: #008000; text-decoration-color: #008000; font-weight: bold\">94</span><span style=\"color: #008000; text-decoration-color: #008000\">, </span><span style=\"color: #008000; text-decoration-color: #008000\">'value'</span><span style=\"color: #008000; text-decoration-color: #008000\">: </span><span style=\"color: #008000; text-decoration-color: #008000; font-weight: bold\">4</span><span style=\"color: #008000; text-decoration-color: #008000; font-weight: bold\">}</span>\n",
       "</pre>\n"
      ],
      "text/plain": [
       "\u001b[34mHoras_de_Conclusao \u001b[0m\u001b[31m-> \u001b[0m\u001b[1;32m{\u001b[0m\u001b[32m'id'\u001b[0m\u001b[32m: \u001b[0m\u001b[1;32m94\u001b[0m\u001b[32m, \u001b[0m\u001b[32m'value'\u001b[0m\u001b[32m: \u001b[0m\u001b[1;32m4\u001b[0m\u001b[1;32m}\u001b[0m\n"
      ]
     },
     "metadata": {},
     "output_type": "display_data"
    },
    {
     "data": {
      "text/html": [
       "<pre style=\"white-space:pre;overflow-x:auto;line-height:normal;font-family:Menlo,'DejaVu Sans Mono',consolas,'Courier New',monospace\"><span style=\"color: #000080; text-decoration-color: #000080\">Latitude </span><span style=\"color: #800000; text-decoration-color: #800000\">-&gt; </span><span style=\"color: #008000; text-decoration-color: #008000; font-weight: bold\">{</span><span style=\"color: #008000; text-decoration-color: #008000\">'id'</span><span style=\"color: #008000; text-decoration-color: #008000\">: </span><span style=\"color: #008000; text-decoration-color: #008000; font-weight: bold\">170</span><span style=\"color: #008000; text-decoration-color: #008000\">, </span><span style=\"color: #008000; text-decoration-color: #008000\">'value'</span><span style=\"color: #008000; text-decoration-color: #008000\">: </span><span style=\"color: #008000; text-decoration-color: #008000; font-weight: bold\">-23.0175</span><span style=\"color: #008000; text-decoration-color: #008000; font-weight: bold\">}</span>\n",
       "</pre>\n"
      ],
      "text/plain": [
       "\u001b[34mLatitude \u001b[0m\u001b[31m-> \u001b[0m\u001b[1;32m{\u001b[0m\u001b[32m'id'\u001b[0m\u001b[32m: \u001b[0m\u001b[1;32m170\u001b[0m\u001b[32m, \u001b[0m\u001b[32m'value'\u001b[0m\u001b[32m: \u001b[0m\u001b[1;32m-23.0175\u001b[0m\u001b[1;32m}\u001b[0m\n"
      ]
     },
     "metadata": {},
     "output_type": "display_data"
    },
    {
     "data": {
      "text/html": [
       "<pre style=\"white-space:pre;overflow-x:auto;line-height:normal;font-family:Menlo,'DejaVu Sans Mono',consolas,'Courier New',monospace\"><span style=\"color: #000080; text-decoration-color: #000080\">Longitude </span><span style=\"color: #800000; text-decoration-color: #800000\">-&gt; </span><span style=\"color: #008000; text-decoration-color: #008000; font-weight: bold\">{</span><span style=\"color: #008000; text-decoration-color: #008000\">'id'</span><span style=\"color: #008000; text-decoration-color: #008000\">: </span><span style=\"color: #008000; text-decoration-color: #008000; font-weight: bold\">171</span><span style=\"color: #008000; text-decoration-color: #008000\">, </span><span style=\"color: #008000; text-decoration-color: #008000\">'value'</span><span style=\"color: #008000; text-decoration-color: #008000\">: </span><span style=\"color: #008000; text-decoration-color: #008000; font-weight: bold\">-46.884722</span><span style=\"color: #008000; text-decoration-color: #008000; font-weight: bold\">}</span>\n",
       "</pre>\n"
      ],
      "text/plain": [
       "\u001b[34mLongitude \u001b[0m\u001b[31m-> \u001b[0m\u001b[1;32m{\u001b[0m\u001b[32m'id'\u001b[0m\u001b[32m: \u001b[0m\u001b[1;32m171\u001b[0m\u001b[32m, \u001b[0m\u001b[32m'value'\u001b[0m\u001b[32m: \u001b[0m\u001b[1;32m-46.884722\u001b[0m\u001b[1;32m}\u001b[0m\n"
      ]
     },
     "metadata": {},
     "output_type": "display_data"
    },
    {
     "data": {
      "text/html": [
       "<pre style=\"white-space:pre;overflow-x:auto;line-height:normal;font-family:Menlo,'DejaVu Sans Mono',consolas,'Courier New',monospace\"><span style=\"color: #000080; text-decoration-color: #000080\">Uso_de_PF </span><span style=\"color: #800000; text-decoration-color: #800000\">-&gt; </span><span style=\"color: #008000; text-decoration-color: #008000; font-weight: bold\">{</span><span style=\"color: #008000; text-decoration-color: #008000\">'id'</span><span style=\"color: #008000; text-decoration-color: #008000\">: </span><span style=\"color: #008000; text-decoration-color: #008000; font-weight: bold\">151</span><span style=\"color: #008000; text-decoration-color: #008000\">, </span><span style=\"color: #008000; text-decoration-color: #008000\">'value'</span><span style=\"color: #008000; text-decoration-color: #008000\">: </span><span style=\"color: #008000; text-decoration-color: #008000\">'Não se aplica PF - uso apenas de formulários'</span><span style=\"color: #008000; text-decoration-color: #008000; font-weight: bold\">}</span>\n",
       "</pre>\n"
      ],
      "text/plain": [
       "\u001b[34mUso_de_PF \u001b[0m\u001b[31m-> \u001b[0m\u001b[1;32m{\u001b[0m\u001b[32m'id'\u001b[0m\u001b[32m: \u001b[0m\u001b[1;32m151\u001b[0m\u001b[32m, \u001b[0m\u001b[32m'value'\u001b[0m\u001b[32m: \u001b[0m\u001b[32m'Não se aplica PF - uso apenas de formulários'\u001b[0m\u001b[1;32m}\u001b[0m\n"
      ]
     },
     "metadata": {},
     "output_type": "display_data"
    },
    {
     "data": {
      "text/html": [
       "<pre style=\"white-space:pre;overflow-x:auto;line-height:normal;font-family:Menlo,'DejaVu Sans Mono',consolas,'Courier New',monospace\"><span style=\"color: #000080; text-decoration-color: #000080\">Acao_de_risco_a_vida_criada </span><span style=\"color: #800000; text-decoration-color: #800000\">-&gt; </span><span style=\"color: #008000; text-decoration-color: #008000; font-weight: bold\">{</span><span style=\"color: #008000; text-decoration-color: #008000\">'id'</span><span style=\"color: #008000; text-decoration-color: #008000\">: </span><span style=\"color: #008000; text-decoration-color: #008000; font-weight: bold\">154</span><span style=\"color: #008000; text-decoration-color: #008000\">, </span><span style=\"color: #008000; text-decoration-color: #008000\">'value'</span><span style=\"color: #008000; text-decoration-color: #008000\">: </span><span style=\"color: #008000; text-decoration-color: #008000\">'Não'</span><span style=\"color: #008000; text-decoration-color: #008000; font-weight: bold\">}</span>\n",
       "</pre>\n"
      ],
      "text/plain": [
       "\u001b[34mAcao_de_risco_a_vida_criada \u001b[0m\u001b[31m-> \u001b[0m\u001b[1;32m{\u001b[0m\u001b[32m'id'\u001b[0m\u001b[32m: \u001b[0m\u001b[1;32m154\u001b[0m\u001b[32m, \u001b[0m\u001b[32m'value'\u001b[0m\u001b[32m: \u001b[0m\u001b[32m'Não'\u001b[0m\u001b[1;32m}\u001b[0m\n"
      ]
     },
     "metadata": {},
     "output_type": "display_data"
    },
    {
     "data": {
      "text/html": [
       "<pre style=\"white-space:pre;overflow-x:auto;line-height:normal;font-family:Menlo,'DejaVu Sans Mono',consolas,'Courier New',monospace\"><span style=\"color: #000080; text-decoration-color: #000080\">Impossibilidade_acesso_online </span><span style=\"color: #800000; text-decoration-color: #800000\">-&gt; </span><span style=\"color: #008000; text-decoration-color: #008000; font-weight: bold\">{</span><span style=\"color: #008000; text-decoration-color: #008000\">'id'</span><span style=\"color: #008000; text-decoration-color: #008000\">: </span><span style=\"color: #008000; text-decoration-color: #008000; font-weight: bold\">450</span><span style=\"color: #008000; text-decoration-color: #008000\">, </span><span style=\"color: #008000; text-decoration-color: #008000\">'value'</span><span style=\"color: #008000; text-decoration-color: #008000\">: </span><span style=\"color: #008000; text-decoration-color: #008000\">'0'</span><span style=\"color: #008000; text-decoration-color: #008000; font-weight: bold\">}</span>\n",
       "</pre>\n"
      ],
      "text/plain": [
       "\u001b[34mImpossibilidade_acesso_online \u001b[0m\u001b[31m-> \u001b[0m\u001b[1;32m{\u001b[0m\u001b[32m'id'\u001b[0m\u001b[32m: \u001b[0m\u001b[1;32m450\u001b[0m\u001b[32m, \u001b[0m\u001b[32m'value'\u001b[0m\u001b[32m: \u001b[0m\u001b[32m'0'\u001b[0m\u001b[1;32m}\u001b[0m\n"
      ]
     },
     "metadata": {},
     "output_type": "display_data"
    },
    {
     "data": {
      "text/html": [
       "<pre style=\"white-space:pre;overflow-x:auto;line-height:normal;font-family:Menlo,'DejaVu Sans Mono',consolas,'Courier New',monospace\"><span style=\"color: #000080; text-decoration-color: #000080\">Reservar_Instrumentos </span><span style=\"color: #800000; text-decoration-color: #800000\">-&gt; </span><span style=\"color: #008000; text-decoration-color: #008000; font-weight: bold\">{</span><span style=\"color: #008000; text-decoration-color: #008000\">'id'</span><span style=\"color: #008000; text-decoration-color: #008000\">: </span><span style=\"color: #008000; text-decoration-color: #008000; font-weight: bold\">596</span><span style=\"color: #008000; text-decoration-color: #008000\">, </span><span style=\"color: #008000; text-decoration-color: #008000\">'value'</span><span style=\"color: #008000; text-decoration-color: #008000\">: </span><span style=\"color: #008000; text-decoration-color: #008000\">'0'</span><span style=\"color: #008000; text-decoration-color: #008000; font-weight: bold\">}</span>\n",
       "</pre>\n"
      ],
      "text/plain": [
       "\u001b[34mReservar_Instrumentos \u001b[0m\u001b[31m-> \u001b[0m\u001b[1;32m{\u001b[0m\u001b[32m'id'\u001b[0m\u001b[32m: \u001b[0m\u001b[1;32m596\u001b[0m\u001b[32m, \u001b[0m\u001b[32m'value'\u001b[0m\u001b[32m: \u001b[0m\u001b[32m'0'\u001b[0m\u001b[1;32m}\u001b[0m\n"
      ]
     },
     "metadata": {},
     "output_type": "display_data"
    },
    {
     "data": {
      "text/html": [
       "<pre style=\"white-space:pre;overflow-x:auto;line-height:normal;font-family:Menlo,'DejaVu Sans Mono',consolas,'Courier New',monospace\"><span style=\"color: #000080; text-decoration-color: #000080\">Utilizou_algum_instrumento </span><span style=\"color: #800000; text-decoration-color: #800000\">-&gt; </span><span style=\"color: #008000; text-decoration-color: #008000; font-weight: bold\">{</span><span style=\"color: #008000; text-decoration-color: #008000\">'id'</span><span style=\"color: #008000; text-decoration-color: #008000\">: </span><span style=\"color: #008000; text-decoration-color: #008000; font-weight: bold\">598</span><span style=\"color: #008000; text-decoration-color: #008000\">, </span><span style=\"color: #008000; text-decoration-color: #008000\">'value'</span><span style=\"color: #008000; text-decoration-color: #008000\">: </span><span style=\"color: #008000; text-decoration-color: #008000\">'0'</span><span style=\"color: #008000; text-decoration-color: #008000; font-weight: bold\">}</span>\n",
       "</pre>\n"
      ],
      "text/plain": [
       "\u001b[34mUtilizou_algum_instrumento \u001b[0m\u001b[31m-> \u001b[0m\u001b[1;32m{\u001b[0m\u001b[32m'id'\u001b[0m\u001b[32m: \u001b[0m\u001b[1;32m598\u001b[0m\u001b[32m, \u001b[0m\u001b[32m'value'\u001b[0m\u001b[32m: \u001b[0m\u001b[32m'0'\u001b[0m\u001b[1;32m}\u001b[0m\n"
      ]
     },
     "metadata": {},
     "output_type": "display_data"
    },
    {
     "data": {
      "text/html": [
       "<pre style=\"white-space:pre;overflow-x:auto;line-height:normal;font-family:Menlo,'DejaVu Sans Mono',consolas,'Courier New',monospace\"><span style=\"color: #000080; text-decoration-color: #000080\">notes </span><span style=\"color: #800000; text-decoration-color: #800000\">-&gt; </span><span style=\"color: #008000; text-decoration-color: #008000\">|_.  Faixa                                      |_.   Classe Especial |_.   Classe A</span>\n",
       "<span style=\"color: #008000; text-decoration-color: #008000\">|_.   Classe B |_.   Classe C |</span>\n",
       "<span style=\"color: #008000; text-decoration-color: #008000\">|</span><span style=\"color: #008000; text-decoration-color: #008000; font-weight: bold\">&lt;.</span><span style=\"color: #008000; text-decoration-color: #008000\"> VHF-L                                       |</span><span style=\"color: #008000; text-decoration-color: #008000; font-weight: bold\">&gt;</span><span style=\"color: #008000; text-decoration-color: #008000\">.                 </span><span style=\"color: #008000; text-decoration-color: #008000; font-weight: bold\">0</span><span style=\"color: #008000; text-decoration-color: #008000\"> |&gt;.          </span><span style=\"color: #008000; text-decoration-color: #008000; font-weight: bold\">5</span><span style=\"color: #008000; text-decoration-color: #008000\"> |&gt;.     </span>\n",
       "<span style=\"color: #008000; text-decoration-color: #008000; font-weight: bold\">7</span><span style=\"color: #008000; text-decoration-color: #008000\"> |&gt;.          </span><span style=\"color: #008000; text-decoration-color: #008000; font-weight: bold\">5</span><span style=\"color: #008000; text-decoration-color: #008000\"> |</span>\n",
       "<span style=\"color: #008000; text-decoration-color: #008000\">|</span><span style=\"color: #008000; text-decoration-color: #008000; font-weight: bold\">&lt;.</span><span style=\"color: #008000; text-decoration-color: #008000\"> VHF-H                                       |</span><span style=\"color: #008000; text-decoration-color: #008000; font-weight: bold\">&gt;</span><span style=\"color: #008000; text-decoration-color: #008000\">.                 </span><span style=\"color: #008000; text-decoration-color: #008000; font-weight: bold\">0</span><span style=\"color: #008000; text-decoration-color: #008000\"> |&gt;.         </span><span style=\"color: #008000; text-decoration-color: #008000; font-weight: bold\">12</span><span style=\"color: #008000; text-decoration-color: #008000\"> |&gt;.     </span>\n",
       "<span style=\"color: #008000; text-decoration-color: #008000; font-weight: bold\">1</span><span style=\"color: #008000; text-decoration-color: #008000\"> |&gt;.          </span><span style=\"color: #008000; text-decoration-color: #008000; font-weight: bold\">0</span><span style=\"color: #008000; text-decoration-color: #008000\"> |</span>\n",
       "<span style=\"color: #008000; text-decoration-color: #008000\">|</span><span style=\"color: #008000; text-decoration-color: #008000; font-weight: bold\">&lt;.</span><span style=\"color: #008000; text-decoration-color: #008000\"> UHF                                         |</span><span style=\"color: #008000; text-decoration-color: #008000; font-weight: bold\">&gt;</span><span style=\"color: #008000; text-decoration-color: #008000\">.                 </span><span style=\"color: #008000; text-decoration-color: #008000; font-weight: bold\">1</span><span style=\"color: #008000; text-decoration-color: #008000\"> |&gt;.          </span><span style=\"color: #008000; text-decoration-color: #008000; font-weight: bold\">1</span><span style=\"color: #008000; text-decoration-color: #008000\"> |&gt;.     </span>\n",
       "<span style=\"color: #008000; text-decoration-color: #008000; font-weight: bold\">2</span><span style=\"color: #008000; text-decoration-color: #008000\"> |&gt;.          </span><span style=\"color: #008000; text-decoration-color: #008000; font-weight: bold\">4</span><span style=\"color: #008000; text-decoration-color: #008000\"> |</span>\n",
       "<span style=\"color: #008000; text-decoration-color: #008000\">|</span><span style=\"color: #008000; text-decoration-color: #008000; font-weight: bold\">&lt;.</span><span style=\"color: #008000; text-decoration-color: #008000\"> FM                                          |</span><span style=\"color: #008000; text-decoration-color: #008000; font-weight: bold\">&gt;</span><span style=\"color: #008000; text-decoration-color: #008000\">.                 </span><span style=\"color: #008000; text-decoration-color: #008000; font-weight: bold\">5</span><span style=\"color: #008000; text-decoration-color: #008000\"> |&gt;.          </span><span style=\"color: #008000; text-decoration-color: #008000; font-weight: bold\">1</span><span style=\"color: #008000; text-decoration-color: #008000\"> |&gt;.     </span>\n",
       "<span style=\"color: #008000; text-decoration-color: #008000; font-weight: bold\">0</span><span style=\"color: #008000; text-decoration-color: #008000\"> |&gt;.          </span><span style=\"color: #008000; text-decoration-color: #008000; font-weight: bold\">0</span><span style=\"color: #008000; text-decoration-color: #008000\"> |</span>\n",
       "<span style=\"color: #008000; text-decoration-color: #008000\">|</span><span style=\"color: #008000; text-decoration-color: #008000; font-weight: bold\">&lt;.</span><span style=\"color: #008000; text-decoration-color: #008000\"> RADCOM                                      |</span><span style=\"color: #008000; text-decoration-color: #008000; font-weight: bold\">&gt;</span><span style=\"color: #008000; text-decoration-color: #008000\">.                 </span><span style=\"color: #008000; text-decoration-color: #008000; font-weight: bold\">0</span><span style=\"color: #008000; text-decoration-color: #008000\"> |&gt;.          </span><span style=\"color: #008000; text-decoration-color: #008000; font-weight: bold\">0</span><span style=\"color: #008000; text-decoration-color: #008000\"> |&gt;.     </span>\n",
       "<span style=\"color: #008000; text-decoration-color: #008000; font-weight: bold\">0</span><span style=\"color: #008000; text-decoration-color: #008000\"> |&gt;.          </span><span style=\"color: #008000; text-decoration-color: #008000; font-weight: bold\">0</span><span style=\"color: #008000; text-decoration-color: #008000\"> |</span>\n",
       "<span style=\"color: #008000; text-decoration-color: #008000\">|</span><span style=\"color: #008000; text-decoration-color: #008000; font-weight: bold\">&lt;.</span><span style=\"color: #008000; text-decoration-color: #008000\"> Outorgadas com indícios de irregularidades  |</span><span style=\"color: #008000; text-decoration-color: #008000; font-weight: bold\">&gt;</span><span style=\"color: #008000; text-decoration-color: #008000\">.                 </span><span style=\"color: #008000; text-decoration-color: #008000; font-weight: bold\">1</span><span style=\"color: #008000; text-decoration-color: #008000\"> |&gt;.          </span><span style=\"color: #008000; text-decoration-color: #008000; font-weight: bold\">2</span><span style=\"color: #008000; text-decoration-color: #008000\"> |&gt;.     </span>\n",
       "<span style=\"color: #008000; text-decoration-color: #008000; font-weight: bold\">3</span><span style=\"color: #008000; text-decoration-color: #008000\"> |&gt;.          </span><span style=\"color: #008000; text-decoration-color: #008000; font-weight: bold\">4</span><span style=\"color: #008000; text-decoration-color: #008000\"> |</span>\n",
       "<span style=\"color: #008000; text-decoration-color: #008000\">|_.  Banda                 |_.   Sinais |_.   Licenciados |_.   Não Licenciados |_.   Não </span>\n",
       "<span style=\"color: #008000; text-decoration-color: #008000\">Licenciáveis |</span>\n",
       "<span style=\"color: #008000; text-decoration-color: #008000\">|</span><span style=\"color: #008000; text-decoration-color: #008000; font-weight: bold\">&lt;.</span><span style=\"color: #008000; text-decoration-color: #008000\"> </span><span style=\"color: #008000; text-decoration-color: #008000; font-weight: bold\">87.800</span><span style=\"color: #008000; text-decoration-color: #008000\"> - </span><span style=\"color: #008000; text-decoration-color: #008000; font-weight: bold\">108.000</span><span style=\"color: #008000; text-decoration-color: #008000\"> MHz   |</span><span style=\"color: #008000; text-decoration-color: #008000; font-weight: bold\">&gt;</span><span style=\"color: #008000; text-decoration-color: #008000\">.       </span><span style=\"color: #008000; text-decoration-color: #008000; font-weight: bold\">35</span><span style=\"color: #008000; text-decoration-color: #008000\"> |&gt;.            </span><span style=\"color: #008000; text-decoration-color: #008000; font-weight: bold\">31</span><span style=\"color: #008000; text-decoration-color: #008000\"> |&gt;.                 </span><span style=\"color: #008000; text-decoration-color: #008000; font-weight: bold\">4</span><span style=\"color: #008000; text-decoration-color: #008000\"> |&gt;.          </span>\n",
       "<span style=\"color: #008000; text-decoration-color: #008000; font-weight: bold\">0</span><span style=\"color: #008000; text-decoration-color: #008000\"> |</span>\n",
       "<span style=\"color: #008000; text-decoration-color: #008000\">|</span><span style=\"color: #008000; text-decoration-color: #008000; font-weight: bold\">&lt;.</span><span style=\"color: #008000; text-decoration-color: #008000\"> </span><span style=\"color: #008000; text-decoration-color: #008000; font-weight: bold\">470.000</span><span style=\"color: #008000; text-decoration-color: #008000\"> - </span><span style=\"color: #008000; text-decoration-color: #008000; font-weight: bold\">698.000</span><span style=\"color: #008000; text-decoration-color: #008000\"> MHz  |</span><span style=\"color: #008000; text-decoration-color: #008000; font-weight: bold\">&gt;</span><span style=\"color: #008000; text-decoration-color: #008000\">.       </span><span style=\"color: #008000; text-decoration-color: #008000; font-weight: bold\">19</span><span style=\"color: #008000; text-decoration-color: #008000\"> |&gt;.            </span><span style=\"color: #008000; text-decoration-color: #008000; font-weight: bold\">19</span><span style=\"color: #008000; text-decoration-color: #008000\"> |&gt;.                 </span><span style=\"color: #008000; text-decoration-color: #008000; font-weight: bold\">0</span><span style=\"color: #008000; text-decoration-color: #008000\"> |&gt;.          </span>\n",
       "<span style=\"color: #008000; text-decoration-color: #008000; font-weight: bold\">0</span><span style=\"color: #008000; text-decoration-color: #008000\"> |</span>\n",
       "</pre>\n"
      ],
      "text/plain": [
       "\u001b[34mnotes \u001b[0m\u001b[31m-> \u001b[0m\u001b[32m|_.  Faixa                                      |_.   Classe Especial |_.   Classe A\u001b[0m\n",
       "\u001b[32m|_.   Classe B |_.   Classe C |\u001b[0m\n",
       "\u001b[32m|\u001b[0m\u001b[1;32m<\u001b[0m\u001b[1;32m.\u001b[0m\u001b[32m VHF-L                                       |\u001b[0m\u001b[1;32m>\u001b[0m\u001b[32m.                 \u001b[0m\u001b[1;32m0\u001b[0m\u001b[32m |>.          \u001b[0m\u001b[1;32m5\u001b[0m\u001b[32m |>.     \u001b[0m\n",
       "\u001b[1;32m7\u001b[0m\u001b[32m |>.          \u001b[0m\u001b[1;32m5\u001b[0m\u001b[32m |\u001b[0m\n",
       "\u001b[32m|\u001b[0m\u001b[1;32m<\u001b[0m\u001b[1;32m.\u001b[0m\u001b[32m VHF-H                                       |\u001b[0m\u001b[1;32m>\u001b[0m\u001b[32m.                 \u001b[0m\u001b[1;32m0\u001b[0m\u001b[32m |>.         \u001b[0m\u001b[1;32m12\u001b[0m\u001b[32m |>.     \u001b[0m\n",
       "\u001b[1;32m1\u001b[0m\u001b[32m |>.          \u001b[0m\u001b[1;32m0\u001b[0m\u001b[32m |\u001b[0m\n",
       "\u001b[32m|\u001b[0m\u001b[1;32m<\u001b[0m\u001b[1;32m.\u001b[0m\u001b[32m UHF                                         |\u001b[0m\u001b[1;32m>\u001b[0m\u001b[32m.                 \u001b[0m\u001b[1;32m1\u001b[0m\u001b[32m |>.          \u001b[0m\u001b[1;32m1\u001b[0m\u001b[32m |>.     \u001b[0m\n",
       "\u001b[1;32m2\u001b[0m\u001b[32m |>.          \u001b[0m\u001b[1;32m4\u001b[0m\u001b[32m |\u001b[0m\n",
       "\u001b[32m|\u001b[0m\u001b[1;32m<\u001b[0m\u001b[1;32m.\u001b[0m\u001b[32m FM                                          |\u001b[0m\u001b[1;32m>\u001b[0m\u001b[32m.                 \u001b[0m\u001b[1;32m5\u001b[0m\u001b[32m |>.          \u001b[0m\u001b[1;32m1\u001b[0m\u001b[32m |>.     \u001b[0m\n",
       "\u001b[1;32m0\u001b[0m\u001b[32m |>.          \u001b[0m\u001b[1;32m0\u001b[0m\u001b[32m |\u001b[0m\n",
       "\u001b[32m|\u001b[0m\u001b[1;32m<\u001b[0m\u001b[1;32m.\u001b[0m\u001b[32m RADCOM                                      |\u001b[0m\u001b[1;32m>\u001b[0m\u001b[32m.                 \u001b[0m\u001b[1;32m0\u001b[0m\u001b[32m |>.          \u001b[0m\u001b[1;32m0\u001b[0m\u001b[32m |>.     \u001b[0m\n",
       "\u001b[1;32m0\u001b[0m\u001b[32m |>.          \u001b[0m\u001b[1;32m0\u001b[0m\u001b[32m |\u001b[0m\n",
       "\u001b[32m|\u001b[0m\u001b[1;32m<\u001b[0m\u001b[1;32m.\u001b[0m\u001b[32m Outorgadas com indícios de irregularidades  |\u001b[0m\u001b[1;32m>\u001b[0m\u001b[32m.                 \u001b[0m\u001b[1;32m1\u001b[0m\u001b[32m |>.          \u001b[0m\u001b[1;32m2\u001b[0m\u001b[32m |>.     \u001b[0m\n",
       "\u001b[1;32m3\u001b[0m\u001b[32m |>.          \u001b[0m\u001b[1;32m4\u001b[0m\u001b[32m |\u001b[0m\n",
       "\u001b[32m|_.  Banda                 |_.   Sinais |_.   Licenciados |_.   Não Licenciados |_.   Não \u001b[0m\n",
       "\u001b[32mLicenciáveis |\u001b[0m\n",
       "\u001b[32m|\u001b[0m\u001b[1;32m<\u001b[0m\u001b[1;32m.\u001b[0m\u001b[32m \u001b[0m\u001b[1;32m87.800\u001b[0m\u001b[32m - \u001b[0m\u001b[1;32m108.000\u001b[0m\u001b[32m MHz   |\u001b[0m\u001b[1;32m>\u001b[0m\u001b[32m.       \u001b[0m\u001b[1;32m35\u001b[0m\u001b[32m |>.            \u001b[0m\u001b[1;32m31\u001b[0m\u001b[32m |>.                 \u001b[0m\u001b[1;32m4\u001b[0m\u001b[32m |>.          \u001b[0m\n",
       "\u001b[1;32m0\u001b[0m\u001b[32m |\u001b[0m\n",
       "\u001b[32m|\u001b[0m\u001b[1;32m<\u001b[0m\u001b[1;32m.\u001b[0m\u001b[32m \u001b[0m\u001b[1;32m470.000\u001b[0m\u001b[32m - \u001b[0m\u001b[1;32m698.000\u001b[0m\u001b[32m MHz  |\u001b[0m\u001b[1;32m>\u001b[0m\u001b[32m.       \u001b[0m\u001b[1;32m19\u001b[0m\u001b[32m |>.            \u001b[0m\u001b[1;32m19\u001b[0m\u001b[32m |>.                 \u001b[0m\u001b[1;32m0\u001b[0m\u001b[32m |>.          \u001b[0m\n",
       "\u001b[1;32m0\u001b[0m\u001b[32m |\u001b[0m\n"
      ]
     },
     "metadata": {},
     "output_type": "display_data"
    },
    {
     "data": {
      "text/html": [
       "<pre style=\"white-space:pre;overflow-x:auto;line-height:normal;font-family:Menlo,'DejaVu Sans Mono',consolas,'Courier New',monospace\"><span style=\"color: #000080; text-decoration-color: #000080\">uploads </span><span style=\"color: #800000; text-decoration-color: #800000\">-&gt; </span><span style=\"color: #008000; text-decoration-color: #008000; font-weight: bold\">[{</span><span style=\"color: #008000; text-decoration-color: #008000\">'path'</span><span style=\"color: #008000; text-decoration-color: #008000\">: </span><span style=\"color: #008000; text-decoration-color: #008000\">'D:\\\\OneDrive - </span>\n",
       "<span style=\"color: #008000; text-decoration-color: #008000\">ANATEL\\\\Monitoramento\\\\Processos\\\\Diogo\\\\Mapa3\\\\106_1.csv'</span><span style=\"color: #008000; text-decoration-color: #008000\">, </span><span style=\"color: #008000; text-decoration-color: #008000\">'filename'</span><span style=\"color: #008000; text-decoration-color: #008000\">: </span>\n",
       "<span style=\"color: #008000; text-decoration-color: #008000\">'Lista_de_Exceção_PMEC_Etapa_2_Sorocaba'</span><span style=\"color: #008000; text-decoration-color: #008000\">, </span><span style=\"color: #008000; text-decoration-color: #008000\">'description'</span><span style=\"color: #008000; text-decoration-color: #008000\">: </span><span style=\"color: #008000; text-decoration-color: #008000\">'Lista de Emissões Desmascaradas e </span>\n",
       "<span style=\"color: #008000; text-decoration-color: #008000\">Não Licenciadas'</span><span style=\"color: #008000; text-decoration-color: #008000\">, </span><span style=\"color: #008000; text-decoration-color: #008000\">'content_type'</span><span style=\"color: #008000; text-decoration-color: #008000\">: </span><span style=\"color: #008000; text-decoration-color: #008000\">'.csv'</span><span style=\"color: #008000; text-decoration-color: #008000; font-weight: bold\">}]</span>\n",
       "</pre>\n"
      ],
      "text/plain": [
       "\u001b[34muploads \u001b[0m\u001b[31m-> \u001b[0m\u001b[1;32m[\u001b[0m\u001b[1;32m{\u001b[0m\u001b[32m'path'\u001b[0m\u001b[32m: \u001b[0m\u001b[32m'D:\\\\OneDrive - \u001b[0m\n",
       "\u001b[32mANATEL\\\\Monitoramento\\\\Processos\\\\Diogo\\\\Mapa3\\\\106_1.csv'\u001b[0m\u001b[32m, \u001b[0m\u001b[32m'filename'\u001b[0m\u001b[32m: \u001b[0m\n",
       "\u001b[32m'Lista_de_Exceção_PMEC_Etapa_2_Sorocaba'\u001b[0m\u001b[32m, \u001b[0m\u001b[32m'description'\u001b[0m\u001b[32m: \u001b[0m\u001b[32m'Lista de Emissões Desmascaradas e \u001b[0m\n",
       "\u001b[32mNão Licenciadas'\u001b[0m\u001b[32m, \u001b[0m\u001b[32m'content_type'\u001b[0m\u001b[32m: \u001b[0m\u001b[32m'.csv'\u001b[0m\u001b[1;32m}\u001b[0m\u001b[1;32m]\u001b[0m\n"
      ]
     },
     "metadata": {},
     "output_type": "display_data"
    }
   ],
   "source": [
    "for k,v in dados.items():\n",
    "    if k == \"Html\":\n",
    "        v = str(v)\n",
    "        v = v[:100] + '\\n...\\n' + v[-100:]\n",
    "    console.print(f'[blue]{k} [red]-> [green]{v}')"
   ]
  },
  {
   "cell_type": "markdown",
   "metadata": {},
   "source": [
    "### Relatar Inspeção\n",
    "A função a seguir é a mais importante do módulo porque ela de fato altera os dados na plataforma Fiscaliza."
   ]
  },
  {
   "cell_type": "code",
   "execution_count": null,
   "metadata": {},
   "outputs": [
    {
     "data": {
      "text/markdown": [
       "<h4 id=\"relatar_inspecao\" class=\"doc_header\"><code>relatar_inspecao</code><a href=\"https://github.com/ronaldokun/fiscaliza/tree/master/fiscaliza/redmine.py#L611\" class=\"source_link\" style=\"float:right\">[source]</a></h4>\n",
       "\n",
       "> <code>relatar_inspecao</code>(**`inspecao`**:\"Número da Inspeção a ser relatada\", **`login`**:\"Login Anatel do Usuário\", **`senha`**:\"Senha Utilizada nos Sistemas Interativos da Anatel\", **`dados`**:\"Dicionário já validado com os Dados a serem relatados\", **`teste`**:\"Indica se o relato será de teste\"=*`True`*, **`parar_em`**:\"String indicando até onde o relato deve ser avançado\"=*`'Relatada'`*, **`substituir_relatorio`**:\"Substituir o relatório criado caso houver?\"=*`False`*)\n",
       "\n",
       "Relata a inspeção `inspecao` com os dados constantes no dicionário `dados`"
      ],
      "text/plain": [
       "<IPython.core.display.Markdown object>"
      ]
     },
     "metadata": {},
     "output_type": "display_data"
    }
   ],
   "source": [
    "#hide\n",
    "show_doc(relatar_inspecao)"
   ]
  },
  {
   "cell_type": "code",
   "execution_count": null,
   "metadata": {},
   "outputs": [],
   "source": []
  },
  {
   "cell_type": "code",
   "execution_count": null,
   "metadata": {},
   "outputs": [
    {
     "data": {
      "text/html": [
       "<pre style=\"white-space:pre;overflow-x:auto;line-height:normal;font-family:Menlo,'DejaVu Sans Mono',consolas,'Courier New',monospace\"><span style=\"color: #008000; text-decoration-color: #008000; font-weight: bold\">Usuário Autenticado com Sucesso 👍</span>\n",
       "</pre>\n"
      ],
      "text/plain": [
       "\u001b[1;32mUsuário Autenticado com Sucesso 👍\u001b[0m\n"
      ]
     },
     "metadata": {},
     "output_type": "display_data"
    },
    {
     "data": {
      "text/html": [
       "<pre style=\"white-space:pre;overflow-x:auto;line-height:normal;font-family:Menlo,'DejaVu Sans Mono',consolas,'Courier New',monospace\">Inspeção <span style=\"color: #008080; text-decoration-color: #008080; font-weight: bold\">72145</span> vinculada à Ação <span style=\"color: #008080; text-decoration-color: #008080; font-weight: bold\">72088</span>\n",
       "</pre>\n"
      ],
      "text/plain": [
       "Inspeção \u001b[1;36m72145\u001b[0m vinculada à Ação \u001b[1;36m72088\u001b[0m\n"
      ]
     },
     "metadata": {},
     "output_type": "display_data"
    },
    {
     "data": {
      "application/vnd.jupyter.widget-view+json": {
       "model_id": "",
       "version_major": 2,
       "version_minor": 0
      },
      "text/plain": [
       "Output()"
      ]
     },
     "metadata": {},
     "output_type": "display_data"
    },
    {
     "data": {
      "text/html": [
       "<pre style=\"white-space:pre;overflow-x:auto;line-height:normal;font-family:Menlo,'DejaVu Sans Mono',consolas,'Courier New',monospace\">✅ <span style=\"color: #008080; text-decoration-color: #008080\">Estado Atual: </span><span style=\"color: #008000; text-decoration-color: #008000; font-weight: bold\">Relatando</span>\n",
       "</pre>\n"
      ],
      "text/plain": [
       "✅ \u001b[36mEstado Atual: \u001b[0m\u001b[1;32mRelatando\u001b[0m\n"
      ]
     },
     "metadata": {},
     "output_type": "display_data"
    },
    {
     "data": {
      "text/html": [
       "<pre style=\"white-space:pre;overflow-x:auto;line-height:normal;font-family:Menlo,'DejaVu Sans Mono',consolas,'Courier New',monospace\"></pre>\n"
      ],
      "text/plain": []
     },
     "metadata": {},
     "output_type": "display_data"
    },
    {
     "data": {
      "text/html": [
       "<pre style=\"white-space:pre;overflow-x:auto;line-height:normal;font-family:Menlo,'DejaVu Sans Mono',consolas,'Courier New',monospace\">🗑 <span style=\"color: #800000; text-decoration-color: #800000\"> Foi solicitado a substituição do Relatório, é preciso atualizar a inspeção para </span>\n",
       "<span style=\"color: #800000; text-decoration-color: #800000\">descartá-lo primeiramente. Aguarde...</span>\n",
       "</pre>\n"
      ],
      "text/plain": [
       "🗑 \u001b[31m Foi solicitado a substituição do Relatório, é preciso atualizar a inspeção para \u001b[0m\n",
       "\u001b[31mdescartá-lo primeiramente. Aguarde\u001b[0m\u001b[31m...\u001b[0m\n"
      ]
     },
     "metadata": {},
     "output_type": "display_data"
    },
    {
     "data": {
      "text/html": [
       "<pre style=\"white-space:pre;overflow-x:auto;line-height:normal;font-family:Menlo,'DejaVu Sans Mono',consolas,'Courier New',monospace\">👩‍💻 <span style=\"color: #008080; text-decoration-color: #008080\"> A inspeção será atualizada até a situação </span><span style=\"color: #008000; text-decoration-color: #008000; font-weight: bold\">Relatada</span>\n",
       "</pre>\n"
      ],
      "text/plain": [
       "👩‍💻 \u001b[36m A inspeção será atualizada até a situação \u001b[0m\u001b[1;32mRelatada\u001b[0m\n"
      ]
     },
     "metadata": {},
     "output_type": "display_data"
    },
    {
     "data": {
      "application/vnd.jupyter.widget-view+json": {
       "model_id": "",
       "version_major": 2,
       "version_minor": 0
      },
      "text/plain": [
       "Output()"
      ]
     },
     "metadata": {},
     "output_type": "display_data"
    },
    {
     "data": {
      "text/html": [
       "<pre style=\"white-space:pre;overflow-x:auto;line-height:normal;font-family:Menlo,'DejaVu Sans Mono',consolas,'Courier New',monospace\">✨ <span style=\"color: #008080; text-decoration-color: #008080\">Inspeção </span><span style=\"color: #008080; text-decoration-color: #008080; font-weight: bold\">72145</span><span style=\"color: #008080; text-decoration-color: #008080\"> atualizada para </span><span style=\"color: #008000; text-decoration-color: #008000; font-weight: bold\">Relatando</span>\n",
       "</pre>\n"
      ],
      "text/plain": [
       "✨ \u001b[36mInspeção \u001b[0m\u001b[1;36m72145\u001b[0m\u001b[36m atualizada para \u001b[0m\u001b[1;32mRelatando\u001b[0m\n"
      ]
     },
     "metadata": {},
     "output_type": "display_data"
    },
    {
     "data": {
      "text/html": [
       "<pre style=\"white-space:pre;overflow-x:auto;line-height:normal;font-family:Menlo,'DejaVu Sans Mono',consolas,'Courier New',monospace\"></pre>\n"
      ],
      "text/plain": []
     },
     "metadata": {},
     "output_type": "display_data"
    },
    {
     "data": {
      "application/vnd.jupyter.widget-view+json": {
       "model_id": "",
       "version_major": 2,
       "version_minor": 0
      },
      "text/plain": [
       "Output()"
      ]
     },
     "metadata": {},
     "output_type": "display_data"
    },
    {
     "data": {
      "text/html": [
       "<pre style=\"white-space:pre;overflow-x:auto;line-height:normal;font-family:Menlo,'DejaVu Sans Mono',consolas,'Courier New',monospace\">✅ <span style=\"color: #008080; text-decoration-color: #008080\">Estado Atual: </span><span style=\"color: #008000; text-decoration-color: #008000; font-weight: bold\">Relatando</span>\n",
       "</pre>\n"
      ],
      "text/plain": [
       "✅ \u001b[36mEstado Atual: \u001b[0m\u001b[1;32mRelatando\u001b[0m\n"
      ]
     },
     "metadata": {},
     "output_type": "display_data"
    },
    {
     "data": {
      "text/html": [
       "<pre style=\"white-space:pre;overflow-x:auto;line-height:normal;font-family:Menlo,'DejaVu Sans Mono',consolas,'Courier New',monospace\"><span style=\"color: #800000; text-decoration-color: #800000; font-weight: bold\"> ⚠ Já existe um Relatório de Monitoramento criado, esse campo não será atualizado nesta </span>\n",
       "<span style=\"color: #800000; text-decoration-color: #800000; font-weight: bold\">chamada ⚠</span>\n",
       "</pre>\n"
      ],
      "text/plain": [
       "\u001b[1;31m ⚠ Já existe um Relatório de Monitoramento criado, esse campo não será atualizado nesta \u001b[0m\n",
       "\u001b[1;31mchamada ⚠\u001b[0m\n"
      ]
     },
     "metadata": {},
     "output_type": "display_data"
    },
    {
     "data": {
      "text/html": [
       "<pre style=\"white-space:pre;overflow-x:auto;line-height:normal;font-family:Menlo,'DejaVu Sans Mono',consolas,'Courier New',monospace\"></pre>\n"
      ],
      "text/plain": []
     },
     "metadata": {},
     "output_type": "display_data"
    },
    {
     "data": {
      "application/vnd.jupyter.widget-view+json": {
       "model_id": "",
       "version_major": 2,
       "version_minor": 0
      },
      "text/plain": [
       "Output()"
      ]
     },
     "metadata": {},
     "output_type": "display_data"
    },
    {
     "data": {
      "text/html": [
       "<pre style=\"white-space:pre;overflow-x:auto;line-height:normal;font-family:Menlo,'DejaVu Sans Mono',consolas,'Courier New',monospace\">✒ <span style=\"color: #800000; text-decoration-color: #800000; font-weight: bold\">Assine o Relatório de Monitoramento e chame a função novamente ❗</span>\n",
       "</pre>\n"
      ],
      "text/plain": [
       "✒ \u001b[1;31mAssine o Relatório de Monitoramento e chame a função novamente ❗\u001b[0m\n"
      ]
     },
     "metadata": {},
     "output_type": "display_data"
    },
    {
     "data": {
      "text/html": [
       "<pre style=\"white-space:pre;overflow-x:auto;line-height:normal;font-family:Menlo,'DejaVu Sans Mono',consolas,'Courier New',monospace\"></pre>\n"
      ],
      "text/plain": []
     },
     "metadata": {},
     "output_type": "display_data"
    },
    {
     "data": {
      "application/vnd.jupyter.widget-view+json": {
       "model_id": "",
       "version_major": 2,
       "version_minor": 0
      },
      "text/plain": [
       "Output()"
      ]
     },
     "metadata": {},
     "output_type": "display_data"
    },
    {
     "data": {
      "text/html": [
       "<pre style=\"white-space:pre;overflow-x:auto;line-height:normal;font-family:Menlo,'DejaVu Sans Mono',consolas,'Courier New',monospace\"></pre>\n"
      ],
      "text/plain": []
     },
     "metadata": {},
     "output_type": "display_data"
    },
    {
     "data": {
      "text/plain": [
       "{'Anexos': {'Lista_de_Exceção_PMEC_Etapa_2_Sorocaba': 'http://sistemashm.anatel.gov.br/fiscaliza/attachments/download/1312/Lista_de_Exce%C3%A7%C3%A3o_PMEC_Etapa_2_Sorocaba'},\n",
       " 'id': '72145',\n",
       " 'subject': 'INSP_GR01_2021_0715',\n",
       " 'status': 'Relatando',\n",
       " 'priority': 'Normal',\n",
       " 'start_date': '2021-09-13',\n",
       " 'due_date': '2021-12-31',\n",
       " 'description': 'Atendimento da Denúncia AC202010}213075425 (6104512), \\r\\nverificação da Potência e Intensidade de Campo Elétrico da Frequência 105.1MHz e seus harmônicos, \\r\\nalém da checagem de Intermodulação e Espúrios nas frequências 450.3MHz e 750MHz.',\n",
       " 'Data_de_inicio_efetivo': datetime.date(2021, 8, 11),\n",
       " 'Classe_da_Inspecao': 'Técnica',\n",
       " 'Tipo_de_Inspecao': 'Uso do Espectro - Monitoração',\n",
       " 'Ano': '2021',\n",
       " 'Coordenacao': '',\n",
       " 'Numero_Sei_do_Processo': '{\"numero\"=>\"53554.000013/2021-11\", \"link_acesso\"=>\"https://seihm.anatel.gov.br/sei/controlador.php?acao=procedimento_trabalhar&id_procedimento=1964149\"}',\n",
       " 'Fiscal_Responsavel': 'Ronaldo da Silva Alves Batista',\n",
       " 'Fiscais': ['Paulo Diogo Costa',\n",
       "  'Mario Augusto Volpini',\n",
       "  'Ronaldo da Silva Alves Batista'],\n",
       " 'Entidade_da_Inspecao': [],\n",
       " 'UF_Municipio': ['SP/Itatiba'],\n",
       " 'Servicos_da_Inspecao': ['230 - COLETIVO - RADIODIFUSÃO SONORA EM FREQÜÊNCIA MODULADA'],\n",
       " 'Qnt_de_emissoes_na_faixa': '1',\n",
       " 'Emissoes_nao_autorizadas': '0',\n",
       " 'Horas_de_Preparacao': '2',\n",
       " 'Horas_de_Deslocamento': '0',\n",
       " 'Horas_de_Execucao': '24',\n",
       " 'Horas_de_Conclusao': '4',\n",
       " 'SAV': '',\n",
       " 'PCDP': '',\n",
       " 'Procedimentos': [],\n",
       " 'Latitude': '-23.0175',\n",
       " 'Longitude': '-46.884722',\n",
       " 'Uso_de_PF': 'Não se aplica PF - uso apenas de formulários',\n",
       " 'Acao_de_risco_a_vida_criada': 'Não',\n",
       " 'Frequencia_Inicial': '102.9',\n",
       " 'Unidade_da_Frequencia_Inicial': 'MHz',\n",
       " 'Frequencia_Final': '102.9',\n",
       " 'Unidade_da_Frequencia_Final': 'MHz',\n",
       " 'Agrupamento': '',\n",
       " 'AppFiscaliza': '0',\n",
       " 'Relatorio_de_Monitoramento': '{\"numero\"=>\"0191899\", \"link_acesso\"=>\"https://seihm.anatel.gov.br/sei/controlador.php?acao=procedimento_trabalhar&id_procedimento=1964149&id_documento=1964508\"}',\n",
       " 'Reservar_Instrumentos': '0',\n",
       " 'Utilizou_algum_instrumento': '0',\n",
       " 'id_ACAO': 72088,\n",
       " 'nome_ACAO': 'ACAO_GR01_2021_0688',\n",
       " 'descricao_ACAO': '',\n",
       " 'Users': ['Alexandre Elias de Andrade Oliveira',\n",
       "  'Alexandre Freitas de Lima',\n",
       "  'Alexandre Inacio',\n",
       "  'Alexandre Junzo Hamada',\n",
       "  'Alfredo de Andrade Filho',\n",
       "  'Ananias Pereira',\n",
       "  'Antonio Carlos Cardoso de Mello',\n",
       "  'Aparecido Sebastiao da Silva',\n",
       "  'Arthur Pisaruk',\n",
       "  'Carlos Augusto de Carvalho',\n",
       "  'Carlos Eduardo Guimaraes Silveira',\n",
       "  'Carlos da Paixao Filho',\n",
       "  'Celio Yukio Takahashi',\n",
       "  'Celso Luiz Maximino',\n",
       "  'Diogo Caldeira',\n",
       "  'Ediceu Beraldi',\n",
       "  'Eduardo Narkevicius',\n",
       "  'Elcio Maehara',\n",
       "  'Eustaquio Lages Duarte',\n",
       "  'Fiscal UD',\n",
       "  'Gauber Albuquerque',\n",
       "  'Gilson Ponce Ayres Filho',\n",
       "  'Helio Lopes de Carvalho Filho',\n",
       "  'Higor da Paz Melo',\n",
       "  'Hugo Santana Lima',\n",
       "  'Humberto Barbosa Vinagre',\n",
       "  'Jamilson Evangelista',\n",
       "  'Joao Yokoyama',\n",
       "  'Joaquim Miranda',\n",
       "  'José Antônio S. Sanches',\n",
       "  'Julio Cesar de Assis Santos',\n",
       "  'Kiyotomo Kawamura',\n",
       "  'Laert Calil Junior',\n",
       "  'Lannei Vilela Moraes',\n",
       "  'Luis Lagomes',\n",
       "  'Luiz Vinicios Mielniczuk Seelig',\n",
       "  'Marcelo Augusto Scacabarozi',\n",
       "  'Marcelo Vaz Netto',\n",
       "  'Marcio Colazingari',\n",
       "  'Marcio Costa',\n",
       "  'Marcio Rodrigues Maciel',\n",
       "  'Marcos Antônio Rodrigues',\n",
       "  'Marcos Juliano Valim da Silva',\n",
       "  'Maria Teresa Flosi Garrafa',\n",
       "  'Mario Augusto Volpini',\n",
       "  'Murilo Amaro',\n",
       "  'Osnir Lopes',\n",
       "  'Paulo Diogo Costa',\n",
       "  'Pedro Arai',\n",
       "  'Renato Sadao Kushioyada',\n",
       "  'Ricardo Santos Marques',\n",
       "  'Ricardo da Silva e Souza',\n",
       "  'Roberto Carlos Soares Campos',\n",
       "  'Roberto Ferreira dos Santos',\n",
       "  'Roberto Takata',\n",
       "  'Rodrigo Barbosa de Paula',\n",
       "  'Rogerio Zambotto',\n",
       "  'Ronaldo da Silva Alves Batista',\n",
       "  'Sergio Pereira',\n",
       "  'Thiago Silva',\n",
       "  'Thomaz Honma Ishida',\n",
       "  'Vinicius Paiva de Oliveira',\n",
       "  'Vitor Zelada',\n",
       "  'Wellington Devechi Piauilino',\n",
       "  'Wladimir Senise'],\n",
       " 'Atualizado': 'Atualizado por Ronaldo da Silva Alves Batista em 20/09/2021 às 16:55:43'}"
      ]
     },
     "execution_count": null,
     "metadata": {},
     "output_type": "execute_result"
    }
   ],
   "source": [
    "from fiscaliza.redmine import *\n",
    "relatar_inspecao(issue, login, senha, dados=dados, teste=True, parar_em=\"Relatada\", substituir_relatorio=True)"
   ]
  },
  {
   "cell_type": "markdown",
   "metadata": {},
   "source": [
    "O dicionário de dados possui os dados completos obrigatórios para o relato, a cada etapa os dados são atualizados caso distintos do que já consta no fiscaliza:\n",
    "* `Rascunho` para `Aguardando Execução`\n",
    "* `Aguardando Execução` para `Em Andamento`\n",
    "* `Em Andamento` para `Relatando`\n",
    "* `Relatando` para `Relatada`\n",
    "\n",
    "Após o relatório ser assinado basta chamar a função com os mesmos argumentos para que a etapa final seja realizada."
   ]
  },
  {
   "cell_type": "code",
   "execution_count": null,
   "metadata": {},
   "outputs": [],
   "source": [
    "fiscaliza = auth_user(login, senha, True)"
   ]
  },
  {
   "cell_type": "code",
   "execution_count": null,
   "metadata": {},
   "outputs": [
    {
     "data": {
      "text/plain": [
       "True"
      ]
     },
     "execution_count": null,
     "metadata": {},
     "output_type": "execute_result"
    }
   ],
   "source": [
    "fiscaliza.issue.update(issue, custom_fields=[{\"id\": 544, \"value\": \"\"}])"
   ]
  },
  {
   "cell_type": "code",
   "execution_count": null,
   "metadata": {},
   "outputs": [],
   "source": [
    "#relato = relatar_inspecao(issue, login, senha, dados=dados, parar_em=\"Relatada\")"
   ]
  },
  {
   "cell_type": "markdown",
   "metadata": {},
   "source": [
    "Os mesmos passos acima podem ser efetuados no **Fiscaliza** de produção, bastando passar o argumento `teste=False` nas funções acima"
   ]
  },
  {
   "cell_type": "code",
   "execution_count": null,
   "metadata": {},
   "outputs": [],
   "source": [
    "# inspecao = '51849'\n",
    "# detalhes = detalhar_issue(inspecao, login, senha, teste=False)\n",
    "# console.print(detalhes)"
   ]
  }
 ],
 "metadata": {
  "kernelspec": {
   "display_name": "Python [conda env:fiscaliza]",
   "language": "python",
   "name": "conda-env-fiscaliza-py"
  }
 },
 "nbformat": 4,
 "nbformat_minor": 4
}
