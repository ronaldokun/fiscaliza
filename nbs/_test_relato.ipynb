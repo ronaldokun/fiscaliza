{
 "cells": [
  {
   "cell_type": "code",
   "execution_count": null,
   "metadata": {},
   "outputs": [],
   "source": [
    "#hide\n",
    "import json\n",
    "from pathlib import Path\n",
    "from getpass import getuser, getpass\n",
    "from fiscaliza.redmine import *\n",
    "from fiscaliza.constants import SERVICOS\n",
    "from rich.console import Console\n",
    "console = Console()"
   ]
  },
  {
   "cell_type": "code",
   "execution_count": null,
   "metadata": {},
   "outputs": [],
   "source": [
    "%load_ext autoreload\n",
    "%autoreload 2\n",
    "%config Completer.use_jedi = False"
   ]
  },
  {
   "cell_type": "markdown",
   "metadata": {},
   "source": [
    "Caso não desejar utilizar um ambiente virtual basta rodar:\n",
    "`pip install fiscaliza`"
   ]
  },
  {
   "cell_type": "code",
   "execution_count": null,
   "metadata": {},
   "outputs": [],
   "source": [
    "login = getuser()\n",
    "senha = getpass()"
   ]
  },
  {
   "cell_type": "code",
   "execution_count": null,
   "metadata": {},
   "outputs": [],
   "source": [
    "# issue = '72088'\n",
    "# detalhes = detalhar_issue(issue, login, senha)\n",
    "# console.print(detalhes)"
   ]
  },
  {
   "cell_type": "code",
   "execution_count": null,
   "metadata": {},
   "outputs": [
    {
     "data": {
      "text/html": [
       "<pre style=\"white-space:pre;overflow-x:auto;line-height:normal;font-family:Menlo,'DejaVu Sans Mono',consolas,'Courier New',monospace\"><span style=\"font-weight: bold\">{</span>\n",
       "    <span style=\"color: #008000; text-decoration-color: #008000\">'Anexos'</span>: <span style=\"font-weight: bold\">{}</span>,\n",
       "    <span style=\"color: #008000; text-decoration-color: #008000\">'id'</span>: <span style=\"color: #008000; text-decoration-color: #008000\">'84859'</span>,\n",
       "    <span style=\"color: #008000; text-decoration-color: #008000\">'subject'</span>: <span style=\"color: #008000; text-decoration-color: #008000\">'INSP_GR01_2022_0339'</span>,\n",
       "    <span style=\"color: #008000; text-decoration-color: #008000\">'status'</span>: <span style=\"color: #008000; text-decoration-color: #008000\">'Aguardando Execução'</span>,\n",
       "    <span style=\"color: #008000; text-decoration-color: #008000\">'priority'</span>: <span style=\"color: #008000; text-decoration-color: #008000\">'Normal'</span>,\n",
       "    <span style=\"color: #008000; text-decoration-color: #008000\">'start_date'</span>: <span style=\"color: #008000; text-decoration-color: #008000\">'2022-03-11'</span>,\n",
       "    <span style=\"color: #008000; text-decoration-color: #008000\">'due_date'</span>: <span style=\"color: #008000; text-decoration-color: #008000\">'2022-09-07'</span>,\n",
       "    <span style=\"color: #008000; text-decoration-color: #008000\">'description'</span>: <span style=\"color: #008000; text-decoration-color: #008000\">'Processo nº 53500.019195/2022-19.'</span>,\n",
       "    <span style=\"color: #008000; text-decoration-color: #008000\">'Data_de_inicio_efetivo'</span>: <span style=\"color: #008000; text-decoration-color: #008000\">''</span>,\n",
       "    <span style=\"color: #008000; text-decoration-color: #008000\">'Classe_da_Inspecao'</span>: <span style=\"color: #008000; text-decoration-color: #008000\">'Técnica'</span>,\n",
       "    <span style=\"color: #008000; text-decoration-color: #008000\">'Tipo_de_Inspecao'</span>: <span style=\"color: #008000; text-decoration-color: #008000\">'Uso do Espectro - Monitoração'</span>,\n",
       "    <span style=\"color: #008000; text-decoration-color: #008000\">'Ano'</span>: <span style=\"color: #008000; text-decoration-color: #008000\">'2022'</span>,\n",
       "    <span style=\"color: #008000; text-decoration-color: #008000\">'Coordenacao'</span>: <span style=\"color: #008000; text-decoration-color: #008000\">'FI3'</span>,\n",
       "    <span style=\"color: #008000; text-decoration-color: #008000\">'Numero_Sei_do_Processo'</span>: <span style=\"color: #008000; text-decoration-color: #008000\">'{\"numero\"=&gt;\"53500.019195/2022-19\", \"link_acesso\"=&gt;\"https://sei</span>\n",
       "<span style=\"color: #008000; text-decoration-color: #008000\">.anatel.gov.br/sei/controlador.php?acao=procedimento_trabalhar&amp;id_procedimento=9188972\"}'</span>,\n",
       "    <span style=\"color: #008000; text-decoration-color: #008000\">'Fiscal_Responsavel'</span>: <span style=\"color: #008000; text-decoration-color: #008000\">'Ronaldo da Silva Alves Batista'</span>,\n",
       "    <span style=\"color: #008000; text-decoration-color: #008000\">'Fiscais'</span>: <span style=\"font-weight: bold\">[</span><span style=\"color: #008000; text-decoration-color: #008000\">'Ronaldo da Silva Alves Batista'</span><span style=\"font-weight: bold\">]</span>,\n",
       "    <span style=\"color: #008000; text-decoration-color: #008000\">'Entidade_da_Inspecao'</span>: <span style=\"font-weight: bold\">[]</span>,\n",
       "    <span style=\"color: #008000; text-decoration-color: #008000\">'UF_Municipio'</span>: <span style=\"font-weight: bold\">[</span><span style=\"color: #008000; text-decoration-color: #008000\">'AM/Manaus'</span><span style=\"font-weight: bold\">]</span>,\n",
       "    <span style=\"color: #008000; text-decoration-color: #008000\">'Servicos_da_Inspecao'</span>: <span style=\"font-weight: bold\">[]</span>,\n",
       "    <span style=\"color: #008000; text-decoration-color: #008000\">'Qtd_Emissoes'</span>: <span style=\"color: #008000; text-decoration-color: #008000\">''</span>,\n",
       "    <span style=\"color: #008000; text-decoration-color: #008000\">'Emissoes_nao_autorizadas'</span>: <span style=\"color: #008000; text-decoration-color: #008000\">''</span>,\n",
       "    <span style=\"color: #008000; text-decoration-color: #008000\">'Horas_de_Preparacao'</span>: <span style=\"color: #008000; text-decoration-color: #008000\">''</span>,\n",
       "    <span style=\"color: #008000; text-decoration-color: #008000\">'Horas_de_Deslocamento'</span>: <span style=\"color: #008000; text-decoration-color: #008000\">''</span>,\n",
       "    <span style=\"color: #008000; text-decoration-color: #008000\">'Horas_de_Execucao'</span>: <span style=\"color: #008000; text-decoration-color: #008000\">''</span>,\n",
       "    <span style=\"color: #008000; text-decoration-color: #008000\">'Horas_de_Conclusao'</span>: <span style=\"color: #008000; text-decoration-color: #008000\">''</span>,\n",
       "    <span style=\"color: #008000; text-decoration-color: #008000\">'SAV'</span>: <span style=\"color: #008000; text-decoration-color: #008000\">''</span>,\n",
       "    <span style=\"color: #008000; text-decoration-color: #008000\">'PCDP'</span>: <span style=\"color: #008000; text-decoration-color: #008000\">''</span>,\n",
       "    <span style=\"color: #008000; text-decoration-color: #008000\">'Procedimentos'</span>: <span style=\"font-weight: bold\">[]</span>,\n",
       "    <span style=\"color: #008000; text-decoration-color: #008000\">'Latitude'</span>: <span style=\"color: #008000; text-decoration-color: #008000\">''</span>,\n",
       "    <span style=\"color: #008000; text-decoration-color: #008000\">'Longitude'</span>: <span style=\"color: #008000; text-decoration-color: #008000\">''</span>,\n",
       "    <span style=\"color: #008000; text-decoration-color: #008000\">'Uso_de_PF'</span>: <span style=\"color: #008000; text-decoration-color: #008000\">''</span>,\n",
       "    <span style=\"color: #008000; text-decoration-color: #008000\">'Acao_de_risco_a_vida_criada'</span>: <span style=\"color: #008000; text-decoration-color: #008000\">''</span>,\n",
       "    <span style=\"color: #008000; text-decoration-color: #008000\">'Frequencia_Inicial'</span>: <span style=\"color: #008000; text-decoration-color: #008000\">''</span>,\n",
       "    <span style=\"color: #008000; text-decoration-color: #008000\">'Unidade_da_Frequencia_Inicial'</span>: <span style=\"color: #008000; text-decoration-color: #008000\">''</span>,\n",
       "    <span style=\"color: #008000; text-decoration-color: #008000\">'Frequencia_Final'</span>: <span style=\"color: #008000; text-decoration-color: #008000\">''</span>,\n",
       "    <span style=\"color: #008000; text-decoration-color: #008000\">'Unidade_da_Frequencia_Final'</span>: <span style=\"color: #008000; text-decoration-color: #008000\">''</span>,\n",
       "    <span style=\"color: #008000; text-decoration-color: #008000\">'Agrupamento'</span>: <span style=\"color: #008000; text-decoration-color: #008000\">''</span>,\n",
       "    <span style=\"color: #008000; text-decoration-color: #008000\">'AppFiscaliza'</span>: <span style=\"color: #008000; text-decoration-color: #008000\">'0'</span>,\n",
       "    <span style=\"color: #008000; text-decoration-color: #008000\">'Relatorio_de_Monitoramento'</span>: <span style=\"color: #008000; text-decoration-color: #008000\">''</span>,\n",
       "    <span style=\"color: #008000; text-decoration-color: #008000\">'Reservar_Instrumentos'</span>: <span style=\"color: #008000; text-decoration-color: #008000\">''</span>,\n",
       "    <span style=\"color: #008000; text-decoration-color: #008000\">'Utilizou_algum_instrumento'</span>: <span style=\"color: #008000; text-decoration-color: #008000\">''</span>,\n",
       "    <span style=\"color: #008000; text-decoration-color: #008000\">'Coordenadas_Geograficas'</span>: <span style=\"color: #008000; text-decoration-color: #008000\">''</span>,\n",
       "    <span style=\"color: #008000; text-decoration-color: #008000\">'id_ACAO'</span>: <span style=\"color: #008080; text-decoration-color: #008080; font-weight: bold\">84857</span>,\n",
       "    <span style=\"color: #008000; text-decoration-color: #008000\">'nome_ACAO'</span>: <span style=\"color: #008000; text-decoration-color: #008000\">'ACAO_GR01_2022_0419'</span>,\n",
       "    <span style=\"color: #008000; text-decoration-color: #008000\">'descricao_ACAO'</span>: <span style=\"color: #008000; text-decoration-color: #008000\">''</span>,\n",
       "    <span style=\"color: #008000; text-decoration-color: #008000\">'Users'</span>: <span style=\"font-weight: bold\">[</span>\n",
       "        <span style=\"color: #008000; text-decoration-color: #008000\">'Alexandre Elias de Andrade Oliveira'</span>,\n",
       "        <span style=\"color: #008000; text-decoration-color: #008000\">'Alexandre Freitas de Lima'</span>,\n",
       "        <span style=\"color: #008000; text-decoration-color: #008000\">'Alexandre Inacio'</span>,\n",
       "        <span style=\"color: #008000; text-decoration-color: #008000\">'Alexandre Junzo Hamada'</span>,\n",
       "        <span style=\"color: #008000; text-decoration-color: #008000\">'Alfredo de Andrade Filho'</span>,\n",
       "        <span style=\"color: #008000; text-decoration-color: #008000\">'Ananias Pereira'</span>,\n",
       "        <span style=\"color: #008000; text-decoration-color: #008000\">'Andre Pereira Martins'</span>,\n",
       "        <span style=\"color: #008000; text-decoration-color: #008000\">'Antonio Carlos Cardoso de Mello'</span>,\n",
       "        <span style=\"color: #008000; text-decoration-color: #008000\">'Aparecido Sebastiao da Silva'</span>,\n",
       "        <span style=\"color: #008000; text-decoration-color: #008000\">'Arthur Pisaruk'</span>,\n",
       "        <span style=\"color: #008000; text-decoration-color: #008000\">'Carlos Augusto de Carvalho'</span>,\n",
       "        <span style=\"color: #008000; text-decoration-color: #008000\">'Carlos Eduardo Guimaraes Silveira'</span>,\n",
       "        <span style=\"color: #008000; text-decoration-color: #008000\">'Carlos da Paixao Filho'</span>,\n",
       "        <span style=\"color: #008000; text-decoration-color: #008000\">'Celio Yukio Takahashi'</span>,\n",
       "        <span style=\"color: #008000; text-decoration-color: #008000\">'Celso Luiz Maximino'</span>,\n",
       "        <span style=\"color: #008000; text-decoration-color: #008000\">'Daniel Eduardo Calza'</span>,\n",
       "        <span style=\"color: #008000; text-decoration-color: #008000\">'Diogo Caldeira'</span>,\n",
       "        <span style=\"color: #008000; text-decoration-color: #008000\">'Ediceu Beraldi'</span>,\n",
       "        <span style=\"color: #008000; text-decoration-color: #008000\">'Eduardo Narkevicius'</span>,\n",
       "        <span style=\"color: #008000; text-decoration-color: #008000\">'Elcio Maehara'</span>,\n",
       "        <span style=\"color: #008000; text-decoration-color: #008000\">'Eustaquio Lages Duarte'</span>,\n",
       "        <span style=\"color: #008000; text-decoration-color: #008000\">'Fiscal UD'</span>,\n",
       "        <span style=\"color: #008000; text-decoration-color: #008000\">'Gauber Albuquerque'</span>,\n",
       "        <span style=\"color: #008000; text-decoration-color: #008000\">'Gilson Ponce Ayres Filho'</span>,\n",
       "        <span style=\"color: #008000; text-decoration-color: #008000\">'Helio Lopes de Carvalho Filho'</span>,\n",
       "        <span style=\"color: #008000; text-decoration-color: #008000\">'Higor da Paz Melo'</span>,\n",
       "        <span style=\"color: #008000; text-decoration-color: #008000\">'Hugo Santana Lima'</span>,\n",
       "        <span style=\"color: #008000; text-decoration-color: #008000\">'Humberto Barbosa Vinagre'</span>,\n",
       "        <span style=\"color: #008000; text-decoration-color: #008000\">'Jamilson Evangelista'</span>,\n",
       "        <span style=\"color: #008000; text-decoration-color: #008000\">'Joao Yokoyama'</span>,\n",
       "        <span style=\"color: #008000; text-decoration-color: #008000\">'Joaquim Miranda'</span>,\n",
       "        <span style=\"color: #008000; text-decoration-color: #008000\">'Jose Ribeiro Carneiro'</span>,\n",
       "        <span style=\"color: #008000; text-decoration-color: #008000\">'José Antônio S. Sanches'</span>,\n",
       "        <span style=\"color: #008000; text-decoration-color: #008000\">'Julio Cesar de Assis Santos'</span>,\n",
       "        <span style=\"color: #008000; text-decoration-color: #008000\">'Kiyotomo Kawamura'</span>,\n",
       "        <span style=\"color: #008000; text-decoration-color: #008000\">'Laert Calil Junior'</span>,\n",
       "        <span style=\"color: #008000; text-decoration-color: #008000\">'Lannei Vilela Moraes'</span>,\n",
       "        <span style=\"color: #008000; text-decoration-color: #008000\">'Luis Lagomes'</span>,\n",
       "        <span style=\"color: #008000; text-decoration-color: #008000\">'Luiz Vinicios Mielniczuk Seelig'</span>,\n",
       "        <span style=\"color: #008000; text-decoration-color: #008000\">'Marcelo Augusto Scacabarozi'</span>,\n",
       "        <span style=\"color: #008000; text-decoration-color: #008000\">'Marcelo Vaz Netto'</span>,\n",
       "        <span style=\"color: #008000; text-decoration-color: #008000\">'Marcio Colazingari'</span>,\n",
       "        <span style=\"color: #008000; text-decoration-color: #008000\">'Marcio Costa'</span>,\n",
       "        <span style=\"color: #008000; text-decoration-color: #008000\">'Marcio Rodrigues Maciel'</span>,\n",
       "        <span style=\"color: #008000; text-decoration-color: #008000\">'Marcos Antônio Rodrigues'</span>,\n",
       "        <span style=\"color: #008000; text-decoration-color: #008000\">'Marcos Juliano Valim da Silva'</span>,\n",
       "        <span style=\"color: #008000; text-decoration-color: #008000\">'Maria Lourenço'</span>,\n",
       "        <span style=\"color: #008000; text-decoration-color: #008000\">'Maria Teresa Flosi Garrafa'</span>,\n",
       "        <span style=\"color: #008000; text-decoration-color: #008000\">'Mario Augusto Volpini'</span>,\n",
       "        <span style=\"color: #008000; text-decoration-color: #008000\">'Murilo Amaro'</span>,\n",
       "        <span style=\"color: #008000; text-decoration-color: #008000\">'Osnir Lopes'</span>,\n",
       "        <span style=\"color: #008000; text-decoration-color: #008000\">'Paulo Diogo Costa'</span>,\n",
       "        <span style=\"color: #008000; text-decoration-color: #008000\">'Pedro Arai'</span>,\n",
       "        <span style=\"color: #008000; text-decoration-color: #008000\">'Renato Sadao Kushioyada'</span>,\n",
       "        <span style=\"color: #008000; text-decoration-color: #008000\">'Renato Schmeiske'</span>,\n",
       "        <span style=\"color: #008000; text-decoration-color: #008000\">'Ricardo Santos Marques'</span>,\n",
       "        <span style=\"color: #008000; text-decoration-color: #008000\">'Ricardo da Silva e Souza'</span>,\n",
       "        <span style=\"color: #008000; text-decoration-color: #008000\">'Roberto Carlos Soares Campos'</span>,\n",
       "        <span style=\"color: #008000; text-decoration-color: #008000\">'Roberto Ferreira dos Santos'</span>,\n",
       "        <span style=\"color: #008000; text-decoration-color: #008000\">'Roberto Takata'</span>,\n",
       "        <span style=\"color: #008000; text-decoration-color: #008000\">'Rodrigo Barbosa de Paula'</span>,\n",
       "        <span style=\"color: #008000; text-decoration-color: #008000\">'Rogerio Zambotto'</span>,\n",
       "        <span style=\"color: #008000; text-decoration-color: #008000\">'Ronaldo da Silva Alves Batista'</span>,\n",
       "        <span style=\"color: #008000; text-decoration-color: #008000\">'Sergio Pereira'</span>,\n",
       "        <span style=\"color: #008000; text-decoration-color: #008000\">'Thiago Silva'</span>,\n",
       "        <span style=\"color: #008000; text-decoration-color: #008000\">'Thomaz Honma Ishida'</span>,\n",
       "        <span style=\"color: #008000; text-decoration-color: #008000\">'Vinicius Paiva de Oliveira'</span>,\n",
       "        <span style=\"color: #008000; text-decoration-color: #008000\">'Vitor Zelada'</span>,\n",
       "        <span style=\"color: #008000; text-decoration-color: #008000\">'Wellington Devechi Piauilino'</span>,\n",
       "        <span style=\"color: #008000; text-decoration-color: #008000\">'Wesley Souza Chaves'</span>,\n",
       "        <span style=\"color: #008000; text-decoration-color: #008000\">'Wladimir Senise'</span>\n",
       "    <span style=\"font-weight: bold\">]</span>,\n",
       "    <span style=\"color: #008000; text-decoration-color: #008000\">'Atualizado'</span>: <span style=\"color: #008000; text-decoration-color: #008000\">'Atualizado por Laert Calil Junior em 18/04/2022 às 09:14:17'</span>\n",
       "<span style=\"font-weight: bold\">}</span>\n",
       "</pre>\n"
      ],
      "text/plain": [
       "\u001b[1m{\u001b[0m\n",
       "    \u001b[32m'Anexos'\u001b[0m: \u001b[1m{\u001b[0m\u001b[1m}\u001b[0m,\n",
       "    \u001b[32m'id'\u001b[0m: \u001b[32m'84859'\u001b[0m,\n",
       "    \u001b[32m'subject'\u001b[0m: \u001b[32m'INSP_GR01_2022_0339'\u001b[0m,\n",
       "    \u001b[32m'status'\u001b[0m: \u001b[32m'Aguardando Execução'\u001b[0m,\n",
       "    \u001b[32m'priority'\u001b[0m: \u001b[32m'Normal'\u001b[0m,\n",
       "    \u001b[32m'start_date'\u001b[0m: \u001b[32m'2022-03-11'\u001b[0m,\n",
       "    \u001b[32m'due_date'\u001b[0m: \u001b[32m'2022-09-07'\u001b[0m,\n",
       "    \u001b[32m'description'\u001b[0m: \u001b[32m'Processo nº 53500.019195/2022-19.'\u001b[0m,\n",
       "    \u001b[32m'Data_de_inicio_efetivo'\u001b[0m: \u001b[32m''\u001b[0m,\n",
       "    \u001b[32m'Classe_da_Inspecao'\u001b[0m: \u001b[32m'Técnica'\u001b[0m,\n",
       "    \u001b[32m'Tipo_de_Inspecao'\u001b[0m: \u001b[32m'Uso do Espectro - Monitoração'\u001b[0m,\n",
       "    \u001b[32m'Ano'\u001b[0m: \u001b[32m'2022'\u001b[0m,\n",
       "    \u001b[32m'Coordenacao'\u001b[0m: \u001b[32m'FI3'\u001b[0m,\n",
       "    \u001b[32m'Numero_Sei_do_Processo'\u001b[0m: \u001b[32m'\u001b[0m\u001b[32m{\u001b[0m\u001b[32m\"numero\"=>\"53500.019195/2022-19\", \"link_acesso\"=>\"https://sei\u001b[0m\n",
       "\u001b[32m.anatel.gov.br/sei/controlador.php?\u001b[0m\u001b[32macao\u001b[0m\u001b[32m=\u001b[0m\u001b[32mprocedimento_trabalhar\u001b[0m\u001b[32m&\u001b[0m\u001b[32mid_procedimento\u001b[0m\u001b[32m=\u001b[0m\u001b[32m9188972\"\u001b[0m\u001b[32m}\u001b[0m\u001b[32m'\u001b[0m,\n",
       "    \u001b[32m'Fiscal_Responsavel'\u001b[0m: \u001b[32m'Ronaldo da Silva Alves Batista'\u001b[0m,\n",
       "    \u001b[32m'Fiscais'\u001b[0m: \u001b[1m[\u001b[0m\u001b[32m'Ronaldo da Silva Alves Batista'\u001b[0m\u001b[1m]\u001b[0m,\n",
       "    \u001b[32m'Entidade_da_Inspecao'\u001b[0m: \u001b[1m[\u001b[0m\u001b[1m]\u001b[0m,\n",
       "    \u001b[32m'UF_Municipio'\u001b[0m: \u001b[1m[\u001b[0m\u001b[32m'AM/Manaus'\u001b[0m\u001b[1m]\u001b[0m,\n",
       "    \u001b[32m'Servicos_da_Inspecao'\u001b[0m: \u001b[1m[\u001b[0m\u001b[1m]\u001b[0m,\n",
       "    \u001b[32m'Qtd_Emissoes'\u001b[0m: \u001b[32m''\u001b[0m,\n",
       "    \u001b[32m'Emissoes_nao_autorizadas'\u001b[0m: \u001b[32m''\u001b[0m,\n",
       "    \u001b[32m'Horas_de_Preparacao'\u001b[0m: \u001b[32m''\u001b[0m,\n",
       "    \u001b[32m'Horas_de_Deslocamento'\u001b[0m: \u001b[32m''\u001b[0m,\n",
       "    \u001b[32m'Horas_de_Execucao'\u001b[0m: \u001b[32m''\u001b[0m,\n",
       "    \u001b[32m'Horas_de_Conclusao'\u001b[0m: \u001b[32m''\u001b[0m,\n",
       "    \u001b[32m'SAV'\u001b[0m: \u001b[32m''\u001b[0m,\n",
       "    \u001b[32m'PCDP'\u001b[0m: \u001b[32m''\u001b[0m,\n",
       "    \u001b[32m'Procedimentos'\u001b[0m: \u001b[1m[\u001b[0m\u001b[1m]\u001b[0m,\n",
       "    \u001b[32m'Latitude'\u001b[0m: \u001b[32m''\u001b[0m,\n",
       "    \u001b[32m'Longitude'\u001b[0m: \u001b[32m''\u001b[0m,\n",
       "    \u001b[32m'Uso_de_PF'\u001b[0m: \u001b[32m''\u001b[0m,\n",
       "    \u001b[32m'Acao_de_risco_a_vida_criada'\u001b[0m: \u001b[32m''\u001b[0m,\n",
       "    \u001b[32m'Frequencia_Inicial'\u001b[0m: \u001b[32m''\u001b[0m,\n",
       "    \u001b[32m'Unidade_da_Frequencia_Inicial'\u001b[0m: \u001b[32m''\u001b[0m,\n",
       "    \u001b[32m'Frequencia_Final'\u001b[0m: \u001b[32m''\u001b[0m,\n",
       "    \u001b[32m'Unidade_da_Frequencia_Final'\u001b[0m: \u001b[32m''\u001b[0m,\n",
       "    \u001b[32m'Agrupamento'\u001b[0m: \u001b[32m''\u001b[0m,\n",
       "    \u001b[32m'AppFiscaliza'\u001b[0m: \u001b[32m'0'\u001b[0m,\n",
       "    \u001b[32m'Relatorio_de_Monitoramento'\u001b[0m: \u001b[32m''\u001b[0m,\n",
       "    \u001b[32m'Reservar_Instrumentos'\u001b[0m: \u001b[32m''\u001b[0m,\n",
       "    \u001b[32m'Utilizou_algum_instrumento'\u001b[0m: \u001b[32m''\u001b[0m,\n",
       "    \u001b[32m'Coordenadas_Geograficas'\u001b[0m: \u001b[32m''\u001b[0m,\n",
       "    \u001b[32m'id_ACAO'\u001b[0m: \u001b[1;36m84857\u001b[0m,\n",
       "    \u001b[32m'nome_ACAO'\u001b[0m: \u001b[32m'ACAO_GR01_2022_0419'\u001b[0m,\n",
       "    \u001b[32m'descricao_ACAO'\u001b[0m: \u001b[32m''\u001b[0m,\n",
       "    \u001b[32m'Users'\u001b[0m: \u001b[1m[\u001b[0m\n",
       "        \u001b[32m'Alexandre Elias de Andrade Oliveira'\u001b[0m,\n",
       "        \u001b[32m'Alexandre Freitas de Lima'\u001b[0m,\n",
       "        \u001b[32m'Alexandre Inacio'\u001b[0m,\n",
       "        \u001b[32m'Alexandre Junzo Hamada'\u001b[0m,\n",
       "        \u001b[32m'Alfredo de Andrade Filho'\u001b[0m,\n",
       "        \u001b[32m'Ananias Pereira'\u001b[0m,\n",
       "        \u001b[32m'Andre Pereira Martins'\u001b[0m,\n",
       "        \u001b[32m'Antonio Carlos Cardoso de Mello'\u001b[0m,\n",
       "        \u001b[32m'Aparecido Sebastiao da Silva'\u001b[0m,\n",
       "        \u001b[32m'Arthur Pisaruk'\u001b[0m,\n",
       "        \u001b[32m'Carlos Augusto de Carvalho'\u001b[0m,\n",
       "        \u001b[32m'Carlos Eduardo Guimaraes Silveira'\u001b[0m,\n",
       "        \u001b[32m'Carlos da Paixao Filho'\u001b[0m,\n",
       "        \u001b[32m'Celio Yukio Takahashi'\u001b[0m,\n",
       "        \u001b[32m'Celso Luiz Maximino'\u001b[0m,\n",
       "        \u001b[32m'Daniel Eduardo Calza'\u001b[0m,\n",
       "        \u001b[32m'Diogo Caldeira'\u001b[0m,\n",
       "        \u001b[32m'Ediceu Beraldi'\u001b[0m,\n",
       "        \u001b[32m'Eduardo Narkevicius'\u001b[0m,\n",
       "        \u001b[32m'Elcio Maehara'\u001b[0m,\n",
       "        \u001b[32m'Eustaquio Lages Duarte'\u001b[0m,\n",
       "        \u001b[32m'Fiscal UD'\u001b[0m,\n",
       "        \u001b[32m'Gauber Albuquerque'\u001b[0m,\n",
       "        \u001b[32m'Gilson Ponce Ayres Filho'\u001b[0m,\n",
       "        \u001b[32m'Helio Lopes de Carvalho Filho'\u001b[0m,\n",
       "        \u001b[32m'Higor da Paz Melo'\u001b[0m,\n",
       "        \u001b[32m'Hugo Santana Lima'\u001b[0m,\n",
       "        \u001b[32m'Humberto Barbosa Vinagre'\u001b[0m,\n",
       "        \u001b[32m'Jamilson Evangelista'\u001b[0m,\n",
       "        \u001b[32m'Joao Yokoyama'\u001b[0m,\n",
       "        \u001b[32m'Joaquim Miranda'\u001b[0m,\n",
       "        \u001b[32m'Jose Ribeiro Carneiro'\u001b[0m,\n",
       "        \u001b[32m'José Antônio S. Sanches'\u001b[0m,\n",
       "        \u001b[32m'Julio Cesar de Assis Santos'\u001b[0m,\n",
       "        \u001b[32m'Kiyotomo Kawamura'\u001b[0m,\n",
       "        \u001b[32m'Laert Calil Junior'\u001b[0m,\n",
       "        \u001b[32m'Lannei Vilela Moraes'\u001b[0m,\n",
       "        \u001b[32m'Luis Lagomes'\u001b[0m,\n",
       "        \u001b[32m'Luiz Vinicios Mielniczuk Seelig'\u001b[0m,\n",
       "        \u001b[32m'Marcelo Augusto Scacabarozi'\u001b[0m,\n",
       "        \u001b[32m'Marcelo Vaz Netto'\u001b[0m,\n",
       "        \u001b[32m'Marcio Colazingari'\u001b[0m,\n",
       "        \u001b[32m'Marcio Costa'\u001b[0m,\n",
       "        \u001b[32m'Marcio Rodrigues Maciel'\u001b[0m,\n",
       "        \u001b[32m'Marcos Antônio Rodrigues'\u001b[0m,\n",
       "        \u001b[32m'Marcos Juliano Valim da Silva'\u001b[0m,\n",
       "        \u001b[32m'Maria Lourenço'\u001b[0m,\n",
       "        \u001b[32m'Maria Teresa Flosi Garrafa'\u001b[0m,\n",
       "        \u001b[32m'Mario Augusto Volpini'\u001b[0m,\n",
       "        \u001b[32m'Murilo Amaro'\u001b[0m,\n",
       "        \u001b[32m'Osnir Lopes'\u001b[0m,\n",
       "        \u001b[32m'Paulo Diogo Costa'\u001b[0m,\n",
       "        \u001b[32m'Pedro Arai'\u001b[0m,\n",
       "        \u001b[32m'Renato Sadao Kushioyada'\u001b[0m,\n",
       "        \u001b[32m'Renato Schmeiske'\u001b[0m,\n",
       "        \u001b[32m'Ricardo Santos Marques'\u001b[0m,\n",
       "        \u001b[32m'Ricardo da Silva e Souza'\u001b[0m,\n",
       "        \u001b[32m'Roberto Carlos Soares Campos'\u001b[0m,\n",
       "        \u001b[32m'Roberto Ferreira dos Santos'\u001b[0m,\n",
       "        \u001b[32m'Roberto Takata'\u001b[0m,\n",
       "        \u001b[32m'Rodrigo Barbosa de Paula'\u001b[0m,\n",
       "        \u001b[32m'Rogerio Zambotto'\u001b[0m,\n",
       "        \u001b[32m'Ronaldo da Silva Alves Batista'\u001b[0m,\n",
       "        \u001b[32m'Sergio Pereira'\u001b[0m,\n",
       "        \u001b[32m'Thiago Silva'\u001b[0m,\n",
       "        \u001b[32m'Thomaz Honma Ishida'\u001b[0m,\n",
       "        \u001b[32m'Vinicius Paiva de Oliveira'\u001b[0m,\n",
       "        \u001b[32m'Vitor Zelada'\u001b[0m,\n",
       "        \u001b[32m'Wellington Devechi Piauilino'\u001b[0m,\n",
       "        \u001b[32m'Wesley Souza Chaves'\u001b[0m,\n",
       "        \u001b[32m'Wladimir Senise'\u001b[0m\n",
       "    \u001b[1m]\u001b[0m,\n",
       "    \u001b[32m'Atualizado'\u001b[0m: \u001b[32m'Atualizado por Laert Calil Junior em 18/04/2022 às 09:14:17'\u001b[0m\n",
       "\u001b[1m}\u001b[0m\n"
      ]
     },
     "metadata": {},
     "output_type": "display_data"
    }
   ],
   "source": [
    "issue = '84859'\n",
    "detalhes = detalhar_issue(issue, login, senha, teste=False)\n",
    "console.print(detalhes)"
   ]
  },
  {
   "cell_type": "code",
   "execution_count": null,
   "metadata": {},
   "outputs": [],
   "source": [
    "d = {}\n",
    "\n",
    "d['Classe_da_Inspecao'] = 'Técnica' # str\n",
    "\n",
    "d['Tipo_de_Inspecao'] = 'Uso do Espectro - Monitoração' #str\n",
    "\n",
    "d['description'] = '''A Superintendência de Outorga e Recursos à Prestação solicitou realização de monitoração na faixa 70-110 MHz.Especificamente a emissora centrada em 91.5MHz para verificação se a intensidade do sinal está dentro dos valores esperados..''' #str\n",
    "\n",
    "d['Fiscal_Responsavel'] = 'Ronaldo da Silva Alves Batista' #str\n",
    "\n",
    "d['Fiscais'] = ['Ronaldo da Silva Alves Batista'] #string ou lista de strings\n",
    "\n",
    "# # Windows\n",
    "# d['Html'] = r'D:\\html_simples.html' #str\n",
    "\n",
    "# #ou \n",
    "\n",
    "# #Unix d['Html'] = '/d/OneDrive - ANATEL/Monitoramento/53504.0005432021-55/Guarulhos.html' #str\n",
    "            \n",
    "d['Gerar_Relatorio'] = 0 # int 0 ou 1\n",
    "\n",
    "d['Frequencia_Inicial']  = 91.5 #int ou float\n",
    "\n",
    "d['Unidade_da_Frequencia_Inicial'] = 'MHz' #string\n",
    "\n",
    "d['Frequencia_Final'] = 91.5 #int ou float\n",
    "\n",
    "d['Unidade_da_Frequencia_Final'] = 'MHz' #string\n",
    "\n",
    "d['start_date'] = '2022-03-11' #YYYY-MM-DD #string nesse formato\n",
    "\n",
    "d['due_date'] = '2022-09-07'  #YYYY-MM-DD #string nesse formato\n",
    "\n",
    "d['UF_Municipio'] = \"AM/Manaus\" # string ou Lista de Strings: [\"SP/São Paulo\", \"SP/Sorocaba\"]\n",
    "\n",
    "d['Servicos_da_Inspecao'] = ['230'] # String ou Lista de Strings\n",
    "\n",
    "d['Qtd_Emissoes'] = 1 # int\n",
    "\n",
    "# d[\"Qtd_Licenciadas\"] = 1\n",
    "\n",
    "# d[\"Qtd_Identificadas\"] = 1\n",
    "\n",
    "d['Emissoes_nao_autorizadas'] = 0 # int\n",
    "\n",
    "d['Horas_de_Preparacao'] = 2 # int\n",
    "\n",
    "d['Horas_de_Deslocamento'] = 0 # int\n",
    "\n",
    "d['Horas_de_Execucao'] = 8 # int\n",
    "\n",
    "d['Horas_de_Conclusao'] = 6 # int\n",
    "\n",
    "d['Latitude'] =  -3.113113 # float\n",
    "\n",
    "d['Longitude'] = -60.013938 # float\n",
    "\n",
    "d['Uso_de_PF'] = 'Não se aplica PF - uso apenas de formulários' # string\n",
    "\n",
    "d['Acao_de_risco_a_vida_criada'] = 'Não' # string Sim | Não\n",
    "\n",
    "d['Impossibilidade_acesso_online'] = '0' # string '0' | '1'\n",
    "\n",
    "d['Reservar_Instrumentos'] = '0' #string '0' = Não | '1' = 'Sim'\n",
    "\n",
    "d['Utilizou_algum_instrumento'] = '0'\n",
    "\n",
    "d['notes'] = \"\"\"Vemos que o nível médio medido ficou da ordem de 35.2 dB inferior e o nível máximo da ordem de 25.2 dB inferior do valor esperado pela simulação de cobertura, indicando potenciais perdas adicionais não contabilizadas pelo modelo de propagação.\n",
    "\n",
    "Cabe salientar que concomitantemente à monitoração efetuada no item 4 foi efetuada a demodulação do sinal de áudio e monitoração do sinal ao vivo e não foi constatado qualquer sinal de interferência, batimento ou produto de intermodulação.\"\"\"\n",
    "\n",
    "# d['notes'] = [\"\"\"[{\"Banda\":\"87.800 - 108.000 MHz\", \"Licenciados\":31,\"NaoLicenciados\":4,\"NaoLicenciaveis\":0, 'Espúrio': 2, \"NaoIdentificada\": 1, \"NaoManifestada\": 0},\n",
    "#                 {\"Banda\":\"470.000 - 698.000 MHz\",\"Sinais\":19,\"Licenciados\":19,\"NaoLicenciados\":0,\"NaoLicenciaveis\":0, 'Espúrio': 2, \"NaoIdentificada\": 1, \"NaoManifestada\": 0}]\n",
    "#             \"\"\"]\n",
    "\n",
    "# No caso de uma tabela, string formatada como csv\n",
    "\n",
    "# d['notes'] = [\"\"\"Faixa, Classe Especial, Classe A, Classe B, Classe C\n",
    "#                 VHF-L,0,5,7,5\n",
    "#                 VHF-H,0,12,1,0\n",
    "#                 UHF,1,1,2,4\n",
    "#                 FM,5,1,0,0\n",
    "#                 RADCOM,0,0,0,0\n",
    "#                 Outorgadas com indícios de irregularidades,1,2,3,4\n",
    "#               \"\"\",\n",
    "#               \"\"\"[{\"Banda\":\"87.800 - 108.000 MHz\",\"Sinais\":35,\"Licenciados\":31,\"NaoLicenciados\":4,\"NaoLicenciaveis\":0},\n",
    "#                   {\"Banda\":\"470.000 - 698.000 MHz\",\"Sinais\":19,\"Licenciados\":19,\"NaoLicenciados\":0,\"NaoLicenciaveis\":0}]\n",
    "#               \"\"\"]\n",
    "\n",
    "# d['uploads'] = {'path': r'D:\\OneDrive - ANATEL\\Monitoramento\\Processos\\Diogo\\Mapa3\\106_1.csv', \n",
    "#                 'filename': \"Lista_de_Exceção_PMEC_Etapa_2_Sorocaba\", \n",
    "#                 'description': \"Lista de Emissões Desmascaradas e Não Licenciadas\",\n",
    "#                 'content_type': '.csv'\n",
    "#                }"
   ]
  },
  {
   "cell_type": "code",
   "execution_count": null,
   "metadata": {},
   "outputs": [],
   "source": [
    "dados = validar_dicionario(d, issue, login, senha, teste=False)"
   ]
  },
  {
   "cell_type": "code",
   "execution_count": null,
   "metadata": {},
   "outputs": [
    {
     "data": {
      "text/html": [
       "<pre style=\"white-space:pre;overflow-x:auto;line-height:normal;font-family:Menlo,'DejaVu Sans Mono',consolas,'Courier New',monospace\"><span style=\"color: #000080; text-decoration-color: #000080\">Classe_da_Inspecao </span><span style=\"color: #800000; text-decoration-color: #800000\">-&gt; </span><span style=\"color: #008000; text-decoration-color: #008000; font-weight: bold\">{</span><span style=\"color: #008000; text-decoration-color: #008000\">'id'</span><span style=\"color: #008000; text-decoration-color: #008000\">: </span><span style=\"color: #008000; text-decoration-color: #008000; font-weight: bold\">89</span><span style=\"color: #008000; text-decoration-color: #008000\">, </span><span style=\"color: #008000; text-decoration-color: #008000\">'value'</span><span style=\"color: #008000; text-decoration-color: #008000\">: </span><span style=\"color: #008000; text-decoration-color: #008000\">'{\"valor\":\"Técnica\",\"texto\":\"Técnica\"}'</span><span style=\"color: #008000; text-decoration-color: #008000; font-weight: bold\">}</span>\n",
       "</pre>\n"
      ],
      "text/plain": [
       "\u001b[34mClasse_da_Inspecao \u001b[0m\u001b[31m-> \u001b[0m\u001b[1;32m{\u001b[0m\u001b[32m'id'\u001b[0m\u001b[32m: \u001b[0m\u001b[1;32m89\u001b[0m\u001b[32m, \u001b[0m\u001b[32m'value'\u001b[0m\u001b[32m: \u001b[0m\u001b[32m'\u001b[0m\u001b[32m{\u001b[0m\u001b[32m\"valor\":\"Técnica\",\"texto\":\"Técnica\"\u001b[0m\u001b[32m}\u001b[0m\u001b[32m'\u001b[0m\u001b[1;32m}\u001b[0m\n"
      ]
     },
     "metadata": {},
     "output_type": "display_data"
    },
    {
     "data": {
      "text/html": [
       "<pre style=\"white-space:pre;overflow-x:auto;line-height:normal;font-family:Menlo,'DejaVu Sans Mono',consolas,'Courier New',monospace\"><span style=\"color: #000080; text-decoration-color: #000080\">Tipo_de_Inspecao </span><span style=\"color: #800000; text-decoration-color: #800000\">-&gt; </span><span style=\"color: #008000; text-decoration-color: #008000; font-weight: bold\">{</span><span style=\"color: #008000; text-decoration-color: #008000\">'id'</span><span style=\"color: #008000; text-decoration-color: #008000\">: </span><span style=\"color: #008000; text-decoration-color: #008000; font-weight: bold\">2</span><span style=\"color: #008000; text-decoration-color: #008000\">, </span><span style=\"color: #008000; text-decoration-color: #008000\">'value'</span><span style=\"color: #008000; text-decoration-color: #008000\">: </span><span style=\"color: #008000; text-decoration-color: #008000\">'{\"valor\":\"Uso do Espectro - Monitoração\",\"texto\":\"Uso</span>\n",
       "<span style=\"color: #008000; text-decoration-color: #008000\">do Espectro - Monitoração\"}'</span><span style=\"color: #008000; text-decoration-color: #008000; font-weight: bold\">}</span>\n",
       "</pre>\n"
      ],
      "text/plain": [
       "\u001b[34mTipo_de_Inspecao \u001b[0m\u001b[31m-> \u001b[0m\u001b[1;32m{\u001b[0m\u001b[32m'id'\u001b[0m\u001b[32m: \u001b[0m\u001b[1;32m2\u001b[0m\u001b[32m, \u001b[0m\u001b[32m'value'\u001b[0m\u001b[32m: \u001b[0m\u001b[32m'\u001b[0m\u001b[32m{\u001b[0m\u001b[32m\"valor\":\"Uso do Espectro - Monitoração\",\"texto\":\"Uso\u001b[0m\n",
       "\u001b[32mdo Espectro - Monitoração\"\u001b[0m\u001b[32m}\u001b[0m\u001b[32m'\u001b[0m\u001b[1;32m}\u001b[0m\n"
      ]
     },
     "metadata": {},
     "output_type": "display_data"
    },
    {
     "data": {
      "text/html": [
       "<pre style=\"white-space:pre;overflow-x:auto;line-height:normal;font-family:Menlo,'DejaVu Sans Mono',consolas,'Courier New',monospace\"><span style=\"color: #000080; text-decoration-color: #000080\">description </span><span style=\"color: #800000; text-decoration-color: #800000\">-&gt; </span><span style=\"color: #008000; text-decoration-color: #008000\">A Superintendência de Outorga e Recursos à Prestação solicitou realização de </span>\n",
       "<span style=\"color: #008000; text-decoration-color: #008000\">monitoração na faixa </span><span style=\"color: #008000; text-decoration-color: #008000; font-weight: bold\">70</span><span style=\"color: #008000; text-decoration-color: #008000\">-</span><span style=\"color: #008000; text-decoration-color: #008000; font-weight: bold\">110</span><span style=\"color: #008000; text-decoration-color: #008000\"> MHz.Especificamente a emissora centrada em </span><span style=\"color: #008000; text-decoration-color: #008000; font-weight: bold\">91.</span><span style=\"color: #008000; text-decoration-color: #008000\">5MHz para </span>\n",
       "<span style=\"color: #008000; text-decoration-color: #008000\">verificação se a intensidade do sinal está dentro dos valores esperados..</span>\n",
       "</pre>\n"
      ],
      "text/plain": [
       "\u001b[34mdescription \u001b[0m\u001b[31m-> \u001b[0m\u001b[32mA Superintendência de Outorga e Recursos à Prestação solicitou realização de \u001b[0m\n",
       "\u001b[32mmonitoração na faixa \u001b[0m\u001b[1;32m70\u001b[0m\u001b[32m-\u001b[0m\u001b[1;32m110\u001b[0m\u001b[32m MHz.Especificamente a emissora centrada em \u001b[0m\u001b[1;32m91.\u001b[0m\u001b[32m5MHz para \u001b[0m\n",
       "\u001b[32mverificação se a intensidade do sinal está dentro dos valores esperados..\u001b[0m\n"
      ]
     },
     "metadata": {},
     "output_type": "display_data"
    },
    {
     "data": {
      "text/html": [
       "<pre style=\"white-space:pre;overflow-x:auto;line-height:normal;font-family:Menlo,'DejaVu Sans Mono',consolas,'Courier New',monospace\"><span style=\"color: #000080; text-decoration-color: #000080\">Fiscal_Responsavel </span><span style=\"color: #800000; text-decoration-color: #800000\">-&gt; </span><span style=\"color: #008000; text-decoration-color: #008000; font-weight: bold\">{</span><span style=\"color: #008000; text-decoration-color: #008000\">'id'</span><span style=\"color: #008000; text-decoration-color: #008000\">: </span><span style=\"color: #008000; text-decoration-color: #008000; font-weight: bold\">25</span><span style=\"color: #008000; text-decoration-color: #008000\">, </span><span style=\"color: #008000; text-decoration-color: #008000\">'value'</span><span style=\"color: #008000; text-decoration-color: #008000\">: </span><span style=\"color: #008000; text-decoration-color: #008000; font-weight: bold\">887</span><span style=\"color: #008000; text-decoration-color: #008000; font-weight: bold\">}</span>\n",
       "</pre>\n"
      ],
      "text/plain": [
       "\u001b[34mFiscal_Responsavel \u001b[0m\u001b[31m-> \u001b[0m\u001b[1;32m{\u001b[0m\u001b[32m'id'\u001b[0m\u001b[32m: \u001b[0m\u001b[1;32m25\u001b[0m\u001b[32m, \u001b[0m\u001b[32m'value'\u001b[0m\u001b[32m: \u001b[0m\u001b[1;32m887\u001b[0m\u001b[1;32m}\u001b[0m\n"
      ]
     },
     "metadata": {},
     "output_type": "display_data"
    },
    {
     "data": {
      "text/html": [
       "<pre style=\"white-space:pre;overflow-x:auto;line-height:normal;font-family:Menlo,'DejaVu Sans Mono',consolas,'Courier New',monospace\"><span style=\"color: #000080; text-decoration-color: #000080\">Fiscais </span><span style=\"color: #800000; text-decoration-color: #800000\">-&gt; </span><span style=\"color: #008000; text-decoration-color: #008000; font-weight: bold\">{</span><span style=\"color: #008000; text-decoration-color: #008000\">'id'</span><span style=\"color: #008000; text-decoration-color: #008000\">: </span><span style=\"color: #008000; text-decoration-color: #008000; font-weight: bold\">26</span><span style=\"color: #008000; text-decoration-color: #008000\">, </span><span style=\"color: #008000; text-decoration-color: #008000\">'value'</span><span style=\"color: #008000; text-decoration-color: #008000\">: </span><span style=\"color: #008000; text-decoration-color: #008000; font-weight: bold\">[</span><span style=\"color: #008000; text-decoration-color: #008000; font-weight: bold\">887</span><span style=\"color: #008000; text-decoration-color: #008000; font-weight: bold\">]}</span>\n",
       "</pre>\n"
      ],
      "text/plain": [
       "\u001b[34mFiscais \u001b[0m\u001b[31m-> \u001b[0m\u001b[1;32m{\u001b[0m\u001b[32m'id'\u001b[0m\u001b[32m: \u001b[0m\u001b[1;32m26\u001b[0m\u001b[32m, \u001b[0m\u001b[32m'value'\u001b[0m\u001b[32m: \u001b[0m\u001b[1;32m[\u001b[0m\u001b[1;32m887\u001b[0m\u001b[1;32m]\u001b[0m\u001b[1;32m}\u001b[0m\n"
      ]
     },
     "metadata": {},
     "output_type": "display_data"
    },
    {
     "data": {
      "text/html": [
       "<pre style=\"white-space:pre;overflow-x:auto;line-height:normal;font-family:Menlo,'DejaVu Sans Mono',consolas,'Courier New',monospace\"><span style=\"color: #000080; text-decoration-color: #000080\">Gerar_Relatorio </span><span style=\"color: #800000; text-decoration-color: #800000\">-&gt; </span><span style=\"color: #008000; text-decoration-color: #008000; font-weight: bold\">{</span><span style=\"color: #008000; text-decoration-color: #008000\">'id'</span><span style=\"color: #008000; text-decoration-color: #008000\">: </span><span style=\"color: #008000; text-decoration-color: #008000; font-weight: bold\">541</span><span style=\"color: #008000; text-decoration-color: #008000\">, </span><span style=\"color: #008000; text-decoration-color: #008000\">'value'</span><span style=\"color: #008000; text-decoration-color: #008000\">: </span><span style=\"color: #008000; text-decoration-color: #008000; font-weight: bold\">0</span><span style=\"color: #008000; text-decoration-color: #008000; font-weight: bold\">}</span>\n",
       "</pre>\n"
      ],
      "text/plain": [
       "\u001b[34mGerar_Relatorio \u001b[0m\u001b[31m-> \u001b[0m\u001b[1;32m{\u001b[0m\u001b[32m'id'\u001b[0m\u001b[32m: \u001b[0m\u001b[1;32m541\u001b[0m\u001b[32m, \u001b[0m\u001b[32m'value'\u001b[0m\u001b[32m: \u001b[0m\u001b[1;32m0\u001b[0m\u001b[1;32m}\u001b[0m\n"
      ]
     },
     "metadata": {},
     "output_type": "display_data"
    },
    {
     "data": {
      "text/html": [
       "<pre style=\"white-space:pre;overflow-x:auto;line-height:normal;font-family:Menlo,'DejaVu Sans Mono',consolas,'Courier New',monospace\"><span style=\"color: #000080; text-decoration-color: #000080\">Frequencia_Inicial </span><span style=\"color: #800000; text-decoration-color: #800000\">-&gt; </span><span style=\"color: #008000; text-decoration-color: #008000; font-weight: bold\">{</span><span style=\"color: #008000; text-decoration-color: #008000\">'id'</span><span style=\"color: #008000; text-decoration-color: #008000\">: </span><span style=\"color: #008000; text-decoration-color: #008000; font-weight: bold\">156</span><span style=\"color: #008000; text-decoration-color: #008000\">, </span><span style=\"color: #008000; text-decoration-color: #008000\">'value'</span><span style=\"color: #008000; text-decoration-color: #008000\">: </span><span style=\"color: #008000; text-decoration-color: #008000; font-weight: bold\">91.5</span><span style=\"color: #008000; text-decoration-color: #008000; font-weight: bold\">}</span>\n",
       "</pre>\n"
      ],
      "text/plain": [
       "\u001b[34mFrequencia_Inicial \u001b[0m\u001b[31m-> \u001b[0m\u001b[1;32m{\u001b[0m\u001b[32m'id'\u001b[0m\u001b[32m: \u001b[0m\u001b[1;32m156\u001b[0m\u001b[32m, \u001b[0m\u001b[32m'value'\u001b[0m\u001b[32m: \u001b[0m\u001b[1;32m91.5\u001b[0m\u001b[1;32m}\u001b[0m\n"
      ]
     },
     "metadata": {},
     "output_type": "display_data"
    },
    {
     "data": {
      "text/html": [
       "<pre style=\"white-space:pre;overflow-x:auto;line-height:normal;font-family:Menlo,'DejaVu Sans Mono',consolas,'Courier New',monospace\"><span style=\"color: #000080; text-decoration-color: #000080\">Unidade_da_Frequencia_Inicial </span><span style=\"color: #800000; text-decoration-color: #800000\">-&gt; </span><span style=\"color: #008000; text-decoration-color: #008000; font-weight: bold\">{</span><span style=\"color: #008000; text-decoration-color: #008000\">'id'</span><span style=\"color: #008000; text-decoration-color: #008000\">: </span><span style=\"color: #008000; text-decoration-color: #008000; font-weight: bold\">157</span><span style=\"color: #008000; text-decoration-color: #008000\">, </span><span style=\"color: #008000; text-decoration-color: #008000\">'value'</span><span style=\"color: #008000; text-decoration-color: #008000\">: </span><span style=\"color: #008000; text-decoration-color: #008000\">'MHz'</span><span style=\"color: #008000; text-decoration-color: #008000; font-weight: bold\">}</span>\n",
       "</pre>\n"
      ],
      "text/plain": [
       "\u001b[34mUnidade_da_Frequencia_Inicial \u001b[0m\u001b[31m-> \u001b[0m\u001b[1;32m{\u001b[0m\u001b[32m'id'\u001b[0m\u001b[32m: \u001b[0m\u001b[1;32m157\u001b[0m\u001b[32m, \u001b[0m\u001b[32m'value'\u001b[0m\u001b[32m: \u001b[0m\u001b[32m'MHz'\u001b[0m\u001b[1;32m}\u001b[0m\n"
      ]
     },
     "metadata": {},
     "output_type": "display_data"
    },
    {
     "data": {
      "text/html": [
       "<pre style=\"white-space:pre;overflow-x:auto;line-height:normal;font-family:Menlo,'DejaVu Sans Mono',consolas,'Courier New',monospace\"><span style=\"color: #000080; text-decoration-color: #000080\">Frequencia_Final </span><span style=\"color: #800000; text-decoration-color: #800000\">-&gt; </span><span style=\"color: #008000; text-decoration-color: #008000; font-weight: bold\">{</span><span style=\"color: #008000; text-decoration-color: #008000\">'id'</span><span style=\"color: #008000; text-decoration-color: #008000\">: </span><span style=\"color: #008000; text-decoration-color: #008000; font-weight: bold\">158</span><span style=\"color: #008000; text-decoration-color: #008000\">, </span><span style=\"color: #008000; text-decoration-color: #008000\">'value'</span><span style=\"color: #008000; text-decoration-color: #008000\">: </span><span style=\"color: #008000; text-decoration-color: #008000; font-weight: bold\">91.5</span><span style=\"color: #008000; text-decoration-color: #008000; font-weight: bold\">}</span>\n",
       "</pre>\n"
      ],
      "text/plain": [
       "\u001b[34mFrequencia_Final \u001b[0m\u001b[31m-> \u001b[0m\u001b[1;32m{\u001b[0m\u001b[32m'id'\u001b[0m\u001b[32m: \u001b[0m\u001b[1;32m158\u001b[0m\u001b[32m, \u001b[0m\u001b[32m'value'\u001b[0m\u001b[32m: \u001b[0m\u001b[1;32m91.5\u001b[0m\u001b[1;32m}\u001b[0m\n"
      ]
     },
     "metadata": {},
     "output_type": "display_data"
    },
    {
     "data": {
      "text/html": [
       "<pre style=\"white-space:pre;overflow-x:auto;line-height:normal;font-family:Menlo,'DejaVu Sans Mono',consolas,'Courier New',monospace\"><span style=\"color: #000080; text-decoration-color: #000080\">Unidade_da_Frequencia_Final </span><span style=\"color: #800000; text-decoration-color: #800000\">-&gt; </span><span style=\"color: #008000; text-decoration-color: #008000; font-weight: bold\">{</span><span style=\"color: #008000; text-decoration-color: #008000\">'id'</span><span style=\"color: #008000; text-decoration-color: #008000\">: </span><span style=\"color: #008000; text-decoration-color: #008000; font-weight: bold\">159</span><span style=\"color: #008000; text-decoration-color: #008000\">, </span><span style=\"color: #008000; text-decoration-color: #008000\">'value'</span><span style=\"color: #008000; text-decoration-color: #008000\">: </span><span style=\"color: #008000; text-decoration-color: #008000\">'MHz'</span><span style=\"color: #008000; text-decoration-color: #008000; font-weight: bold\">}</span>\n",
       "</pre>\n"
      ],
      "text/plain": [
       "\u001b[34mUnidade_da_Frequencia_Final \u001b[0m\u001b[31m-> \u001b[0m\u001b[1;32m{\u001b[0m\u001b[32m'id'\u001b[0m\u001b[32m: \u001b[0m\u001b[1;32m159\u001b[0m\u001b[32m, \u001b[0m\u001b[32m'value'\u001b[0m\u001b[32m: \u001b[0m\u001b[32m'MHz'\u001b[0m\u001b[1;32m}\u001b[0m\n"
      ]
     },
     "metadata": {},
     "output_type": "display_data"
    },
    {
     "data": {
      "text/html": [
       "<pre style=\"white-space:pre;overflow-x:auto;line-height:normal;font-family:Menlo,'DejaVu Sans Mono',consolas,'Courier New',monospace\"><span style=\"color: #000080; text-decoration-color: #000080\">start_date </span><span style=\"color: #800000; text-decoration-color: #800000\">-&gt; </span><span style=\"color: #008000; text-decoration-color: #008000; font-weight: bold\">2022</span><span style=\"color: #008000; text-decoration-color: #008000\">-</span><span style=\"color: #008000; text-decoration-color: #008000; font-weight: bold\">03</span><span style=\"color: #008000; text-decoration-color: #008000\">-</span><span style=\"color: #008000; text-decoration-color: #008000; font-weight: bold\">11</span>\n",
       "</pre>\n"
      ],
      "text/plain": [
       "\u001b[34mstart_date \u001b[0m\u001b[31m-> \u001b[0m\u001b[1;32m2022\u001b[0m\u001b[32m-\u001b[0m\u001b[1;32m03\u001b[0m\u001b[32m-\u001b[0m\u001b[1;32m11\u001b[0m\n"
      ]
     },
     "metadata": {},
     "output_type": "display_data"
    },
    {
     "data": {
      "text/html": [
       "<pre style=\"white-space:pre;overflow-x:auto;line-height:normal;font-family:Menlo,'DejaVu Sans Mono',consolas,'Courier New',monospace\"><span style=\"color: #000080; text-decoration-color: #000080\">due_date </span><span style=\"color: #800000; text-decoration-color: #800000\">-&gt; </span><span style=\"color: #008000; text-decoration-color: #008000; font-weight: bold\">2022</span><span style=\"color: #008000; text-decoration-color: #008000\">-</span><span style=\"color: #008000; text-decoration-color: #008000; font-weight: bold\">09</span><span style=\"color: #008000; text-decoration-color: #008000\">-</span><span style=\"color: #008000; text-decoration-color: #008000; font-weight: bold\">07</span>\n",
       "</pre>\n"
      ],
      "text/plain": [
       "\u001b[34mdue_date \u001b[0m\u001b[31m-> \u001b[0m\u001b[1;32m2022\u001b[0m\u001b[32m-\u001b[0m\u001b[1;32m09\u001b[0m\u001b[32m-\u001b[0m\u001b[1;32m07\u001b[0m\n"
      ]
     },
     "metadata": {},
     "output_type": "display_data"
    },
    {
     "data": {
      "text/html": [
       "<pre style=\"white-space:pre;overflow-x:auto;line-height:normal;font-family:Menlo,'DejaVu Sans Mono',consolas,'Courier New',monospace\"><span style=\"color: #000080; text-decoration-color: #000080\">UF_Municipio </span><span style=\"color: #800000; text-decoration-color: #800000\">-&gt; </span><span style=\"color: #008000; text-decoration-color: #008000; font-weight: bold\">{</span><span style=\"color: #008000; text-decoration-color: #008000\">'id'</span><span style=\"color: #008000; text-decoration-color: #008000\">: </span><span style=\"color: #008000; text-decoration-color: #008000; font-weight: bold\">31</span><span style=\"color: #008000; text-decoration-color: #008000\">, </span><span style=\"color: #008000; text-decoration-color: #008000\">'value'</span><span style=\"color: #008000; text-decoration-color: #008000\">: </span><span style=\"color: #008000; text-decoration-color: #008000; font-weight: bold\">[</span><span style=\"color: #008000; text-decoration-color: #008000\">'{\"valor\":\"AM/Manaus\",\"texto\":\"AM/Manaus\"}'</span><span style=\"color: #008000; text-decoration-color: #008000; font-weight: bold\">]}</span>\n",
       "</pre>\n"
      ],
      "text/plain": [
       "\u001b[34mUF_Municipio \u001b[0m\u001b[31m-> \u001b[0m\u001b[1;32m{\u001b[0m\u001b[32m'id'\u001b[0m\u001b[32m: \u001b[0m\u001b[1;32m31\u001b[0m\u001b[32m, \u001b[0m\u001b[32m'value'\u001b[0m\u001b[32m: \u001b[0m\u001b[1;32m[\u001b[0m\u001b[32m'\u001b[0m\u001b[32m{\u001b[0m\u001b[32m\"valor\":\"AM/Manaus\",\"texto\":\"AM/Manaus\"\u001b[0m\u001b[32m}\u001b[0m\u001b[32m'\u001b[0m\u001b[1;32m]\u001b[0m\u001b[1;32m}\u001b[0m\n"
      ]
     },
     "metadata": {},
     "output_type": "display_data"
    },
    {
     "data": {
      "text/html": [
       "<pre style=\"white-space:pre;overflow-x:auto;line-height:normal;font-family:Menlo,'DejaVu Sans Mono',consolas,'Courier New',monospace\"><span style=\"color: #000080; text-decoration-color: #000080\">Servicos_da_Inspecao </span><span style=\"color: #800000; text-decoration-color: #800000\">-&gt; </span><span style=\"color: #008000; text-decoration-color: #008000; font-weight: bold\">{</span><span style=\"color: #008000; text-decoration-color: #008000\">'id'</span><span style=\"color: #008000; text-decoration-color: #008000\">: </span><span style=\"color: #008000; text-decoration-color: #008000; font-weight: bold\">57</span><span style=\"color: #008000; text-decoration-color: #008000\">, </span><span style=\"color: #008000; text-decoration-color: #008000\">'value'</span><span style=\"color: #008000; text-decoration-color: #008000\">: </span><span style=\"color: #008000; text-decoration-color: #008000; font-weight: bold\">[</span><span style=\"color: #008000; text-decoration-color: #008000\">'{\"valor\":\"230 - COLETIVO - RADIODIFUSÃO SONORA </span>\n",
       "<span style=\"color: #008000; text-decoration-color: #008000\">EM FREQÜÊNCIA MODULADA\",\"texto\":\"230 - COLETIVO - RADIODIFUSÃO SONORA EM FREQÜÊNCIA </span>\n",
       "<span style=\"color: #008000; text-decoration-color: #008000\">MODULADA\"}'</span><span style=\"color: #008000; text-decoration-color: #008000; font-weight: bold\">]}</span>\n",
       "</pre>\n"
      ],
      "text/plain": [
       "\u001b[34mServicos_da_Inspecao \u001b[0m\u001b[31m-> \u001b[0m\u001b[1;32m{\u001b[0m\u001b[32m'id'\u001b[0m\u001b[32m: \u001b[0m\u001b[1;32m57\u001b[0m\u001b[32m, \u001b[0m\u001b[32m'value'\u001b[0m\u001b[32m: \u001b[0m\u001b[1;32m[\u001b[0m\u001b[32m'\u001b[0m\u001b[32m{\u001b[0m\u001b[32m\"valor\":\"230 - COLETIVO - RADIODIFUSÃO SONORA \u001b[0m\n",
       "\u001b[32mEM FREQÜÊNCIA MODULADA\",\"texto\":\"230 - COLETIVO - RADIODIFUSÃO SONORA EM FREQÜÊNCIA \u001b[0m\n",
       "\u001b[32mMODULADA\"\u001b[0m\u001b[32m}\u001b[0m\u001b[32m'\u001b[0m\u001b[1;32m]\u001b[0m\u001b[1;32m}\u001b[0m\n"
      ]
     },
     "metadata": {},
     "output_type": "display_data"
    },
    {
     "data": {
      "text/html": [
       "<pre style=\"white-space:pre;overflow-x:auto;line-height:normal;font-family:Menlo,'DejaVu Sans Mono',consolas,'Courier New',monospace\"><span style=\"color: #000080; text-decoration-color: #000080\">Qtd_Emissoes </span><span style=\"color: #800000; text-decoration-color: #800000\">-&gt; </span><span style=\"color: #008000; text-decoration-color: #008000; font-weight: bold\">{</span><span style=\"color: #008000; text-decoration-color: #008000\">'id'</span><span style=\"color: #008000; text-decoration-color: #008000\">: </span><span style=\"color: #008000; text-decoration-color: #008000; font-weight: bold\">69</span><span style=\"color: #008000; text-decoration-color: #008000\">, </span><span style=\"color: #008000; text-decoration-color: #008000\">'value'</span><span style=\"color: #008000; text-decoration-color: #008000\">: </span><span style=\"color: #008000; text-decoration-color: #008000; font-weight: bold\">1</span><span style=\"color: #008000; text-decoration-color: #008000; font-weight: bold\">}</span>\n",
       "</pre>\n"
      ],
      "text/plain": [
       "\u001b[34mQtd_Emissoes \u001b[0m\u001b[31m-> \u001b[0m\u001b[1;32m{\u001b[0m\u001b[32m'id'\u001b[0m\u001b[32m: \u001b[0m\u001b[1;32m69\u001b[0m\u001b[32m, \u001b[0m\u001b[32m'value'\u001b[0m\u001b[32m: \u001b[0m\u001b[1;32m1\u001b[0m\u001b[1;32m}\u001b[0m\n"
      ]
     },
     "metadata": {},
     "output_type": "display_data"
    },
    {
     "data": {
      "text/html": [
       "<pre style=\"white-space:pre;overflow-x:auto;line-height:normal;font-family:Menlo,'DejaVu Sans Mono',consolas,'Courier New',monospace\"><span style=\"color: #000080; text-decoration-color: #000080\">Emissoes_nao_autorizadas </span><span style=\"color: #800000; text-decoration-color: #800000\">-&gt; </span><span style=\"color: #008000; text-decoration-color: #008000; font-weight: bold\">{</span><span style=\"color: #008000; text-decoration-color: #008000\">'id'</span><span style=\"color: #008000; text-decoration-color: #008000\">: </span><span style=\"color: #008000; text-decoration-color: #008000; font-weight: bold\">70</span><span style=\"color: #008000; text-decoration-color: #008000\">, </span><span style=\"color: #008000; text-decoration-color: #008000\">'value'</span><span style=\"color: #008000; text-decoration-color: #008000\">: </span><span style=\"color: #008000; text-decoration-color: #008000; font-weight: bold\">0</span><span style=\"color: #008000; text-decoration-color: #008000; font-weight: bold\">}</span>\n",
       "</pre>\n"
      ],
      "text/plain": [
       "\u001b[34mEmissoes_nao_autorizadas \u001b[0m\u001b[31m-> \u001b[0m\u001b[1;32m{\u001b[0m\u001b[32m'id'\u001b[0m\u001b[32m: \u001b[0m\u001b[1;32m70\u001b[0m\u001b[32m, \u001b[0m\u001b[32m'value'\u001b[0m\u001b[32m: \u001b[0m\u001b[1;32m0\u001b[0m\u001b[1;32m}\u001b[0m\n"
      ]
     },
     "metadata": {},
     "output_type": "display_data"
    },
    {
     "data": {
      "text/html": [
       "<pre style=\"white-space:pre;overflow-x:auto;line-height:normal;font-family:Menlo,'DejaVu Sans Mono',consolas,'Courier New',monospace\"><span style=\"color: #000080; text-decoration-color: #000080\">Horas_de_Preparacao </span><span style=\"color: #800000; text-decoration-color: #800000\">-&gt; </span><span style=\"color: #008000; text-decoration-color: #008000; font-weight: bold\">{</span><span style=\"color: #008000; text-decoration-color: #008000\">'id'</span><span style=\"color: #008000; text-decoration-color: #008000\">: </span><span style=\"color: #008000; text-decoration-color: #008000; font-weight: bold\">91</span><span style=\"color: #008000; text-decoration-color: #008000\">, </span><span style=\"color: #008000; text-decoration-color: #008000\">'value'</span><span style=\"color: #008000; text-decoration-color: #008000\">: </span><span style=\"color: #008000; text-decoration-color: #008000; font-weight: bold\">2</span><span style=\"color: #008000; text-decoration-color: #008000; font-weight: bold\">}</span>\n",
       "</pre>\n"
      ],
      "text/plain": [
       "\u001b[34mHoras_de_Preparacao \u001b[0m\u001b[31m-> \u001b[0m\u001b[1;32m{\u001b[0m\u001b[32m'id'\u001b[0m\u001b[32m: \u001b[0m\u001b[1;32m91\u001b[0m\u001b[32m, \u001b[0m\u001b[32m'value'\u001b[0m\u001b[32m: \u001b[0m\u001b[1;32m2\u001b[0m\u001b[1;32m}\u001b[0m\n"
      ]
     },
     "metadata": {},
     "output_type": "display_data"
    },
    {
     "data": {
      "text/html": [
       "<pre style=\"white-space:pre;overflow-x:auto;line-height:normal;font-family:Menlo,'DejaVu Sans Mono',consolas,'Courier New',monospace\"><span style=\"color: #000080; text-decoration-color: #000080\">Horas_de_Deslocamento </span><span style=\"color: #800000; text-decoration-color: #800000\">-&gt; </span><span style=\"color: #008000; text-decoration-color: #008000; font-weight: bold\">{</span><span style=\"color: #008000; text-decoration-color: #008000\">'id'</span><span style=\"color: #008000; text-decoration-color: #008000\">: </span><span style=\"color: #008000; text-decoration-color: #008000; font-weight: bold\">92</span><span style=\"color: #008000; text-decoration-color: #008000\">, </span><span style=\"color: #008000; text-decoration-color: #008000\">'value'</span><span style=\"color: #008000; text-decoration-color: #008000\">: </span><span style=\"color: #008000; text-decoration-color: #008000; font-weight: bold\">0</span><span style=\"color: #008000; text-decoration-color: #008000; font-weight: bold\">}</span>\n",
       "</pre>\n"
      ],
      "text/plain": [
       "\u001b[34mHoras_de_Deslocamento \u001b[0m\u001b[31m-> \u001b[0m\u001b[1;32m{\u001b[0m\u001b[32m'id'\u001b[0m\u001b[32m: \u001b[0m\u001b[1;32m92\u001b[0m\u001b[32m, \u001b[0m\u001b[32m'value'\u001b[0m\u001b[32m: \u001b[0m\u001b[1;32m0\u001b[0m\u001b[1;32m}\u001b[0m\n"
      ]
     },
     "metadata": {},
     "output_type": "display_data"
    },
    {
     "data": {
      "text/html": [
       "<pre style=\"white-space:pre;overflow-x:auto;line-height:normal;font-family:Menlo,'DejaVu Sans Mono',consolas,'Courier New',monospace\"><span style=\"color: #000080; text-decoration-color: #000080\">Horas_de_Execucao </span><span style=\"color: #800000; text-decoration-color: #800000\">-&gt; </span><span style=\"color: #008000; text-decoration-color: #008000; font-weight: bold\">{</span><span style=\"color: #008000; text-decoration-color: #008000\">'id'</span><span style=\"color: #008000; text-decoration-color: #008000\">: </span><span style=\"color: #008000; text-decoration-color: #008000; font-weight: bold\">93</span><span style=\"color: #008000; text-decoration-color: #008000\">, </span><span style=\"color: #008000; text-decoration-color: #008000\">'value'</span><span style=\"color: #008000; text-decoration-color: #008000\">: </span><span style=\"color: #008000; text-decoration-color: #008000; font-weight: bold\">8</span><span style=\"color: #008000; text-decoration-color: #008000; font-weight: bold\">}</span>\n",
       "</pre>\n"
      ],
      "text/plain": [
       "\u001b[34mHoras_de_Execucao \u001b[0m\u001b[31m-> \u001b[0m\u001b[1;32m{\u001b[0m\u001b[32m'id'\u001b[0m\u001b[32m: \u001b[0m\u001b[1;32m93\u001b[0m\u001b[32m, \u001b[0m\u001b[32m'value'\u001b[0m\u001b[32m: \u001b[0m\u001b[1;32m8\u001b[0m\u001b[1;32m}\u001b[0m\n"
      ]
     },
     "metadata": {},
     "output_type": "display_data"
    },
    {
     "data": {
      "text/html": [
       "<pre style=\"white-space:pre;overflow-x:auto;line-height:normal;font-family:Menlo,'DejaVu Sans Mono',consolas,'Courier New',monospace\"><span style=\"color: #000080; text-decoration-color: #000080\">Horas_de_Conclusao </span><span style=\"color: #800000; text-decoration-color: #800000\">-&gt; </span><span style=\"color: #008000; text-decoration-color: #008000; font-weight: bold\">{</span><span style=\"color: #008000; text-decoration-color: #008000\">'id'</span><span style=\"color: #008000; text-decoration-color: #008000\">: </span><span style=\"color: #008000; text-decoration-color: #008000; font-weight: bold\">94</span><span style=\"color: #008000; text-decoration-color: #008000\">, </span><span style=\"color: #008000; text-decoration-color: #008000\">'value'</span><span style=\"color: #008000; text-decoration-color: #008000\">: </span><span style=\"color: #008000; text-decoration-color: #008000; font-weight: bold\">6</span><span style=\"color: #008000; text-decoration-color: #008000; font-weight: bold\">}</span>\n",
       "</pre>\n"
      ],
      "text/plain": [
       "\u001b[34mHoras_de_Conclusao \u001b[0m\u001b[31m-> \u001b[0m\u001b[1;32m{\u001b[0m\u001b[32m'id'\u001b[0m\u001b[32m: \u001b[0m\u001b[1;32m94\u001b[0m\u001b[32m, \u001b[0m\u001b[32m'value'\u001b[0m\u001b[32m: \u001b[0m\u001b[1;32m6\u001b[0m\u001b[1;32m}\u001b[0m\n"
      ]
     },
     "metadata": {},
     "output_type": "display_data"
    },
    {
     "data": {
      "text/html": [
       "<pre style=\"white-space:pre;overflow-x:auto;line-height:normal;font-family:Menlo,'DejaVu Sans Mono',consolas,'Courier New',monospace\"><span style=\"color: #000080; text-decoration-color: #000080\">Uso_de_PF </span><span style=\"color: #800000; text-decoration-color: #800000\">-&gt; </span><span style=\"color: #008000; text-decoration-color: #008000; font-weight: bold\">{</span><span style=\"color: #008000; text-decoration-color: #008000\">'id'</span><span style=\"color: #008000; text-decoration-color: #008000\">: </span><span style=\"color: #008000; text-decoration-color: #008000; font-weight: bold\">151</span><span style=\"color: #008000; text-decoration-color: #008000\">, </span><span style=\"color: #008000; text-decoration-color: #008000\">'value'</span><span style=\"color: #008000; text-decoration-color: #008000\">: </span><span style=\"color: #008000; text-decoration-color: #008000\">'Não se aplica PF - uso apenas de formulários'</span><span style=\"color: #008000; text-decoration-color: #008000; font-weight: bold\">}</span>\n",
       "</pre>\n"
      ],
      "text/plain": [
       "\u001b[34mUso_de_PF \u001b[0m\u001b[31m-> \u001b[0m\u001b[1;32m{\u001b[0m\u001b[32m'id'\u001b[0m\u001b[32m: \u001b[0m\u001b[1;32m151\u001b[0m\u001b[32m, \u001b[0m\u001b[32m'value'\u001b[0m\u001b[32m: \u001b[0m\u001b[32m'Não se aplica PF - uso apenas de formulários'\u001b[0m\u001b[1;32m}\u001b[0m\n"
      ]
     },
     "metadata": {},
     "output_type": "display_data"
    },
    {
     "data": {
      "text/html": [
       "<pre style=\"white-space:pre;overflow-x:auto;line-height:normal;font-family:Menlo,'DejaVu Sans Mono',consolas,'Courier New',monospace\"><span style=\"color: #000080; text-decoration-color: #000080\">Acao_de_risco_a_vida_criada </span><span style=\"color: #800000; text-decoration-color: #800000\">-&gt; </span><span style=\"color: #008000; text-decoration-color: #008000; font-weight: bold\">{</span><span style=\"color: #008000; text-decoration-color: #008000\">'id'</span><span style=\"color: #008000; text-decoration-color: #008000\">: </span><span style=\"color: #008000; text-decoration-color: #008000; font-weight: bold\">154</span><span style=\"color: #008000; text-decoration-color: #008000\">, </span><span style=\"color: #008000; text-decoration-color: #008000\">'value'</span><span style=\"color: #008000; text-decoration-color: #008000\">: </span><span style=\"color: #008000; text-decoration-color: #008000\">'Não'</span><span style=\"color: #008000; text-decoration-color: #008000; font-weight: bold\">}</span>\n",
       "</pre>\n"
      ],
      "text/plain": [
       "\u001b[34mAcao_de_risco_a_vida_criada \u001b[0m\u001b[31m-> \u001b[0m\u001b[1;32m{\u001b[0m\u001b[32m'id'\u001b[0m\u001b[32m: \u001b[0m\u001b[1;32m154\u001b[0m\u001b[32m, \u001b[0m\u001b[32m'value'\u001b[0m\u001b[32m: \u001b[0m\u001b[32m'Não'\u001b[0m\u001b[1;32m}\u001b[0m\n"
      ]
     },
     "metadata": {},
     "output_type": "display_data"
    },
    {
     "data": {
      "text/html": [
       "<pre style=\"white-space:pre;overflow-x:auto;line-height:normal;font-family:Menlo,'DejaVu Sans Mono',consolas,'Courier New',monospace\"><span style=\"color: #000080; text-decoration-color: #000080\">Impossibilidade_acesso_online </span><span style=\"color: #800000; text-decoration-color: #800000\">-&gt; </span><span style=\"color: #008000; text-decoration-color: #008000; font-weight: bold\">{</span><span style=\"color: #008000; text-decoration-color: #008000\">'id'</span><span style=\"color: #008000; text-decoration-color: #008000\">: </span><span style=\"color: #008000; text-decoration-color: #008000; font-weight: bold\">450</span><span style=\"color: #008000; text-decoration-color: #008000\">, </span><span style=\"color: #008000; text-decoration-color: #008000\">'value'</span><span style=\"color: #008000; text-decoration-color: #008000\">: </span><span style=\"color: #008000; text-decoration-color: #008000\">'0'</span><span style=\"color: #008000; text-decoration-color: #008000; font-weight: bold\">}</span>\n",
       "</pre>\n"
      ],
      "text/plain": [
       "\u001b[34mImpossibilidade_acesso_online \u001b[0m\u001b[31m-> \u001b[0m\u001b[1;32m{\u001b[0m\u001b[32m'id'\u001b[0m\u001b[32m: \u001b[0m\u001b[1;32m450\u001b[0m\u001b[32m, \u001b[0m\u001b[32m'value'\u001b[0m\u001b[32m: \u001b[0m\u001b[32m'0'\u001b[0m\u001b[1;32m}\u001b[0m\n"
      ]
     },
     "metadata": {},
     "output_type": "display_data"
    },
    {
     "data": {
      "text/html": [
       "<pre style=\"white-space:pre;overflow-x:auto;line-height:normal;font-family:Menlo,'DejaVu Sans Mono',consolas,'Courier New',monospace\"><span style=\"color: #000080; text-decoration-color: #000080\">Reservar_Instrumentos </span><span style=\"color: #800000; text-decoration-color: #800000\">-&gt; </span><span style=\"color: #008000; text-decoration-color: #008000; font-weight: bold\">{</span><span style=\"color: #008000; text-decoration-color: #008000\">'id'</span><span style=\"color: #008000; text-decoration-color: #008000\">: </span><span style=\"color: #008000; text-decoration-color: #008000; font-weight: bold\">596</span><span style=\"color: #008000; text-decoration-color: #008000\">, </span><span style=\"color: #008000; text-decoration-color: #008000\">'value'</span><span style=\"color: #008000; text-decoration-color: #008000\">: </span><span style=\"color: #008000; text-decoration-color: #008000\">'0'</span><span style=\"color: #008000; text-decoration-color: #008000; font-weight: bold\">}</span>\n",
       "</pre>\n"
      ],
      "text/plain": [
       "\u001b[34mReservar_Instrumentos \u001b[0m\u001b[31m-> \u001b[0m\u001b[1;32m{\u001b[0m\u001b[32m'id'\u001b[0m\u001b[32m: \u001b[0m\u001b[1;32m596\u001b[0m\u001b[32m, \u001b[0m\u001b[32m'value'\u001b[0m\u001b[32m: \u001b[0m\u001b[32m'0'\u001b[0m\u001b[1;32m}\u001b[0m\n"
      ]
     },
     "metadata": {},
     "output_type": "display_data"
    },
    {
     "data": {
      "text/html": [
       "<pre style=\"white-space:pre;overflow-x:auto;line-height:normal;font-family:Menlo,'DejaVu Sans Mono',consolas,'Courier New',monospace\"><span style=\"color: #000080; text-decoration-color: #000080\">Utilizou_algum_instrumento </span><span style=\"color: #800000; text-decoration-color: #800000\">-&gt; </span><span style=\"color: #008000; text-decoration-color: #008000; font-weight: bold\">{</span><span style=\"color: #008000; text-decoration-color: #008000\">'id'</span><span style=\"color: #008000; text-decoration-color: #008000\">: </span><span style=\"color: #008000; text-decoration-color: #008000; font-weight: bold\">598</span><span style=\"color: #008000; text-decoration-color: #008000\">, </span><span style=\"color: #008000; text-decoration-color: #008000\">'value'</span><span style=\"color: #008000; text-decoration-color: #008000\">: </span><span style=\"color: #008000; text-decoration-color: #008000\">'0'</span><span style=\"color: #008000; text-decoration-color: #008000; font-weight: bold\">}</span>\n",
       "</pre>\n"
      ],
      "text/plain": [
       "\u001b[34mUtilizou_algum_instrumento \u001b[0m\u001b[31m-> \u001b[0m\u001b[1;32m{\u001b[0m\u001b[32m'id'\u001b[0m\u001b[32m: \u001b[0m\u001b[1;32m598\u001b[0m\u001b[32m, \u001b[0m\u001b[32m'value'\u001b[0m\u001b[32m: \u001b[0m\u001b[32m'0'\u001b[0m\u001b[1;32m}\u001b[0m\n"
      ]
     },
     "metadata": {},
     "output_type": "display_data"
    },
    {
     "data": {
      "text/html": [
       "<pre style=\"white-space:pre;overflow-x:auto;line-height:normal;font-family:Menlo,'DejaVu Sans Mono',consolas,'Courier New',monospace\"><span style=\"color: #000080; text-decoration-color: #000080\">notes </span><span style=\"color: #800000; text-decoration-color: #800000\">-&gt; </span><span style=\"color: #008000; text-decoration-color: #008000\">Vemos que o nível médio medido ficou da ordem de </span><span style=\"color: #008000; text-decoration-color: #008000; font-weight: bold\">35.2</span><span style=\"color: #008000; text-decoration-color: #008000\"> dB inferior e o nível máximo </span>\n",
       "<span style=\"color: #008000; text-decoration-color: #008000\">da ordem de </span><span style=\"color: #008000; text-decoration-color: #008000; font-weight: bold\">25.2</span><span style=\"color: #008000; text-decoration-color: #008000\"> dB inferior do valor esperado pela simulação de cobertura, indicando </span>\n",
       "<span style=\"color: #008000; text-decoration-color: #008000\">potenciais perdas adicionais não contabilizadas pelo modelo de propagação.</span>\n",
       "\n",
       "<span style=\"color: #008000; text-decoration-color: #008000\">Cabe salientar que concomitantemente à monitoração efetuada no item </span><span style=\"color: #008000; text-decoration-color: #008000; font-weight: bold\">4</span><span style=\"color: #008000; text-decoration-color: #008000\"> foi efetuada a </span>\n",
       "<span style=\"color: #008000; text-decoration-color: #008000\">demodulação do sinal de áudio e monitoração do sinal ao vivo e não foi constatado qualquer </span>\n",
       "<span style=\"color: #008000; text-decoration-color: #008000\">sinal de interferência, batimento ou produto de intermodulação.</span>\n",
       "</pre>\n"
      ],
      "text/plain": [
       "\u001b[34mnotes \u001b[0m\u001b[31m-> \u001b[0m\u001b[32mVemos que o nível médio medido ficou da ordem de \u001b[0m\u001b[1;32m35.2\u001b[0m\u001b[32m dB inferior e o nível máximo \u001b[0m\n",
       "\u001b[32mda ordem de \u001b[0m\u001b[1;32m25.2\u001b[0m\u001b[32m dB inferior do valor esperado pela simulação de cobertura, indicando \u001b[0m\n",
       "\u001b[32mpotenciais perdas adicionais não contabilizadas pelo modelo de propagação.\u001b[0m\n",
       "\n",
       "\u001b[32mCabe salientar que concomitantemente à monitoração efetuada no item \u001b[0m\u001b[1;32m4\u001b[0m\u001b[32m foi efetuada a \u001b[0m\n",
       "\u001b[32mdemodulação do sinal de áudio e monitoração do sinal ao vivo e não foi constatado qualquer \u001b[0m\n",
       "\u001b[32msinal de interferência, batimento ou produto de intermodulação.\u001b[0m\n"
      ]
     },
     "metadata": {},
     "output_type": "display_data"
    },
    {
     "data": {
      "text/html": [
       "<pre style=\"white-space:pre;overflow-x:auto;line-height:normal;font-family:Menlo,'DejaVu Sans Mono',consolas,'Courier New',monospace\"><span style=\"color: #000080; text-decoration-color: #000080\">Coordenadas_Geograficas </span><span style=\"color: #800000; text-decoration-color: #800000\">-&gt; </span><span style=\"color: #008000; text-decoration-color: #008000; font-weight: bold\">{</span><span style=\"color: #008000; text-decoration-color: #008000\">'id'</span><span style=\"color: #008000; text-decoration-color: #008000\">: </span><span style=\"color: #008000; text-decoration-color: #008000; font-weight: bold\">717</span><span style=\"color: #008000; text-decoration-color: #008000\">, </span><span style=\"color: #008000; text-decoration-color: #008000\">'value'</span><span style=\"color: #008000; text-decoration-color: #008000\">: </span><span style=\"color: #008000; text-decoration-color: #008000\">'{\"latitude\"=&gt;\"-3.113113\", </span>\n",
       "<span style=\"color: #008000; text-decoration-color: #008000\">\"longitude\"=&gt;\"-60.013938\"}'</span><span style=\"color: #008000; text-decoration-color: #008000; font-weight: bold\">}</span>\n",
       "</pre>\n"
      ],
      "text/plain": [
       "\u001b[34mCoordenadas_Geograficas \u001b[0m\u001b[31m-> \u001b[0m\u001b[1;32m{\u001b[0m\u001b[32m'id'\u001b[0m\u001b[32m: \u001b[0m\u001b[1;32m717\u001b[0m\u001b[32m, \u001b[0m\u001b[32m'value'\u001b[0m\u001b[32m: \u001b[0m\u001b[32m'\u001b[0m\u001b[32m{\u001b[0m\u001b[32m\"latitude\"=>\"-3.113113\", \u001b[0m\n",
       "\u001b[32m\"longitude\"=>\"-60.013938\"\u001b[0m\u001b[32m}\u001b[0m\u001b[32m'\u001b[0m\u001b[1;32m}\u001b[0m\n"
      ]
     },
     "metadata": {},
     "output_type": "display_data"
    }
   ],
   "source": [
    "for k,v in dados.items():\n",
    "    if k == \"Html\":\n",
    "        v = str(v)\n",
    "        v = v[:100] + '\\n...\\n' + v[-100:]\n",
    "    console.print(f'[blue]{k} [red]-> [green]{v}')"
   ]
  },
  {
   "cell_type": "code",
   "execution_count": null,
   "metadata": {},
   "outputs": [
    {
     "data": {
      "text/html": [
       "<pre style=\"white-space:pre;overflow-x:auto;line-height:normal;font-family:Menlo,'DejaVu Sans Mono',consolas,'Courier New',monospace\"><span style=\"color: #008000; text-decoration-color: #008000\">🙈 </span> Relato efetuado, retornando situação atual da inspeção...\n",
       "</pre>\n"
      ],
      "text/plain": [
       "\u001b[32m🙈 \u001b[0m Relato efetuado, retornando situação atual da inspeção...\n"
      ]
     },
     "metadata": {},
     "output_type": "display_data"
    },
    {
     "data": {
      "text/html": [
       "<pre style=\"white-space:pre;overflow-x:auto;line-height:normal;font-family:Menlo,'DejaVu Sans Mono',consolas,'Courier New',monospace\"></pre>\n"
      ],
      "text/plain": []
     },
     "metadata": {},
     "output_type": "display_data"
    },
    {
     "data": {
      "text/plain": [
       "{'Anexos': {},\n",
       " 'id': '84859',\n",
       " 'subject': 'INSP_GR01_2022_0339',\n",
       " 'status': 'Relatada',\n",
       " 'priority': 'Normal',\n",
       " 'start_date': '2022-03-11',\n",
       " 'due_date': '2022-09-07',\n",
       " 'description': 'A Superintendência de Outorga e Recursos à Prestação solicitou realização de monitoração na faixa 70-110 MHz.Especificamente a emissora centrada em 91.5MHz para verificação se a intensidade do sinal está dentro dos valores esperados..',\n",
       " 'Data_de_inicio_efetivo': datetime.date(2022, 4, 18),\n",
       " 'Data_da_Conclusao': datetime.date(2022, 4, 18),\n",
       " 'Classe_da_Inspecao': 'Técnica',\n",
       " 'Tipo_de_Inspecao': 'Uso do Espectro - Monitoração',\n",
       " 'Ano': '2022',\n",
       " 'Coordenacao': 'FI3',\n",
       " 'Numero_Sei_do_Processo': '{\"numero\"=>\"53500.019195/2022-19\", \"link_acesso\"=>\"https://sei.anatel.gov.br/sei/controlador.php?acao=procedimento_trabalhar&id_procedimento=9188972\"}',\n",
       " 'Fiscal_Responsavel': 'Ronaldo da Silva Alves Batista',\n",
       " 'Fiscais': ['Ronaldo da Silva Alves Batista'],\n",
       " 'Entidade_da_Inspecao': [],\n",
       " 'UF_Municipio': ['AM/Manaus'],\n",
       " 'Servicos_da_Inspecao': ['230 - COLETIVO - RADIODIFUSÃO SONORA EM FREQÜÊNCIA MODULADA'],\n",
       " 'Qtd_Emissoes': '1',\n",
       " 'Emissoes_nao_autorizadas': '0',\n",
       " 'Horas_de_Preparacao': '2',\n",
       " 'Horas_de_Deslocamento': '0',\n",
       " 'Horas_de_Execucao': '8',\n",
       " 'Horas_de_Conclusao': '6',\n",
       " 'SAV': '',\n",
       " 'PCDP': '',\n",
       " 'Procedimentos': [],\n",
       " 'Latitude': '',\n",
       " 'Longitude': '',\n",
       " 'Uso_de_PF': 'Não se aplica PF - uso apenas de formulários',\n",
       " 'Acao_de_risco_a_vida_criada': 'Não',\n",
       " 'Frequencia_Inicial': '91.5',\n",
       " 'Unidade_da_Frequencia_Inicial': 'MHz',\n",
       " 'Frequencia_Final': '91.5',\n",
       " 'Unidade_da_Frequencia_Final': 'MHz',\n",
       " 'Agrupamento': '',\n",
       " 'AppFiscaliza': '0',\n",
       " 'Relatorio_de_Monitoramento': '',\n",
       " 'Reservar_Instrumentos': '0',\n",
       " 'Utilizou_algum_instrumento': '0',\n",
       " 'Coordenadas_Geograficas': '{\"latitude\"=>\"-3.113113\", \"longitude\"=>\"-60.013938\"}',\n",
       " 'id_ACAO': 84857,\n",
       " 'nome_ACAO': 'ACAO_GR01_2022_0419',\n",
       " 'descricao_ACAO': '',\n",
       " 'Users': ['Alexandre Elias de Andrade Oliveira',\n",
       "  'Alexandre Freitas de Lima',\n",
       "  'Alexandre Inacio',\n",
       "  'Alexandre Junzo Hamada',\n",
       "  'Alfredo de Andrade Filho',\n",
       "  'Ananias Pereira',\n",
       "  'Andre Pereira Martins',\n",
       "  'Antonio Carlos Cardoso de Mello',\n",
       "  'Aparecido Sebastiao da Silva',\n",
       "  'Arthur Pisaruk',\n",
       "  'Carlos Augusto de Carvalho',\n",
       "  'Carlos Eduardo Guimaraes Silveira',\n",
       "  'Carlos da Paixao Filho',\n",
       "  'Celio Yukio Takahashi',\n",
       "  'Celso Luiz Maximino',\n",
       "  'Daniel Eduardo Calza',\n",
       "  'Diogo Caldeira',\n",
       "  'Ediceu Beraldi',\n",
       "  'Eduardo Narkevicius',\n",
       "  'Elcio Maehara',\n",
       "  'Eustaquio Lages Duarte',\n",
       "  'Fiscal UD',\n",
       "  'Gauber Albuquerque',\n",
       "  'Gilson Ponce Ayres Filho',\n",
       "  'Helio Lopes de Carvalho Filho',\n",
       "  'Higor da Paz Melo',\n",
       "  'Hugo Santana Lima',\n",
       "  'Humberto Barbosa Vinagre',\n",
       "  'Jamilson Evangelista',\n",
       "  'Joao Yokoyama',\n",
       "  'Joaquim Miranda',\n",
       "  'Jose Ribeiro Carneiro',\n",
       "  'José Antônio S. Sanches',\n",
       "  'Julio Cesar de Assis Santos',\n",
       "  'Kiyotomo Kawamura',\n",
       "  'Laert Calil Junior',\n",
       "  'Lannei Vilela Moraes',\n",
       "  'Luis Lagomes',\n",
       "  'Luiz Vinicios Mielniczuk Seelig',\n",
       "  'Marcelo Augusto Scacabarozi',\n",
       "  'Marcelo Vaz Netto',\n",
       "  'Marcio Colazingari',\n",
       "  'Marcio Costa',\n",
       "  'Marcio Rodrigues Maciel',\n",
       "  'Marcos Antônio Rodrigues',\n",
       "  'Marcos Juliano Valim da Silva',\n",
       "  'Maria Lourenço',\n",
       "  'Maria Teresa Flosi Garrafa',\n",
       "  'Mario Augusto Volpini',\n",
       "  'Murilo Amaro',\n",
       "  'Osnir Lopes',\n",
       "  'Paulo Diogo Costa',\n",
       "  'Pedro Arai',\n",
       "  'Renato Sadao Kushioyada',\n",
       "  'Renato Schmeiske',\n",
       "  'Ricardo Santos Marques',\n",
       "  'Ricardo da Silva e Souza',\n",
       "  'Roberto Carlos Soares Campos',\n",
       "  'Roberto Ferreira dos Santos',\n",
       "  'Roberto Takata',\n",
       "  'Rodrigo Barbosa de Paula',\n",
       "  'Rogerio Zambotto',\n",
       "  'Ronaldo da Silva Alves Batista',\n",
       "  'Sergio Pereira',\n",
       "  'Thiago Silva',\n",
       "  'Thomaz Honma Ishida',\n",
       "  'Vinicius Paiva de Oliveira',\n",
       "  'Vitor Zelada',\n",
       "  'Wellington Devechi Piauilino',\n",
       "  'Wesley Souza Chaves',\n",
       "  'Wladimir Senise'],\n",
       " 'Atualizado': 'Atualizado por Ronaldo da Silva Alves Batista em 18/04/2022 às 15:22:48'}"
      ]
     },
     "execution_count": null,
     "metadata": {},
     "output_type": "execute_result"
    }
   ],
   "source": [
    "from fiscaliza.redmine import *\n",
    "relatar_inspecao(issue, login, senha, dados=dados, teste=False, parar_em=\"Relatada\", substituir_relatorio=False)"
   ]
  },
  {
   "cell_type": "code",
   "execution_count": null,
   "metadata": {},
   "outputs": [],
   "source": [
    "#relato = relatar_inspecao(issue, login, senha, dados=dados, parar_em=\"Relatada\")"
   ]
  },
  {
   "cell_type": "markdown",
   "metadata": {},
   "source": [
    "Os mesmos passos acima podem ser efetuados no **Fiscaliza** de produção, bastando passar o argumento `teste=False` nas funções acima"
   ]
  },
  {
   "cell_type": "code",
   "execution_count": null,
   "metadata": {},
   "outputs": [],
   "source": [
    "# inspecao = '51849'\n",
    "# detalhes = detalhar_issue(inspecao, login, senha, teste=False)\n",
    "# console.print(detalhes)"
   ]
  }
 ],
 "metadata": {
  "kernelspec": {
   "display_name": "Python [conda env:fiscaliza]",
   "language": "python",
   "name": "python3"
  }
 },
 "nbformat": 4,
 "nbformat_minor": 4
}
