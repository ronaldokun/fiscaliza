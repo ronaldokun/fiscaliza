{
 "cells": [
  {
   "cell_type": "code",
   "execution_count": 1,
   "metadata": {},
   "outputs": [],
   "source": [
    "%load_ext autoreload\n",
    "%autoreload 2\n",
    "%config Completer.use_jedi = False"
   ]
  },
  {
   "cell_type": "code",
   "execution_count": 2,
   "metadata": {},
   "outputs": [],
   "source": [
    "#hide\n",
    "import json\n",
    "from pathlib import Path\n",
    "from typing import *\n",
    "from getpass import getuser, getpass\n",
    "from redminelib.resources import Issue\n",
    "from fiscaliza.validation import valida_fiscaliza, auth_user\n",
    "from fiscaliza.update import relatar_inspecao\n",
    "from fiscaliza.info import detalhar_issue, extract_attachments, download_attachments\n",
    "from fiscaliza.constants import TABLECOLS\n",
    "from fastcore.foundation import L\n",
    "from fastcore.script import Param\n",
    "from rich.console import Console\n",
    "console = Console()"
   ]
  },
  {
   "cell_type": "markdown",
   "metadata": {},
   "source": [
    "Caso não desejar utilizar um ambiente virtual basta rodar:\n",
    "`pip install fiscaliza`"
   ]
  },
  {
   "cell_type": "code",
   "execution_count": 7,
   "metadata": {},
   "outputs": [],
   "source": [
    "# \n",
    "login = 'eric'\n",
    "senha = getpass()\n",
    "TESTE = True\n",
    "issue = '103789'\n",
    "parar_em = 'Aguardando Execução'\n",
    "# API = 'bf5f7955ca65703bcc73afda4a5f215d0135bf2d'\n"
   ]
  },
  {
   "cell_type": "code",
   "execution_count": 8,
   "metadata": {},
   "outputs": [
    {
     "data": {
      "text/plain": [
       "{'Anexos': {},\n",
       " 'id': 103789,\n",
       " 'subject': 'INSP_GR08_2023_0072',\n",
       " 'status': <redminelib.resources.IssueStatus #1 \"Rascunho\">,\n",
       " 'priority': <redminelib.resources.Enumeration #2 \"Normal\">,\n",
       " 'start_date': '',\n",
       " 'due_date': '',\n",
       " 'description': '',\n",
       " 'Data_de_inicio_efetivo': '',\n",
       " 'Classe_da_Inspecao': '',\n",
       " 'Tipo_de_Inspecao': '',\n",
       " 'Ano': '2023',\n",
       " 'Tema': ['{\"valor\":\"Uso do Espectro\",\"texto\":\"Uso do Espectro\"}'],\n",
       " 'Subtema': ['{\"valor\":\"Radiomonitoração Terrestre\",\"texto\":\"Radiomonitoração Terrestre\"}'],\n",
       " 'Coordenacao': 'FI2',\n",
       " 'Numero_Sei_do_Processo': '{\"numero\"=>\"53554.000002/2023-01\", \"link_acesso\"=>\"https://seihm.anatel.gov.br/sei/controlador.php?acao=procedimento_trabalhar&id_procedimento=1978467\"}',\n",
       " 'Fiscal_Responsavel': '',\n",
       " 'Fiscais': [],\n",
       " 'Entidade_da_Inspecao': [],\n",
       " 'UF_Municipio': [],\n",
       " 'Servicos_da_Inspecao': [],\n",
       " 'Horas_de_Preparacao': '',\n",
       " 'Horas_de_Deslocamento': '',\n",
       " 'Horas_de_Execucao': '',\n",
       " 'Horas_de_Conclusao': '',\n",
       " 'Total_de_horas': '0.0',\n",
       " 'SAV': '',\n",
       " 'PCDP': '',\n",
       " 'Procedimentos': [],\n",
       " 'Agrupamento': '',\n",
       " 'AppFiscaliza': '0',\n",
       " 'Utilizou_tecnicas_amostrais': '',\n",
       " 'Observacao_tecnica_amostral': '',\n",
       " 'id_ACAO': 98268,\n",
       " 'nome_ACAO': 'ACAO_GR08_2023_0013',\n",
       " 'descricao_ACAO': '',\n",
       " 'Users': ['Alessandro Vasconcelos Fernandes',\n",
       "  'Alexnaldo Cerqueira da Silva',\n",
       "  'Anecy Oliveira de Freitas',\n",
       "  'Arildo Oliva Franca Filho',\n",
       "  'Brasílio Rios Leite',\n",
       "  'Carlos Fernando Muniz Santos',\n",
       "  'Carolina Valenca',\n",
       "  'David Santana e Silva Barreto',\n",
       "  'Eric Magalhaes Delgado',\n",
       "  'Fiscal UD',\n",
       "  'Gilmar Ferreira do Nascimento',\n",
       "  'Ilva Perla Monteiro Ferreira',\n",
       "  'Isabel Cristina Soares e Souza',\n",
       "  'Iulo de Araujo Lima Lobo',\n",
       "  'Jaqueline Cesario Da Silva',\n",
       "  'Jorgean Ferreira Leal',\n",
       "  'Jose Ivan Gomes',\n",
       "  'Jose Mauricio Leite Araujo',\n",
       "  'Leonardo Lago Araujo',\n",
       "  'Lin Yu Wan',\n",
       "  'Luis Fernando Camelier de Queiroz',\n",
       "  'Michel Kulhavy Cerqueira',\n",
       "  'Tiago Mota',\n",
       "  'Wilton Machado de Oliveira'],\n",
       " 'Atualizado': 'Atualizado por Eric Magalhaes Delgado em 23/02/2023 às 16:26:01'}"
      ]
     },
     "execution_count": 8,
     "metadata": {},
     "output_type": "execute_result"
    }
   ],
   "source": [
    "detalhar_issue(issue, login, senha, teste=TESTE)"
   ]
  },
  {
   "cell_type": "code",
   "execution_count": 22,
   "metadata": {},
   "outputs": [],
   "source": [
    "d = {}\n",
    "\n",
    "d['Classe_da_Inspecao'] = 'Técnica' # str\n",
    "\n",
    "d['Tipo_de_Inspecao'] = 'Uso do Espectro - Monitoração' #str\n",
    "\n",
    "d['description'] = '''Realizar análise espectral de faixas das frequência relacionadas ao Plano de Monitoração do Espectro destinado a aplicações Críticas (PMEC), aferindo a sua ocupação, nas localidades que compõem a Etapa 1 da fiscalização.'''\n",
    "\n",
    "d['Fiscal_Responsavel'] = 'Eric Magalhaes Delgado' #str\n",
    "\n",
    "d['Fiscais'] = ['Alessandro Vasconcelos Fernandes', 'Eric Magalhaes Delgado'] #string ou lista de strings\n",
    "\n",
    "# Windows\n",
    "d['Html'] = r'arquivos/Report_2023.02.03_T14.08.31_85127.html' #str\n",
    "\n",
    "# d['Html'] = r'D:\\html_simples.html'\n",
    "\n",
    "# #ou \n",
    "\n",
    "# #Unix d['Html'] = '/d/OneDrive - ANATEL/Monitoramento/53504.0005432021-55/Guarulhos.html' #str\n",
    "            \n",
    "d['Gerar_Relatorio'] = 1 # int 0 ou 1\n",
    "\n",
    "d['Frequencia_Inicial']  = 10 #int ou float\n",
    "\n",
    "d['Unidade_da_Frequencia_Inicial'] = 'kHz' #string\n",
    "\n",
    "d['Frequencia_Final'] = 5450 #int ou float\n",
    "\n",
    "d['Unidade_da_Frequencia_Final'] = 'MHz' #string\n",
    "\n",
    "d['start_date'] = '2023-04-11' #YYYY-MM-DD #string nesse formato\n",
    "\n",
    "d['due_date'] = '2023-05-31'  #YYYY-MM-DD #string nesse formato\n",
    "\n",
    "d['UF_Municipio'] = \"BA/Salvador\" # string ou Lista de Strings: [\"SP/São Paulo\", \"SP/Sorocaba\"]\n",
    "\n",
    "d['Servicos_da_Inspecao'] = ['019', '205',  '230', '231', '507', '805'] # String ou Lista de Strings\n",
    "\n",
    "d['Qtd_Emissoes'] = 70 # int\n",
    "\n",
    "d[\"Qtd_Licenciadas\"] = 1\n",
    "\n",
    "d[\"Qtd_Identificadas\"] = 1\n",
    "\n",
    "# d['Emissoes_nao_autorizadas'] = 24 # int\n",
    "\n",
    "d['Horas_de_Preparacao'] = 4 # int\n",
    "\n",
    "d['Horas_de_Deslocamento'] = 0 # int\n",
    "\n",
    "d['Horas_de_Execucao'] = 4 # int\n",
    "\n",
    "d['Horas_de_Conclusao'] = 16 # int\n",
    "\n",
    "d['Latitude'] =  -23.635884 # float\n",
    "\n",
    "d['Longitude'] = -46.654251 # float\n",
    "\n",
    "d['Uso_de_PF'] = 'Não se aplica PF - uso apenas de formulários' # string\n",
    "\n",
    "d['Acao_de_risco_a_vida_criada'] = 'Não' # string Sim | Não\n",
    "\n",
    "d['Impossibilidade_acesso_online'] = '0' # string '0' | '1'\n",
    "\n",
    "d['Reservar_Instrumentos'] = '0' #string '0' = Não | '1' = 'Sim'\n",
    "\n",
    "d['Utilizou_algum_instrumento'] = '0'\n",
    "\n",
    "# d['notes'] = \"\"\"Vemos que o nível médio medido ficou da ordem de 35.2 dB inferior e o nível máximo da ordem de 25.2 dB inferior do valor esperado pela simulação de cobertura, indicando potenciais perdas adicionais não contabilizadas pelo modelo de propagação.\n",
    "\n",
    "# Cabe salientar que concomitantemente à monitoração efetuada no item 4 foi efetuada a demodulação do sinal de áudio e monitoração do sinal ao vivo e não foi constatado qualquer sinal de interferência, batimento ou produto de intermodulação.\"\"\"\n",
    "\n",
    "# d['notes'] = [\"\"\"[{\"Banda\":\"87.800 - 108.000 MHz\", \"Licenciados\":31,\"NaoLicenciados\":4,\"NaoLicenciaveis\":0, 'Espúrio': 2, \"NaoIdentificada\": 1, \"NaoManifestada\": 0},\n",
    "#                 {\"Banda\":\"470.000 - 698.000 MHz\",\"Sinais\":19,\"Licenciados\":19,\"NaoLicenciados\":0,\"NaoLicenciaveis\":0, 'Espúrio': 2, \"NaoIdentificada\": 1, \"NaoManifestada\": 0}]\n",
    "#             \"\"\"]\n",
    "\n",
    "# No caso de uma tabela, string formatada como csv\n",
    "\n",
    "d['notes'] = {k:2 for k in TABLECOLS.values()}\n",
    "\n",
    "d['notes'] = [f\"{d['notes']}\"]\n",
    "\n",
    "# d['notes'] = [\"\"\"Faixa, Classe Especial, Classe A, Classe B, Classe C\n",
    "#                 VHF-L,0,5,7,5\n",
    "#                 VHF-H,0,12,1,0\n",
    "#                 UHF,1,1,2,4\n",
    "#                 FM,5,1,0,0\n",
    "#                 RADCOM,0,0,0,0\n",
    "#                 Outorgadas com indícios de irregularidades,1,2,3,4\n",
    "#               \"\"\",\n",
    "#               \"\"\"[{\"Banda\":\"87.800 - 108.000 MHz\",\"Sinais\":35,\"Licenciados\":31,\"NaoLicenciados\":4,\"NaoLicenciaveis\":0},\n",
    "#                   {\"Banda\":\"470.000 - 698.000 MHz\",\"Sinais\":19,\"Licenciados\":19,\"NaoLicenciados\":0,\"NaoLicenciaveis\":0}]\n",
    "#               \"\"\"]\n",
    "\n",
    "d['uploads'] = {'path': r'arquivos/Report_2023.02.03_T14.08.31_85127.json', \n",
    "                'filename': \"Info.json\",\n",
    "# #                 'description': \"Lista de Emissões Desmascaradas e Não Licenciadas\",\n",
    "# #                 'content_type': '.csv'\n",
    "                 }"
   ]
  },
  {
   "cell_type": "code",
   "execution_count": 23,
   "metadata": {},
   "outputs": [
    {
     "data": {
      "text/html": [
       "<pre style=\"white-space:pre;overflow-x:auto;line-height:normal;font-family:Menlo,'DejaVu Sans Mono',consolas,'Courier New',monospace\"><span style=\"color: #008000; text-decoration-color: #008000; font-weight: bold\">Usuário Autenticado com Sucesso 👍</span>\n",
       "</pre>\n"
      ],
      "text/plain": [
       "\u001b[1;32mUsuário Autenticado com Sucesso 👍\u001b[0m\n"
      ]
     },
     "metadata": {},
     "output_type": "display_data"
    },
    {
     "data": {
      "text/html": [
       "<pre style=\"white-space:pre;overflow-x:auto;line-height:normal;font-family:Menlo,'DejaVu Sans Mono',consolas,'Courier New',monospace\">Inspeção <span style=\"color: #008080; text-decoration-color: #008080; font-weight: bold\">103789</span> vinculada à Ação <span style=\"color: #008080; text-decoration-color: #008080; font-weight: bold\">98268</span>\n",
       "</pre>\n"
      ],
      "text/plain": [
       "Inspeção \u001b[1;36m103789\u001b[0m vinculada à Ação \u001b[1;36m98268\u001b[0m\n"
      ]
     },
     "metadata": {},
     "output_type": "display_data"
    },
    {
     "data": {
      "application/vnd.jupyter.widget-view+json": {
       "model_id": "",
       "version_major": 2,
       "version_minor": 0
      },
      "text/plain": [
       "Output()"
      ]
     },
     "metadata": {},
     "output_type": "display_data"
    },
    {
     "data": {
      "text/html": [
       "<pre style=\"white-space:pre;overflow-x:auto;line-height:normal;font-family:Menlo,'DejaVu Sans Mono',consolas,'Courier New',monospace\"></pre>\n"
      ],
      "text/plain": []
     },
     "metadata": {},
     "output_type": "display_data"
    },
    {
     "data": {
      "text/html": [
       "<pre style=\"white-space:pre;overflow-x:auto;line-height:normal;font-family:Menlo,'DejaVu Sans Mono',consolas,'Courier New',monospace\">✅ <span style=\"color: #008080; text-decoration-color: #008080\">Estado Atual: </span><span style=\"color: #008000; text-decoration-color: #008000; font-weight: bold\">Relatando</span>\n",
       "</pre>\n"
      ],
      "text/plain": [
       "✅ \u001b[36mEstado Atual: \u001b[0m\u001b[1;32mRelatando\u001b[0m\n"
      ]
     },
     "metadata": {},
     "output_type": "display_data"
    },
    {
     "data": {
      "text/html": [
       "<pre style=\"white-space:pre;overflow-x:auto;line-height:normal;font-family:Menlo,'DejaVu Sans Mono',consolas,'Courier New',monospace\">👩‍💻 <span style=\"color: #008080; text-decoration-color: #008080\"> A inspeção será atualizada até a situação </span><span style=\"color: #008000; text-decoration-color: #008000; font-weight: bold\">Relatando</span>\n",
       "</pre>\n"
      ],
      "text/plain": [
       "👩‍💻 \u001b[36m A inspeção será atualizada até a situação \u001b[0m\u001b[1;32mRelatando\u001b[0m\n"
      ]
     },
     "metadata": {},
     "output_type": "display_data"
    },
    {
     "data": {
      "application/vnd.jupyter.widget-view+json": {
       "model_id": "",
       "version_major": 2,
       "version_minor": 0
      },
      "text/plain": [
       "Output()"
      ]
     },
     "metadata": {},
     "output_type": "display_data"
    },
    {
     "data": {
      "text/html": [
       "<pre style=\"white-space:pre;overflow-x:auto;line-height:normal;font-family:Menlo,'DejaVu Sans Mono',consolas,'Courier New',monospace\"></pre>\n"
      ],
      "text/plain": []
     },
     "metadata": {},
     "output_type": "display_data"
    },
    {
     "data": {
      "text/html": [
       "<pre style=\"white-space:pre;overflow-x:auto;line-height:normal;font-family:Menlo,'DejaVu Sans Mono',consolas,'Courier New',monospace\">✨ <span style=\"color: #008080; text-decoration-color: #008080\">Inspeção </span><span style=\"color: #008080; text-decoration-color: #008080; font-weight: bold\">103789</span><span style=\"color: #008080; text-decoration-color: #008080\"> atualizada para </span><span style=\"color: #008000; text-decoration-color: #008000; font-weight: bold\">Relatando</span>\n",
       "</pre>\n"
      ],
      "text/plain": [
       "✨ \u001b[36mInspeção \u001b[0m\u001b[1;36m103789\u001b[0m\u001b[36m atualizada para \u001b[0m\u001b[1;32mRelatando\u001b[0m\n"
      ]
     },
     "metadata": {},
     "output_type": "display_data"
    },
    {
     "data": {
      "text/html": [
       "<pre style=\"white-space:pre;overflow-x:auto;line-height:normal;font-family:Menlo,'DejaVu Sans Mono',consolas,'Courier New',monospace\">⚡ <span style=\"color: #008000; text-decoration-color: #008000\"> Relato efetuado</span>\n",
       "</pre>\n"
      ],
      "text/plain": [
       "⚡ \u001b[32m Relato efetuado\u001b[0m\n"
      ]
     },
     "metadata": {},
     "output_type": "display_data"
    },
    {
     "data": {
      "text/plain": [
       "{'Anexos': {'Info.json': 'http://sistemasnethm/fiscaliza/attachments/download/4728/Info.json'},\n",
       " 'id': 103789,\n",
       " 'subject': 'INSP_GR08_2023_0072',\n",
       " 'status': <redminelib.resources.IssueStatus #14 \"Relatando\">,\n",
       " 'priority': <redminelib.resources.Enumeration #2 \"Normal\">,\n",
       " 'start_date': datetime.date(2023, 4, 11),\n",
       " 'due_date': datetime.date(2023, 5, 31),\n",
       " 'description': 'Realizar análise espectral de faixas das frequência relacionadas ao Plano de Monitoração do Espectro destinado a aplicações Críticas (PMEC), aferindo a sua ocupação, nas localidades que compõem a Etapa 1 da fiscalização.',\n",
       " 'Data_de_inicio_efetivo': datetime.date(2023, 2, 27),\n",
       " 'Classe_da_Inspecao': 'Técnica',\n",
       " 'Tipo_de_Inspecao': 'Uso do Espectro - Monitoração',\n",
       " 'Ano': '2023',\n",
       " 'Tema': ['{\"valor\":\"Uso do Espectro\",\"texto\":\"Uso do Espectro\"}'],\n",
       " 'Subtema': ['{\"valor\":\"Radiomonitoração Terrestre\",\"texto\":\"Radiomonitoração Terrestre\"}'],\n",
       " 'Coordenacao': 'FI2',\n",
       " 'Numero_Sei_do_Processo': '{\"numero\"=>\"53554.000002/2023-01\", \"link_acesso\"=>\"https://seihm.anatel.gov.br/sei/controlador.php?acao=procedimento_trabalhar&id_procedimento=1978467\"}',\n",
       " 'Fiscal_Responsavel': 'Eric Magalhaes Delgado',\n",
       " 'Fiscais': ['Alessandro Vasconcelos Fernandes', 'Eric Magalhaes Delgado'],\n",
       " 'Entidade_da_Inspecao': [],\n",
       " 'UF_Municipio': ['BA/Salvador'],\n",
       " 'Servicos_da_Inspecao': ['019 - RESTRITO - LIMITADO PRIVADO',\n",
       "  '205 - COLETIVO - RADIODIFUSÃO SONORA EM ONDA MÉDIA',\n",
       "  '230 - COLETIVO - RADIODIFUSÃO SONORA EM FREQÜÊNCIA MODULADA',\n",
       "  '231 - COLETIVO - RADIODIFUSÃO COMUNITÁRIA',\n",
       "  '507 - RESTRITO - MÓVEL AERONÁUTICO',\n",
       "  '805 - COLETIVO - RETRANSMISSÃO DE RÁDIO (RTR) NA AMAZÔNIA LEGAL'],\n",
       " 'Qtd_Emissoes': '70',\n",
       " 'Qtd_Licenciadas': '',\n",
       " 'Qtd_Identificadas': '',\n",
       " 'Horas_de_Preparacao': '4',\n",
       " 'Horas_de_Deslocamento': '0',\n",
       " 'Horas_de_Execucao': '4',\n",
       " 'Horas_de_Conclusao': '16',\n",
       " 'Total_de_horas': '24.0',\n",
       " 'SAV': '',\n",
       " 'PCDP': '',\n",
       " 'Procedimentos': [],\n",
       " 'Latitude_coordenadas': '',\n",
       " 'Longitude_coordenadas': '',\n",
       " 'Acao_de_risco_a_vida_criada': 'Não',\n",
       " 'Frequencia_Inicial': '10',\n",
       " 'Unidade_da_Frequencia_Inicial': 'kHz',\n",
       " 'Frequencia_Final': '5450',\n",
       " 'Unidade_da_Frequencia_Final': 'MHz',\n",
       " 'Agrupamento': '',\n",
       " 'AppFiscaliza': '0',\n",
       " 'Relatorio_de_Monitoramento': '{\"numero\"=>\"0203135\", \"link_acesso\"=>\"https://seihm.anatel.gov.br/sei/controlador.php?acao=procedimento_trabalhar&id_procedimento=1978467&id_documento=1978480\"}',\n",
       " 'Reservar_Instrumentos': '0',\n",
       " 'Utilizou_algum_instrumento': '0',\n",
       " 'Coordenadas_Geograficas': '{\"latitude\"=>\"-23.635884\", \"longitude\"=>\"-46.654251\"}',\n",
       " 'id_ACAO': 98268,\n",
       " 'nome_ACAO': 'ACAO_GR08_2023_0013',\n",
       " 'descricao_ACAO': '',\n",
       " 'Users': ['Alessandro Vasconcelos Fernandes',\n",
       "  'Alexnaldo Cerqueira da Silva',\n",
       "  'Anecy Oliveira de Freitas',\n",
       "  'Arildo Oliva Franca Filho',\n",
       "  'Brasílio Rios Leite',\n",
       "  'Carlos Fernando Muniz Santos',\n",
       "  'Carolina Valenca',\n",
       "  'David Santana e Silva Barreto',\n",
       "  'Eric Magalhaes Delgado',\n",
       "  'Fiscal UD',\n",
       "  'Gilmar Ferreira do Nascimento',\n",
       "  'Ilva Perla Monteiro Ferreira',\n",
       "  'Isabel Cristina Soares e Souza',\n",
       "  'Iulo de Araujo Lima Lobo',\n",
       "  'Jaqueline Cesario Da Silva',\n",
       "  'Jorgean Ferreira Leal',\n",
       "  'Jose Ivan Gomes',\n",
       "  'Jose Mauricio Leite Araujo',\n",
       "  'Leonardo Lago Araujo',\n",
       "  'Lin Yu Wan',\n",
       "  'Luis Fernando Camelier de Queiroz',\n",
       "  'Michel Kulhavy Cerqueira',\n",
       "  'Tiago Mota',\n",
       "  'Wilton Machado de Oliveira'],\n",
       " 'Atualizado': 'Atualizado por Eric Magalhaes Delgado em 27/02/2023 às 16:07:54'}"
      ]
     },
     "execution_count": 23,
     "metadata": {},
     "output_type": "execute_result"
    }
   ],
   "source": [
    "relatar_inspecao(issue, login, senha, dados=d, teste=TESTE, parar_em=parar_em, substituir_relatorio=True)"
   ]
  },
  {
   "cell_type": "code",
   "execution_count": 24,
   "metadata": {},
   "outputs": [
    {
     "data": {
      "text/plain": [
       "(#1) [<redminelib.resources.Attachment #4728 \"Info.json\">]"
      ]
     },
     "execution_count": 24,
     "metadata": {},
     "output_type": "execute_result"
    }
   ],
   "source": [
    "a = extract_attachments(issue, login, senha, teste=TESTE)\n",
    "a"
   ]
  },
  {
   "cell_type": "code",
   "execution_count": 25,
   "metadata": {},
   "outputs": [],
   "source": [
    "d['Html'] = r'arquivos/Report_2023.02.02_T23.14.07_84330.html' #str\n",
    "d['uploads'] = {'path': r'arquivos/Report_2023.02.02_T23.14.07_84330.json', \n",
    "                'filename': \"Info.json\",\n",
    "                'description': \"Dados Consolidados da Inspeção\"}"
   ]
  },
  {
   "cell_type": "code",
   "execution_count": 26,
   "metadata": {},
   "outputs": [
    {
     "data": {
      "text/html": [
       "<pre style=\"white-space:pre;overflow-x:auto;line-height:normal;font-family:Menlo,'DejaVu Sans Mono',consolas,'Courier New',monospace\"><span style=\"color: #008000; text-decoration-color: #008000; font-weight: bold\">Usuário Autenticado com Sucesso 👍</span>\n",
       "</pre>\n"
      ],
      "text/plain": [
       "\u001b[1;32mUsuário Autenticado com Sucesso 👍\u001b[0m\n"
      ]
     },
     "metadata": {},
     "output_type": "display_data"
    },
    {
     "data": {
      "text/html": [
       "<pre style=\"white-space:pre;overflow-x:auto;line-height:normal;font-family:Menlo,'DejaVu Sans Mono',consolas,'Courier New',monospace\">Inspeção <span style=\"color: #008080; text-decoration-color: #008080; font-weight: bold\">103789</span> vinculada à Ação <span style=\"color: #008080; text-decoration-color: #008080; font-weight: bold\">98268</span>\n",
       "</pre>\n"
      ],
      "text/plain": [
       "Inspeção \u001b[1;36m103789\u001b[0m vinculada à Ação \u001b[1;36m98268\u001b[0m\n"
      ]
     },
     "metadata": {},
     "output_type": "display_data"
    },
    {
     "data": {
      "application/vnd.jupyter.widget-view+json": {
       "model_id": "",
       "version_major": 2,
       "version_minor": 0
      },
      "text/plain": [
       "Output()"
      ]
     },
     "metadata": {},
     "output_type": "display_data"
    },
    {
     "data": {
      "text/html": [
       "<pre style=\"white-space:pre;overflow-x:auto;line-height:normal;font-family:Menlo,'DejaVu Sans Mono',consolas,'Courier New',monospace\"></pre>\n"
      ],
      "text/plain": []
     },
     "metadata": {},
     "output_type": "display_data"
    },
    {
     "data": {
      "text/html": [
       "<pre style=\"white-space:pre;overflow-x:auto;line-height:normal;font-family:Menlo,'DejaVu Sans Mono',consolas,'Courier New',monospace\">✅ <span style=\"color: #008080; text-decoration-color: #008080\">Estado Atual: </span><span style=\"color: #008000; text-decoration-color: #008000; font-weight: bold\">Relatando</span>\n",
       "</pre>\n"
      ],
      "text/plain": [
       "✅ \u001b[36mEstado Atual: \u001b[0m\u001b[1;32mRelatando\u001b[0m\n"
      ]
     },
     "metadata": {},
     "output_type": "display_data"
    },
    {
     "data": {
      "text/html": [
       "<pre style=\"white-space:pre;overflow-x:auto;line-height:normal;font-family:Menlo,'DejaVu Sans Mono',consolas,'Courier New',monospace\">👩‍💻 <span style=\"color: #008080; text-decoration-color: #008080\"> A inspeção será atualizada até a situação </span><span style=\"color: #008000; text-decoration-color: #008000; font-weight: bold\">Relatando</span>\n",
       "</pre>\n"
      ],
      "text/plain": [
       "👩‍💻 \u001b[36m A inspeção será atualizada até a situação \u001b[0m\u001b[1;32mRelatando\u001b[0m\n"
      ]
     },
     "metadata": {},
     "output_type": "display_data"
    },
    {
     "data": {
      "application/vnd.jupyter.widget-view+json": {
       "model_id": "",
       "version_major": 2,
       "version_minor": 0
      },
      "text/plain": [
       "Output()"
      ]
     },
     "metadata": {},
     "output_type": "display_data"
    },
    {
     "data": {
      "text/html": [
       "<pre style=\"white-space:pre;overflow-x:auto;line-height:normal;font-family:Menlo,'DejaVu Sans Mono',consolas,'Courier New',monospace\"></pre>\n"
      ],
      "text/plain": []
     },
     "metadata": {},
     "output_type": "display_data"
    },
    {
     "data": {
      "text/html": [
       "<pre style=\"white-space:pre;overflow-x:auto;line-height:normal;font-family:Menlo,'DejaVu Sans Mono',consolas,'Courier New',monospace\">✨ <span style=\"color: #008080; text-decoration-color: #008080\">Inspeção </span><span style=\"color: #008080; text-decoration-color: #008080; font-weight: bold\">103789</span><span style=\"color: #008080; text-decoration-color: #008080\"> atualizada para </span><span style=\"color: #008000; text-decoration-color: #008000; font-weight: bold\">Relatando</span>\n",
       "</pre>\n"
      ],
      "text/plain": [
       "✨ \u001b[36mInspeção \u001b[0m\u001b[1;36m103789\u001b[0m\u001b[36m atualizada para \u001b[0m\u001b[1;32mRelatando\u001b[0m\n"
      ]
     },
     "metadata": {},
     "output_type": "display_data"
    },
    {
     "data": {
      "text/html": [
       "<pre style=\"white-space:pre;overflow-x:auto;line-height:normal;font-family:Menlo,'DejaVu Sans Mono',consolas,'Courier New',monospace\">⚡ <span style=\"color: #008000; text-decoration-color: #008000\"> Relato efetuado</span>\n",
       "</pre>\n"
      ],
      "text/plain": [
       "⚡ \u001b[32m Relato efetuado\u001b[0m\n"
      ]
     },
     "metadata": {},
     "output_type": "display_data"
    },
    {
     "data": {
      "text/plain": [
       "{'Anexos': {'Info.json': 'http://sistemasnethm/fiscaliza/attachments/download/4729/Info.json'},\n",
       " 'id': 103789,\n",
       " 'subject': 'INSP_GR08_2023_0072',\n",
       " 'status': <redminelib.resources.IssueStatus #14 \"Relatando\">,\n",
       " 'priority': <redminelib.resources.Enumeration #2 \"Normal\">,\n",
       " 'start_date': datetime.date(2023, 4, 11),\n",
       " 'due_date': datetime.date(2023, 5, 31),\n",
       " 'description': 'Realizar análise espectral de faixas das frequência relacionadas ao Plano de Monitoração do Espectro destinado a aplicações Críticas (PMEC), aferindo a sua ocupação, nas localidades que compõem a Etapa 1 da fiscalização.',\n",
       " 'Data_de_inicio_efetivo': datetime.date(2023, 2, 27),\n",
       " 'Classe_da_Inspecao': 'Técnica',\n",
       " 'Tipo_de_Inspecao': 'Uso do Espectro - Monitoração',\n",
       " 'Ano': '2023',\n",
       " 'Tema': ['{\"valor\":\"Uso do Espectro\",\"texto\":\"Uso do Espectro\"}'],\n",
       " 'Subtema': ['{\"valor\":\"Radiomonitoração Terrestre\",\"texto\":\"Radiomonitoração Terrestre\"}'],\n",
       " 'Coordenacao': 'FI2',\n",
       " 'Numero_Sei_do_Processo': '{\"numero\"=>\"53554.000002/2023-01\", \"link_acesso\"=>\"https://seihm.anatel.gov.br/sei/controlador.php?acao=procedimento_trabalhar&id_procedimento=1978467\"}',\n",
       " 'Fiscal_Responsavel': 'Eric Magalhaes Delgado',\n",
       " 'Fiscais': ['Alessandro Vasconcelos Fernandes', 'Eric Magalhaes Delgado'],\n",
       " 'Entidade_da_Inspecao': [],\n",
       " 'UF_Municipio': ['BA/Salvador'],\n",
       " 'Servicos_da_Inspecao': ['019 - RESTRITO - LIMITADO PRIVADO',\n",
       "  '205 - COLETIVO - RADIODIFUSÃO SONORA EM ONDA MÉDIA',\n",
       "  '230 - COLETIVO - RADIODIFUSÃO SONORA EM FREQÜÊNCIA MODULADA',\n",
       "  '231 - COLETIVO - RADIODIFUSÃO COMUNITÁRIA',\n",
       "  '507 - RESTRITO - MÓVEL AERONÁUTICO',\n",
       "  '805 - COLETIVO - RETRANSMISSÃO DE RÁDIO (RTR) NA AMAZÔNIA LEGAL'],\n",
       " 'Qtd_Emissoes': '70',\n",
       " 'Qtd_Licenciadas': '',\n",
       " 'Qtd_Identificadas': '',\n",
       " 'Horas_de_Preparacao': '4',\n",
       " 'Horas_de_Deslocamento': '0',\n",
       " 'Horas_de_Execucao': '4',\n",
       " 'Horas_de_Conclusao': '16',\n",
       " 'Total_de_horas': '24.0',\n",
       " 'SAV': '',\n",
       " 'PCDP': '',\n",
       " 'Procedimentos': [],\n",
       " 'Latitude_coordenadas': '',\n",
       " 'Longitude_coordenadas': '',\n",
       " 'Acao_de_risco_a_vida_criada': 'Não',\n",
       " 'Frequencia_Inicial': '10',\n",
       " 'Unidade_da_Frequencia_Inicial': 'kHz',\n",
       " 'Frequencia_Final': '5450',\n",
       " 'Unidade_da_Frequencia_Final': 'MHz',\n",
       " 'Agrupamento': '',\n",
       " 'AppFiscaliza': '0',\n",
       " 'Relatorio_de_Monitoramento': '{\"numero\"=>\"0203136\", \"link_acesso\"=>\"https://seihm.anatel.gov.br/sei/controlador.php?acao=procedimento_trabalhar&id_procedimento=1978467&id_documento=1978481\"}',\n",
       " 'Reservar_Instrumentos': '0',\n",
       " 'Utilizou_algum_instrumento': '0',\n",
       " 'Coordenadas_Geograficas': '{\"latitude\"=>\"-23.635884\", \"longitude\"=>\"-46.654251\"}',\n",
       " 'id_ACAO': 98268,\n",
       " 'nome_ACAO': 'ACAO_GR08_2023_0013',\n",
       " 'descricao_ACAO': '',\n",
       " 'Users': ['Alessandro Vasconcelos Fernandes',\n",
       "  'Alexnaldo Cerqueira da Silva',\n",
       "  'Anecy Oliveira de Freitas',\n",
       "  'Arildo Oliva Franca Filho',\n",
       "  'Brasílio Rios Leite',\n",
       "  'Carlos Fernando Muniz Santos',\n",
       "  'Carolina Valenca',\n",
       "  'David Santana e Silva Barreto',\n",
       "  'Eric Magalhaes Delgado',\n",
       "  'Fiscal UD',\n",
       "  'Gilmar Ferreira do Nascimento',\n",
       "  'Ilva Perla Monteiro Ferreira',\n",
       "  'Isabel Cristina Soares e Souza',\n",
       "  'Iulo de Araujo Lima Lobo',\n",
       "  'Jaqueline Cesario Da Silva',\n",
       "  'Jorgean Ferreira Leal',\n",
       "  'Jose Ivan Gomes',\n",
       "  'Jose Mauricio Leite Araujo',\n",
       "  'Leonardo Lago Araujo',\n",
       "  'Lin Yu Wan',\n",
       "  'Luis Fernando Camelier de Queiroz',\n",
       "  'Michel Kulhavy Cerqueira',\n",
       "  'Tiago Mota',\n",
       "  'Wilton Machado de Oliveira'],\n",
       " 'Atualizado': 'Atualizado por Eric Magalhaes Delgado em 27/02/2023 às 16:08:41'}"
      ]
     },
     "execution_count": 26,
     "metadata": {},
     "output_type": "execute_result"
    }
   ],
   "source": [
    "relatar_inspecao(issue, login, senha, dados=d, teste=TESTE, parar_em=parar_em, substituir_relatorio=True)"
   ]
  },
  {
   "cell_type": "code",
   "execution_count": 27,
   "metadata": {},
   "outputs": [
    {
     "data": {
      "text/plain": [
       "(#1) [<redminelib.resources.Attachment #4729 \"Info.json\">]"
      ]
     },
     "execution_count": 27,
     "metadata": {},
     "output_type": "execute_result"
    }
   ],
   "source": [
    "a = extract_attachments(issue, login, senha, teste=TESTE)\n",
    "a"
   ]
  }
 ],
 "metadata": {
  "kernelspec": {
   "display_name": "Python 3 (ipykernel)",
   "language": "python",
   "name": "python3"
  },
  "language_info": {
   "codemirror_mode": {
    "name": "ipython",
    "version": 3
   },
   "file_extension": ".py",
   "mimetype": "text/x-python",
   "name": "python",
   "nbconvert_exporter": "python",
   "pygments_lexer": "ipython3",
   "version": "3.8.16"
  },
  "vscode": {
   "interpreter": {
    "hash": "3a589791c39659c206b100ed120ffa33c49b277702f856955b24827007b6ad6d"
   }
  }
 },
 "nbformat": 4,
 "nbformat_minor": 4
}
