{
 "cells": [
  {
   "cell_type": "code",
   "execution_count": null,
   "metadata": {},
   "outputs": [
    {
     "name": "stdout",
     "output_type": "stream",
     "text": [
      "The autoreload extension is already loaded. To reload it, use:\n",
      "  %reload_ext autoreload\n"
     ]
    }
   ],
   "source": [
    "%load_ext autoreload\n",
    "%autoreload 2\n",
    "%config Completer.use_jedi = False"
   ]
  },
  {
   "cell_type": "code",
   "execution_count": null,
   "metadata": {},
   "outputs": [],
   "source": [
    "#hide\n",
    "from nbdev.showdoc import show_doc\n",
    "from getpass import getuser, getpass\n",
    "from fiscaliza.redmine import detalhar_inspecao, validar_dicionario, relatar_inspecao\n",
    "from rich.console import Console\n",
    "console = Console()"
   ]
  },
  {
   "cell_type": "markdown",
   "metadata": {},
   "source": [
    "# Fiscaliza\n",
    "\n",
    "> Scripts para baixar informações sobre inspeções no Sistema Fiscaliza da Anatel e atualizar inspeções por meio da API do Redmine."
   ]
  },
  {
   "cell_type": "markdown",
   "metadata": {},
   "source": [
    "## Instalação"
   ]
  },
  {
   "cell_type": "markdown",
   "metadata": {},
   "source": [
    "`pip install fiscaliza`"
   ]
  },
  {
   "cell_type": "markdown",
   "metadata": {},
   "source": [
    "## Como utilizar"
   ]
  },
  {
   "cell_type": "markdown",
   "metadata": {},
   "source": [
    "O `Fiscaliza` da Anatel é um sistema web que utiliza a plataforma Redmine. É basicamente um softaware de gerenciamento e atividades.\n",
    "\n",
    "O Fiscaliza possui 2 módulos para os fiscais utilizarem:\n",
    "* Módulo de Teste ( Homologação ) : \"https://sistemashm.anatel.gov.br/fiscaliza\"\n",
    "* Módulo de Produção: \"https://sistemas.anatel.gov.br/fiscaliza/\"\n",
    "\n",
    "Ambos módulos precisam de um usuário e senha com acesso autorizado, em geral somente servidores da Anatel.\n",
    "\n",
    "O Escopo desse módulo basicamente está encapsulado em 3 funções básicas:\n",
    "* detalhar_inspecao - **Retorna as informações do estado atual da Issue ( Inspeção )**\n",
    "* validar_dicionario - **Para dado dicionário de dados, formata-o para a API do Redmine**\n",
    "* relatar_inspecao - **Atualiza e Issue com o dicionário de dados passado**\n",
    "\n",
    "> Note: O escopo da terceira função `relatar_inspecao` possui escopo limitado. Atualmente somente é formatado e relatado Inspeções ( Issue ) to tipo \"Uso do Espectro - Monitoração\". Essa inspeção é a principal utilizada para as atividades de monitoração da Anatel e foi o que motivou a criação da presente biblioteca. Outras inspeções possuem campos distintos e assim exigem formatação distinta. Versões futuras poderão abarcar o relato de diferentes inspeções. "
   ]
  },
  {
   "cell_type": "code",
   "execution_count": null,
   "metadata": {},
   "outputs": [
    {
     "data": {
      "text/markdown": [
       "<h4 id=\"detalhar_inspecao\" class=\"doc_header\"><code>detalhar_inspecao</code><a href=\"https://github.com/ronaldokun/fiscaliza/tree/master/fiscaliza/redmine.py#L425\" class=\"source_link\" style=\"float:right\">[source]</a></h4>\n",
       "\n",
       "> <code>detalhar_inspecao</code>(**`inspecao`**:\"Número da Inspeção a ser relatada\", **`login`**:\"Login Anatel do Usuário\"=*`None`*, **`senha`**:\"Senha Utilizada nos Sistemas Interativos da Anatel\"=*`None`*, **`fiscaliza`**:\"Objeto Redmine logado, opcional ao login e senha\"=*`None`*, **`teste`**:\"Indica se o relato será de teste\"=*`True`*)\n",
       "\n",
       "Recebe número da inspeção `inspecao`, o login e senha ou opcionalmente objeto Redmine logado `fiscaliza`\n",
       "inspecao: str - Número da Inspeção a ser relatada\n",
       "login: str - Login Anatel do Usuário\n",
       "senha: str - Senha Utilizada nos Sistemas Interativos da\n",
       "fiscaliza: Redmine - Objeto Redmine logado, opcional ao login e senha\n",
       "teste: bool - Caso verdadeiro o Fiscaliza de Teste ( Homologação ) é utilizado\n",
       "\n",
       "Returns:\n",
       "    dict: Retorna um dicionário com a Situação Atual e campos preenchidos da Inspeção"
      ],
      "text/plain": [
       "<IPython.core.display.Markdown object>"
      ]
     },
     "metadata": {},
     "output_type": "display_data"
    }
   ],
   "source": [
    "#hide\n",
    "show_doc(detalhar_inspecao)"
   ]
  },
  {
   "cell_type": "markdown",
   "metadata": {},
   "source": [
    "Vamos exemplificar a Inspeção de Teste `53689`"
   ]
  },
  {
   "cell_type": "code",
   "execution_count": null,
   "metadata": {},
   "outputs": [
    {
     "name": "stdin",
     "output_type": "stream",
     "text": [
      " ··········\n"
     ]
    }
   ],
   "source": [
    "login = getuser()\n",
    "senha = getpass()\n",
    "inspecao = '57689'"
   ]
  },
  {
   "cell_type": "code",
   "execution_count": null,
   "metadata": {},
   "outputs": [],
   "source": [
    "inspecao = '51849'\n",
    "detalhes = detalhar_inspecao(inspecao, login, senha, teste=False)"
   ]
  },
  {
   "cell_type": "code",
   "execution_count": null,
   "metadata": {},
   "outputs": [
    {
     "data": {
      "text/html": [
       "<pre style=\"white-space:pre;overflow-x:auto;line-height:normal;font-family:Menlo,'DejaVu Sans Mono',consolas,'Courier New',monospace\"><span style=\"color: #000080; text-decoration-color: #000080\">id </span><span style=\"color: #800000; text-decoration-color: #800000\">-&gt; </span><span style=\"color: #008000; text-decoration-color: #008000; font-weight: bold\">51849</span>\n",
       "</pre>\n"
      ],
      "text/plain": [
       "\u001b[34mid \u001b[0m\u001b[31m-> \u001b[0m\u001b[1;32m51849\u001b[0m\n"
      ]
     },
     "metadata": {},
     "output_type": "display_data"
    },
    {
     "data": {
      "text/html": [
       "<pre style=\"white-space:pre;overflow-x:auto;line-height:normal;font-family:Menlo,'DejaVu Sans Mono',consolas,'Courier New',monospace\"><span style=\"color: #000080; text-decoration-color: #000080\">subject </span><span style=\"color: #800000; text-decoration-color: #800000\">-&gt; </span><span style=\"color: #008000; text-decoration-color: #008000\">INSP_GR01_2021_0456</span>\n",
       "</pre>\n"
      ],
      "text/plain": [
       "\u001b[34msubject \u001b[0m\u001b[31m-> \u001b[0m\u001b[32mINSP_GR01_2021_0456\u001b[0m\n"
      ]
     },
     "metadata": {},
     "output_type": "display_data"
    },
    {
     "data": {
      "text/html": [
       "<pre style=\"white-space:pre;overflow-x:auto;line-height:normal;font-family:Menlo,'DejaVu Sans Mono',consolas,'Courier New',monospace\"><span style=\"color: #000080; text-decoration-color: #000080\">status </span><span style=\"color: #800000; text-decoration-color: #800000\">-&gt; </span><span style=\"color: #008000; text-decoration-color: #008000\">Rascunho</span>\n",
       "</pre>\n"
      ],
      "text/plain": [
       "\u001b[34mstatus \u001b[0m\u001b[31m-> \u001b[0m\u001b[32mRascunho\u001b[0m\n"
      ]
     },
     "metadata": {},
     "output_type": "display_data"
    },
    {
     "data": {
      "text/html": [
       "<pre style=\"white-space:pre;overflow-x:auto;line-height:normal;font-family:Menlo,'DejaVu Sans Mono',consolas,'Courier New',monospace\"><span style=\"color: #000080; text-decoration-color: #000080\">priority </span><span style=\"color: #800000; text-decoration-color: #800000\">-&gt; </span><span style=\"color: #008000; text-decoration-color: #008000\">Normal</span>\n",
       "</pre>\n"
      ],
      "text/plain": [
       "\u001b[34mpriority \u001b[0m\u001b[31m-> \u001b[0m\u001b[32mNormal\u001b[0m\n"
      ]
     },
     "metadata": {},
     "output_type": "display_data"
    },
    {
     "data": {
      "text/html": [
       "<pre style=\"white-space:pre;overflow-x:auto;line-height:normal;font-family:Menlo,'DejaVu Sans Mono',consolas,'Courier New',monospace\"><span style=\"color: #000080; text-decoration-color: #000080\">start_date </span><span style=\"color: #800000; text-decoration-color: #800000\">-&gt; </span><span style=\"color: #008000; text-decoration-color: #008000; font-weight: bold\">2021</span><span style=\"color: #008000; text-decoration-color: #008000\">-</span><span style=\"color: #008000; text-decoration-color: #008000; font-weight: bold\">03</span><span style=\"color: #008000; text-decoration-color: #008000\">-</span><span style=\"color: #008000; text-decoration-color: #008000; font-weight: bold\">09</span>\n",
       "</pre>\n"
      ],
      "text/plain": [
       "\u001b[34mstart_date \u001b[0m\u001b[31m-> \u001b[0m\u001b[1;32m2021\u001b[0m\u001b[32m-\u001b[0m\u001b[1;32m03\u001b[0m\u001b[32m-\u001b[0m\u001b[1;32m09\u001b[0m\n"
      ]
     },
     "metadata": {},
     "output_type": "display_data"
    },
    {
     "data": {
      "text/html": [
       "<pre style=\"white-space:pre;overflow-x:auto;line-height:normal;font-family:Menlo,'DejaVu Sans Mono',consolas,'Courier New',monospace\"><span style=\"color: #000080; text-decoration-color: #000080\">due_date </span><span style=\"color: #800000; text-decoration-color: #800000\">-&gt; </span><span style=\"color: #008000; text-decoration-color: #008000; font-weight: bold\">2021</span><span style=\"color: #008000; text-decoration-color: #008000\">-</span><span style=\"color: #008000; text-decoration-color: #008000; font-weight: bold\">06</span><span style=\"color: #008000; text-decoration-color: #008000\">-</span><span style=\"color: #008000; text-decoration-color: #008000; font-weight: bold\">30</span>\n",
       "</pre>\n"
      ],
      "text/plain": [
       "\u001b[34mdue_date \u001b[0m\u001b[31m-> \u001b[0m\u001b[1;32m2021\u001b[0m\u001b[32m-\u001b[0m\u001b[1;32m06\u001b[0m\u001b[32m-\u001b[0m\u001b[1;32m30\u001b[0m\n"
      ]
     },
     "metadata": {},
     "output_type": "display_data"
    },
    {
     "data": {
      "text/html": [
       "<pre style=\"white-space:pre;overflow-x:auto;line-height:normal;font-family:Menlo,'DejaVu Sans Mono',consolas,'Courier New',monospace\"><span style=\"color: #000080; text-decoration-color: #000080\">Classe_da_Inspecao </span><span style=\"color: #800000; text-decoration-color: #800000\">-&gt; </span><span style=\"color: #008000; text-decoration-color: #008000\">Técnica</span>\n",
       "</pre>\n"
      ],
      "text/plain": [
       "\u001b[34mClasse_da_Inspecao \u001b[0m\u001b[31m-> \u001b[0m\u001b[32mTécnica\u001b[0m\n"
      ]
     },
     "metadata": {},
     "output_type": "display_data"
    },
    {
     "data": {
      "text/html": [
       "<pre style=\"white-space:pre;overflow-x:auto;line-height:normal;font-family:Menlo,'DejaVu Sans Mono',consolas,'Courier New',monospace\"><span style=\"color: #000080; text-decoration-color: #000080\">Tipo_de_Inspecao </span><span style=\"color: #800000; text-decoration-color: #800000\">-&gt; </span><span style=\"color: #008000; text-decoration-color: #008000\">Uso do Espectro - Monitoração</span>\n",
       "</pre>\n"
      ],
      "text/plain": [
       "\u001b[34mTipo_de_Inspecao \u001b[0m\u001b[31m-> \u001b[0m\u001b[32mUso do Espectro - Monitoração\u001b[0m\n"
      ]
     },
     "metadata": {},
     "output_type": "display_data"
    },
    {
     "data": {
      "text/html": [
       "<pre style=\"white-space:pre;overflow-x:auto;line-height:normal;font-family:Menlo,'DejaVu Sans Mono',consolas,'Courier New',monospace\"><span style=\"color: #000080; text-decoration-color: #000080\">Ano </span><span style=\"color: #800000; text-decoration-color: #800000\">-&gt; </span><span style=\"color: #008000; text-decoration-color: #008000; font-weight: bold\">2021</span>\n",
       "</pre>\n"
      ],
      "text/plain": [
       "\u001b[34mAno \u001b[0m\u001b[31m-> \u001b[0m\u001b[1;32m2021\u001b[0m\n"
      ]
     },
     "metadata": {},
     "output_type": "display_data"
    },
    {
     "data": {
      "text/html": [
       "<pre style=\"white-space:pre;overflow-x:auto;line-height:normal;font-family:Menlo,'DejaVu Sans Mono',consolas,'Courier New',monospace\"><span style=\"color: #000080; text-decoration-color: #000080\">Coordenacao </span><span style=\"color: #800000; text-decoration-color: #800000\">-&gt; </span><span style=\"color: #008000; text-decoration-color: #008000\">FI3</span>\n",
       "</pre>\n"
      ],
      "text/plain": [
       "\u001b[34mCoordenacao \u001b[0m\u001b[31m-> \u001b[0m\u001b[32mFI3\u001b[0m\n"
      ]
     },
     "metadata": {},
     "output_type": "display_data"
    },
    {
     "data": {
      "text/html": [
       "<pre style=\"white-space:pre;overflow-x:auto;line-height:normal;font-family:Menlo,'DejaVu Sans Mono',consolas,'Courier New',monospace\"><span style=\"color: #000080; text-decoration-color: #000080\">Numero_Sei_do_Processo </span><span style=\"color: #800000; text-decoration-color: #800000\">-&gt; </span><span style=\"color: #008000; text-decoration-color: #008000; font-weight: bold\">{</span><span style=\"color: #008000; text-decoration-color: #008000\">\"numero\"</span><span style=\"color: #008000; text-decoration-color: #008000\">=&gt;</span><span style=\"color: #008000; text-decoration-color: #008000\">\"53504.001879/2021-35\"</span><span style=\"color: #008000; text-decoration-color: #008000\">, </span><span style=\"color: #008000; text-decoration-color: #008000\">\"link_acesso\"</span><span style=\"color: #008000; text-decoration-color: #008000\">=&gt;</span><span style=\"color: #008000; text-decoration-color: #008000\">\"https://sei.anat</span>\n",
       "<span style=\"color: #008000; text-decoration-color: #008000\">el.gov.br/sei/controlador.php?acao=procedimento_trabalhar&amp;id_procedimento=7542104\"</span><span style=\"color: #008000; text-decoration-color: #008000; font-weight: bold\">}</span>\n",
       "</pre>\n"
      ],
      "text/plain": [
       "\u001b[34mNumero_Sei_do_Processo \u001b[0m\u001b[31m-> \u001b[0m\u001b[1;32m{\u001b[0m\u001b[32m\"numero\"\u001b[0m\u001b[32m=>\u001b[0m\u001b[32m\"53504.001879/2021-35\"\u001b[0m\u001b[32m, \u001b[0m\u001b[32m\"link_acesso\"\u001b[0m\u001b[32m=>\u001b[0m\u001b[32m\"https://sei.anat\u001b[0m\n",
       "\u001b[32mel.gov.br/sei/controlador.php?\u001b[0m\u001b[32macao\u001b[0m\u001b[32m=\u001b[0m\u001b[32mprocedimento_trabalhar\u001b[0m\u001b[32m&\u001b[0m\u001b[32mid_procedimento\u001b[0m\u001b[32m=\u001b[0m\u001b[32m7542104\"\u001b[0m\u001b[1;32m}\u001b[0m\n"
      ]
     },
     "metadata": {},
     "output_type": "display_data"
    },
    {
     "data": {
      "text/html": [
       "<pre style=\"white-space:pre;overflow-x:auto;line-height:normal;font-family:Menlo,'DejaVu Sans Mono',consolas,'Courier New',monospace\"><span style=\"color: #000080; text-decoration-color: #000080\">Descricao_da_Inspecao </span><span style=\"color: #800000; text-decoration-color: #800000\">-&gt; </span><span style=\"color: #008000; text-decoration-color: #008000; font-weight: bold\">[</span><span style=\"color: #008000; text-decoration-color: #008000\">PMEC </span><span style=\"color: #008000; text-decoration-color: #008000; font-weight: bold\">2021</span><span style=\"color: #008000; text-decoration-color: #008000; font-weight: bold\">]</span><span style=\"color: #008000; text-decoration-color: #008000\"> GR01. Etapa </span><span style=\"color: #008000; text-decoration-color: #008000; font-weight: bold\">1</span><span style=\"color: #008000; text-decoration-color: #008000\">.</span>\n",
       "</pre>\n"
      ],
      "text/plain": [
       "\u001b[34mDescricao_da_Inspecao \u001b[0m\u001b[31m-> \u001b[0m\u001b[1;32m[\u001b[0m\u001b[32mPMEC \u001b[0m\u001b[1;32m2021\u001b[0m\u001b[1;32m]\u001b[0m\u001b[32m GR01. Etapa \u001b[0m\u001b[1;32m1\u001b[0m\u001b[32m.\u001b[0m\n"
      ]
     },
     "metadata": {},
     "output_type": "display_data"
    },
    {
     "data": {
      "text/html": [
       "<pre style=\"white-space:pre;overflow-x:auto;line-height:normal;font-family:Menlo,'DejaVu Sans Mono',consolas,'Courier New',monospace\"><span style=\"color: #000080; text-decoration-color: #000080\">Fiscal_Responsavel </span><span style=\"color: #800000; text-decoration-color: #800000\">-&gt; </span><span style=\"color: #008000; text-decoration-color: #008000\">Arthur Pisaruk</span>\n",
       "</pre>\n"
      ],
      "text/plain": [
       "\u001b[34mFiscal_Responsavel \u001b[0m\u001b[31m-> \u001b[0m\u001b[32mArthur Pisaruk\u001b[0m\n"
      ]
     },
     "metadata": {},
     "output_type": "display_data"
    },
    {
     "data": {
      "text/html": [
       "<pre style=\"white-space:pre;overflow-x:auto;line-height:normal;font-family:Menlo,'DejaVu Sans Mono',consolas,'Courier New',monospace\"><span style=\"color: #000080; text-decoration-color: #000080\">Fiscais </span><span style=\"color: #800000; text-decoration-color: #800000\">-&gt; </span><span style=\"color: #008000; text-decoration-color: #008000; font-weight: bold\">[]</span>\n",
       "</pre>\n"
      ],
      "text/plain": [
       "\u001b[34mFiscais \u001b[0m\u001b[31m-> \u001b[0m\u001b[1;32m[\u001b[0m\u001b[1;32m]\u001b[0m\n"
      ]
     },
     "metadata": {},
     "output_type": "display_data"
    },
    {
     "data": {
      "text/html": [
       "<pre style=\"white-space:pre;overflow-x:auto;line-height:normal;font-family:Menlo,'DejaVu Sans Mono',consolas,'Courier New',monospace\"><span style=\"color: #000080; text-decoration-color: #000080\">Entidade_da_Inspecao </span><span style=\"color: #800000; text-decoration-color: #800000\">-&gt; </span><span style=\"color: #008000; text-decoration-color: #008000; font-weight: bold\">[]</span>\n",
       "</pre>\n"
      ],
      "text/plain": [
       "\u001b[34mEntidade_da_Inspecao \u001b[0m\u001b[31m-> \u001b[0m\u001b[1;32m[\u001b[0m\u001b[1;32m]\u001b[0m\n"
      ]
     },
     "metadata": {},
     "output_type": "display_data"
    },
    {
     "data": {
      "text/html": [
       "<pre style=\"white-space:pre;overflow-x:auto;line-height:normal;font-family:Menlo,'DejaVu Sans Mono',consolas,'Courier New',monospace\"><span style=\"color: #000080; text-decoration-color: #000080\">UF_Municipio </span><span style=\"color: #800000; text-decoration-color: #800000\">-&gt; </span><span style=\"color: #008000; text-decoration-color: #008000; font-weight: bold\">[</span><span style=\"color: #008000; text-decoration-color: #008000\">'SP/São Paulo'</span><span style=\"color: #008000; text-decoration-color: #008000; font-weight: bold\">]</span>\n",
       "</pre>\n"
      ],
      "text/plain": [
       "\u001b[34mUF_Municipio \u001b[0m\u001b[31m-> \u001b[0m\u001b[1;32m[\u001b[0m\u001b[32m'SP/São Paulo'\u001b[0m\u001b[1;32m]\u001b[0m\n"
      ]
     },
     "metadata": {},
     "output_type": "display_data"
    },
    {
     "data": {
      "text/html": [
       "<pre style=\"white-space:pre;overflow-x:auto;line-height:normal;font-family:Menlo,'DejaVu Sans Mono',consolas,'Courier New',monospace\"><span style=\"color: #000080; text-decoration-color: #000080\">Servicos_da_Inspecao </span><span style=\"color: #800000; text-decoration-color: #800000\">-&gt; </span><span style=\"color: #008000; text-decoration-color: #008000; font-weight: bold\">[]</span>\n",
       "</pre>\n"
      ],
      "text/plain": [
       "\u001b[34mServicos_da_Inspecao \u001b[0m\u001b[31m-> \u001b[0m\u001b[1;32m[\u001b[0m\u001b[1;32m]\u001b[0m\n"
      ]
     },
     "metadata": {},
     "output_type": "display_data"
    },
    {
     "data": {
      "text/html": [
       "<pre style=\"white-space:pre;overflow-x:auto;line-height:normal;font-family:Menlo,'DejaVu Sans Mono',consolas,'Courier New',monospace\"><span style=\"color: #000080; text-decoration-color: #000080\">Qnt_de_emissoes_na_faixa </span><span style=\"color: #800000; text-decoration-color: #800000\">-&gt; </span>\n",
       "</pre>\n"
      ],
      "text/plain": [
       "\u001b[34mQnt_de_emissoes_na_faixa \u001b[0m\u001b[31m-> \u001b[0m\n"
      ]
     },
     "metadata": {},
     "output_type": "display_data"
    },
    {
     "data": {
      "text/html": [
       "<pre style=\"white-space:pre;overflow-x:auto;line-height:normal;font-family:Menlo,'DejaVu Sans Mono',consolas,'Courier New',monospace\"><span style=\"color: #000080; text-decoration-color: #000080\">Emissoes_nao_autorizadas </span><span style=\"color: #800000; text-decoration-color: #800000\">-&gt; </span>\n",
       "</pre>\n"
      ],
      "text/plain": [
       "\u001b[34mEmissoes_nao_autorizadas \u001b[0m\u001b[31m-> \u001b[0m\n"
      ]
     },
     "metadata": {},
     "output_type": "display_data"
    },
    {
     "data": {
      "text/html": [
       "<pre style=\"white-space:pre;overflow-x:auto;line-height:normal;font-family:Menlo,'DejaVu Sans Mono',consolas,'Courier New',monospace\"><span style=\"color: #000080; text-decoration-color: #000080\">Horas_de_Preparacao </span><span style=\"color: #800000; text-decoration-color: #800000\">-&gt; </span>\n",
       "</pre>\n"
      ],
      "text/plain": [
       "\u001b[34mHoras_de_Preparacao \u001b[0m\u001b[31m-> \u001b[0m\n"
      ]
     },
     "metadata": {},
     "output_type": "display_data"
    },
    {
     "data": {
      "text/html": [
       "<pre style=\"white-space:pre;overflow-x:auto;line-height:normal;font-family:Menlo,'DejaVu Sans Mono',consolas,'Courier New',monospace\"><span style=\"color: #000080; text-decoration-color: #000080\">Horas_de_Deslocamento </span><span style=\"color: #800000; text-decoration-color: #800000\">-&gt; </span>\n",
       "</pre>\n"
      ],
      "text/plain": [
       "\u001b[34mHoras_de_Deslocamento \u001b[0m\u001b[31m-> \u001b[0m\n"
      ]
     },
     "metadata": {},
     "output_type": "display_data"
    },
    {
     "data": {
      "text/html": [
       "<pre style=\"white-space:pre;overflow-x:auto;line-height:normal;font-family:Menlo,'DejaVu Sans Mono',consolas,'Courier New',monospace\"><span style=\"color: #000080; text-decoration-color: #000080\">Horas_de_Execucao </span><span style=\"color: #800000; text-decoration-color: #800000\">-&gt; </span>\n",
       "</pre>\n"
      ],
      "text/plain": [
       "\u001b[34mHoras_de_Execucao \u001b[0m\u001b[31m-> \u001b[0m\n"
      ]
     },
     "metadata": {},
     "output_type": "display_data"
    },
    {
     "data": {
      "text/html": [
       "<pre style=\"white-space:pre;overflow-x:auto;line-height:normal;font-family:Menlo,'DejaVu Sans Mono',consolas,'Courier New',monospace\"><span style=\"color: #000080; text-decoration-color: #000080\">Horas_de_Conclusao </span><span style=\"color: #800000; text-decoration-color: #800000\">-&gt; </span>\n",
       "</pre>\n"
      ],
      "text/plain": [
       "\u001b[34mHoras_de_Conclusao \u001b[0m\u001b[31m-> \u001b[0m\n"
      ]
     },
     "metadata": {},
     "output_type": "display_data"
    },
    {
     "data": {
      "text/html": [
       "<pre style=\"white-space:pre;overflow-x:auto;line-height:normal;font-family:Menlo,'DejaVu Sans Mono',consolas,'Courier New',monospace\"><span style=\"color: #000080; text-decoration-color: #000080\">SAV </span><span style=\"color: #800000; text-decoration-color: #800000\">-&gt; </span>\n",
       "</pre>\n"
      ],
      "text/plain": [
       "\u001b[34mSAV \u001b[0m\u001b[31m-> \u001b[0m\n"
      ]
     },
     "metadata": {},
     "output_type": "display_data"
    },
    {
     "data": {
      "text/html": [
       "<pre style=\"white-space:pre;overflow-x:auto;line-height:normal;font-family:Menlo,'DejaVu Sans Mono',consolas,'Courier New',monospace\"><span style=\"color: #000080; text-decoration-color: #000080\">PCDP </span><span style=\"color: #800000; text-decoration-color: #800000\">-&gt; </span>\n",
       "</pre>\n"
      ],
      "text/plain": [
       "\u001b[34mPCDP \u001b[0m\u001b[31m-> \u001b[0m\n"
      ]
     },
     "metadata": {},
     "output_type": "display_data"
    },
    {
     "data": {
      "text/html": [
       "<pre style=\"white-space:pre;overflow-x:auto;line-height:normal;font-family:Menlo,'DejaVu Sans Mono',consolas,'Courier New',monospace\"><span style=\"color: #000080; text-decoration-color: #000080\">Procedimentos </span><span style=\"color: #800000; text-decoration-color: #800000\">-&gt; </span><span style=\"color: #008000; text-decoration-color: #008000; font-weight: bold\">[]</span>\n",
       "</pre>\n"
      ],
      "text/plain": [
       "\u001b[34mProcedimentos \u001b[0m\u001b[31m-> \u001b[0m\u001b[1;32m[\u001b[0m\u001b[1;32m]\u001b[0m\n"
      ]
     },
     "metadata": {},
     "output_type": "display_data"
    },
    {
     "data": {
      "text/html": [
       "<pre style=\"white-space:pre;overflow-x:auto;line-height:normal;font-family:Menlo,'DejaVu Sans Mono',consolas,'Courier New',monospace\"><span style=\"color: #000080; text-decoration-color: #000080\">Latitude </span><span style=\"color: #800000; text-decoration-color: #800000\">-&gt; </span>\n",
       "</pre>\n"
      ],
      "text/plain": [
       "\u001b[34mLatitude \u001b[0m\u001b[31m-> \u001b[0m\n"
      ]
     },
     "metadata": {},
     "output_type": "display_data"
    },
    {
     "data": {
      "text/html": [
       "<pre style=\"white-space:pre;overflow-x:auto;line-height:normal;font-family:Menlo,'DejaVu Sans Mono',consolas,'Courier New',monospace\"><span style=\"color: #000080; text-decoration-color: #000080\">Longitude </span><span style=\"color: #800000; text-decoration-color: #800000\">-&gt; </span>\n",
       "</pre>\n"
      ],
      "text/plain": [
       "\u001b[34mLongitude \u001b[0m\u001b[31m-> \u001b[0m\n"
      ]
     },
     "metadata": {},
     "output_type": "display_data"
    },
    {
     "data": {
      "text/html": [
       "<pre style=\"white-space:pre;overflow-x:auto;line-height:normal;font-family:Menlo,'DejaVu Sans Mono',consolas,'Courier New',monospace\"><span style=\"color: #000080; text-decoration-color: #000080\">Uso_de_PF </span><span style=\"color: #800000; text-decoration-color: #800000\">-&gt; </span>\n",
       "</pre>\n"
      ],
      "text/plain": [
       "\u001b[34mUso_de_PF \u001b[0m\u001b[31m-> \u001b[0m\n"
      ]
     },
     "metadata": {},
     "output_type": "display_data"
    },
    {
     "data": {
      "text/html": [
       "<pre style=\"white-space:pre;overflow-x:auto;line-height:normal;font-family:Menlo,'DejaVu Sans Mono',consolas,'Courier New',monospace\"><span style=\"color: #000080; text-decoration-color: #000080\">Acao_de_risco_a_vida_criada </span><span style=\"color: #800000; text-decoration-color: #800000\">-&gt; </span>\n",
       "</pre>\n"
      ],
      "text/plain": [
       "\u001b[34mAcao_de_risco_a_vida_criada \u001b[0m\u001b[31m-> \u001b[0m\n"
      ]
     },
     "metadata": {},
     "output_type": "display_data"
    },
    {
     "data": {
      "text/html": [
       "<pre style=\"white-space:pre;overflow-x:auto;line-height:normal;font-family:Menlo,'DejaVu Sans Mono',consolas,'Courier New',monospace\"><span style=\"color: #000080; text-decoration-color: #000080\">Frequencia_Inicial </span><span style=\"color: #800000; text-decoration-color: #800000\">-&gt; </span><span style=\"color: #008000; text-decoration-color: #008000; font-weight: bold\">12.29</span>\n",
       "</pre>\n"
      ],
      "text/plain": [
       "\u001b[34mFrequencia_Inicial \u001b[0m\u001b[31m-> \u001b[0m\u001b[1;32m12.29\u001b[0m\n"
      ]
     },
     "metadata": {},
     "output_type": "display_data"
    },
    {
     "data": {
      "text/html": [
       "<pre style=\"white-space:pre;overflow-x:auto;line-height:normal;font-family:Menlo,'DejaVu Sans Mono',consolas,'Courier New',monospace\"><span style=\"color: #000080; text-decoration-color: #000080\">Unidade_da_Frequencia_Inicial </span><span style=\"color: #800000; text-decoration-color: #800000\">-&gt; </span><span style=\"color: #008000; text-decoration-color: #008000\">MHz</span>\n",
       "</pre>\n"
      ],
      "text/plain": [
       "\u001b[34mUnidade_da_Frequencia_Inicial \u001b[0m\u001b[31m-> \u001b[0m\u001b[32mMHz\u001b[0m\n"
      ]
     },
     "metadata": {},
     "output_type": "display_data"
    },
    {
     "data": {
      "text/html": [
       "<pre style=\"white-space:pre;overflow-x:auto;line-height:normal;font-family:Menlo,'DejaVu Sans Mono',consolas,'Courier New',monospace\"><span style=\"color: #000080; text-decoration-color: #000080\">Frequencia_Final </span><span style=\"color: #800000; text-decoration-color: #800000\">-&gt; </span><span style=\"color: #008000; text-decoration-color: #008000; font-weight: bold\">5460</span>\n",
       "</pre>\n"
      ],
      "text/plain": [
       "\u001b[34mFrequencia_Final \u001b[0m\u001b[31m-> \u001b[0m\u001b[1;32m5460\u001b[0m\n"
      ]
     },
     "metadata": {},
     "output_type": "display_data"
    },
    {
     "data": {
      "text/html": [
       "<pre style=\"white-space:pre;overflow-x:auto;line-height:normal;font-family:Menlo,'DejaVu Sans Mono',consolas,'Courier New',monospace\"><span style=\"color: #000080; text-decoration-color: #000080\">Unidade_da_Frequencia_Final </span><span style=\"color: #800000; text-decoration-color: #800000\">-&gt; </span><span style=\"color: #008000; text-decoration-color: #008000\">MHz</span>\n",
       "</pre>\n"
      ],
      "text/plain": [
       "\u001b[34mUnidade_da_Frequencia_Final \u001b[0m\u001b[31m-> \u001b[0m\u001b[32mMHz\u001b[0m\n"
      ]
     },
     "metadata": {},
     "output_type": "display_data"
    },
    {
     "data": {
      "text/html": [
       "<pre style=\"white-space:pre;overflow-x:auto;line-height:normal;font-family:Menlo,'DejaVu Sans Mono',consolas,'Courier New',monospace\"><span style=\"color: #000080; text-decoration-color: #000080\">Agrupamento </span><span style=\"color: #800000; text-decoration-color: #800000\">-&gt; </span><span style=\"color: #008000; text-decoration-color: #008000; font-weight: bold\">[</span><span style=\"color: #008000; text-decoration-color: #008000\">PMEC </span><span style=\"color: #008000; text-decoration-color: #008000; font-weight: bold\">2021</span><span style=\"color: #008000; text-decoration-color: #008000; font-weight: bold\">]</span><span style=\"color: #008000; text-decoration-color: #008000\"> GR01. Etapa </span><span style=\"color: #008000; text-decoration-color: #008000; font-weight: bold\">1</span><span style=\"color: #008000; text-decoration-color: #008000\">.</span>\n",
       "</pre>\n"
      ],
      "text/plain": [
       "\u001b[34mAgrupamento \u001b[0m\u001b[31m-> \u001b[0m\u001b[1;32m[\u001b[0m\u001b[32mPMEC \u001b[0m\u001b[1;32m2021\u001b[0m\u001b[1;32m]\u001b[0m\u001b[32m GR01. Etapa \u001b[0m\u001b[1;32m1\u001b[0m\u001b[32m.\u001b[0m\n"
      ]
     },
     "metadata": {},
     "output_type": "display_data"
    },
    {
     "data": {
      "text/html": [
       "<pre style=\"white-space:pre;overflow-x:auto;line-height:normal;font-family:Menlo,'DejaVu Sans Mono',consolas,'Courier New',monospace\"><span style=\"color: #000080; text-decoration-color: #000080\">AppFiscaliza </span><span style=\"color: #800000; text-decoration-color: #800000\">-&gt; </span><span style=\"color: #008000; text-decoration-color: #008000; font-weight: bold\">0</span>\n",
       "</pre>\n"
      ],
      "text/plain": [
       "\u001b[34mAppFiscaliza \u001b[0m\u001b[31m-> \u001b[0m\u001b[1;32m0\u001b[0m\n"
      ]
     },
     "metadata": {},
     "output_type": "display_data"
    },
    {
     "data": {
      "text/html": [
       "<pre style=\"white-space:pre;overflow-x:auto;line-height:normal;font-family:Menlo,'DejaVu Sans Mono',consolas,'Courier New',monospace\"><span style=\"color: #000080; text-decoration-color: #000080\">Reservar_Instrumentos </span><span style=\"color: #800000; text-decoration-color: #800000\">-&gt; </span>\n",
       "</pre>\n"
      ],
      "text/plain": [
       "\u001b[34mReservar_Instrumentos \u001b[0m\u001b[31m-> \u001b[0m\n"
      ]
     },
     "metadata": {},
     "output_type": "display_data"
    },
    {
     "data": {
      "text/html": [
       "<pre style=\"white-space:pre;overflow-x:auto;line-height:normal;font-family:Menlo,'DejaVu Sans Mono',consolas,'Courier New',monospace\"><span style=\"color: #000080; text-decoration-color: #000080\">Utilizou_algum_instrumento </span><span style=\"color: #800000; text-decoration-color: #800000\">-&gt; </span>\n",
       "</pre>\n"
      ],
      "text/plain": [
       "\u001b[34mUtilizou_algum_instrumento \u001b[0m\u001b[31m-> \u001b[0m\n"
      ]
     },
     "metadata": {},
     "output_type": "display_data"
    },
    {
     "data": {
      "text/html": [
       "<pre style=\"white-space:pre;overflow-x:auto;line-height:normal;font-family:Menlo,'DejaVu Sans Mono',consolas,'Courier New',monospace\"><span style=\"color: #000080; text-decoration-color: #000080\">id_ACAO </span><span style=\"color: #800000; text-decoration-color: #800000\">-&gt; </span><span style=\"color: #008000; text-decoration-color: #008000; font-weight: bold\">47823</span>\n",
       "</pre>\n"
      ],
      "text/plain": [
       "\u001b[34mid_ACAO \u001b[0m\u001b[31m-> \u001b[0m\u001b[1;32m47823\u001b[0m\n"
      ]
     },
     "metadata": {},
     "output_type": "display_data"
    },
    {
     "data": {
      "text/html": [
       "<pre style=\"white-space:pre;overflow-x:auto;line-height:normal;font-family:Menlo,'DejaVu Sans Mono',consolas,'Courier New',monospace\"><span style=\"color: #000080; text-decoration-color: #000080\">nome_ACAO </span><span style=\"color: #800000; text-decoration-color: #800000\">-&gt; </span><span style=\"color: #008000; text-decoration-color: #008000\">ACAO_GR01_2021_0338</span>\n",
       "</pre>\n"
      ],
      "text/plain": [
       "\u001b[34mnome_ACAO \u001b[0m\u001b[31m-> \u001b[0m\u001b[32mACAO_GR01_2021_0338\u001b[0m\n"
      ]
     },
     "metadata": {},
     "output_type": "display_data"
    },
    {
     "data": {
      "text/html": [
       "<pre style=\"white-space:pre;overflow-x:auto;line-height:normal;font-family:Menlo,'DejaVu Sans Mono',consolas,'Courier New',monospace\"><span style=\"color: #000080; text-decoration-color: #000080\">descricao_ACAO </span><span style=\"color: #800000; text-decoration-color: #800000\">-&gt; </span><span style=\"color: #008000; text-decoration-color: #008000; font-weight: bold\">[</span><span style=\"color: #008000; text-decoration-color: #008000\">PMEC </span><span style=\"color: #008000; text-decoration-color: #008000; font-weight: bold\">2021</span><span style=\"color: #008000; text-decoration-color: #008000; font-weight: bold\">]</span><span style=\"color: #008000; text-decoration-color: #008000\"> Monitorar canais e faixas de frequências relacionados às </span>\n",
       "<span style=\"color: #008000; text-decoration-color: #008000\">aplicações críticas </span><span style=\"color: #008000; text-decoration-color: #008000; font-weight: bold\">(</span><span style=\"color: #008000; text-decoration-color: #008000\">como, por exemplo, radionavegação e radiocomunicação aeronáutica e </span>\n",
       "<span style=\"color: #008000; text-decoration-color: #008000\">canais de emergência</span><span style=\"color: #008000; text-decoration-color: #008000; font-weight: bold\">)</span><span style=\"color: #008000; text-decoration-color: #008000\"> na forma a ser estabelecida no Plano de Ação de Fiscalização GR08FI2 </span>\n",
       "<span style=\"color: #008000; text-decoration-color: #008000; font-weight: bold\">(</span><span style=\"color: #008000; text-decoration-color: #008000\">SEI nº </span><span style=\"color: #008000; text-decoration-color: #008000; font-weight: bold\">6383328</span><span style=\"color: #008000; text-decoration-color: #008000; font-weight: bold\">)</span><span style=\"color: #008000; text-decoration-color: #008000\">.</span>\n",
       "</pre>\n"
      ],
      "text/plain": [
       "\u001b[34mdescricao_ACAO \u001b[0m\u001b[31m-> \u001b[0m\u001b[1;32m[\u001b[0m\u001b[32mPMEC \u001b[0m\u001b[1;32m2021\u001b[0m\u001b[1;32m]\u001b[0m\u001b[32m Monitorar canais e faixas de frequências relacionados às \u001b[0m\n",
       "\u001b[32maplicações críticas \u001b[0m\u001b[1;32m(\u001b[0m\u001b[32mcomo, por exemplo, radionavegação e radiocomunicação aeronáutica e \u001b[0m\n",
       "\u001b[32mcanais de emergência\u001b[0m\u001b[1;32m)\u001b[0m\u001b[32m na forma a ser estabelecida no Plano de Ação de Fiscalização GR08FI2 \u001b[0m\n",
       "\u001b[1;32m(\u001b[0m\u001b[32mSEI nº \u001b[0m\u001b[1;32m6383328\u001b[0m\u001b[1;32m)\u001b[0m\u001b[32m.\u001b[0m\n"
      ]
     },
     "metadata": {},
     "output_type": "display_data"
    },
    {
     "data": {
      "text/html": [
       "<pre style=\"white-space:pre;overflow-x:auto;line-height:normal;font-family:Menlo,'DejaVu Sans Mono',consolas,'Courier New',monospace\"><span style=\"color: #000080; text-decoration-color: #000080\">Users </span><span style=\"color: #800000; text-decoration-color: #800000\">-&gt; </span><span style=\"color: #008000; text-decoration-color: #008000; font-weight: bold\">[</span><span style=\"color: #008000; text-decoration-color: #008000\">'Alexandre Elias de Andrade Oliveira'</span><span style=\"color: #008000; text-decoration-color: #008000\">, </span><span style=\"color: #008000; text-decoration-color: #008000\">'Alexandre Freitas de Lima'</span><span style=\"color: #008000; text-decoration-color: #008000\">, </span><span style=\"color: #008000; text-decoration-color: #008000\">'Alexandre </span>\n",
       "<span style=\"color: #008000; text-decoration-color: #008000\">Inacio'</span><span style=\"color: #008000; text-decoration-color: #008000\">, </span><span style=\"color: #008000; text-decoration-color: #008000\">'Alexandre Junzo Hamada'</span><span style=\"color: #008000; text-decoration-color: #008000\">, </span><span style=\"color: #008000; text-decoration-color: #008000\">'Alfredo de Andrade Filho'</span><span style=\"color: #008000; text-decoration-color: #008000\">, </span><span style=\"color: #008000; text-decoration-color: #008000\">'Ananias Pereira'</span><span style=\"color: #008000; text-decoration-color: #008000\">, </span><span style=\"color: #008000; text-decoration-color: #008000\">'Antonio </span>\n",
       "<span style=\"color: #008000; text-decoration-color: #008000\">Carlos Cardoso de Mello'</span><span style=\"color: #008000; text-decoration-color: #008000\">, </span><span style=\"color: #008000; text-decoration-color: #008000\">'Aparecido Sebastiao da Silva'</span><span style=\"color: #008000; text-decoration-color: #008000\">, </span><span style=\"color: #008000; text-decoration-color: #008000\">'Arthur Pisaruk'</span><span style=\"color: #008000; text-decoration-color: #008000\">, </span><span style=\"color: #008000; text-decoration-color: #008000\">'Carlos Augusto </span>\n",
       "<span style=\"color: #008000; text-decoration-color: #008000\">de Carvalho'</span><span style=\"color: #008000; text-decoration-color: #008000\">, </span><span style=\"color: #008000; text-decoration-color: #008000\">'Carlos Eduardo Guimaraes Silveira'</span><span style=\"color: #008000; text-decoration-color: #008000\">, </span><span style=\"color: #008000; text-decoration-color: #008000\">'Carlos da Paixao Filho'</span><span style=\"color: #008000; text-decoration-color: #008000\">, </span><span style=\"color: #008000; text-decoration-color: #008000\">'Celio Yukio </span>\n",
       "<span style=\"color: #008000; text-decoration-color: #008000\">Takahashi'</span><span style=\"color: #008000; text-decoration-color: #008000\">, </span><span style=\"color: #008000; text-decoration-color: #008000\">'Celso Luiz Maximino'</span><span style=\"color: #008000; text-decoration-color: #008000\">, </span><span style=\"color: #008000; text-decoration-color: #008000\">'Diogo Caldeira'</span><span style=\"color: #008000; text-decoration-color: #008000\">, </span><span style=\"color: #008000; text-decoration-color: #008000\">'Ediceu Beraldi'</span><span style=\"color: #008000; text-decoration-color: #008000\">, </span><span style=\"color: #008000; text-decoration-color: #008000\">'Eduardo Narkevicius'</span><span style=\"color: #008000; text-decoration-color: #008000\">,</span>\n",
       "<span style=\"color: #008000; text-decoration-color: #008000\">'Elcio Maehara'</span><span style=\"color: #008000; text-decoration-color: #008000\">, </span><span style=\"color: #008000; text-decoration-color: #008000\">'Eustaquio Lages Duarte'</span><span style=\"color: #008000; text-decoration-color: #008000\">, </span><span style=\"color: #008000; text-decoration-color: #008000\">'Fiscal UD'</span><span style=\"color: #008000; text-decoration-color: #008000\">, </span><span style=\"color: #008000; text-decoration-color: #008000\">'Gauber Albuquerque'</span><span style=\"color: #008000; text-decoration-color: #008000\">, </span><span style=\"color: #008000; text-decoration-color: #008000\">'Gilson Ponce </span>\n",
       "<span style=\"color: #008000; text-decoration-color: #008000\">Ayres Filho'</span><span style=\"color: #008000; text-decoration-color: #008000\">, </span><span style=\"color: #008000; text-decoration-color: #008000\">'Helio Lopes de Carvalho Filho'</span><span style=\"color: #008000; text-decoration-color: #008000\">, </span><span style=\"color: #008000; text-decoration-color: #008000\">'Higor da Paz Melo'</span><span style=\"color: #008000; text-decoration-color: #008000\">, </span><span style=\"color: #008000; text-decoration-color: #008000\">'Hugo Santana Lima'</span><span style=\"color: #008000; text-decoration-color: #008000\">, </span>\n",
       "<span style=\"color: #008000; text-decoration-color: #008000\">'Humberto Barbosa Vinagre'</span><span style=\"color: #008000; text-decoration-color: #008000\">, </span><span style=\"color: #008000; text-decoration-color: #008000\">'Jamilson Evangelista'</span><span style=\"color: #008000; text-decoration-color: #008000\">, </span><span style=\"color: #008000; text-decoration-color: #008000\">'Joao Yokoyama'</span><span style=\"color: #008000; text-decoration-color: #008000\">, </span><span style=\"color: #008000; text-decoration-color: #008000\">'Joaquim Miranda'</span><span style=\"color: #008000; text-decoration-color: #008000\">, </span><span style=\"color: #008000; text-decoration-color: #008000\">'José</span>\n",
       "<span style=\"color: #008000; text-decoration-color: #008000\">Antônio S. Sanches'</span><span style=\"color: #008000; text-decoration-color: #008000\">, </span><span style=\"color: #008000; text-decoration-color: #008000\">'Julio Cesar de Assis Santos'</span><span style=\"color: #008000; text-decoration-color: #008000\">, </span><span style=\"color: #008000; text-decoration-color: #008000\">'Kiyotomo Kawamura'</span><span style=\"color: #008000; text-decoration-color: #008000\">, </span><span style=\"color: #008000; text-decoration-color: #008000\">'Laert Calil </span>\n",
       "<span style=\"color: #008000; text-decoration-color: #008000\">Junior'</span><span style=\"color: #008000; text-decoration-color: #008000\">, </span><span style=\"color: #008000; text-decoration-color: #008000\">'Lannei Vilela Moraes'</span><span style=\"color: #008000; text-decoration-color: #008000\">, </span><span style=\"color: #008000; text-decoration-color: #008000\">'Luis Lagomes'</span><span style=\"color: #008000; text-decoration-color: #008000\">, </span><span style=\"color: #008000; text-decoration-color: #008000\">'Luiz Vinicios Mielniczuk Seelig'</span><span style=\"color: #008000; text-decoration-color: #008000\">, </span><span style=\"color: #008000; text-decoration-color: #008000\">'Marcelo </span>\n",
       "<span style=\"color: #008000; text-decoration-color: #008000\">Augusto Scacabarozi'</span><span style=\"color: #008000; text-decoration-color: #008000\">, </span><span style=\"color: #008000; text-decoration-color: #008000\">'Marcelo Vaz Netto'</span><span style=\"color: #008000; text-decoration-color: #008000\">, </span><span style=\"color: #008000; text-decoration-color: #008000\">'Marcio Colazingari'</span><span style=\"color: #008000; text-decoration-color: #008000\">, </span><span style=\"color: #008000; text-decoration-color: #008000\">'Marcio Costa'</span><span style=\"color: #008000; text-decoration-color: #008000\">, </span><span style=\"color: #008000; text-decoration-color: #008000\">'Marcio </span>\n",
       "<span style=\"color: #008000; text-decoration-color: #008000\">Rodrigues Maciel'</span><span style=\"color: #008000; text-decoration-color: #008000\">, </span><span style=\"color: #008000; text-decoration-color: #008000\">'Marcos Antônio Rodrigues'</span><span style=\"color: #008000; text-decoration-color: #008000\">, </span><span style=\"color: #008000; text-decoration-color: #008000\">'Marcos Juliano Valim da Silva'</span><span style=\"color: #008000; text-decoration-color: #008000\">, </span><span style=\"color: #008000; text-decoration-color: #008000\">'Maria Teresa</span>\n",
       "<span style=\"color: #008000; text-decoration-color: #008000\">Flosi Garrafa'</span><span style=\"color: #008000; text-decoration-color: #008000\">, </span><span style=\"color: #008000; text-decoration-color: #008000\">'Mario Augusto Volpini'</span><span style=\"color: #008000; text-decoration-color: #008000\">, </span><span style=\"color: #008000; text-decoration-color: #008000\">'Murilo Amaro'</span><span style=\"color: #008000; text-decoration-color: #008000\">, </span><span style=\"color: #008000; text-decoration-color: #008000\">'Osnir Lopes'</span><span style=\"color: #008000; text-decoration-color: #008000\">, </span><span style=\"color: #008000; text-decoration-color: #008000\">'Paulo Diogo Costa'</span><span style=\"color: #008000; text-decoration-color: #008000\">, </span>\n",
       "<span style=\"color: #008000; text-decoration-color: #008000\">'Pedro Arai'</span><span style=\"color: #008000; text-decoration-color: #008000\">, </span><span style=\"color: #008000; text-decoration-color: #008000\">'Renato Sadao Kushioyada'</span><span style=\"color: #008000; text-decoration-color: #008000\">, </span><span style=\"color: #008000; text-decoration-color: #008000\">'Ricardo Santos Marques'</span><span style=\"color: #008000; text-decoration-color: #008000\">, </span><span style=\"color: #008000; text-decoration-color: #008000\">'Ricardo da Silva e </span>\n",
       "<span style=\"color: #008000; text-decoration-color: #008000\">Souza'</span><span style=\"color: #008000; text-decoration-color: #008000\">, </span><span style=\"color: #008000; text-decoration-color: #008000\">'Roberto Carlos Soares Campos'</span><span style=\"color: #008000; text-decoration-color: #008000\">, </span><span style=\"color: #008000; text-decoration-color: #008000\">'Roberto Ferreira dos Santos'</span><span style=\"color: #008000; text-decoration-color: #008000\">, </span><span style=\"color: #008000; text-decoration-color: #008000\">'Roberto Takata'</span><span style=\"color: #008000; text-decoration-color: #008000\">, </span>\n",
       "<span style=\"color: #008000; text-decoration-color: #008000\">'Rodrigo Barbosa de Paula'</span><span style=\"color: #008000; text-decoration-color: #008000\">, </span><span style=\"color: #008000; text-decoration-color: #008000\">'Rogerio Zambotto'</span><span style=\"color: #008000; text-decoration-color: #008000\">, </span><span style=\"color: #008000; text-decoration-color: #008000\">'Ronaldo da Silva Alves Batista'</span><span style=\"color: #008000; text-decoration-color: #008000\">, </span><span style=\"color: #008000; text-decoration-color: #008000\">'Sergio </span>\n",
       "<span style=\"color: #008000; text-decoration-color: #008000\">Pereira'</span><span style=\"color: #008000; text-decoration-color: #008000\">, </span><span style=\"color: #008000; text-decoration-color: #008000\">'Thiago Silva'</span><span style=\"color: #008000; text-decoration-color: #008000\">, </span><span style=\"color: #008000; text-decoration-color: #008000\">'Thomaz Honma Ishida'</span><span style=\"color: #008000; text-decoration-color: #008000\">, </span><span style=\"color: #008000; text-decoration-color: #008000\">'Vinicius Paiva de Oliveira'</span><span style=\"color: #008000; text-decoration-color: #008000\">, </span><span style=\"color: #008000; text-decoration-color: #008000\">'Vitor </span>\n",
       "<span style=\"color: #008000; text-decoration-color: #008000\">Zelada'</span><span style=\"color: #008000; text-decoration-color: #008000\">, </span><span style=\"color: #008000; text-decoration-color: #008000\">'Wellington Devechi Piauilino'</span><span style=\"color: #008000; text-decoration-color: #008000\">, </span><span style=\"color: #008000; text-decoration-color: #008000\">'Wladimir Senise'</span><span style=\"color: #008000; text-decoration-color: #008000; font-weight: bold\">]</span>\n",
       "</pre>\n"
      ],
      "text/plain": [
       "\u001b[34mUsers \u001b[0m\u001b[31m-> \u001b[0m\u001b[1;32m[\u001b[0m\u001b[32m'Alexandre Elias de Andrade Oliveira'\u001b[0m\u001b[32m, \u001b[0m\u001b[32m'Alexandre Freitas de Lima'\u001b[0m\u001b[32m, \u001b[0m\u001b[32m'Alexandre \u001b[0m\n",
       "\u001b[32mInacio'\u001b[0m\u001b[32m, \u001b[0m\u001b[32m'Alexandre Junzo Hamada'\u001b[0m\u001b[32m, \u001b[0m\u001b[32m'Alfredo de Andrade Filho'\u001b[0m\u001b[32m, \u001b[0m\u001b[32m'Ananias Pereira'\u001b[0m\u001b[32m, \u001b[0m\u001b[32m'Antonio \u001b[0m\n",
       "\u001b[32mCarlos Cardoso de Mello'\u001b[0m\u001b[32m, \u001b[0m\u001b[32m'Aparecido Sebastiao da Silva'\u001b[0m\u001b[32m, \u001b[0m\u001b[32m'Arthur Pisaruk'\u001b[0m\u001b[32m, \u001b[0m\u001b[32m'Carlos Augusto \u001b[0m\n",
       "\u001b[32mde Carvalho'\u001b[0m\u001b[32m, \u001b[0m\u001b[32m'Carlos Eduardo Guimaraes Silveira'\u001b[0m\u001b[32m, \u001b[0m\u001b[32m'Carlos da Paixao Filho'\u001b[0m\u001b[32m, \u001b[0m\u001b[32m'Celio Yukio \u001b[0m\n",
       "\u001b[32mTakahashi'\u001b[0m\u001b[32m, \u001b[0m\u001b[32m'Celso Luiz Maximino'\u001b[0m\u001b[32m, \u001b[0m\u001b[32m'Diogo Caldeira'\u001b[0m\u001b[32m, \u001b[0m\u001b[32m'Ediceu Beraldi'\u001b[0m\u001b[32m, \u001b[0m\u001b[32m'Eduardo Narkevicius'\u001b[0m\u001b[32m,\u001b[0m\n",
       "\u001b[32m'Elcio Maehara'\u001b[0m\u001b[32m, \u001b[0m\u001b[32m'Eustaquio Lages Duarte'\u001b[0m\u001b[32m, \u001b[0m\u001b[32m'Fiscal UD'\u001b[0m\u001b[32m, \u001b[0m\u001b[32m'Gauber Albuquerque'\u001b[0m\u001b[32m, \u001b[0m\u001b[32m'Gilson Ponce \u001b[0m\n",
       "\u001b[32mAyres Filho'\u001b[0m\u001b[32m, \u001b[0m\u001b[32m'Helio Lopes de Carvalho Filho'\u001b[0m\u001b[32m, \u001b[0m\u001b[32m'Higor da Paz Melo'\u001b[0m\u001b[32m, \u001b[0m\u001b[32m'Hugo Santana Lima'\u001b[0m\u001b[32m, \u001b[0m\n",
       "\u001b[32m'Humberto Barbosa Vinagre'\u001b[0m\u001b[32m, \u001b[0m\u001b[32m'Jamilson Evangelista'\u001b[0m\u001b[32m, \u001b[0m\u001b[32m'Joao Yokoyama'\u001b[0m\u001b[32m, \u001b[0m\u001b[32m'Joaquim Miranda'\u001b[0m\u001b[32m, \u001b[0m\u001b[32m'José\u001b[0m\n",
       "\u001b[32mAntônio S. Sanches'\u001b[0m\u001b[32m, \u001b[0m\u001b[32m'Julio Cesar de Assis Santos'\u001b[0m\u001b[32m, \u001b[0m\u001b[32m'Kiyotomo Kawamura'\u001b[0m\u001b[32m, \u001b[0m\u001b[32m'Laert Calil \u001b[0m\n",
       "\u001b[32mJunior'\u001b[0m\u001b[32m, \u001b[0m\u001b[32m'Lannei Vilela Moraes'\u001b[0m\u001b[32m, \u001b[0m\u001b[32m'Luis Lagomes'\u001b[0m\u001b[32m, \u001b[0m\u001b[32m'Luiz Vinicios Mielniczuk Seelig'\u001b[0m\u001b[32m, \u001b[0m\u001b[32m'Marcelo \u001b[0m\n",
       "\u001b[32mAugusto Scacabarozi'\u001b[0m\u001b[32m, \u001b[0m\u001b[32m'Marcelo Vaz Netto'\u001b[0m\u001b[32m, \u001b[0m\u001b[32m'Marcio Colazingari'\u001b[0m\u001b[32m, \u001b[0m\u001b[32m'Marcio Costa'\u001b[0m\u001b[32m, \u001b[0m\u001b[32m'Marcio \u001b[0m\n",
       "\u001b[32mRodrigues Maciel'\u001b[0m\u001b[32m, \u001b[0m\u001b[32m'Marcos Antônio Rodrigues'\u001b[0m\u001b[32m, \u001b[0m\u001b[32m'Marcos Juliano Valim da Silva'\u001b[0m\u001b[32m, \u001b[0m\u001b[32m'Maria Teresa\u001b[0m\n",
       "\u001b[32mFlosi Garrafa'\u001b[0m\u001b[32m, \u001b[0m\u001b[32m'Mario Augusto Volpini'\u001b[0m\u001b[32m, \u001b[0m\u001b[32m'Murilo Amaro'\u001b[0m\u001b[32m, \u001b[0m\u001b[32m'Osnir Lopes'\u001b[0m\u001b[32m, \u001b[0m\u001b[32m'Paulo Diogo Costa'\u001b[0m\u001b[32m, \u001b[0m\n",
       "\u001b[32m'Pedro Arai'\u001b[0m\u001b[32m, \u001b[0m\u001b[32m'Renato Sadao Kushioyada'\u001b[0m\u001b[32m, \u001b[0m\u001b[32m'Ricardo Santos Marques'\u001b[0m\u001b[32m, \u001b[0m\u001b[32m'Ricardo da Silva e \u001b[0m\n",
       "\u001b[32mSouza'\u001b[0m\u001b[32m, \u001b[0m\u001b[32m'Roberto Carlos Soares Campos'\u001b[0m\u001b[32m, \u001b[0m\u001b[32m'Roberto Ferreira dos Santos'\u001b[0m\u001b[32m, \u001b[0m\u001b[32m'Roberto Takata'\u001b[0m\u001b[32m, \u001b[0m\n",
       "\u001b[32m'Rodrigo Barbosa de Paula'\u001b[0m\u001b[32m, \u001b[0m\u001b[32m'Rogerio Zambotto'\u001b[0m\u001b[32m, \u001b[0m\u001b[32m'Ronaldo da Silva Alves Batista'\u001b[0m\u001b[32m, \u001b[0m\u001b[32m'Sergio \u001b[0m\n",
       "\u001b[32mPereira'\u001b[0m\u001b[32m, \u001b[0m\u001b[32m'Thiago Silva'\u001b[0m\u001b[32m, \u001b[0m\u001b[32m'Thomaz Honma Ishida'\u001b[0m\u001b[32m, \u001b[0m\u001b[32m'Vinicius Paiva de Oliveira'\u001b[0m\u001b[32m, \u001b[0m\u001b[32m'Vitor \u001b[0m\n",
       "\u001b[32mZelada'\u001b[0m\u001b[32m, \u001b[0m\u001b[32m'Wellington Devechi Piauilino'\u001b[0m\u001b[32m, \u001b[0m\u001b[32m'Wladimir Senise'\u001b[0m\u001b[1;32m]\u001b[0m\n"
      ]
     },
     "metadata": {},
     "output_type": "display_data"
    },
    {
     "data": {
      "text/html": [
       "<pre style=\"white-space:pre;overflow-x:auto;line-height:normal;font-family:Menlo,'DejaVu Sans Mono',consolas,'Courier New',monospace\"><span style=\"color: #000080; text-decoration-color: #000080\">Modificado </span><span style=\"color: #800000; text-decoration-color: #800000\">-&gt; </span><span style=\"color: #008000; text-decoration-color: #008000\">Atualizado por Ronaldo da Silva Alves Batista em </span><span style=\"color: #008000; text-decoration-color: #008000; font-weight: bold\">2021</span><span style=\"color: #008000; text-decoration-color: #008000\">-</span><span style=\"color: #008000; text-decoration-color: #008000; font-weight: bold\">05</span><span style=\"color: #008000; text-decoration-color: #008000\">-</span><span style=\"color: #008000; text-decoration-color: #008000; font-weight: bold\">24</span><span style=\"color: #008000; text-decoration-color: #008000\"> às </span><span style=\"color: #008000; text-decoration-color: #008000; font-weight: bold\">13:12:32</span>\n",
       "</pre>\n"
      ],
      "text/plain": [
       "\u001b[34mModificado \u001b[0m\u001b[31m-> \u001b[0m\u001b[32mAtualizado por Ronaldo da Silva Alves Batista em \u001b[0m\u001b[1;32m2021\u001b[0m\u001b[32m-\u001b[0m\u001b[1;32m05\u001b[0m\u001b[32m-\u001b[0m\u001b[1;32m24\u001b[0m\u001b[32m às \u001b[0m\u001b[1;32m13:12:32\u001b[0m\n"
      ]
     },
     "metadata": {},
     "output_type": "display_data"
    }
   ],
   "source": [
    "for k,v in detalhes.items():\n",
    "    console.print(f'[blue]{k} [red]-> [green]{v}')"
   ]
  },
  {
   "cell_type": "code",
   "execution_count": null,
   "metadata": {},
   "outputs": [],
   "source": [
    "inspecao = '57690'\n",
    "detalhes = detalhar_inspecao(inspecao, login, senha)"
   ]
  },
  {
   "cell_type": "code",
   "execution_count": null,
   "metadata": {},
   "outputs": [
    {
     "data": {
      "text/html": [
       "<pre style=\"white-space:pre;overflow-x:auto;line-height:normal;font-family:Menlo,'DejaVu Sans Mono',consolas,'Courier New',monospace\"><span style=\"color: #800000; text-decoration-color: #800000\">id </span><span style=\"color: #000080; text-decoration-color: #000080\">-&gt; </span><span style=\"color: #008000; text-decoration-color: #008000; font-weight: bold\">57690</span>\n",
       "</pre>\n"
      ],
      "text/plain": [
       "\u001b[31mid \u001b[0m\u001b[34m-> \u001b[0m\u001b[1;32m57690\u001b[0m\n"
      ]
     },
     "metadata": {},
     "output_type": "display_data"
    },
    {
     "data": {
      "text/html": [
       "<pre style=\"white-space:pre;overflow-x:auto;line-height:normal;font-family:Menlo,'DejaVu Sans Mono',consolas,'Courier New',monospace\"><span style=\"color: #800000; text-decoration-color: #800000\">subject </span><span style=\"color: #000080; text-decoration-color: #000080\">-&gt; </span><span style=\"color: #008000; text-decoration-color: #008000\">INSP_GR01_2021_0509</span>\n",
       "</pre>\n"
      ],
      "text/plain": [
       "\u001b[31msubject \u001b[0m\u001b[34m-> \u001b[0m\u001b[32mINSP_GR01_2021_0509\u001b[0m\n"
      ]
     },
     "metadata": {},
     "output_type": "display_data"
    },
    {
     "data": {
      "text/html": [
       "<pre style=\"white-space:pre;overflow-x:auto;line-height:normal;font-family:Menlo,'DejaVu Sans Mono',consolas,'Courier New',monospace\"><span style=\"color: #800000; text-decoration-color: #800000\">status </span><span style=\"color: #000080; text-decoration-color: #000080\">-&gt; </span><span style=\"color: #008000; text-decoration-color: #008000\">Rascunho</span>\n",
       "</pre>\n"
      ],
      "text/plain": [
       "\u001b[31mstatus \u001b[0m\u001b[34m-> \u001b[0m\u001b[32mRascunho\u001b[0m\n"
      ]
     },
     "metadata": {},
     "output_type": "display_data"
    },
    {
     "data": {
      "text/html": [
       "<pre style=\"white-space:pre;overflow-x:auto;line-height:normal;font-family:Menlo,'DejaVu Sans Mono',consolas,'Courier New',monospace\"><span style=\"color: #800000; text-decoration-color: #800000\">priority </span><span style=\"color: #000080; text-decoration-color: #000080\">-&gt; </span><span style=\"color: #008000; text-decoration-color: #008000\">Normal</span>\n",
       "</pre>\n"
      ],
      "text/plain": [
       "\u001b[31mpriority \u001b[0m\u001b[34m-> \u001b[0m\u001b[32mNormal\u001b[0m\n"
      ]
     },
     "metadata": {},
     "output_type": "display_data"
    },
    {
     "data": {
      "text/html": [
       "<pre style=\"white-space:pre;overflow-x:auto;line-height:normal;font-family:Menlo,'DejaVu Sans Mono',consolas,'Courier New',monospace\"><span style=\"color: #800000; text-decoration-color: #800000\">start_date </span><span style=\"color: #000080; text-decoration-color: #000080\">-&gt; </span>\n",
       "</pre>\n"
      ],
      "text/plain": [
       "\u001b[31mstart_date \u001b[0m\u001b[34m-> \u001b[0m\n"
      ]
     },
     "metadata": {},
     "output_type": "display_data"
    },
    {
     "data": {
      "text/html": [
       "<pre style=\"white-space:pre;overflow-x:auto;line-height:normal;font-family:Menlo,'DejaVu Sans Mono',consolas,'Courier New',monospace\"><span style=\"color: #800000; text-decoration-color: #800000\">due_date </span><span style=\"color: #000080; text-decoration-color: #000080\">-&gt; </span>\n",
       "</pre>\n"
      ],
      "text/plain": [
       "\u001b[31mdue_date \u001b[0m\u001b[34m-> \u001b[0m\n"
      ]
     },
     "metadata": {},
     "output_type": "display_data"
    },
    {
     "data": {
      "text/html": [
       "<pre style=\"white-space:pre;overflow-x:auto;line-height:normal;font-family:Menlo,'DejaVu Sans Mono',consolas,'Courier New',monospace\"><span style=\"color: #800000; text-decoration-color: #800000\">Classe_da_Inspecao </span><span style=\"color: #000080; text-decoration-color: #000080\">-&gt; </span>\n",
       "</pre>\n"
      ],
      "text/plain": [
       "\u001b[31mClasse_da_Inspecao \u001b[0m\u001b[34m-> \u001b[0m\n"
      ]
     },
     "metadata": {},
     "output_type": "display_data"
    },
    {
     "data": {
      "text/html": [
       "<pre style=\"white-space:pre;overflow-x:auto;line-height:normal;font-family:Menlo,'DejaVu Sans Mono',consolas,'Courier New',monospace\"><span style=\"color: #800000; text-decoration-color: #800000\">Tipo_de_Inspecao </span><span style=\"color: #000080; text-decoration-color: #000080\">-&gt; </span>\n",
       "</pre>\n"
      ],
      "text/plain": [
       "\u001b[31mTipo_de_Inspecao \u001b[0m\u001b[34m-> \u001b[0m\n"
      ]
     },
     "metadata": {},
     "output_type": "display_data"
    },
    {
     "data": {
      "text/html": [
       "<pre style=\"white-space:pre;overflow-x:auto;line-height:normal;font-family:Menlo,'DejaVu Sans Mono',consolas,'Courier New',monospace\"><span style=\"color: #800000; text-decoration-color: #800000\">Ano </span><span style=\"color: #000080; text-decoration-color: #000080\">-&gt; </span><span style=\"color: #008000; text-decoration-color: #008000; font-weight: bold\">2021</span>\n",
       "</pre>\n"
      ],
      "text/plain": [
       "\u001b[31mAno \u001b[0m\u001b[34m-> \u001b[0m\u001b[1;32m2021\u001b[0m\n"
      ]
     },
     "metadata": {},
     "output_type": "display_data"
    },
    {
     "data": {
      "text/html": [
       "<pre style=\"white-space:pre;overflow-x:auto;line-height:normal;font-family:Menlo,'DejaVu Sans Mono',consolas,'Courier New',monospace\"><span style=\"color: #800000; text-decoration-color: #800000\">Numero_Sei_do_Processo </span><span style=\"color: #000080; text-decoration-color: #000080\">-&gt; </span><span style=\"color: #008000; text-decoration-color: #008000; font-weight: bold\">{</span><span style=\"color: #008000; text-decoration-color: #008000\">\"numero\"</span><span style=\"color: #008000; text-decoration-color: #008000\">=&gt;</span><span style=\"color: #008000; text-decoration-color: #008000\">\"53504.000007/2021-50\"</span><span style=\"color: #008000; text-decoration-color: #008000\">, </span><span style=\"color: #008000; text-decoration-color: #008000\">\"link_acesso\"</span><span style=\"color: #008000; text-decoration-color: #008000\">=&gt;</span><span style=\"color: #008000; text-decoration-color: #008000\">\"https://seihm.an</span>\n",
       "<span style=\"color: #008000; text-decoration-color: #008000\">atel.gov.br/sei/controlador.php?acao=procedimento_trabalhar&amp;id_procedimento=1962455\"</span><span style=\"color: #008000; text-decoration-color: #008000; font-weight: bold\">}</span>\n",
       "</pre>\n"
      ],
      "text/plain": [
       "\u001b[31mNumero_Sei_do_Processo \u001b[0m\u001b[34m-> \u001b[0m\u001b[1;32m{\u001b[0m\u001b[32m\"numero\"\u001b[0m\u001b[32m=>\u001b[0m\u001b[32m\"53504.000007/2021-50\"\u001b[0m\u001b[32m, \u001b[0m\u001b[32m\"link_acesso\"\u001b[0m\u001b[32m=>\u001b[0m\u001b[32m\"https://seihm.an\u001b[0m\n",
       "\u001b[32matel.gov.br/sei/controlador.php?\u001b[0m\u001b[32macao\u001b[0m\u001b[32m=\u001b[0m\u001b[32mprocedimento_trabalhar\u001b[0m\u001b[32m&\u001b[0m\u001b[32mid_procedimento\u001b[0m\u001b[32m=\u001b[0m\u001b[32m1962455\"\u001b[0m\u001b[1;32m}\u001b[0m\n"
      ]
     },
     "metadata": {},
     "output_type": "display_data"
    },
    {
     "data": {
      "text/html": [
       "<pre style=\"white-space:pre;overflow-x:auto;line-height:normal;font-family:Menlo,'DejaVu Sans Mono',consolas,'Courier New',monospace\"><span style=\"color: #800000; text-decoration-color: #800000\">Descricao_da_Inspecao </span><span style=\"color: #000080; text-decoration-color: #000080\">-&gt; </span>\n",
       "</pre>\n"
      ],
      "text/plain": [
       "\u001b[31mDescricao_da_Inspecao \u001b[0m\u001b[34m-> \u001b[0m\n"
      ]
     },
     "metadata": {},
     "output_type": "display_data"
    },
    {
     "data": {
      "text/html": [
       "<pre style=\"white-space:pre;overflow-x:auto;line-height:normal;font-family:Menlo,'DejaVu Sans Mono',consolas,'Courier New',monospace\"><span style=\"color: #800000; text-decoration-color: #800000\">Fiscal_Responsavel </span><span style=\"color: #000080; text-decoration-color: #000080\">-&gt; </span>\n",
       "</pre>\n"
      ],
      "text/plain": [
       "\u001b[31mFiscal_Responsavel \u001b[0m\u001b[34m-> \u001b[0m\n"
      ]
     },
     "metadata": {},
     "output_type": "display_data"
    },
    {
     "data": {
      "text/html": [
       "<pre style=\"white-space:pre;overflow-x:auto;line-height:normal;font-family:Menlo,'DejaVu Sans Mono',consolas,'Courier New',monospace\"><span style=\"color: #800000; text-decoration-color: #800000\">Fiscais </span><span style=\"color: #000080; text-decoration-color: #000080\">-&gt; </span><span style=\"color: #008000; text-decoration-color: #008000; font-weight: bold\">[]</span>\n",
       "</pre>\n"
      ],
      "text/plain": [
       "\u001b[31mFiscais \u001b[0m\u001b[34m-> \u001b[0m\u001b[1;32m[\u001b[0m\u001b[1;32m]\u001b[0m\n"
      ]
     },
     "metadata": {},
     "output_type": "display_data"
    },
    {
     "data": {
      "text/html": [
       "<pre style=\"white-space:pre;overflow-x:auto;line-height:normal;font-family:Menlo,'DejaVu Sans Mono',consolas,'Courier New',monospace\"><span style=\"color: #800000; text-decoration-color: #800000\">Entidade_da_Inspecao </span><span style=\"color: #000080; text-decoration-color: #000080\">-&gt; </span><span style=\"color: #008000; text-decoration-color: #008000; font-weight: bold\">[]</span>\n",
       "</pre>\n"
      ],
      "text/plain": [
       "\u001b[31mEntidade_da_Inspecao \u001b[0m\u001b[34m-> \u001b[0m\u001b[1;32m[\u001b[0m\u001b[1;32m]\u001b[0m\n"
      ]
     },
     "metadata": {},
     "output_type": "display_data"
    },
    {
     "data": {
      "text/html": [
       "<pre style=\"white-space:pre;overflow-x:auto;line-height:normal;font-family:Menlo,'DejaVu Sans Mono',consolas,'Courier New',monospace\"><span style=\"color: #800000; text-decoration-color: #800000\">UF_Municipio </span><span style=\"color: #000080; text-decoration-color: #000080\">-&gt; </span><span style=\"color: #008000; text-decoration-color: #008000; font-weight: bold\">[]</span>\n",
       "</pre>\n"
      ],
      "text/plain": [
       "\u001b[31mUF_Municipio \u001b[0m\u001b[34m-> \u001b[0m\u001b[1;32m[\u001b[0m\u001b[1;32m]\u001b[0m\n"
      ]
     },
     "metadata": {},
     "output_type": "display_data"
    },
    {
     "data": {
      "text/html": [
       "<pre style=\"white-space:pre;overflow-x:auto;line-height:normal;font-family:Menlo,'DejaVu Sans Mono',consolas,'Courier New',monospace\"><span style=\"color: #800000; text-decoration-color: #800000\">Servicos_da_Inspecao </span><span style=\"color: #000080; text-decoration-color: #000080\">-&gt; </span><span style=\"color: #008000; text-decoration-color: #008000; font-weight: bold\">[]</span>\n",
       "</pre>\n"
      ],
      "text/plain": [
       "\u001b[31mServicos_da_Inspecao \u001b[0m\u001b[34m-> \u001b[0m\u001b[1;32m[\u001b[0m\u001b[1;32m]\u001b[0m\n"
      ]
     },
     "metadata": {},
     "output_type": "display_data"
    },
    {
     "data": {
      "text/html": [
       "<pre style=\"white-space:pre;overflow-x:auto;line-height:normal;font-family:Menlo,'DejaVu Sans Mono',consolas,'Courier New',monospace\"><span style=\"color: #800000; text-decoration-color: #800000\">Horas_de_Preparacao </span><span style=\"color: #000080; text-decoration-color: #000080\">-&gt; </span>\n",
       "</pre>\n"
      ],
      "text/plain": [
       "\u001b[31mHoras_de_Preparacao \u001b[0m\u001b[34m-> \u001b[0m\n"
      ]
     },
     "metadata": {},
     "output_type": "display_data"
    },
    {
     "data": {
      "text/html": [
       "<pre style=\"white-space:pre;overflow-x:auto;line-height:normal;font-family:Menlo,'DejaVu Sans Mono',consolas,'Courier New',monospace\"><span style=\"color: #800000; text-decoration-color: #800000\">Horas_de_Deslocamento </span><span style=\"color: #000080; text-decoration-color: #000080\">-&gt; </span>\n",
       "</pre>\n"
      ],
      "text/plain": [
       "\u001b[31mHoras_de_Deslocamento \u001b[0m\u001b[34m-> \u001b[0m\n"
      ]
     },
     "metadata": {},
     "output_type": "display_data"
    },
    {
     "data": {
      "text/html": [
       "<pre style=\"white-space:pre;overflow-x:auto;line-height:normal;font-family:Menlo,'DejaVu Sans Mono',consolas,'Courier New',monospace\"><span style=\"color: #800000; text-decoration-color: #800000\">Horas_de_Execucao </span><span style=\"color: #000080; text-decoration-color: #000080\">-&gt; </span>\n",
       "</pre>\n"
      ],
      "text/plain": [
       "\u001b[31mHoras_de_Execucao \u001b[0m\u001b[34m-> \u001b[0m\n"
      ]
     },
     "metadata": {},
     "output_type": "display_data"
    },
    {
     "data": {
      "text/html": [
       "<pre style=\"white-space:pre;overflow-x:auto;line-height:normal;font-family:Menlo,'DejaVu Sans Mono',consolas,'Courier New',monospace\"><span style=\"color: #800000; text-decoration-color: #800000\">Horas_de_Conclusao </span><span style=\"color: #000080; text-decoration-color: #000080\">-&gt; </span>\n",
       "</pre>\n"
      ],
      "text/plain": [
       "\u001b[31mHoras_de_Conclusao \u001b[0m\u001b[34m-> \u001b[0m\n"
      ]
     },
     "metadata": {},
     "output_type": "display_data"
    },
    {
     "data": {
      "text/html": [
       "<pre style=\"white-space:pre;overflow-x:auto;line-height:normal;font-family:Menlo,'DejaVu Sans Mono',consolas,'Courier New',monospace\"><span style=\"color: #800000; text-decoration-color: #800000\">SAV </span><span style=\"color: #000080; text-decoration-color: #000080\">-&gt; </span>\n",
       "</pre>\n"
      ],
      "text/plain": [
       "\u001b[31mSAV \u001b[0m\u001b[34m-> \u001b[0m\n"
      ]
     },
     "metadata": {},
     "output_type": "display_data"
    },
    {
     "data": {
      "text/html": [
       "<pre style=\"white-space:pre;overflow-x:auto;line-height:normal;font-family:Menlo,'DejaVu Sans Mono',consolas,'Courier New',monospace\"><span style=\"color: #800000; text-decoration-color: #800000\">PCDP </span><span style=\"color: #000080; text-decoration-color: #000080\">-&gt; </span>\n",
       "</pre>\n"
      ],
      "text/plain": [
       "\u001b[31mPCDP \u001b[0m\u001b[34m-> \u001b[0m\n"
      ]
     },
     "metadata": {},
     "output_type": "display_data"
    },
    {
     "data": {
      "text/html": [
       "<pre style=\"white-space:pre;overflow-x:auto;line-height:normal;font-family:Menlo,'DejaVu Sans Mono',consolas,'Courier New',monospace\"><span style=\"color: #800000; text-decoration-color: #800000\">Procedimentos </span><span style=\"color: #000080; text-decoration-color: #000080\">-&gt; </span><span style=\"color: #008000; text-decoration-color: #008000; font-weight: bold\">[]</span>\n",
       "</pre>\n"
      ],
      "text/plain": [
       "\u001b[31mProcedimentos \u001b[0m\u001b[34m-> \u001b[0m\u001b[1;32m[\u001b[0m\u001b[1;32m]\u001b[0m\n"
      ]
     },
     "metadata": {},
     "output_type": "display_data"
    },
    {
     "data": {
      "text/html": [
       "<pre style=\"white-space:pre;overflow-x:auto;line-height:normal;font-family:Menlo,'DejaVu Sans Mono',consolas,'Courier New',monospace\"><span style=\"color: #800000; text-decoration-color: #800000\">Agrupamento </span><span style=\"color: #000080; text-decoration-color: #000080\">-&gt; </span>\n",
       "</pre>\n"
      ],
      "text/plain": [
       "\u001b[31mAgrupamento \u001b[0m\u001b[34m-> \u001b[0m\n"
      ]
     },
     "metadata": {},
     "output_type": "display_data"
    },
    {
     "data": {
      "text/html": [
       "<pre style=\"white-space:pre;overflow-x:auto;line-height:normal;font-family:Menlo,'DejaVu Sans Mono',consolas,'Courier New',monospace\"><span style=\"color: #800000; text-decoration-color: #800000\">AppFiscaliza </span><span style=\"color: #000080; text-decoration-color: #000080\">-&gt; </span><span style=\"color: #008000; text-decoration-color: #008000; font-weight: bold\">0</span>\n",
       "</pre>\n"
      ],
      "text/plain": [
       "\u001b[31mAppFiscaliza \u001b[0m\u001b[34m-> \u001b[0m\u001b[1;32m0\u001b[0m\n"
      ]
     },
     "metadata": {},
     "output_type": "display_data"
    },
    {
     "data": {
      "text/html": [
       "<pre style=\"white-space:pre;overflow-x:auto;line-height:normal;font-family:Menlo,'DejaVu Sans Mono',consolas,'Courier New',monospace\"><span style=\"color: #800000; text-decoration-color: #800000\">id_ACAO </span><span style=\"color: #000080; text-decoration-color: #000080\">-&gt; </span><span style=\"color: #008000; text-decoration-color: #008000; font-weight: bold\">52876</span>\n",
       "</pre>\n"
      ],
      "text/plain": [
       "\u001b[31mid_ACAO \u001b[0m\u001b[34m-> \u001b[0m\u001b[1;32m52876\u001b[0m\n"
      ]
     },
     "metadata": {},
     "output_type": "display_data"
    },
    {
     "data": {
      "text/html": [
       "<pre style=\"white-space:pre;overflow-x:auto;line-height:normal;font-family:Menlo,'DejaVu Sans Mono',consolas,'Courier New',monospace\"><span style=\"color: #800000; text-decoration-color: #800000\">nome_ACAO </span><span style=\"color: #000080; text-decoration-color: #000080\">-&gt; </span><span style=\"color: #008000; text-decoration-color: #008000\">ACAO_GR01_2021_0491</span>\n",
       "</pre>\n"
      ],
      "text/plain": [
       "\u001b[31mnome_ACAO \u001b[0m\u001b[34m-> \u001b[0m\u001b[32mACAO_GR01_2021_0491\u001b[0m\n"
      ]
     },
     "metadata": {},
     "output_type": "display_data"
    },
    {
     "data": {
      "text/html": [
       "<pre style=\"white-space:pre;overflow-x:auto;line-height:normal;font-family:Menlo,'DejaVu Sans Mono',consolas,'Courier New',monospace\"><span style=\"color: #800000; text-decoration-color: #800000\">descricao_ACAO </span><span style=\"color: #000080; text-decoration-color: #000080\">-&gt; </span><span style=\"color: #008000; text-decoration-color: #008000\">Teste</span>\n",
       "</pre>\n"
      ],
      "text/plain": [
       "\u001b[31mdescricao_ACAO \u001b[0m\u001b[34m-> \u001b[0m\u001b[32mTeste\u001b[0m\n"
      ]
     },
     "metadata": {},
     "output_type": "display_data"
    },
    {
     "data": {
      "text/html": [
       "<pre style=\"white-space:pre;overflow-x:auto;line-height:normal;font-family:Menlo,'DejaVu Sans Mono',consolas,'Courier New',monospace\"><span style=\"color: #800000; text-decoration-color: #800000\">Users </span><span style=\"color: #000080; text-decoration-color: #000080\">-&gt; </span><span style=\"color: #008000; text-decoration-color: #008000; font-weight: bold\">[</span><span style=\"color: #008000; text-decoration-color: #008000\">'Alexandre Elias de Andrade Oliveira'</span><span style=\"color: #008000; text-decoration-color: #008000\">, </span><span style=\"color: #008000; text-decoration-color: #008000\">'Alexandre Freitas de Lima'</span><span style=\"color: #008000; text-decoration-color: #008000\">, </span><span style=\"color: #008000; text-decoration-color: #008000\">'Alexandre </span>\n",
       "<span style=\"color: #008000; text-decoration-color: #008000\">Inacio'</span><span style=\"color: #008000; text-decoration-color: #008000\">, </span><span style=\"color: #008000; text-decoration-color: #008000\">'Alexandre Junzo Hamada'</span><span style=\"color: #008000; text-decoration-color: #008000\">, </span><span style=\"color: #008000; text-decoration-color: #008000\">'Alfredo de Andrade Filho'</span><span style=\"color: #008000; text-decoration-color: #008000\">, </span><span style=\"color: #008000; text-decoration-color: #008000\">'Ananias Pereira'</span><span style=\"color: #008000; text-decoration-color: #008000\">, </span><span style=\"color: #008000; text-decoration-color: #008000\">'Antonio </span>\n",
       "<span style=\"color: #008000; text-decoration-color: #008000\">Carlos Cardoso de Mello'</span><span style=\"color: #008000; text-decoration-color: #008000\">, </span><span style=\"color: #008000; text-decoration-color: #008000\">'Aparecido Sebastiao da Silva'</span><span style=\"color: #008000; text-decoration-color: #008000\">, </span><span style=\"color: #008000; text-decoration-color: #008000\">'Arthur Pisaruk'</span><span style=\"color: #008000; text-decoration-color: #008000\">, </span><span style=\"color: #008000; text-decoration-color: #008000\">'Carlos Augusto </span>\n",
       "<span style=\"color: #008000; text-decoration-color: #008000\">de Carvalho'</span><span style=\"color: #008000; text-decoration-color: #008000\">, </span><span style=\"color: #008000; text-decoration-color: #008000\">'Carlos Eduardo Guimaraes Silveira'</span><span style=\"color: #008000; text-decoration-color: #008000\">, </span><span style=\"color: #008000; text-decoration-color: #008000\">'Carlos da Paixao Filho'</span><span style=\"color: #008000; text-decoration-color: #008000\">, </span><span style=\"color: #008000; text-decoration-color: #008000\">'Celio Yukio </span>\n",
       "<span style=\"color: #008000; text-decoration-color: #008000\">Takahashi'</span><span style=\"color: #008000; text-decoration-color: #008000\">, </span><span style=\"color: #008000; text-decoration-color: #008000\">'Celso Luiz Maximino'</span><span style=\"color: #008000; text-decoration-color: #008000\">, </span><span style=\"color: #008000; text-decoration-color: #008000\">'Diogo Caldeira'</span><span style=\"color: #008000; text-decoration-color: #008000\">, </span><span style=\"color: #008000; text-decoration-color: #008000\">'Ediceu Beraldi'</span><span style=\"color: #008000; text-decoration-color: #008000\">, </span><span style=\"color: #008000; text-decoration-color: #008000\">'Eduardo Narkevicius'</span><span style=\"color: #008000; text-decoration-color: #008000\">,</span>\n",
       "<span style=\"color: #008000; text-decoration-color: #008000\">'Elcio Maehara'</span><span style=\"color: #008000; text-decoration-color: #008000\">, </span><span style=\"color: #008000; text-decoration-color: #008000\">'Eustaquio Lages Duarte'</span><span style=\"color: #008000; text-decoration-color: #008000\">, </span><span style=\"color: #008000; text-decoration-color: #008000\">'Fiscal UD'</span><span style=\"color: #008000; text-decoration-color: #008000\">, </span><span style=\"color: #008000; text-decoration-color: #008000\">'Gauber Albuquerque'</span><span style=\"color: #008000; text-decoration-color: #008000\">, </span><span style=\"color: #008000; text-decoration-color: #008000\">'Gilson Ponce </span>\n",
       "<span style=\"color: #008000; text-decoration-color: #008000\">Ayres Filho'</span><span style=\"color: #008000; text-decoration-color: #008000\">, </span><span style=\"color: #008000; text-decoration-color: #008000\">'Helio Lopes de Carvalho Filho'</span><span style=\"color: #008000; text-decoration-color: #008000\">, </span><span style=\"color: #008000; text-decoration-color: #008000\">'Higor Paz Melo'</span><span style=\"color: #008000; text-decoration-color: #008000\">, </span><span style=\"color: #008000; text-decoration-color: #008000\">'Hugo Santana Lima'</span><span style=\"color: #008000; text-decoration-color: #008000\">, </span>\n",
       "<span style=\"color: #008000; text-decoration-color: #008000\">'Humberto Barbosa Vinagre'</span><span style=\"color: #008000; text-decoration-color: #008000\">, </span><span style=\"color: #008000; text-decoration-color: #008000\">'Jamilson Evangelista'</span><span style=\"color: #008000; text-decoration-color: #008000\">, </span><span style=\"color: #008000; text-decoration-color: #008000\">'Joao Yokoyama'</span><span style=\"color: #008000; text-decoration-color: #008000\">, </span><span style=\"color: #008000; text-decoration-color: #008000\">'Joaquim Miranda'</span><span style=\"color: #008000; text-decoration-color: #008000\">, </span><span style=\"color: #008000; text-decoration-color: #008000\">'José</span>\n",
       "<span style=\"color: #008000; text-decoration-color: #008000\">Antônio S. Sanches'</span><span style=\"color: #008000; text-decoration-color: #008000\">, </span><span style=\"color: #008000; text-decoration-color: #008000\">'Julio Cesar de Assis Santos'</span><span style=\"color: #008000; text-decoration-color: #008000\">, </span><span style=\"color: #008000; text-decoration-color: #008000\">'Kiyotomo Kawamura'</span><span style=\"color: #008000; text-decoration-color: #008000\">, </span><span style=\"color: #008000; text-decoration-color: #008000\">'Laert Calil </span>\n",
       "<span style=\"color: #008000; text-decoration-color: #008000\">Junior'</span><span style=\"color: #008000; text-decoration-color: #008000\">, </span><span style=\"color: #008000; text-decoration-color: #008000\">'Lannei Vilela Moraes'</span><span style=\"color: #008000; text-decoration-color: #008000\">, </span><span style=\"color: #008000; text-decoration-color: #008000\">'Luis Lagomes'</span><span style=\"color: #008000; text-decoration-color: #008000\">, </span><span style=\"color: #008000; text-decoration-color: #008000\">'Luiz Vinicios Mielniczuk Seelig'</span><span style=\"color: #008000; text-decoration-color: #008000\">, </span><span style=\"color: #008000; text-decoration-color: #008000\">'Marcelo </span>\n",
       "<span style=\"color: #008000; text-decoration-color: #008000\">Augusto Scacabarozi'</span><span style=\"color: #008000; text-decoration-color: #008000\">, </span><span style=\"color: #008000; text-decoration-color: #008000\">'Marcio Costa'</span><span style=\"color: #008000; text-decoration-color: #008000\">, </span><span style=\"color: #008000; text-decoration-color: #008000\">'Marcio Rodrigues Maciel'</span><span style=\"color: #008000; text-decoration-color: #008000\">, </span><span style=\"color: #008000; text-decoration-color: #008000\">'Marcos Antônio Rodrigues'</span><span style=\"color: #008000; text-decoration-color: #008000\">, </span>\n",
       "<span style=\"color: #008000; text-decoration-color: #008000\">'Marcos Juliano Valim da Silva'</span><span style=\"color: #008000; text-decoration-color: #008000\">, </span><span style=\"color: #008000; text-decoration-color: #008000\">'Maria Teresa Flosi Garrafa'</span><span style=\"color: #008000; text-decoration-color: #008000\">, </span><span style=\"color: #008000; text-decoration-color: #008000\">'Mario Augusto Volpini'</span><span style=\"color: #008000; text-decoration-color: #008000\">, </span>\n",
       "<span style=\"color: #008000; text-decoration-color: #008000\">'Murilo Amaro'</span><span style=\"color: #008000; text-decoration-color: #008000\">, </span><span style=\"color: #008000; text-decoration-color: #008000\">'Osnir Lopes'</span><span style=\"color: #008000; text-decoration-color: #008000\">, </span><span style=\"color: #008000; text-decoration-color: #008000\">'Paulo Diogo Costa'</span><span style=\"color: #008000; text-decoration-color: #008000\">, </span><span style=\"color: #008000; text-decoration-color: #008000\">'Pedro Arai'</span><span style=\"color: #008000; text-decoration-color: #008000\">, </span><span style=\"color: #008000; text-decoration-color: #008000\">'Renato Sadao Kushioyada'</span><span style=\"color: #008000; text-decoration-color: #008000\">, </span>\n",
       "<span style=\"color: #008000; text-decoration-color: #008000\">'Ricardo Santos Marques'</span><span style=\"color: #008000; text-decoration-color: #008000\">, </span><span style=\"color: #008000; text-decoration-color: #008000\">'Ricardo da Silva e Souza'</span><span style=\"color: #008000; text-decoration-color: #008000\">, </span><span style=\"color: #008000; text-decoration-color: #008000\">'Roberto Carlos Soares Campos'</span><span style=\"color: #008000; text-decoration-color: #008000\">, </span>\n",
       "<span style=\"color: #008000; text-decoration-color: #008000\">'Roberto Ferreira dos Santos'</span><span style=\"color: #008000; text-decoration-color: #008000\">, </span><span style=\"color: #008000; text-decoration-color: #008000\">'Roberto Takata'</span><span style=\"color: #008000; text-decoration-color: #008000\">, </span><span style=\"color: #008000; text-decoration-color: #008000\">'Rodrigo Barbosa de Paula'</span><span style=\"color: #008000; text-decoration-color: #008000\">, </span><span style=\"color: #008000; text-decoration-color: #008000\">'Rogerio </span>\n",
       "<span style=\"color: #008000; text-decoration-color: #008000\">Zambotto'</span><span style=\"color: #008000; text-decoration-color: #008000\">, </span><span style=\"color: #008000; text-decoration-color: #008000\">'Ronaldo da Silva Alves Batista'</span><span style=\"color: #008000; text-decoration-color: #008000\">, </span><span style=\"color: #008000; text-decoration-color: #008000\">'Sergio Pereira'</span><span style=\"color: #008000; text-decoration-color: #008000\">, </span><span style=\"color: #008000; text-decoration-color: #008000\">'Thiago Silva'</span><span style=\"color: #008000; text-decoration-color: #008000\">, </span><span style=\"color: #008000; text-decoration-color: #008000\">'Thomaz Honma </span>\n",
       "<span style=\"color: #008000; text-decoration-color: #008000\">Ishida'</span><span style=\"color: #008000; text-decoration-color: #008000\">, </span><span style=\"color: #008000; text-decoration-color: #008000\">'Vinicius Paiva de Oliveira'</span><span style=\"color: #008000; text-decoration-color: #008000\">, </span><span style=\"color: #008000; text-decoration-color: #008000\">'Vitor Zelada'</span><span style=\"color: #008000; text-decoration-color: #008000\">, </span><span style=\"color: #008000; text-decoration-color: #008000\">'Wellington Devechi Piauilino'</span><span style=\"color: #008000; text-decoration-color: #008000\">, </span>\n",
       "<span style=\"color: #008000; text-decoration-color: #008000\">'Wladimir Senise'</span><span style=\"color: #008000; text-decoration-color: #008000\">, </span><span style=\"color: #008000; text-decoration-color: #008000\">'marcio colazingari'</span><span style=\"color: #008000; text-decoration-color: #008000; font-weight: bold\">]</span>\n",
       "</pre>\n"
      ],
      "text/plain": [
       "\u001b[31mUsers \u001b[0m\u001b[34m-> \u001b[0m\u001b[1;32m[\u001b[0m\u001b[32m'Alexandre Elias de Andrade Oliveira'\u001b[0m\u001b[32m, \u001b[0m\u001b[32m'Alexandre Freitas de Lima'\u001b[0m\u001b[32m, \u001b[0m\u001b[32m'Alexandre \u001b[0m\n",
       "\u001b[32mInacio'\u001b[0m\u001b[32m, \u001b[0m\u001b[32m'Alexandre Junzo Hamada'\u001b[0m\u001b[32m, \u001b[0m\u001b[32m'Alfredo de Andrade Filho'\u001b[0m\u001b[32m, \u001b[0m\u001b[32m'Ananias Pereira'\u001b[0m\u001b[32m, \u001b[0m\u001b[32m'Antonio \u001b[0m\n",
       "\u001b[32mCarlos Cardoso de Mello'\u001b[0m\u001b[32m, \u001b[0m\u001b[32m'Aparecido Sebastiao da Silva'\u001b[0m\u001b[32m, \u001b[0m\u001b[32m'Arthur Pisaruk'\u001b[0m\u001b[32m, \u001b[0m\u001b[32m'Carlos Augusto \u001b[0m\n",
       "\u001b[32mde Carvalho'\u001b[0m\u001b[32m, \u001b[0m\u001b[32m'Carlos Eduardo Guimaraes Silveira'\u001b[0m\u001b[32m, \u001b[0m\u001b[32m'Carlos da Paixao Filho'\u001b[0m\u001b[32m, \u001b[0m\u001b[32m'Celio Yukio \u001b[0m\n",
       "\u001b[32mTakahashi'\u001b[0m\u001b[32m, \u001b[0m\u001b[32m'Celso Luiz Maximino'\u001b[0m\u001b[32m, \u001b[0m\u001b[32m'Diogo Caldeira'\u001b[0m\u001b[32m, \u001b[0m\u001b[32m'Ediceu Beraldi'\u001b[0m\u001b[32m, \u001b[0m\u001b[32m'Eduardo Narkevicius'\u001b[0m\u001b[32m,\u001b[0m\n",
       "\u001b[32m'Elcio Maehara'\u001b[0m\u001b[32m, \u001b[0m\u001b[32m'Eustaquio Lages Duarte'\u001b[0m\u001b[32m, \u001b[0m\u001b[32m'Fiscal UD'\u001b[0m\u001b[32m, \u001b[0m\u001b[32m'Gauber Albuquerque'\u001b[0m\u001b[32m, \u001b[0m\u001b[32m'Gilson Ponce \u001b[0m\n",
       "\u001b[32mAyres Filho'\u001b[0m\u001b[32m, \u001b[0m\u001b[32m'Helio Lopes de Carvalho Filho'\u001b[0m\u001b[32m, \u001b[0m\u001b[32m'Higor Paz Melo'\u001b[0m\u001b[32m, \u001b[0m\u001b[32m'Hugo Santana Lima'\u001b[0m\u001b[32m, \u001b[0m\n",
       "\u001b[32m'Humberto Barbosa Vinagre'\u001b[0m\u001b[32m, \u001b[0m\u001b[32m'Jamilson Evangelista'\u001b[0m\u001b[32m, \u001b[0m\u001b[32m'Joao Yokoyama'\u001b[0m\u001b[32m, \u001b[0m\u001b[32m'Joaquim Miranda'\u001b[0m\u001b[32m, \u001b[0m\u001b[32m'José\u001b[0m\n",
       "\u001b[32mAntônio S. Sanches'\u001b[0m\u001b[32m, \u001b[0m\u001b[32m'Julio Cesar de Assis Santos'\u001b[0m\u001b[32m, \u001b[0m\u001b[32m'Kiyotomo Kawamura'\u001b[0m\u001b[32m, \u001b[0m\u001b[32m'Laert Calil \u001b[0m\n",
       "\u001b[32mJunior'\u001b[0m\u001b[32m, \u001b[0m\u001b[32m'Lannei Vilela Moraes'\u001b[0m\u001b[32m, \u001b[0m\u001b[32m'Luis Lagomes'\u001b[0m\u001b[32m, \u001b[0m\u001b[32m'Luiz Vinicios Mielniczuk Seelig'\u001b[0m\u001b[32m, \u001b[0m\u001b[32m'Marcelo \u001b[0m\n",
       "\u001b[32mAugusto Scacabarozi'\u001b[0m\u001b[32m, \u001b[0m\u001b[32m'Marcio Costa'\u001b[0m\u001b[32m, \u001b[0m\u001b[32m'Marcio Rodrigues Maciel'\u001b[0m\u001b[32m, \u001b[0m\u001b[32m'Marcos Antônio Rodrigues'\u001b[0m\u001b[32m, \u001b[0m\n",
       "\u001b[32m'Marcos Juliano Valim da Silva'\u001b[0m\u001b[32m, \u001b[0m\u001b[32m'Maria Teresa Flosi Garrafa'\u001b[0m\u001b[32m, \u001b[0m\u001b[32m'Mario Augusto Volpini'\u001b[0m\u001b[32m, \u001b[0m\n",
       "\u001b[32m'Murilo Amaro'\u001b[0m\u001b[32m, \u001b[0m\u001b[32m'Osnir Lopes'\u001b[0m\u001b[32m, \u001b[0m\u001b[32m'Paulo Diogo Costa'\u001b[0m\u001b[32m, \u001b[0m\u001b[32m'Pedro Arai'\u001b[0m\u001b[32m, \u001b[0m\u001b[32m'Renato Sadao Kushioyada'\u001b[0m\u001b[32m, \u001b[0m\n",
       "\u001b[32m'Ricardo Santos Marques'\u001b[0m\u001b[32m, \u001b[0m\u001b[32m'Ricardo da Silva e Souza'\u001b[0m\u001b[32m, \u001b[0m\u001b[32m'Roberto Carlos Soares Campos'\u001b[0m\u001b[32m, \u001b[0m\n",
       "\u001b[32m'Roberto Ferreira dos Santos'\u001b[0m\u001b[32m, \u001b[0m\u001b[32m'Roberto Takata'\u001b[0m\u001b[32m, \u001b[0m\u001b[32m'Rodrigo Barbosa de Paula'\u001b[0m\u001b[32m, \u001b[0m\u001b[32m'Rogerio \u001b[0m\n",
       "\u001b[32mZambotto'\u001b[0m\u001b[32m, \u001b[0m\u001b[32m'Ronaldo da Silva Alves Batista'\u001b[0m\u001b[32m, \u001b[0m\u001b[32m'Sergio Pereira'\u001b[0m\u001b[32m, \u001b[0m\u001b[32m'Thiago Silva'\u001b[0m\u001b[32m, \u001b[0m\u001b[32m'Thomaz Honma \u001b[0m\n",
       "\u001b[32mIshida'\u001b[0m\u001b[32m, \u001b[0m\u001b[32m'Vinicius Paiva de Oliveira'\u001b[0m\u001b[32m, \u001b[0m\u001b[32m'Vitor Zelada'\u001b[0m\u001b[32m, \u001b[0m\u001b[32m'Wellington Devechi Piauilino'\u001b[0m\u001b[32m, \u001b[0m\n",
       "\u001b[32m'Wladimir Senise'\u001b[0m\u001b[32m, \u001b[0m\u001b[32m'marcio colazingari'\u001b[0m\u001b[1;32m]\u001b[0m\n"
      ]
     },
     "metadata": {},
     "output_type": "display_data"
    },
    {
     "data": {
      "text/html": [
       "<pre style=\"white-space:pre;overflow-x:auto;line-height:normal;font-family:Menlo,'DejaVu Sans Mono',consolas,'Courier New',monospace\"><span style=\"color: #800000; text-decoration-color: #800000\">Modificado </span><span style=\"color: #000080; text-decoration-color: #000080\">-&gt; </span><span style=\"color: #008000; text-decoration-color: #008000\">Atualizado por Ronaldo da Silva Alves Batista em </span><span style=\"color: #008000; text-decoration-color: #008000; font-weight: bold\">2021</span><span style=\"color: #008000; text-decoration-color: #008000\">-</span><span style=\"color: #008000; text-decoration-color: #008000; font-weight: bold\">05</span><span style=\"color: #008000; text-decoration-color: #008000\">-</span><span style=\"color: #008000; text-decoration-color: #008000; font-weight: bold\">24</span><span style=\"color: #008000; text-decoration-color: #008000\"> às </span><span style=\"color: #008000; text-decoration-color: #008000; font-weight: bold\">12:56:59</span>\n",
       "</pre>\n"
      ],
      "text/plain": [
       "\u001b[31mModificado \u001b[0m\u001b[34m-> \u001b[0m\u001b[32mAtualizado por Ronaldo da Silva Alves Batista em \u001b[0m\u001b[1;32m2021\u001b[0m\u001b[32m-\u001b[0m\u001b[1;32m05\u001b[0m\u001b[32m-\u001b[0m\u001b[1;32m24\u001b[0m\u001b[32m às \u001b[0m\u001b[1;32m12:56:59\u001b[0m\n"
      ]
     },
     "metadata": {},
     "output_type": "display_data"
    }
   ],
   "source": [
    "for k,v in detalhes.items():\n",
    "    console.print(f'[red]{k} [blue]-> [green]{v}')"
   ]
  },
  {
   "cell_type": "markdown",
   "metadata": {},
   "source": [
    "Agora vamos testar o retorno de informações para um Inspeção no Fiscaliza de produção `teste=False`."
   ]
  },
  {
   "cell_type": "code",
   "execution_count": null,
   "metadata": {},
   "outputs": [],
   "source": [
    "f = auth_user(login, senha)"
   ]
  },
  {
   "cell_type": "code",
   "execution_count": null,
   "metadata": {},
   "outputs": [],
   "source": [
    "issue = f.issue.get(inspecao, include=[\"relations\", \"attachments\"])"
   ]
  },
  {
   "cell_type": "code",
   "execution_count": null,
   "metadata": {},
   "outputs": [
    {
     "data": {
      "text/plain": [
       "[('relations',\n",
       "  [{'id': 20663,\n",
       "    'issue_id': 57690,\n",
       "    'issue_to_id': 52876,\n",
       "    'relation_type': 'blocks',\n",
       "    'delay': None}]),\n",
       " ('time_entries', None),\n",
       " ('children', None),\n",
       " ('attachments', []),\n",
       " ('changesets', None),\n",
       " ('journals', None),\n",
       " ('watchers', None),\n",
       " ('id', 57690),\n",
       " ('project', {'id': 25, 'name': 'GR01'}),\n",
       " ('tracker', {'id': 1, 'name': 'Inspeção (Objeto)'}),\n",
       " ('status', {'id': 1, 'name': 'Rascunho'}),\n",
       " ('priority', {'id': 2, 'name': 'Normal'}),\n",
       " ('author', {'id': 887, 'name': 'Ronaldo da Silva Alves Batista'}),\n",
       " ('subject', 'INSP_GR01_2021_0509'),\n",
       " ('done_ratio', 0),\n",
       " ('custom_fields',\n",
       "  [{'id': 89, 'name': 'Classe da Inspeção'},\n",
       "   {'id': 2, 'name': 'Tipo de inspeção'},\n",
       "   {'id': 5, 'name': 'Ano de Execução', 'value': '2021'},\n",
       "   {'id': 422,\n",
       "    'name': 'Nº SEI do Processo',\n",
       "    'value': '{\"numero\"=>\"53504.000007/2021-50\", \"link_acesso\"=>\"https://seihm.anatel.gov.br/sei/controlador.php?acao=procedimento_trabalhar&id_procedimento=1962455\"}'},\n",
       "   {'id': 22, 'name': 'Descrição da Inspeção', 'value': ''},\n",
       "   {'id': 25, 'name': 'Fiscal responsável '},\n",
       "   {'id': 26, 'name': 'Fiscais ', 'multiple': True, 'value': []},\n",
       "   {'id': 30, 'name': 'Entidade da Inspeção', 'multiple': True, 'value': []},\n",
       "   {'id': 31, 'name': 'UF/Município', 'multiple': True, 'value': []},\n",
       "   {'id': 57, 'name': 'Serviços da Inspeção', 'multiple': True, 'value': []},\n",
       "   {'id': 91, 'name': 'Horas de Preparação', 'value': ''},\n",
       "   {'id': 92, 'name': 'Horas de Deslocamento', 'value': ''},\n",
       "   {'id': 93, 'name': 'Horas de Execução', 'value': ''},\n",
       "   {'id': 94, 'name': 'Horas de conclusão', 'value': ''},\n",
       "   {'id': 111, 'name': 'Nº SAV', 'value': ''},\n",
       "   {'id': 112, 'name': 'Nº PCDP', 'value': ''},\n",
       "   {'id': 71, 'name': 'Procedimentos', 'multiple': True, 'value': []},\n",
       "   {'id': 213, 'name': 'Agrupamento', 'value': ''},\n",
       "   {'id': 463, 'name': 'App Fiscaliza', 'value': '0'}]),\n",
       " ('created_on', '2021-05-24T15:56:59Z'),\n",
       " ('updated_on', '2021-05-24T15:56:59Z')]"
      ]
     },
     "execution_count": null,
     "metadata": {},
     "output_type": "execute_result"
    }
   ],
   "source": [
    "list(issue)"
   ]
  },
  {
   "cell_type": "code",
   "execution_count": null,
   "metadata": {},
   "outputs": [
    {
     "data": {
      "text/plain": [
       "datetime.datetime(2021, 5, 24, 12, 56, 59)"
      ]
     },
     "execution_count": null,
     "metadata": {},
     "output_type": "execute_result"
    }
   ],
   "source": [
    "from datetime import datetime, timezone, timedelta\n",
    "\n",
    "date = datetime.fromisoformat('2021-05-24T15:56:59') - timedelta(hours=3)\n",
    "date"
   ]
  },
  {
   "cell_type": "code",
   "execution_count": null,
   "metadata": {},
   "outputs": [
    {
     "ename": "TypeError",
     "evalue": "strptime() takes exactly 2 arguments (3 given)",
     "output_type": "error",
     "traceback": [
      "\u001b[1;31m---------------------------------------------------------------------------\u001b[0m",
      "\u001b[1;31mTypeError\u001b[0m                                 Traceback (most recent call last)",
      "\u001b[1;32m<ipython-input-87-001fe3be10bc>\u001b[0m in \u001b[0;36m<module>\u001b[1;34m\u001b[0m\n\u001b[1;32m----> 1\u001b[1;33m \u001b[0mdate\u001b[0m \u001b[1;33m=\u001b[0m \u001b[0mdatetime\u001b[0m\u001b[1;33m.\u001b[0m\u001b[0mstrptime\u001b[0m\u001b[1;33m(\u001b[0m\u001b[1;34m'2021-05-24T15:56:59'\u001b[0m\u001b[1;33m,\u001b[0m \u001b[1;34m'%Y-%m-%dT%H:%M:%S'\u001b[0m\u001b[1;33m,\u001b[0m \u001b[0mtimezone\u001b[0m\u001b[1;33m(\u001b[0m\u001b[0mtimedelta\u001b[0m\u001b[1;33m(\u001b[0m\u001b[0mhours\u001b[0m\u001b[1;33m=\u001b[0m\u001b[1;33m-\u001b[0m\u001b[1;36m3\u001b[0m\u001b[1;33m)\u001b[0m\u001b[1;33m)\u001b[0m\u001b[1;33m)\u001b[0m\u001b[1;33m\u001b[0m\u001b[1;33m\u001b[0m\u001b[0m\n\u001b[0m",
      "\u001b[1;31mTypeError\u001b[0m: strptime() takes exactly 2 arguments (3 given)"
     ]
    }
   ],
   "source": [
    "date = datetime.strptime('2021-05-24T15:56:59', '%Y-%m-%dT%H:%M:%S', timezone(timedelta(hours=-3)))"
   ]
  },
  {
   "cell_type": "markdown",
   "metadata": {},
   "source": [
    "## Dicionário de Dados\n",
    "A função anterior somente retorna as informações já constantes em dada Inspeção ( Issue ) do Fiscaliza. Para alterarmos ou atualizarmos dada inspeção, precisamos passar um dicionário de dados ou um caminho para um arquivo `.json` ou pickle `.pkl` onde conste esse dicionário de dados serializado. O exemplo seguinte mostra um dicionário de dados com as informações básicas constantes de uma monitoração e a formatação que elas são validadas:"
   ]
  },
  {
   "cell_type": "code",
   "execution_count": null,
   "metadata": {},
   "outputs": [],
   "source": [
    "d = {}\n",
    "\n",
    "d['Classe da Inspeção'] = 'Técnica' # str\n",
    "\n",
    "d['Tipo de inspeção'] = 'Uso do Espectro - Monitoração' #str\n",
    "\n",
    "d['Descrição da Inspeção'] = '''Atendimento da Denúncia AC202010213075425 (6104512), \n",
    "verificação da Potência e Intensidade de Campo Elétrico da Frequência 105.1MHz e seus harmônicos, \n",
    "além da checagem de Intermodulação e Espúrios nas frequências 450.3MHz e 750MHz.''' #str\n",
    "\n",
    "d['Fiscal Responsável'] = 'Ronaldo da Silva Alves Batista' #str\n",
    "\n",
    "d['Fiscais'] = ['Ronaldo da Silva Alves Batista', 'Paulo Diogo Costa', 'Mario Augusto Volpini'] #string ou lista de strings\n",
    "\n",
    "# Windows\n",
    "d['Html'] = 'D:\\\\OneDrive - ANATEL\\\\Monitoramento\\\\Processos\\\\53504.0005432021-55\\\\Guarulhos.html' #str\n",
    "\n",
    "#ou \n",
    "\n",
    "#Unix d['Html'] = '/d/OneDrive - ANATEL/Monitoramento/53504.0005432021-55/Guarulhos.html' #str\n",
    "            \n",
    "d['Gerar Relatório'] = 1 # int 0 ou 1\n",
    "\n",
    "d['Frequência Inicial']  = 54 #int ou float\n",
    "\n",
    "d['Unidade da Frequência Inicial'] = 'MHz' #string\n",
    "\n",
    "d['Frequência Final'] = 700 #int ou float\n",
    "\n",
    "d['Unidade da Frequência Final'] = 'MHz' #string\n",
    "\n",
    "d['Data de Início'] = '2021-03-19' #YYYY-MM-DD #string nesse formato\n",
    "\n",
    "d['Data Limite'] = '2021-12-31'  #YYYY-MM-DD #string nesse formato\n",
    "\n",
    "d['UF/Município'] = \"SP/São Paulo\" # string ou Lista de Strings: [\"SP/São Paulo\", \"SP/Sorocaba\"]\n",
    "\n",
    "d['Serviços da Inspeção'] = ['230', '231', '800'] # String ou Lista de Strings\n",
    "\n",
    "d['Qnt. de emissões na faixa'] = 12 # int\n",
    "\n",
    "d['Emissões não autorizadas/desc'] = 70 # int\n",
    "\n",
    "d['Horas de Preparação'] = 2 # int\n",
    "\n",
    "d['Horas de Deslocamento'] = 0 # int\n",
    "\n",
    "d['Horas de Execução'] = 32 # int\n",
    "\n",
    "d['Horas de Conclusão'] = 6 # int\n",
    "\n",
    "d['Latitude (coordenadas)'] = -22.94694 # float\n",
    "\n",
    "d['Longitude (coordenadas)'] = -43.21944 # float\n",
    "\n",
    "d['Uso de PF'] = 'Não se aplica PF - uso apenas de formulários' # string\n",
    "\n",
    "d['Ação de risco à vida criada?'] = 'Não' # string Sim | Não\n",
    "\n",
    "d['Impossibilidade acesso online?'] = '0' # string '0' | '1'\n",
    "\n",
    "d['Reservar Instrumentos?'] = '0' #string '0' = Não | '1' = 'Sim'\n",
    "\n",
    "d['Utilizou algum instrumento?'] = '0'\n",
    "\n",
    "#d['Reserva de Instrumentos'] = '' \n",
    "\n",
    "d['Notes'] = \"Não foi constatada irregularidade no Período monitorado\" # string\n",
    "\n",
    "# No caso de uma tabela, string formatada como csv\n",
    "\n",
    "d['Notes'] = \"\"\"Faixa, Classe Especial, Classe A, Classe B, Classe C\n",
    "                VHF-L,0,5,7,5\n",
    "                VHF-H,0,12,1,0\n",
    "                UHF,1,1,2,4\n",
    "                FM,5,1,0,0\n",
    "                RADCOM,0,0,0,0\n",
    "                Outorgadas com indícios de irregularidades,1,2,3,4\n",
    "            \"\"\""
   ]
  },
  {
   "cell_type": "markdown",
   "metadata": {},
   "source": [
    "A API do Redmine possui formatos específicos de como esses campos devem ser submetidos, validar os formatos acima e fazer essa formatação exigida pela API do Redmine é o papel da função `validar_dicionario`."
   ]
  },
  {
   "cell_type": "code",
   "execution_count": null,
   "metadata": {},
   "outputs": [
    {
     "data": {
      "text/markdown": [
       "<h4 id=\"validar_dicionario\" class=\"doc_header\"><code>validar_dicionario</code><a href=\"https://github.com/ronaldokun/fiscaliza/tree/main/fiscaliza/redmine.py#L57\" class=\"source_link\" style=\"float:right\">[source]</a></h4>\n",
       "\n",
       "> <code>validar_dicionario</code>(**`data_dict`**:\"Dicionário de Dados ou Caminho para o arquivo .json\", **`inspecao`**:\"Número da Inspeção a ser relatada\", **`login`**:\"Login Anatel do Usuário\"=*`None`*, **`senha`**:\"Senha Utilizada nos Sistemas Interativos da Anatel\"=*`None`*, **`fiscaliza`**:\"Objeto Redmine logado, opcional ao login e senha\"=*`None`*, **`teste`**:\"Caso verdadeiro o Fiscaliza de Teste ( Homologação ) é utilizado\"=*`True`*, **`save_path`**:\"Caminho para salvar o dicionário formatado\"=*`None`*)\n",
       "\n"
      ],
      "text/plain": [
       "<IPython.core.display.Markdown object>"
      ]
     },
     "metadata": {},
     "output_type": "display_data"
    }
   ],
   "source": [
    "#hide\n",
    "show_doc(validar_dicionario)"
   ]
  },
  {
   "cell_type": "code",
   "execution_count": null,
   "metadata": {},
   "outputs": [],
   "source": [
    "inspecao = '57689'\n",
    "dados = validar_dicionario('files/data.json', inspecao, login, senha)"
   ]
  },
  {
   "cell_type": "code",
   "execution_count": null,
   "metadata": {},
   "outputs": [
    {
     "data": {
      "text/html": [
       "<pre style=\"white-space:pre;overflow-x:auto;line-height:normal;font-family:Menlo,'DejaVu Sans Mono',consolas,'Courier New',monospace\"><span style=\"color: #000080; text-decoration-color: #000080\">Classe_da_Inspecao </span><span style=\"color: #800000; text-decoration-color: #800000\">-&gt; </span><span style=\"color: #008000; text-decoration-color: #008000; font-weight: bold\">{</span><span style=\"color: #008000; text-decoration-color: #008000\">'id'</span><span style=\"color: #008000; text-decoration-color: #008000\">: </span><span style=\"color: #008000; text-decoration-color: #008000; font-weight: bold\">89</span><span style=\"color: #008000; text-decoration-color: #008000\">, </span><span style=\"color: #008000; text-decoration-color: #008000\">'value'</span><span style=\"color: #008000; text-decoration-color: #008000\">: </span><span style=\"color: #008000; text-decoration-color: #008000\">'{\"valor\":\"Técnica\",\"texto\":\"Técnica\"}'</span><span style=\"color: #008000; text-decoration-color: #008000; font-weight: bold\">}</span>\n",
       "</pre>\n"
      ],
      "text/plain": [
       "\u001b[34mClasse_da_Inspecao \u001b[0m\u001b[31m-> \u001b[0m\u001b[1;32m{\u001b[0m\u001b[32m'id'\u001b[0m\u001b[32m: \u001b[0m\u001b[1;32m89\u001b[0m\u001b[32m, \u001b[0m\u001b[32m'value'\u001b[0m\u001b[32m: \u001b[0m\u001b[32m'\u001b[0m\u001b[32m{\u001b[0m\u001b[32m\"valor\":\"Técnica\",\"texto\":\"Técnica\"\u001b[0m\u001b[32m}\u001b[0m\u001b[32m'\u001b[0m\u001b[1;32m}\u001b[0m\n"
      ]
     },
     "metadata": {},
     "output_type": "display_data"
    },
    {
     "data": {
      "text/html": [
       "<pre style=\"white-space:pre;overflow-x:auto;line-height:normal;font-family:Menlo,'DejaVu Sans Mono',consolas,'Courier New',monospace\"><span style=\"color: #000080; text-decoration-color: #000080\">Tipo_de_Inspecao </span><span style=\"color: #800000; text-decoration-color: #800000\">-&gt; </span><span style=\"color: #008000; text-decoration-color: #008000; font-weight: bold\">{</span><span style=\"color: #008000; text-decoration-color: #008000\">'id'</span><span style=\"color: #008000; text-decoration-color: #008000\">: </span><span style=\"color: #008000; text-decoration-color: #008000; font-weight: bold\">2</span><span style=\"color: #008000; text-decoration-color: #008000\">, </span><span style=\"color: #008000; text-decoration-color: #008000\">'value'</span><span style=\"color: #008000; text-decoration-color: #008000\">: </span><span style=\"color: #008000; text-decoration-color: #008000\">'{\"valor\":\"Uso do Espectro - Monitoração\",\"texto\":\"Uso</span>\n",
       "<span style=\"color: #008000; text-decoration-color: #008000\">do Espectro - Monitoração\"}'</span><span style=\"color: #008000; text-decoration-color: #008000; font-weight: bold\">}</span>\n",
       "</pre>\n"
      ],
      "text/plain": [
       "\u001b[34mTipo_de_Inspecao \u001b[0m\u001b[31m-> \u001b[0m\u001b[1;32m{\u001b[0m\u001b[32m'id'\u001b[0m\u001b[32m: \u001b[0m\u001b[1;32m2\u001b[0m\u001b[32m, \u001b[0m\u001b[32m'value'\u001b[0m\u001b[32m: \u001b[0m\u001b[32m'\u001b[0m\u001b[32m{\u001b[0m\u001b[32m\"valor\":\"Uso do Espectro - Monitoração\",\"texto\":\"Uso\u001b[0m\n",
       "\u001b[32mdo Espectro - Monitoração\"\u001b[0m\u001b[32m}\u001b[0m\u001b[32m'\u001b[0m\u001b[1;32m}\u001b[0m\n"
      ]
     },
     "metadata": {},
     "output_type": "display_data"
    },
    {
     "data": {
      "text/html": [
       "<pre style=\"white-space:pre;overflow-x:auto;line-height:normal;font-family:Menlo,'DejaVu Sans Mono',consolas,'Courier New',monospace\"><span style=\"color: #000080; text-decoration-color: #000080\">Descricao_da_Inspecao </span><span style=\"color: #800000; text-decoration-color: #800000\">-&gt; </span><span style=\"color: #008000; text-decoration-color: #008000; font-weight: bold\">{</span><span style=\"color: #008000; text-decoration-color: #008000\">'id'</span><span style=\"color: #008000; text-decoration-color: #008000\">: </span><span style=\"color: #008000; text-decoration-color: #008000; font-weight: bold\">22</span><span style=\"color: #008000; text-decoration-color: #008000\">, </span><span style=\"color: #008000; text-decoration-color: #008000\">'value'</span><span style=\"color: #008000; text-decoration-color: #008000\">: </span><span style=\"color: #008000; text-decoration-color: #008000\">'Atendimento da Denúncia AC202010213075425 </span>\n",
       "<span style=\"color: #008000; text-decoration-color: #008000\">(6104512), \\nverificação da Potência e Intensidade de Campo Elétrico da Frequência 105.1MHz e</span>\n",
       "<span style=\"color: #008000; text-decoration-color: #008000\">seus harmônicos, \\nalém da checagem de Intermodulação e Espúrios nas frequências 450.3MHz e </span>\n",
       "<span style=\"color: #008000; text-decoration-color: #008000\">750MHz.'</span><span style=\"color: #008000; text-decoration-color: #008000; font-weight: bold\">}</span>\n",
       "</pre>\n"
      ],
      "text/plain": [
       "\u001b[34mDescricao_da_Inspecao \u001b[0m\u001b[31m-> \u001b[0m\u001b[1;32m{\u001b[0m\u001b[32m'id'\u001b[0m\u001b[32m: \u001b[0m\u001b[1;32m22\u001b[0m\u001b[32m, \u001b[0m\u001b[32m'value'\u001b[0m\u001b[32m: \u001b[0m\u001b[32m'Atendimento da Denúncia AC202010213075425 \u001b[0m\n",
       "\u001b[32m(\u001b[0m\u001b[32m6104512\u001b[0m\u001b[32m)\u001b[0m\u001b[32m, \\nverificação da Potência e Intensidade de Campo Elétrico da Frequência 105.1MHz e\u001b[0m\n",
       "\u001b[32mseus harmônicos, \\nalém da checagem de Intermodulação e Espúrios nas frequências 450.3MHz e \u001b[0m\n",
       "\u001b[32m750MHz.'\u001b[0m\u001b[1;32m}\u001b[0m\n"
      ]
     },
     "metadata": {},
     "output_type": "display_data"
    },
    {
     "data": {
      "text/html": [
       "<pre style=\"white-space:pre;overflow-x:auto;line-height:normal;font-family:Menlo,'DejaVu Sans Mono',consolas,'Courier New',monospace\"><span style=\"color: #000080; text-decoration-color: #000080\">Fiscal_Responsavel </span><span style=\"color: #800000; text-decoration-color: #800000\">-&gt; </span><span style=\"color: #008000; text-decoration-color: #008000; font-weight: bold\">{</span><span style=\"color: #008000; text-decoration-color: #008000\">'id'</span><span style=\"color: #008000; text-decoration-color: #008000\">: </span><span style=\"color: #008000; text-decoration-color: #008000; font-weight: bold\">25</span><span style=\"color: #008000; text-decoration-color: #008000\">, </span><span style=\"color: #008000; text-decoration-color: #008000\">'value'</span><span style=\"color: #008000; text-decoration-color: #008000\">: </span><span style=\"color: #008000; text-decoration-color: #008000\">'Ronaldo da Silva Alves Batista'</span><span style=\"color: #008000; text-decoration-color: #008000; font-weight: bold\">}</span>\n",
       "</pre>\n"
      ],
      "text/plain": [
       "\u001b[34mFiscal_Responsavel \u001b[0m\u001b[31m-> \u001b[0m\u001b[1;32m{\u001b[0m\u001b[32m'id'\u001b[0m\u001b[32m: \u001b[0m\u001b[1;32m25\u001b[0m\u001b[32m, \u001b[0m\u001b[32m'value'\u001b[0m\u001b[32m: \u001b[0m\u001b[32m'Ronaldo da Silva Alves Batista'\u001b[0m\u001b[1;32m}\u001b[0m\n"
      ]
     },
     "metadata": {},
     "output_type": "display_data"
    },
    {
     "data": {
      "text/html": [
       "<pre style=\"white-space:pre;overflow-x:auto;line-height:normal;font-family:Menlo,'DejaVu Sans Mono',consolas,'Courier New',monospace\"><span style=\"color: #000080; text-decoration-color: #000080\">Fiscais </span><span style=\"color: #800000; text-decoration-color: #800000\">-&gt; </span><span style=\"color: #008000; text-decoration-color: #008000; font-weight: bold\">{</span><span style=\"color: #008000; text-decoration-color: #008000\">'id'</span><span style=\"color: #008000; text-decoration-color: #008000\">: </span><span style=\"color: #008000; text-decoration-color: #008000; font-weight: bold\">26</span><span style=\"color: #008000; text-decoration-color: #008000\">, </span><span style=\"color: #008000; text-decoration-color: #008000\">'value'</span><span style=\"color: #008000; text-decoration-color: #008000\">: </span><span style=\"color: #008000; text-decoration-color: #008000; font-weight: bold\">[</span><span style=\"color: #008000; text-decoration-color: #008000\">'Ronaldo da Silva Alves Batista'</span><span style=\"color: #008000; text-decoration-color: #008000\">, </span><span style=\"color: #008000; text-decoration-color: #008000\">'Paulo Diogo Costa'</span><span style=\"color: #008000; text-decoration-color: #008000\">, </span><span style=\"color: #008000; text-decoration-color: #008000\">'Mario</span>\n",
       "<span style=\"color: #008000; text-decoration-color: #008000\">Augusto Volpini'</span><span style=\"color: #008000; text-decoration-color: #008000; font-weight: bold\">]}</span>\n",
       "</pre>\n"
      ],
      "text/plain": [
       "\u001b[34mFiscais \u001b[0m\u001b[31m-> \u001b[0m\u001b[1;32m{\u001b[0m\u001b[32m'id'\u001b[0m\u001b[32m: \u001b[0m\u001b[1;32m26\u001b[0m\u001b[32m, \u001b[0m\u001b[32m'value'\u001b[0m\u001b[32m: \u001b[0m\u001b[1;32m[\u001b[0m\u001b[32m'Ronaldo da Silva Alves Batista'\u001b[0m\u001b[32m, \u001b[0m\u001b[32m'Paulo Diogo Costa'\u001b[0m\u001b[32m, \u001b[0m\u001b[32m'Mario\u001b[0m\n",
       "\u001b[32mAugusto Volpini'\u001b[0m\u001b[1;32m]\u001b[0m\u001b[1;32m}\u001b[0m\n"
      ]
     },
     "metadata": {},
     "output_type": "display_data"
    },
    {
     "data": {
      "text/html": [
       "<pre style=\"white-space:pre;overflow-x:auto;line-height:normal;font-family:Menlo,'DejaVu Sans Mono',consolas,'Courier New',monospace\"><span style=\"color: #000080; text-decoration-color: #000080\">Html </span><span style=\"color: #800000; text-decoration-color: #800000\">-&gt; </span><span style=\"color: #008000; text-decoration-color: #008000; font-weight: bold\">{</span><span style=\"color: #008000; text-decoration-color: #008000\">'id'</span><span style=\"color: #008000; text-decoration-color: #008000\">: </span><span style=\"color: #008000; text-decoration-color: #008000; font-weight: bold\">537</span><span style=\"color: #008000; text-decoration-color: #008000\">, </span><span style=\"color: #008000; text-decoration-color: #008000\">'value'</span><span style=\"color: #008000; text-decoration-color: #008000\">: '&lt;!DOCTYPE html PUBLIC </span><span style=\"color: #008000; text-decoration-color: #008000\">\"-//W3C//DTD HTML 4.01//EN\"</span><span style=\"color: #008000; text-decoration-color: #008000\"> </span>\n",
       "<span style=\"color: #008000; text-decoration-color: #008000\">\"</span><span style=\"color: #008000; text-decoration-color: #008000; text-decoration: underline\">http://www.w3.org/TR/html4/</span>\n",
       "<span style=\"color: #008000; text-decoration-color: #008000\">...</span>\n",
       "<span style=\"color: #008000; text-decoration-color: #008000\">nte do exposto, conclui-se este relat&amp;oacute;rio </span>\n",
       "<span style=\"color: #008000; text-decoration-color: #008000\">de\\n\\t\\tatividades.\\n\\t</span><span style=\"color: #008000; text-decoration-color: #008000; font-weight: bold\">&lt;</span><span style=\"color: #008000; text-decoration-color: #008000\">/p</span><span style=\"color: #008000; text-decoration-color: #008000; font-weight: bold\">&gt;</span><span style=\"color: #008000; text-decoration-color: #008000\">\\n\\n</span><span style=\"color: #008000; text-decoration-color: #008000; font-weight: bold\">&lt;</span><span style=\"color: #008000; text-decoration-color: #008000\">/body</span><span style=\"color: #008000; text-decoration-color: #008000; font-weight: bold\">&gt;</span><span style=\"color: #008000; text-decoration-color: #008000\">\\n\\n</span><span style=\"color: #008000; text-decoration-color: #008000; font-weight: bold\">&lt;</span><span style=\"color: #008000; text-decoration-color: #008000\">/html</span><span style=\"color: #008000; text-decoration-color: #008000; font-weight: bold\">&gt;</span><span style=\"color: #008000; text-decoration-color: #008000\">'</span><span style=\"color: #008000; text-decoration-color: #008000; font-weight: bold\">}</span>\n",
       "</pre>\n"
      ],
      "text/plain": [
       "\u001b[34mHtml \u001b[0m\u001b[31m-> \u001b[0m\u001b[1;32m{\u001b[0m\u001b[32m'id'\u001b[0m\u001b[32m: \u001b[0m\u001b[1;32m537\u001b[0m\u001b[32m, \u001b[0m\u001b[32m'value'\u001b[0m\u001b[32m: '<!DOCTYPE html PUBLIC \u001b[0m\u001b[32m\"-//W3C//DTD HTML 4.01//EN\"\u001b[0m\u001b[32m \u001b[0m\n",
       "\u001b[32m\"\u001b[0m\u001b[4;32mhttp://www.w3.org/TR/html4/\u001b[0m\n",
       "\u001b[32m...\u001b[0m\n",
       "\u001b[32mnte do exposto, conclui-se este relat&oacute;rio \u001b[0m\n",
       "\u001b[32mde\\n\\t\\tatividades.\\n\\t\u001b[0m\u001b[1;32m<\u001b[0m\u001b[32m/\u001b[0m\u001b[32mp\u001b[0m\u001b[1;32m>\u001b[0m\u001b[32m\\n\\n\u001b[0m\u001b[1;32m<\u001b[0m\u001b[32m/\u001b[0m\u001b[32mbody\u001b[0m\u001b[1;32m>\u001b[0m\u001b[32m\\n\\n\u001b[0m\u001b[1;32m<\u001b[0m\u001b[32m/\u001b[0m\u001b[32mhtml\u001b[0m\u001b[1;32m>\u001b[0m\u001b[32m'\u001b[0m\u001b[1;32m}\u001b[0m\n"
      ]
     },
     "metadata": {},
     "output_type": "display_data"
    },
    {
     "data": {
      "text/html": [
       "<pre style=\"white-space:pre;overflow-x:auto;line-height:normal;font-family:Menlo,'DejaVu Sans Mono',consolas,'Courier New',monospace\"><span style=\"color: #000080; text-decoration-color: #000080\">Gerar_Relatorio </span><span style=\"color: #800000; text-decoration-color: #800000\">-&gt; </span><span style=\"color: #008000; text-decoration-color: #008000; font-weight: bold\">{</span><span style=\"color: #008000; text-decoration-color: #008000\">'id'</span><span style=\"color: #008000; text-decoration-color: #008000\">: </span><span style=\"color: #008000; text-decoration-color: #008000; font-weight: bold\">534</span><span style=\"color: #008000; text-decoration-color: #008000\">, </span><span style=\"color: #008000; text-decoration-color: #008000\">'value'</span><span style=\"color: #008000; text-decoration-color: #008000\">: </span><span style=\"color: #008000; text-decoration-color: #008000; font-weight: bold\">1</span><span style=\"color: #008000; text-decoration-color: #008000; font-weight: bold\">}</span>\n",
       "</pre>\n"
      ],
      "text/plain": [
       "\u001b[34mGerar_Relatorio \u001b[0m\u001b[31m-> \u001b[0m\u001b[1;32m{\u001b[0m\u001b[32m'id'\u001b[0m\u001b[32m: \u001b[0m\u001b[1;32m534\u001b[0m\u001b[32m, \u001b[0m\u001b[32m'value'\u001b[0m\u001b[32m: \u001b[0m\u001b[1;32m1\u001b[0m\u001b[1;32m}\u001b[0m\n"
      ]
     },
     "metadata": {},
     "output_type": "display_data"
    },
    {
     "data": {
      "text/html": [
       "<pre style=\"white-space:pre;overflow-x:auto;line-height:normal;font-family:Menlo,'DejaVu Sans Mono',consolas,'Courier New',monospace\"><span style=\"color: #000080; text-decoration-color: #000080\">Frequencia_Inicial </span><span style=\"color: #800000; text-decoration-color: #800000\">-&gt; </span><span style=\"color: #008000; text-decoration-color: #008000; font-weight: bold\">{</span><span style=\"color: #008000; text-decoration-color: #008000\">'id'</span><span style=\"color: #008000; text-decoration-color: #008000\">: </span><span style=\"color: #008000; text-decoration-color: #008000; font-weight: bold\">156</span><span style=\"color: #008000; text-decoration-color: #008000\">, </span><span style=\"color: #008000; text-decoration-color: #008000\">'value'</span><span style=\"color: #008000; text-decoration-color: #008000\">: </span><span style=\"color: #008000; text-decoration-color: #008000; font-weight: bold\">54</span><span style=\"color: #008000; text-decoration-color: #008000; font-weight: bold\">}</span>\n",
       "</pre>\n"
      ],
      "text/plain": [
       "\u001b[34mFrequencia_Inicial \u001b[0m\u001b[31m-> \u001b[0m\u001b[1;32m{\u001b[0m\u001b[32m'id'\u001b[0m\u001b[32m: \u001b[0m\u001b[1;32m156\u001b[0m\u001b[32m, \u001b[0m\u001b[32m'value'\u001b[0m\u001b[32m: \u001b[0m\u001b[1;32m54\u001b[0m\u001b[1;32m}\u001b[0m\n"
      ]
     },
     "metadata": {},
     "output_type": "display_data"
    },
    {
     "data": {
      "text/html": [
       "<pre style=\"white-space:pre;overflow-x:auto;line-height:normal;font-family:Menlo,'DejaVu Sans Mono',consolas,'Courier New',monospace\"><span style=\"color: #000080; text-decoration-color: #000080\">Unidade_da_Frequencia_Inicial </span><span style=\"color: #800000; text-decoration-color: #800000\">-&gt; </span><span style=\"color: #008000; text-decoration-color: #008000; font-weight: bold\">{</span><span style=\"color: #008000; text-decoration-color: #008000\">'id'</span><span style=\"color: #008000; text-decoration-color: #008000\">: </span><span style=\"color: #008000; text-decoration-color: #008000; font-weight: bold\">157</span><span style=\"color: #008000; text-decoration-color: #008000\">, </span><span style=\"color: #008000; text-decoration-color: #008000\">'value'</span><span style=\"color: #008000; text-decoration-color: #008000\">: </span><span style=\"color: #008000; text-decoration-color: #008000\">'MHz'</span><span style=\"color: #008000; text-decoration-color: #008000; font-weight: bold\">}</span>\n",
       "</pre>\n"
      ],
      "text/plain": [
       "\u001b[34mUnidade_da_Frequencia_Inicial \u001b[0m\u001b[31m-> \u001b[0m\u001b[1;32m{\u001b[0m\u001b[32m'id'\u001b[0m\u001b[32m: \u001b[0m\u001b[1;32m157\u001b[0m\u001b[32m, \u001b[0m\u001b[32m'value'\u001b[0m\u001b[32m: \u001b[0m\u001b[32m'MHz'\u001b[0m\u001b[1;32m}\u001b[0m\n"
      ]
     },
     "metadata": {},
     "output_type": "display_data"
    },
    {
     "data": {
      "text/html": [
       "<pre style=\"white-space:pre;overflow-x:auto;line-height:normal;font-family:Menlo,'DejaVu Sans Mono',consolas,'Courier New',monospace\"><span style=\"color: #000080; text-decoration-color: #000080\">Frequencia_Final </span><span style=\"color: #800000; text-decoration-color: #800000\">-&gt; </span><span style=\"color: #008000; text-decoration-color: #008000; font-weight: bold\">{</span><span style=\"color: #008000; text-decoration-color: #008000\">'id'</span><span style=\"color: #008000; text-decoration-color: #008000\">: </span><span style=\"color: #008000; text-decoration-color: #008000; font-weight: bold\">158</span><span style=\"color: #008000; text-decoration-color: #008000\">, </span><span style=\"color: #008000; text-decoration-color: #008000\">'value'</span><span style=\"color: #008000; text-decoration-color: #008000\">: </span><span style=\"color: #008000; text-decoration-color: #008000; font-weight: bold\">700</span><span style=\"color: #008000; text-decoration-color: #008000; font-weight: bold\">}</span>\n",
       "</pre>\n"
      ],
      "text/plain": [
       "\u001b[34mFrequencia_Final \u001b[0m\u001b[31m-> \u001b[0m\u001b[1;32m{\u001b[0m\u001b[32m'id'\u001b[0m\u001b[32m: \u001b[0m\u001b[1;32m158\u001b[0m\u001b[32m, \u001b[0m\u001b[32m'value'\u001b[0m\u001b[32m: \u001b[0m\u001b[1;32m700\u001b[0m\u001b[1;32m}\u001b[0m\n"
      ]
     },
     "metadata": {},
     "output_type": "display_data"
    },
    {
     "data": {
      "text/html": [
       "<pre style=\"white-space:pre;overflow-x:auto;line-height:normal;font-family:Menlo,'DejaVu Sans Mono',consolas,'Courier New',monospace\"><span style=\"color: #000080; text-decoration-color: #000080\">Unidade_da_Frequencia_Final </span><span style=\"color: #800000; text-decoration-color: #800000\">-&gt; </span><span style=\"color: #008000; text-decoration-color: #008000; font-weight: bold\">{</span><span style=\"color: #008000; text-decoration-color: #008000\">'id'</span><span style=\"color: #008000; text-decoration-color: #008000\">: </span><span style=\"color: #008000; text-decoration-color: #008000; font-weight: bold\">159</span><span style=\"color: #008000; text-decoration-color: #008000\">, </span><span style=\"color: #008000; text-decoration-color: #008000\">'value'</span><span style=\"color: #008000; text-decoration-color: #008000\">: </span><span style=\"color: #008000; text-decoration-color: #008000\">'MHz'</span><span style=\"color: #008000; text-decoration-color: #008000; font-weight: bold\">}</span>\n",
       "</pre>\n"
      ],
      "text/plain": [
       "\u001b[34mUnidade_da_Frequencia_Final \u001b[0m\u001b[31m-> \u001b[0m\u001b[1;32m{\u001b[0m\u001b[32m'id'\u001b[0m\u001b[32m: \u001b[0m\u001b[1;32m159\u001b[0m\u001b[32m, \u001b[0m\u001b[32m'value'\u001b[0m\u001b[32m: \u001b[0m\u001b[32m'MHz'\u001b[0m\u001b[1;32m}\u001b[0m\n"
      ]
     },
     "metadata": {},
     "output_type": "display_data"
    },
    {
     "data": {
      "text/html": [
       "<pre style=\"white-space:pre;overflow-x:auto;line-height:normal;font-family:Menlo,'DejaVu Sans Mono',consolas,'Courier New',monospace\"><span style=\"color: #000080; text-decoration-color: #000080\">Data_de_Inicio </span><span style=\"color: #800000; text-decoration-color: #800000\">-&gt; </span><span style=\"color: #008000; text-decoration-color: #008000; font-weight: bold\">2021</span><span style=\"color: #008000; text-decoration-color: #008000\">-</span><span style=\"color: #008000; text-decoration-color: #008000; font-weight: bold\">03</span><span style=\"color: #008000; text-decoration-color: #008000\">-</span><span style=\"color: #008000; text-decoration-color: #008000; font-weight: bold\">19</span>\n",
       "</pre>\n"
      ],
      "text/plain": [
       "\u001b[34mData_de_Inicio \u001b[0m\u001b[31m-> \u001b[0m\u001b[1;32m2021\u001b[0m\u001b[32m-\u001b[0m\u001b[1;32m03\u001b[0m\u001b[32m-\u001b[0m\u001b[1;32m19\u001b[0m\n"
      ]
     },
     "metadata": {},
     "output_type": "display_data"
    },
    {
     "data": {
      "text/html": [
       "<pre style=\"white-space:pre;overflow-x:auto;line-height:normal;font-family:Menlo,'DejaVu Sans Mono',consolas,'Courier New',monospace\"><span style=\"color: #000080; text-decoration-color: #000080\">Data_Limite </span><span style=\"color: #800000; text-decoration-color: #800000\">-&gt; </span><span style=\"color: #008000; text-decoration-color: #008000; font-weight: bold\">2021</span><span style=\"color: #008000; text-decoration-color: #008000\">-</span><span style=\"color: #008000; text-decoration-color: #008000; font-weight: bold\">12</span><span style=\"color: #008000; text-decoration-color: #008000\">-</span><span style=\"color: #008000; text-decoration-color: #008000; font-weight: bold\">31</span>\n",
       "</pre>\n"
      ],
      "text/plain": [
       "\u001b[34mData_Limite \u001b[0m\u001b[31m-> \u001b[0m\u001b[1;32m2021\u001b[0m\u001b[32m-\u001b[0m\u001b[1;32m12\u001b[0m\u001b[32m-\u001b[0m\u001b[1;32m31\u001b[0m\n"
      ]
     },
     "metadata": {},
     "output_type": "display_data"
    },
    {
     "data": {
      "text/html": [
       "<pre style=\"white-space:pre;overflow-x:auto;line-height:normal;font-family:Menlo,'DejaVu Sans Mono',consolas,'Courier New',monospace\"><span style=\"color: #000080; text-decoration-color: #000080\">UF_Municipio </span><span style=\"color: #800000; text-decoration-color: #800000\">-&gt; </span><span style=\"color: #008000; text-decoration-color: #008000; font-weight: bold\">{</span><span style=\"color: #008000; text-decoration-color: #008000\">'id'</span><span style=\"color: #008000; text-decoration-color: #008000\">: </span><span style=\"color: #008000; text-decoration-color: #008000; font-weight: bold\">31</span><span style=\"color: #008000; text-decoration-color: #008000\">, </span><span style=\"color: #008000; text-decoration-color: #008000\">'value'</span><span style=\"color: #008000; text-decoration-color: #008000\">: </span><span style=\"color: #008000; text-decoration-color: #008000; font-weight: bold\">[</span><span style=\"color: #008000; text-decoration-color: #008000\">'{\"valor\":\"SP/São Paulo\",\"texto\":\"SP/São Paulo\"}'</span><span style=\"color: #008000; text-decoration-color: #008000; font-weight: bold\">]}</span>\n",
       "</pre>\n"
      ],
      "text/plain": [
       "\u001b[34mUF_Municipio \u001b[0m\u001b[31m-> \u001b[0m\u001b[1;32m{\u001b[0m\u001b[32m'id'\u001b[0m\u001b[32m: \u001b[0m\u001b[1;32m31\u001b[0m\u001b[32m, \u001b[0m\u001b[32m'value'\u001b[0m\u001b[32m: \u001b[0m\u001b[1;32m[\u001b[0m\u001b[32m'\u001b[0m\u001b[32m{\u001b[0m\u001b[32m\"valor\":\"SP/São Paulo\",\"texto\":\"SP/São Paulo\"\u001b[0m\u001b[32m}\u001b[0m\u001b[32m'\u001b[0m\u001b[1;32m]\u001b[0m\u001b[1;32m}\u001b[0m\n"
      ]
     },
     "metadata": {},
     "output_type": "display_data"
    },
    {
     "data": {
      "text/html": [
       "<pre style=\"white-space:pre;overflow-x:auto;line-height:normal;font-family:Menlo,'DejaVu Sans Mono',consolas,'Courier New',monospace\"><span style=\"color: #000080; text-decoration-color: #000080\">Servicos_da_Inspecao </span><span style=\"color: #800000; text-decoration-color: #800000\">-&gt; </span><span style=\"color: #008000; text-decoration-color: #008000; font-weight: bold\">{</span><span style=\"color: #008000; text-decoration-color: #008000\">'id'</span><span style=\"color: #008000; text-decoration-color: #008000\">: </span><span style=\"color: #008000; text-decoration-color: #008000; font-weight: bold\">57</span><span style=\"color: #008000; text-decoration-color: #008000\">, </span><span style=\"color: #008000; text-decoration-color: #008000\">'value'</span><span style=\"color: #008000; text-decoration-color: #008000\">: </span><span style=\"color: #008000; text-decoration-color: #008000; font-weight: bold\">[</span><span style=\"color: #008000; text-decoration-color: #008000\">'{\"valor\":\"230 - COLETIVO - RADIODIFUSÃO SONORA </span>\n",
       "<span style=\"color: #008000; text-decoration-color: #008000\">EM FREQÜÊNCIA MODULADA\",\"texto\":\"230 - COLETIVO - RADIODIFUSÃO SONORA EM FREQÜÊNCIA </span>\n",
       "<span style=\"color: #008000; text-decoration-color: #008000\">MODULADA\"}'</span><span style=\"color: #008000; text-decoration-color: #008000\">, </span><span style=\"color: #008000; text-decoration-color: #008000\">'{\"valor\":\"231 - COLETIVO - RADIODIFUSÃO COMUNITÁRIA\",\"texto\":\"231 - COLETIVO - </span>\n",
       "<span style=\"color: #008000; text-decoration-color: #008000\">RADIODIFUSÃO COMUNITÁRIA\"}'</span><span style=\"color: #008000; text-decoration-color: #008000\">, </span><span style=\"color: #008000; text-decoration-color: #008000\">'{\"valor\":\"800 - COLETIVO - RETRANSMISSAO DE T.V.\",\"texto\":\"800 </span>\n",
       "<span style=\"color: #008000; text-decoration-color: #008000\">- COLETIVO - RETRANSMISSAO DE T.V.\"}'</span><span style=\"color: #008000; text-decoration-color: #008000; font-weight: bold\">]}</span>\n",
       "</pre>\n"
      ],
      "text/plain": [
       "\u001b[34mServicos_da_Inspecao \u001b[0m\u001b[31m-> \u001b[0m\u001b[1;32m{\u001b[0m\u001b[32m'id'\u001b[0m\u001b[32m: \u001b[0m\u001b[1;32m57\u001b[0m\u001b[32m, \u001b[0m\u001b[32m'value'\u001b[0m\u001b[32m: \u001b[0m\u001b[1;32m[\u001b[0m\u001b[32m'\u001b[0m\u001b[32m{\u001b[0m\u001b[32m\"valor\":\"230 - COLETIVO - RADIODIFUSÃO SONORA \u001b[0m\n",
       "\u001b[32mEM FREQÜÊNCIA MODULADA\",\"texto\":\"230 - COLETIVO - RADIODIFUSÃO SONORA EM FREQÜÊNCIA \u001b[0m\n",
       "\u001b[32mMODULADA\"\u001b[0m\u001b[32m}\u001b[0m\u001b[32m'\u001b[0m\u001b[32m, \u001b[0m\u001b[32m'\u001b[0m\u001b[32m{\u001b[0m\u001b[32m\"valor\":\"231 - COLETIVO - RADIODIFUSÃO COMUNITÁRIA\",\"texto\":\"231 - COLETIVO - \u001b[0m\n",
       "\u001b[32mRADIODIFUSÃO COMUNITÁRIA\"\u001b[0m\u001b[32m}\u001b[0m\u001b[32m'\u001b[0m\u001b[32m, \u001b[0m\u001b[32m'\u001b[0m\u001b[32m{\u001b[0m\u001b[32m\"valor\":\"800 - COLETIVO - RETRANSMISSAO DE T.V.\",\"texto\":\"800 \u001b[0m\n",
       "\u001b[32m- COLETIVO - RETRANSMISSAO DE T.V.\"\u001b[0m\u001b[32m}\u001b[0m\u001b[32m'\u001b[0m\u001b[1;32m]\u001b[0m\u001b[1;32m}\u001b[0m\n"
      ]
     },
     "metadata": {},
     "output_type": "display_data"
    },
    {
     "data": {
      "text/html": [
       "<pre style=\"white-space:pre;overflow-x:auto;line-height:normal;font-family:Menlo,'DejaVu Sans Mono',consolas,'Courier New',monospace\"><span style=\"color: #000080; text-decoration-color: #000080\">Qnt_de_emissoes_na_faixa </span><span style=\"color: #800000; text-decoration-color: #800000\">-&gt; </span><span style=\"color: #008000; text-decoration-color: #008000; font-weight: bold\">{</span><span style=\"color: #008000; text-decoration-color: #008000\">'id'</span><span style=\"color: #008000; text-decoration-color: #008000\">: </span><span style=\"color: #008000; text-decoration-color: #008000; font-weight: bold\">69</span><span style=\"color: #008000; text-decoration-color: #008000\">, </span><span style=\"color: #008000; text-decoration-color: #008000\">'value'</span><span style=\"color: #008000; text-decoration-color: #008000\">: </span><span style=\"color: #008000; text-decoration-color: #008000; font-weight: bold\">12</span><span style=\"color: #008000; text-decoration-color: #008000; font-weight: bold\">}</span>\n",
       "</pre>\n"
      ],
      "text/plain": [
       "\u001b[34mQnt_de_emissoes_na_faixa \u001b[0m\u001b[31m-> \u001b[0m\u001b[1;32m{\u001b[0m\u001b[32m'id'\u001b[0m\u001b[32m: \u001b[0m\u001b[1;32m69\u001b[0m\u001b[32m, \u001b[0m\u001b[32m'value'\u001b[0m\u001b[32m: \u001b[0m\u001b[1;32m12\u001b[0m\u001b[1;32m}\u001b[0m\n"
      ]
     },
     "metadata": {},
     "output_type": "display_data"
    },
    {
     "data": {
      "text/html": [
       "<pre style=\"white-space:pre;overflow-x:auto;line-height:normal;font-family:Menlo,'DejaVu Sans Mono',consolas,'Courier New',monospace\"><span style=\"color: #000080; text-decoration-color: #000080\">Emissoes_nao_autorizadas </span><span style=\"color: #800000; text-decoration-color: #800000\">-&gt; </span><span style=\"color: #008000; text-decoration-color: #008000; font-weight: bold\">{</span><span style=\"color: #008000; text-decoration-color: #008000\">'id'</span><span style=\"color: #008000; text-decoration-color: #008000\">: </span><span style=\"color: #008000; text-decoration-color: #008000; font-weight: bold\">70</span><span style=\"color: #008000; text-decoration-color: #008000\">, </span><span style=\"color: #008000; text-decoration-color: #008000\">'value'</span><span style=\"color: #008000; text-decoration-color: #008000\">: </span><span style=\"color: #008000; text-decoration-color: #008000; font-weight: bold\">70</span><span style=\"color: #008000; text-decoration-color: #008000; font-weight: bold\">}</span>\n",
       "</pre>\n"
      ],
      "text/plain": [
       "\u001b[34mEmissoes_nao_autorizadas \u001b[0m\u001b[31m-> \u001b[0m\u001b[1;32m{\u001b[0m\u001b[32m'id'\u001b[0m\u001b[32m: \u001b[0m\u001b[1;32m70\u001b[0m\u001b[32m, \u001b[0m\u001b[32m'value'\u001b[0m\u001b[32m: \u001b[0m\u001b[1;32m70\u001b[0m\u001b[1;32m}\u001b[0m\n"
      ]
     },
     "metadata": {},
     "output_type": "display_data"
    },
    {
     "data": {
      "text/html": [
       "<pre style=\"white-space:pre;overflow-x:auto;line-height:normal;font-family:Menlo,'DejaVu Sans Mono',consolas,'Courier New',monospace\"><span style=\"color: #000080; text-decoration-color: #000080\">Horas_de_Preparacao </span><span style=\"color: #800000; text-decoration-color: #800000\">-&gt; </span><span style=\"color: #008000; text-decoration-color: #008000; font-weight: bold\">{</span><span style=\"color: #008000; text-decoration-color: #008000\">'id'</span><span style=\"color: #008000; text-decoration-color: #008000\">: </span><span style=\"color: #008000; text-decoration-color: #008000; font-weight: bold\">91</span><span style=\"color: #008000; text-decoration-color: #008000\">, </span><span style=\"color: #008000; text-decoration-color: #008000\">'value'</span><span style=\"color: #008000; text-decoration-color: #008000\">: </span><span style=\"color: #008000; text-decoration-color: #008000; font-weight: bold\">2</span><span style=\"color: #008000; text-decoration-color: #008000; font-weight: bold\">}</span>\n",
       "</pre>\n"
      ],
      "text/plain": [
       "\u001b[34mHoras_de_Preparacao \u001b[0m\u001b[31m-> \u001b[0m\u001b[1;32m{\u001b[0m\u001b[32m'id'\u001b[0m\u001b[32m: \u001b[0m\u001b[1;32m91\u001b[0m\u001b[32m, \u001b[0m\u001b[32m'value'\u001b[0m\u001b[32m: \u001b[0m\u001b[1;32m2\u001b[0m\u001b[1;32m}\u001b[0m\n"
      ]
     },
     "metadata": {},
     "output_type": "display_data"
    },
    {
     "data": {
      "text/html": [
       "<pre style=\"white-space:pre;overflow-x:auto;line-height:normal;font-family:Menlo,'DejaVu Sans Mono',consolas,'Courier New',monospace\"><span style=\"color: #000080; text-decoration-color: #000080\">Horas_de_Deslocamento </span><span style=\"color: #800000; text-decoration-color: #800000\">-&gt; </span><span style=\"color: #008000; text-decoration-color: #008000; font-weight: bold\">{</span><span style=\"color: #008000; text-decoration-color: #008000\">'id'</span><span style=\"color: #008000; text-decoration-color: #008000\">: </span><span style=\"color: #008000; text-decoration-color: #008000; font-weight: bold\">92</span><span style=\"color: #008000; text-decoration-color: #008000\">, </span><span style=\"color: #008000; text-decoration-color: #008000\">'value'</span><span style=\"color: #008000; text-decoration-color: #008000\">: </span><span style=\"color: #008000; text-decoration-color: #008000; font-weight: bold\">0</span><span style=\"color: #008000; text-decoration-color: #008000; font-weight: bold\">}</span>\n",
       "</pre>\n"
      ],
      "text/plain": [
       "\u001b[34mHoras_de_Deslocamento \u001b[0m\u001b[31m-> \u001b[0m\u001b[1;32m{\u001b[0m\u001b[32m'id'\u001b[0m\u001b[32m: \u001b[0m\u001b[1;32m92\u001b[0m\u001b[32m, \u001b[0m\u001b[32m'value'\u001b[0m\u001b[32m: \u001b[0m\u001b[1;32m0\u001b[0m\u001b[1;32m}\u001b[0m\n"
      ]
     },
     "metadata": {},
     "output_type": "display_data"
    },
    {
     "data": {
      "text/html": [
       "<pre style=\"white-space:pre;overflow-x:auto;line-height:normal;font-family:Menlo,'DejaVu Sans Mono',consolas,'Courier New',monospace\"><span style=\"color: #000080; text-decoration-color: #000080\">Horas_de_Execucao </span><span style=\"color: #800000; text-decoration-color: #800000\">-&gt; </span><span style=\"color: #008000; text-decoration-color: #008000; font-weight: bold\">{</span><span style=\"color: #008000; text-decoration-color: #008000\">'id'</span><span style=\"color: #008000; text-decoration-color: #008000\">: </span><span style=\"color: #008000; text-decoration-color: #008000; font-weight: bold\">93</span><span style=\"color: #008000; text-decoration-color: #008000\">, </span><span style=\"color: #008000; text-decoration-color: #008000\">'value'</span><span style=\"color: #008000; text-decoration-color: #008000\">: </span><span style=\"color: #008000; text-decoration-color: #008000; font-weight: bold\">32</span><span style=\"color: #008000; text-decoration-color: #008000; font-weight: bold\">}</span>\n",
       "</pre>\n"
      ],
      "text/plain": [
       "\u001b[34mHoras_de_Execucao \u001b[0m\u001b[31m-> \u001b[0m\u001b[1;32m{\u001b[0m\u001b[32m'id'\u001b[0m\u001b[32m: \u001b[0m\u001b[1;32m93\u001b[0m\u001b[32m, \u001b[0m\u001b[32m'value'\u001b[0m\u001b[32m: \u001b[0m\u001b[1;32m32\u001b[0m\u001b[1;32m}\u001b[0m\n"
      ]
     },
     "metadata": {},
     "output_type": "display_data"
    },
    {
     "data": {
      "text/html": [
       "<pre style=\"white-space:pre;overflow-x:auto;line-height:normal;font-family:Menlo,'DejaVu Sans Mono',consolas,'Courier New',monospace\"><span style=\"color: #000080; text-decoration-color: #000080\">Horas_de_Conclusao </span><span style=\"color: #800000; text-decoration-color: #800000\">-&gt; </span><span style=\"color: #008000; text-decoration-color: #008000; font-weight: bold\">{</span><span style=\"color: #008000; text-decoration-color: #008000\">'id'</span><span style=\"color: #008000; text-decoration-color: #008000\">: </span><span style=\"color: #008000; text-decoration-color: #008000; font-weight: bold\">94</span><span style=\"color: #008000; text-decoration-color: #008000\">, </span><span style=\"color: #008000; text-decoration-color: #008000\">'value'</span><span style=\"color: #008000; text-decoration-color: #008000\">: </span><span style=\"color: #008000; text-decoration-color: #008000; font-weight: bold\">6</span><span style=\"color: #008000; text-decoration-color: #008000; font-weight: bold\">}</span>\n",
       "</pre>\n"
      ],
      "text/plain": [
       "\u001b[34mHoras_de_Conclusao \u001b[0m\u001b[31m-> \u001b[0m\u001b[1;32m{\u001b[0m\u001b[32m'id'\u001b[0m\u001b[32m: \u001b[0m\u001b[1;32m94\u001b[0m\u001b[32m, \u001b[0m\u001b[32m'value'\u001b[0m\u001b[32m: \u001b[0m\u001b[1;32m6\u001b[0m\u001b[1;32m}\u001b[0m\n"
      ]
     },
     "metadata": {},
     "output_type": "display_data"
    },
    {
     "data": {
      "text/html": [
       "<pre style=\"white-space:pre;overflow-x:auto;line-height:normal;font-family:Menlo,'DejaVu Sans Mono',consolas,'Courier New',monospace\"><span style=\"color: #000080; text-decoration-color: #000080\">Latitude </span><span style=\"color: #800000; text-decoration-color: #800000\">-&gt; </span><span style=\"color: #008000; text-decoration-color: #008000; font-weight: bold\">{</span><span style=\"color: #008000; text-decoration-color: #008000\">'id'</span><span style=\"color: #008000; text-decoration-color: #008000\">: </span><span style=\"color: #008000; text-decoration-color: #008000; font-weight: bold\">170</span><span style=\"color: #008000; text-decoration-color: #008000\">, </span><span style=\"color: #008000; text-decoration-color: #008000\">'value'</span><span style=\"color: #008000; text-decoration-color: #008000\">: </span><span style=\"color: #008000; text-decoration-color: #008000; font-weight: bold\">-22.94694</span><span style=\"color: #008000; text-decoration-color: #008000; font-weight: bold\">}</span>\n",
       "</pre>\n"
      ],
      "text/plain": [
       "\u001b[34mLatitude \u001b[0m\u001b[31m-> \u001b[0m\u001b[1;32m{\u001b[0m\u001b[32m'id'\u001b[0m\u001b[32m: \u001b[0m\u001b[1;32m170\u001b[0m\u001b[32m, \u001b[0m\u001b[32m'value'\u001b[0m\u001b[32m: \u001b[0m\u001b[1;32m-22.94694\u001b[0m\u001b[1;32m}\u001b[0m\n"
      ]
     },
     "metadata": {},
     "output_type": "display_data"
    },
    {
     "data": {
      "text/html": [
       "<pre style=\"white-space:pre;overflow-x:auto;line-height:normal;font-family:Menlo,'DejaVu Sans Mono',consolas,'Courier New',monospace\"><span style=\"color: #000080; text-decoration-color: #000080\">Longitude </span><span style=\"color: #800000; text-decoration-color: #800000\">-&gt; </span><span style=\"color: #008000; text-decoration-color: #008000; font-weight: bold\">{</span><span style=\"color: #008000; text-decoration-color: #008000\">'id'</span><span style=\"color: #008000; text-decoration-color: #008000\">: </span><span style=\"color: #008000; text-decoration-color: #008000; font-weight: bold\">171</span><span style=\"color: #008000; text-decoration-color: #008000\">, </span><span style=\"color: #008000; text-decoration-color: #008000\">'value'</span><span style=\"color: #008000; text-decoration-color: #008000\">: </span><span style=\"color: #008000; text-decoration-color: #008000; font-weight: bold\">-43.21944</span><span style=\"color: #008000; text-decoration-color: #008000; font-weight: bold\">}</span>\n",
       "</pre>\n"
      ],
      "text/plain": [
       "\u001b[34mLongitude \u001b[0m\u001b[31m-> \u001b[0m\u001b[1;32m{\u001b[0m\u001b[32m'id'\u001b[0m\u001b[32m: \u001b[0m\u001b[1;32m171\u001b[0m\u001b[32m, \u001b[0m\u001b[32m'value'\u001b[0m\u001b[32m: \u001b[0m\u001b[1;32m-43.21944\u001b[0m\u001b[1;32m}\u001b[0m\n"
      ]
     },
     "metadata": {},
     "output_type": "display_data"
    },
    {
     "data": {
      "text/html": [
       "<pre style=\"white-space:pre;overflow-x:auto;line-height:normal;font-family:Menlo,'DejaVu Sans Mono',consolas,'Courier New',monospace\"><span style=\"color: #000080; text-decoration-color: #000080\">Uso_de_PF </span><span style=\"color: #800000; text-decoration-color: #800000\">-&gt; </span><span style=\"color: #008000; text-decoration-color: #008000; font-weight: bold\">{</span><span style=\"color: #008000; text-decoration-color: #008000\">'id'</span><span style=\"color: #008000; text-decoration-color: #008000\">: </span><span style=\"color: #008000; text-decoration-color: #008000; font-weight: bold\">151</span><span style=\"color: #008000; text-decoration-color: #008000\">, </span><span style=\"color: #008000; text-decoration-color: #008000\">'value'</span><span style=\"color: #008000; text-decoration-color: #008000\">: </span><span style=\"color: #008000; text-decoration-color: #008000\">'Não se aplica PF - uso apenas de formulários'</span><span style=\"color: #008000; text-decoration-color: #008000; font-weight: bold\">}</span>\n",
       "</pre>\n"
      ],
      "text/plain": [
       "\u001b[34mUso_de_PF \u001b[0m\u001b[31m-> \u001b[0m\u001b[1;32m{\u001b[0m\u001b[32m'id'\u001b[0m\u001b[32m: \u001b[0m\u001b[1;32m151\u001b[0m\u001b[32m, \u001b[0m\u001b[32m'value'\u001b[0m\u001b[32m: \u001b[0m\u001b[32m'Não se aplica PF - uso apenas de formulários'\u001b[0m\u001b[1;32m}\u001b[0m\n"
      ]
     },
     "metadata": {},
     "output_type": "display_data"
    },
    {
     "data": {
      "text/html": [
       "<pre style=\"white-space:pre;overflow-x:auto;line-height:normal;font-family:Menlo,'DejaVu Sans Mono',consolas,'Courier New',monospace\"><span style=\"color: #000080; text-decoration-color: #000080\">Acao_de_risco_a_vida_criada </span><span style=\"color: #800000; text-decoration-color: #800000\">-&gt; </span><span style=\"color: #008000; text-decoration-color: #008000; font-weight: bold\">{</span><span style=\"color: #008000; text-decoration-color: #008000\">'id'</span><span style=\"color: #008000; text-decoration-color: #008000\">: </span><span style=\"color: #008000; text-decoration-color: #008000; font-weight: bold\">154</span><span style=\"color: #008000; text-decoration-color: #008000\">, </span><span style=\"color: #008000; text-decoration-color: #008000\">'value'</span><span style=\"color: #008000; text-decoration-color: #008000\">: </span><span style=\"color: #008000; text-decoration-color: #008000\">'Não'</span><span style=\"color: #008000; text-decoration-color: #008000; font-weight: bold\">}</span>\n",
       "</pre>\n"
      ],
      "text/plain": [
       "\u001b[34mAcao_de_risco_a_vida_criada \u001b[0m\u001b[31m-> \u001b[0m\u001b[1;32m{\u001b[0m\u001b[32m'id'\u001b[0m\u001b[32m: \u001b[0m\u001b[1;32m154\u001b[0m\u001b[32m, \u001b[0m\u001b[32m'value'\u001b[0m\u001b[32m: \u001b[0m\u001b[32m'Não'\u001b[0m\u001b[1;32m}\u001b[0m\n"
      ]
     },
     "metadata": {},
     "output_type": "display_data"
    },
    {
     "data": {
      "text/html": [
       "<pre style=\"white-space:pre;overflow-x:auto;line-height:normal;font-family:Menlo,'DejaVu Sans Mono',consolas,'Courier New',monospace\"><span style=\"color: #000080; text-decoration-color: #000080\">Impossibilidade_acesso_online </span><span style=\"color: #800000; text-decoration-color: #800000\">-&gt; </span><span style=\"color: #008000; text-decoration-color: #008000; font-weight: bold\">{</span><span style=\"color: #008000; text-decoration-color: #008000\">'id'</span><span style=\"color: #008000; text-decoration-color: #008000\">: </span><span style=\"color: #008000; text-decoration-color: #008000; font-weight: bold\">450</span><span style=\"color: #008000; text-decoration-color: #008000\">, </span><span style=\"color: #008000; text-decoration-color: #008000\">'value'</span><span style=\"color: #008000; text-decoration-color: #008000\">: </span><span style=\"color: #008000; text-decoration-color: #008000\">'0'</span><span style=\"color: #008000; text-decoration-color: #008000; font-weight: bold\">}</span>\n",
       "</pre>\n"
      ],
      "text/plain": [
       "\u001b[34mImpossibilidade_acesso_online \u001b[0m\u001b[31m-> \u001b[0m\u001b[1;32m{\u001b[0m\u001b[32m'id'\u001b[0m\u001b[32m: \u001b[0m\u001b[1;32m450\u001b[0m\u001b[32m, \u001b[0m\u001b[32m'value'\u001b[0m\u001b[32m: \u001b[0m\u001b[32m'0'\u001b[0m\u001b[1;32m}\u001b[0m\n"
      ]
     },
     "metadata": {},
     "output_type": "display_data"
    },
    {
     "data": {
      "text/html": [
       "<pre style=\"white-space:pre;overflow-x:auto;line-height:normal;font-family:Menlo,'DejaVu Sans Mono',consolas,'Courier New',monospace\"><span style=\"color: #000080; text-decoration-color: #000080\">Reservar_Instrumentos </span><span style=\"color: #800000; text-decoration-color: #800000\">-&gt; </span><span style=\"color: #008000; text-decoration-color: #008000; font-weight: bold\">{</span><span style=\"color: #008000; text-decoration-color: #008000\">'id'</span><span style=\"color: #008000; text-decoration-color: #008000\">: </span><span style=\"color: #008000; text-decoration-color: #008000; font-weight: bold\">658</span><span style=\"color: #008000; text-decoration-color: #008000\">, </span><span style=\"color: #008000; text-decoration-color: #008000\">'value'</span><span style=\"color: #008000; text-decoration-color: #008000\">: </span><span style=\"color: #008000; text-decoration-color: #008000\">'0'</span><span style=\"color: #008000; text-decoration-color: #008000; font-weight: bold\">}</span>\n",
       "</pre>\n"
      ],
      "text/plain": [
       "\u001b[34mReservar_Instrumentos \u001b[0m\u001b[31m-> \u001b[0m\u001b[1;32m{\u001b[0m\u001b[32m'id'\u001b[0m\u001b[32m: \u001b[0m\u001b[1;32m658\u001b[0m\u001b[32m, \u001b[0m\u001b[32m'value'\u001b[0m\u001b[32m: \u001b[0m\u001b[32m'0'\u001b[0m\u001b[1;32m}\u001b[0m\n"
      ]
     },
     "metadata": {},
     "output_type": "display_data"
    },
    {
     "data": {
      "text/html": [
       "<pre style=\"white-space:pre;overflow-x:auto;line-height:normal;font-family:Menlo,'DejaVu Sans Mono',consolas,'Courier New',monospace\"><span style=\"color: #000080; text-decoration-color: #000080\">Utilizou_algum_instrumento </span><span style=\"color: #800000; text-decoration-color: #800000\">-&gt; </span><span style=\"color: #008000; text-decoration-color: #008000; font-weight: bold\">{</span><span style=\"color: #008000; text-decoration-color: #008000\">'id'</span><span style=\"color: #008000; text-decoration-color: #008000\">: </span><span style=\"color: #008000; text-decoration-color: #008000; font-weight: bold\">660</span><span style=\"color: #008000; text-decoration-color: #008000\">, </span><span style=\"color: #008000; text-decoration-color: #008000\">'value'</span><span style=\"color: #008000; text-decoration-color: #008000\">: </span><span style=\"color: #008000; text-decoration-color: #008000\">'0'</span><span style=\"color: #008000; text-decoration-color: #008000; font-weight: bold\">}</span>\n",
       "</pre>\n"
      ],
      "text/plain": [
       "\u001b[34mUtilizou_algum_instrumento \u001b[0m\u001b[31m-> \u001b[0m\u001b[1;32m{\u001b[0m\u001b[32m'id'\u001b[0m\u001b[32m: \u001b[0m\u001b[1;32m660\u001b[0m\u001b[32m, \u001b[0m\u001b[32m'value'\u001b[0m\u001b[32m: \u001b[0m\u001b[32m'0'\u001b[0m\u001b[1;32m}\u001b[0m\n"
      ]
     },
     "metadata": {},
     "output_type": "display_data"
    },
    {
     "data": {
      "text/html": [
       "<pre style=\"white-space:pre;overflow-x:auto;line-height:normal;font-family:Menlo,'DejaVu Sans Mono',consolas,'Courier New',monospace\"><span style=\"color: #000080; text-decoration-color: #000080\">Notes </span><span style=\"color: #800000; text-decoration-color: #800000\">-&gt; </span><span style=\"color: #008000; text-decoration-color: #008000\">|_.  Faixa                                      |_.   Classe Especial |_.   Classe A</span>\n",
       "<span style=\"color: #008000; text-decoration-color: #008000\">|_.   Classe B |_.   Classe C |</span>\n",
       "<span style=\"color: #008000; text-decoration-color: #008000\">|</span><span style=\"color: #008000; text-decoration-color: #008000; font-weight: bold\">&lt;.</span><span style=\"color: #008000; text-decoration-color: #008000\"> VHF-L                                       |</span><span style=\"color: #008000; text-decoration-color: #008000; font-weight: bold\">&gt;</span><span style=\"color: #008000; text-decoration-color: #008000\">.                 </span><span style=\"color: #008000; text-decoration-color: #008000; font-weight: bold\">0</span><span style=\"color: #008000; text-decoration-color: #008000\"> |&gt;.          </span><span style=\"color: #008000; text-decoration-color: #008000; font-weight: bold\">5</span><span style=\"color: #008000; text-decoration-color: #008000\"> |&gt;.     </span>\n",
       "<span style=\"color: #008000; text-decoration-color: #008000; font-weight: bold\">7</span><span style=\"color: #008000; text-decoration-color: #008000\"> |&gt;.          </span><span style=\"color: #008000; text-decoration-color: #008000; font-weight: bold\">5</span><span style=\"color: #008000; text-decoration-color: #008000\"> |</span>\n",
       "<span style=\"color: #008000; text-decoration-color: #008000\">|</span><span style=\"color: #008000; text-decoration-color: #008000; font-weight: bold\">&lt;.</span><span style=\"color: #008000; text-decoration-color: #008000\"> VHF-H                                       |</span><span style=\"color: #008000; text-decoration-color: #008000; font-weight: bold\">&gt;</span><span style=\"color: #008000; text-decoration-color: #008000\">.                 </span><span style=\"color: #008000; text-decoration-color: #008000; font-weight: bold\">0</span><span style=\"color: #008000; text-decoration-color: #008000\"> |&gt;.         </span><span style=\"color: #008000; text-decoration-color: #008000; font-weight: bold\">12</span><span style=\"color: #008000; text-decoration-color: #008000\"> |&gt;.     </span>\n",
       "<span style=\"color: #008000; text-decoration-color: #008000; font-weight: bold\">1</span><span style=\"color: #008000; text-decoration-color: #008000\"> |&gt;.          </span><span style=\"color: #008000; text-decoration-color: #008000; font-weight: bold\">0</span><span style=\"color: #008000; text-decoration-color: #008000\"> |</span>\n",
       "<span style=\"color: #008000; text-decoration-color: #008000\">|</span><span style=\"color: #008000; text-decoration-color: #008000; font-weight: bold\">&lt;.</span><span style=\"color: #008000; text-decoration-color: #008000\"> UHF                                         |</span><span style=\"color: #008000; text-decoration-color: #008000; font-weight: bold\">&gt;</span><span style=\"color: #008000; text-decoration-color: #008000\">.                 </span><span style=\"color: #008000; text-decoration-color: #008000; font-weight: bold\">1</span><span style=\"color: #008000; text-decoration-color: #008000\"> |&gt;.          </span><span style=\"color: #008000; text-decoration-color: #008000; font-weight: bold\">1</span><span style=\"color: #008000; text-decoration-color: #008000\"> |&gt;.     </span>\n",
       "<span style=\"color: #008000; text-decoration-color: #008000; font-weight: bold\">2</span><span style=\"color: #008000; text-decoration-color: #008000\"> |&gt;.          </span><span style=\"color: #008000; text-decoration-color: #008000; font-weight: bold\">4</span><span style=\"color: #008000; text-decoration-color: #008000\"> |</span>\n",
       "<span style=\"color: #008000; text-decoration-color: #008000\">|</span><span style=\"color: #008000; text-decoration-color: #008000; font-weight: bold\">&lt;.</span><span style=\"color: #008000; text-decoration-color: #008000\"> FM                                          |</span><span style=\"color: #008000; text-decoration-color: #008000; font-weight: bold\">&gt;</span><span style=\"color: #008000; text-decoration-color: #008000\">.                 </span><span style=\"color: #008000; text-decoration-color: #008000; font-weight: bold\">5</span><span style=\"color: #008000; text-decoration-color: #008000\"> |&gt;.          </span><span style=\"color: #008000; text-decoration-color: #008000; font-weight: bold\">1</span><span style=\"color: #008000; text-decoration-color: #008000\"> |&gt;.     </span>\n",
       "<span style=\"color: #008000; text-decoration-color: #008000; font-weight: bold\">0</span><span style=\"color: #008000; text-decoration-color: #008000\"> |&gt;.          </span><span style=\"color: #008000; text-decoration-color: #008000; font-weight: bold\">0</span><span style=\"color: #008000; text-decoration-color: #008000\"> |</span>\n",
       "<span style=\"color: #008000; text-decoration-color: #008000\">|</span><span style=\"color: #008000; text-decoration-color: #008000; font-weight: bold\">&lt;.</span><span style=\"color: #008000; text-decoration-color: #008000\"> RADCOM                                      |</span><span style=\"color: #008000; text-decoration-color: #008000; font-weight: bold\">&gt;</span><span style=\"color: #008000; text-decoration-color: #008000\">.                 </span><span style=\"color: #008000; text-decoration-color: #008000; font-weight: bold\">0</span><span style=\"color: #008000; text-decoration-color: #008000\"> |&gt;.          </span><span style=\"color: #008000; text-decoration-color: #008000; font-weight: bold\">0</span><span style=\"color: #008000; text-decoration-color: #008000\"> |&gt;.     </span>\n",
       "<span style=\"color: #008000; text-decoration-color: #008000; font-weight: bold\">0</span><span style=\"color: #008000; text-decoration-color: #008000\"> |&gt;.          </span><span style=\"color: #008000; text-decoration-color: #008000; font-weight: bold\">0</span><span style=\"color: #008000; text-decoration-color: #008000\"> |</span>\n",
       "<span style=\"color: #008000; text-decoration-color: #008000\">|</span><span style=\"color: #008000; text-decoration-color: #008000; font-weight: bold\">&lt;.</span><span style=\"color: #008000; text-decoration-color: #008000\"> Outorgadas com indícios de irregularidades  |</span><span style=\"color: #008000; text-decoration-color: #008000; font-weight: bold\">&gt;</span><span style=\"color: #008000; text-decoration-color: #008000\">.                 </span><span style=\"color: #008000; text-decoration-color: #008000; font-weight: bold\">1</span><span style=\"color: #008000; text-decoration-color: #008000\"> |&gt;.          </span><span style=\"color: #008000; text-decoration-color: #008000; font-weight: bold\">2</span><span style=\"color: #008000; text-decoration-color: #008000\"> |&gt;.     </span>\n",
       "<span style=\"color: #008000; text-decoration-color: #008000; font-weight: bold\">3</span><span style=\"color: #008000; text-decoration-color: #008000\"> |&gt;.          </span><span style=\"color: #008000; text-decoration-color: #008000; font-weight: bold\">4</span><span style=\"color: #008000; text-decoration-color: #008000\"> |</span>\n",
       "</pre>\n"
      ],
      "text/plain": [
       "\u001b[34mNotes \u001b[0m\u001b[31m-> \u001b[0m\u001b[32m|_.  Faixa                                      |_.   Classe Especial |_.   Classe A\u001b[0m\n",
       "\u001b[32m|_.   Classe B |_.   Classe C |\u001b[0m\n",
       "\u001b[32m|\u001b[0m\u001b[1;32m<\u001b[0m\u001b[1;32m.\u001b[0m\u001b[32m VHF-L                                       |\u001b[0m\u001b[1;32m>\u001b[0m\u001b[32m.                 \u001b[0m\u001b[1;32m0\u001b[0m\u001b[32m |>.          \u001b[0m\u001b[1;32m5\u001b[0m\u001b[32m |>.     \u001b[0m\n",
       "\u001b[1;32m7\u001b[0m\u001b[32m |>.          \u001b[0m\u001b[1;32m5\u001b[0m\u001b[32m |\u001b[0m\n",
       "\u001b[32m|\u001b[0m\u001b[1;32m<\u001b[0m\u001b[1;32m.\u001b[0m\u001b[32m VHF-H                                       |\u001b[0m\u001b[1;32m>\u001b[0m\u001b[32m.                 \u001b[0m\u001b[1;32m0\u001b[0m\u001b[32m |>.         \u001b[0m\u001b[1;32m12\u001b[0m\u001b[32m |>.     \u001b[0m\n",
       "\u001b[1;32m1\u001b[0m\u001b[32m |>.          \u001b[0m\u001b[1;32m0\u001b[0m\u001b[32m |\u001b[0m\n",
       "\u001b[32m|\u001b[0m\u001b[1;32m<\u001b[0m\u001b[1;32m.\u001b[0m\u001b[32m UHF                                         |\u001b[0m\u001b[1;32m>\u001b[0m\u001b[32m.                 \u001b[0m\u001b[1;32m1\u001b[0m\u001b[32m |>.          \u001b[0m\u001b[1;32m1\u001b[0m\u001b[32m |>.     \u001b[0m\n",
       "\u001b[1;32m2\u001b[0m\u001b[32m |>.          \u001b[0m\u001b[1;32m4\u001b[0m\u001b[32m |\u001b[0m\n",
       "\u001b[32m|\u001b[0m\u001b[1;32m<\u001b[0m\u001b[1;32m.\u001b[0m\u001b[32m FM                                          |\u001b[0m\u001b[1;32m>\u001b[0m\u001b[32m.                 \u001b[0m\u001b[1;32m5\u001b[0m\u001b[32m |>.          \u001b[0m\u001b[1;32m1\u001b[0m\u001b[32m |>.     \u001b[0m\n",
       "\u001b[1;32m0\u001b[0m\u001b[32m |>.          \u001b[0m\u001b[1;32m0\u001b[0m\u001b[32m |\u001b[0m\n",
       "\u001b[32m|\u001b[0m\u001b[1;32m<\u001b[0m\u001b[1;32m.\u001b[0m\u001b[32m RADCOM                                      |\u001b[0m\u001b[1;32m>\u001b[0m\u001b[32m.                 \u001b[0m\u001b[1;32m0\u001b[0m\u001b[32m |>.          \u001b[0m\u001b[1;32m0\u001b[0m\u001b[32m |>.     \u001b[0m\n",
       "\u001b[1;32m0\u001b[0m\u001b[32m |>.          \u001b[0m\u001b[1;32m0\u001b[0m\u001b[32m |\u001b[0m\n",
       "\u001b[32m|\u001b[0m\u001b[1;32m<\u001b[0m\u001b[1;32m.\u001b[0m\u001b[32m Outorgadas com indícios de irregularidades  |\u001b[0m\u001b[1;32m>\u001b[0m\u001b[32m.                 \u001b[0m\u001b[1;32m1\u001b[0m\u001b[32m |>.          \u001b[0m\u001b[1;32m2\u001b[0m\u001b[32m |>.     \u001b[0m\n",
       "\u001b[1;32m3\u001b[0m\u001b[32m |>.          \u001b[0m\u001b[1;32m4\u001b[0m\u001b[32m |\u001b[0m\n"
      ]
     },
     "metadata": {},
     "output_type": "display_data"
    }
   ],
   "source": [
    "for k,v in dados.items():\n",
    "    if k == \"Html\":\n",
    "        v = str(v)\n",
    "        v = v[:100] + '\\n...\\n' + v[-100:]\n",
    "    console.print(f'[blue]{k} [red]-> [green]{v}')"
   ]
  },
  {
   "cell_type": "markdown",
   "metadata": {},
   "source": [
    "## Relatar Inspeção\n",
    "A função a seguir é a mais importante do módulo porque ela de fato altera os dados na plataforma Fiscaliza."
   ]
  },
  {
   "cell_type": "code",
   "execution_count": null,
   "metadata": {},
   "outputs": [
    {
     "data": {
      "text/markdown": [
       "<h4 id=\"relatar_inspecao\" class=\"doc_header\"><code>relatar_inspecao</code><a href=\"https://github.com/ronaldokun/fiscaliza/tree/main/fiscaliza/redmine.py#L499\" class=\"source_link\" style=\"float:right\">[source]</a></h4>\n",
       "\n",
       "> <code>relatar_inspecao</code>(**`inspecao`**:\"Número da Inspeção a ser relatada\", **`login`**:\"Login Anatel do Usuário\", **`senha`**:\"Senha Utilizada nos Sistemas Interativos da Anatel\", **`dados`**:\"Dicionário já validado com os Dados a serem relatados\", **`teste`**:\"Indica se o relato será de teste\"=*`True`*)\n",
       "\n",
       "Relata a inspeção `inspecao` com os dados constantes no dicionário `dados`"
      ],
      "text/plain": [
       "<IPython.core.display.Markdown object>"
      ]
     },
     "metadata": {},
     "output_type": "display_data"
    }
   ],
   "source": [
    "#hide\n",
    "show_doc(relatar_inspecao)"
   ]
  },
  {
   "cell_type": "code",
   "execution_count": null,
   "metadata": {},
   "outputs": [
    {
     "data": {
      "text/html": [
       "<pre style=\"white-space:pre;overflow-x:auto;line-height:normal;font-family:Menlo,'DejaVu Sans Mono',consolas,'Courier New',monospace\"><span style=\"color: #008000; text-decoration-color: #008000; font-weight: bold\">Usuário Autenticado com Sucesso 👍</span>\n",
       "</pre>\n"
      ],
      "text/plain": [
       "\u001b[1;32mUsuário Autenticado com Sucesso 👍\u001b[0m\n"
      ]
     },
     "metadata": {},
     "output_type": "display_data"
    },
    {
     "data": {
      "text/html": [
       "<pre style=\"white-space:pre;overflow-x:auto;line-height:normal;font-family:Menlo,'DejaVu Sans Mono',consolas,'Courier New',monospace\">Inspeção <span style=\"color: #008080; text-decoration-color: #008080; font-weight: bold\">57689</span> vinculada à Ação <span style=\"font-weight: bold\">{</span><span style=\"color: #008000; text-decoration-color: #008000\">'id_ACAO'</span>: <span style=\"color: #008080; text-decoration-color: #008080; font-weight: bold\">52876</span>, <span style=\"color: #008000; text-decoration-color: #008000\">'nome_ACAO'</span>: <span style=\"color: #008000; text-decoration-color: #008000\">'ACAO_GR01_2021_0491'</span>, \n",
       "<span style=\"color: #008000; text-decoration-color: #008000\">'descricao_ACAO'</span>: <span style=\"color: #008000; text-decoration-color: #008000\">'Teste'</span><span style=\"font-weight: bold\">}</span>\n",
       "</pre>\n"
      ],
      "text/plain": [
       "Inspeção \u001b[1;36m57689\u001b[0m vinculada à Ação \u001b[1m{\u001b[0m\u001b[32m'id_ACAO'\u001b[0m: \u001b[1;36m52876\u001b[0m, \u001b[32m'nome_ACAO'\u001b[0m: \u001b[32m'ACAO_GR01_2021_0491'\u001b[0m, \n",
       "\u001b[32m'descricao_ACAO'\u001b[0m: \u001b[32m'Teste'\u001b[0m\u001b[1m}\u001b[0m\n"
      ]
     },
     "metadata": {},
     "output_type": "display_data"
    },
    {
     "data": {
      "application/vnd.jupyter.widget-view+json": {
       "model_id": "",
       "version_major": 2,
       "version_minor": 0
      },
      "text/plain": [
       "Output()"
      ]
     },
     "metadata": {},
     "output_type": "display_data"
    },
    {
     "data": {
      "text/html": [
       "<pre style=\"white-space:pre;overflow-x:auto;line-height:normal;font-family:Menlo,'DejaVu Sans Mono',consolas,'Courier New',monospace\"><span style=\"color: #008000; text-decoration-color: #008000; font-weight: bold\">Estado Atual: Rascunho ❗</span>\n",
       "</pre>\n"
      ],
      "text/plain": [
       "\u001b[1;32mEstado Atual: Rascunho ❗\u001b[0m\n"
      ]
     },
     "metadata": {},
     "output_type": "display_data"
    },
    {
     "data": {
      "text/html": [
       "<pre style=\"white-space:pre;overflow-x:auto;line-height:normal;font-family:Menlo,'DejaVu Sans Mono',consolas,'Courier New',monospace\"></pre>\n"
      ],
      "text/plain": []
     },
     "metadata": {},
     "output_type": "display_data"
    },
    {
     "data": {
      "application/vnd.jupyter.widget-view+json": {
       "model_id": "",
       "version_major": 2,
       "version_minor": 0
      },
      "text/plain": [
       "Output()"
      ]
     },
     "metadata": {},
     "output_type": "display_data"
    },
    {
     "data": {
      "text/html": [
       "<pre style=\"white-space:pre;overflow-x:auto;line-height:normal;font-family:Menlo,'DejaVu Sans Mono',consolas,'Courier New',monospace\">Sucesso ✨\n",
       "</pre>\n"
      ],
      "text/plain": [
       "Sucesso ✨\n"
      ]
     },
     "metadata": {},
     "output_type": "display_data"
    },
    {
     "data": {
      "text/html": [
       "<pre style=\"white-space:pre;overflow-x:auto;line-height:normal;font-family:Menlo,'DejaVu Sans Mono',consolas,'Courier New',monospace\"></pre>\n"
      ],
      "text/plain": []
     },
     "metadata": {},
     "output_type": "display_data"
    },
    {
     "data": {
      "application/vnd.jupyter.widget-view+json": {
       "model_id": "",
       "version_major": 2,
       "version_minor": 0
      },
      "text/plain": [
       "Output()"
      ]
     },
     "metadata": {},
     "output_type": "display_data"
    },
    {
     "data": {
      "text/html": [
       "<pre style=\"white-space:pre;overflow-x:auto;line-height:normal;font-family:Menlo,'DejaVu Sans Mono',consolas,'Courier New',monospace\"><span style=\"color: #008000; text-decoration-color: #008000; font-weight: bold\">Estado Atual: Aguardando Execução ❗</span>\n",
       "</pre>\n"
      ],
      "text/plain": [
       "\u001b[1;32mEstado Atual: Aguardando Execução ❗\u001b[0m\n"
      ]
     },
     "metadata": {},
     "output_type": "display_data"
    },
    {
     "data": {
      "text/html": [
       "<pre style=\"white-space:pre;overflow-x:auto;line-height:normal;font-family:Menlo,'DejaVu Sans Mono',consolas,'Courier New',monospace\"></pre>\n"
      ],
      "text/plain": []
     },
     "metadata": {},
     "output_type": "display_data"
    },
    {
     "data": {
      "application/vnd.jupyter.widget-view+json": {
       "model_id": "",
       "version_major": 2,
       "version_minor": 0
      },
      "text/plain": [
       "Output()"
      ]
     },
     "metadata": {},
     "output_type": "display_data"
    },
    {
     "data": {
      "text/html": [
       "<pre style=\"white-space:pre;overflow-x:auto;line-height:normal;font-family:Menlo,'DejaVu Sans Mono',consolas,'Courier New',monospace\">Sucesso ✨\n",
       "</pre>\n"
      ],
      "text/plain": [
       "Sucesso ✨\n"
      ]
     },
     "metadata": {},
     "output_type": "display_data"
    },
    {
     "data": {
      "text/html": [
       "<pre style=\"white-space:pre;overflow-x:auto;line-height:normal;font-family:Menlo,'DejaVu Sans Mono',consolas,'Courier New',monospace\"></pre>\n"
      ],
      "text/plain": []
     },
     "metadata": {},
     "output_type": "display_data"
    },
    {
     "data": {
      "application/vnd.jupyter.widget-view+json": {
       "model_id": "",
       "version_major": 2,
       "version_minor": 0
      },
      "text/plain": [
       "Output()"
      ]
     },
     "metadata": {},
     "output_type": "display_data"
    },
    {
     "data": {
      "text/html": [
       "<pre style=\"white-space:pre;overflow-x:auto;line-height:normal;font-family:Menlo,'DejaVu Sans Mono',consolas,'Courier New',monospace\"></pre>\n"
      ],
      "text/plain": []
     },
     "metadata": {},
     "output_type": "display_data"
    },
    {
     "data": {
      "application/vnd.jupyter.widget-view+json": {
       "model_id": "",
       "version_major": 2,
       "version_minor": 0
      },
      "text/plain": [
       "Output()"
      ]
     },
     "metadata": {},
     "output_type": "display_data"
    },
    {
     "data": {
      "text/html": [
       "<pre style=\"white-space:pre;overflow-x:auto;line-height:normal;font-family:Menlo,'DejaVu Sans Mono',consolas,'Courier New',monospace\">Sucesso ✨\n",
       "</pre>\n"
      ],
      "text/plain": [
       "Sucesso ✨\n"
      ]
     },
     "metadata": {},
     "output_type": "display_data"
    },
    {
     "data": {
      "text/html": [
       "<pre style=\"white-space:pre;overflow-x:auto;line-height:normal;font-family:Menlo,'DejaVu Sans Mono',consolas,'Courier New',monospace\"></pre>\n"
      ],
      "text/plain": []
     },
     "metadata": {},
     "output_type": "display_data"
    },
    {
     "data": {
      "application/vnd.jupyter.widget-view+json": {
       "model_id": "",
       "version_major": 2,
       "version_minor": 0
      },
      "text/plain": [
       "Output()"
      ]
     },
     "metadata": {},
     "output_type": "display_data"
    },
    {
     "data": {
      "text/html": [
       "<pre style=\"white-space:pre;overflow-x:auto;line-height:normal;font-family:Menlo,'DejaVu Sans Mono',consolas,'Courier New',monospace\"><span style=\"color: #008000; text-decoration-color: #008000; font-weight: bold\">Estado Atual: Relatando ❗</span>\n",
       "</pre>\n"
      ],
      "text/plain": [
       "\u001b[1;32mEstado Atual: Relatando ❗\u001b[0m\n"
      ]
     },
     "metadata": {},
     "output_type": "display_data"
    },
    {
     "data": {
      "text/html": [
       "<pre style=\"white-space:pre;overflow-x:auto;line-height:normal;font-family:Menlo,'DejaVu Sans Mono',consolas,'Courier New',monospace\"></pre>\n"
      ],
      "text/plain": []
     },
     "metadata": {},
     "output_type": "display_data"
    },
    {
     "data": {
      "text/html": [
       "<pre style=\"white-space:pre;overflow-x:auto;line-height:normal;font-family:Menlo,'DejaVu Sans Mono',consolas,'Courier New',monospace\">Assine o Relatorio_de_Monitoramento: <span style=\"font-weight: bold\">{</span><span style=\"color: #008000; text-decoration-color: #008000\">\"numero\"</span>=&gt;<span style=\"color: #008000; text-decoration-color: #008000\">\"0190599\"</span>, <span style=\"color: #008000; text-decoration-color: #008000\">\"link_acesso\"</span>=&gt;<span style=\"color: #008000; text-decoration-color: #008000\">\"https://seihm.anat</span>\n",
       "<span style=\"color: #008000; text-decoration-color: #008000\">el.gov.br/sei/controlador.php?acao=procedimento_trabalhar&amp;id_procedimento=1962455&amp;id_document</span>\n",
       "<span style=\"color: #008000; text-decoration-color: #008000\">o=1962869\"</span><span style=\"font-weight: bold\">}</span> e chame a função novamente ❗\n",
       "</pre>\n"
      ],
      "text/plain": [
       "Assine o Relatorio_de_Monitoramento: \u001b[1m{\u001b[0m\u001b[32m\"numero\"\u001b[0m=>\u001b[32m\"0190599\"\u001b[0m, \u001b[32m\"link_acesso\"\u001b[0m=>\u001b[32m\"https://seihm.anat\u001b[0m\n",
       "\u001b[32mel.gov.br/sei/controlador.php?\u001b[0m\u001b[32macao\u001b[0m\u001b[32m=\u001b[0m\u001b[32mprocedimento_trabalhar\u001b[0m\u001b[32m&\u001b[0m\u001b[32mid_procedimento\u001b[0m\u001b[32m=\u001b[0m\u001b[32m1962455\u001b[0m\u001b[32m&\u001b[0m\u001b[32mid_document\u001b[0m\n",
       "\u001b[32mo\u001b[0m\u001b[32m=\u001b[0m\u001b[32m1962869\"\u001b[0m\u001b[1m}\u001b[0m e chame a função novamente ❗\n"
      ]
     },
     "metadata": {},
     "output_type": "display_data"
    },
    {
     "data": {
      "text/plain": [
       "{'id': '57689',\n",
       " 'subject': 'INSP_GR01_2021_0508',\n",
       " 'status': 'Relatando',\n",
       " 'priority': 'Normal',\n",
       " 'start_date': '2021-03-19',\n",
       " 'due_date': '2021-12-31',\n",
       " 'Classe da Inspeção': 'Técnica',\n",
       " 'Tipo de inspeção': 'Uso do Espectro - Monitoração',\n",
       " 'Ano': '2021',\n",
       " 'Numero_Sei_do_Processo': '{\"numero\"=>\"53504.000007/2021-50\", \"link_acesso\"=>\"https://seihm.anatel.gov.br/sei/controlador.php?acao=procedimento_trabalhar&id_procedimento=1962455\"}',\n",
       " 'Descrição da Inspeção': 'Atendimento da Denúncia AC202010213075425 (6104512), \\nverificação da Potência e Intensidade de Campo Elétrico da Frequência 105.1MHz e seus harmônicos, \\nalém da checagem de Intermodulação e Espúrios nas frequências 450.3MHz e 750MHz.',\n",
       " 'Fiscal Responsável': 'Ronaldo da Silva Alves Batista',\n",
       " 'Fiscais': ['Mario Augusto Volpini',\n",
       "  'Paulo Diogo Costa',\n",
       "  'Ronaldo da Silva Alves Batista'],\n",
       " 'Entidade da Inspeção': [],\n",
       " 'UF/Município': [],\n",
       " 'Serviços da Inspeção': [],\n",
       " 'Qnt. de emissões na faixa': '',\n",
       " 'Emissões não autorizadas/desc': '',\n",
       " 'Horas de Preparação': '',\n",
       " 'Horas de Deslocamento': '',\n",
       " 'Horas de Execução': '',\n",
       " 'Horas de Conclusão': '',\n",
       " 'SAV': '',\n",
       " 'PCDP': '',\n",
       " 'Procedimentos': [],\n",
       " 'Latitude (coordenadas)': '',\n",
       " 'Longitude (coordenadas)': '',\n",
       " 'Uso de PF': '',\n",
       " 'Ação de risco à vida criada?': '',\n",
       " 'Frequência Inicial': '54',\n",
       " 'Unidade da Frequência Inicial': 'MHz',\n",
       " 'Frequência Final': '700',\n",
       " 'Unidade da Frequência Final': 'MHz',\n",
       " 'Agrupamento': '',\n",
       " 'AppFiscaliza': '0',\n",
       " 'Relatorio_de_Monitoramento': '{\"numero\"=>\"0190599\", \"link_acesso\"=>\"https://seihm.anatel.gov.br/sei/controlador.php?acao=procedimento_trabalhar&id_procedimento=1962455&id_documento=1962869\"}',\n",
       " 'Reservar Instrumentos?': '0',\n",
       " 'Utilizou algum instrumento?': '',\n",
       " 'id_ACAO': 52876,\n",
       " 'nome_ACAO': 'ACAO_GR01_2021_0491',\n",
       " 'descricao_ACAO': 'Teste',\n",
       " 'Users': ['Alexandre Elias de Andrade Oliveira',\n",
       "  'Alexandre Freitas de Lima',\n",
       "  'Alexandre Inacio',\n",
       "  'Alexandre Junzo Hamada',\n",
       "  'Alfredo de Andrade Filho',\n",
       "  'Ananias Pereira',\n",
       "  'Antonio Carlos Cardoso de Mello',\n",
       "  'Aparecido Sebastiao da Silva',\n",
       "  'Arthur Pisaruk',\n",
       "  'Carlos Augusto de Carvalho',\n",
       "  'Carlos Eduardo Guimaraes Silveira',\n",
       "  'Carlos da Paixao Filho',\n",
       "  'Celio Yukio Takahashi',\n",
       "  'Celso Luiz Maximino',\n",
       "  'Diogo Caldeira',\n",
       "  'Ediceu Beraldi',\n",
       "  'Eduardo Narkevicius',\n",
       "  'Elcio Maehara',\n",
       "  'Eustaquio Lages Duarte',\n",
       "  'Fiscal UD',\n",
       "  'Gauber Albuquerque',\n",
       "  'Gilson Ponce Ayres Filho',\n",
       "  'Helio Lopes de Carvalho Filho',\n",
       "  'Higor Paz Melo',\n",
       "  'Hugo Santana Lima',\n",
       "  'Humberto Barbosa Vinagre',\n",
       "  'Jamilson Evangelista',\n",
       "  'Joao Yokoyama',\n",
       "  'Joaquim Miranda',\n",
       "  'José Antônio S. Sanches',\n",
       "  'Julio Cesar de Assis Santos',\n",
       "  'Kiyotomo Kawamura',\n",
       "  'Laert Calil Junior',\n",
       "  'Lannei Vilela Moraes',\n",
       "  'Luis Lagomes',\n",
       "  'Luiz Vinicios Mielniczuk Seelig',\n",
       "  'Marcelo Augusto Scacabarozi',\n",
       "  'Marcio Costa',\n",
       "  'Marcio Rodrigues Maciel',\n",
       "  'Marcos Antônio Rodrigues',\n",
       "  'Marcos Juliano Valim da Silva',\n",
       "  'Maria Teresa Flosi Garrafa',\n",
       "  'Mario Augusto Volpini',\n",
       "  'Murilo Amaro',\n",
       "  'Osnir Lopes',\n",
       "  'Paulo Diogo Costa',\n",
       "  'Pedro Arai',\n",
       "  'Renato Sadao Kushioyada',\n",
       "  'Ricardo Santos Marques',\n",
       "  'Ricardo da Silva e Souza',\n",
       "  'Roberto Carlos Soares Campos',\n",
       "  'Roberto Ferreira dos Santos',\n",
       "  'Roberto Takata',\n",
       "  'Rodrigo Barbosa de Paula',\n",
       "  'Rogerio Zambotto',\n",
       "  'Ronaldo da Silva Alves Batista',\n",
       "  'Sergio Pereira',\n",
       "  'Thiago Silva',\n",
       "  'Thomaz Honma Ishida',\n",
       "  'Vinicius Paiva de Oliveira',\n",
       "  'Vitor Zelada',\n",
       "  'Wellington Devechi Piauilino',\n",
       "  'Wladimir Senise',\n",
       "  'marcio colazingari']}"
      ]
     },
     "execution_count": null,
     "metadata": {},
     "output_type": "execute_result"
    }
   ],
   "source": [
    "inspecao = '57689'\n",
    "relatar_inspecao(inspecao, login, senha, dados='files/dados.json', teste=True)"
   ]
  },
  {
   "cell_type": "markdown",
   "metadata": {},
   "source": [
    "O dicionário de dados possui os dados completos obrigatórios para o relato, no entanto o relato é feito em algumas etapas, utilizando somente algumas das informações do dicionário:\n",
    "* `Rascunho` para `Aguardando Execução`\n",
    "* `Aguardando Execução` para `Em Andamento`\n",
    "* `Em Andamento` para `Relatando`\n",
    "* `Relatando` para `Relatada`\n",
    "\n",
    "Na terceira etapa é gerado um relatório da monitoração no Sistema Eletrônico de Informações - SEI. Para executar a quarta etapa é preciso que esse relatório da terceira etapa esteja assinado. Por essa razão a função para na terceira etapa e informa da necessidade do relatório estar assinado.\n",
    "\n",
    "Após o relatório ser assinado basta chamar a função com os mesmos argumentos para que a etapa final seja realizada."
   ]
  },
  {
   "cell_type": "code",
   "execution_count": null,
   "metadata": {},
   "outputs": [
    {
     "data": {
      "text/html": [
       "<pre style=\"white-space:pre;overflow-x:auto;line-height:normal;font-family:Menlo,'DejaVu Sans Mono',consolas,'Courier New',monospace\"><span style=\"color: #008000; text-decoration-color: #008000; font-weight: bold\">Usuário Autenticado com Sucesso 👍</span>\n",
       "</pre>\n"
      ],
      "text/plain": [
       "\u001b[1;32mUsuário Autenticado com Sucesso 👍\u001b[0m\n"
      ]
     },
     "metadata": {},
     "output_type": "display_data"
    },
    {
     "data": {
      "text/html": [
       "<pre style=\"white-space:pre;overflow-x:auto;line-height:normal;font-family:Menlo,'DejaVu Sans Mono',consolas,'Courier New',monospace\">Inspeção <span style=\"color: #008080; text-decoration-color: #008080; font-weight: bold\">57689</span> vinculada à Ação <span style=\"font-weight: bold\">{</span><span style=\"color: #008000; text-decoration-color: #008000\">'id_ACAO'</span>: <span style=\"color: #008080; text-decoration-color: #008080; font-weight: bold\">52876</span>, <span style=\"color: #008000; text-decoration-color: #008000\">'nome_ACAO'</span>: <span style=\"color: #008000; text-decoration-color: #008000\">'ACAO_GR01_2021_0491'</span>, \n",
       "<span style=\"color: #008000; text-decoration-color: #008000\">'descricao_ACAO'</span>: <span style=\"color: #008000; text-decoration-color: #008000\">'Teste'</span><span style=\"font-weight: bold\">}</span>\n",
       "</pre>\n"
      ],
      "text/plain": [
       "Inspeção \u001b[1;36m57689\u001b[0m vinculada à Ação \u001b[1m{\u001b[0m\u001b[32m'id_ACAO'\u001b[0m: \u001b[1;36m52876\u001b[0m, \u001b[32m'nome_ACAO'\u001b[0m: \u001b[32m'ACAO_GR01_2021_0491'\u001b[0m, \n",
       "\u001b[32m'descricao_ACAO'\u001b[0m: \u001b[32m'Teste'\u001b[0m\u001b[1m}\u001b[0m\n"
      ]
     },
     "metadata": {},
     "output_type": "display_data"
    },
    {
     "data": {
      "application/vnd.jupyter.widget-view+json": {
       "model_id": "",
       "version_major": 2,
       "version_minor": 0
      },
      "text/plain": [
       "Output()"
      ]
     },
     "metadata": {},
     "output_type": "display_data"
    },
    {
     "data": {
      "text/html": [
       "<pre style=\"white-space:pre;overflow-x:auto;line-height:normal;font-family:Menlo,'DejaVu Sans Mono',consolas,'Courier New',monospace\"><span style=\"color: #008000; text-decoration-color: #008000; font-weight: bold\">Estado Atual: Relatando ❗</span>\n",
       "</pre>\n"
      ],
      "text/plain": [
       "\u001b[1;32mEstado Atual: Relatando ❗\u001b[0m\n"
      ]
     },
     "metadata": {},
     "output_type": "display_data"
    },
    {
     "data": {
      "text/html": [
       "<pre style=\"white-space:pre;overflow-x:auto;line-height:normal;font-family:Menlo,'DejaVu Sans Mono',consolas,'Courier New',monospace\"></pre>\n"
      ],
      "text/plain": []
     },
     "metadata": {},
     "output_type": "display_data"
    },
    {
     "data": {
      "application/vnd.jupyter.widget-view+json": {
       "model_id": "",
       "version_major": 2,
       "version_minor": 0
      },
      "text/plain": [
       "Output()"
      ]
     },
     "metadata": {},
     "output_type": "display_data"
    },
    {
     "data": {
      "text/html": [
       "<pre style=\"white-space:pre;overflow-x:auto;line-height:normal;font-family:Menlo,'DejaVu Sans Mono',consolas,'Courier New',monospace\">Sucesso ✨\n",
       "</pre>\n"
      ],
      "text/plain": [
       "Sucesso ✨\n"
      ]
     },
     "metadata": {},
     "output_type": "display_data"
    },
    {
     "data": {
      "text/html": [
       "<pre style=\"white-space:pre;overflow-x:auto;line-height:normal;font-family:Menlo,'DejaVu Sans Mono',consolas,'Courier New',monospace\"></pre>\n"
      ],
      "text/plain": []
     },
     "metadata": {},
     "output_type": "display_data"
    },
    {
     "data": {
      "application/vnd.jupyter.widget-view+json": {
       "model_id": "",
       "version_major": 2,
       "version_minor": 0
      },
      "text/plain": [
       "Output()"
      ]
     },
     "metadata": {},
     "output_type": "display_data"
    },
    {
     "data": {
      "text/html": [
       "<pre style=\"white-space:pre;overflow-x:auto;line-height:normal;font-family:Menlo,'DejaVu Sans Mono',consolas,'Courier New',monospace\"></pre>\n"
      ],
      "text/plain": []
     },
     "metadata": {},
     "output_type": "display_data"
    },
    {
     "data": {
      "text/html": [
       "<pre style=\"white-space:pre;overflow-x:auto;line-height:normal;font-family:Menlo,'DejaVu Sans Mono',consolas,'Courier New',monospace\"><span style=\"font-weight: bold\">{</span>\n",
       "    <span style=\"color: #008000; text-decoration-color: #008000\">'id'</span>: <span style=\"color: #008000; text-decoration-color: #008000\">'57689'</span>,\n",
       "    <span style=\"color: #008000; text-decoration-color: #008000\">'subject'</span>: <span style=\"color: #008000; text-decoration-color: #008000\">'INSP_GR01_2021_0508'</span>,\n",
       "    <span style=\"color: #008000; text-decoration-color: #008000\">'status'</span>: <span style=\"color: #008000; text-decoration-color: #008000\">'Relatada'</span>,\n",
       "    <span style=\"color: #008000; text-decoration-color: #008000\">'priority'</span>: <span style=\"color: #008000; text-decoration-color: #008000\">'Normal'</span>,\n",
       "    <span style=\"color: #008000; text-decoration-color: #008000\">'start_date'</span>: <span style=\"color: #008000; text-decoration-color: #008000\">'2021-03-19'</span>,\n",
       "    <span style=\"color: #008000; text-decoration-color: #008000\">'due_date'</span>: <span style=\"color: #008000; text-decoration-color: #008000\">'2021-12-31'</span>,\n",
       "    <span style=\"color: #008000; text-decoration-color: #008000\">'Classe da Inspeção'</span>: <span style=\"color: #008000; text-decoration-color: #008000\">'Técnica'</span>,\n",
       "    <span style=\"color: #008000; text-decoration-color: #008000\">'Tipo de inspeção'</span>: <span style=\"color: #008000; text-decoration-color: #008000\">'Uso do Espectro - Monitoração'</span>,\n",
       "    <span style=\"color: #008000; text-decoration-color: #008000\">'Ano'</span>: <span style=\"color: #008000; text-decoration-color: #008000\">'2021'</span>,\n",
       "    <span style=\"color: #008000; text-decoration-color: #008000\">'Numero_Sei_do_Processo'</span>: <span style=\"color: #008000; text-decoration-color: #008000\">'{\"numero\"=&gt;\"53504.000007/2021-50\", \"link_acesso\"=&gt;\"https://sei</span>\n",
       "<span style=\"color: #008000; text-decoration-color: #008000\">hm.anatel.gov.br/sei/controlador.php?acao=procedimento_trabalhar&amp;id_procedimento=1962455\"}'</span>,\n",
       "    <span style=\"color: #008000; text-decoration-color: #008000\">'Descrição da Inspeção'</span>: <span style=\"color: #008000; text-decoration-color: #008000\">'Atendimento da Denúncia AC202010213075425 (6104512), </span>\n",
       "<span style=\"color: #008000; text-decoration-color: #008000\">\\nverificação da Potência e Intensidade de Campo Elétrico da Frequência 105.1MHz e seus </span>\n",
       "<span style=\"color: #008000; text-decoration-color: #008000\">harmônicos, \\nalém da checagem de Intermodulação e Espúrios nas frequências 450.3MHz e </span>\n",
       "<span style=\"color: #008000; text-decoration-color: #008000\">750MHz.'</span>,\n",
       "    <span style=\"color: #008000; text-decoration-color: #008000\">'Fiscal Responsável'</span>: <span style=\"color: #008000; text-decoration-color: #008000\">'Ronaldo da Silva Alves Batista'</span>,\n",
       "    <span style=\"color: #008000; text-decoration-color: #008000\">'Fiscais'</span>: <span style=\"font-weight: bold\">[</span>\n",
       "        <span style=\"color: #008000; text-decoration-color: #008000\">'Ronaldo da Silva Alves Batista'</span>,\n",
       "        <span style=\"color: #008000; text-decoration-color: #008000\">'Mario Augusto Volpini'</span>,\n",
       "        <span style=\"color: #008000; text-decoration-color: #008000\">'Paulo Diogo Costa'</span>\n",
       "    <span style=\"font-weight: bold\">]</span>,\n",
       "    <span style=\"color: #008000; text-decoration-color: #008000\">'Entidade da Inspeção'</span>: <span style=\"font-weight: bold\">[]</span>,\n",
       "    <span style=\"color: #008000; text-decoration-color: #008000\">'UF/Município'</span>: <span style=\"font-weight: bold\">[</span><span style=\"color: #008000; text-decoration-color: #008000\">'SP/São Paulo'</span><span style=\"font-weight: bold\">]</span>,\n",
       "    <span style=\"color: #008000; text-decoration-color: #008000\">'Serviços da Inspeção'</span>: <span style=\"font-weight: bold\">[</span>\n",
       "        <span style=\"color: #008000; text-decoration-color: #008000\">'800 - COLETIVO - RETRANSMISSAO DE T.V.'</span>,\n",
       "        <span style=\"color: #008000; text-decoration-color: #008000\">'231 - COLETIVO - RADIODIFUSÃO COMUNITÁRIA'</span>,\n",
       "        <span style=\"color: #008000; text-decoration-color: #008000\">'230 - COLETIVO - RADIODIFUSÃO SONORA EM FREQÜÊNCIA MODULADA'</span>\n",
       "    <span style=\"font-weight: bold\">]</span>,\n",
       "    <span style=\"color: #008000; text-decoration-color: #008000\">'Qnt. de emissões na faixa'</span>: <span style=\"color: #008000; text-decoration-color: #008000\">'12'</span>,\n",
       "    <span style=\"color: #008000; text-decoration-color: #008000\">'Emissões não autorizadas/desc'</span>: <span style=\"color: #008000; text-decoration-color: #008000\">'70'</span>,\n",
       "    <span style=\"color: #008000; text-decoration-color: #008000\">'Horas de Preparação'</span>: <span style=\"color: #008000; text-decoration-color: #008000\">'2'</span>,\n",
       "    <span style=\"color: #008000; text-decoration-color: #008000\">'Horas de Deslocamento'</span>: <span style=\"color: #008000; text-decoration-color: #008000\">'0'</span>,\n",
       "    <span style=\"color: #008000; text-decoration-color: #008000\">'Horas de Execução'</span>: <span style=\"color: #008000; text-decoration-color: #008000\">'32'</span>,\n",
       "    <span style=\"color: #008000; text-decoration-color: #008000\">'Horas de Conclusão'</span>: <span style=\"color: #008000; text-decoration-color: #008000\">'6'</span>,\n",
       "    <span style=\"color: #008000; text-decoration-color: #008000\">'SAV'</span>: <span style=\"color: #008000; text-decoration-color: #008000\">''</span>,\n",
       "    <span style=\"color: #008000; text-decoration-color: #008000\">'PCDP'</span>: <span style=\"color: #008000; text-decoration-color: #008000\">''</span>,\n",
       "    <span style=\"color: #008000; text-decoration-color: #008000\">'Procedimentos'</span>: <span style=\"font-weight: bold\">[]</span>,\n",
       "    <span style=\"color: #008000; text-decoration-color: #008000\">'Latitude (coordenadas)'</span>: <span style=\"color: #008000; text-decoration-color: #008000\">'-22.94694'</span>,\n",
       "    <span style=\"color: #008000; text-decoration-color: #008000\">'Longitude (coordenadas)'</span>: <span style=\"color: #008000; text-decoration-color: #008000\">'-43.21944'</span>,\n",
       "    <span style=\"color: #008000; text-decoration-color: #008000\">'Uso de PF'</span>: <span style=\"color: #008000; text-decoration-color: #008000\">'Não se aplica PF - uso apenas de formulários'</span>,\n",
       "    <span style=\"color: #008000; text-decoration-color: #008000\">'Ação de risco à vida criada?'</span>: <span style=\"color: #008000; text-decoration-color: #008000\">'Não'</span>,\n",
       "    <span style=\"color: #008000; text-decoration-color: #008000\">'Frequência Inicial'</span>: <span style=\"color: #008000; text-decoration-color: #008000\">'54'</span>,\n",
       "    <span style=\"color: #008000; text-decoration-color: #008000\">'Unidade da Frequência Inicial'</span>: <span style=\"color: #008000; text-decoration-color: #008000\">'MHz'</span>,\n",
       "    <span style=\"color: #008000; text-decoration-color: #008000\">'Frequência Final'</span>: <span style=\"color: #008000; text-decoration-color: #008000\">'700'</span>,\n",
       "    <span style=\"color: #008000; text-decoration-color: #008000\">'Unidade da Frequência Final'</span>: <span style=\"color: #008000; text-decoration-color: #008000\">'MHz'</span>,\n",
       "    <span style=\"color: #008000; text-decoration-color: #008000\">'Agrupamento'</span>: <span style=\"color: #008000; text-decoration-color: #008000\">''</span>,\n",
       "    <span style=\"color: #008000; text-decoration-color: #008000\">'AppFiscaliza'</span>: <span style=\"color: #008000; text-decoration-color: #008000\">'0'</span>,\n",
       "    <span style=\"color: #008000; text-decoration-color: #008000\">'Relatorio_de_Monitoramento'</span>: <span style=\"color: #008000; text-decoration-color: #008000\">'{\"numero\"=&gt;\"0190599\", \"link_acesso\"=&gt;\"https://seihm.anatel</span>\n",
       "<span style=\"color: #008000; text-decoration-color: #008000\">.gov.br/sei/controlador.php?acao=procedimento_trabalhar&amp;id_procedimento=1962455&amp;id_documento=</span>\n",
       "<span style=\"color: #008000; text-decoration-color: #008000\">1962869\"}'</span>,\n",
       "    <span style=\"color: #008000; text-decoration-color: #008000\">'Reservar Instrumentos?'</span>: <span style=\"color: #008000; text-decoration-color: #008000\">'0'</span>,\n",
       "    <span style=\"color: #008000; text-decoration-color: #008000\">'Utilizou algum instrumento?'</span>: <span style=\"color: #008000; text-decoration-color: #008000\">'0'</span>,\n",
       "    <span style=\"color: #008000; text-decoration-color: #008000\">'id_ACAO'</span>: <span style=\"color: #008080; text-decoration-color: #008080; font-weight: bold\">52876</span>,\n",
       "    <span style=\"color: #008000; text-decoration-color: #008000\">'nome_ACAO'</span>: <span style=\"color: #008000; text-decoration-color: #008000\">'ACAO_GR01_2021_0491'</span>,\n",
       "    <span style=\"color: #008000; text-decoration-color: #008000\">'descricao_ACAO'</span>: <span style=\"color: #008000; text-decoration-color: #008000\">'Teste'</span>,\n",
       "    <span style=\"color: #008000; text-decoration-color: #008000\">'Users'</span>: <span style=\"font-weight: bold\">[</span>\n",
       "        <span style=\"color: #008000; text-decoration-color: #008000\">'Alexandre Elias de Andrade Oliveira'</span>,\n",
       "        <span style=\"color: #008000; text-decoration-color: #008000\">'Alexandre Freitas de Lima'</span>,\n",
       "        <span style=\"color: #008000; text-decoration-color: #008000\">'Alexandre Inacio'</span>,\n",
       "        <span style=\"color: #008000; text-decoration-color: #008000\">'Alexandre Junzo Hamada'</span>,\n",
       "        <span style=\"color: #008000; text-decoration-color: #008000\">'Alfredo de Andrade Filho'</span>,\n",
       "        <span style=\"color: #008000; text-decoration-color: #008000\">'Ananias Pereira'</span>,\n",
       "        <span style=\"color: #008000; text-decoration-color: #008000\">'Antonio Carlos Cardoso de Mello'</span>,\n",
       "        <span style=\"color: #008000; text-decoration-color: #008000\">'Aparecido Sebastiao da Silva'</span>,\n",
       "        <span style=\"color: #008000; text-decoration-color: #008000\">'Arthur Pisaruk'</span>,\n",
       "        <span style=\"color: #008000; text-decoration-color: #008000\">'Carlos Augusto de Carvalho'</span>,\n",
       "        <span style=\"color: #008000; text-decoration-color: #008000\">'Carlos Eduardo Guimaraes Silveira'</span>,\n",
       "        <span style=\"color: #008000; text-decoration-color: #008000\">'Carlos da Paixao Filho'</span>,\n",
       "        <span style=\"color: #008000; text-decoration-color: #008000\">'Celio Yukio Takahashi'</span>,\n",
       "        <span style=\"color: #008000; text-decoration-color: #008000\">'Celso Luiz Maximino'</span>,\n",
       "        <span style=\"color: #008000; text-decoration-color: #008000\">'Diogo Caldeira'</span>,\n",
       "        <span style=\"color: #008000; text-decoration-color: #008000\">'Ediceu Beraldi'</span>,\n",
       "        <span style=\"color: #008000; text-decoration-color: #008000\">'Eduardo Narkevicius'</span>,\n",
       "        <span style=\"color: #008000; text-decoration-color: #008000\">'Elcio Maehara'</span>,\n",
       "        <span style=\"color: #008000; text-decoration-color: #008000\">'Eustaquio Lages Duarte'</span>,\n",
       "        <span style=\"color: #008000; text-decoration-color: #008000\">'Fiscal UD'</span>,\n",
       "        <span style=\"color: #008000; text-decoration-color: #008000\">'Gauber Albuquerque'</span>,\n",
       "        <span style=\"color: #008000; text-decoration-color: #008000\">'Gilson Ponce Ayres Filho'</span>,\n",
       "        <span style=\"color: #008000; text-decoration-color: #008000\">'Helio Lopes de Carvalho Filho'</span>,\n",
       "        <span style=\"color: #008000; text-decoration-color: #008000\">'Higor Paz Melo'</span>,\n",
       "        <span style=\"color: #008000; text-decoration-color: #008000\">'Hugo Santana Lima'</span>,\n",
       "        <span style=\"color: #008000; text-decoration-color: #008000\">'Humberto Barbosa Vinagre'</span>,\n",
       "        <span style=\"color: #008000; text-decoration-color: #008000\">'Jamilson Evangelista'</span>,\n",
       "        <span style=\"color: #008000; text-decoration-color: #008000\">'Joao Yokoyama'</span>,\n",
       "        <span style=\"color: #008000; text-decoration-color: #008000\">'Joaquim Miranda'</span>,\n",
       "        <span style=\"color: #008000; text-decoration-color: #008000\">'José Antônio S. Sanches'</span>,\n",
       "        <span style=\"color: #008000; text-decoration-color: #008000\">'Julio Cesar de Assis Santos'</span>,\n",
       "        <span style=\"color: #008000; text-decoration-color: #008000\">'Kiyotomo Kawamura'</span>,\n",
       "        <span style=\"color: #008000; text-decoration-color: #008000\">'Laert Calil Junior'</span>,\n",
       "        <span style=\"color: #008000; text-decoration-color: #008000\">'Lannei Vilela Moraes'</span>,\n",
       "        <span style=\"color: #008000; text-decoration-color: #008000\">'Luis Lagomes'</span>,\n",
       "        <span style=\"color: #008000; text-decoration-color: #008000\">'Luiz Vinicios Mielniczuk Seelig'</span>,\n",
       "        <span style=\"color: #008000; text-decoration-color: #008000\">'Marcelo Augusto Scacabarozi'</span>,\n",
       "        <span style=\"color: #008000; text-decoration-color: #008000\">'Marcio Costa'</span>,\n",
       "        <span style=\"color: #008000; text-decoration-color: #008000\">'Marcio Rodrigues Maciel'</span>,\n",
       "        <span style=\"color: #008000; text-decoration-color: #008000\">'Marcos Antônio Rodrigues'</span>,\n",
       "        <span style=\"color: #008000; text-decoration-color: #008000\">'Marcos Juliano Valim da Silva'</span>,\n",
       "        <span style=\"color: #008000; text-decoration-color: #008000\">'Maria Teresa Flosi Garrafa'</span>,\n",
       "        <span style=\"color: #008000; text-decoration-color: #008000\">'Mario Augusto Volpini'</span>,\n",
       "        <span style=\"color: #008000; text-decoration-color: #008000\">'Murilo Amaro'</span>,\n",
       "        <span style=\"color: #008000; text-decoration-color: #008000\">'Osnir Lopes'</span>,\n",
       "        <span style=\"color: #008000; text-decoration-color: #008000\">'Paulo Diogo Costa'</span>,\n",
       "        <span style=\"color: #008000; text-decoration-color: #008000\">'Pedro Arai'</span>,\n",
       "        <span style=\"color: #008000; text-decoration-color: #008000\">'Renato Sadao Kushioyada'</span>,\n",
       "        <span style=\"color: #008000; text-decoration-color: #008000\">'Ricardo Santos Marques'</span>,\n",
       "        <span style=\"color: #008000; text-decoration-color: #008000\">'Ricardo da Silva e Souza'</span>,\n",
       "        <span style=\"color: #008000; text-decoration-color: #008000\">'Roberto Carlos Soares Campos'</span>,\n",
       "        <span style=\"color: #008000; text-decoration-color: #008000\">'Roberto Ferreira dos Santos'</span>,\n",
       "        <span style=\"color: #008000; text-decoration-color: #008000\">'Roberto Takata'</span>,\n",
       "        <span style=\"color: #008000; text-decoration-color: #008000\">'Rodrigo Barbosa de Paula'</span>,\n",
       "        <span style=\"color: #008000; text-decoration-color: #008000\">'Rogerio Zambotto'</span>,\n",
       "        <span style=\"color: #008000; text-decoration-color: #008000\">'Ronaldo da Silva Alves Batista'</span>,\n",
       "        <span style=\"color: #008000; text-decoration-color: #008000\">'Sergio Pereira'</span>,\n",
       "        <span style=\"color: #008000; text-decoration-color: #008000\">'Thiago Silva'</span>,\n",
       "        <span style=\"color: #008000; text-decoration-color: #008000\">'Thomaz Honma Ishida'</span>,\n",
       "        <span style=\"color: #008000; text-decoration-color: #008000\">'Vinicius Paiva de Oliveira'</span>,\n",
       "        <span style=\"color: #008000; text-decoration-color: #008000\">'Vitor Zelada'</span>,\n",
       "        <span style=\"color: #008000; text-decoration-color: #008000\">'Wellington Devechi Piauilino'</span>,\n",
       "        <span style=\"color: #008000; text-decoration-color: #008000\">'Wladimir Senise'</span>,\n",
       "        <span style=\"color: #008000; text-decoration-color: #008000\">'marcio colazingari'</span>\n",
       "    <span style=\"font-weight: bold\">]</span>\n",
       "<span style=\"font-weight: bold\">}</span>\n",
       "</pre>\n"
      ],
      "text/plain": [
       "\u001b[1m{\u001b[0m\n",
       "    \u001b[32m'id'\u001b[0m: \u001b[32m'57689'\u001b[0m,\n",
       "    \u001b[32m'subject'\u001b[0m: \u001b[32m'INSP_GR01_2021_0508'\u001b[0m,\n",
       "    \u001b[32m'status'\u001b[0m: \u001b[32m'Relatada'\u001b[0m,\n",
       "    \u001b[32m'priority'\u001b[0m: \u001b[32m'Normal'\u001b[0m,\n",
       "    \u001b[32m'start_date'\u001b[0m: \u001b[32m'2021-03-19'\u001b[0m,\n",
       "    \u001b[32m'due_date'\u001b[0m: \u001b[32m'2021-12-31'\u001b[0m,\n",
       "    \u001b[32m'Classe da Inspeção'\u001b[0m: \u001b[32m'Técnica'\u001b[0m,\n",
       "    \u001b[32m'Tipo de inspeção'\u001b[0m: \u001b[32m'Uso do Espectro - Monitoração'\u001b[0m,\n",
       "    \u001b[32m'Ano'\u001b[0m: \u001b[32m'2021'\u001b[0m,\n",
       "    \u001b[32m'Numero_Sei_do_Processo'\u001b[0m: \u001b[32m'\u001b[0m\u001b[32m{\u001b[0m\u001b[32m\"numero\"=>\"53504.000007/2021-50\", \"link_acesso\"=>\"https://sei\u001b[0m\n",
       "\u001b[32mhm.anatel.gov.br/sei/controlador.php?\u001b[0m\u001b[32macao\u001b[0m\u001b[32m=\u001b[0m\u001b[32mprocedimento_trabalhar\u001b[0m\u001b[32m&\u001b[0m\u001b[32mid_procedimento\u001b[0m\u001b[32m=\u001b[0m\u001b[32m1962455\"\u001b[0m\u001b[32m}\u001b[0m\u001b[32m'\u001b[0m,\n",
       "    \u001b[32m'Descrição da Inspeção'\u001b[0m: \u001b[32m'Atendimento da Denúncia AC202010213075425 \u001b[0m\u001b[32m(\u001b[0m\u001b[32m6104512\u001b[0m\u001b[32m)\u001b[0m\u001b[32m, \u001b[0m\n",
       "\u001b[32m\\nverificação da Potência e Intensidade de Campo Elétrico da Frequência 105.1MHz e seus \u001b[0m\n",
       "\u001b[32mharmônicos, \\nalém da checagem de Intermodulação e Espúrios nas frequências 450.3MHz e \u001b[0m\n",
       "\u001b[32m750MHz.'\u001b[0m,\n",
       "    \u001b[32m'Fiscal Responsável'\u001b[0m: \u001b[32m'Ronaldo da Silva Alves Batista'\u001b[0m,\n",
       "    \u001b[32m'Fiscais'\u001b[0m: \u001b[1m[\u001b[0m\n",
       "        \u001b[32m'Ronaldo da Silva Alves Batista'\u001b[0m,\n",
       "        \u001b[32m'Mario Augusto Volpini'\u001b[0m,\n",
       "        \u001b[32m'Paulo Diogo Costa'\u001b[0m\n",
       "    \u001b[1m]\u001b[0m,\n",
       "    \u001b[32m'Entidade da Inspeção'\u001b[0m: \u001b[1m[\u001b[0m\u001b[1m]\u001b[0m,\n",
       "    \u001b[32m'UF/Município'\u001b[0m: \u001b[1m[\u001b[0m\u001b[32m'SP/São Paulo'\u001b[0m\u001b[1m]\u001b[0m,\n",
       "    \u001b[32m'Serviços da Inspeção'\u001b[0m: \u001b[1m[\u001b[0m\n",
       "        \u001b[32m'800 - COLETIVO - RETRANSMISSAO DE T.V.'\u001b[0m,\n",
       "        \u001b[32m'231 - COLETIVO - RADIODIFUSÃO COMUNITÁRIA'\u001b[0m,\n",
       "        \u001b[32m'230 - COLETIVO - RADIODIFUSÃO SONORA EM FREQÜÊNCIA MODULADA'\u001b[0m\n",
       "    \u001b[1m]\u001b[0m,\n",
       "    \u001b[32m'Qnt. de emissões na faixa'\u001b[0m: \u001b[32m'12'\u001b[0m,\n",
       "    \u001b[32m'Emissões não autorizadas/desc'\u001b[0m: \u001b[32m'70'\u001b[0m,\n",
       "    \u001b[32m'Horas de Preparação'\u001b[0m: \u001b[32m'2'\u001b[0m,\n",
       "    \u001b[32m'Horas de Deslocamento'\u001b[0m: \u001b[32m'0'\u001b[0m,\n",
       "    \u001b[32m'Horas de Execução'\u001b[0m: \u001b[32m'32'\u001b[0m,\n",
       "    \u001b[32m'Horas de Conclusão'\u001b[0m: \u001b[32m'6'\u001b[0m,\n",
       "    \u001b[32m'SAV'\u001b[0m: \u001b[32m''\u001b[0m,\n",
       "    \u001b[32m'PCDP'\u001b[0m: \u001b[32m''\u001b[0m,\n",
       "    \u001b[32m'Procedimentos'\u001b[0m: \u001b[1m[\u001b[0m\u001b[1m]\u001b[0m,\n",
       "    \u001b[32m'Latitude \u001b[0m\u001b[32m(\u001b[0m\u001b[32mcoordenadas\u001b[0m\u001b[32m)\u001b[0m\u001b[32m'\u001b[0m: \u001b[32m'-22.94694'\u001b[0m,\n",
       "    \u001b[32m'Longitude \u001b[0m\u001b[32m(\u001b[0m\u001b[32mcoordenadas\u001b[0m\u001b[32m)\u001b[0m\u001b[32m'\u001b[0m: \u001b[32m'-43.21944'\u001b[0m,\n",
       "    \u001b[32m'Uso de PF'\u001b[0m: \u001b[32m'Não se aplica PF - uso apenas de formulários'\u001b[0m,\n",
       "    \u001b[32m'Ação de risco à vida criada?'\u001b[0m: \u001b[32m'Não'\u001b[0m,\n",
       "    \u001b[32m'Frequência Inicial'\u001b[0m: \u001b[32m'54'\u001b[0m,\n",
       "    \u001b[32m'Unidade da Frequência Inicial'\u001b[0m: \u001b[32m'MHz'\u001b[0m,\n",
       "    \u001b[32m'Frequência Final'\u001b[0m: \u001b[32m'700'\u001b[0m,\n",
       "    \u001b[32m'Unidade da Frequência Final'\u001b[0m: \u001b[32m'MHz'\u001b[0m,\n",
       "    \u001b[32m'Agrupamento'\u001b[0m: \u001b[32m''\u001b[0m,\n",
       "    \u001b[32m'AppFiscaliza'\u001b[0m: \u001b[32m'0'\u001b[0m,\n",
       "    \u001b[32m'Relatorio_de_Monitoramento'\u001b[0m: \u001b[32m'\u001b[0m\u001b[32m{\u001b[0m\u001b[32m\"numero\"=>\"0190599\", \"link_acesso\"=>\"https://seihm.anatel\u001b[0m\n",
       "\u001b[32m.gov.br/sei/controlador.php?\u001b[0m\u001b[32macao\u001b[0m\u001b[32m=\u001b[0m\u001b[32mprocedimento_trabalhar\u001b[0m\u001b[32m&\u001b[0m\u001b[32mid_procedimento\u001b[0m\u001b[32m=\u001b[0m\u001b[32m1962455\u001b[0m\u001b[32m&\u001b[0m\u001b[32mid_documento\u001b[0m\u001b[32m=\u001b[0m\n",
       "\u001b[32m1962869\"\u001b[0m\u001b[32m}\u001b[0m\u001b[32m'\u001b[0m,\n",
       "    \u001b[32m'Reservar Instrumentos?'\u001b[0m: \u001b[32m'0'\u001b[0m,\n",
       "    \u001b[32m'Utilizou algum instrumento?'\u001b[0m: \u001b[32m'0'\u001b[0m,\n",
       "    \u001b[32m'id_ACAO'\u001b[0m: \u001b[1;36m52876\u001b[0m,\n",
       "    \u001b[32m'nome_ACAO'\u001b[0m: \u001b[32m'ACAO_GR01_2021_0491'\u001b[0m,\n",
       "    \u001b[32m'descricao_ACAO'\u001b[0m: \u001b[32m'Teste'\u001b[0m,\n",
       "    \u001b[32m'Users'\u001b[0m: \u001b[1m[\u001b[0m\n",
       "        \u001b[32m'Alexandre Elias de Andrade Oliveira'\u001b[0m,\n",
       "        \u001b[32m'Alexandre Freitas de Lima'\u001b[0m,\n",
       "        \u001b[32m'Alexandre Inacio'\u001b[0m,\n",
       "        \u001b[32m'Alexandre Junzo Hamada'\u001b[0m,\n",
       "        \u001b[32m'Alfredo de Andrade Filho'\u001b[0m,\n",
       "        \u001b[32m'Ananias Pereira'\u001b[0m,\n",
       "        \u001b[32m'Antonio Carlos Cardoso de Mello'\u001b[0m,\n",
       "        \u001b[32m'Aparecido Sebastiao da Silva'\u001b[0m,\n",
       "        \u001b[32m'Arthur Pisaruk'\u001b[0m,\n",
       "        \u001b[32m'Carlos Augusto de Carvalho'\u001b[0m,\n",
       "        \u001b[32m'Carlos Eduardo Guimaraes Silveira'\u001b[0m,\n",
       "        \u001b[32m'Carlos da Paixao Filho'\u001b[0m,\n",
       "        \u001b[32m'Celio Yukio Takahashi'\u001b[0m,\n",
       "        \u001b[32m'Celso Luiz Maximino'\u001b[0m,\n",
       "        \u001b[32m'Diogo Caldeira'\u001b[0m,\n",
       "        \u001b[32m'Ediceu Beraldi'\u001b[0m,\n",
       "        \u001b[32m'Eduardo Narkevicius'\u001b[0m,\n",
       "        \u001b[32m'Elcio Maehara'\u001b[0m,\n",
       "        \u001b[32m'Eustaquio Lages Duarte'\u001b[0m,\n",
       "        \u001b[32m'Fiscal UD'\u001b[0m,\n",
       "        \u001b[32m'Gauber Albuquerque'\u001b[0m,\n",
       "        \u001b[32m'Gilson Ponce Ayres Filho'\u001b[0m,\n",
       "        \u001b[32m'Helio Lopes de Carvalho Filho'\u001b[0m,\n",
       "        \u001b[32m'Higor Paz Melo'\u001b[0m,\n",
       "        \u001b[32m'Hugo Santana Lima'\u001b[0m,\n",
       "        \u001b[32m'Humberto Barbosa Vinagre'\u001b[0m,\n",
       "        \u001b[32m'Jamilson Evangelista'\u001b[0m,\n",
       "        \u001b[32m'Joao Yokoyama'\u001b[0m,\n",
       "        \u001b[32m'Joaquim Miranda'\u001b[0m,\n",
       "        \u001b[32m'José Antônio S. Sanches'\u001b[0m,\n",
       "        \u001b[32m'Julio Cesar de Assis Santos'\u001b[0m,\n",
       "        \u001b[32m'Kiyotomo Kawamura'\u001b[0m,\n",
       "        \u001b[32m'Laert Calil Junior'\u001b[0m,\n",
       "        \u001b[32m'Lannei Vilela Moraes'\u001b[0m,\n",
       "        \u001b[32m'Luis Lagomes'\u001b[0m,\n",
       "        \u001b[32m'Luiz Vinicios Mielniczuk Seelig'\u001b[0m,\n",
       "        \u001b[32m'Marcelo Augusto Scacabarozi'\u001b[0m,\n",
       "        \u001b[32m'Marcio Costa'\u001b[0m,\n",
       "        \u001b[32m'Marcio Rodrigues Maciel'\u001b[0m,\n",
       "        \u001b[32m'Marcos Antônio Rodrigues'\u001b[0m,\n",
       "        \u001b[32m'Marcos Juliano Valim da Silva'\u001b[0m,\n",
       "        \u001b[32m'Maria Teresa Flosi Garrafa'\u001b[0m,\n",
       "        \u001b[32m'Mario Augusto Volpini'\u001b[0m,\n",
       "        \u001b[32m'Murilo Amaro'\u001b[0m,\n",
       "        \u001b[32m'Osnir Lopes'\u001b[0m,\n",
       "        \u001b[32m'Paulo Diogo Costa'\u001b[0m,\n",
       "        \u001b[32m'Pedro Arai'\u001b[0m,\n",
       "        \u001b[32m'Renato Sadao Kushioyada'\u001b[0m,\n",
       "        \u001b[32m'Ricardo Santos Marques'\u001b[0m,\n",
       "        \u001b[32m'Ricardo da Silva e Souza'\u001b[0m,\n",
       "        \u001b[32m'Roberto Carlos Soares Campos'\u001b[0m,\n",
       "        \u001b[32m'Roberto Ferreira dos Santos'\u001b[0m,\n",
       "        \u001b[32m'Roberto Takata'\u001b[0m,\n",
       "        \u001b[32m'Rodrigo Barbosa de Paula'\u001b[0m,\n",
       "        \u001b[32m'Rogerio Zambotto'\u001b[0m,\n",
       "        \u001b[32m'Ronaldo da Silva Alves Batista'\u001b[0m,\n",
       "        \u001b[32m'Sergio Pereira'\u001b[0m,\n",
       "        \u001b[32m'Thiago Silva'\u001b[0m,\n",
       "        \u001b[32m'Thomaz Honma Ishida'\u001b[0m,\n",
       "        \u001b[32m'Vinicius Paiva de Oliveira'\u001b[0m,\n",
       "        \u001b[32m'Vitor Zelada'\u001b[0m,\n",
       "        \u001b[32m'Wellington Devechi Piauilino'\u001b[0m,\n",
       "        \u001b[32m'Wladimir Senise'\u001b[0m,\n",
       "        \u001b[32m'marcio colazingari'\u001b[0m\n",
       "    \u001b[1m]\u001b[0m\n",
       "\u001b[1m}\u001b[0m\n"
      ]
     },
     "metadata": {},
     "output_type": "display_data"
    },
    {
     "data": {
      "text/html": [
       "<pre style=\"white-space:pre;overflow-x:auto;line-height:normal;font-family:Menlo,'DejaVu Sans Mono',consolas,'Courier New',monospace\">Inspeção Relatada 😎\n",
       "</pre>\n"
      ],
      "text/plain": [
       "Inspeção Relatada 😎\n"
      ]
     },
     "metadata": {},
     "output_type": "display_data"
    }
   ],
   "source": [
    "estado = relatar_inspecao(inspecao, login, senha, dados=dados, teste=True)"
   ]
  }
 ],
 "metadata": {
  "kernelspec": {
   "display_name": "Python [conda env:fiscaliza]",
   "language": "python",
   "name": "conda-env-fiscaliza-py"
  }
 },
 "nbformat": 4,
 "nbformat_minor": 4
}
