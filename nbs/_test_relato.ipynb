{
 "cells": [
  {
   "cell_type": "code",
   "execution_count": null,
   "metadata": {},
   "outputs": [],
   "source": [
    "#hide\n",
    "import json\n",
    "from pathlib import Path\n",
    "from getpass import getuser, getpass\n",
    "from fiscaliza.redmine import *\n",
    "from fiscaliza.constants import SERVICOS\n",
    "from rich.console import Console\n",
    "console = Console()"
   ]
  },
  {
   "cell_type": "code",
   "execution_count": null,
   "metadata": {},
   "outputs": [
    {
     "name": "stdout",
     "output_type": "stream",
     "text": [
      "The autoreload extension is already loaded. To reload it, use:\n",
      "  %reload_ext autoreload\n"
     ]
    }
   ],
   "source": [
    "%load_ext autoreload\n",
    "%autoreload 2\n",
    "%config Completer.use_jedi = False"
   ]
  },
  {
   "cell_type": "markdown",
   "metadata": {},
   "source": [
    "Caso não desejar utilizar um ambiente virtual basta rodar:\n",
    "`pip install fiscaliza`"
   ]
  },
  {
   "cell_type": "code",
   "execution_count": null,
   "metadata": {},
   "outputs": [],
   "source": [
    "# \n",
    "login = 'eric'\n",
    "senha = 'EmD1980m#'\n",
    "TESTE = True\n",
    "issue = '84934'\n",
    "parar_em = 'Relatando'\n"
   ]
  },
  {
   "cell_type": "code",
   "execution_count": null,
   "metadata": {},
   "outputs": [],
   "source": [
    "# issue = '72088'\n",
    "# detalhes = detalhar_issue(issue, login, senha)\n",
    "# console.print(detalhes)"
   ]
  },
  {
   "cell_type": "code",
   "execution_count": null,
   "metadata": {},
   "outputs": [],
   "source": [
    "d = {}\n",
    "\n",
    "d['Classe_da_Inspecao'] = 'Técnica' # str\n",
    "\n",
    "d['Tipo_de_Inspecao'] = 'Uso do Espectro - Monitoração' #str\n",
    "\n",
    "d['description'] = '''Realizar análise espectral de faixas das frequência relacionadas ao Plano de Monitoração do Espectro destinado a aplicações Críticas (PMEC), aferindo a sua ocupação, nas localidades que compõem a Etapa 1 da fiscalização.'''\n",
    "\n",
    "d['Fiscal_Responsavel'] = 'Eric Magalhaes Delgado' #str\n",
    "\n",
    "d['Fiscais'] = ['Alessandro Vasconcelos Fernandes', 'Eric Magalhaes Delgado'] #string ou lista de strings\n",
    "\n",
    "# Windows\n",
    "d['Html'] = r'D:\\OneDrive - ANATEL\\Monitoramento\\Processos\\53500.0191952022-19\\Report_2022.04.18_T13.59.18_FinalVersion.html' #str\n",
    "\n",
    "# ['Html'] = r'D:\\html_simples.html'\n",
    "\n",
    "# #ou \n",
    "\n",
    "# #Unix d['Html'] = '/d/OneDrive - ANATEL/Monitoramento/53504.0005432021-55/Guarulhos.html' #str\n",
    "            \n",
    "d['Gerar_Relatorio'] = 1 # int 0 ou 1\n",
    "\n",
    "d['Frequencia_Inicial']  = 10 #int ou float\n",
    "\n",
    "d['Unidade_da_Frequencia_Inicial'] = 'kHz' #string\n",
    "\n",
    "d['Frequencia_Final'] = 110 #int ou float\n",
    "\n",
    "d['Unidade_da_Frequencia_Final'] = 'MHz' #string\n",
    "\n",
    "d['start_date'] = '2022-04-11' #YYYY-MM-DD #string nesse formato\n",
    "\n",
    "d['due_date'] = '2022-05-31'  #YYYY-MM-DD #string nesse formato\n",
    "\n",
    "d['UF_Municipio'] = \"BA/Salvador\" # string ou Lista de Strings: [\"SP/São Paulo\", \"SP/Sorocaba\"]\n",
    "\n",
    "d['Servicos_da_Inspecao'] = ['019', '205',  '230', '231', '507'] # String ou Lista de Strings\n",
    "\n",
    "d['Qnt_de_emissoes_na_faixa'] = 70 # int\n",
    "\n",
    "# d[\"Qtd_Licenciadas\"] = 1\n",
    "\n",
    "# d[\"Qtd_Identificadas\"] = 1\n",
    "\n",
    "d['Emissoes_nao_autorizadas'] = 24 # int\n",
    "\n",
    "d['Horas_de_Preparacao'] = 4 # int\n",
    "\n",
    "d['Horas_de_Deslocamento'] = 0 # int\n",
    "\n",
    "d['Horas_de_Execucao'] = 4 # int\n",
    "\n",
    "d['Horas_de_Conclusao'] = 16 # int\n",
    "\n",
    "d['Latitude'] =  -23.635884 # float\n",
    "\n",
    "d['Longitude'] = -46.654251 # float\n",
    "\n",
    "d['Uso_de_PF'] = 'Não se aplica PF - uso apenas de formulários' # string\n",
    "\n",
    "d['Acao_de_risco_a_vida_criada'] = 'Não' # string Sim | Não\n",
    "\n",
    "d['Impossibilidade_acesso_online'] = '0' # string '0' | '1'\n",
    "\n",
    "d['Reservar_Instrumentos'] = '0' #string '0' = Não | '1' = 'Sim'\n",
    "\n",
    "d['Utilizou_algum_instrumento'] = '0'\n",
    "\n",
    "# d['notes'] = \"\"\"Vemos que o nível médio medido ficou da ordem de 35.2 dB inferior e o nível máximo da ordem de 25.2 dB inferior do valor esperado pela simulação de cobertura, indicando potenciais perdas adicionais não contabilizadas pelo modelo de propagação.\n",
    "\n",
    "# Cabe salientar que concomitantemente à monitoração efetuada no item 4 foi efetuada a demodulação do sinal de áudio e monitoração do sinal ao vivo e não foi constatado qualquer sinal de interferência, batimento ou produto de intermodulação.\"\"\"\n",
    "\n",
    "# d['notes'] = [\"\"\"[{\"Banda\":\"87.800 - 108.000 MHz\", \"Licenciados\":31,\"NaoLicenciados\":4,\"NaoLicenciaveis\":0, 'Espúrio': 2, \"NaoIdentificada\": 1, \"NaoManifestada\": 0},\n",
    "#                 {\"Banda\":\"470.000 - 698.000 MHz\",\"Sinais\":19,\"Licenciados\":19,\"NaoLicenciados\":0,\"NaoLicenciaveis\":0, 'Espúrio': 2, \"NaoIdentificada\": 1, \"NaoManifestada\": 0}]\n",
    "#             \"\"\"]\n",
    "\n",
    "# No caso de uma tabela, string formatada como csv\n",
    "\n",
    "# d['notes'] = [\"\"\"Faixa, Classe Especial, Classe A, Classe B, Classe C\n",
    "#                 VHF-L,0,5,7,5\n",
    "#                 VHF-H,0,12,1,0\n",
    "#                 UHF,1,1,2,4\n",
    "#                 FM,5,1,0,0\n",
    "#                 RADCOM,0,0,0,0\n",
    "#                 Outorgadas com indícios de irregularidades,1,2,3,4\n",
    "#               \"\"\",\n",
    "#               \"\"\"[{\"Banda\":\"87.800 - 108.000 MHz\",\"Sinais\":35,\"Licenciados\":31,\"NaoLicenciados\":4,\"NaoLicenciaveis\":0},\n",
    "#                   {\"Banda\":\"470.000 - 698.000 MHz\",\"Sinais\":19,\"Licenciados\":19,\"NaoLicenciados\":0,\"NaoLicenciaveis\":0}]\n",
    "#               \"\"\"]\n",
    "\n",
    "# d['uploads'] = {'path': r'D:\\OneDrive - ANATEL\\Monitoramento\\Processos\\Diogo\\Mapa3\\106_1.csv', \n",
    "#                 'filename': \"Lista_de_Exceção_PMEC_Etapa_2_Sorocaba\", \n",
    "#                 'description': \"Lista de Emissões Desmascaradas e Não Licenciadas\",\n",
    "#                 'content_type': '.csv'\n",
    "#                }"
   ]
  },
  {
   "cell_type": "code",
   "execution_count": null,
   "metadata": {},
   "outputs": [],
   "source": [
    "json.dump(d, Path(\"dados.json\").open(\"w\"))"
   ]
  },
  {
   "cell_type": "code",
   "execution_count": null,
   "metadata": {},
   "outputs": [],
   "source": [
    "#dados = validar_dicionario(d, issue, login, senha, teste=TESTE)"
   ]
  },
  {
   "cell_type": "code",
   "execution_count": null,
   "metadata": {},
   "outputs": [
    {
     "data": {
      "text/html": [
       "<pre style=\"white-space:pre;overflow-x:auto;line-height:normal;font-family:Menlo,'DejaVu Sans Mono',consolas,'Courier New',monospace\"><span style=\"color: #000080; text-decoration-color: #000080\">Classe_da_Inspecao </span><span style=\"color: #800000; text-decoration-color: #800000\">-&gt; </span><span style=\"color: #008000; text-decoration-color: #008000; font-weight: bold\">{</span><span style=\"color: #008000; text-decoration-color: #008000\">'id'</span><span style=\"color: #008000; text-decoration-color: #008000\">: </span><span style=\"color: #008000; text-decoration-color: #008000; font-weight: bold\">89</span><span style=\"color: #008000; text-decoration-color: #008000\">, </span><span style=\"color: #008000; text-decoration-color: #008000\">'value'</span><span style=\"color: #008000; text-decoration-color: #008000\">: </span><span style=\"color: #008000; text-decoration-color: #008000\">'{\"valor\":\"Técnica\",\"texto\":\"Técnica\"}'</span><span style=\"color: #008000; text-decoration-color: #008000; font-weight: bold\">}</span>\n",
       "</pre>\n"
      ],
      "text/plain": [
       "\u001b[34mClasse_da_Inspecao \u001b[0m\u001b[31m-> \u001b[0m\u001b[1;32m{\u001b[0m\u001b[32m'id'\u001b[0m\u001b[32m: \u001b[0m\u001b[1;32m89\u001b[0m\u001b[32m, \u001b[0m\u001b[32m'value'\u001b[0m\u001b[32m: \u001b[0m\u001b[32m'\u001b[0m\u001b[32m{\u001b[0m\u001b[32m\"valor\":\"Técnica\",\"texto\":\"Técnica\"\u001b[0m\u001b[32m}\u001b[0m\u001b[32m'\u001b[0m\u001b[1;32m}\u001b[0m\n"
      ]
     },
     "metadata": {},
     "output_type": "display_data"
    },
    {
     "data": {
      "text/html": [
       "<pre style=\"white-space:pre;overflow-x:auto;line-height:normal;font-family:Menlo,'DejaVu Sans Mono',consolas,'Courier New',monospace\"><span style=\"color: #000080; text-decoration-color: #000080\">Tipo_de_Inspecao </span><span style=\"color: #800000; text-decoration-color: #800000\">-&gt; </span><span style=\"color: #008000; text-decoration-color: #008000; font-weight: bold\">{</span><span style=\"color: #008000; text-decoration-color: #008000\">'id'</span><span style=\"color: #008000; text-decoration-color: #008000\">: </span><span style=\"color: #008000; text-decoration-color: #008000; font-weight: bold\">2</span><span style=\"color: #008000; text-decoration-color: #008000\">, </span><span style=\"color: #008000; text-decoration-color: #008000\">'value'</span><span style=\"color: #008000; text-decoration-color: #008000\">: </span><span style=\"color: #008000; text-decoration-color: #008000\">'{\"valor\":\"Uso do Espectro - Monitoração\",\"texto\":\"Uso</span>\n",
       "<span style=\"color: #008000; text-decoration-color: #008000\">do Espectro - Monitoração\"}'</span><span style=\"color: #008000; text-decoration-color: #008000; font-weight: bold\">}</span>\n",
       "</pre>\n"
      ],
      "text/plain": [
       "\u001b[34mTipo_de_Inspecao \u001b[0m\u001b[31m-> \u001b[0m\u001b[1;32m{\u001b[0m\u001b[32m'id'\u001b[0m\u001b[32m: \u001b[0m\u001b[1;32m2\u001b[0m\u001b[32m, \u001b[0m\u001b[32m'value'\u001b[0m\u001b[32m: \u001b[0m\u001b[32m'\u001b[0m\u001b[32m{\u001b[0m\u001b[32m\"valor\":\"Uso do Espectro - Monitoração\",\"texto\":\"Uso\u001b[0m\n",
       "\u001b[32mdo Espectro - Monitoração\"\u001b[0m\u001b[32m}\u001b[0m\u001b[32m'\u001b[0m\u001b[1;32m}\u001b[0m\n"
      ]
     },
     "metadata": {},
     "output_type": "display_data"
    },
    {
     "data": {
      "text/html": [
       "<pre style=\"white-space:pre;overflow-x:auto;line-height:normal;font-family:Menlo,'DejaVu Sans Mono',consolas,'Courier New',monospace\"><span style=\"color: #000080; text-decoration-color: #000080\">description </span><span style=\"color: #800000; text-decoration-color: #800000\">-&gt; </span><span style=\"color: #008000; text-decoration-color: #008000\">Realizar análise espectral de faixas das frequência relacionadas ao Plano de </span>\n",
       "<span style=\"color: #008000; text-decoration-color: #008000\">Monitoração do Espectro destinado a aplicações Críticas </span><span style=\"color: #008000; text-decoration-color: #008000; font-weight: bold\">(</span><span style=\"color: #008000; text-decoration-color: #008000\">PMEC</span><span style=\"color: #008000; text-decoration-color: #008000; font-weight: bold\">)</span><span style=\"color: #008000; text-decoration-color: #008000\">, aferindo a sua ocupação, nas </span>\n",
       "<span style=\"color: #008000; text-decoration-color: #008000\">localidades que compõem a Etapa </span><span style=\"color: #008000; text-decoration-color: #008000; font-weight: bold\">1</span><span style=\"color: #008000; text-decoration-color: #008000\"> da fiscalização.</span>\n",
       "</pre>\n"
      ],
      "text/plain": [
       "\u001b[34mdescription \u001b[0m\u001b[31m-> \u001b[0m\u001b[32mRealizar análise espectral de faixas das frequência relacionadas ao Plano de \u001b[0m\n",
       "\u001b[32mMonitoração do Espectro destinado a aplicações Críticas \u001b[0m\u001b[1;32m(\u001b[0m\u001b[32mPMEC\u001b[0m\u001b[1;32m)\u001b[0m\u001b[32m, aferindo a sua ocupação, nas \u001b[0m\n",
       "\u001b[32mlocalidades que compõem a Etapa \u001b[0m\u001b[1;32m1\u001b[0m\u001b[32m da fiscalização.\u001b[0m\n"
      ]
     },
     "metadata": {},
     "output_type": "display_data"
    },
    {
     "data": {
      "text/html": [
       "<pre style=\"white-space:pre;overflow-x:auto;line-height:normal;font-family:Menlo,'DejaVu Sans Mono',consolas,'Courier New',monospace\"><span style=\"color: #000080; text-decoration-color: #000080\">Fiscal_Responsavel </span><span style=\"color: #800000; text-decoration-color: #800000\">-&gt; </span><span style=\"color: #008000; text-decoration-color: #008000; font-weight: bold\">{</span><span style=\"color: #008000; text-decoration-color: #008000\">'id'</span><span style=\"color: #008000; text-decoration-color: #008000\">: </span><span style=\"color: #008000; text-decoration-color: #008000; font-weight: bold\">25</span><span style=\"color: #008000; text-decoration-color: #008000\">, </span><span style=\"color: #008000; text-decoration-color: #008000\">'value'</span><span style=\"color: #008000; text-decoration-color: #008000\">: </span><span style=\"color: #008000; text-decoration-color: #008000; font-weight: bold\">1262</span><span style=\"color: #008000; text-decoration-color: #008000; font-weight: bold\">}</span>\n",
       "</pre>\n"
      ],
      "text/plain": [
       "\u001b[34mFiscal_Responsavel \u001b[0m\u001b[31m-> \u001b[0m\u001b[1;32m{\u001b[0m\u001b[32m'id'\u001b[0m\u001b[32m: \u001b[0m\u001b[1;32m25\u001b[0m\u001b[32m, \u001b[0m\u001b[32m'value'\u001b[0m\u001b[32m: \u001b[0m\u001b[1;32m1262\u001b[0m\u001b[1;32m}\u001b[0m\n"
      ]
     },
     "metadata": {},
     "output_type": "display_data"
    },
    {
     "data": {
      "text/html": [
       "<pre style=\"white-space:pre;overflow-x:auto;line-height:normal;font-family:Menlo,'DejaVu Sans Mono',consolas,'Courier New',monospace\"><span style=\"color: #000080; text-decoration-color: #000080\">Fiscais </span><span style=\"color: #800000; text-decoration-color: #800000\">-&gt; </span><span style=\"color: #008000; text-decoration-color: #008000; font-weight: bold\">{</span><span style=\"color: #008000; text-decoration-color: #008000\">'id'</span><span style=\"color: #008000; text-decoration-color: #008000\">: </span><span style=\"color: #008000; text-decoration-color: #008000; font-weight: bold\">26</span><span style=\"color: #008000; text-decoration-color: #008000\">, </span><span style=\"color: #008000; text-decoration-color: #008000\">'value'</span><span style=\"color: #008000; text-decoration-color: #008000\">: </span><span style=\"color: #008000; text-decoration-color: #008000; font-weight: bold\">[</span><span style=\"color: #008000; text-decoration-color: #008000; font-weight: bold\">333</span><span style=\"color: #008000; text-decoration-color: #008000\">, </span><span style=\"color: #008000; text-decoration-color: #008000; font-weight: bold\">1262</span><span style=\"color: #008000; text-decoration-color: #008000; font-weight: bold\">]}</span>\n",
       "</pre>\n"
      ],
      "text/plain": [
       "\u001b[34mFiscais \u001b[0m\u001b[31m-> \u001b[0m\u001b[1;32m{\u001b[0m\u001b[32m'id'\u001b[0m\u001b[32m: \u001b[0m\u001b[1;32m26\u001b[0m\u001b[32m, \u001b[0m\u001b[32m'value'\u001b[0m\u001b[32m: \u001b[0m\u001b[1;32m[\u001b[0m\u001b[1;32m333\u001b[0m\u001b[32m, \u001b[0m\u001b[1;32m1262\u001b[0m\u001b[1;32m]\u001b[0m\u001b[1;32m}\u001b[0m\n"
      ]
     },
     "metadata": {},
     "output_type": "display_data"
    },
    {
     "data": {
      "text/html": [
       "<pre style=\"white-space:pre;overflow-x:auto;line-height:normal;font-family:Menlo,'DejaVu Sans Mono',consolas,'Courier New',monospace\"><span style=\"color: #000080; text-decoration-color: #000080\">Html </span><span style=\"color: #800000; text-decoration-color: #800000\">-&gt; </span><span style=\"color: #008000; text-decoration-color: #008000; font-weight: bold\">{</span><span style=\"color: #008000; text-decoration-color: #008000\">'id'</span><span style=\"color: #008000; text-decoration-color: #008000\">: </span><span style=\"color: #008000; text-decoration-color: #008000; font-weight: bold\">543</span><span style=\"color: #008000; text-decoration-color: #008000\">, </span><span style=\"color: #008000; text-decoration-color: #008000\">'value'</span><span style=\"color: #008000; text-decoration-color: #008000\">: '</span><span style=\"color: #008000; text-decoration-color: #008000; font-weight: bold\">&lt;</span><span style=\"color: #008000; text-decoration-color: #008000\">!DOCTYPE html</span><span style=\"color: #008000; text-decoration-color: #008000; font-weight: bold\">&gt;</span><span style=\"color: #008000; text-decoration-color: #008000\">\\n</span><span style=\"color: #008000; text-decoration-color: #008000; font-weight: bold\">&lt;html</span><span style=\"color: #008000; text-decoration-color: #008000\"> </span><span style=\"color: #008000; text-decoration-color: #008000\">lang</span><span style=\"color: #008000; text-decoration-color: #008000\">=</span><span style=\"color: #008000; text-decoration-color: #008000\">\"pt-br\"</span><span style=\"color: #008000; text-decoration-color: #008000; font-weight: bold\">&gt;</span><span style=\"color: #008000; text-decoration-color: #008000\">\\n\\n</span><span style=\"color: #008000; text-decoration-color: #008000; font-weight: bold\">&lt;head&gt;</span><span style=\"color: #008000; text-decoration-color: #008000\">\\n    </span>\n",
       "<span style=\"color: #008000; text-decoration-color: #008000; font-weight: bold\">&lt;title&gt;</span><span style=\"color: #008000; text-decoration-color: #008000\">Título da página&lt;/t</span>\n",
       "<span style=\"color: #008000; text-decoration-color: #008000\">...</span>\n",
       "<span style=\"color: #008000; text-decoration-color: #008000; font-weight: bold\">8</span><span style=\"color: #008000; text-decoration-color: #008000\">\"&gt;\\n</span><span style=\"color: #008000; text-decoration-color: #008000; font-weight: bold\">&lt;</span><span style=\"color: #008000; text-decoration-color: #008000\">/head</span><span style=\"color: #008000; text-decoration-color: #008000; font-weight: bold\">&gt;</span><span style=\"color: #008000; text-decoration-color: #008000\">\\n\\n</span><span style=\"color: #008000; text-decoration-color: #008000; font-weight: bold\">&lt;body&gt;</span><span style=\"color: #008000; text-decoration-color: #008000\">\\n    Aqui vai o código HTML que fará seu site </span>\n",
       "<span style=\"color: #008000; text-decoration-color: #008000\">aparecer.\\n</span><span style=\"color: #008000; text-decoration-color: #008000; font-weight: bold\">&lt;</span><span style=\"color: #008000; text-decoration-color: #008000\">/body</span><span style=\"color: #008000; text-decoration-color: #008000; font-weight: bold\">&gt;</span><span style=\"color: #008000; text-decoration-color: #008000\">\\n\\n</span><span style=\"color: #008000; text-decoration-color: #008000; font-weight: bold\">&lt;</span><span style=\"color: #008000; text-decoration-color: #008000\">/html</span><span style=\"color: #008000; text-decoration-color: #008000; font-weight: bold\">&gt;</span><span style=\"color: #008000; text-decoration-color: #008000\">'</span><span style=\"color: #008000; text-decoration-color: #008000; font-weight: bold\">}</span>\n",
       "</pre>\n"
      ],
      "text/plain": [
       "\u001b[34mHtml \u001b[0m\u001b[31m-> \u001b[0m\u001b[1;32m{\u001b[0m\u001b[32m'id'\u001b[0m\u001b[32m: \u001b[0m\u001b[1;32m543\u001b[0m\u001b[32m, \u001b[0m\u001b[32m'value'\u001b[0m\u001b[32m: '\u001b[0m\u001b[1;32m<\u001b[0m\u001b[32m!DOCTYPE html\u001b[0m\u001b[1;32m>\u001b[0m\u001b[32m\\n\u001b[0m\u001b[1;32m<\u001b[0m\u001b[1;32mhtml\u001b[0m\u001b[32m \u001b[0m\u001b[32mlang\u001b[0m\u001b[32m=\u001b[0m\u001b[32m\"pt\u001b[0m\u001b[32m-br\"\u001b[0m\u001b[1;32m>\u001b[0m\u001b[32m\\n\\n\u001b[0m\u001b[1;32m<\u001b[0m\u001b[1;32mhead\u001b[0m\u001b[1;32m>\u001b[0m\u001b[32m\\n    \u001b[0m\n",
       "\u001b[1;32m<\u001b[0m\u001b[1;32mtitle\u001b[0m\u001b[1;32m>\u001b[0m\u001b[32mTítulo da página<\u001b[0m\u001b[32m/\u001b[0m\u001b[32mt\u001b[0m\n",
       "\u001b[32m...\u001b[0m\n",
       "\u001b[1;32m8\u001b[0m\u001b[32m\">\\n\u001b[0m\u001b[1;32m<\u001b[0m\u001b[32m/\u001b[0m\u001b[32mhead\u001b[0m\u001b[1;32m>\u001b[0m\u001b[32m\\n\\n\u001b[0m\u001b[1;32m<\u001b[0m\u001b[1;32mbody\u001b[0m\u001b[1;32m>\u001b[0m\u001b[32m\\n    Aqui vai o código HTML que fará seu site \u001b[0m\n",
       "\u001b[32maparecer.\\n\u001b[0m\u001b[1;32m<\u001b[0m\u001b[32m/\u001b[0m\u001b[32mbody\u001b[0m\u001b[1;32m>\u001b[0m\u001b[32m\\n\\n\u001b[0m\u001b[1;32m<\u001b[0m\u001b[32m/\u001b[0m\u001b[32mhtml\u001b[0m\u001b[1;32m>\u001b[0m\u001b[32m'\u001b[0m\u001b[1;32m}\u001b[0m\n"
      ]
     },
     "metadata": {},
     "output_type": "display_data"
    },
    {
     "data": {
      "text/html": [
       "<pre style=\"white-space:pre;overflow-x:auto;line-height:normal;font-family:Menlo,'DejaVu Sans Mono',consolas,'Courier New',monospace\"><span style=\"color: #000080; text-decoration-color: #000080\">Gerar_Relatorio </span><span style=\"color: #800000; text-decoration-color: #800000\">-&gt; </span><span style=\"color: #008000; text-decoration-color: #008000; font-weight: bold\">{</span><span style=\"color: #008000; text-decoration-color: #008000\">'id'</span><span style=\"color: #008000; text-decoration-color: #008000\">: </span><span style=\"color: #008000; text-decoration-color: #008000; font-weight: bold\">541</span><span style=\"color: #008000; text-decoration-color: #008000\">, </span><span style=\"color: #008000; text-decoration-color: #008000\">'value'</span><span style=\"color: #008000; text-decoration-color: #008000\">: </span><span style=\"color: #008000; text-decoration-color: #008000; font-weight: bold\">1</span><span style=\"color: #008000; text-decoration-color: #008000; font-weight: bold\">}</span>\n",
       "</pre>\n"
      ],
      "text/plain": [
       "\u001b[34mGerar_Relatorio \u001b[0m\u001b[31m-> \u001b[0m\u001b[1;32m{\u001b[0m\u001b[32m'id'\u001b[0m\u001b[32m: \u001b[0m\u001b[1;32m541\u001b[0m\u001b[32m, \u001b[0m\u001b[32m'value'\u001b[0m\u001b[32m: \u001b[0m\u001b[1;32m1\u001b[0m\u001b[1;32m}\u001b[0m\n"
      ]
     },
     "metadata": {},
     "output_type": "display_data"
    },
    {
     "data": {
      "text/html": [
       "<pre style=\"white-space:pre;overflow-x:auto;line-height:normal;font-family:Menlo,'DejaVu Sans Mono',consolas,'Courier New',monospace\"><span style=\"color: #000080; text-decoration-color: #000080\">Frequencia_Inicial </span><span style=\"color: #800000; text-decoration-color: #800000\">-&gt; </span><span style=\"color: #008000; text-decoration-color: #008000; font-weight: bold\">{</span><span style=\"color: #008000; text-decoration-color: #008000\">'id'</span><span style=\"color: #008000; text-decoration-color: #008000\">: </span><span style=\"color: #008000; text-decoration-color: #008000; font-weight: bold\">156</span><span style=\"color: #008000; text-decoration-color: #008000\">, </span><span style=\"color: #008000; text-decoration-color: #008000\">'value'</span><span style=\"color: #008000; text-decoration-color: #008000\">: </span><span style=\"color: #008000; text-decoration-color: #008000; font-weight: bold\">10</span><span style=\"color: #008000; text-decoration-color: #008000; font-weight: bold\">}</span>\n",
       "</pre>\n"
      ],
      "text/plain": [
       "\u001b[34mFrequencia_Inicial \u001b[0m\u001b[31m-> \u001b[0m\u001b[1;32m{\u001b[0m\u001b[32m'id'\u001b[0m\u001b[32m: \u001b[0m\u001b[1;32m156\u001b[0m\u001b[32m, \u001b[0m\u001b[32m'value'\u001b[0m\u001b[32m: \u001b[0m\u001b[1;32m10\u001b[0m\u001b[1;32m}\u001b[0m\n"
      ]
     },
     "metadata": {},
     "output_type": "display_data"
    },
    {
     "data": {
      "text/html": [
       "<pre style=\"white-space:pre;overflow-x:auto;line-height:normal;font-family:Menlo,'DejaVu Sans Mono',consolas,'Courier New',monospace\"><span style=\"color: #000080; text-decoration-color: #000080\">Unidade_da_Frequencia_Inicial </span><span style=\"color: #800000; text-decoration-color: #800000\">-&gt; </span><span style=\"color: #008000; text-decoration-color: #008000; font-weight: bold\">{</span><span style=\"color: #008000; text-decoration-color: #008000\">'id'</span><span style=\"color: #008000; text-decoration-color: #008000\">: </span><span style=\"color: #008000; text-decoration-color: #008000; font-weight: bold\">157</span><span style=\"color: #008000; text-decoration-color: #008000\">, </span><span style=\"color: #008000; text-decoration-color: #008000\">'value'</span><span style=\"color: #008000; text-decoration-color: #008000\">: </span><span style=\"color: #008000; text-decoration-color: #008000\">'kHz'</span><span style=\"color: #008000; text-decoration-color: #008000; font-weight: bold\">}</span>\n",
       "</pre>\n"
      ],
      "text/plain": [
       "\u001b[34mUnidade_da_Frequencia_Inicial \u001b[0m\u001b[31m-> \u001b[0m\u001b[1;32m{\u001b[0m\u001b[32m'id'\u001b[0m\u001b[32m: \u001b[0m\u001b[1;32m157\u001b[0m\u001b[32m, \u001b[0m\u001b[32m'value'\u001b[0m\u001b[32m: \u001b[0m\u001b[32m'kHz'\u001b[0m\u001b[1;32m}\u001b[0m\n"
      ]
     },
     "metadata": {},
     "output_type": "display_data"
    },
    {
     "data": {
      "text/html": [
       "<pre style=\"white-space:pre;overflow-x:auto;line-height:normal;font-family:Menlo,'DejaVu Sans Mono',consolas,'Courier New',monospace\"><span style=\"color: #000080; text-decoration-color: #000080\">Frequencia_Final </span><span style=\"color: #800000; text-decoration-color: #800000\">-&gt; </span><span style=\"color: #008000; text-decoration-color: #008000; font-weight: bold\">{</span><span style=\"color: #008000; text-decoration-color: #008000\">'id'</span><span style=\"color: #008000; text-decoration-color: #008000\">: </span><span style=\"color: #008000; text-decoration-color: #008000; font-weight: bold\">158</span><span style=\"color: #008000; text-decoration-color: #008000\">, </span><span style=\"color: #008000; text-decoration-color: #008000\">'value'</span><span style=\"color: #008000; text-decoration-color: #008000\">: </span><span style=\"color: #008000; text-decoration-color: #008000; font-weight: bold\">110</span><span style=\"color: #008000; text-decoration-color: #008000; font-weight: bold\">}</span>\n",
       "</pre>\n"
      ],
      "text/plain": [
       "\u001b[34mFrequencia_Final \u001b[0m\u001b[31m-> \u001b[0m\u001b[1;32m{\u001b[0m\u001b[32m'id'\u001b[0m\u001b[32m: \u001b[0m\u001b[1;32m158\u001b[0m\u001b[32m, \u001b[0m\u001b[32m'value'\u001b[0m\u001b[32m: \u001b[0m\u001b[1;32m110\u001b[0m\u001b[1;32m}\u001b[0m\n"
      ]
     },
     "metadata": {},
     "output_type": "display_data"
    },
    {
     "data": {
      "text/html": [
       "<pre style=\"white-space:pre;overflow-x:auto;line-height:normal;font-family:Menlo,'DejaVu Sans Mono',consolas,'Courier New',monospace\"><span style=\"color: #000080; text-decoration-color: #000080\">Unidade_da_Frequencia_Final </span><span style=\"color: #800000; text-decoration-color: #800000\">-&gt; </span><span style=\"color: #008000; text-decoration-color: #008000; font-weight: bold\">{</span><span style=\"color: #008000; text-decoration-color: #008000\">'id'</span><span style=\"color: #008000; text-decoration-color: #008000\">: </span><span style=\"color: #008000; text-decoration-color: #008000; font-weight: bold\">159</span><span style=\"color: #008000; text-decoration-color: #008000\">, </span><span style=\"color: #008000; text-decoration-color: #008000\">'value'</span><span style=\"color: #008000; text-decoration-color: #008000\">: </span><span style=\"color: #008000; text-decoration-color: #008000\">'MHz'</span><span style=\"color: #008000; text-decoration-color: #008000; font-weight: bold\">}</span>\n",
       "</pre>\n"
      ],
      "text/plain": [
       "\u001b[34mUnidade_da_Frequencia_Final \u001b[0m\u001b[31m-> \u001b[0m\u001b[1;32m{\u001b[0m\u001b[32m'id'\u001b[0m\u001b[32m: \u001b[0m\u001b[1;32m159\u001b[0m\u001b[32m, \u001b[0m\u001b[32m'value'\u001b[0m\u001b[32m: \u001b[0m\u001b[32m'MHz'\u001b[0m\u001b[1;32m}\u001b[0m\n"
      ]
     },
     "metadata": {},
     "output_type": "display_data"
    },
    {
     "data": {
      "text/html": [
       "<pre style=\"white-space:pre;overflow-x:auto;line-height:normal;font-family:Menlo,'DejaVu Sans Mono',consolas,'Courier New',monospace\"><span style=\"color: #000080; text-decoration-color: #000080\">start_date </span><span style=\"color: #800000; text-decoration-color: #800000\">-&gt; </span><span style=\"color: #008000; text-decoration-color: #008000; font-weight: bold\">2022</span><span style=\"color: #008000; text-decoration-color: #008000\">-</span><span style=\"color: #008000; text-decoration-color: #008000; font-weight: bold\">04</span><span style=\"color: #008000; text-decoration-color: #008000\">-</span><span style=\"color: #008000; text-decoration-color: #008000; font-weight: bold\">11</span>\n",
       "</pre>\n"
      ],
      "text/plain": [
       "\u001b[34mstart_date \u001b[0m\u001b[31m-> \u001b[0m\u001b[1;32m2022\u001b[0m\u001b[32m-\u001b[0m\u001b[1;32m04\u001b[0m\u001b[32m-\u001b[0m\u001b[1;32m11\u001b[0m\n"
      ]
     },
     "metadata": {},
     "output_type": "display_data"
    },
    {
     "data": {
      "text/html": [
       "<pre style=\"white-space:pre;overflow-x:auto;line-height:normal;font-family:Menlo,'DejaVu Sans Mono',consolas,'Courier New',monospace\"><span style=\"color: #000080; text-decoration-color: #000080\">due_date </span><span style=\"color: #800000; text-decoration-color: #800000\">-&gt; </span><span style=\"color: #008000; text-decoration-color: #008000; font-weight: bold\">2022</span><span style=\"color: #008000; text-decoration-color: #008000\">-</span><span style=\"color: #008000; text-decoration-color: #008000; font-weight: bold\">05</span><span style=\"color: #008000; text-decoration-color: #008000\">-</span><span style=\"color: #008000; text-decoration-color: #008000; font-weight: bold\">31</span>\n",
       "</pre>\n"
      ],
      "text/plain": [
       "\u001b[34mdue_date \u001b[0m\u001b[31m-> \u001b[0m\u001b[1;32m2022\u001b[0m\u001b[32m-\u001b[0m\u001b[1;32m05\u001b[0m\u001b[32m-\u001b[0m\u001b[1;32m31\u001b[0m\n"
      ]
     },
     "metadata": {},
     "output_type": "display_data"
    },
    {
     "data": {
      "text/html": [
       "<pre style=\"white-space:pre;overflow-x:auto;line-height:normal;font-family:Menlo,'DejaVu Sans Mono',consolas,'Courier New',monospace\"><span style=\"color: #000080; text-decoration-color: #000080\">UF_Municipio </span><span style=\"color: #800000; text-decoration-color: #800000\">-&gt; </span><span style=\"color: #008000; text-decoration-color: #008000; font-weight: bold\">{</span><span style=\"color: #008000; text-decoration-color: #008000\">'id'</span><span style=\"color: #008000; text-decoration-color: #008000\">: </span><span style=\"color: #008000; text-decoration-color: #008000; font-weight: bold\">31</span><span style=\"color: #008000; text-decoration-color: #008000\">, </span><span style=\"color: #008000; text-decoration-color: #008000\">'value'</span><span style=\"color: #008000; text-decoration-color: #008000\">: </span><span style=\"color: #008000; text-decoration-color: #008000; font-weight: bold\">[</span><span style=\"color: #008000; text-decoration-color: #008000\">'{\"valor\":\"BA/Salvador\",\"texto\":\"BA/Salvador\"}'</span><span style=\"color: #008000; text-decoration-color: #008000; font-weight: bold\">]}</span>\n",
       "</pre>\n"
      ],
      "text/plain": [
       "\u001b[34mUF_Municipio \u001b[0m\u001b[31m-> \u001b[0m\u001b[1;32m{\u001b[0m\u001b[32m'id'\u001b[0m\u001b[32m: \u001b[0m\u001b[1;32m31\u001b[0m\u001b[32m, \u001b[0m\u001b[32m'value'\u001b[0m\u001b[32m: \u001b[0m\u001b[1;32m[\u001b[0m\u001b[32m'\u001b[0m\u001b[32m{\u001b[0m\u001b[32m\"valor\":\"BA/Salvador\",\"texto\":\"BA/Salvador\"\u001b[0m\u001b[32m}\u001b[0m\u001b[32m'\u001b[0m\u001b[1;32m]\u001b[0m\u001b[1;32m}\u001b[0m\n"
      ]
     },
     "metadata": {},
     "output_type": "display_data"
    },
    {
     "data": {
      "text/html": [
       "<pre style=\"white-space:pre;overflow-x:auto;line-height:normal;font-family:Menlo,'DejaVu Sans Mono',consolas,'Courier New',monospace\"><span style=\"color: #000080; text-decoration-color: #000080\">Servicos_da_Inspecao </span><span style=\"color: #800000; text-decoration-color: #800000\">-&gt; </span><span style=\"color: #008000; text-decoration-color: #008000; font-weight: bold\">{</span><span style=\"color: #008000; text-decoration-color: #008000\">'id'</span><span style=\"color: #008000; text-decoration-color: #008000\">: </span><span style=\"color: #008000; text-decoration-color: #008000; font-weight: bold\">57</span><span style=\"color: #008000; text-decoration-color: #008000\">, </span><span style=\"color: #008000; text-decoration-color: #008000\">'value'</span><span style=\"color: #008000; text-decoration-color: #008000\">: </span><span style=\"color: #008000; text-decoration-color: #008000; font-weight: bold\">[</span><span style=\"color: #008000; text-decoration-color: #008000\">'{\"valor\":\"019 - RESTRITO - LIMITADO </span>\n",
       "<span style=\"color: #008000; text-decoration-color: #008000\">PRIVADO\",\"texto\":\"019 - RESTRITO - LIMITADO PRIVADO\"}'</span><span style=\"color: #008000; text-decoration-color: #008000\">, </span><span style=\"color: #008000; text-decoration-color: #008000\">'{\"valor\":\"205 - COLETIVO - </span>\n",
       "<span style=\"color: #008000; text-decoration-color: #008000\">RADIODIFUSÃO SONORA EM ONDA MÉDIA\",\"texto\":\"205 - COLETIVO - RADIODIFUSÃO SONORA EM ONDA </span>\n",
       "<span style=\"color: #008000; text-decoration-color: #008000\">MÉDIA\"}'</span><span style=\"color: #008000; text-decoration-color: #008000\">, </span><span style=\"color: #008000; text-decoration-color: #008000\">'{\"valor\":\"230 - COLETIVO - RADIODIFUSÃO SONORA EM FREQÜÊNCIA </span>\n",
       "<span style=\"color: #008000; text-decoration-color: #008000\">MODULADA\",\"texto\":\"230 - COLETIVO - RADIODIFUSÃO SONORA EM FREQÜÊNCIA MODULADA\"}'</span><span style=\"color: #008000; text-decoration-color: #008000\">, </span>\n",
       "<span style=\"color: #008000; text-decoration-color: #008000\">'{\"valor\":\"231 - COLETIVO - RADIODIFUSÃO COMUNITÁRIA\",\"texto\":\"231 - COLETIVO - RADIODIFUSÃO </span>\n",
       "<span style=\"color: #008000; text-decoration-color: #008000\">COMUNITÁRIA\"}'</span><span style=\"color: #008000; text-decoration-color: #008000\">, </span><span style=\"color: #008000; text-decoration-color: #008000\">'{\"valor\":\"507 - RESTRITO - MÓVEL AERONÁUTICO\",\"texto\":\"507 - RESTRITO - </span>\n",
       "<span style=\"color: #008000; text-decoration-color: #008000\">MÓVEL AERONÁUTICO\"}'</span><span style=\"color: #008000; text-decoration-color: #008000; font-weight: bold\">]}</span>\n",
       "</pre>\n"
      ],
      "text/plain": [
       "\u001b[34mServicos_da_Inspecao \u001b[0m\u001b[31m-> \u001b[0m\u001b[1;32m{\u001b[0m\u001b[32m'id'\u001b[0m\u001b[32m: \u001b[0m\u001b[1;32m57\u001b[0m\u001b[32m, \u001b[0m\u001b[32m'value'\u001b[0m\u001b[32m: \u001b[0m\u001b[1;32m[\u001b[0m\u001b[32m'\u001b[0m\u001b[32m{\u001b[0m\u001b[32m\"valor\":\"019 - RESTRITO - LIMITADO \u001b[0m\n",
       "\u001b[32mPRIVADO\",\"texto\":\"019 - RESTRITO - LIMITADO PRIVADO\"\u001b[0m\u001b[32m}\u001b[0m\u001b[32m'\u001b[0m\u001b[32m, \u001b[0m\u001b[32m'\u001b[0m\u001b[32m{\u001b[0m\u001b[32m\"valor\":\"205 - COLETIVO - \u001b[0m\n",
       "\u001b[32mRADIODIFUSÃO SONORA EM ONDA MÉDIA\",\"texto\":\"205 - COLETIVO - RADIODIFUSÃO SONORA EM ONDA \u001b[0m\n",
       "\u001b[32mMÉDIA\"\u001b[0m\u001b[32m}\u001b[0m\u001b[32m'\u001b[0m\u001b[32m, \u001b[0m\u001b[32m'\u001b[0m\u001b[32m{\u001b[0m\u001b[32m\"valor\":\"230 - COLETIVO - RADIODIFUSÃO SONORA EM FREQÜÊNCIA \u001b[0m\n",
       "\u001b[32mMODULADA\",\"texto\":\"230 - COLETIVO - RADIODIFUSÃO SONORA EM FREQÜÊNCIA MODULADA\"\u001b[0m\u001b[32m}\u001b[0m\u001b[32m'\u001b[0m\u001b[32m, \u001b[0m\n",
       "\u001b[32m'\u001b[0m\u001b[32m{\u001b[0m\u001b[32m\"valor\":\"231 - COLETIVO - RADIODIFUSÃO COMUNITÁRIA\",\"texto\":\"231 - COLETIVO - RADIODIFUSÃO \u001b[0m\n",
       "\u001b[32mCOMUNITÁRIA\"\u001b[0m\u001b[32m}\u001b[0m\u001b[32m'\u001b[0m\u001b[32m, \u001b[0m\u001b[32m'\u001b[0m\u001b[32m{\u001b[0m\u001b[32m\"valor\":\"507 - RESTRITO - MÓVEL AERONÁUTICO\",\"texto\":\"507 - RESTRITO - \u001b[0m\n",
       "\u001b[32mMÓVEL AERONÁUTICO\"\u001b[0m\u001b[32m}\u001b[0m\u001b[32m'\u001b[0m\u001b[1;32m]\u001b[0m\u001b[1;32m}\u001b[0m\n"
      ]
     },
     "metadata": {},
     "output_type": "display_data"
    },
    {
     "data": {
      "text/html": [
       "<pre style=\"white-space:pre;overflow-x:auto;line-height:normal;font-family:Menlo,'DejaVu Sans Mono',consolas,'Courier New',monospace\"><span style=\"color: #000080; text-decoration-color: #000080\">Qnt_de_emissoes_na_faixa </span><span style=\"color: #800000; text-decoration-color: #800000\">-&gt; </span><span style=\"color: #008000; text-decoration-color: #008000; font-weight: bold\">{</span><span style=\"color: #008000; text-decoration-color: #008000\">'id'</span><span style=\"color: #008000; text-decoration-color: #008000\">: </span><span style=\"color: #008000; text-decoration-color: #008000; font-weight: bold\">69</span><span style=\"color: #008000; text-decoration-color: #008000\">, </span><span style=\"color: #008000; text-decoration-color: #008000\">'value'</span><span style=\"color: #008000; text-decoration-color: #008000\">: </span><span style=\"color: #008000; text-decoration-color: #008000; font-weight: bold\">70</span><span style=\"color: #008000; text-decoration-color: #008000; font-weight: bold\">}</span>\n",
       "</pre>\n"
      ],
      "text/plain": [
       "\u001b[34mQnt_de_emissoes_na_faixa \u001b[0m\u001b[31m-> \u001b[0m\u001b[1;32m{\u001b[0m\u001b[32m'id'\u001b[0m\u001b[32m: \u001b[0m\u001b[1;32m69\u001b[0m\u001b[32m, \u001b[0m\u001b[32m'value'\u001b[0m\u001b[32m: \u001b[0m\u001b[1;32m70\u001b[0m\u001b[1;32m}\u001b[0m\n"
      ]
     },
     "metadata": {},
     "output_type": "display_data"
    },
    {
     "data": {
      "text/html": [
       "<pre style=\"white-space:pre;overflow-x:auto;line-height:normal;font-family:Menlo,'DejaVu Sans Mono',consolas,'Courier New',monospace\"><span style=\"color: #000080; text-decoration-color: #000080\">Emissoes_nao_autorizadas </span><span style=\"color: #800000; text-decoration-color: #800000\">-&gt; </span><span style=\"color: #008000; text-decoration-color: #008000; font-weight: bold\">{</span><span style=\"color: #008000; text-decoration-color: #008000\">'id'</span><span style=\"color: #008000; text-decoration-color: #008000\">: </span><span style=\"color: #008000; text-decoration-color: #008000; font-weight: bold\">70</span><span style=\"color: #008000; text-decoration-color: #008000\">, </span><span style=\"color: #008000; text-decoration-color: #008000\">'value'</span><span style=\"color: #008000; text-decoration-color: #008000\">: </span><span style=\"color: #008000; text-decoration-color: #008000; font-weight: bold\">24</span><span style=\"color: #008000; text-decoration-color: #008000; font-weight: bold\">}</span>\n",
       "</pre>\n"
      ],
      "text/plain": [
       "\u001b[34mEmissoes_nao_autorizadas \u001b[0m\u001b[31m-> \u001b[0m\u001b[1;32m{\u001b[0m\u001b[32m'id'\u001b[0m\u001b[32m: \u001b[0m\u001b[1;32m70\u001b[0m\u001b[32m, \u001b[0m\u001b[32m'value'\u001b[0m\u001b[32m: \u001b[0m\u001b[1;32m24\u001b[0m\u001b[1;32m}\u001b[0m\n"
      ]
     },
     "metadata": {},
     "output_type": "display_data"
    },
    {
     "data": {
      "text/html": [
       "<pre style=\"white-space:pre;overflow-x:auto;line-height:normal;font-family:Menlo,'DejaVu Sans Mono',consolas,'Courier New',monospace\"><span style=\"color: #000080; text-decoration-color: #000080\">Horas_de_Preparacao </span><span style=\"color: #800000; text-decoration-color: #800000\">-&gt; </span><span style=\"color: #008000; text-decoration-color: #008000; font-weight: bold\">{</span><span style=\"color: #008000; text-decoration-color: #008000\">'id'</span><span style=\"color: #008000; text-decoration-color: #008000\">: </span><span style=\"color: #008000; text-decoration-color: #008000; font-weight: bold\">91</span><span style=\"color: #008000; text-decoration-color: #008000\">, </span><span style=\"color: #008000; text-decoration-color: #008000\">'value'</span><span style=\"color: #008000; text-decoration-color: #008000\">: </span><span style=\"color: #008000; text-decoration-color: #008000; font-weight: bold\">4</span><span style=\"color: #008000; text-decoration-color: #008000; font-weight: bold\">}</span>\n",
       "</pre>\n"
      ],
      "text/plain": [
       "\u001b[34mHoras_de_Preparacao \u001b[0m\u001b[31m-> \u001b[0m\u001b[1;32m{\u001b[0m\u001b[32m'id'\u001b[0m\u001b[32m: \u001b[0m\u001b[1;32m91\u001b[0m\u001b[32m, \u001b[0m\u001b[32m'value'\u001b[0m\u001b[32m: \u001b[0m\u001b[1;32m4\u001b[0m\u001b[1;32m}\u001b[0m\n"
      ]
     },
     "metadata": {},
     "output_type": "display_data"
    },
    {
     "data": {
      "text/html": [
       "<pre style=\"white-space:pre;overflow-x:auto;line-height:normal;font-family:Menlo,'DejaVu Sans Mono',consolas,'Courier New',monospace\"><span style=\"color: #000080; text-decoration-color: #000080\">Horas_de_Deslocamento </span><span style=\"color: #800000; text-decoration-color: #800000\">-&gt; </span><span style=\"color: #008000; text-decoration-color: #008000; font-weight: bold\">{</span><span style=\"color: #008000; text-decoration-color: #008000\">'id'</span><span style=\"color: #008000; text-decoration-color: #008000\">: </span><span style=\"color: #008000; text-decoration-color: #008000; font-weight: bold\">92</span><span style=\"color: #008000; text-decoration-color: #008000\">, </span><span style=\"color: #008000; text-decoration-color: #008000\">'value'</span><span style=\"color: #008000; text-decoration-color: #008000\">: </span><span style=\"color: #008000; text-decoration-color: #008000; font-weight: bold\">0</span><span style=\"color: #008000; text-decoration-color: #008000; font-weight: bold\">}</span>\n",
       "</pre>\n"
      ],
      "text/plain": [
       "\u001b[34mHoras_de_Deslocamento \u001b[0m\u001b[31m-> \u001b[0m\u001b[1;32m{\u001b[0m\u001b[32m'id'\u001b[0m\u001b[32m: \u001b[0m\u001b[1;32m92\u001b[0m\u001b[32m, \u001b[0m\u001b[32m'value'\u001b[0m\u001b[32m: \u001b[0m\u001b[1;32m0\u001b[0m\u001b[1;32m}\u001b[0m\n"
      ]
     },
     "metadata": {},
     "output_type": "display_data"
    },
    {
     "data": {
      "text/html": [
       "<pre style=\"white-space:pre;overflow-x:auto;line-height:normal;font-family:Menlo,'DejaVu Sans Mono',consolas,'Courier New',monospace\"><span style=\"color: #000080; text-decoration-color: #000080\">Horas_de_Execucao </span><span style=\"color: #800000; text-decoration-color: #800000\">-&gt; </span><span style=\"color: #008000; text-decoration-color: #008000; font-weight: bold\">{</span><span style=\"color: #008000; text-decoration-color: #008000\">'id'</span><span style=\"color: #008000; text-decoration-color: #008000\">: </span><span style=\"color: #008000; text-decoration-color: #008000; font-weight: bold\">93</span><span style=\"color: #008000; text-decoration-color: #008000\">, </span><span style=\"color: #008000; text-decoration-color: #008000\">'value'</span><span style=\"color: #008000; text-decoration-color: #008000\">: </span><span style=\"color: #008000; text-decoration-color: #008000; font-weight: bold\">4</span><span style=\"color: #008000; text-decoration-color: #008000; font-weight: bold\">}</span>\n",
       "</pre>\n"
      ],
      "text/plain": [
       "\u001b[34mHoras_de_Execucao \u001b[0m\u001b[31m-> \u001b[0m\u001b[1;32m{\u001b[0m\u001b[32m'id'\u001b[0m\u001b[32m: \u001b[0m\u001b[1;32m93\u001b[0m\u001b[32m, \u001b[0m\u001b[32m'value'\u001b[0m\u001b[32m: \u001b[0m\u001b[1;32m4\u001b[0m\u001b[1;32m}\u001b[0m\n"
      ]
     },
     "metadata": {},
     "output_type": "display_data"
    },
    {
     "data": {
      "text/html": [
       "<pre style=\"white-space:pre;overflow-x:auto;line-height:normal;font-family:Menlo,'DejaVu Sans Mono',consolas,'Courier New',monospace\"><span style=\"color: #000080; text-decoration-color: #000080\">Horas_de_Conclusao </span><span style=\"color: #800000; text-decoration-color: #800000\">-&gt; </span><span style=\"color: #008000; text-decoration-color: #008000; font-weight: bold\">{</span><span style=\"color: #008000; text-decoration-color: #008000\">'id'</span><span style=\"color: #008000; text-decoration-color: #008000\">: </span><span style=\"color: #008000; text-decoration-color: #008000; font-weight: bold\">94</span><span style=\"color: #008000; text-decoration-color: #008000\">, </span><span style=\"color: #008000; text-decoration-color: #008000\">'value'</span><span style=\"color: #008000; text-decoration-color: #008000\">: </span><span style=\"color: #008000; text-decoration-color: #008000; font-weight: bold\">16</span><span style=\"color: #008000; text-decoration-color: #008000; font-weight: bold\">}</span>\n",
       "</pre>\n"
      ],
      "text/plain": [
       "\u001b[34mHoras_de_Conclusao \u001b[0m\u001b[31m-> \u001b[0m\u001b[1;32m{\u001b[0m\u001b[32m'id'\u001b[0m\u001b[32m: \u001b[0m\u001b[1;32m94\u001b[0m\u001b[32m, \u001b[0m\u001b[32m'value'\u001b[0m\u001b[32m: \u001b[0m\u001b[1;32m16\u001b[0m\u001b[1;32m}\u001b[0m\n"
      ]
     },
     "metadata": {},
     "output_type": "display_data"
    },
    {
     "data": {
      "text/html": [
       "<pre style=\"white-space:pre;overflow-x:auto;line-height:normal;font-family:Menlo,'DejaVu Sans Mono',consolas,'Courier New',monospace\"><span style=\"color: #000080; text-decoration-color: #000080\">Uso_de_PF </span><span style=\"color: #800000; text-decoration-color: #800000\">-&gt; </span><span style=\"color: #008000; text-decoration-color: #008000; font-weight: bold\">{</span><span style=\"color: #008000; text-decoration-color: #008000\">'id'</span><span style=\"color: #008000; text-decoration-color: #008000\">: </span><span style=\"color: #008000; text-decoration-color: #008000; font-weight: bold\">151</span><span style=\"color: #008000; text-decoration-color: #008000\">, </span><span style=\"color: #008000; text-decoration-color: #008000\">'value'</span><span style=\"color: #008000; text-decoration-color: #008000\">: </span><span style=\"color: #008000; text-decoration-color: #008000\">'Não se aplica PF - uso apenas de formulários'</span><span style=\"color: #008000; text-decoration-color: #008000; font-weight: bold\">}</span>\n",
       "</pre>\n"
      ],
      "text/plain": [
       "\u001b[34mUso_de_PF \u001b[0m\u001b[31m-> \u001b[0m\u001b[1;32m{\u001b[0m\u001b[32m'id'\u001b[0m\u001b[32m: \u001b[0m\u001b[1;32m151\u001b[0m\u001b[32m, \u001b[0m\u001b[32m'value'\u001b[0m\u001b[32m: \u001b[0m\u001b[32m'Não se aplica PF - uso apenas de formulários'\u001b[0m\u001b[1;32m}\u001b[0m\n"
      ]
     },
     "metadata": {},
     "output_type": "display_data"
    },
    {
     "data": {
      "text/html": [
       "<pre style=\"white-space:pre;overflow-x:auto;line-height:normal;font-family:Menlo,'DejaVu Sans Mono',consolas,'Courier New',monospace\"><span style=\"color: #000080; text-decoration-color: #000080\">Acao_de_risco_a_vida_criada </span><span style=\"color: #800000; text-decoration-color: #800000\">-&gt; </span><span style=\"color: #008000; text-decoration-color: #008000; font-weight: bold\">{</span><span style=\"color: #008000; text-decoration-color: #008000\">'id'</span><span style=\"color: #008000; text-decoration-color: #008000\">: </span><span style=\"color: #008000; text-decoration-color: #008000; font-weight: bold\">154</span><span style=\"color: #008000; text-decoration-color: #008000\">, </span><span style=\"color: #008000; text-decoration-color: #008000\">'value'</span><span style=\"color: #008000; text-decoration-color: #008000\">: </span><span style=\"color: #008000; text-decoration-color: #008000\">'Não'</span><span style=\"color: #008000; text-decoration-color: #008000; font-weight: bold\">}</span>\n",
       "</pre>\n"
      ],
      "text/plain": [
       "\u001b[34mAcao_de_risco_a_vida_criada \u001b[0m\u001b[31m-> \u001b[0m\u001b[1;32m{\u001b[0m\u001b[32m'id'\u001b[0m\u001b[32m: \u001b[0m\u001b[1;32m154\u001b[0m\u001b[32m, \u001b[0m\u001b[32m'value'\u001b[0m\u001b[32m: \u001b[0m\u001b[32m'Não'\u001b[0m\u001b[1;32m}\u001b[0m\n"
      ]
     },
     "metadata": {},
     "output_type": "display_data"
    },
    {
     "data": {
      "text/html": [
       "<pre style=\"white-space:pre;overflow-x:auto;line-height:normal;font-family:Menlo,'DejaVu Sans Mono',consolas,'Courier New',monospace\"><span style=\"color: #000080; text-decoration-color: #000080\">Impossibilidade_acesso_online </span><span style=\"color: #800000; text-decoration-color: #800000\">-&gt; </span><span style=\"color: #008000; text-decoration-color: #008000; font-weight: bold\">{</span><span style=\"color: #008000; text-decoration-color: #008000\">'id'</span><span style=\"color: #008000; text-decoration-color: #008000\">: </span><span style=\"color: #008000; text-decoration-color: #008000; font-weight: bold\">450</span><span style=\"color: #008000; text-decoration-color: #008000\">, </span><span style=\"color: #008000; text-decoration-color: #008000\">'value'</span><span style=\"color: #008000; text-decoration-color: #008000\">: </span><span style=\"color: #008000; text-decoration-color: #008000\">'0'</span><span style=\"color: #008000; text-decoration-color: #008000; font-weight: bold\">}</span>\n",
       "</pre>\n"
      ],
      "text/plain": [
       "\u001b[34mImpossibilidade_acesso_online \u001b[0m\u001b[31m-> \u001b[0m\u001b[1;32m{\u001b[0m\u001b[32m'id'\u001b[0m\u001b[32m: \u001b[0m\u001b[1;32m450\u001b[0m\u001b[32m, \u001b[0m\u001b[32m'value'\u001b[0m\u001b[32m: \u001b[0m\u001b[32m'0'\u001b[0m\u001b[1;32m}\u001b[0m\n"
      ]
     },
     "metadata": {},
     "output_type": "display_data"
    },
    {
     "data": {
      "text/html": [
       "<pre style=\"white-space:pre;overflow-x:auto;line-height:normal;font-family:Menlo,'DejaVu Sans Mono',consolas,'Courier New',monospace\"><span style=\"color: #000080; text-decoration-color: #000080\">Reservar_Instrumentos </span><span style=\"color: #800000; text-decoration-color: #800000\">-&gt; </span><span style=\"color: #008000; text-decoration-color: #008000; font-weight: bold\">{</span><span style=\"color: #008000; text-decoration-color: #008000\">'id'</span><span style=\"color: #008000; text-decoration-color: #008000\">: </span><span style=\"color: #008000; text-decoration-color: #008000; font-weight: bold\">596</span><span style=\"color: #008000; text-decoration-color: #008000\">, </span><span style=\"color: #008000; text-decoration-color: #008000\">'value'</span><span style=\"color: #008000; text-decoration-color: #008000\">: </span><span style=\"color: #008000; text-decoration-color: #008000\">'0'</span><span style=\"color: #008000; text-decoration-color: #008000; font-weight: bold\">}</span>\n",
       "</pre>\n"
      ],
      "text/plain": [
       "\u001b[34mReservar_Instrumentos \u001b[0m\u001b[31m-> \u001b[0m\u001b[1;32m{\u001b[0m\u001b[32m'id'\u001b[0m\u001b[32m: \u001b[0m\u001b[1;32m596\u001b[0m\u001b[32m, \u001b[0m\u001b[32m'value'\u001b[0m\u001b[32m: \u001b[0m\u001b[32m'0'\u001b[0m\u001b[1;32m}\u001b[0m\n"
      ]
     },
     "metadata": {},
     "output_type": "display_data"
    },
    {
     "data": {
      "text/html": [
       "<pre style=\"white-space:pre;overflow-x:auto;line-height:normal;font-family:Menlo,'DejaVu Sans Mono',consolas,'Courier New',monospace\"><span style=\"color: #000080; text-decoration-color: #000080\">Utilizou_algum_instrumento </span><span style=\"color: #800000; text-decoration-color: #800000\">-&gt; </span><span style=\"color: #008000; text-decoration-color: #008000; font-weight: bold\">{</span><span style=\"color: #008000; text-decoration-color: #008000\">'id'</span><span style=\"color: #008000; text-decoration-color: #008000\">: </span><span style=\"color: #008000; text-decoration-color: #008000; font-weight: bold\">598</span><span style=\"color: #008000; text-decoration-color: #008000\">, </span><span style=\"color: #008000; text-decoration-color: #008000\">'value'</span><span style=\"color: #008000; text-decoration-color: #008000\">: </span><span style=\"color: #008000; text-decoration-color: #008000\">'0'</span><span style=\"color: #008000; text-decoration-color: #008000; font-weight: bold\">}</span>\n",
       "</pre>\n"
      ],
      "text/plain": [
       "\u001b[34mUtilizou_algum_instrumento \u001b[0m\u001b[31m-> \u001b[0m\u001b[1;32m{\u001b[0m\u001b[32m'id'\u001b[0m\u001b[32m: \u001b[0m\u001b[1;32m598\u001b[0m\u001b[32m, \u001b[0m\u001b[32m'value'\u001b[0m\u001b[32m: \u001b[0m\u001b[32m'0'\u001b[0m\u001b[1;32m}\u001b[0m\n"
      ]
     },
     "metadata": {},
     "output_type": "display_data"
    },
    {
     "data": {
      "text/html": [
       "<pre style=\"white-space:pre;overflow-x:auto;line-height:normal;font-family:Menlo,'DejaVu Sans Mono',consolas,'Courier New',monospace\"><span style=\"color: #000080; text-decoration-color: #000080\">Coordenadas_Geograficas </span><span style=\"color: #800000; text-decoration-color: #800000\">-&gt; </span><span style=\"color: #008000; text-decoration-color: #008000; font-weight: bold\">{</span><span style=\"color: #008000; text-decoration-color: #008000\">'id'</span><span style=\"color: #008000; text-decoration-color: #008000\">: </span><span style=\"color: #008000; text-decoration-color: #008000; font-weight: bold\">717</span><span style=\"color: #008000; text-decoration-color: #008000\">, </span><span style=\"color: #008000; text-decoration-color: #008000\">'value'</span><span style=\"color: #008000; text-decoration-color: #008000\">: </span><span style=\"color: #008000; text-decoration-color: #008000\">'{\"latitude\"=&gt;\"-23.635884\", </span>\n",
       "<span style=\"color: #008000; text-decoration-color: #008000\">\"longitude\"=&gt;\"-46.654251\"}'</span><span style=\"color: #008000; text-decoration-color: #008000; font-weight: bold\">}</span>\n",
       "</pre>\n"
      ],
      "text/plain": [
       "\u001b[34mCoordenadas_Geograficas \u001b[0m\u001b[31m-> \u001b[0m\u001b[1;32m{\u001b[0m\u001b[32m'id'\u001b[0m\u001b[32m: \u001b[0m\u001b[1;32m717\u001b[0m\u001b[32m, \u001b[0m\u001b[32m'value'\u001b[0m\u001b[32m: \u001b[0m\u001b[32m'\u001b[0m\u001b[32m{\u001b[0m\u001b[32m\"latitude\"=>\"-23.635884\", \u001b[0m\n",
       "\u001b[32m\"longitude\"=>\"-46.654251\"\u001b[0m\u001b[32m}\u001b[0m\u001b[32m'\u001b[0m\u001b[1;32m}\u001b[0m\n"
      ]
     },
     "metadata": {},
     "output_type": "display_data"
    }
   ],
   "source": [
    "for k,v in dados.items():\n",
    "    if k == \"Html\":\n",
    "        v = str(v)\n",
    "        v = v[:100] + '\\n...\\n' + v[-100:]\n",
    "    console.print(f'[blue]{k} [red]-> [green]{v}')"
   ]
  },
  {
   "cell_type": "code",
   "execution_count": null,
   "metadata": {},
   "outputs": [
    {
     "data": {
      "text/html": [
       "<pre style=\"white-space:pre;overflow-x:auto;line-height:normal;font-family:Menlo,'DejaVu Sans Mono',consolas,'Courier New',monospace\"><span style=\"color: #008000; text-decoration-color: #008000\">(     ●)</span> Atualizando...\n",
       "</pre>\n"
      ],
      "text/plain": [
       "\u001b[32m(     ●)\u001b[0m Atualizando...\n"
      ]
     },
     "metadata": {},
     "output_type": "display_data"
    },
    {
     "data": {
      "text/html": [
       "<pre style=\"white-space:pre;overflow-x:auto;line-height:normal;font-family:Menlo,'DejaVu Sans Mono',consolas,'Courier New',monospace\"></pre>\n"
      ],
      "text/plain": []
     },
     "metadata": {},
     "output_type": "display_data"
    },
    {
     "ename": "ValueError",
     "evalue": "Não foi possível gerar o Relatório de Monitoramento",
     "output_type": "error",
     "traceback": [
      "\u001b[1;31m---------------------------------------------------------------------------\u001b[0m",
      "\u001b[1;31mValueError\u001b[0m                                Traceback (most recent call last)",
      "\u001b[1;32md:\\code\\fiscaliza\\nbs\\_test_relato.ipynb Cell 9'\u001b[0m in \u001b[0;36m<cell line: 2>\u001b[1;34m()\u001b[0m\n\u001b[0;32m      <a href='vscode-notebook-cell:/d%3A/code/fiscaliza/nbs/_test_relato.ipynb#ch0000008?line=0'>1</a>\u001b[0m \u001b[39mfrom\u001b[39;00m \u001b[39mfiscaliza\u001b[39;00m\u001b[39m.\u001b[39;00m\u001b[39mredmine\u001b[39;00m \u001b[39mimport\u001b[39;00m \u001b[39m*\u001b[39m\n\u001b[1;32m----> <a href='vscode-notebook-cell:/d%3A/code/fiscaliza/nbs/_test_relato.ipynb#ch0000008?line=1'>2</a>\u001b[0m relatar_inspecao(issue, login, senha, dados\u001b[39m=\u001b[39;49mdados, teste\u001b[39m=\u001b[39;49mTESTE, parar_em\u001b[39m=\u001b[39;49mparar_em, substituir_relatorio\u001b[39m=\u001b[39;49m\u001b[39mTrue\u001b[39;49;00m)\n",
      "File \u001b[1;32md:\\code\\fiscaliza\\fiscaliza\\redmine.py:764\u001b[0m, in \u001b[0;36mrelatar_inspecao\u001b[1;34m(inspecao, login, senha, dados, teste, parar_em, substituir_relatorio)\u001b[0m\n\u001b[0;32m    <a href='file:///d%3A/code/fiscaliza/fiscaliza/redmine.py?line=761'>762</a>\u001b[0m     emoji \u001b[39m=\u001b[39m \u001b[39m\"\u001b[39m\u001b[39m:sunglasses:\u001b[39m\u001b[39m\"\u001b[39m\n\u001b[0;32m    <a href='file:///d%3A/code/fiscaliza/fiscaliza/redmine.py?line=762'>763</a>\u001b[0m \u001b[39mif\u001b[39;00m status \u001b[39m==\u001b[39m \u001b[39m\"\u001b[39m\u001b[39mRelatando\u001b[39m\u001b[39m\"\u001b[39m:\n\u001b[1;32m--> <a href='file:///d%3A/code/fiscaliza/fiscaliza/redmine.py?line=763'>764</a>\u001b[0m     status_atual \u001b[39m=\u001b[39m gerar_relatorio(\n\u001b[0;32m    <a href='file:///d%3A/code/fiscaliza/fiscaliza/redmine.py?line=764'>765</a>\u001b[0m         inspecao, data, fiscaliza, status_atual, teste, substituir_relatorio\n\u001b[0;32m    <a href='file:///d%3A/code/fiscaliza/fiscaliza/redmine.py?line=765'>766</a>\u001b[0m     )\n\u001b[0;32m    <a href='file:///d%3A/code/fiscaliza/fiscaliza/redmine.py?line=766'>767</a>\u001b[0m \u001b[39melse\u001b[39;00m:\n\u001b[0;32m    <a href='file:///d%3A/code/fiscaliza/fiscaliza/redmine.py?line=767'>768</a>\u001b[0m     atualiza_fiscaliza(inspecao, data, fiscaliza, status\u001b[39m=\u001b[39mstatus)\n",
      "File \u001b[1;32md:\\code\\fiscaliza\\fiscaliza\\redmine.py:686\u001b[0m, in \u001b[0;36mgerar_relatorio\u001b[1;34m(inspecao, data, fiscaliza, status_atual, teste, substituir_relatorio)\u001b[0m\n\u001b[0;32m    <a href='file:///d%3A/code/fiscaliza/fiscaliza/redmine.py?line=681'>682</a>\u001b[0m     status_atual \u001b[39m=\u001b[39m detalhar_issue(\n\u001b[0;32m    <a href='file:///d%3A/code/fiscaliza/fiscaliza/redmine.py?line=682'>683</a>\u001b[0m         inspecao\u001b[39m=\u001b[39minspecao, fiscaliza\u001b[39m=\u001b[39mfiscaliza, teste\u001b[39m=\u001b[39mteste\n\u001b[0;32m    <a href='file:///d%3A/code/fiscaliza/fiscaliza/redmine.py?line=683'>684</a>\u001b[0m     )\n\u001b[0;32m    <a href='file:///d%3A/code/fiscaliza/fiscaliza/redmine.py?line=684'>685</a>\u001b[0m     \u001b[39mif\u001b[39;00m \u001b[39mnot\u001b[39;00m status_atual\u001b[39m.\u001b[39mget(\u001b[39m\"\u001b[39m\u001b[39mRelatorio_de_Monitoramento\u001b[39m\u001b[39m\"\u001b[39m):\n\u001b[1;32m--> <a href='file:///d%3A/code/fiscaliza/fiscaliza/redmine.py?line=685'>686</a>\u001b[0m         \u001b[39mraise\u001b[39;00m \u001b[39mValueError\u001b[39;00m(\u001b[39m\"\u001b[39m\u001b[39mNão foi possível gerar o Relatório de Monitoramento\u001b[39m\u001b[39m\"\u001b[39m)\n\u001b[0;32m    <a href='file:///d%3A/code/fiscaliza/fiscaliza/redmine.py?line=686'>687</a>\u001b[0m     \u001b[39mreturn\u001b[39;00m status_atual\n\u001b[0;32m    <a href='file:///d%3A/code/fiscaliza/fiscaliza/redmine.py?line=687'>688</a>\u001b[0m atualiza_fiscaliza(inspecao, data, fiscaliza, status\u001b[39m=\u001b[39m\u001b[39m\"\u001b[39m\u001b[39mRelatando\u001b[39m\u001b[39m\"\u001b[39m)\n",
      "\u001b[1;31mValueError\u001b[0m: Não foi possível gerar o Relatório de Monitoramento"
     ]
    }
   ],
   "source": [
    "from fiscaliza.redmine import *\n",
    "relatar_inspecao(issue, login, senha, dados=dados, teste=TESTE, parar_em=parar_em, substituir_relatorio=True)"
   ]
  },
  {
   "cell_type": "code",
   "execution_count": null,
   "metadata": {},
   "outputs": [],
   "source": [
    "#relato = relatar_inspecao(issue, login, senha, dados=dados, parar_em=\"Relatada\")"
   ]
  },
  {
   "cell_type": "markdown",
   "metadata": {},
   "source": [
    "Os mesmos passos acima podem ser efetuados no **Fiscaliza** de produção, bastando passar o argumento `teste=False` nas funções acima"
   ]
  },
  {
   "cell_type": "code",
   "execution_count": null,
   "metadata": {},
   "outputs": [],
   "source": [
    "# inspecao = '51849'\n",
    "# detalhes = detalhar_issue(inspecao, login, senha, teste=False)\n",
    "# console.print(detalhes)"
   ]
  }
 ],
 "metadata": {
  "kernelspec": {
   "display_name": "Python [conda env:fiscaliza]",
   "language": "python",
   "name": "python3"
  }
 },
 "nbformat": 4,
 "nbformat_minor": 4
}
