{
 "cells": [
  {
   "cell_type": "code",
   "execution_count": null,
   "metadata": {},
   "outputs": [],
   "source": [
    "#hide\n",
    "import json\n",
    "from pathlib import Path\n",
    "from getpass import getuser, getpass\n",
    "from fiscaliza.validation import validar_dados\n",
    "from fiscaliza.update import relatar_inspecao\n",
    "from fiscaliza.info import detalhar_issue, download\n",
    "from fiscaliza.constants import TABLECOLS\n",
    "from rich.console import Console\n",
    "console = Console()"
   ]
  },
  {
   "cell_type": "code",
   "execution_count": null,
   "metadata": {},
   "outputs": [],
   "source": [
    "%load_ext autoreload\n",
    "%autoreload 2\n",
    "%config Completer.use_jedi = False"
   ]
  },
  {
   "cell_type": "markdown",
   "metadata": {},
   "source": [
    "Caso não desejar utilizar um ambiente virtual basta rodar:\n",
    "`pip install fiscaliza`"
   ]
  },
  {
   "cell_type": "code",
   "execution_count": null,
   "metadata": {},
   "outputs": [],
   "source": [
    "# \n",
    "login = 'eric'\n",
    "senha = 'EmD1980m#'\n",
    "TESTE = True\n",
    "issue = '84258'\n",
    "parar_em = 'Relatando'\n"
   ]
  },
  {
   "cell_type": "code",
   "execution_count": null,
   "metadata": {},
   "outputs": [
    {
     "data": {
      "text/html": [
       "<pre style=\"white-space:pre;overflow-x:auto;line-height:normal;font-family:Menlo,'DejaVu Sans Mono',consolas,'Courier New',monospace\"><span style=\"font-weight: bold\">{</span>\n",
       "    <span style=\"color: #008000; text-decoration-color: #008000\">'Anexos'</span>: <span style=\"font-weight: bold\">{</span>\n",
       "        <span style=\"color: #008000; text-decoration-color: #008000\">'Lista_de_Exceção_PMEC_Etapa_2_Sorocaba'</span>: <span style=\"color: #008000; text-decoration-color: #008000\">'http://sistemashm.anatel.gov.br/fiscaliza/</span>\n",
       "<span style=\"color: #008000; text-decoration-color: #008000\">attachments/download/2114/Lista_de_Exce%C3%A7%C3%A3o_PMEC_Etapa_2_Sorocaba'</span>\n",
       "    <span style=\"font-weight: bold\">}</span>,\n",
       "    <span style=\"color: #008000; text-decoration-color: #008000\">'id'</span>: <span style=\"color: #008000; text-decoration-color: #008000\">'84258'</span>,\n",
       "    <span style=\"color: #008000; text-decoration-color: #008000\">'subject'</span>: <span style=\"color: #008000; text-decoration-color: #008000\">'INSP_GR08_2022_0094'</span>,\n",
       "    <span style=\"color: #008000; text-decoration-color: #008000\">'status'</span>: <span style=\"color: #008000; text-decoration-color: #008000\">'Relatando'</span>,\n",
       "    <span style=\"color: #008000; text-decoration-color: #008000\">'priority'</span>: <span style=\"color: #008000; text-decoration-color: #008000\">'Normal'</span>,\n",
       "    <span style=\"color: #008000; text-decoration-color: #008000\">'start_date'</span>: <span style=\"color: #008000; text-decoration-color: #008000\">'2022-04-11'</span>,\n",
       "    <span style=\"color: #008000; text-decoration-color: #008000\">'due_date'</span>: <span style=\"color: #008000; text-decoration-color: #008000\">'2022-05-31'</span>,\n",
       "    <span style=\"color: #008000; text-decoration-color: #008000\">'description'</span>: <span style=\"color: #008000; text-decoration-color: #008000\">'Realizar análise espectral de faixas das frequência relacionadas ao Plano</span>\n",
       "<span style=\"color: #008000; text-decoration-color: #008000\">de Monitoração do Espectro destinado a aplicações Críticas (PMEC), aferindo a sua ocupação, </span>\n",
       "<span style=\"color: #008000; text-decoration-color: #008000\">nas localidades que compõem a Etapa 1 da fiscalização.'</span>,\n",
       "    <span style=\"color: #008000; text-decoration-color: #008000\">'Data_de_inicio_efetivo'</span>: <span style=\"color: #800080; text-decoration-color: #800080; font-weight: bold\">datetime.date</span><span style=\"font-weight: bold\">(</span><span style=\"color: #008080; text-decoration-color: #008080; font-weight: bold\">2022</span>, <span style=\"color: #008080; text-decoration-color: #008080; font-weight: bold\">5</span>, <span style=\"color: #008080; text-decoration-color: #008080; font-weight: bold\">2</span><span style=\"font-weight: bold\">)</span>,\n",
       "    <span style=\"color: #008000; text-decoration-color: #008000\">'Classe_da_Inspecao'</span>: <span style=\"color: #008000; text-decoration-color: #008000\">'Técnica'</span>,\n",
       "    <span style=\"color: #008000; text-decoration-color: #008000\">'Tipo_de_Inspecao'</span>: <span style=\"color: #008000; text-decoration-color: #008000\">'Uso do Espectro - Monitoração'</span>,\n",
       "    <span style=\"color: #008000; text-decoration-color: #008000\">'Ano'</span>: <span style=\"color: #008000; text-decoration-color: #008000\">'2022'</span>,\n",
       "    <span style=\"color: #008000; text-decoration-color: #008000\">'Coordenacao'</span>: <span style=\"color: #008000; text-decoration-color: #008000\">'FI2'</span>,\n",
       "    <span style=\"color: #008000; text-decoration-color: #008000\">'Numero_Sei_do_Processo'</span>: <span style=\"color: #008000; text-decoration-color: #008000\">'{\"numero\"=&gt;\"53500.000209/2022-12\", \"link_acesso\"=&gt;\"https://sei</span>\n",
       "<span style=\"color: #008000; text-decoration-color: #008000\">hm.anatel.gov.br/sei/controlador.php?acao=procedimento_trabalhar&amp;id_procedimento=1968548\"}'</span>,\n",
       "    <span style=\"color: #008000; text-decoration-color: #008000\">'Fiscal_Responsavel'</span>: <span style=\"color: #008000; text-decoration-color: #008000\">'Eric Magalhaes Delgado'</span>,\n",
       "    <span style=\"color: #008000; text-decoration-color: #008000\">'Fiscais'</span>: <span style=\"font-weight: bold\">[</span><span style=\"color: #008000; text-decoration-color: #008000\">'Alessandro Vasconcelos Fernandes'</span>, <span style=\"color: #008000; text-decoration-color: #008000\">'Eric Magalhaes Delgado'</span><span style=\"font-weight: bold\">]</span>,\n",
       "    <span style=\"color: #008000; text-decoration-color: #008000\">'Entidade_da_Inspecao'</span>: <span style=\"font-weight: bold\">[]</span>,\n",
       "    <span style=\"color: #008000; text-decoration-color: #008000\">'UF_Municipio'</span>: <span style=\"font-weight: bold\">[</span><span style=\"color: #008000; text-decoration-color: #008000\">'BA/Salvador'</span><span style=\"font-weight: bold\">]</span>,\n",
       "    <span style=\"color: #008000; text-decoration-color: #008000\">'Servicos_da_Inspecao'</span>: <span style=\"font-weight: bold\">[</span>\n",
       "        <span style=\"color: #008000; text-decoration-color: #008000\">'019 - RESTRITO - LIMITADO PRIVADO'</span>,\n",
       "        <span style=\"color: #008000; text-decoration-color: #008000\">'205 - COLETIVO - RADIODIFUSÃO SONORA EM ONDA MÉDIA'</span>,\n",
       "        <span style=\"color: #008000; text-decoration-color: #008000\">'230 - COLETIVO - RADIODIFUSÃO SONORA EM FREQÜÊNCIA MODULADA'</span>,\n",
       "        <span style=\"color: #008000; text-decoration-color: #008000\">'231 - COLETIVO - RADIODIFUSÃO COMUNITÁRIA'</span>,\n",
       "        <span style=\"color: #008000; text-decoration-color: #008000\">'507 - RESTRITO - MÓVEL AERONÁUTICO'</span>\n",
       "    <span style=\"font-weight: bold\">]</span>,\n",
       "    <span style=\"color: #008000; text-decoration-color: #008000\">'Qnt_de_emissoes_na_faixa'</span>: <span style=\"color: #008000; text-decoration-color: #008000\">'70'</span>,\n",
       "    <span style=\"color: #008000; text-decoration-color: #008000\">'Qtd_Licenciadas'</span>: <span style=\"color: #008000; text-decoration-color: #008000\">'1'</span>,\n",
       "    <span style=\"color: #008000; text-decoration-color: #008000\">'Qtd_Identificadas'</span>: <span style=\"color: #008000; text-decoration-color: #008000\">'1'</span>,\n",
       "    <span style=\"color: #008000; text-decoration-color: #008000\">'Horas_de_Preparacao'</span>: <span style=\"color: #008000; text-decoration-color: #008000\">'4'</span>,\n",
       "    <span style=\"color: #008000; text-decoration-color: #008000\">'Horas_de_Deslocamento'</span>: <span style=\"color: #008000; text-decoration-color: #008000\">'0'</span>,\n",
       "    <span style=\"color: #008000; text-decoration-color: #008000\">'Horas_de_Execucao'</span>: <span style=\"color: #008000; text-decoration-color: #008000\">'4'</span>,\n",
       "    <span style=\"color: #008000; text-decoration-color: #008000\">'Horas_de_Conclusao'</span>: <span style=\"color: #008000; text-decoration-color: #008000\">'16'</span>,\n",
       "    <span style=\"color: #008000; text-decoration-color: #008000\">'SAV'</span>: <span style=\"color: #008000; text-decoration-color: #008000\">''</span>,\n",
       "    <span style=\"color: #008000; text-decoration-color: #008000\">'PCDP'</span>: <span style=\"color: #008000; text-decoration-color: #008000\">''</span>,\n",
       "    <span style=\"color: #008000; text-decoration-color: #008000\">'Procedimentos'</span>: <span style=\"font-weight: bold\">[]</span>,\n",
       "    <span style=\"color: #008000; text-decoration-color: #008000\">'Uso_de_PF'</span>: <span style=\"color: #008000; text-decoration-color: #008000\">'Não se aplica PF - uso apenas de formulários'</span>,\n",
       "    <span style=\"color: #008000; text-decoration-color: #008000\">'Acao_de_risco_a_vida_criada'</span>: <span style=\"color: #008000; text-decoration-color: #008000\">'Não'</span>,\n",
       "    <span style=\"color: #008000; text-decoration-color: #008000\">'Frequencia_Inicial'</span>: <span style=\"color: #008000; text-decoration-color: #008000\">'10'</span>,\n",
       "    <span style=\"color: #008000; text-decoration-color: #008000\">'Unidade_da_Frequencia_Inicial'</span>: <span style=\"color: #008000; text-decoration-color: #008000\">'kHz'</span>,\n",
       "    <span style=\"color: #008000; text-decoration-color: #008000\">'Frequencia_Final'</span>: <span style=\"color: #008000; text-decoration-color: #008000\">'110'</span>,\n",
       "    <span style=\"color: #008000; text-decoration-color: #008000\">'Unidade_da_Frequencia_Final'</span>: <span style=\"color: #008000; text-decoration-color: #008000\">'MHz'</span>,\n",
       "    <span style=\"color: #008000; text-decoration-color: #008000\">'Agrupamento'</span>: <span style=\"color: #008000; text-decoration-color: #008000\">''</span>,\n",
       "    <span style=\"color: #008000; text-decoration-color: #008000\">'AppFiscaliza'</span>: <span style=\"color: #008000; text-decoration-color: #008000\">'0'</span>,\n",
       "    <span style=\"color: #008000; text-decoration-color: #008000\">'Gerar_Relatorio'</span>: <span style=\"color: #008000; text-decoration-color: #008000\">'1'</span>,\n",
       "    <span style=\"color: #008000; text-decoration-color: #008000\">'Relatorio_de_Monitoramento'</span>: <span style=\"color: #008000; text-decoration-color: #008000\">'{\"numero\"=&gt;\"0195310\", \"link_acesso\"=&gt;\"https://seihm.anatel</span>\n",
       "<span style=\"color: #008000; text-decoration-color: #008000\">.gov.br/sei/controlador.php?acao=procedimento_trabalhar&amp;id_procedimento=1968548&amp;id_documento=</span>\n",
       "<span style=\"color: #008000; text-decoration-color: #008000\">1969360\"}'</span>,\n",
       "    <span style=\"color: #008000; text-decoration-color: #008000\">'Reservar_Instrumentos'</span>: <span style=\"color: #008000; text-decoration-color: #008000\">'0'</span>,\n",
       "    <span style=\"color: #008000; text-decoration-color: #008000\">'Utilizou_algum_instrumento'</span>: <span style=\"color: #008000; text-decoration-color: #008000\">'0'</span>,\n",
       "    <span style=\"color: #008000; text-decoration-color: #008000\">'Coordenadas_Geograficas'</span>: <span style=\"color: #008000; text-decoration-color: #008000\">'{\"latitude\"=&gt;\"-23.635884\", \"longitude\"=&gt;\"-46.654251\"}'</span>,\n",
       "    <span style=\"color: #008000; text-decoration-color: #008000\">'Coordenadas_Estacao'</span>: <span style=\"color: #008000; text-decoration-color: #008000\">''</span>,\n",
       "    <span style=\"color: #008000; text-decoration-color: #008000\">'id_ACAO'</span>: <span style=\"color: #008080; text-decoration-color: #008080; font-weight: bold\">79055</span>,\n",
       "    <span style=\"color: #008000; text-decoration-color: #008000\">'nome_ACAO'</span>: <span style=\"color: #008000; text-decoration-color: #008000\">'ACAO_GR08_2022_0003'</span>,\n",
       "    <span style=\"color: #008000; text-decoration-color: #008000\">'descricao_ACAO'</span>: <span style=\"color: #008000; text-decoration-color: #008000\">''</span>,\n",
       "    <span style=\"color: #008000; text-decoration-color: #008000\">'Users'</span>: <span style=\"font-weight: bold\">[</span>\n",
       "        <span style=\"color: #008000; text-decoration-color: #008000\">'Alessandro Vasconcelos Fernandes'</span>,\n",
       "        <span style=\"color: #008000; text-decoration-color: #008000\">'Alexnaldo Cerqueira da Silva'</span>,\n",
       "        <span style=\"color: #008000; text-decoration-color: #008000\">'Anecy Oliveira de Freitas'</span>,\n",
       "        <span style=\"color: #008000; text-decoration-color: #008000\">'Arildo Oliva Franca Filho'</span>,\n",
       "        <span style=\"color: #008000; text-decoration-color: #008000\">'Brasílio Rios Leite'</span>,\n",
       "        <span style=\"color: #008000; text-decoration-color: #008000\">'Carlos Fernando Muniz Santos'</span>,\n",
       "        <span style=\"color: #008000; text-decoration-color: #008000\">'Carolina Valenca'</span>,\n",
       "        <span style=\"color: #008000; text-decoration-color: #008000\">'David Santana e Silva Barreto'</span>,\n",
       "        <span style=\"color: #008000; text-decoration-color: #008000\">'Eric Magalhaes Delgado'</span>,\n",
       "        <span style=\"color: #008000; text-decoration-color: #008000\">'Fiscal UD'</span>,\n",
       "        <span style=\"color: #008000; text-decoration-color: #008000\">'Gilmar Ferreira do Nascimento'</span>,\n",
       "        <span style=\"color: #008000; text-decoration-color: #008000\">'Ilva Perla Monteiro Ferreira'</span>,\n",
       "        <span style=\"color: #008000; text-decoration-color: #008000\">'Isabel Cristina Soares e Souza'</span>,\n",
       "        <span style=\"color: #008000; text-decoration-color: #008000\">'Iulo de Araujo Lima Lobo'</span>,\n",
       "        <span style=\"color: #008000; text-decoration-color: #008000\">'Jorgean Ferreira Leal'</span>,\n",
       "        <span style=\"color: #008000; text-decoration-color: #008000\">'Jose Ivan Gomes'</span>,\n",
       "        <span style=\"color: #008000; text-decoration-color: #008000\">'Jose Mauricio Leite Araujo'</span>,\n",
       "        <span style=\"color: #008000; text-decoration-color: #008000\">'Leonardo Lago Araujo'</span>,\n",
       "        <span style=\"color: #008000; text-decoration-color: #008000\">'Lin Yu Wan'</span>,\n",
       "        <span style=\"color: #008000; text-decoration-color: #008000\">'Luis Fernando Camelier de Queiroz'</span>,\n",
       "        <span style=\"color: #008000; text-decoration-color: #008000\">'Michel Kulhavy Cerqueira'</span>,\n",
       "        <span style=\"color: #008000; text-decoration-color: #008000\">'Tiago Mota'</span>,\n",
       "        <span style=\"color: #008000; text-decoration-color: #008000\">'Wilton Machado de Oliveira'</span>\n",
       "    <span style=\"font-weight: bold\">]</span>,\n",
       "    <span style=\"color: #008000; text-decoration-color: #008000\">'Atualizado'</span>: <span style=\"color: #008000; text-decoration-color: #008000\">'Atualizado por Eric Magalhaes Delgado em 02/05/2022 às 17:04:12'</span>\n",
       "<span style=\"font-weight: bold\">}</span>\n",
       "</pre>\n"
      ],
      "text/plain": [
       "\u001b[1m{\u001b[0m\n",
       "    \u001b[32m'Anexos'\u001b[0m: \u001b[1m{\u001b[0m\n",
       "        \u001b[32m'Lista_de_Exceção_PMEC_Etapa_2_Sorocaba'\u001b[0m: \u001b[32m'http://sistemashm.anatel.gov.br/fiscaliza/\u001b[0m\n",
       "\u001b[32mattachments/download/2114/Lista_de_Exce%C3%A7%C3%A3o_PMEC_Etapa_2_Sorocaba'\u001b[0m\n",
       "    \u001b[1m}\u001b[0m,\n",
       "    \u001b[32m'id'\u001b[0m: \u001b[32m'84258'\u001b[0m,\n",
       "    \u001b[32m'subject'\u001b[0m: \u001b[32m'INSP_GR08_2022_0094'\u001b[0m,\n",
       "    \u001b[32m'status'\u001b[0m: \u001b[32m'Relatando'\u001b[0m,\n",
       "    \u001b[32m'priority'\u001b[0m: \u001b[32m'Normal'\u001b[0m,\n",
       "    \u001b[32m'start_date'\u001b[0m: \u001b[32m'2022-04-11'\u001b[0m,\n",
       "    \u001b[32m'due_date'\u001b[0m: \u001b[32m'2022-05-31'\u001b[0m,\n",
       "    \u001b[32m'description'\u001b[0m: \u001b[32m'Realizar análise espectral de faixas das frequência relacionadas ao Plano\u001b[0m\n",
       "\u001b[32mde Monitoração do Espectro destinado a aplicações Críticas \u001b[0m\u001b[32m(\u001b[0m\u001b[32mPMEC\u001b[0m\u001b[32m)\u001b[0m\u001b[32m, aferindo a sua ocupação, \u001b[0m\n",
       "\u001b[32mnas localidades que compõem a Etapa 1 da fiscalização.'\u001b[0m,\n",
       "    \u001b[32m'Data_de_inicio_efetivo'\u001b[0m: \u001b[1;35mdatetime.date\u001b[0m\u001b[1m(\u001b[0m\u001b[1;36m2022\u001b[0m, \u001b[1;36m5\u001b[0m, \u001b[1;36m2\u001b[0m\u001b[1m)\u001b[0m,\n",
       "    \u001b[32m'Classe_da_Inspecao'\u001b[0m: \u001b[32m'Técnica'\u001b[0m,\n",
       "    \u001b[32m'Tipo_de_Inspecao'\u001b[0m: \u001b[32m'Uso do Espectro - Monitoração'\u001b[0m,\n",
       "    \u001b[32m'Ano'\u001b[0m: \u001b[32m'2022'\u001b[0m,\n",
       "    \u001b[32m'Coordenacao'\u001b[0m: \u001b[32m'FI2'\u001b[0m,\n",
       "    \u001b[32m'Numero_Sei_do_Processo'\u001b[0m: \u001b[32m'\u001b[0m\u001b[32m{\u001b[0m\u001b[32m\"numero\"=>\"53500.000209/2022-12\", \"link_acesso\"=>\"https://sei\u001b[0m\n",
       "\u001b[32mhm.anatel.gov.br/sei/controlador.php?\u001b[0m\u001b[32macao\u001b[0m\u001b[32m=\u001b[0m\u001b[32mprocedimento_trabalhar\u001b[0m\u001b[32m&\u001b[0m\u001b[32mid_procedimento\u001b[0m\u001b[32m=\u001b[0m\u001b[32m1968548\"\u001b[0m\u001b[32m}\u001b[0m\u001b[32m'\u001b[0m,\n",
       "    \u001b[32m'Fiscal_Responsavel'\u001b[0m: \u001b[32m'Eric Magalhaes Delgado'\u001b[0m,\n",
       "    \u001b[32m'Fiscais'\u001b[0m: \u001b[1m[\u001b[0m\u001b[32m'Alessandro Vasconcelos Fernandes'\u001b[0m, \u001b[32m'Eric Magalhaes Delgado'\u001b[0m\u001b[1m]\u001b[0m,\n",
       "    \u001b[32m'Entidade_da_Inspecao'\u001b[0m: \u001b[1m[\u001b[0m\u001b[1m]\u001b[0m,\n",
       "    \u001b[32m'UF_Municipio'\u001b[0m: \u001b[1m[\u001b[0m\u001b[32m'BA/Salvador'\u001b[0m\u001b[1m]\u001b[0m,\n",
       "    \u001b[32m'Servicos_da_Inspecao'\u001b[0m: \u001b[1m[\u001b[0m\n",
       "        \u001b[32m'019 - RESTRITO - LIMITADO PRIVADO'\u001b[0m,\n",
       "        \u001b[32m'205 - COLETIVO - RADIODIFUSÃO SONORA EM ONDA MÉDIA'\u001b[0m,\n",
       "        \u001b[32m'230 - COLETIVO - RADIODIFUSÃO SONORA EM FREQÜÊNCIA MODULADA'\u001b[0m,\n",
       "        \u001b[32m'231 - COLETIVO - RADIODIFUSÃO COMUNITÁRIA'\u001b[0m,\n",
       "        \u001b[32m'507 - RESTRITO - MÓVEL AERONÁUTICO'\u001b[0m\n",
       "    \u001b[1m]\u001b[0m,\n",
       "    \u001b[32m'Qnt_de_emissoes_na_faixa'\u001b[0m: \u001b[32m'70'\u001b[0m,\n",
       "    \u001b[32m'Qtd_Licenciadas'\u001b[0m: \u001b[32m'1'\u001b[0m,\n",
       "    \u001b[32m'Qtd_Identificadas'\u001b[0m: \u001b[32m'1'\u001b[0m,\n",
       "    \u001b[32m'Horas_de_Preparacao'\u001b[0m: \u001b[32m'4'\u001b[0m,\n",
       "    \u001b[32m'Horas_de_Deslocamento'\u001b[0m: \u001b[32m'0'\u001b[0m,\n",
       "    \u001b[32m'Horas_de_Execucao'\u001b[0m: \u001b[32m'4'\u001b[0m,\n",
       "    \u001b[32m'Horas_de_Conclusao'\u001b[0m: \u001b[32m'16'\u001b[0m,\n",
       "    \u001b[32m'SAV'\u001b[0m: \u001b[32m''\u001b[0m,\n",
       "    \u001b[32m'PCDP'\u001b[0m: \u001b[32m''\u001b[0m,\n",
       "    \u001b[32m'Procedimentos'\u001b[0m: \u001b[1m[\u001b[0m\u001b[1m]\u001b[0m,\n",
       "    \u001b[32m'Uso_de_PF'\u001b[0m: \u001b[32m'Não se aplica PF - uso apenas de formulários'\u001b[0m,\n",
       "    \u001b[32m'Acao_de_risco_a_vida_criada'\u001b[0m: \u001b[32m'Não'\u001b[0m,\n",
       "    \u001b[32m'Frequencia_Inicial'\u001b[0m: \u001b[32m'10'\u001b[0m,\n",
       "    \u001b[32m'Unidade_da_Frequencia_Inicial'\u001b[0m: \u001b[32m'kHz'\u001b[0m,\n",
       "    \u001b[32m'Frequencia_Final'\u001b[0m: \u001b[32m'110'\u001b[0m,\n",
       "    \u001b[32m'Unidade_da_Frequencia_Final'\u001b[0m: \u001b[32m'MHz'\u001b[0m,\n",
       "    \u001b[32m'Agrupamento'\u001b[0m: \u001b[32m''\u001b[0m,\n",
       "    \u001b[32m'AppFiscaliza'\u001b[0m: \u001b[32m'0'\u001b[0m,\n",
       "    \u001b[32m'Gerar_Relatorio'\u001b[0m: \u001b[32m'1'\u001b[0m,\n",
       "    \u001b[32m'Relatorio_de_Monitoramento'\u001b[0m: \u001b[32m'\u001b[0m\u001b[32m{\u001b[0m\u001b[32m\"numero\"=>\"0195310\", \"link_acesso\"=>\"https://seihm.anatel\u001b[0m\n",
       "\u001b[32m.gov.br/sei/controlador.php?\u001b[0m\u001b[32macao\u001b[0m\u001b[32m=\u001b[0m\u001b[32mprocedimento_trabalhar\u001b[0m\u001b[32m&\u001b[0m\u001b[32mid_procedimento\u001b[0m\u001b[32m=\u001b[0m\u001b[32m1968548\u001b[0m\u001b[32m&\u001b[0m\u001b[32mid_documento\u001b[0m\u001b[32m=\u001b[0m\n",
       "\u001b[32m1969360\"\u001b[0m\u001b[32m}\u001b[0m\u001b[32m'\u001b[0m,\n",
       "    \u001b[32m'Reservar_Instrumentos'\u001b[0m: \u001b[32m'0'\u001b[0m,\n",
       "    \u001b[32m'Utilizou_algum_instrumento'\u001b[0m: \u001b[32m'0'\u001b[0m,\n",
       "    \u001b[32m'Coordenadas_Geograficas'\u001b[0m: \u001b[32m'\u001b[0m\u001b[32m{\u001b[0m\u001b[32m\"latitude\"=>\"-23.635884\", \"longitude\"=>\"-46.654251\"\u001b[0m\u001b[32m}\u001b[0m\u001b[32m'\u001b[0m,\n",
       "    \u001b[32m'Coordenadas_Estacao'\u001b[0m: \u001b[32m''\u001b[0m,\n",
       "    \u001b[32m'id_ACAO'\u001b[0m: \u001b[1;36m79055\u001b[0m,\n",
       "    \u001b[32m'nome_ACAO'\u001b[0m: \u001b[32m'ACAO_GR08_2022_0003'\u001b[0m,\n",
       "    \u001b[32m'descricao_ACAO'\u001b[0m: \u001b[32m''\u001b[0m,\n",
       "    \u001b[32m'Users'\u001b[0m: \u001b[1m[\u001b[0m\n",
       "        \u001b[32m'Alessandro Vasconcelos Fernandes'\u001b[0m,\n",
       "        \u001b[32m'Alexnaldo Cerqueira da Silva'\u001b[0m,\n",
       "        \u001b[32m'Anecy Oliveira de Freitas'\u001b[0m,\n",
       "        \u001b[32m'Arildo Oliva Franca Filho'\u001b[0m,\n",
       "        \u001b[32m'Brasílio Rios Leite'\u001b[0m,\n",
       "        \u001b[32m'Carlos Fernando Muniz Santos'\u001b[0m,\n",
       "        \u001b[32m'Carolina Valenca'\u001b[0m,\n",
       "        \u001b[32m'David Santana e Silva Barreto'\u001b[0m,\n",
       "        \u001b[32m'Eric Magalhaes Delgado'\u001b[0m,\n",
       "        \u001b[32m'Fiscal UD'\u001b[0m,\n",
       "        \u001b[32m'Gilmar Ferreira do Nascimento'\u001b[0m,\n",
       "        \u001b[32m'Ilva Perla Monteiro Ferreira'\u001b[0m,\n",
       "        \u001b[32m'Isabel Cristina Soares e Souza'\u001b[0m,\n",
       "        \u001b[32m'Iulo de Araujo Lima Lobo'\u001b[0m,\n",
       "        \u001b[32m'Jorgean Ferreira Leal'\u001b[0m,\n",
       "        \u001b[32m'Jose Ivan Gomes'\u001b[0m,\n",
       "        \u001b[32m'Jose Mauricio Leite Araujo'\u001b[0m,\n",
       "        \u001b[32m'Leonardo Lago Araujo'\u001b[0m,\n",
       "        \u001b[32m'Lin Yu Wan'\u001b[0m,\n",
       "        \u001b[32m'Luis Fernando Camelier de Queiroz'\u001b[0m,\n",
       "        \u001b[32m'Michel Kulhavy Cerqueira'\u001b[0m,\n",
       "        \u001b[32m'Tiago Mota'\u001b[0m,\n",
       "        \u001b[32m'Wilton Machado de Oliveira'\u001b[0m\n",
       "    \u001b[1m]\u001b[0m,\n",
       "    \u001b[32m'Atualizado'\u001b[0m: \u001b[32m'Atualizado por Eric Magalhaes Delgado em 02/05/2022 às 17:04:12'\u001b[0m\n",
       "\u001b[1m}\u001b[0m\n"
      ]
     },
     "metadata": {},
     "output_type": "display_data"
    }
   ],
   "source": [
    "# issue = '72088'\n",
    "detalhes = detalhar_issue(issue, login, senha)\n",
    "console.print(detalhes)"
   ]
  },
  {
   "cell_type": "code",
   "execution_count": null,
   "metadata": {},
   "outputs": [],
   "source": [
    "d = {}\n",
    "\n",
    "d['Classe_da_Inspecao'] = 'Técnica' # str\n",
    "\n",
    "d['Tipo_de_Inspecao'] = 'Uso do Espectro - Monitoração' #str\n",
    "\n",
    "d['description'] = '''Realizar análise espectral de faixas das frequência relacionadas ao Plano de Monitoração do Espectro destinado a aplicações Críticas (PMEC), aferindo a sua ocupação, nas localidades que compõem a Etapa 1 da fiscalização.'''\n",
    "\n",
    "d['Fiscal_Responsavel'] = 'Eric Magalhaes Delgado' #str\n",
    "\n",
    "d['Fiscais'] = ['Alessandro Vasconcelos Fernandes', 'Eric Magalhaes Delgado'] #string ou lista de strings\n",
    "\n",
    "# Windows\n",
    "d['Html'] = r'D:\\OneDrive - ANATEL\\Monitoramento\\Processos\\53500.0191952022-19\\Report_2022.04.18_T13.59.18_FinalVersion.html' #str\n",
    "\n",
    "d['Html'] = r'D:\\html_simples.html'\n",
    "\n",
    "# #ou \n",
    "\n",
    "# #Unix d['Html'] = '/d/OneDrive - ANATEL/Monitoramento/53504.0005432021-55/Guarulhos.html' #str\n",
    "            \n",
    "d['Gerar_Relatorio'] = 1 # int 0 ou 1\n",
    "\n",
    "d['Frequencia_Inicial']  = 10 #int ou float\n",
    "\n",
    "d['Unidade_da_Frequencia_Inicial'] = 'kHz' #string\n",
    "\n",
    "d['Frequencia_Final'] = 110 #int ou float\n",
    "\n",
    "d['Unidade_da_Frequencia_Final'] = 'MHz' #string\n",
    "\n",
    "d['start_date'] = '2022-04-11' #YYYY-MM-DD #string nesse formato\n",
    "\n",
    "d['due_date'] = '2022-05-31'  #YYYY-MM-DD #string nesse formato\n",
    "\n",
    "d['UF_Municipio'] = \"BA/Salvador\" # string ou Lista de Strings: [\"SP/São Paulo\", \"SP/Sorocaba\"]\n",
    "\n",
    "d['Servicos_da_Inspecao'] = ['019', '205',  '230', '231', '507'] # String ou Lista de Strings\n",
    "\n",
    "d['Qnt_de_emissoes_na_faixa'] = 70 # int\n",
    "\n",
    "d[\"Qtd_Licenciadas\"] = 1\n",
    "\n",
    "d[\"Qtd_Identificadas\"] = 1\n",
    "\n",
    "d['Emissoes_nao_autorizadas'] = 24 # int\n",
    "\n",
    "d['Horas_de_Preparacao'] = 4 # int\n",
    "\n",
    "d['Horas_de_Deslocamento'] = 0 # int\n",
    "\n",
    "d['Horas_de_Execucao'] = 4 # int\n",
    "\n",
    "d['Horas_de_Conclusao'] = 16 # int\n",
    "\n",
    "d['Latitude'] =  -23.635884 # float\n",
    "\n",
    "d['Longitude'] = -46.654251 # float\n",
    "\n",
    "d['Uso_de_PF'] = 'Não se aplica PF - uso apenas de formulários' # string\n",
    "\n",
    "d['Acao_de_risco_a_vida_criada'] = 'Não' # string Sim | Não\n",
    "\n",
    "d['Impossibilidade_acesso_online'] = '0' # string '0' | '1'\n",
    "\n",
    "d['Reservar_Instrumentos'] = '0' #string '0' = Não | '1' = 'Sim'\n",
    "\n",
    "d['Utilizou_algum_instrumento'] = '0'\n",
    "\n",
    "# d['notes'] = \"\"\"Vemos que o nível médio medido ficou da ordem de 35.2 dB inferior e o nível máximo da ordem de 25.2 dB inferior do valor esperado pela simulação de cobertura, indicando potenciais perdas adicionais não contabilizadas pelo modelo de propagação.\n",
    "\n",
    "# Cabe salientar que concomitantemente à monitoração efetuada no item 4 foi efetuada a demodulação do sinal de áudio e monitoração do sinal ao vivo e não foi constatado qualquer sinal de interferência, batimento ou produto de intermodulação.\"\"\"\n",
    "\n",
    "# d['notes'] = [\"\"\"[{\"Banda\":\"87.800 - 108.000 MHz\", \"Licenciados\":31,\"NaoLicenciados\":4,\"NaoLicenciaveis\":0, 'Espúrio': 2, \"NaoIdentificada\": 1, \"NaoManifestada\": 0},\n",
    "#                 {\"Banda\":\"470.000 - 698.000 MHz\",\"Sinais\":19,\"Licenciados\":19,\"NaoLicenciados\":0,\"NaoLicenciaveis\":0, 'Espúrio': 2, \"NaoIdentificada\": 1, \"NaoManifestada\": 0}]\n",
    "#             \"\"\"]\n",
    "\n",
    "# No caso de uma tabela, string formatada como csv\n",
    "\n",
    "d['notes'] = {k:2 for k in TABLECOLS.values()}\n",
    "\n",
    "d['notes'] = [f\"{d['notes']}\"]\n",
    "\n",
    "# d['notes'] = [\"\"\"Faixa, Classe Especial, Classe A, Classe B, Classe C\n",
    "#                 VHF-L,0,5,7,5\n",
    "#                 VHF-H,0,12,1,0\n",
    "#                 UHF,1,1,2,4\n",
    "#                 FM,5,1,0,0\n",
    "#                 RADCOM,0,0,0,0\n",
    "#                 Outorgadas com indícios de irregularidades,1,2,3,4\n",
    "#               \"\"\",\n",
    "#               \"\"\"[{\"Banda\":\"87.800 - 108.000 MHz\",\"Sinais\":35,\"Licenciados\":31,\"NaoLicenciados\":4,\"NaoLicenciaveis\":0},\n",
    "#                   {\"Banda\":\"470.000 - 698.000 MHz\",\"Sinais\":19,\"Licenciados\":19,\"NaoLicenciados\":0,\"NaoLicenciaveis\":0}]\n",
    "#               \"\"\"]\n",
    "\n",
    "d['uploads'] = {'path': r'C:\\Users\\rsilva\\Downloads\\temp\\84128_2087_Info.json', \n",
    "                 'filename': \"Lista_de_Exceção_PMEC_Etapa_2_Sorocaba\", \n",
    "#                 'description': \"Lista de Emissões Desmascaradas e Não Licenciadas\",\n",
    "#                 'content_type': '.csv'\n",
    "                }"
   ]
  },
  {
   "cell_type": "code",
   "execution_count": null,
   "metadata": {},
   "outputs": [
    {
     "data": {
      "text/html": [
       "<pre style=\"white-space:pre;overflow-x:auto;line-height:normal;font-family:Menlo,'DejaVu Sans Mono',consolas,'Courier New',monospace\"><span style=\"color: #000080; text-decoration-color: #000080\">Classe_da_Inspecao </span><span style=\"color: #800000; text-decoration-color: #800000\">-&gt; </span><span style=\"color: #008000; text-decoration-color: #008000; font-weight: bold\">{</span><span style=\"color: #008000; text-decoration-color: #008000\">'id'</span><span style=\"color: #008000; text-decoration-color: #008000\">: </span><span style=\"color: #008000; text-decoration-color: #008000; font-weight: bold\">89</span><span style=\"color: #008000; text-decoration-color: #008000\">, </span><span style=\"color: #008000; text-decoration-color: #008000\">'value'</span><span style=\"color: #008000; text-decoration-color: #008000\">: </span><span style=\"color: #008000; text-decoration-color: #008000\">'{\"valor\":\"Técnica\",\"texto\":\"Técnica\"}'</span><span style=\"color: #008000; text-decoration-color: #008000; font-weight: bold\">}</span>\n",
       "</pre>\n"
      ],
      "text/plain": [
       "\u001b[34mClasse_da_Inspecao \u001b[0m\u001b[31m-> \u001b[0m\u001b[1;32m{\u001b[0m\u001b[32m'id'\u001b[0m\u001b[32m: \u001b[0m\u001b[1;32m89\u001b[0m\u001b[32m, \u001b[0m\u001b[32m'value'\u001b[0m\u001b[32m: \u001b[0m\u001b[32m'\u001b[0m\u001b[32m{\u001b[0m\u001b[32m\"valor\":\"Técnica\",\"texto\":\"Técnica\"\u001b[0m\u001b[32m}\u001b[0m\u001b[32m'\u001b[0m\u001b[1;32m}\u001b[0m\n"
      ]
     },
     "metadata": {},
     "output_type": "display_data"
    },
    {
     "data": {
      "text/html": [
       "<pre style=\"white-space:pre;overflow-x:auto;line-height:normal;font-family:Menlo,'DejaVu Sans Mono',consolas,'Courier New',monospace\"><span style=\"color: #000080; text-decoration-color: #000080\">Tipo_de_Inspecao </span><span style=\"color: #800000; text-decoration-color: #800000\">-&gt; </span><span style=\"color: #008000; text-decoration-color: #008000; font-weight: bold\">{</span><span style=\"color: #008000; text-decoration-color: #008000\">'id'</span><span style=\"color: #008000; text-decoration-color: #008000\">: </span><span style=\"color: #008000; text-decoration-color: #008000; font-weight: bold\">2</span><span style=\"color: #008000; text-decoration-color: #008000\">, </span><span style=\"color: #008000; text-decoration-color: #008000\">'value'</span><span style=\"color: #008000; text-decoration-color: #008000\">: </span><span style=\"color: #008000; text-decoration-color: #008000\">'{\"valor\":\"Uso do Espectro - Monitoração\",\"texto\":\"Uso</span>\n",
       "<span style=\"color: #008000; text-decoration-color: #008000\">do Espectro - Monitoração\"}'</span><span style=\"color: #008000; text-decoration-color: #008000; font-weight: bold\">}</span>\n",
       "</pre>\n"
      ],
      "text/plain": [
       "\u001b[34mTipo_de_Inspecao \u001b[0m\u001b[31m-> \u001b[0m\u001b[1;32m{\u001b[0m\u001b[32m'id'\u001b[0m\u001b[32m: \u001b[0m\u001b[1;32m2\u001b[0m\u001b[32m, \u001b[0m\u001b[32m'value'\u001b[0m\u001b[32m: \u001b[0m\u001b[32m'\u001b[0m\u001b[32m{\u001b[0m\u001b[32m\"valor\":\"Uso do Espectro - Monitoração\",\"texto\":\"Uso\u001b[0m\n",
       "\u001b[32mdo Espectro - Monitoração\"\u001b[0m\u001b[32m}\u001b[0m\u001b[32m'\u001b[0m\u001b[1;32m}\u001b[0m\n"
      ]
     },
     "metadata": {},
     "output_type": "display_data"
    },
    {
     "data": {
      "text/html": [
       "<pre style=\"white-space:pre;overflow-x:auto;line-height:normal;font-family:Menlo,'DejaVu Sans Mono',consolas,'Courier New',monospace\"><span style=\"color: #000080; text-decoration-color: #000080\">description </span><span style=\"color: #800000; text-decoration-color: #800000\">-&gt; </span><span style=\"color: #008000; text-decoration-color: #008000\">Realizar análise espectral de faixas das frequência relacionadas ao Plano de </span>\n",
       "<span style=\"color: #008000; text-decoration-color: #008000\">Monitoração do Espectro destinado a aplicações Críticas </span><span style=\"color: #008000; text-decoration-color: #008000; font-weight: bold\">(</span><span style=\"color: #008000; text-decoration-color: #008000\">PMEC</span><span style=\"color: #008000; text-decoration-color: #008000; font-weight: bold\">)</span><span style=\"color: #008000; text-decoration-color: #008000\">, aferindo a sua ocupação, nas </span>\n",
       "<span style=\"color: #008000; text-decoration-color: #008000\">localidades que compõem a Etapa </span><span style=\"color: #008000; text-decoration-color: #008000; font-weight: bold\">1</span><span style=\"color: #008000; text-decoration-color: #008000\"> da fiscalização.</span>\n",
       "</pre>\n"
      ],
      "text/plain": [
       "\u001b[34mdescription \u001b[0m\u001b[31m-> \u001b[0m\u001b[32mRealizar análise espectral de faixas das frequência relacionadas ao Plano de \u001b[0m\n",
       "\u001b[32mMonitoração do Espectro destinado a aplicações Críticas \u001b[0m\u001b[1;32m(\u001b[0m\u001b[32mPMEC\u001b[0m\u001b[1;32m)\u001b[0m\u001b[32m, aferindo a sua ocupação, nas \u001b[0m\n",
       "\u001b[32mlocalidades que compõem a Etapa \u001b[0m\u001b[1;32m1\u001b[0m\u001b[32m da fiscalização.\u001b[0m\n"
      ]
     },
     "metadata": {},
     "output_type": "display_data"
    },
    {
     "data": {
      "text/html": [
       "<pre style=\"white-space:pre;overflow-x:auto;line-height:normal;font-family:Menlo,'DejaVu Sans Mono',consolas,'Courier New',monospace\"><span style=\"color: #000080; text-decoration-color: #000080\">Fiscal_Responsavel </span><span style=\"color: #800000; text-decoration-color: #800000\">-&gt; </span><span style=\"color: #008000; text-decoration-color: #008000; font-weight: bold\">{</span><span style=\"color: #008000; text-decoration-color: #008000\">'id'</span><span style=\"color: #008000; text-decoration-color: #008000\">: </span><span style=\"color: #008000; text-decoration-color: #008000; font-weight: bold\">25</span><span style=\"color: #008000; text-decoration-color: #008000\">, </span><span style=\"color: #008000; text-decoration-color: #008000\">'value'</span><span style=\"color: #008000; text-decoration-color: #008000\">: </span><span style=\"color: #008000; text-decoration-color: #008000; font-weight: bold\">1262</span><span style=\"color: #008000; text-decoration-color: #008000; font-weight: bold\">}</span>\n",
       "</pre>\n"
      ],
      "text/plain": [
       "\u001b[34mFiscal_Responsavel \u001b[0m\u001b[31m-> \u001b[0m\u001b[1;32m{\u001b[0m\u001b[32m'id'\u001b[0m\u001b[32m: \u001b[0m\u001b[1;32m25\u001b[0m\u001b[32m, \u001b[0m\u001b[32m'value'\u001b[0m\u001b[32m: \u001b[0m\u001b[1;32m1262\u001b[0m\u001b[1;32m}\u001b[0m\n"
      ]
     },
     "metadata": {},
     "output_type": "display_data"
    },
    {
     "data": {
      "text/html": [
       "<pre style=\"white-space:pre;overflow-x:auto;line-height:normal;font-family:Menlo,'DejaVu Sans Mono',consolas,'Courier New',monospace\"><span style=\"color: #000080; text-decoration-color: #000080\">Fiscais </span><span style=\"color: #800000; text-decoration-color: #800000\">-&gt; </span><span style=\"color: #008000; text-decoration-color: #008000; font-weight: bold\">{</span><span style=\"color: #008000; text-decoration-color: #008000\">'id'</span><span style=\"color: #008000; text-decoration-color: #008000\">: </span><span style=\"color: #008000; text-decoration-color: #008000; font-weight: bold\">26</span><span style=\"color: #008000; text-decoration-color: #008000\">, </span><span style=\"color: #008000; text-decoration-color: #008000\">'value'</span><span style=\"color: #008000; text-decoration-color: #008000\">: </span><span style=\"color: #008000; text-decoration-color: #008000; font-weight: bold\">[</span><span style=\"color: #008000; text-decoration-color: #008000; font-weight: bold\">333</span><span style=\"color: #008000; text-decoration-color: #008000\">, </span><span style=\"color: #008000; text-decoration-color: #008000; font-weight: bold\">1262</span><span style=\"color: #008000; text-decoration-color: #008000; font-weight: bold\">]}</span>\n",
       "</pre>\n"
      ],
      "text/plain": [
       "\u001b[34mFiscais \u001b[0m\u001b[31m-> \u001b[0m\u001b[1;32m{\u001b[0m\u001b[32m'id'\u001b[0m\u001b[32m: \u001b[0m\u001b[1;32m26\u001b[0m\u001b[32m, \u001b[0m\u001b[32m'value'\u001b[0m\u001b[32m: \u001b[0m\u001b[1;32m[\u001b[0m\u001b[1;32m333\u001b[0m\u001b[32m, \u001b[0m\u001b[1;32m1262\u001b[0m\u001b[1;32m]\u001b[0m\u001b[1;32m}\u001b[0m\n"
      ]
     },
     "metadata": {},
     "output_type": "display_data"
    },
    {
     "data": {
      "text/html": [
       "<pre style=\"white-space:pre;overflow-x:auto;line-height:normal;font-family:Menlo,'DejaVu Sans Mono',consolas,'Courier New',monospace\"><span style=\"color: #000080; text-decoration-color: #000080\">Html </span><span style=\"color: #800000; text-decoration-color: #800000\">-&gt; </span><span style=\"color: #008000; text-decoration-color: #008000; font-weight: bold\">{</span><span style=\"color: #008000; text-decoration-color: #008000\">'id'</span><span style=\"color: #008000; text-decoration-color: #008000\">: </span><span style=\"color: #008000; text-decoration-color: #008000; font-weight: bold\">543</span><span style=\"color: #008000; text-decoration-color: #008000\">, </span><span style=\"color: #008000; text-decoration-color: #008000\">'value'</span><span style=\"color: #008000; text-decoration-color: #008000\">: '</span><span style=\"color: #008000; text-decoration-color: #008000; font-weight: bold\">&lt;</span><span style=\"color: #008000; text-decoration-color: #008000\">!DOCTYPE html</span><span style=\"color: #008000; text-decoration-color: #008000; font-weight: bold\">&gt;</span><span style=\"color: #008000; text-decoration-color: #008000\">\\n</span><span style=\"color: #008000; text-decoration-color: #008000; font-weight: bold\">&lt;html</span><span style=\"color: #008000; text-decoration-color: #008000\"> </span><span style=\"color: #008000; text-decoration-color: #008000\">lang</span><span style=\"color: #008000; text-decoration-color: #008000\">=</span><span style=\"color: #008000; text-decoration-color: #008000\">\"pt-br\"</span><span style=\"color: #008000; text-decoration-color: #008000; font-weight: bold\">&gt;</span><span style=\"color: #008000; text-decoration-color: #008000\">\\n\\n</span><span style=\"color: #008000; text-decoration-color: #008000; font-weight: bold\">&lt;head&gt;</span><span style=\"color: #008000; text-decoration-color: #008000\">\\n    </span>\n",
       "<span style=\"color: #008000; text-decoration-color: #008000; font-weight: bold\">&lt;title&gt;</span><span style=\"color: #008000; text-decoration-color: #008000\">Título da página&lt;/t</span>\n",
       "<span style=\"color: #008000; text-decoration-color: #008000\">...</span>\n",
       "<span style=\"color: #008000; text-decoration-color: #008000; font-weight: bold\">8</span><span style=\"color: #008000; text-decoration-color: #008000\">\"&gt;\\n</span><span style=\"color: #008000; text-decoration-color: #008000; font-weight: bold\">&lt;</span><span style=\"color: #008000; text-decoration-color: #008000\">/head</span><span style=\"color: #008000; text-decoration-color: #008000; font-weight: bold\">&gt;</span><span style=\"color: #008000; text-decoration-color: #008000\">\\n\\n</span><span style=\"color: #008000; text-decoration-color: #008000; font-weight: bold\">&lt;body&gt;</span><span style=\"color: #008000; text-decoration-color: #008000\">\\n    Aqui vai o código HTML que fará seu site </span>\n",
       "<span style=\"color: #008000; text-decoration-color: #008000\">aparecer.\\n</span><span style=\"color: #008000; text-decoration-color: #008000; font-weight: bold\">&lt;</span><span style=\"color: #008000; text-decoration-color: #008000\">/body</span><span style=\"color: #008000; text-decoration-color: #008000; font-weight: bold\">&gt;</span><span style=\"color: #008000; text-decoration-color: #008000\">\\n\\n</span><span style=\"color: #008000; text-decoration-color: #008000; font-weight: bold\">&lt;</span><span style=\"color: #008000; text-decoration-color: #008000\">/html</span><span style=\"color: #008000; text-decoration-color: #008000; font-weight: bold\">&gt;</span><span style=\"color: #008000; text-decoration-color: #008000\">'</span><span style=\"color: #008000; text-decoration-color: #008000; font-weight: bold\">}</span>\n",
       "</pre>\n"
      ],
      "text/plain": [
       "\u001b[34mHtml \u001b[0m\u001b[31m-> \u001b[0m\u001b[1;32m{\u001b[0m\u001b[32m'id'\u001b[0m\u001b[32m: \u001b[0m\u001b[1;32m543\u001b[0m\u001b[32m, \u001b[0m\u001b[32m'value'\u001b[0m\u001b[32m: '\u001b[0m\u001b[1;32m<\u001b[0m\u001b[32m!DOCTYPE html\u001b[0m\u001b[1;32m>\u001b[0m\u001b[32m\\n\u001b[0m\u001b[1;32m<\u001b[0m\u001b[1;32mhtml\u001b[0m\u001b[32m \u001b[0m\u001b[32mlang\u001b[0m\u001b[32m=\u001b[0m\u001b[32m\"pt\u001b[0m\u001b[32m-br\"\u001b[0m\u001b[1;32m>\u001b[0m\u001b[32m\\n\\n\u001b[0m\u001b[1;32m<\u001b[0m\u001b[1;32mhead\u001b[0m\u001b[1;32m>\u001b[0m\u001b[32m\\n    \u001b[0m\n",
       "\u001b[1;32m<\u001b[0m\u001b[1;32mtitle\u001b[0m\u001b[1;32m>\u001b[0m\u001b[32mTítulo da página<\u001b[0m\u001b[32m/\u001b[0m\u001b[32mt\u001b[0m\n",
       "\u001b[32m...\u001b[0m\n",
       "\u001b[1;32m8\u001b[0m\u001b[32m\">\\n\u001b[0m\u001b[1;32m<\u001b[0m\u001b[32m/\u001b[0m\u001b[32mhead\u001b[0m\u001b[1;32m>\u001b[0m\u001b[32m\\n\\n\u001b[0m\u001b[1;32m<\u001b[0m\u001b[1;32mbody\u001b[0m\u001b[1;32m>\u001b[0m\u001b[32m\\n    Aqui vai o código HTML que fará seu site \u001b[0m\n",
       "\u001b[32maparecer.\\n\u001b[0m\u001b[1;32m<\u001b[0m\u001b[32m/\u001b[0m\u001b[32mbody\u001b[0m\u001b[1;32m>\u001b[0m\u001b[32m\\n\\n\u001b[0m\u001b[1;32m<\u001b[0m\u001b[32m/\u001b[0m\u001b[32mhtml\u001b[0m\u001b[1;32m>\u001b[0m\u001b[32m'\u001b[0m\u001b[1;32m}\u001b[0m\n"
      ]
     },
     "metadata": {},
     "output_type": "display_data"
    },
    {
     "data": {
      "text/html": [
       "<pre style=\"white-space:pre;overflow-x:auto;line-height:normal;font-family:Menlo,'DejaVu Sans Mono',consolas,'Courier New',monospace\"><span style=\"color: #000080; text-decoration-color: #000080\">Gerar_Relatorio </span><span style=\"color: #800000; text-decoration-color: #800000\">-&gt; </span><span style=\"color: #008000; text-decoration-color: #008000; font-weight: bold\">{</span><span style=\"color: #008000; text-decoration-color: #008000\">'id'</span><span style=\"color: #008000; text-decoration-color: #008000\">: </span><span style=\"color: #008000; text-decoration-color: #008000; font-weight: bold\">541</span><span style=\"color: #008000; text-decoration-color: #008000\">, </span><span style=\"color: #008000; text-decoration-color: #008000\">'value'</span><span style=\"color: #008000; text-decoration-color: #008000\">: </span><span style=\"color: #008000; text-decoration-color: #008000; font-weight: bold\">1</span><span style=\"color: #008000; text-decoration-color: #008000; font-weight: bold\">}</span>\n",
       "</pre>\n"
      ],
      "text/plain": [
       "\u001b[34mGerar_Relatorio \u001b[0m\u001b[31m-> \u001b[0m\u001b[1;32m{\u001b[0m\u001b[32m'id'\u001b[0m\u001b[32m: \u001b[0m\u001b[1;32m541\u001b[0m\u001b[32m, \u001b[0m\u001b[32m'value'\u001b[0m\u001b[32m: \u001b[0m\u001b[1;32m1\u001b[0m\u001b[1;32m}\u001b[0m\n"
      ]
     },
     "metadata": {},
     "output_type": "display_data"
    },
    {
     "data": {
      "text/html": [
       "<pre style=\"white-space:pre;overflow-x:auto;line-height:normal;font-family:Menlo,'DejaVu Sans Mono',consolas,'Courier New',monospace\"><span style=\"color: #000080; text-decoration-color: #000080\">Frequencia_Inicial </span><span style=\"color: #800000; text-decoration-color: #800000\">-&gt; </span><span style=\"color: #008000; text-decoration-color: #008000; font-weight: bold\">{</span><span style=\"color: #008000; text-decoration-color: #008000\">'id'</span><span style=\"color: #008000; text-decoration-color: #008000\">: </span><span style=\"color: #008000; text-decoration-color: #008000; font-weight: bold\">156</span><span style=\"color: #008000; text-decoration-color: #008000\">, </span><span style=\"color: #008000; text-decoration-color: #008000\">'value'</span><span style=\"color: #008000; text-decoration-color: #008000\">: </span><span style=\"color: #008000; text-decoration-color: #008000; font-weight: bold\">10</span><span style=\"color: #008000; text-decoration-color: #008000; font-weight: bold\">}</span>\n",
       "</pre>\n"
      ],
      "text/plain": [
       "\u001b[34mFrequencia_Inicial \u001b[0m\u001b[31m-> \u001b[0m\u001b[1;32m{\u001b[0m\u001b[32m'id'\u001b[0m\u001b[32m: \u001b[0m\u001b[1;32m156\u001b[0m\u001b[32m, \u001b[0m\u001b[32m'value'\u001b[0m\u001b[32m: \u001b[0m\u001b[1;32m10\u001b[0m\u001b[1;32m}\u001b[0m\n"
      ]
     },
     "metadata": {},
     "output_type": "display_data"
    },
    {
     "data": {
      "text/html": [
       "<pre style=\"white-space:pre;overflow-x:auto;line-height:normal;font-family:Menlo,'DejaVu Sans Mono',consolas,'Courier New',monospace\"><span style=\"color: #000080; text-decoration-color: #000080\">Unidade_da_Frequencia_Inicial </span><span style=\"color: #800000; text-decoration-color: #800000\">-&gt; </span><span style=\"color: #008000; text-decoration-color: #008000; font-weight: bold\">{</span><span style=\"color: #008000; text-decoration-color: #008000\">'id'</span><span style=\"color: #008000; text-decoration-color: #008000\">: </span><span style=\"color: #008000; text-decoration-color: #008000; font-weight: bold\">157</span><span style=\"color: #008000; text-decoration-color: #008000\">, </span><span style=\"color: #008000; text-decoration-color: #008000\">'value'</span><span style=\"color: #008000; text-decoration-color: #008000\">: </span><span style=\"color: #008000; text-decoration-color: #008000\">'kHz'</span><span style=\"color: #008000; text-decoration-color: #008000; font-weight: bold\">}</span>\n",
       "</pre>\n"
      ],
      "text/plain": [
       "\u001b[34mUnidade_da_Frequencia_Inicial \u001b[0m\u001b[31m-> \u001b[0m\u001b[1;32m{\u001b[0m\u001b[32m'id'\u001b[0m\u001b[32m: \u001b[0m\u001b[1;32m157\u001b[0m\u001b[32m, \u001b[0m\u001b[32m'value'\u001b[0m\u001b[32m: \u001b[0m\u001b[32m'kHz'\u001b[0m\u001b[1;32m}\u001b[0m\n"
      ]
     },
     "metadata": {},
     "output_type": "display_data"
    },
    {
     "data": {
      "text/html": [
       "<pre style=\"white-space:pre;overflow-x:auto;line-height:normal;font-family:Menlo,'DejaVu Sans Mono',consolas,'Courier New',monospace\"><span style=\"color: #000080; text-decoration-color: #000080\">Frequencia_Final </span><span style=\"color: #800000; text-decoration-color: #800000\">-&gt; </span><span style=\"color: #008000; text-decoration-color: #008000; font-weight: bold\">{</span><span style=\"color: #008000; text-decoration-color: #008000\">'id'</span><span style=\"color: #008000; text-decoration-color: #008000\">: </span><span style=\"color: #008000; text-decoration-color: #008000; font-weight: bold\">158</span><span style=\"color: #008000; text-decoration-color: #008000\">, </span><span style=\"color: #008000; text-decoration-color: #008000\">'value'</span><span style=\"color: #008000; text-decoration-color: #008000\">: </span><span style=\"color: #008000; text-decoration-color: #008000; font-weight: bold\">110</span><span style=\"color: #008000; text-decoration-color: #008000; font-weight: bold\">}</span>\n",
       "</pre>\n"
      ],
      "text/plain": [
       "\u001b[34mFrequencia_Final \u001b[0m\u001b[31m-> \u001b[0m\u001b[1;32m{\u001b[0m\u001b[32m'id'\u001b[0m\u001b[32m: \u001b[0m\u001b[1;32m158\u001b[0m\u001b[32m, \u001b[0m\u001b[32m'value'\u001b[0m\u001b[32m: \u001b[0m\u001b[1;32m110\u001b[0m\u001b[1;32m}\u001b[0m\n"
      ]
     },
     "metadata": {},
     "output_type": "display_data"
    },
    {
     "data": {
      "text/html": [
       "<pre style=\"white-space:pre;overflow-x:auto;line-height:normal;font-family:Menlo,'DejaVu Sans Mono',consolas,'Courier New',monospace\"><span style=\"color: #000080; text-decoration-color: #000080\">Unidade_da_Frequencia_Final </span><span style=\"color: #800000; text-decoration-color: #800000\">-&gt; </span><span style=\"color: #008000; text-decoration-color: #008000; font-weight: bold\">{</span><span style=\"color: #008000; text-decoration-color: #008000\">'id'</span><span style=\"color: #008000; text-decoration-color: #008000\">: </span><span style=\"color: #008000; text-decoration-color: #008000; font-weight: bold\">159</span><span style=\"color: #008000; text-decoration-color: #008000\">, </span><span style=\"color: #008000; text-decoration-color: #008000\">'value'</span><span style=\"color: #008000; text-decoration-color: #008000\">: </span><span style=\"color: #008000; text-decoration-color: #008000\">'MHz'</span><span style=\"color: #008000; text-decoration-color: #008000; font-weight: bold\">}</span>\n",
       "</pre>\n"
      ],
      "text/plain": [
       "\u001b[34mUnidade_da_Frequencia_Final \u001b[0m\u001b[31m-> \u001b[0m\u001b[1;32m{\u001b[0m\u001b[32m'id'\u001b[0m\u001b[32m: \u001b[0m\u001b[1;32m159\u001b[0m\u001b[32m, \u001b[0m\u001b[32m'value'\u001b[0m\u001b[32m: \u001b[0m\u001b[32m'MHz'\u001b[0m\u001b[1;32m}\u001b[0m\n"
      ]
     },
     "metadata": {},
     "output_type": "display_data"
    },
    {
     "data": {
      "text/html": [
       "<pre style=\"white-space:pre;overflow-x:auto;line-height:normal;font-family:Menlo,'DejaVu Sans Mono',consolas,'Courier New',monospace\"><span style=\"color: #000080; text-decoration-color: #000080\">start_date </span><span style=\"color: #800000; text-decoration-color: #800000\">-&gt; </span><span style=\"color: #008000; text-decoration-color: #008000; font-weight: bold\">2022</span><span style=\"color: #008000; text-decoration-color: #008000\">-</span><span style=\"color: #008000; text-decoration-color: #008000; font-weight: bold\">04</span><span style=\"color: #008000; text-decoration-color: #008000\">-</span><span style=\"color: #008000; text-decoration-color: #008000; font-weight: bold\">11</span>\n",
       "</pre>\n"
      ],
      "text/plain": [
       "\u001b[34mstart_date \u001b[0m\u001b[31m-> \u001b[0m\u001b[1;32m2022\u001b[0m\u001b[32m-\u001b[0m\u001b[1;32m04\u001b[0m\u001b[32m-\u001b[0m\u001b[1;32m11\u001b[0m\n"
      ]
     },
     "metadata": {},
     "output_type": "display_data"
    },
    {
     "data": {
      "text/html": [
       "<pre style=\"white-space:pre;overflow-x:auto;line-height:normal;font-family:Menlo,'DejaVu Sans Mono',consolas,'Courier New',monospace\"><span style=\"color: #000080; text-decoration-color: #000080\">due_date </span><span style=\"color: #800000; text-decoration-color: #800000\">-&gt; </span><span style=\"color: #008000; text-decoration-color: #008000; font-weight: bold\">2022</span><span style=\"color: #008000; text-decoration-color: #008000\">-</span><span style=\"color: #008000; text-decoration-color: #008000; font-weight: bold\">05</span><span style=\"color: #008000; text-decoration-color: #008000\">-</span><span style=\"color: #008000; text-decoration-color: #008000; font-weight: bold\">31</span>\n",
       "</pre>\n"
      ],
      "text/plain": [
       "\u001b[34mdue_date \u001b[0m\u001b[31m-> \u001b[0m\u001b[1;32m2022\u001b[0m\u001b[32m-\u001b[0m\u001b[1;32m05\u001b[0m\u001b[32m-\u001b[0m\u001b[1;32m31\u001b[0m\n"
      ]
     },
     "metadata": {},
     "output_type": "display_data"
    },
    {
     "data": {
      "text/html": [
       "<pre style=\"white-space:pre;overflow-x:auto;line-height:normal;font-family:Menlo,'DejaVu Sans Mono',consolas,'Courier New',monospace\"><span style=\"color: #000080; text-decoration-color: #000080\">UF_Municipio </span><span style=\"color: #800000; text-decoration-color: #800000\">-&gt; </span><span style=\"color: #008000; text-decoration-color: #008000; font-weight: bold\">{</span><span style=\"color: #008000; text-decoration-color: #008000\">'id'</span><span style=\"color: #008000; text-decoration-color: #008000\">: </span><span style=\"color: #008000; text-decoration-color: #008000; font-weight: bold\">31</span><span style=\"color: #008000; text-decoration-color: #008000\">, </span><span style=\"color: #008000; text-decoration-color: #008000\">'value'</span><span style=\"color: #008000; text-decoration-color: #008000\">: </span><span style=\"color: #008000; text-decoration-color: #008000; font-weight: bold\">[</span><span style=\"color: #008000; text-decoration-color: #008000\">'{\"valor\":\"BA/Salvador\",\"texto\":\"BA/Salvador\"}'</span><span style=\"color: #008000; text-decoration-color: #008000; font-weight: bold\">]}</span>\n",
       "</pre>\n"
      ],
      "text/plain": [
       "\u001b[34mUF_Municipio \u001b[0m\u001b[31m-> \u001b[0m\u001b[1;32m{\u001b[0m\u001b[32m'id'\u001b[0m\u001b[32m: \u001b[0m\u001b[1;32m31\u001b[0m\u001b[32m, \u001b[0m\u001b[32m'value'\u001b[0m\u001b[32m: \u001b[0m\u001b[1;32m[\u001b[0m\u001b[32m'\u001b[0m\u001b[32m{\u001b[0m\u001b[32m\"valor\":\"BA/Salvador\",\"texto\":\"BA/Salvador\"\u001b[0m\u001b[32m}\u001b[0m\u001b[32m'\u001b[0m\u001b[1;32m]\u001b[0m\u001b[1;32m}\u001b[0m\n"
      ]
     },
     "metadata": {},
     "output_type": "display_data"
    },
    {
     "data": {
      "text/html": [
       "<pre style=\"white-space:pre;overflow-x:auto;line-height:normal;font-family:Menlo,'DejaVu Sans Mono',consolas,'Courier New',monospace\"><span style=\"color: #000080; text-decoration-color: #000080\">Servicos_da_Inspecao </span><span style=\"color: #800000; text-decoration-color: #800000\">-&gt; </span><span style=\"color: #008000; text-decoration-color: #008000; font-weight: bold\">{</span><span style=\"color: #008000; text-decoration-color: #008000\">'id'</span><span style=\"color: #008000; text-decoration-color: #008000\">: </span><span style=\"color: #008000; text-decoration-color: #008000; font-weight: bold\">57</span><span style=\"color: #008000; text-decoration-color: #008000\">, </span><span style=\"color: #008000; text-decoration-color: #008000\">'value'</span><span style=\"color: #008000; text-decoration-color: #008000\">: </span><span style=\"color: #008000; text-decoration-color: #008000; font-weight: bold\">[</span><span style=\"color: #008000; text-decoration-color: #008000\">'{\"valor\":\"019 - RESTRITO - LIMITADO </span>\n",
       "<span style=\"color: #008000; text-decoration-color: #008000\">PRIVADO\",\"texto\":\"019 - RESTRITO - LIMITADO PRIVADO\"}'</span><span style=\"color: #008000; text-decoration-color: #008000\">, </span><span style=\"color: #008000; text-decoration-color: #008000\">'{\"valor\":\"205 - COLETIVO - </span>\n",
       "<span style=\"color: #008000; text-decoration-color: #008000\">RADIODIFUSÃO SONORA EM ONDA MÉDIA\",\"texto\":\"205 - COLETIVO - RADIODIFUSÃO SONORA EM ONDA </span>\n",
       "<span style=\"color: #008000; text-decoration-color: #008000\">MÉDIA\"}'</span><span style=\"color: #008000; text-decoration-color: #008000\">, </span><span style=\"color: #008000; text-decoration-color: #008000\">'{\"valor\":\"230 - COLETIVO - RADIODIFUSÃO SONORA EM FREQÜÊNCIA </span>\n",
       "<span style=\"color: #008000; text-decoration-color: #008000\">MODULADA\",\"texto\":\"230 - COLETIVO - RADIODIFUSÃO SONORA EM FREQÜÊNCIA MODULADA\"}'</span><span style=\"color: #008000; text-decoration-color: #008000\">, </span>\n",
       "<span style=\"color: #008000; text-decoration-color: #008000\">'{\"valor\":\"231 - COLETIVO - RADIODIFUSÃO COMUNITÁRIA\",\"texto\":\"231 - COLETIVO - RADIODIFUSÃO </span>\n",
       "<span style=\"color: #008000; text-decoration-color: #008000\">COMUNITÁRIA\"}'</span><span style=\"color: #008000; text-decoration-color: #008000\">, </span><span style=\"color: #008000; text-decoration-color: #008000\">'{\"valor\":\"507 - RESTRITO - MÓVEL AERONÁUTICO\",\"texto\":\"507 - RESTRITO - </span>\n",
       "<span style=\"color: #008000; text-decoration-color: #008000\">MÓVEL AERONÁUTICO\"}'</span><span style=\"color: #008000; text-decoration-color: #008000; font-weight: bold\">]}</span>\n",
       "</pre>\n"
      ],
      "text/plain": [
       "\u001b[34mServicos_da_Inspecao \u001b[0m\u001b[31m-> \u001b[0m\u001b[1;32m{\u001b[0m\u001b[32m'id'\u001b[0m\u001b[32m: \u001b[0m\u001b[1;32m57\u001b[0m\u001b[32m, \u001b[0m\u001b[32m'value'\u001b[0m\u001b[32m: \u001b[0m\u001b[1;32m[\u001b[0m\u001b[32m'\u001b[0m\u001b[32m{\u001b[0m\u001b[32m\"valor\":\"019 - RESTRITO - LIMITADO \u001b[0m\n",
       "\u001b[32mPRIVADO\",\"texto\":\"019 - RESTRITO - LIMITADO PRIVADO\"\u001b[0m\u001b[32m}\u001b[0m\u001b[32m'\u001b[0m\u001b[32m, \u001b[0m\u001b[32m'\u001b[0m\u001b[32m{\u001b[0m\u001b[32m\"valor\":\"205 - COLETIVO - \u001b[0m\n",
       "\u001b[32mRADIODIFUSÃO SONORA EM ONDA MÉDIA\",\"texto\":\"205 - COLETIVO - RADIODIFUSÃO SONORA EM ONDA \u001b[0m\n",
       "\u001b[32mMÉDIA\"\u001b[0m\u001b[32m}\u001b[0m\u001b[32m'\u001b[0m\u001b[32m, \u001b[0m\u001b[32m'\u001b[0m\u001b[32m{\u001b[0m\u001b[32m\"valor\":\"230 - COLETIVO - RADIODIFUSÃO SONORA EM FREQÜÊNCIA \u001b[0m\n",
       "\u001b[32mMODULADA\",\"texto\":\"230 - COLETIVO - RADIODIFUSÃO SONORA EM FREQÜÊNCIA MODULADA\"\u001b[0m\u001b[32m}\u001b[0m\u001b[32m'\u001b[0m\u001b[32m, \u001b[0m\n",
       "\u001b[32m'\u001b[0m\u001b[32m{\u001b[0m\u001b[32m\"valor\":\"231 - COLETIVO - RADIODIFUSÃO COMUNITÁRIA\",\"texto\":\"231 - COLETIVO - RADIODIFUSÃO \u001b[0m\n",
       "\u001b[32mCOMUNITÁRIA\"\u001b[0m\u001b[32m}\u001b[0m\u001b[32m'\u001b[0m\u001b[32m, \u001b[0m\u001b[32m'\u001b[0m\u001b[32m{\u001b[0m\u001b[32m\"valor\":\"507 - RESTRITO - MÓVEL AERONÁUTICO\",\"texto\":\"507 - RESTRITO - \u001b[0m\n",
       "\u001b[32mMÓVEL AERONÁUTICO\"\u001b[0m\u001b[32m}\u001b[0m\u001b[32m'\u001b[0m\u001b[1;32m]\u001b[0m\u001b[1;32m}\u001b[0m\n"
      ]
     },
     "metadata": {},
     "output_type": "display_data"
    },
    {
     "data": {
      "text/html": [
       "<pre style=\"white-space:pre;overflow-x:auto;line-height:normal;font-family:Menlo,'DejaVu Sans Mono',consolas,'Courier New',monospace\"><span style=\"color: #000080; text-decoration-color: #000080\">Qnt_de_emissoes_na_faixa </span><span style=\"color: #800000; text-decoration-color: #800000\">-&gt; </span><span style=\"color: #008000; text-decoration-color: #008000; font-weight: bold\">{</span><span style=\"color: #008000; text-decoration-color: #008000\">'id'</span><span style=\"color: #008000; text-decoration-color: #008000\">: </span><span style=\"color: #008000; text-decoration-color: #008000; font-weight: bold\">69</span><span style=\"color: #008000; text-decoration-color: #008000\">, </span><span style=\"color: #008000; text-decoration-color: #008000\">'value'</span><span style=\"color: #008000; text-decoration-color: #008000\">: </span><span style=\"color: #008000; text-decoration-color: #008000; font-weight: bold\">70</span><span style=\"color: #008000; text-decoration-color: #008000; font-weight: bold\">}</span>\n",
       "</pre>\n"
      ],
      "text/plain": [
       "\u001b[34mQnt_de_emissoes_na_faixa \u001b[0m\u001b[31m-> \u001b[0m\u001b[1;32m{\u001b[0m\u001b[32m'id'\u001b[0m\u001b[32m: \u001b[0m\u001b[1;32m69\u001b[0m\u001b[32m, \u001b[0m\u001b[32m'value'\u001b[0m\u001b[32m: \u001b[0m\u001b[1;32m70\u001b[0m\u001b[1;32m}\u001b[0m\n"
      ]
     },
     "metadata": {},
     "output_type": "display_data"
    },
    {
     "data": {
      "text/html": [
       "<pre style=\"white-space:pre;overflow-x:auto;line-height:normal;font-family:Menlo,'DejaVu Sans Mono',consolas,'Courier New',monospace\"><span style=\"color: #000080; text-decoration-color: #000080\">Qtd_Licenciadas </span><span style=\"color: #800000; text-decoration-color: #800000\">-&gt; </span><span style=\"color: #008000; text-decoration-color: #008000; font-weight: bold\">{</span><span style=\"color: #008000; text-decoration-color: #008000\">'id'</span><span style=\"color: #008000; text-decoration-color: #008000\">: </span><span style=\"color: #008000; text-decoration-color: #008000; font-weight: bold\">726</span><span style=\"color: #008000; text-decoration-color: #008000\">, </span><span style=\"color: #008000; text-decoration-color: #008000\">'value'</span><span style=\"color: #008000; text-decoration-color: #008000\">: </span><span style=\"color: #008000; text-decoration-color: #008000; font-weight: bold\">1</span><span style=\"color: #008000; text-decoration-color: #008000; font-weight: bold\">}</span>\n",
       "</pre>\n"
      ],
      "text/plain": [
       "\u001b[34mQtd_Licenciadas \u001b[0m\u001b[31m-> \u001b[0m\u001b[1;32m{\u001b[0m\u001b[32m'id'\u001b[0m\u001b[32m: \u001b[0m\u001b[1;32m726\u001b[0m\u001b[32m, \u001b[0m\u001b[32m'value'\u001b[0m\u001b[32m: \u001b[0m\u001b[1;32m1\u001b[0m\u001b[1;32m}\u001b[0m\n"
      ]
     },
     "metadata": {},
     "output_type": "display_data"
    },
    {
     "data": {
      "text/html": [
       "<pre style=\"white-space:pre;overflow-x:auto;line-height:normal;font-family:Menlo,'DejaVu Sans Mono',consolas,'Courier New',monospace\"><span style=\"color: #000080; text-decoration-color: #000080\">Qtd_Identificadas </span><span style=\"color: #800000; text-decoration-color: #800000\">-&gt; </span><span style=\"color: #008000; text-decoration-color: #008000; font-weight: bold\">{</span><span style=\"color: #008000; text-decoration-color: #008000\">'id'</span><span style=\"color: #008000; text-decoration-color: #008000\">: </span><span style=\"color: #008000; text-decoration-color: #008000; font-weight: bold\">727</span><span style=\"color: #008000; text-decoration-color: #008000\">, </span><span style=\"color: #008000; text-decoration-color: #008000\">'value'</span><span style=\"color: #008000; text-decoration-color: #008000\">: </span><span style=\"color: #008000; text-decoration-color: #008000; font-weight: bold\">1</span><span style=\"color: #008000; text-decoration-color: #008000; font-weight: bold\">}</span>\n",
       "</pre>\n"
      ],
      "text/plain": [
       "\u001b[34mQtd_Identificadas \u001b[0m\u001b[31m-> \u001b[0m\u001b[1;32m{\u001b[0m\u001b[32m'id'\u001b[0m\u001b[32m: \u001b[0m\u001b[1;32m727\u001b[0m\u001b[32m, \u001b[0m\u001b[32m'value'\u001b[0m\u001b[32m: \u001b[0m\u001b[1;32m1\u001b[0m\u001b[1;32m}\u001b[0m\n"
      ]
     },
     "metadata": {},
     "output_type": "display_data"
    },
    {
     "data": {
      "text/html": [
       "<pre style=\"white-space:pre;overflow-x:auto;line-height:normal;font-family:Menlo,'DejaVu Sans Mono',consolas,'Courier New',monospace\"><span style=\"color: #000080; text-decoration-color: #000080\">Emissoes_nao_autorizadas </span><span style=\"color: #800000; text-decoration-color: #800000\">-&gt; </span><span style=\"color: #008000; text-decoration-color: #008000; font-weight: bold\">{</span><span style=\"color: #008000; text-decoration-color: #008000\">'id'</span><span style=\"color: #008000; text-decoration-color: #008000\">: </span><span style=\"color: #008000; text-decoration-color: #008000; font-weight: bold\">70</span><span style=\"color: #008000; text-decoration-color: #008000\">, </span><span style=\"color: #008000; text-decoration-color: #008000\">'value'</span><span style=\"color: #008000; text-decoration-color: #008000\">: </span><span style=\"color: #008000; text-decoration-color: #008000; font-weight: bold\">24</span><span style=\"color: #008000; text-decoration-color: #008000; font-weight: bold\">}</span>\n",
       "</pre>\n"
      ],
      "text/plain": [
       "\u001b[34mEmissoes_nao_autorizadas \u001b[0m\u001b[31m-> \u001b[0m\u001b[1;32m{\u001b[0m\u001b[32m'id'\u001b[0m\u001b[32m: \u001b[0m\u001b[1;32m70\u001b[0m\u001b[32m, \u001b[0m\u001b[32m'value'\u001b[0m\u001b[32m: \u001b[0m\u001b[1;32m24\u001b[0m\u001b[1;32m}\u001b[0m\n"
      ]
     },
     "metadata": {},
     "output_type": "display_data"
    },
    {
     "data": {
      "text/html": [
       "<pre style=\"white-space:pre;overflow-x:auto;line-height:normal;font-family:Menlo,'DejaVu Sans Mono',consolas,'Courier New',monospace\"><span style=\"color: #000080; text-decoration-color: #000080\">Horas_de_Preparacao </span><span style=\"color: #800000; text-decoration-color: #800000\">-&gt; </span><span style=\"color: #008000; text-decoration-color: #008000; font-weight: bold\">{</span><span style=\"color: #008000; text-decoration-color: #008000\">'id'</span><span style=\"color: #008000; text-decoration-color: #008000\">: </span><span style=\"color: #008000; text-decoration-color: #008000; font-weight: bold\">91</span><span style=\"color: #008000; text-decoration-color: #008000\">, </span><span style=\"color: #008000; text-decoration-color: #008000\">'value'</span><span style=\"color: #008000; text-decoration-color: #008000\">: </span><span style=\"color: #008000; text-decoration-color: #008000; font-weight: bold\">4</span><span style=\"color: #008000; text-decoration-color: #008000; font-weight: bold\">}</span>\n",
       "</pre>\n"
      ],
      "text/plain": [
       "\u001b[34mHoras_de_Preparacao \u001b[0m\u001b[31m-> \u001b[0m\u001b[1;32m{\u001b[0m\u001b[32m'id'\u001b[0m\u001b[32m: \u001b[0m\u001b[1;32m91\u001b[0m\u001b[32m, \u001b[0m\u001b[32m'value'\u001b[0m\u001b[32m: \u001b[0m\u001b[1;32m4\u001b[0m\u001b[1;32m}\u001b[0m\n"
      ]
     },
     "metadata": {},
     "output_type": "display_data"
    },
    {
     "data": {
      "text/html": [
       "<pre style=\"white-space:pre;overflow-x:auto;line-height:normal;font-family:Menlo,'DejaVu Sans Mono',consolas,'Courier New',monospace\"><span style=\"color: #000080; text-decoration-color: #000080\">Horas_de_Deslocamento </span><span style=\"color: #800000; text-decoration-color: #800000\">-&gt; </span><span style=\"color: #008000; text-decoration-color: #008000; font-weight: bold\">{</span><span style=\"color: #008000; text-decoration-color: #008000\">'id'</span><span style=\"color: #008000; text-decoration-color: #008000\">: </span><span style=\"color: #008000; text-decoration-color: #008000; font-weight: bold\">92</span><span style=\"color: #008000; text-decoration-color: #008000\">, </span><span style=\"color: #008000; text-decoration-color: #008000\">'value'</span><span style=\"color: #008000; text-decoration-color: #008000\">: </span><span style=\"color: #008000; text-decoration-color: #008000; font-weight: bold\">0</span><span style=\"color: #008000; text-decoration-color: #008000; font-weight: bold\">}</span>\n",
       "</pre>\n"
      ],
      "text/plain": [
       "\u001b[34mHoras_de_Deslocamento \u001b[0m\u001b[31m-> \u001b[0m\u001b[1;32m{\u001b[0m\u001b[32m'id'\u001b[0m\u001b[32m: \u001b[0m\u001b[1;32m92\u001b[0m\u001b[32m, \u001b[0m\u001b[32m'value'\u001b[0m\u001b[32m: \u001b[0m\u001b[1;32m0\u001b[0m\u001b[1;32m}\u001b[0m\n"
      ]
     },
     "metadata": {},
     "output_type": "display_data"
    },
    {
     "data": {
      "text/html": [
       "<pre style=\"white-space:pre;overflow-x:auto;line-height:normal;font-family:Menlo,'DejaVu Sans Mono',consolas,'Courier New',monospace\"><span style=\"color: #000080; text-decoration-color: #000080\">Horas_de_Execucao </span><span style=\"color: #800000; text-decoration-color: #800000\">-&gt; </span><span style=\"color: #008000; text-decoration-color: #008000; font-weight: bold\">{</span><span style=\"color: #008000; text-decoration-color: #008000\">'id'</span><span style=\"color: #008000; text-decoration-color: #008000\">: </span><span style=\"color: #008000; text-decoration-color: #008000; font-weight: bold\">93</span><span style=\"color: #008000; text-decoration-color: #008000\">, </span><span style=\"color: #008000; text-decoration-color: #008000\">'value'</span><span style=\"color: #008000; text-decoration-color: #008000\">: </span><span style=\"color: #008000; text-decoration-color: #008000; font-weight: bold\">4</span><span style=\"color: #008000; text-decoration-color: #008000; font-weight: bold\">}</span>\n",
       "</pre>\n"
      ],
      "text/plain": [
       "\u001b[34mHoras_de_Execucao \u001b[0m\u001b[31m-> \u001b[0m\u001b[1;32m{\u001b[0m\u001b[32m'id'\u001b[0m\u001b[32m: \u001b[0m\u001b[1;32m93\u001b[0m\u001b[32m, \u001b[0m\u001b[32m'value'\u001b[0m\u001b[32m: \u001b[0m\u001b[1;32m4\u001b[0m\u001b[1;32m}\u001b[0m\n"
      ]
     },
     "metadata": {},
     "output_type": "display_data"
    },
    {
     "data": {
      "text/html": [
       "<pre style=\"white-space:pre;overflow-x:auto;line-height:normal;font-family:Menlo,'DejaVu Sans Mono',consolas,'Courier New',monospace\"><span style=\"color: #000080; text-decoration-color: #000080\">Horas_de_Conclusao </span><span style=\"color: #800000; text-decoration-color: #800000\">-&gt; </span><span style=\"color: #008000; text-decoration-color: #008000; font-weight: bold\">{</span><span style=\"color: #008000; text-decoration-color: #008000\">'id'</span><span style=\"color: #008000; text-decoration-color: #008000\">: </span><span style=\"color: #008000; text-decoration-color: #008000; font-weight: bold\">94</span><span style=\"color: #008000; text-decoration-color: #008000\">, </span><span style=\"color: #008000; text-decoration-color: #008000\">'value'</span><span style=\"color: #008000; text-decoration-color: #008000\">: </span><span style=\"color: #008000; text-decoration-color: #008000; font-weight: bold\">16</span><span style=\"color: #008000; text-decoration-color: #008000; font-weight: bold\">}</span>\n",
       "</pre>\n"
      ],
      "text/plain": [
       "\u001b[34mHoras_de_Conclusao \u001b[0m\u001b[31m-> \u001b[0m\u001b[1;32m{\u001b[0m\u001b[32m'id'\u001b[0m\u001b[32m: \u001b[0m\u001b[1;32m94\u001b[0m\u001b[32m, \u001b[0m\u001b[32m'value'\u001b[0m\u001b[32m: \u001b[0m\u001b[1;32m16\u001b[0m\u001b[1;32m}\u001b[0m\n"
      ]
     },
     "metadata": {},
     "output_type": "display_data"
    },
    {
     "data": {
      "text/html": [
       "<pre style=\"white-space:pre;overflow-x:auto;line-height:normal;font-family:Menlo,'DejaVu Sans Mono',consolas,'Courier New',monospace\"><span style=\"color: #000080; text-decoration-color: #000080\">Uso_de_PF </span><span style=\"color: #800000; text-decoration-color: #800000\">-&gt; </span><span style=\"color: #008000; text-decoration-color: #008000; font-weight: bold\">{</span><span style=\"color: #008000; text-decoration-color: #008000\">'id'</span><span style=\"color: #008000; text-decoration-color: #008000\">: </span><span style=\"color: #008000; text-decoration-color: #008000; font-weight: bold\">151</span><span style=\"color: #008000; text-decoration-color: #008000\">, </span><span style=\"color: #008000; text-decoration-color: #008000\">'value'</span><span style=\"color: #008000; text-decoration-color: #008000\">: </span><span style=\"color: #008000; text-decoration-color: #008000\">'Não se aplica PF - uso apenas de formulários'</span><span style=\"color: #008000; text-decoration-color: #008000; font-weight: bold\">}</span>\n",
       "</pre>\n"
      ],
      "text/plain": [
       "\u001b[34mUso_de_PF \u001b[0m\u001b[31m-> \u001b[0m\u001b[1;32m{\u001b[0m\u001b[32m'id'\u001b[0m\u001b[32m: \u001b[0m\u001b[1;32m151\u001b[0m\u001b[32m, \u001b[0m\u001b[32m'value'\u001b[0m\u001b[32m: \u001b[0m\u001b[32m'Não se aplica PF - uso apenas de formulários'\u001b[0m\u001b[1;32m}\u001b[0m\n"
      ]
     },
     "metadata": {},
     "output_type": "display_data"
    },
    {
     "data": {
      "text/html": [
       "<pre style=\"white-space:pre;overflow-x:auto;line-height:normal;font-family:Menlo,'DejaVu Sans Mono',consolas,'Courier New',monospace\"><span style=\"color: #000080; text-decoration-color: #000080\">Acao_de_risco_a_vida_criada </span><span style=\"color: #800000; text-decoration-color: #800000\">-&gt; </span><span style=\"color: #008000; text-decoration-color: #008000; font-weight: bold\">{</span><span style=\"color: #008000; text-decoration-color: #008000\">'id'</span><span style=\"color: #008000; text-decoration-color: #008000\">: </span><span style=\"color: #008000; text-decoration-color: #008000; font-weight: bold\">154</span><span style=\"color: #008000; text-decoration-color: #008000\">, </span><span style=\"color: #008000; text-decoration-color: #008000\">'value'</span><span style=\"color: #008000; text-decoration-color: #008000\">: </span><span style=\"color: #008000; text-decoration-color: #008000\">'Não'</span><span style=\"color: #008000; text-decoration-color: #008000; font-weight: bold\">}</span>\n",
       "</pre>\n"
      ],
      "text/plain": [
       "\u001b[34mAcao_de_risco_a_vida_criada \u001b[0m\u001b[31m-> \u001b[0m\u001b[1;32m{\u001b[0m\u001b[32m'id'\u001b[0m\u001b[32m: \u001b[0m\u001b[1;32m154\u001b[0m\u001b[32m, \u001b[0m\u001b[32m'value'\u001b[0m\u001b[32m: \u001b[0m\u001b[32m'Não'\u001b[0m\u001b[1;32m}\u001b[0m\n"
      ]
     },
     "metadata": {},
     "output_type": "display_data"
    },
    {
     "data": {
      "text/html": [
       "<pre style=\"white-space:pre;overflow-x:auto;line-height:normal;font-family:Menlo,'DejaVu Sans Mono',consolas,'Courier New',monospace\"><span style=\"color: #000080; text-decoration-color: #000080\">Impossibilidade_acesso_online </span><span style=\"color: #800000; text-decoration-color: #800000\">-&gt; </span><span style=\"color: #008000; text-decoration-color: #008000; font-weight: bold\">{</span><span style=\"color: #008000; text-decoration-color: #008000\">'id'</span><span style=\"color: #008000; text-decoration-color: #008000\">: </span><span style=\"color: #008000; text-decoration-color: #008000; font-weight: bold\">450</span><span style=\"color: #008000; text-decoration-color: #008000\">, </span><span style=\"color: #008000; text-decoration-color: #008000\">'value'</span><span style=\"color: #008000; text-decoration-color: #008000\">: </span><span style=\"color: #008000; text-decoration-color: #008000\">'0'</span><span style=\"color: #008000; text-decoration-color: #008000; font-weight: bold\">}</span>\n",
       "</pre>\n"
      ],
      "text/plain": [
       "\u001b[34mImpossibilidade_acesso_online \u001b[0m\u001b[31m-> \u001b[0m\u001b[1;32m{\u001b[0m\u001b[32m'id'\u001b[0m\u001b[32m: \u001b[0m\u001b[1;32m450\u001b[0m\u001b[32m, \u001b[0m\u001b[32m'value'\u001b[0m\u001b[32m: \u001b[0m\u001b[32m'0'\u001b[0m\u001b[1;32m}\u001b[0m\n"
      ]
     },
     "metadata": {},
     "output_type": "display_data"
    },
    {
     "data": {
      "text/html": [
       "<pre style=\"white-space:pre;overflow-x:auto;line-height:normal;font-family:Menlo,'DejaVu Sans Mono',consolas,'Courier New',monospace\"><span style=\"color: #000080; text-decoration-color: #000080\">Reservar_Instrumentos </span><span style=\"color: #800000; text-decoration-color: #800000\">-&gt; </span><span style=\"color: #008000; text-decoration-color: #008000; font-weight: bold\">{</span><span style=\"color: #008000; text-decoration-color: #008000\">'id'</span><span style=\"color: #008000; text-decoration-color: #008000\">: </span><span style=\"color: #008000; text-decoration-color: #008000; font-weight: bold\">596</span><span style=\"color: #008000; text-decoration-color: #008000\">, </span><span style=\"color: #008000; text-decoration-color: #008000\">'value'</span><span style=\"color: #008000; text-decoration-color: #008000\">: </span><span style=\"color: #008000; text-decoration-color: #008000\">'0'</span><span style=\"color: #008000; text-decoration-color: #008000; font-weight: bold\">}</span>\n",
       "</pre>\n"
      ],
      "text/plain": [
       "\u001b[34mReservar_Instrumentos \u001b[0m\u001b[31m-> \u001b[0m\u001b[1;32m{\u001b[0m\u001b[32m'id'\u001b[0m\u001b[32m: \u001b[0m\u001b[1;32m596\u001b[0m\u001b[32m, \u001b[0m\u001b[32m'value'\u001b[0m\u001b[32m: \u001b[0m\u001b[32m'0'\u001b[0m\u001b[1;32m}\u001b[0m\n"
      ]
     },
     "metadata": {},
     "output_type": "display_data"
    },
    {
     "data": {
      "text/html": [
       "<pre style=\"white-space:pre;overflow-x:auto;line-height:normal;font-family:Menlo,'DejaVu Sans Mono',consolas,'Courier New',monospace\"><span style=\"color: #000080; text-decoration-color: #000080\">Utilizou_algum_instrumento </span><span style=\"color: #800000; text-decoration-color: #800000\">-&gt; </span><span style=\"color: #008000; text-decoration-color: #008000; font-weight: bold\">{</span><span style=\"color: #008000; text-decoration-color: #008000\">'id'</span><span style=\"color: #008000; text-decoration-color: #008000\">: </span><span style=\"color: #008000; text-decoration-color: #008000; font-weight: bold\">598</span><span style=\"color: #008000; text-decoration-color: #008000\">, </span><span style=\"color: #008000; text-decoration-color: #008000\">'value'</span><span style=\"color: #008000; text-decoration-color: #008000\">: </span><span style=\"color: #008000; text-decoration-color: #008000\">'0'</span><span style=\"color: #008000; text-decoration-color: #008000; font-weight: bold\">}</span>\n",
       "</pre>\n"
      ],
      "text/plain": [
       "\u001b[34mUtilizou_algum_instrumento \u001b[0m\u001b[31m-> \u001b[0m\u001b[1;32m{\u001b[0m\u001b[32m'id'\u001b[0m\u001b[32m: \u001b[0m\u001b[1;32m598\u001b[0m\u001b[32m, \u001b[0m\u001b[32m'value'\u001b[0m\u001b[32m: \u001b[0m\u001b[32m'0'\u001b[0m\u001b[1;32m}\u001b[0m\n"
      ]
     },
     "metadata": {},
     "output_type": "display_data"
    },
    {
     "data": {
      "text/html": [
       "<pre style=\"white-space:pre;overflow-x:auto;line-height:normal;font-family:Menlo,'DejaVu Sans Mono',consolas,'Courier New',monospace\"><span style=\"color: #000080; text-decoration-color: #000080\">notes </span><span style=\"color: #800000; text-decoration-color: #800000\">-&gt; </span><span style=\"color: #008000; text-decoration-color: #008000\">|_.  </span><span style=\"color: #008000; text-decoration-color: #008000; font-weight: bold\">{</span><span style=\"color: #008000; text-decoration-color: #008000\">'Não Licenciados'</span><span style=\"color: #008000; text-decoration-color: #008000\">: </span><span style=\"color: #008000; text-decoration-color: #008000; font-weight: bold\">2</span><span style=\"color: #008000; text-decoration-color: #008000\">   |_. </span><span style=\"color: #008000; text-decoration-color: #008000\">'Não Licenciáveis'</span><span style=\"color: #008000; text-decoration-color: #008000\">: </span><span style=\"color: #008000; text-decoration-color: #008000; font-weight: bold\">2</span><span style=\"color: #008000; text-decoration-color: #008000\">   |_. </span><span style=\"color: #008000; text-decoration-color: #008000\">'Não Definido'</span><span style=\"color: #008000; text-decoration-color: #008000\">: </span><span style=\"color: #008000; text-decoration-color: #008000; font-weight: bold\">2</span><span style=\"color: #008000; text-decoration-color: #008000\">   |_.</span>\n",
       "<span style=\"color: #008000; text-decoration-color: #008000\">'Serviço'</span><span style=\"color: #008000; text-decoration-color: #008000\">: </span><span style=\"color: #008000; text-decoration-color: #008000; font-weight: bold\">2</span><span style=\"color: #008000; text-decoration-color: #008000\">   |_. </span><span style=\"color: #008000; text-decoration-color: #008000\">'Classe Especial'</span><span style=\"color: #008000; text-decoration-color: #008000\">: </span><span style=\"color: #008000; text-decoration-color: #008000; font-weight: bold\">2</span><span style=\"color: #008000; text-decoration-color: #008000\">   |_. </span><span style=\"color: #008000; text-decoration-color: #008000\">'Classe A'</span><span style=\"color: #008000; text-decoration-color: #008000\">: </span><span style=\"color: #008000; text-decoration-color: #008000; font-weight: bold\">2</span><span style=\"color: #008000; text-decoration-color: #008000\">   |_. </span><span style=\"color: #008000; text-decoration-color: #008000\">'Classe B'</span><span style=\"color: #008000; text-decoration-color: #008000\">: </span><span style=\"color: #008000; text-decoration-color: #008000; font-weight: bold\">2</span><span style=\"color: #008000; text-decoration-color: #008000\">   |_. </span><span style=\"color: #008000; text-decoration-color: #008000\">'Classe</span>\n",
       "<span style=\"color: #008000; text-decoration-color: #008000\">C'</span><span style=\"color: #008000; text-decoration-color: #008000\">: </span><span style=\"color: #008000; text-decoration-color: #008000; font-weight: bold\">2</span><span style=\"color: #008000; text-decoration-color: #008000\">   |_. </span><span style=\"color: #008000; text-decoration-color: #008000\">'N1: Licenciada'</span><span style=\"color: #008000; text-decoration-color: #008000\">: </span><span style=\"color: #008000; text-decoration-color: #008000; font-weight: bold\">2</span><span style=\"color: #008000; text-decoration-color: #008000\">   |_. </span><span style=\"color: #008000; text-decoration-color: #008000\">'N1: Não licenciada'</span><span style=\"color: #008000; text-decoration-color: #008000\">: </span><span style=\"color: #008000; text-decoration-color: #008000; font-weight: bold\">2</span><span style=\"color: #008000; text-decoration-color: #008000\">   |_. </span><span style=\"color: #008000; text-decoration-color: #008000\">'N1: Não licenciável'</span><span style=\"color: #008000; text-decoration-color: #008000\">: </span><span style=\"color: #008000; text-decoration-color: #008000; font-weight: bold\">2</span><span style=\"color: #008000; text-decoration-color: #008000\"> </span>\n",
       "<span style=\"color: #008000; text-decoration-color: #008000\">|_. </span><span style=\"color: #008000; text-decoration-color: #008000\">'N2: Fundamental'</span><span style=\"color: #008000; text-decoration-color: #008000\">: </span><span style=\"color: #008000; text-decoration-color: #008000; font-weight: bold\">2</span><span style=\"color: #008000; text-decoration-color: #008000\">   |_. </span><span style=\"color: #008000; text-decoration-color: #008000\">'N2: Harmônico da fundamental'</span><span style=\"color: #008000; text-decoration-color: #008000\">: </span><span style=\"color: #008000; text-decoration-color: #008000; font-weight: bold\">2</span><span style=\"color: #008000; text-decoration-color: #008000\">   |_. </span><span style=\"color: #008000; text-decoration-color: #008000\">'N2: Produto de </span>\n",
       "<span style=\"color: #008000; text-decoration-color: #008000\">intermodulação'</span><span style=\"color: #008000; text-decoration-color: #008000\">: </span><span style=\"color: #008000; text-decoration-color: #008000; font-weight: bold\">2</span><span style=\"color: #008000; text-decoration-color: #008000\">   |_. </span><span style=\"color: #008000; text-decoration-color: #008000\">'N2: Espúria'</span><span style=\"color: #008000; text-decoration-color: #008000\">: </span><span style=\"color: #008000; text-decoration-color: #008000; font-weight: bold\">2</span><span style=\"color: #008000; text-decoration-color: #008000\">   |_. </span><span style=\"color: #008000; text-decoration-color: #008000\">'N2: Não identificada'</span><span style=\"color: #008000; text-decoration-color: #008000\">: </span><span style=\"color: #008000; text-decoration-color: #008000; font-weight: bold\">2</span><span style=\"color: #008000; text-decoration-color: #008000\">   |_. </span><span style=\"color: #008000; text-decoration-color: #008000\">'N2: Não </span>\n",
       "<span style=\"color: #008000; text-decoration-color: #008000\">manifestada'</span><span style=\"color: #008000; text-decoration-color: #008000\">: </span><span style=\"color: #008000; text-decoration-color: #008000; font-weight: bold\">2</span><span style=\"color: #008000; text-decoration-color: #008000\">   |_. </span><span style=\"color: #008000; text-decoration-color: #008000\">'N2: Pendente de identificação'</span><span style=\"color: #008000; text-decoration-color: #008000\">: </span><span style=\"color: #008000; text-decoration-color: #008000; font-weight: bold\">2</span><span style=\"color: #008000; text-decoration-color: #008000\">   |_. </span><span style=\"color: #008000; text-decoration-color: #008000\">'N3: Licenciada com indício de</span>\n",
       "<span style=\"color: #008000; text-decoration-color: #008000\">irregularidade'</span><span style=\"color: #008000; text-decoration-color: #008000\">: </span><span style=\"color: #008000; text-decoration-color: #008000; font-weight: bold\">2</span><span style=\"color: #008000; text-decoration-color: #008000\">   |_. </span><span style=\"color: #008000; text-decoration-color: #008000\">'N3: Não licenciada com indício de irregularidade'</span><span style=\"color: #008000; text-decoration-color: #008000\">: </span><span style=\"color: #008000; text-decoration-color: #008000; font-weight: bold\">2</span><span style=\"color: #008000; text-decoration-color: #008000\">   |_. </span><span style=\"color: #008000; text-decoration-color: #008000\">'N3: Não</span>\n",
       "<span style=\"color: #008000; text-decoration-color: #008000\">licenciável com indício de irregularidade'</span><span style=\"color: #008000; text-decoration-color: #008000\">: </span><span style=\"color: #008000; text-decoration-color: #008000; font-weight: bold\">2</span><span style=\"color: #008000; text-decoration-color: #008000\">   |_. </span><span style=\"color: #008000; text-decoration-color: #008000\">'N4: Baixo'</span><span style=\"color: #008000; text-decoration-color: #008000\">: </span><span style=\"color: #008000; text-decoration-color: #008000; font-weight: bold\">2</span><span style=\"color: #008000; text-decoration-color: #008000\">   |_. </span><span style=\"color: #008000; text-decoration-color: #008000\">'N4: Médio'</span><span style=\"color: #008000; text-decoration-color: #008000\">: </span><span style=\"color: #008000; text-decoration-color: #008000; font-weight: bold\">2</span><span style=\"color: #008000; text-decoration-color: #008000\">   |_.</span>\n",
       "<span style=\"color: #008000; text-decoration-color: #008000\">'N4: Alto'</span><span style=\"color: #008000; text-decoration-color: #008000\">: </span><span style=\"color: #008000; text-decoration-color: #008000; font-weight: bold\">2</span><span style=\"color: #008000; text-decoration-color: #008000\">   |_. </span><span style=\"color: #008000; text-decoration-color: #008000\">'N5: Radcom'</span><span style=\"color: #008000; text-decoration-color: #008000\">: </span><span style=\"color: #008000; text-decoration-color: #008000; font-weight: bold\">2</span><span style=\"color: #008000; text-decoration-color: #008000\">   |_. </span><span style=\"color: #008000; text-decoration-color: #008000\">'N5: Classe C'</span><span style=\"color: #008000; text-decoration-color: #008000\">: </span><span style=\"color: #008000; text-decoration-color: #008000; font-weight: bold\">2</span><span style=\"color: #008000; text-decoration-color: #008000\">   |_. </span><span style=\"color: #008000; text-decoration-color: #008000\">'N5: Classe B'</span><span style=\"color: #008000; text-decoration-color: #008000\">: </span><span style=\"color: #008000; text-decoration-color: #008000; font-weight: bold\">2</span><span style=\"color: #008000; text-decoration-color: #008000\">   |_. </span>\n",
       "<span style=\"color: #008000; text-decoration-color: #008000\">'N5: Classe A'</span><span style=\"color: #008000; text-decoration-color: #008000\">: </span><span style=\"color: #008000; text-decoration-color: #008000; font-weight: bold\">2</span><span style=\"color: #008000; text-decoration-color: #008000\">   |_. </span><span style=\"color: #008000; text-decoration-color: #008000\">'N5: Classe E'</span><span style=\"color: #008000; text-decoration-color: #008000\">: </span><span style=\"color: #008000; text-decoration-color: #008000; font-weight: bold\">2</span><span style=\"color: #008000; text-decoration-color: #008000; font-weight: bold\">}</span><span style=\"color: #008000; text-decoration-color: #008000\">   |</span>\n",
       "</pre>\n"
      ],
      "text/plain": [
       "\u001b[34mnotes \u001b[0m\u001b[31m-> \u001b[0m\u001b[32m|_.  \u001b[0m\u001b[1;32m{\u001b[0m\u001b[32m'Não Licenciados'\u001b[0m\u001b[32m: \u001b[0m\u001b[1;32m2\u001b[0m\u001b[32m   |_. \u001b[0m\u001b[32m'Não Licenciáveis'\u001b[0m\u001b[32m: \u001b[0m\u001b[1;32m2\u001b[0m\u001b[32m   |_. \u001b[0m\u001b[32m'Não Definido'\u001b[0m\u001b[32m: \u001b[0m\u001b[1;32m2\u001b[0m\u001b[32m   |_.\u001b[0m\n",
       "\u001b[32m'Serviço'\u001b[0m\u001b[32m: \u001b[0m\u001b[1;32m2\u001b[0m\u001b[32m   |_. \u001b[0m\u001b[32m'Classe Especial'\u001b[0m\u001b[32m: \u001b[0m\u001b[1;32m2\u001b[0m\u001b[32m   |_. \u001b[0m\u001b[32m'Classe A'\u001b[0m\u001b[32m: \u001b[0m\u001b[1;32m2\u001b[0m\u001b[32m   |_. \u001b[0m\u001b[32m'Classe B'\u001b[0m\u001b[32m: \u001b[0m\u001b[1;32m2\u001b[0m\u001b[32m   |_. \u001b[0m\u001b[32m'Classe\u001b[0m\n",
       "\u001b[32mC'\u001b[0m\u001b[32m: \u001b[0m\u001b[1;32m2\u001b[0m\u001b[32m   |_. \u001b[0m\u001b[32m'N1: Licenciada'\u001b[0m\u001b[32m: \u001b[0m\u001b[1;32m2\u001b[0m\u001b[32m   |_. \u001b[0m\u001b[32m'N1: Não licenciada'\u001b[0m\u001b[32m: \u001b[0m\u001b[1;32m2\u001b[0m\u001b[32m   |_. \u001b[0m\u001b[32m'N1: Não licenciável'\u001b[0m\u001b[32m: \u001b[0m\u001b[1;32m2\u001b[0m\u001b[32m \u001b[0m\n",
       "\u001b[32m|_. \u001b[0m\u001b[32m'N2: Fundamental'\u001b[0m\u001b[32m: \u001b[0m\u001b[1;32m2\u001b[0m\u001b[32m   |_. \u001b[0m\u001b[32m'N2: Harmônico da fundamental'\u001b[0m\u001b[32m: \u001b[0m\u001b[1;32m2\u001b[0m\u001b[32m   |_. \u001b[0m\u001b[32m'N2: Produto de \u001b[0m\n",
       "\u001b[32mintermodulação'\u001b[0m\u001b[32m: \u001b[0m\u001b[1;32m2\u001b[0m\u001b[32m   |_. \u001b[0m\u001b[32m'N2: Espúria'\u001b[0m\u001b[32m: \u001b[0m\u001b[1;32m2\u001b[0m\u001b[32m   |_. \u001b[0m\u001b[32m'N2: Não identificada'\u001b[0m\u001b[32m: \u001b[0m\u001b[1;32m2\u001b[0m\u001b[32m   |_. \u001b[0m\u001b[32m'N2: Não \u001b[0m\n",
       "\u001b[32mmanifestada'\u001b[0m\u001b[32m: \u001b[0m\u001b[1;32m2\u001b[0m\u001b[32m   |_. \u001b[0m\u001b[32m'N2: Pendente de identificação'\u001b[0m\u001b[32m: \u001b[0m\u001b[1;32m2\u001b[0m\u001b[32m   |_. \u001b[0m\u001b[32m'N3: Licenciada com indício de\u001b[0m\n",
       "\u001b[32mirregularidade'\u001b[0m\u001b[32m: \u001b[0m\u001b[1;32m2\u001b[0m\u001b[32m   |_. \u001b[0m\u001b[32m'N3: Não licenciada com indício de irregularidade'\u001b[0m\u001b[32m: \u001b[0m\u001b[1;32m2\u001b[0m\u001b[32m   |_. \u001b[0m\u001b[32m'N3: Não\u001b[0m\n",
       "\u001b[32mlicenciável com indício de irregularidade'\u001b[0m\u001b[32m: \u001b[0m\u001b[1;32m2\u001b[0m\u001b[32m   |_. \u001b[0m\u001b[32m'N4: Baixo'\u001b[0m\u001b[32m: \u001b[0m\u001b[1;32m2\u001b[0m\u001b[32m   |_. \u001b[0m\u001b[32m'N4: Médio'\u001b[0m\u001b[32m: \u001b[0m\u001b[1;32m2\u001b[0m\u001b[32m   |_.\u001b[0m\n",
       "\u001b[32m'N4: Alto'\u001b[0m\u001b[32m: \u001b[0m\u001b[1;32m2\u001b[0m\u001b[32m   |_. \u001b[0m\u001b[32m'N5: Radcom'\u001b[0m\u001b[32m: \u001b[0m\u001b[1;32m2\u001b[0m\u001b[32m   |_. \u001b[0m\u001b[32m'N5: Classe C'\u001b[0m\u001b[32m: \u001b[0m\u001b[1;32m2\u001b[0m\u001b[32m   |_. \u001b[0m\u001b[32m'N5: Classe B'\u001b[0m\u001b[32m: \u001b[0m\u001b[1;32m2\u001b[0m\u001b[32m   |_. \u001b[0m\n",
       "\u001b[32m'N5: Classe A'\u001b[0m\u001b[32m: \u001b[0m\u001b[1;32m2\u001b[0m\u001b[32m   |_. \u001b[0m\u001b[32m'N5: Classe E'\u001b[0m\u001b[32m: \u001b[0m\u001b[1;32m2\u001b[0m\u001b[1;32m}\u001b[0m\u001b[32m   |\u001b[0m\n"
      ]
     },
     "metadata": {},
     "output_type": "display_data"
    },
    {
     "data": {
      "text/html": [
       "<pre style=\"white-space:pre;overflow-x:auto;line-height:normal;font-family:Menlo,'DejaVu Sans Mono',consolas,'Courier New',monospace\"><span style=\"color: #000080; text-decoration-color: #000080\">uploads </span><span style=\"color: #800000; text-decoration-color: #800000\">-&gt; </span><span style=\"color: #008000; text-decoration-color: #008000; font-weight: bold\">[{</span><span style=\"color: #008000; text-decoration-color: #008000\">'path'</span><span style=\"color: #008000; text-decoration-color: #008000\">: </span><span style=\"color: #008000; text-decoration-color: #008000\">'C:\\\\Users\\\\rsilva\\\\Downloads\\\\temp\\\\84128_2087_Info.json'</span><span style=\"color: #008000; text-decoration-color: #008000\">, </span><span style=\"color: #008000; text-decoration-color: #008000\">'filename'</span><span style=\"color: #008000; text-decoration-color: #008000\">: </span>\n",
       "<span style=\"color: #008000; text-decoration-color: #008000\">'Lista_de_Exceção_PMEC_Etapa_2_Sorocaba'</span><span style=\"color: #008000; text-decoration-color: #008000; font-weight: bold\">}]</span>\n",
       "</pre>\n"
      ],
      "text/plain": [
       "\u001b[34muploads \u001b[0m\u001b[31m-> \u001b[0m\u001b[1;32m[\u001b[0m\u001b[1;32m{\u001b[0m\u001b[32m'path'\u001b[0m\u001b[32m: \u001b[0m\u001b[32m'C:\\\\Users\\\\rsilva\\\\Downloads\\\\temp\\\\84128_2087_Info.json'\u001b[0m\u001b[32m, \u001b[0m\u001b[32m'filename'\u001b[0m\u001b[32m: \u001b[0m\n",
       "\u001b[32m'Lista_de_Exceção_PMEC_Etapa_2_Sorocaba'\u001b[0m\u001b[1;32m}\u001b[0m\u001b[1;32m]\u001b[0m\n"
      ]
     },
     "metadata": {},
     "output_type": "display_data"
    },
    {
     "data": {
      "text/html": [
       "<pre style=\"white-space:pre;overflow-x:auto;line-height:normal;font-family:Menlo,'DejaVu Sans Mono',consolas,'Courier New',monospace\"><span style=\"color: #000080; text-decoration-color: #000080\">Coordenadas_Geograficas </span><span style=\"color: #800000; text-decoration-color: #800000\">-&gt; </span><span style=\"color: #008000; text-decoration-color: #008000; font-weight: bold\">{</span><span style=\"color: #008000; text-decoration-color: #008000\">'id'</span><span style=\"color: #008000; text-decoration-color: #008000\">: </span><span style=\"color: #008000; text-decoration-color: #008000; font-weight: bold\">717</span><span style=\"color: #008000; text-decoration-color: #008000\">, </span><span style=\"color: #008000; text-decoration-color: #008000\">'value'</span><span style=\"color: #008000; text-decoration-color: #008000\">: </span><span style=\"color: #008000; text-decoration-color: #008000\">'{\"latitude\"=&gt;\"-23.635884\", </span>\n",
       "<span style=\"color: #008000; text-decoration-color: #008000\">\"longitude\"=&gt;\"-46.654251\"}'</span><span style=\"color: #008000; text-decoration-color: #008000; font-weight: bold\">}</span>\n",
       "</pre>\n"
      ],
      "text/plain": [
       "\u001b[34mCoordenadas_Geograficas \u001b[0m\u001b[31m-> \u001b[0m\u001b[1;32m{\u001b[0m\u001b[32m'id'\u001b[0m\u001b[32m: \u001b[0m\u001b[1;32m717\u001b[0m\u001b[32m, \u001b[0m\u001b[32m'value'\u001b[0m\u001b[32m: \u001b[0m\u001b[32m'\u001b[0m\u001b[32m{\u001b[0m\u001b[32m\"latitude\"=>\"-23.635884\", \u001b[0m\n",
       "\u001b[32m\"longitude\"=>\"-46.654251\"\u001b[0m\u001b[32m}\u001b[0m\u001b[32m'\u001b[0m\u001b[1;32m}\u001b[0m\n"
      ]
     },
     "metadata": {},
     "output_type": "display_data"
    }
   ],
   "source": [
    "dados = validar_dados(d, issue, login, senha, teste=TESTE)\n",
    "\n",
    "for k,v in dados.items():\n",
    "    if k == \"Html\":\n",
    "        v = str(v)\n",
    "        v = v[:100] + '\\n...\\n' + v[-100:]\n",
    "    console.print(f'[blue]{k} [red]-> [green]{v}')"
   ]
  },
  {
   "cell_type": "code",
   "execution_count": null,
   "metadata": {},
   "outputs": [
    {
     "data": {
      "text/html": [
       "<pre style=\"white-space:pre;overflow-x:auto;line-height:normal;font-family:Menlo,'DejaVu Sans Mono',consolas,'Courier New',monospace\"><span style=\"color: #008000; text-decoration-color: #008000; font-weight: bold\">Usuário Autenticado com Sucesso 👍</span>\n",
       "</pre>\n"
      ],
      "text/plain": [
       "\u001b[1;32mUsuário Autenticado com Sucesso 👍\u001b[0m\n"
      ]
     },
     "metadata": {},
     "output_type": "display_data"
    },
    {
     "data": {
      "text/html": [
       "<pre style=\"white-space:pre;overflow-x:auto;line-height:normal;font-family:Menlo,'DejaVu Sans Mono',consolas,'Courier New',monospace\">Inspeção <span style=\"color: #008080; text-decoration-color: #008080; font-weight: bold\">84258</span> vinculada à Ação <span style=\"color: #008080; text-decoration-color: #008080; font-weight: bold\">79055</span>\n",
       "</pre>\n"
      ],
      "text/plain": [
       "Inspeção \u001b[1;36m84258\u001b[0m vinculada à Ação \u001b[1;36m79055\u001b[0m\n"
      ]
     },
     "metadata": {},
     "output_type": "display_data"
    },
    {
     "data": {
      "application/vnd.jupyter.widget-view+json": {
       "model_id": "fdd1a982377e4824a8077afad70841f9",
       "version_major": 2,
       "version_minor": 0
      },
      "text/plain": [
       "Output()"
      ]
     },
     "metadata": {},
     "output_type": "display_data"
    },
    {
     "data": {
      "text/html": [
       "<pre style=\"white-space:pre;overflow-x:auto;line-height:normal;font-family:Menlo,'DejaVu Sans Mono',consolas,'Courier New',monospace\"></pre>\n"
      ],
      "text/plain": []
     },
     "metadata": {},
     "output_type": "display_data"
    },
    {
     "data": {
      "text/html": [
       "<pre style=\"white-space:pre;overflow-x:auto;line-height:normal;font-family:Menlo,'DejaVu Sans Mono',consolas,'Courier New',monospace\">✅ <span style=\"color: #008080; text-decoration-color: #008080\">Estado Atual: </span><span style=\"color: #008000; text-decoration-color: #008000; font-weight: bold\">Relatando</span>\n",
       "</pre>\n"
      ],
      "text/plain": [
       "✅ \u001b[36mEstado Atual: \u001b[0m\u001b[1;32mRelatando\u001b[0m\n"
      ]
     },
     "metadata": {},
     "output_type": "display_data"
    },
    {
     "data": {
      "text/html": [
       "<pre style=\"white-space:pre;overflow-x:auto;line-height:normal;font-family:Menlo,'DejaVu Sans Mono',consolas,'Courier New',monospace\">👩‍💻 <span style=\"color: #008080; text-decoration-color: #008080\"> A inspeção será atualizada até a situação </span><span style=\"color: #008000; text-decoration-color: #008000; font-weight: bold\">Relatando</span>\n",
       "</pre>\n"
      ],
      "text/plain": [
       "👩‍💻 \u001b[36m A inspeção será atualizada até a situação \u001b[0m\u001b[1;32mRelatando\u001b[0m\n"
      ]
     },
     "metadata": {},
     "output_type": "display_data"
    },
    {
     "data": {
      "text/html": [
       "<pre style=\"white-space:pre;overflow-x:auto;line-height:normal;font-family:Menlo,'DejaVu Sans Mono',consolas,'Courier New',monospace\"><span style=\"color: #800000; text-decoration-color: #800000; font-weight: bold\"> ⚠ Já existe um Relatório de Monitoramento e não foi solicitado substituição ⚠</span>\n",
       "</pre>\n"
      ],
      "text/plain": [
       "\u001b[1;31m ⚠ Já existe um Relatório de Monitoramento e não foi solicitado substituição ⚠\u001b[0m\n"
      ]
     },
     "metadata": {},
     "output_type": "display_data"
    },
    {
     "data": {
      "application/vnd.jupyter.widget-view+json": {
       "model_id": "54d1131e106c4fc9ae5ab496c140a4bf",
       "version_major": 2,
       "version_minor": 0
      },
      "text/plain": [
       "Output()"
      ]
     },
     "metadata": {},
     "output_type": "display_data"
    },
    {
     "data": {
      "text/html": [
       "<pre style=\"white-space:pre;overflow-x:auto;line-height:normal;font-family:Menlo,'DejaVu Sans Mono',consolas,'Courier New',monospace\"></pre>\n"
      ],
      "text/plain": []
     },
     "metadata": {},
     "output_type": "display_data"
    },
    {
     "data": {
      "text/html": [
       "<pre style=\"white-space:pre;overflow-x:auto;line-height:normal;font-family:Menlo,'DejaVu Sans Mono',consolas,'Courier New',monospace\">✨ <span style=\"color: #008080; text-decoration-color: #008080\">Inspeção </span><span style=\"color: #008080; text-decoration-color: #008080; font-weight: bold\">84258</span><span style=\"color: #008080; text-decoration-color: #008080\"> atualizada para </span><span style=\"color: #008000; text-decoration-color: #008000; font-weight: bold\">Relatando</span>\n",
       "</pre>\n"
      ],
      "text/plain": [
       "✨ \u001b[36mInspeção \u001b[0m\u001b[1;36m84258\u001b[0m\u001b[36m atualizada para \u001b[0m\u001b[1;32mRelatando\u001b[0m\n"
      ]
     },
     "metadata": {},
     "output_type": "display_data"
    },
    {
     "data": {
      "text/html": [
       "<pre style=\"white-space:pre;overflow-x:auto;line-height:normal;font-family:Menlo,'DejaVu Sans Mono',consolas,'Courier New',monospace\">⚡ <span style=\"color: #008000; text-decoration-color: #008000\"> Relato efetuado</span>\n",
       "</pre>\n"
      ],
      "text/plain": [
       "⚡ \u001b[32m Relato efetuado\u001b[0m\n"
      ]
     },
     "metadata": {},
     "output_type": "display_data"
    },
    {
     "data": {
      "text/plain": [
       "{'Anexos': {'Lista_de_Exceção_PMEC_Etapa_2_Sorocaba': 'http://sistemashm.anatel.gov.br/fiscaliza/attachments/download/2117/Lista_de_Exce%C3%A7%C3%A3o_PMEC_Etapa_2_Sorocaba'},\n",
       " 'id': '84258',\n",
       " 'subject': 'INSP_GR08_2022_0094',\n",
       " 'status': 'Relatando',\n",
       " 'priority': 'Normal',\n",
       " 'start_date': '2022-04-11',\n",
       " 'due_date': '2022-05-31',\n",
       " 'description': 'Realizar análise espectral de faixas das frequência relacionadas ao Plano de Monitoração do Espectro destinado a aplicações Críticas (PMEC), aferindo a sua ocupação, nas localidades que compõem a Etapa 1 da fiscalização.',\n",
       " 'Data_de_inicio_efetivo': datetime.date(2022, 5, 2),\n",
       " 'Classe_da_Inspecao': 'Técnica',\n",
       " 'Tipo_de_Inspecao': 'Uso do Espectro - Monitoração',\n",
       " 'Ano': '2022',\n",
       " 'Coordenacao': 'FI2',\n",
       " 'Numero_Sei_do_Processo': '{\"numero\"=>\"53500.000209/2022-12\", \"link_acesso\"=>\"https://seihm.anatel.gov.br/sei/controlador.php?acao=procedimento_trabalhar&id_procedimento=1968548\"}',\n",
       " 'Fiscal_Responsavel': 'Eric Magalhaes Delgado',\n",
       " 'Fiscais': ['Alessandro Vasconcelos Fernandes', 'Eric Magalhaes Delgado'],\n",
       " 'Entidade_da_Inspecao': [],\n",
       " 'UF_Municipio': ['BA/Salvador'],\n",
       " 'Servicos_da_Inspecao': ['019 - RESTRITO - LIMITADO PRIVADO',\n",
       "  '205 - COLETIVO - RADIODIFUSÃO SONORA EM ONDA MÉDIA',\n",
       "  '230 - COLETIVO - RADIODIFUSÃO SONORA EM FREQÜÊNCIA MODULADA',\n",
       "  '231 - COLETIVO - RADIODIFUSÃO COMUNITÁRIA',\n",
       "  '507 - RESTRITO - MÓVEL AERONÁUTICO'],\n",
       " 'Qnt_de_emissoes_na_faixa': '70',\n",
       " 'Qtd_Licenciadas': '1',\n",
       " 'Qtd_Identificadas': '1',\n",
       " 'Horas_de_Preparacao': '4',\n",
       " 'Horas_de_Deslocamento': '0',\n",
       " 'Horas_de_Execucao': '4',\n",
       " 'Horas_de_Conclusao': '16',\n",
       " 'SAV': '',\n",
       " 'PCDP': '',\n",
       " 'Procedimentos': [],\n",
       " 'Uso_de_PF': 'Não se aplica PF - uso apenas de formulários',\n",
       " 'Acao_de_risco_a_vida_criada': 'Não',\n",
       " 'Frequencia_Inicial': '10',\n",
       " 'Unidade_da_Frequencia_Inicial': 'kHz',\n",
       " 'Frequencia_Final': '110',\n",
       " 'Unidade_da_Frequencia_Final': 'MHz',\n",
       " 'Agrupamento': '',\n",
       " 'AppFiscaliza': '0',\n",
       " 'Gerar_Relatorio': '1',\n",
       " 'Relatorio_de_Monitoramento': '{\"numero\"=>\"0195312\", \"link_acesso\"=>\"https://seihm.anatel.gov.br/sei/controlador.php?acao=procedimento_trabalhar&id_procedimento=1968548&id_documento=1969362\"}',\n",
       " 'Reservar_Instrumentos': '0',\n",
       " 'Utilizou_algum_instrumento': '0',\n",
       " 'Coordenadas_Geograficas': '{\"latitude\"=>\"-23.635884\", \"longitude\"=>\"-46.654251\"}',\n",
       " 'Coordenadas_Estacao': '',\n",
       " 'id_ACAO': 79055,\n",
       " 'nome_ACAO': 'ACAO_GR08_2022_0003',\n",
       " 'descricao_ACAO': '',\n",
       " 'Users': ['Alessandro Vasconcelos Fernandes',\n",
       "  'Alexnaldo Cerqueira da Silva',\n",
       "  'Anecy Oliveira de Freitas',\n",
       "  'Arildo Oliva Franca Filho',\n",
       "  'Brasílio Rios Leite',\n",
       "  'Carlos Fernando Muniz Santos',\n",
       "  'Carolina Valenca',\n",
       "  'David Santana e Silva Barreto',\n",
       "  'Eric Magalhaes Delgado',\n",
       "  'Fiscal UD',\n",
       "  'Gilmar Ferreira do Nascimento',\n",
       "  'Ilva Perla Monteiro Ferreira',\n",
       "  'Isabel Cristina Soares e Souza',\n",
       "  'Iulo de Araujo Lima Lobo',\n",
       "  'Jorgean Ferreira Leal',\n",
       "  'Jose Ivan Gomes',\n",
       "  'Jose Mauricio Leite Araujo',\n",
       "  'Leonardo Lago Araujo',\n",
       "  'Lin Yu Wan',\n",
       "  'Luis Fernando Camelier de Queiroz',\n",
       "  'Michel Kulhavy Cerqueira',\n",
       "  'Tiago Mota',\n",
       "  'Wilton Machado de Oliveira'],\n",
       " 'Atualizado': 'Atualizado por Eric Magalhaes Delgado em 02/05/2022 às 17:08:39'}"
      ]
     },
     "execution_count": null,
     "metadata": {},
     "output_type": "execute_result"
    }
   ],
   "source": [
    "relatar_inspecao(issue, login, senha, dados=d, teste=TESTE, parar_em=parar_em, substituir_relatorio=False)"
   ]
  },
  {
   "cell_type": "code",
   "execution_count": null,
   "metadata": {},
   "outputs": [],
   "source": [
    "download(issue, login, senha, teste=TESTE, attach=True)"
   ]
  },
  {
   "cell_type": "markdown",
   "metadata": {},
   "source": [
    "Os mesmos passos acima podem ser efetuados no **Fiscaliza** de produção, bastando passar o argumento `teste=False` nas funções acima"
   ]
  },
  {
   "cell_type": "code",
   "execution_count": null,
   "metadata": {},
   "outputs": [],
   "source": [
    "# inspecao = '51849'\n",
    "# detalhes = detalhar_issue(inspecao, login, senha, teste=False)\n",
    "# console.print(detalhes)"
   ]
  }
 ],
 "metadata": {
  "kernelspec": {
   "display_name": "Python [conda env:fiscaliza]",
   "language": "python",
   "name": "python3"
  }
 },
 "nbformat": 4,
 "nbformat_minor": 4
}
