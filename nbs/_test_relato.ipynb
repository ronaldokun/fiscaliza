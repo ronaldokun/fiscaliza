{
 "cells": [
  {
   "cell_type": "code",
   "execution_count": null,
   "metadata": {},
   "outputs": [],
   "source": [
    "%load_ext autoreload\n",
    "%autoreload 2\n",
    "%config Completer.use_jedi = False"
   ]
  },
  {
   "cell_type": "code",
   "execution_count": null,
   "metadata": {},
   "outputs": [],
   "source": [
    "#hide\n",
    "import json\n",
    "from pathlib import Path\n",
    "from nbdev.showdoc import show_doc\n",
    "from getpass import getuser, getpass\n",
    "from fiscaliza.redmine import *\n",
    "from fiscaliza.constants import SERVICOS\n",
    "from rich.console import Console\n",
    "console = Console()"
   ]
  },
  {
   "cell_type": "markdown",
   "metadata": {},
   "source": [
    "# Fiscaliza\n",
    "\n",
    "> Scripts para baixar informações sobre inspeções no Sistema Fiscaliza da Anatel e atualizar inspeções por meio da API do Redmine."
   ]
  },
  {
   "cell_type": "markdown",
   "metadata": {},
   "source": [
    "## Instalação\n",
    "Como boa prática é sugerido a criação de um ambiente virtual para encapsular o ambiente python no qual você irá instalar a biblioteca"
   ]
  },
  {
   "cell_type": "markdown",
   "metadata": {},
   "source": [
    "Utilizando o `conda`:\n",
    "```bash\n",
    "conda create -n fiscaliza python=3.8\n",
    "conda activate fiscaliza\n",
    "python -m pip install fiscaliza\n",
    "```\n",
    "Utilizando somente python:\n",
    "\n",
    "Windows\n",
    "```bash\n",
    "python -m venv <pasta onde criar o ambiente virtual>\n",
    "<pasta onde criou o ambiente virtual>\\Scripts\\activate.bat\n",
    "python -m pip install fiscaliza\n",
    "```\n",
    "Linux:\n",
    "```bash\n",
    "python -m venv <pasta onde criar o ambiente virtual>\n",
    "source <pasta onde criou o ambiente virtual>/Scripts/activate\n",
    "python -m pip install fiscaliza\n",
    "```"
   ]
  },
  {
   "cell_type": "markdown",
   "metadata": {},
   "source": [
    "Caso não desejar utilizar um ambiente virtual basta rodar:\n",
    "`pip install fiscaliza`"
   ]
  },
  {
   "cell_type": "markdown",
   "metadata": {},
   "source": [
    "## Como utilizar"
   ]
  },
  {
   "cell_type": "markdown",
   "metadata": {},
   "source": [
    "O `Fiscaliza` da Anatel é um sistema web que utiliza a plataforma Redmine. É basicamente um softaware de gerenciamento e atividades.\n",
    "\n",
    "O Fiscaliza possui 2 módulos para os fiscais utilizarem:\n",
    "* Módulo de Teste ( Homologação ) : \"https://sistemashm.anatel.gov.br/fiscaliza\"\n",
    "* Módulo de Produção: \"https://sistemas.anatel.gov.br/fiscaliza/\"\n",
    "\n",
    "Ambos módulos precisam de um usuário e senha com acesso autorizado, em geral somente servidores da Anatel.\n",
    "\n",
    "O Escopo desse módulo basicamente está encapsulado em 3 funções básicas:\n",
    "* detalhar_inspecao - **Retorna as informações do estado atual da Issue ( Inspeção )**\n",
    "* validar_dicionario - **Para dado dicionário de dados, formata-o para a API do Redmine**\n",
    "* relatar_inspecao - **Atualiza e Issue com o dicionário de dados passado**\n",
    "\n",
    "A terceira função `relatar_inspecao` possui escopo limitado. Atualmente somente é formatado e relatado Inspeções ( Issue ) to tipo \"Uso do Espectro - Monitoração\". Essa inspeção é a principal utilizada para as atividades de monitoração da Anatel e foi o que motivou a criação da presente biblioteca. Outras inspeções possuem campos distintos e assim exigem formatação distinta. Versões futuras poderão abarcar o relato de diferentes inspeções. "
   ]
  },
  {
   "cell_type": "markdown",
   "metadata": {},
   "source": [
    "### Detalhar Inspeção"
   ]
  },
  {
   "cell_type": "code",
   "execution_count": null,
   "metadata": {},
   "outputs": [
    {
     "data": {
      "text/markdown": [
       "<h4 id=\"detalhar_issue\" class=\"doc_header\"><code>detalhar_issue</code><a href=\"https://github.com/ronaldokun/fiscaliza/tree/master/fiscaliza/redmine.py#L501\" class=\"source_link\" style=\"float:right\">[source]</a></h4>\n",
       "\n",
       "> <code>detalhar_issue</code>(**`inspecao`**:\"Número da Inspeção a ser relatada\", **`login`**:\"Login Anatel do Usuário\"=*`None`*, **`senha`**:\"Senha Utilizada nos Sistemas Interativos da Anatel\"=*`None`*, **`fiscaliza`**:\"Objeto Redmine logado, opcional ao login e senha\"=*`None`*, **`teste`**:\"Indica se o relato será de teste\"=*`True`*)\n",
       "\n",
       "Recebe número da inspeção `inspecao`, o login e senha ou opcionalmente objeto Redmine logado `fiscaliza`\n",
       "inspecao: str - Número da Inspeção a ser relatada\n",
       "login: str - Login Anatel do Usuário\n",
       "senha: str - Senha Utilizada nos Sistemas Interativos da\n",
       "fiscaliza: Redmine - Objeto Redmine logado, opcional ao login e senha\n",
       "teste: bool - Caso verdadeiro o Fiscaliza de Teste ( Homologação ) é utilizado\n",
       "\n",
       "Returns:\n",
       "    dict: Retorna um dicionário com a Situação Atual e campos preenchidos da Inspeção"
      ],
      "text/plain": [
       "<IPython.core.display.Markdown object>"
      ]
     },
     "metadata": {},
     "output_type": "display_data"
    }
   ],
   "source": [
    "#hide\n",
    "show_doc(detalhar_issue)"
   ]
  },
  {
   "cell_type": "markdown",
   "metadata": {},
   "source": [
    "Vamos exemplificar a Inspeção de Teste `57824`"
   ]
  },
  {
   "cell_type": "code",
   "execution_count": null,
   "metadata": {},
   "outputs": [
    {
     "name": "stdin",
     "output_type": "stream",
     "text": [
      " ············\n"
     ]
    }
   ],
   "source": [
    "login = getuser()\n",
    "senha = getpass()"
   ]
  },
  {
   "cell_type": "code",
   "execution_count": null,
   "metadata": {},
   "outputs": [
    {
     "data": {
      "text/html": [
       "<pre style=\"white-space:pre;overflow-x:auto;line-height:normal;font-family:Menlo,'DejaVu Sans Mono',consolas,'Courier New',monospace\"><span style=\"font-weight: bold\">{</span>\n",
       "    <span style=\"color: #008000; text-decoration-color: #008000\">'id'</span>: <span style=\"color: #008000; text-decoration-color: #008000\">'72088'</span>,\n",
       "    <span style=\"color: #008000; text-decoration-color: #008000\">'subject'</span>: <span style=\"color: #008000; text-decoration-color: #008000\">'ACAO_GR01_2021_0688'</span>,\n",
       "    <span style=\"color: #008000; text-decoration-color: #008000\">'status'</span>: <span style=\"color: #008000; text-decoration-color: #008000\">'Em andamento'</span>,\n",
       "    <span style=\"color: #008000; text-decoration-color: #008000\">'priority'</span>: <span style=\"color: #008000; text-decoration-color: #008000\">'Normal'</span>,\n",
       "    <span style=\"color: #008000; text-decoration-color: #008000\">'start_date'</span>: <span style=\"color: #008000; text-decoration-color: #008000\">''</span>,\n",
       "    <span style=\"color: #008000; text-decoration-color: #008000\">'due_date'</span>: <span style=\"color: #008000; text-decoration-color: #008000\">'2021-07-31'</span>,\n",
       "    <span style=\"color: #008000; text-decoration-color: #008000\">'description'</span>: <span style=\"color: #008000; text-decoration-color: #008000\">''</span>,\n",
       "    <span style=\"color: #008000; text-decoration-color: #008000\">'Data_de_inicio_efetivo'</span>: <span style=\"color: #800080; text-decoration-color: #800080; font-weight: bold\">datetime.date</span><span style=\"font-weight: bold\">(</span><span style=\"color: #008080; text-decoration-color: #008080; font-weight: bold\">2021</span>, <span style=\"color: #008080; text-decoration-color: #008080; font-weight: bold\">7</span>, <span style=\"color: #008080; text-decoration-color: #008080; font-weight: bold\">19</span><span style=\"font-weight: bold\">)</span>,\n",
       "    <span style=\"color: #008000; text-decoration-color: #008000\">'Ano'</span>: <span style=\"color: #008000; text-decoration-color: #008000\">'2021'</span>,\n",
       "    <span style=\"color: #008000; text-decoration-color: #008000\">'Tema'</span>: <span style=\"font-weight: bold\">[]</span>,\n",
       "    <span style=\"color: #008000; text-decoration-color: #008000\">'Subtema'</span>: <span style=\"font-weight: bold\">[]</span>,\n",
       "    <span style=\"color: #008000; text-decoration-color: #008000\">'Tipo_de_Fiscalizacao'</span>: <span style=\"color: #008000; text-decoration-color: #008000\">'Comum'</span>,\n",
       "    <span style=\"color: #008000; text-decoration-color: #008000\">'Diretriz'</span>: <span style=\"font-weight: bold\">[]</span>,\n",
       "    <span style=\"color: #008000; text-decoration-color: #008000\">'Macrotema_uso_SFI'</span>: <span style=\"color: #008000; text-decoration-color: #008000\">''</span>,\n",
       "    <span style=\"color: #008000; text-decoration-color: #008000\">'Coordenacao'</span>: <span style=\"color: #008000; text-decoration-color: #008000\">''</span>,\n",
       "    <span style=\"color: #008000; text-decoration-color: #008000\">'Numero_Sei_do_Processo'</span>: <span style=\"color: #008000; text-decoration-color: #008000\">'{\"numero\"=&gt;\"53554.000013/2021-11\", \"link_acesso\"=&gt;\"https://sei</span>\n",
       "<span style=\"color: #008000; text-decoration-color: #008000\">hm.anatel.gov.br/sei/controlador.php?acao=procedimento_trabalhar&amp;id_procedimento=1964149\"}'</span>,\n",
       "    <span style=\"color: #008000; text-decoration-color: #008000\">'Fiscal_Responsavel'</span>: <span style=\"color: #008000; text-decoration-color: #008000\">''</span>,\n",
       "    <span style=\"color: #008000; text-decoration-color: #008000\">'Horas_de_Preparacao'</span>: <span style=\"color: #008000; text-decoration-color: #008000\">''</span>,\n",
       "    <span style=\"color: #008000; text-decoration-color: #008000\">'Horas_de_Deslocamento'</span>: <span style=\"color: #008000; text-decoration-color: #008000\">''</span>,\n",
       "    <span style=\"color: #008000; text-decoration-color: #008000\">'Horas_de_Execucao'</span>: <span style=\"color: #008000; text-decoration-color: #008000\">''</span>,\n",
       "    <span style=\"color: #008000; text-decoration-color: #008000\">'Horas_de_elaboracao_documental'</span>: <span style=\"color: #008000; text-decoration-color: #008000\">''</span>,\n",
       "    <span style=\"color: #008000; text-decoration-color: #008000\">'Horas_de_Conclusao'</span>: <span style=\"color: #008000; text-decoration-color: #008000\">''</span>,\n",
       "    <span style=\"color: #008000; text-decoration-color: #008000\">'Origem_da_Acao'</span>: <span style=\"color: #008000; text-decoration-color: #008000\">'Solicitação de Fiscalização'</span>,\n",
       "    <span style=\"color: #008000; text-decoration-color: #008000\">'No_SEI_Relatorio_Fiscalizacao'</span>: <span style=\"color: #008000; text-decoration-color: #008000\">''</span>,\n",
       "    <span style=\"color: #008000; text-decoration-color: #008000\">'No_SEI_do_Despacho_Aprovacao'</span>: <span style=\"color: #008000; text-decoration-color: #008000\">''</span>,\n",
       "    <span style=\"color: #008000; text-decoration-color: #008000\">'Agrupamento'</span>: <span style=\"color: #008000; text-decoration-color: #008000\">''</span>,\n",
       "    <span style=\"color: #008000; text-decoration-color: #008000\">'Data_da_demanda_original'</span>: <span style=\"color: #008000; text-decoration-color: #008000\">''</span>,\n",
       "    <span style=\"color: #008000; text-decoration-color: #008000\">'Centralizador_Regional'</span>: <span style=\"color: #008000; text-decoration-color: #008000\">''</span>,\n",
       "    <span style=\"color: #008000; text-decoration-color: #008000\">'AppFiscaliza'</span>: <span style=\"color: #008000; text-decoration-color: #008000\">'0'</span>,\n",
       "    <span style=\"color: #008000; text-decoration-color: #008000\">'Users'</span>: <span style=\"font-weight: bold\">[</span>\n",
       "        <span style=\"color: #008000; text-decoration-color: #008000\">'Alexandre Elias de Andrade Oliveira'</span>,\n",
       "        <span style=\"color: #008000; text-decoration-color: #008000\">'Alexandre Freitas de Lima'</span>,\n",
       "        <span style=\"color: #008000; text-decoration-color: #008000\">'Alexandre Inacio'</span>,\n",
       "        <span style=\"color: #008000; text-decoration-color: #008000\">'Alexandre Junzo Hamada'</span>,\n",
       "        <span style=\"color: #008000; text-decoration-color: #008000\">'Alfredo de Andrade Filho'</span>,\n",
       "        <span style=\"color: #008000; text-decoration-color: #008000\">'Ananias Pereira'</span>,\n",
       "        <span style=\"color: #008000; text-decoration-color: #008000\">'Antonio Carlos Cardoso de Mello'</span>,\n",
       "        <span style=\"color: #008000; text-decoration-color: #008000\">'Aparecido Sebastiao da Silva'</span>,\n",
       "        <span style=\"color: #008000; text-decoration-color: #008000\">'Arthur Pisaruk'</span>,\n",
       "        <span style=\"color: #008000; text-decoration-color: #008000\">'Carlos Augusto de Carvalho'</span>,\n",
       "        <span style=\"color: #008000; text-decoration-color: #008000\">'Carlos Eduardo Guimaraes Silveira'</span>,\n",
       "        <span style=\"color: #008000; text-decoration-color: #008000\">'Carlos da Paixao Filho'</span>,\n",
       "        <span style=\"color: #008000; text-decoration-color: #008000\">'Celio Yukio Takahashi'</span>,\n",
       "        <span style=\"color: #008000; text-decoration-color: #008000\">'Celso Luiz Maximino'</span>,\n",
       "        <span style=\"color: #008000; text-decoration-color: #008000\">'Diogo Caldeira'</span>,\n",
       "        <span style=\"color: #008000; text-decoration-color: #008000\">'Ediceu Beraldi'</span>,\n",
       "        <span style=\"color: #008000; text-decoration-color: #008000\">'Eduardo Narkevicius'</span>,\n",
       "        <span style=\"color: #008000; text-decoration-color: #008000\">'Elcio Maehara'</span>,\n",
       "        <span style=\"color: #008000; text-decoration-color: #008000\">'Eustaquio Lages Duarte'</span>,\n",
       "        <span style=\"color: #008000; text-decoration-color: #008000\">'Gauber Albuquerque'</span>,\n",
       "        <span style=\"color: #008000; text-decoration-color: #008000\">'Gilson Ponce Ayres Filho'</span>,\n",
       "        <span style=\"color: #008000; text-decoration-color: #008000\">'Helio Lopes de Carvalho Filho'</span>,\n",
       "        <span style=\"color: #008000; text-decoration-color: #008000\">'Higor da Paz Melo'</span>,\n",
       "        <span style=\"color: #008000; text-decoration-color: #008000\">'Hugo Santana Lima'</span>,\n",
       "        <span style=\"color: #008000; text-decoration-color: #008000\">'Humberto Barbosa Vinagre'</span>,\n",
       "        <span style=\"color: #008000; text-decoration-color: #008000\">'Jamilson Evangelista'</span>,\n",
       "        <span style=\"color: #008000; text-decoration-color: #008000\">'Joao Yokoyama'</span>,\n",
       "        <span style=\"color: #008000; text-decoration-color: #008000\">'Joaquim Miranda'</span>,\n",
       "        <span style=\"color: #008000; text-decoration-color: #008000\">'José Antônio S. Sanches'</span>,\n",
       "        <span style=\"color: #008000; text-decoration-color: #008000\">'Julio Cesar de Assis Santos'</span>,\n",
       "        <span style=\"color: #008000; text-decoration-color: #008000\">'Kiyotomo Kawamura'</span>,\n",
       "        <span style=\"color: #008000; text-decoration-color: #008000\">'Laert Calil Junior'</span>,\n",
       "        <span style=\"color: #008000; text-decoration-color: #008000\">'Lannei Vilela Moraes'</span>,\n",
       "        <span style=\"color: #008000; text-decoration-color: #008000\">'Luis Lagomes'</span>,\n",
       "        <span style=\"color: #008000; text-decoration-color: #008000\">'Luiz Vinicios Mielniczuk Seelig'</span>,\n",
       "        <span style=\"color: #008000; text-decoration-color: #008000\">'Marcelo Augusto Scacabarozi'</span>,\n",
       "        <span style=\"color: #008000; text-decoration-color: #008000\">'Marcelo Vaz Netto'</span>,\n",
       "        <span style=\"color: #008000; text-decoration-color: #008000\">'Marcio Colazingari'</span>,\n",
       "        <span style=\"color: #008000; text-decoration-color: #008000\">'Marcio Costa'</span>,\n",
       "        <span style=\"color: #008000; text-decoration-color: #008000\">'Marcio Rodrigues Maciel'</span>,\n",
       "        <span style=\"color: #008000; text-decoration-color: #008000\">'Marcos Antônio Rodrigues'</span>,\n",
       "        <span style=\"color: #008000; text-decoration-color: #008000\">'Marcos Juliano Valim da Silva'</span>,\n",
       "        <span style=\"color: #008000; text-decoration-color: #008000\">'Maria Teresa Flosi Garrafa'</span>,\n",
       "        <span style=\"color: #008000; text-decoration-color: #008000\">'Mario Augusto Volpini'</span>,\n",
       "        <span style=\"color: #008000; text-decoration-color: #008000\">'Murilo Amaro'</span>,\n",
       "        <span style=\"color: #008000; text-decoration-color: #008000\">'Osnir Lopes'</span>,\n",
       "        <span style=\"color: #008000; text-decoration-color: #008000\">'Paulo Diogo Costa'</span>,\n",
       "        <span style=\"color: #008000; text-decoration-color: #008000\">'Pedro Arai'</span>,\n",
       "        <span style=\"color: #008000; text-decoration-color: #008000\">'Renato Sadao Kushioyada'</span>,\n",
       "        <span style=\"color: #008000; text-decoration-color: #008000\">'Ricardo Santos Marques'</span>,\n",
       "        <span style=\"color: #008000; text-decoration-color: #008000\">'Ricardo da Silva e Souza'</span>,\n",
       "        <span style=\"color: #008000; text-decoration-color: #008000\">'Roberto Carlos Soares Campos'</span>,\n",
       "        <span style=\"color: #008000; text-decoration-color: #008000\">'Roberto Ferreira dos Santos'</span>,\n",
       "        <span style=\"color: #008000; text-decoration-color: #008000\">'Roberto Takata'</span>,\n",
       "        <span style=\"color: #008000; text-decoration-color: #008000\">'Rodrigo Barbosa de Paula'</span>,\n",
       "        <span style=\"color: #008000; text-decoration-color: #008000\">'Rogerio Zambotto'</span>,\n",
       "        <span style=\"color: #008000; text-decoration-color: #008000\">'Ronaldo da Silva Alves Batista'</span>,\n",
       "        <span style=\"color: #008000; text-decoration-color: #008000\">'Sergio Pereira'</span>,\n",
       "        <span style=\"color: #008000; text-decoration-color: #008000\">'Thiago Silva'</span>,\n",
       "        <span style=\"color: #008000; text-decoration-color: #008000\">'Thomaz Honma Ishida'</span>,\n",
       "        <span style=\"color: #008000; text-decoration-color: #008000\">'Vinicius Paiva de Oliveira'</span>,\n",
       "        <span style=\"color: #008000; text-decoration-color: #008000\">'Vitor Zelada'</span>,\n",
       "        <span style=\"color: #008000; text-decoration-color: #008000\">'Wellington Devechi Piauilino'</span>,\n",
       "        <span style=\"color: #008000; text-decoration-color: #008000\">'Wladimir Senise'</span>\n",
       "    <span style=\"font-weight: bold\">]</span>,\n",
       "    <span style=\"color: #008000; text-decoration-color: #008000\">'Classe_da_Inspecao'</span>: <span style=\"color: #008000; text-decoration-color: #008000\">''</span>,\n",
       "    <span style=\"color: #008000; text-decoration-color: #008000\">'Tipo_de_Inspecao'</span>: <span style=\"color: #008000; text-decoration-color: #008000\">''</span>,\n",
       "    <span style=\"color: #008000; text-decoration-color: #008000\">'UF_Municipio'</span>: <span style=\"color: #008000; text-decoration-color: #008000\">''</span>,\n",
       "    <span style=\"color: #008000; text-decoration-color: #008000\">'Servicos_da_Inspecao'</span>: <span style=\"color: #008000; text-decoration-color: #008000\">''</span>,\n",
       "    <span style=\"color: #008000; text-decoration-color: #008000\">'Atualizado'</span>: <span style=\"color: #008000; text-decoration-color: #008000\">'Atualizado por Ronaldo da Silva Alves Batista em 02/08/2021 às 09:53:09'</span>\n",
       "<span style=\"font-weight: bold\">}</span>\n",
       "</pre>\n"
      ],
      "text/plain": [
       "\u001b[1m{\u001b[0m\n",
       "    \u001b[32m'id'\u001b[0m: \u001b[32m'72088'\u001b[0m,\n",
       "    \u001b[32m'subject'\u001b[0m: \u001b[32m'ACAO_GR01_2021_0688'\u001b[0m,\n",
       "    \u001b[32m'status'\u001b[0m: \u001b[32m'Em andamento'\u001b[0m,\n",
       "    \u001b[32m'priority'\u001b[0m: \u001b[32m'Normal'\u001b[0m,\n",
       "    \u001b[32m'start_date'\u001b[0m: \u001b[32m''\u001b[0m,\n",
       "    \u001b[32m'due_date'\u001b[0m: \u001b[32m'2021-07-31'\u001b[0m,\n",
       "    \u001b[32m'description'\u001b[0m: \u001b[32m''\u001b[0m,\n",
       "    \u001b[32m'Data_de_inicio_efetivo'\u001b[0m: \u001b[1;35mdatetime.date\u001b[0m\u001b[1m(\u001b[0m\u001b[1;36m2021\u001b[0m, \u001b[1;36m7\u001b[0m, \u001b[1;36m19\u001b[0m\u001b[1m)\u001b[0m,\n",
       "    \u001b[32m'Ano'\u001b[0m: \u001b[32m'2021'\u001b[0m,\n",
       "    \u001b[32m'Tema'\u001b[0m: \u001b[1m[\u001b[0m\u001b[1m]\u001b[0m,\n",
       "    \u001b[32m'Subtema'\u001b[0m: \u001b[1m[\u001b[0m\u001b[1m]\u001b[0m,\n",
       "    \u001b[32m'Tipo_de_Fiscalizacao'\u001b[0m: \u001b[32m'Comum'\u001b[0m,\n",
       "    \u001b[32m'Diretriz'\u001b[0m: \u001b[1m[\u001b[0m\u001b[1m]\u001b[0m,\n",
       "    \u001b[32m'Macrotema_uso_SFI'\u001b[0m: \u001b[32m''\u001b[0m,\n",
       "    \u001b[32m'Coordenacao'\u001b[0m: \u001b[32m''\u001b[0m,\n",
       "    \u001b[32m'Numero_Sei_do_Processo'\u001b[0m: \u001b[32m'\u001b[0m\u001b[32m{\u001b[0m\u001b[32m\"numero\"=>\"53554.000013/2021-11\", \"link_acesso\"=>\"https://sei\u001b[0m\n",
       "\u001b[32mhm.anatel.gov.br/sei/controlador.php?\u001b[0m\u001b[32macao\u001b[0m\u001b[32m=\u001b[0m\u001b[32mprocedimento_trabalhar\u001b[0m\u001b[32m&\u001b[0m\u001b[32mid_procedimento\u001b[0m\u001b[32m=\u001b[0m\u001b[32m1964149\"\u001b[0m\u001b[32m}\u001b[0m\u001b[32m'\u001b[0m,\n",
       "    \u001b[32m'Fiscal_Responsavel'\u001b[0m: \u001b[32m''\u001b[0m,\n",
       "    \u001b[32m'Horas_de_Preparacao'\u001b[0m: \u001b[32m''\u001b[0m,\n",
       "    \u001b[32m'Horas_de_Deslocamento'\u001b[0m: \u001b[32m''\u001b[0m,\n",
       "    \u001b[32m'Horas_de_Execucao'\u001b[0m: \u001b[32m''\u001b[0m,\n",
       "    \u001b[32m'Horas_de_elaboracao_documental'\u001b[0m: \u001b[32m''\u001b[0m,\n",
       "    \u001b[32m'Horas_de_Conclusao'\u001b[0m: \u001b[32m''\u001b[0m,\n",
       "    \u001b[32m'Origem_da_Acao'\u001b[0m: \u001b[32m'Solicitação de Fiscalização'\u001b[0m,\n",
       "    \u001b[32m'No_SEI_Relatorio_Fiscalizacao'\u001b[0m: \u001b[32m''\u001b[0m,\n",
       "    \u001b[32m'No_SEI_do_Despacho_Aprovacao'\u001b[0m: \u001b[32m''\u001b[0m,\n",
       "    \u001b[32m'Agrupamento'\u001b[0m: \u001b[32m''\u001b[0m,\n",
       "    \u001b[32m'Data_da_demanda_original'\u001b[0m: \u001b[32m''\u001b[0m,\n",
       "    \u001b[32m'Centralizador_Regional'\u001b[0m: \u001b[32m''\u001b[0m,\n",
       "    \u001b[32m'AppFiscaliza'\u001b[0m: \u001b[32m'0'\u001b[0m,\n",
       "    \u001b[32m'Users'\u001b[0m: \u001b[1m[\u001b[0m\n",
       "        \u001b[32m'Alexandre Elias de Andrade Oliveira'\u001b[0m,\n",
       "        \u001b[32m'Alexandre Freitas de Lima'\u001b[0m,\n",
       "        \u001b[32m'Alexandre Inacio'\u001b[0m,\n",
       "        \u001b[32m'Alexandre Junzo Hamada'\u001b[0m,\n",
       "        \u001b[32m'Alfredo de Andrade Filho'\u001b[0m,\n",
       "        \u001b[32m'Ananias Pereira'\u001b[0m,\n",
       "        \u001b[32m'Antonio Carlos Cardoso de Mello'\u001b[0m,\n",
       "        \u001b[32m'Aparecido Sebastiao da Silva'\u001b[0m,\n",
       "        \u001b[32m'Arthur Pisaruk'\u001b[0m,\n",
       "        \u001b[32m'Carlos Augusto de Carvalho'\u001b[0m,\n",
       "        \u001b[32m'Carlos Eduardo Guimaraes Silveira'\u001b[0m,\n",
       "        \u001b[32m'Carlos da Paixao Filho'\u001b[0m,\n",
       "        \u001b[32m'Celio Yukio Takahashi'\u001b[0m,\n",
       "        \u001b[32m'Celso Luiz Maximino'\u001b[0m,\n",
       "        \u001b[32m'Diogo Caldeira'\u001b[0m,\n",
       "        \u001b[32m'Ediceu Beraldi'\u001b[0m,\n",
       "        \u001b[32m'Eduardo Narkevicius'\u001b[0m,\n",
       "        \u001b[32m'Elcio Maehara'\u001b[0m,\n",
       "        \u001b[32m'Eustaquio Lages Duarte'\u001b[0m,\n",
       "        \u001b[32m'Gauber Albuquerque'\u001b[0m,\n",
       "        \u001b[32m'Gilson Ponce Ayres Filho'\u001b[0m,\n",
       "        \u001b[32m'Helio Lopes de Carvalho Filho'\u001b[0m,\n",
       "        \u001b[32m'Higor da Paz Melo'\u001b[0m,\n",
       "        \u001b[32m'Hugo Santana Lima'\u001b[0m,\n",
       "        \u001b[32m'Humberto Barbosa Vinagre'\u001b[0m,\n",
       "        \u001b[32m'Jamilson Evangelista'\u001b[0m,\n",
       "        \u001b[32m'Joao Yokoyama'\u001b[0m,\n",
       "        \u001b[32m'Joaquim Miranda'\u001b[0m,\n",
       "        \u001b[32m'José Antônio S. Sanches'\u001b[0m,\n",
       "        \u001b[32m'Julio Cesar de Assis Santos'\u001b[0m,\n",
       "        \u001b[32m'Kiyotomo Kawamura'\u001b[0m,\n",
       "        \u001b[32m'Laert Calil Junior'\u001b[0m,\n",
       "        \u001b[32m'Lannei Vilela Moraes'\u001b[0m,\n",
       "        \u001b[32m'Luis Lagomes'\u001b[0m,\n",
       "        \u001b[32m'Luiz Vinicios Mielniczuk Seelig'\u001b[0m,\n",
       "        \u001b[32m'Marcelo Augusto Scacabarozi'\u001b[0m,\n",
       "        \u001b[32m'Marcelo Vaz Netto'\u001b[0m,\n",
       "        \u001b[32m'Marcio Colazingari'\u001b[0m,\n",
       "        \u001b[32m'Marcio Costa'\u001b[0m,\n",
       "        \u001b[32m'Marcio Rodrigues Maciel'\u001b[0m,\n",
       "        \u001b[32m'Marcos Antônio Rodrigues'\u001b[0m,\n",
       "        \u001b[32m'Marcos Juliano Valim da Silva'\u001b[0m,\n",
       "        \u001b[32m'Maria Teresa Flosi Garrafa'\u001b[0m,\n",
       "        \u001b[32m'Mario Augusto Volpini'\u001b[0m,\n",
       "        \u001b[32m'Murilo Amaro'\u001b[0m,\n",
       "        \u001b[32m'Osnir Lopes'\u001b[0m,\n",
       "        \u001b[32m'Paulo Diogo Costa'\u001b[0m,\n",
       "        \u001b[32m'Pedro Arai'\u001b[0m,\n",
       "        \u001b[32m'Renato Sadao Kushioyada'\u001b[0m,\n",
       "        \u001b[32m'Ricardo Santos Marques'\u001b[0m,\n",
       "        \u001b[32m'Ricardo da Silva e Souza'\u001b[0m,\n",
       "        \u001b[32m'Roberto Carlos Soares Campos'\u001b[0m,\n",
       "        \u001b[32m'Roberto Ferreira dos Santos'\u001b[0m,\n",
       "        \u001b[32m'Roberto Takata'\u001b[0m,\n",
       "        \u001b[32m'Rodrigo Barbosa de Paula'\u001b[0m,\n",
       "        \u001b[32m'Rogerio Zambotto'\u001b[0m,\n",
       "        \u001b[32m'Ronaldo da Silva Alves Batista'\u001b[0m,\n",
       "        \u001b[32m'Sergio Pereira'\u001b[0m,\n",
       "        \u001b[32m'Thiago Silva'\u001b[0m,\n",
       "        \u001b[32m'Thomaz Honma Ishida'\u001b[0m,\n",
       "        \u001b[32m'Vinicius Paiva de Oliveira'\u001b[0m,\n",
       "        \u001b[32m'Vitor Zelada'\u001b[0m,\n",
       "        \u001b[32m'Wellington Devechi Piauilino'\u001b[0m,\n",
       "        \u001b[32m'Wladimir Senise'\u001b[0m\n",
       "    \u001b[1m]\u001b[0m,\n",
       "    \u001b[32m'Classe_da_Inspecao'\u001b[0m: \u001b[32m''\u001b[0m,\n",
       "    \u001b[32m'Tipo_de_Inspecao'\u001b[0m: \u001b[32m''\u001b[0m,\n",
       "    \u001b[32m'UF_Municipio'\u001b[0m: \u001b[32m''\u001b[0m,\n",
       "    \u001b[32m'Servicos_da_Inspecao'\u001b[0m: \u001b[32m''\u001b[0m,\n",
       "    \u001b[32m'Atualizado'\u001b[0m: \u001b[32m'Atualizado por Ronaldo da Silva Alves Batista em 02/08/2021 às 09:53:09'\u001b[0m\n",
       "\u001b[1m}\u001b[0m\n"
      ]
     },
     "metadata": {},
     "output_type": "display_data"
    }
   ],
   "source": [
    "issue = '72088'\n",
    "detalhes = detalhar_issue(issue, login, senha)\n",
    "console.print(detalhes)"
   ]
  },
  {
   "cell_type": "code",
   "execution_count": null,
   "metadata": {},
   "outputs": [
    {
     "data": {
      "text/html": [
       "<pre style=\"white-space:pre;overflow-x:auto;line-height:normal;font-family:Menlo,'DejaVu Sans Mono',consolas,'Courier New',monospace\"><span style=\"font-weight: bold\">{</span>\n",
       "    <span style=\"color: #008000; text-decoration-color: #008000\">'id'</span>: <span style=\"color: #008000; text-decoration-color: #008000\">'72120'</span>,\n",
       "    <span style=\"color: #008000; text-decoration-color: #008000\">'subject'</span>: <span style=\"color: #008000; text-decoration-color: #008000\">'INSP_GR01_2021_0702'</span>,\n",
       "    <span style=\"color: #008000; text-decoration-color: #008000\">'status'</span>: <span style=\"color: #008000; text-decoration-color: #008000\">'Rascunho'</span>,\n",
       "    <span style=\"color: #008000; text-decoration-color: #008000\">'priority'</span>: <span style=\"color: #008000; text-decoration-color: #008000\">'Normal'</span>,\n",
       "    <span style=\"color: #008000; text-decoration-color: #008000\">'start_date'</span>: <span style=\"color: #008000; text-decoration-color: #008000\">''</span>,\n",
       "    <span style=\"color: #008000; text-decoration-color: #008000\">'due_date'</span>: <span style=\"color: #008000; text-decoration-color: #008000\">''</span>,\n",
       "    <span style=\"color: #008000; text-decoration-color: #008000\">'description'</span>: <span style=\"color: #008000; text-decoration-color: #008000\">''</span>,\n",
       "    <span style=\"color: #008000; text-decoration-color: #008000\">'Data_de_inicio_efetivo'</span>: <span style=\"color: #008000; text-decoration-color: #008000\">''</span>,\n",
       "    <span style=\"color: #008000; text-decoration-color: #008000\">'Classe_da_Inspecao'</span>: <span style=\"color: #008000; text-decoration-color: #008000\">''</span>,\n",
       "    <span style=\"color: #008000; text-decoration-color: #008000\">'Tipo_de_Inspecao'</span>: <span style=\"color: #008000; text-decoration-color: #008000\">''</span>,\n",
       "    <span style=\"color: #008000; text-decoration-color: #008000\">'Ano'</span>: <span style=\"color: #008000; text-decoration-color: #008000\">'2021'</span>,\n",
       "    <span style=\"color: #008000; text-decoration-color: #008000\">'Coordenacao'</span>: <span style=\"color: #008000; text-decoration-color: #008000\">''</span>,\n",
       "    <span style=\"color: #008000; text-decoration-color: #008000\">'Numero_Sei_do_Processo'</span>: <span style=\"color: #008000; text-decoration-color: #008000\">'{\"numero\"=&gt;\"53554.000013/2021-11\", \"link_acesso\"=&gt;\"https://sei</span>\n",
       "<span style=\"color: #008000; text-decoration-color: #008000\">hm.anatel.gov.br/sei/controlador.php?acao=procedimento_trabalhar&amp;id_procedimento=1964149\"}'</span>,\n",
       "    <span style=\"color: #008000; text-decoration-color: #008000\">'Fiscal_Responsavel'</span>: <span style=\"color: #008000; text-decoration-color: #008000\">''</span>,\n",
       "    <span style=\"color: #008000; text-decoration-color: #008000\">'Fiscais'</span>: <span style=\"font-weight: bold\">[]</span>,\n",
       "    <span style=\"color: #008000; text-decoration-color: #008000\">'Entidade_da_Inspecao'</span>: <span style=\"font-weight: bold\">[]</span>,\n",
       "    <span style=\"color: #008000; text-decoration-color: #008000\">'UF_Municipio'</span>: <span style=\"font-weight: bold\">[]</span>,\n",
       "    <span style=\"color: #008000; text-decoration-color: #008000\">'Servicos_da_Inspecao'</span>: <span style=\"font-weight: bold\">[</span>\n",
       "        <span style=\"color: #008000; text-decoration-color: #008000\">'026 - COLETIVO - RADIOENLACES ASSOCIADOS AO SERVIÇO DE CIRCUITO ESPECIALIZADO'</span>,\n",
       "        <span style=\"color: #008000; text-decoration-color: #008000\">'027 - COLETIVO - RADIOENLACES ASSOCIADOS AO SERVIÇO MÓVEL ESPECIALIZADO'</span>,\n",
       "        <span style=\"color: #008000; text-decoration-color: #008000\">'251 - RESTRITO - AUXILIAR RADIODIF.- TRANSMISS. DE PROGRAMAS'</span>,\n",
       "        <span style=\"color: #008000; text-decoration-color: #008000\">'029 - COLETIVO - RADIOENLACES ASSOCIADOS AO SERVIÇO LIMITADO ESPECIALIZADO'</span>,\n",
       "        <span style=\"color: #008000; text-decoration-color: #008000\">'015 - COLETIVO - RADIOENLACES ASSOCIADOS A SISTEMA DE SATÉLITES'</span>\n",
       "    <span style=\"font-weight: bold\">]</span>,\n",
       "    <span style=\"color: #008000; text-decoration-color: #008000\">'Horas_de_Preparacao'</span>: <span style=\"color: #008000; text-decoration-color: #008000\">''</span>,\n",
       "    <span style=\"color: #008000; text-decoration-color: #008000\">'Horas_de_Deslocamento'</span>: <span style=\"color: #008000; text-decoration-color: #008000\">''</span>,\n",
       "    <span style=\"color: #008000; text-decoration-color: #008000\">'Horas_de_Execucao'</span>: <span style=\"color: #008000; text-decoration-color: #008000\">''</span>,\n",
       "    <span style=\"color: #008000; text-decoration-color: #008000\">'Horas_de_Conclusao'</span>: <span style=\"color: #008000; text-decoration-color: #008000\">''</span>,\n",
       "    <span style=\"color: #008000; text-decoration-color: #008000\">'SAV'</span>: <span style=\"color: #008000; text-decoration-color: #008000\">''</span>,\n",
       "    <span style=\"color: #008000; text-decoration-color: #008000\">'PCDP'</span>: <span style=\"color: #008000; text-decoration-color: #008000\">''</span>,\n",
       "    <span style=\"color: #008000; text-decoration-color: #008000\">'Procedimentos'</span>: <span style=\"font-weight: bold\">[]</span>,\n",
       "    <span style=\"color: #008000; text-decoration-color: #008000\">'Agrupamento'</span>: <span style=\"color: #008000; text-decoration-color: #008000\">''</span>,\n",
       "    <span style=\"color: #008000; text-decoration-color: #008000\">'AppFiscaliza'</span>: <span style=\"color: #008000; text-decoration-color: #008000\">'0'</span>,\n",
       "    <span style=\"color: #008000; text-decoration-color: #008000\">'Relatorio_de_Monitoramento'</span>: <span style=\"color: #008000; text-decoration-color: #008000\">''</span>,\n",
       "    <span style=\"color: #008000; text-decoration-color: #008000\">'id_ACAO'</span>: <span style=\"color: #008080; text-decoration-color: #008080; font-weight: bold\">72088</span>,\n",
       "    <span style=\"color: #008000; text-decoration-color: #008000\">'nome_ACAO'</span>: <span style=\"color: #008000; text-decoration-color: #008000\">'ACAO_GR01_2021_0688'</span>,\n",
       "    <span style=\"color: #008000; text-decoration-color: #008000\">'descricao_ACAO'</span>: <span style=\"color: #008000; text-decoration-color: #008000\">''</span>,\n",
       "    <span style=\"color: #008000; text-decoration-color: #008000\">'Users'</span>: <span style=\"font-weight: bold\">[</span>\n",
       "        <span style=\"color: #008000; text-decoration-color: #008000\">'Alexandre Elias de Andrade Oliveira'</span>,\n",
       "        <span style=\"color: #008000; text-decoration-color: #008000\">'Alexandre Freitas de Lima'</span>,\n",
       "        <span style=\"color: #008000; text-decoration-color: #008000\">'Alexandre Inacio'</span>,\n",
       "        <span style=\"color: #008000; text-decoration-color: #008000\">'Alexandre Junzo Hamada'</span>,\n",
       "        <span style=\"color: #008000; text-decoration-color: #008000\">'Alfredo de Andrade Filho'</span>,\n",
       "        <span style=\"color: #008000; text-decoration-color: #008000\">'Ananias Pereira'</span>,\n",
       "        <span style=\"color: #008000; text-decoration-color: #008000\">'Antonio Carlos Cardoso de Mello'</span>,\n",
       "        <span style=\"color: #008000; text-decoration-color: #008000\">'Aparecido Sebastiao da Silva'</span>,\n",
       "        <span style=\"color: #008000; text-decoration-color: #008000\">'Arthur Pisaruk'</span>,\n",
       "        <span style=\"color: #008000; text-decoration-color: #008000\">'Carlos Augusto de Carvalho'</span>,\n",
       "        <span style=\"color: #008000; text-decoration-color: #008000\">'Carlos Eduardo Guimaraes Silveira'</span>,\n",
       "        <span style=\"color: #008000; text-decoration-color: #008000\">'Carlos da Paixao Filho'</span>,\n",
       "        <span style=\"color: #008000; text-decoration-color: #008000\">'Celio Yukio Takahashi'</span>,\n",
       "        <span style=\"color: #008000; text-decoration-color: #008000\">'Celso Luiz Maximino'</span>,\n",
       "        <span style=\"color: #008000; text-decoration-color: #008000\">'Diogo Caldeira'</span>,\n",
       "        <span style=\"color: #008000; text-decoration-color: #008000\">'Ediceu Beraldi'</span>,\n",
       "        <span style=\"color: #008000; text-decoration-color: #008000\">'Eduardo Narkevicius'</span>,\n",
       "        <span style=\"color: #008000; text-decoration-color: #008000\">'Elcio Maehara'</span>,\n",
       "        <span style=\"color: #008000; text-decoration-color: #008000\">'Eustaquio Lages Duarte'</span>,\n",
       "        <span style=\"color: #008000; text-decoration-color: #008000\">'Gauber Albuquerque'</span>,\n",
       "        <span style=\"color: #008000; text-decoration-color: #008000\">'Gilson Ponce Ayres Filho'</span>,\n",
       "        <span style=\"color: #008000; text-decoration-color: #008000\">'Helio Lopes de Carvalho Filho'</span>,\n",
       "        <span style=\"color: #008000; text-decoration-color: #008000\">'Higor da Paz Melo'</span>,\n",
       "        <span style=\"color: #008000; text-decoration-color: #008000\">'Hugo Santana Lima'</span>,\n",
       "        <span style=\"color: #008000; text-decoration-color: #008000\">'Humberto Barbosa Vinagre'</span>,\n",
       "        <span style=\"color: #008000; text-decoration-color: #008000\">'Jamilson Evangelista'</span>,\n",
       "        <span style=\"color: #008000; text-decoration-color: #008000\">'Joao Yokoyama'</span>,\n",
       "        <span style=\"color: #008000; text-decoration-color: #008000\">'Joaquim Miranda'</span>,\n",
       "        <span style=\"color: #008000; text-decoration-color: #008000\">'José Antônio S. Sanches'</span>,\n",
       "        <span style=\"color: #008000; text-decoration-color: #008000\">'Julio Cesar de Assis Santos'</span>,\n",
       "        <span style=\"color: #008000; text-decoration-color: #008000\">'Kiyotomo Kawamura'</span>,\n",
       "        <span style=\"color: #008000; text-decoration-color: #008000\">'Laert Calil Junior'</span>,\n",
       "        <span style=\"color: #008000; text-decoration-color: #008000\">'Lannei Vilela Moraes'</span>,\n",
       "        <span style=\"color: #008000; text-decoration-color: #008000\">'Luis Lagomes'</span>,\n",
       "        <span style=\"color: #008000; text-decoration-color: #008000\">'Luiz Vinicios Mielniczuk Seelig'</span>,\n",
       "        <span style=\"color: #008000; text-decoration-color: #008000\">'Marcelo Augusto Scacabarozi'</span>,\n",
       "        <span style=\"color: #008000; text-decoration-color: #008000\">'Marcelo Vaz Netto'</span>,\n",
       "        <span style=\"color: #008000; text-decoration-color: #008000\">'Marcio Colazingari'</span>,\n",
       "        <span style=\"color: #008000; text-decoration-color: #008000\">'Marcio Costa'</span>,\n",
       "        <span style=\"color: #008000; text-decoration-color: #008000\">'Marcio Rodrigues Maciel'</span>,\n",
       "        <span style=\"color: #008000; text-decoration-color: #008000\">'Marcos Antônio Rodrigues'</span>,\n",
       "        <span style=\"color: #008000; text-decoration-color: #008000\">'Marcos Juliano Valim da Silva'</span>,\n",
       "        <span style=\"color: #008000; text-decoration-color: #008000\">'Maria Teresa Flosi Garrafa'</span>,\n",
       "        <span style=\"color: #008000; text-decoration-color: #008000\">'Mario Augusto Volpini'</span>,\n",
       "        <span style=\"color: #008000; text-decoration-color: #008000\">'Murilo Amaro'</span>,\n",
       "        <span style=\"color: #008000; text-decoration-color: #008000\">'Osnir Lopes'</span>,\n",
       "        <span style=\"color: #008000; text-decoration-color: #008000\">'Paulo Diogo Costa'</span>,\n",
       "        <span style=\"color: #008000; text-decoration-color: #008000\">'Pedro Arai'</span>,\n",
       "        <span style=\"color: #008000; text-decoration-color: #008000\">'Renato Sadao Kushioyada'</span>,\n",
       "        <span style=\"color: #008000; text-decoration-color: #008000\">'Ricardo Santos Marques'</span>,\n",
       "        <span style=\"color: #008000; text-decoration-color: #008000\">'Ricardo da Silva e Souza'</span>,\n",
       "        <span style=\"color: #008000; text-decoration-color: #008000\">'Roberto Carlos Soares Campos'</span>,\n",
       "        <span style=\"color: #008000; text-decoration-color: #008000\">'Roberto Ferreira dos Santos'</span>,\n",
       "        <span style=\"color: #008000; text-decoration-color: #008000\">'Roberto Takata'</span>,\n",
       "        <span style=\"color: #008000; text-decoration-color: #008000\">'Rodrigo Barbosa de Paula'</span>,\n",
       "        <span style=\"color: #008000; text-decoration-color: #008000\">'Rogerio Zambotto'</span>,\n",
       "        <span style=\"color: #008000; text-decoration-color: #008000\">'Ronaldo da Silva Alves Batista'</span>,\n",
       "        <span style=\"color: #008000; text-decoration-color: #008000\">'Sergio Pereira'</span>,\n",
       "        <span style=\"color: #008000; text-decoration-color: #008000\">'Thiago Silva'</span>,\n",
       "        <span style=\"color: #008000; text-decoration-color: #008000\">'Thomaz Honma Ishida'</span>,\n",
       "        <span style=\"color: #008000; text-decoration-color: #008000\">'Vinicius Paiva de Oliveira'</span>,\n",
       "        <span style=\"color: #008000; text-decoration-color: #008000\">'Vitor Zelada'</span>,\n",
       "        <span style=\"color: #008000; text-decoration-color: #008000\">'Wellington Devechi Piauilino'</span>,\n",
       "        <span style=\"color: #008000; text-decoration-color: #008000\">'Wladimir Senise'</span>\n",
       "    <span style=\"font-weight: bold\">]</span>,\n",
       "    <span style=\"color: #008000; text-decoration-color: #008000\">'Atualizado'</span>: <span style=\"color: #008000; text-decoration-color: #008000\">'Atualizado por Ronaldo da Silva Alves Batista em 02/08/2021 às 11:00:49'</span>\n",
       "<span style=\"font-weight: bold\">}</span>\n",
       "</pre>\n"
      ],
      "text/plain": [
       "\u001b[1m{\u001b[0m\n",
       "    \u001b[32m'id'\u001b[0m: \u001b[32m'72120'\u001b[0m,\n",
       "    \u001b[32m'subject'\u001b[0m: \u001b[32m'INSP_GR01_2021_0702'\u001b[0m,\n",
       "    \u001b[32m'status'\u001b[0m: \u001b[32m'Rascunho'\u001b[0m,\n",
       "    \u001b[32m'priority'\u001b[0m: \u001b[32m'Normal'\u001b[0m,\n",
       "    \u001b[32m'start_date'\u001b[0m: \u001b[32m''\u001b[0m,\n",
       "    \u001b[32m'due_date'\u001b[0m: \u001b[32m''\u001b[0m,\n",
       "    \u001b[32m'description'\u001b[0m: \u001b[32m''\u001b[0m,\n",
       "    \u001b[32m'Data_de_inicio_efetivo'\u001b[0m: \u001b[32m''\u001b[0m,\n",
       "    \u001b[32m'Classe_da_Inspecao'\u001b[0m: \u001b[32m''\u001b[0m,\n",
       "    \u001b[32m'Tipo_de_Inspecao'\u001b[0m: \u001b[32m''\u001b[0m,\n",
       "    \u001b[32m'Ano'\u001b[0m: \u001b[32m'2021'\u001b[0m,\n",
       "    \u001b[32m'Coordenacao'\u001b[0m: \u001b[32m''\u001b[0m,\n",
       "    \u001b[32m'Numero_Sei_do_Processo'\u001b[0m: \u001b[32m'\u001b[0m\u001b[32m{\u001b[0m\u001b[32m\"numero\"=>\"53554.000013/2021-11\", \"link_acesso\"=>\"https://sei\u001b[0m\n",
       "\u001b[32mhm.anatel.gov.br/sei/controlador.php?\u001b[0m\u001b[32macao\u001b[0m\u001b[32m=\u001b[0m\u001b[32mprocedimento_trabalhar\u001b[0m\u001b[32m&\u001b[0m\u001b[32mid_procedimento\u001b[0m\u001b[32m=\u001b[0m\u001b[32m1964149\"\u001b[0m\u001b[32m}\u001b[0m\u001b[32m'\u001b[0m,\n",
       "    \u001b[32m'Fiscal_Responsavel'\u001b[0m: \u001b[32m''\u001b[0m,\n",
       "    \u001b[32m'Fiscais'\u001b[0m: \u001b[1m[\u001b[0m\u001b[1m]\u001b[0m,\n",
       "    \u001b[32m'Entidade_da_Inspecao'\u001b[0m: \u001b[1m[\u001b[0m\u001b[1m]\u001b[0m,\n",
       "    \u001b[32m'UF_Municipio'\u001b[0m: \u001b[1m[\u001b[0m\u001b[1m]\u001b[0m,\n",
       "    \u001b[32m'Servicos_da_Inspecao'\u001b[0m: \u001b[1m[\u001b[0m\n",
       "        \u001b[32m'026 - COLETIVO - RADIOENLACES ASSOCIADOS AO SERVIÇO DE CIRCUITO ESPECIALIZADO'\u001b[0m,\n",
       "        \u001b[32m'027 - COLETIVO - RADIOENLACES ASSOCIADOS AO SERVIÇO MÓVEL ESPECIALIZADO'\u001b[0m,\n",
       "        \u001b[32m'251 - RESTRITO - AUXILIAR RADIODIF.- TRANSMISS. DE PROGRAMAS'\u001b[0m,\n",
       "        \u001b[32m'029 - COLETIVO - RADIOENLACES ASSOCIADOS AO SERVIÇO LIMITADO ESPECIALIZADO'\u001b[0m,\n",
       "        \u001b[32m'015 - COLETIVO - RADIOENLACES ASSOCIADOS A SISTEMA DE SATÉLITES'\u001b[0m\n",
       "    \u001b[1m]\u001b[0m,\n",
       "    \u001b[32m'Horas_de_Preparacao'\u001b[0m: \u001b[32m''\u001b[0m,\n",
       "    \u001b[32m'Horas_de_Deslocamento'\u001b[0m: \u001b[32m''\u001b[0m,\n",
       "    \u001b[32m'Horas_de_Execucao'\u001b[0m: \u001b[32m''\u001b[0m,\n",
       "    \u001b[32m'Horas_de_Conclusao'\u001b[0m: \u001b[32m''\u001b[0m,\n",
       "    \u001b[32m'SAV'\u001b[0m: \u001b[32m''\u001b[0m,\n",
       "    \u001b[32m'PCDP'\u001b[0m: \u001b[32m''\u001b[0m,\n",
       "    \u001b[32m'Procedimentos'\u001b[0m: \u001b[1m[\u001b[0m\u001b[1m]\u001b[0m,\n",
       "    \u001b[32m'Agrupamento'\u001b[0m: \u001b[32m''\u001b[0m,\n",
       "    \u001b[32m'AppFiscaliza'\u001b[0m: \u001b[32m'0'\u001b[0m,\n",
       "    \u001b[32m'Relatorio_de_Monitoramento'\u001b[0m: \u001b[32m''\u001b[0m,\n",
       "    \u001b[32m'id_ACAO'\u001b[0m: \u001b[1;36m72088\u001b[0m,\n",
       "    \u001b[32m'nome_ACAO'\u001b[0m: \u001b[32m'ACAO_GR01_2021_0688'\u001b[0m,\n",
       "    \u001b[32m'descricao_ACAO'\u001b[0m: \u001b[32m''\u001b[0m,\n",
       "    \u001b[32m'Users'\u001b[0m: \u001b[1m[\u001b[0m\n",
       "        \u001b[32m'Alexandre Elias de Andrade Oliveira'\u001b[0m,\n",
       "        \u001b[32m'Alexandre Freitas de Lima'\u001b[0m,\n",
       "        \u001b[32m'Alexandre Inacio'\u001b[0m,\n",
       "        \u001b[32m'Alexandre Junzo Hamada'\u001b[0m,\n",
       "        \u001b[32m'Alfredo de Andrade Filho'\u001b[0m,\n",
       "        \u001b[32m'Ananias Pereira'\u001b[0m,\n",
       "        \u001b[32m'Antonio Carlos Cardoso de Mello'\u001b[0m,\n",
       "        \u001b[32m'Aparecido Sebastiao da Silva'\u001b[0m,\n",
       "        \u001b[32m'Arthur Pisaruk'\u001b[0m,\n",
       "        \u001b[32m'Carlos Augusto de Carvalho'\u001b[0m,\n",
       "        \u001b[32m'Carlos Eduardo Guimaraes Silveira'\u001b[0m,\n",
       "        \u001b[32m'Carlos da Paixao Filho'\u001b[0m,\n",
       "        \u001b[32m'Celio Yukio Takahashi'\u001b[0m,\n",
       "        \u001b[32m'Celso Luiz Maximino'\u001b[0m,\n",
       "        \u001b[32m'Diogo Caldeira'\u001b[0m,\n",
       "        \u001b[32m'Ediceu Beraldi'\u001b[0m,\n",
       "        \u001b[32m'Eduardo Narkevicius'\u001b[0m,\n",
       "        \u001b[32m'Elcio Maehara'\u001b[0m,\n",
       "        \u001b[32m'Eustaquio Lages Duarte'\u001b[0m,\n",
       "        \u001b[32m'Gauber Albuquerque'\u001b[0m,\n",
       "        \u001b[32m'Gilson Ponce Ayres Filho'\u001b[0m,\n",
       "        \u001b[32m'Helio Lopes de Carvalho Filho'\u001b[0m,\n",
       "        \u001b[32m'Higor da Paz Melo'\u001b[0m,\n",
       "        \u001b[32m'Hugo Santana Lima'\u001b[0m,\n",
       "        \u001b[32m'Humberto Barbosa Vinagre'\u001b[0m,\n",
       "        \u001b[32m'Jamilson Evangelista'\u001b[0m,\n",
       "        \u001b[32m'Joao Yokoyama'\u001b[0m,\n",
       "        \u001b[32m'Joaquim Miranda'\u001b[0m,\n",
       "        \u001b[32m'José Antônio S. Sanches'\u001b[0m,\n",
       "        \u001b[32m'Julio Cesar de Assis Santos'\u001b[0m,\n",
       "        \u001b[32m'Kiyotomo Kawamura'\u001b[0m,\n",
       "        \u001b[32m'Laert Calil Junior'\u001b[0m,\n",
       "        \u001b[32m'Lannei Vilela Moraes'\u001b[0m,\n",
       "        \u001b[32m'Luis Lagomes'\u001b[0m,\n",
       "        \u001b[32m'Luiz Vinicios Mielniczuk Seelig'\u001b[0m,\n",
       "        \u001b[32m'Marcelo Augusto Scacabarozi'\u001b[0m,\n",
       "        \u001b[32m'Marcelo Vaz Netto'\u001b[0m,\n",
       "        \u001b[32m'Marcio Colazingari'\u001b[0m,\n",
       "        \u001b[32m'Marcio Costa'\u001b[0m,\n",
       "        \u001b[32m'Marcio Rodrigues Maciel'\u001b[0m,\n",
       "        \u001b[32m'Marcos Antônio Rodrigues'\u001b[0m,\n",
       "        \u001b[32m'Marcos Juliano Valim da Silva'\u001b[0m,\n",
       "        \u001b[32m'Maria Teresa Flosi Garrafa'\u001b[0m,\n",
       "        \u001b[32m'Mario Augusto Volpini'\u001b[0m,\n",
       "        \u001b[32m'Murilo Amaro'\u001b[0m,\n",
       "        \u001b[32m'Osnir Lopes'\u001b[0m,\n",
       "        \u001b[32m'Paulo Diogo Costa'\u001b[0m,\n",
       "        \u001b[32m'Pedro Arai'\u001b[0m,\n",
       "        \u001b[32m'Renato Sadao Kushioyada'\u001b[0m,\n",
       "        \u001b[32m'Ricardo Santos Marques'\u001b[0m,\n",
       "        \u001b[32m'Ricardo da Silva e Souza'\u001b[0m,\n",
       "        \u001b[32m'Roberto Carlos Soares Campos'\u001b[0m,\n",
       "        \u001b[32m'Roberto Ferreira dos Santos'\u001b[0m,\n",
       "        \u001b[32m'Roberto Takata'\u001b[0m,\n",
       "        \u001b[32m'Rodrigo Barbosa de Paula'\u001b[0m,\n",
       "        \u001b[32m'Rogerio Zambotto'\u001b[0m,\n",
       "        \u001b[32m'Ronaldo da Silva Alves Batista'\u001b[0m,\n",
       "        \u001b[32m'Sergio Pereira'\u001b[0m,\n",
       "        \u001b[32m'Thiago Silva'\u001b[0m,\n",
       "        \u001b[32m'Thomaz Honma Ishida'\u001b[0m,\n",
       "        \u001b[32m'Vinicius Paiva de Oliveira'\u001b[0m,\n",
       "        \u001b[32m'Vitor Zelada'\u001b[0m,\n",
       "        \u001b[32m'Wellington Devechi Piauilino'\u001b[0m,\n",
       "        \u001b[32m'Wladimir Senise'\u001b[0m\n",
       "    \u001b[1m]\u001b[0m,\n",
       "    \u001b[32m'Atualizado'\u001b[0m: \u001b[32m'Atualizado por Ronaldo da Silva Alves Batista em 02/08/2021 às 11:00:49'\u001b[0m\n",
       "\u001b[1m}\u001b[0m\n"
      ]
     },
     "metadata": {},
     "output_type": "display_data"
    }
   ],
   "source": [
    "issue = '72120'\n",
    "detalhes = detalhar_issue(issue, login, senha, teste=True)\n",
    "console.print(detalhes)"
   ]
  },
  {
   "cell_type": "markdown",
   "metadata": {},
   "source": [
    "Agora vamos testar o retorno de informações para um Inspeção no Fiscaliza de produção `teste=False`."
   ]
  },
  {
   "cell_type": "markdown",
   "metadata": {},
   "source": [
    "### Validação de Dados e Formatação para submeter à API\n",
    "A função anterior somente retorna as informações já constantes em dada Inspeção ( Issue ) do Fiscaliza. Para alterarmos ou atualizarmos dada inspeção, precisamos passar um dicionário de dados ou um caminho para um arquivo `.json` ou pickle `.pkl` onde conste esse dicionário de dados serializado. O exemplo seguinte mostra um dicionário de dados com as informações básicas constantes de uma monitoração e a formatação que elas são validadas:"
   ]
  },
  {
   "cell_type": "code",
   "execution_count": null,
   "metadata": {},
   "outputs": [],
   "source": [
    "d = {}\n",
    "\n",
    "d['Classe_da_Inspecao'] = 'Técnica' # str\n",
    "\n",
    "d['Tipo_de_Inspecao'] = 'Uso do Espectro - Monitoração' #str\n",
    "\n",
    "d['description'] = '''Atendimento da Denúncia AC202010}213075425 (6104512), \n",
    "verificação da Potência e Intensidade de Campo Elétrico da Frequência 105.1MHz e seus harmônicos, \n",
    "além da checagem de Intermodulação e Espúrios nas frequências 450.3MHz e 750MHz.''' #str\n",
    "\n",
    "d['Fiscal_Responsavel'] = 'Ronaldo da Silva Alves Batista' #str\n",
    "\n",
    "d['Fiscais'] = ['Ronaldo da Silva Alves Batista', 'Paulo Diogo Costa', 'Mario Augusto Volpini'] #string ou lista de strings\n",
    "\n",
    "# Windows\n",
    "d['Html'] = r'D:\\OneDrive - ANATEL\\Monitoramento\\Processos\\53504.0005432021-55\\Sorocaba.html' #str\n",
    "\n",
    "#ou \n",
    "\n",
    "#Unix d['Html'] = '/d/OneDrive - ANATEL/Monitoramento/53504.0005432021-55/Guarulhos.html' #str\n",
    "            \n",
    "d['Gerar_Relatorio'] = 1 # int 0 ou 1\n",
    "\n",
    "d['Frequencia_Inicial']  = 54 #int ou float\n",
    "\n",
    "d['Unidade_da_Frequencia_Inicial'] = 'MHz' #string\n",
    "\n",
    "d['Frequencia_Final'] = 700 #int ou float\n",
    "\n",
    "d['Unidade_da_Frequencia_Final'] = 'MHz' #string\n",
    "\n",
    "d['start_date'] = '2021-03-19' #YYYY-MM-DD #string nesse formato\n",
    "\n",
    "d['due_date'] = '2021-12-31'  #YYYY-MM-DD #string nesse formato\n",
    "\n",
    "d['UF_Municipio'] = \"SP/São Paulo\" # string ou Lista de Strings: [\"SP/São Paulo\", \"SP/Sorocaba\"]\n",
    "\n",
    "d['Servicos_da_Inspecao'] = SERVICOS.keys() # String ou Lista de Strings\n",
    "\n",
    "d['Qnt_de_emissoes_na_faixa'] = 12 # int\n",
    "\n",
    "d['Emissoes_nao_autorizadas'] = 70 # int\n",
    "\n",
    "d['Horas_de_Preparacao'] = 2 # int\n",
    "\n",
    "d['Horas_de_Deslocamento'] = 0 # int\n",
    "\n",
    "d['Horas_de_Execucao'] = 32 # int\n",
    "\n",
    "d['Horas_de_Conclusao'] = 6 # int\n",
    "\n",
    "d['Latitude'] = -22.94694 # float\n",
    "\n",
    "d['Longitude'] = -43.21944 # float\n",
    "\n",
    "d['Uso_de_PF'] = 'Não se aplica PF - uso apenas de formulários' # string\n",
    "\n",
    "d['Acao_de_risco_a_vida_criada'] = 'Não' # string Sim | Não\n",
    "\n",
    "d['Impossibilidade_acesso_online'] = '0' # string '0' | '1'\n",
    "\n",
    "d['Reservar_Instrumentos'] = '0' #string '0' = Não | '1' = 'Sim'\n",
    "\n",
    "d['Utilizou_algum_instrumento'] = '0'\n",
    "\n",
    "#d['Reserva de Instrumentos'] = '' \n",
    "\n",
    "d['notes'] = \"Não foi constatada irregularidade no Período monitorado\" # string\n",
    "\n",
    "# No caso de uma tabela, string formatada como csv\n",
    "\n",
    "d['notes'] = [\"\"\"Faixa, Classe Especial, Classe A, Classe B, Classe C\n",
    "                VHF-L,0,5,7,5\n",
    "                VHF-H,0,12,1,0\n",
    "                UHF,1,1,2,4\n",
    "                FM,5,1,0,0\n",
    "                RADCOM,0,0,0,0\n",
    "                Outorgadas com indícios de irregularidades,1,2,3,4\n",
    "              \"\"\",\n",
    "              \"\"\"[{\"Banda\":\"87.800 - 108.000 MHz\",\"Sinais\":35,\"Licenciados\":31,\"NaoLicenciados\":4,\"NaoLicenciaveis\":0},\n",
    "                  {\"Banda\":\"470.000 - 698.000 MHz\",\"Sinais\":19,\"Licenciados\":19,\"NaoLicenciados\":0,\"NaoLicenciaveis\":0}]\n",
    "              \"\"\"]"
   ]
  },
  {
   "cell_type": "code",
   "execution_count": null,
   "metadata": {},
   "outputs": [],
   "source": [
    "f = auth_user(login, senha, teste=True)\n",
    "insp = f.issue.get(issue, include=[\"relations\", \"attachments\"])"
   ]
  },
  {
   "cell_type": "code",
   "execution_count": null,
   "metadata": {},
   "outputs": [],
   "source": [
    "f.issue.update(issue, custom_fields=[{'id': 535, 'value': ''}], status='Relatada')"
   ]
  },
  {
   "cell_type": "code",
   "execution_count": null,
   "metadata": {},
   "outputs": [
    {
     "data": {
      "text/plain": [
       "[('id', 213), ('name', 'Agrupamento'), ('value', '')]"
      ]
     },
     "execution_count": null,
     "metadata": {},
     "output_type": "execute_result"
    }
   ],
   "source": [
    "list(list(insp.custom_fields)[-3])"
   ]
  },
  {
   "cell_type": "code",
   "execution_count": null,
   "metadata": {},
   "outputs": [
    {
     "name": "stdout",
     "output_type": "stream",
     "text": [
      "\n"
     ]
    }
   ],
   "source": [
    "for i in insp.journals:\n",
    "    print(getattr(i, 'notes', None))"
   ]
  },
  {
   "cell_type": "code",
   "execution_count": null,
   "metadata": {},
   "outputs": [],
   "source": [
    "# d = {}\n",
    "\n",
    "# d['Classe_da_Inspecao'] = 'Técnica' # str\n",
    "\n",
    "# d['Tipo_de_Inspecao'] = 'Uso do Espectro - Monitoração' #str\n",
    "\n",
    "# d['description'] = '''[PRD-M21]SP Atendimento ao Plano de Ação de Fiscalização GR01FI3 (6595798). \n",
    "# Deverá ser fornecido um único relatório de atividades detalhado com análise da utilização do espectro de todas as faixas e, eventualmente, emissões fora de faixa, espúrios, harmônicos e produtos de intermodulação que afetem outras faixas de frequência. \n",
    "# Os resultados consolidados devem ser colocados no campo \"Notas\" do Fiscaliza conforme modelo definido no item 6.5.1.3 do Plano de Ação de Fiscalização GR01FI3 (6595798).''' #str\n",
    "\n",
    "# d['Fiscal_Responsavel'] = 'Paulo Diogo Costa' #str\n",
    "\n",
    "# d['Fiscais'] = ['Paulo Diogo Costa'] #string ou lista de strings\n",
    "\n",
    "# # Windows\n",
    "# d['Html'] = 'D:\\\\OneDrive - ANATEL\\\\Monitoramento\\\\Processos\\\\Diogo\\\\ETM\\\\Report_2021.06.14_T16.00.06_FinalVersion.html' #str\n",
    "\n",
    "# #ou \n",
    "\n",
    "# #Unix d['Html'] = '/d/OneDrive - ANATEL/Monitoramento/53504.0005432021-55/Guarulhos.html' #str\n",
    "            \n",
    "# d['Gerar_Relatorio'] = 0 # int 0 ou 1\n",
    "\n",
    "# d['Frequencia_Inicial']  = 54 #int ou float\n",
    "\n",
    "# d['Unidade_da_Frequencia_Inicial'] = 'MHz' #string\n",
    "\n",
    "# d['Frequencia_Final'] = 800 #int ou float\n",
    "\n",
    "# d['Unidade_da_Frequencia_Final'] = 'MHz' #string\n",
    "\n",
    "# d['start_date'] = '2021-03-15' #YYYY-MM-DD #string nesse formato\n",
    "\n",
    "# d['due_date'] = '2021-09-30'  #YYYY-MM-DD #string nesse formato\n",
    "\n",
    "# d['UF_Municipio'] = \"SP/Presidente Prudente\" # string ou Lista de Strings: [\"SP/São Paulo\", \"SP/Sorocaba\"]\n",
    "\n",
    "# d['Servicos_da_Inspecao'] = ['230', '231', '247', '801'] # String ou Lista de Strings\n",
    "\n",
    "# d['Qnt_de_emissoes_na_faixa'] = 20 # int\n",
    "\n",
    "# d['Emissoes_nao_autorizadas'] = 1 # int\n",
    "\n",
    "# d['Horas_de_Preparacao'] = 4 # int\n",
    "\n",
    "# d['Horas_de_Deslocamento'] = 6 # int\n",
    "\n",
    "# d['Horas_de_Execucao'] = 16 # int\n",
    "\n",
    "# d['Horas_de_Conclusao'] = 8 # int\n",
    "\n",
    "# d['Latitude'] = -22.117028 # float\n",
    "\n",
    "# d['Longitude'] = -51.405222 # float\n",
    "\n",
    "# d['Uso_de_PF'] = 'Não se aplica PF - uso apenas de formulários' # string\n",
    "\n",
    "# d['Acao_de_risco_a_vida_criada'] = 'Não' # string Sim | Não\n",
    "\n",
    "# d['Impossibilidade_acesso_online'] = '0' # string '0' | '1'\n",
    "\n",
    "# d['Reservar_Instrumentos'] = '0' #string '0' = Não | '1' = 'Sim'\n",
    "\n",
    "# d['Utilizou_algum_instrumento'] = '0'\n",
    "\n",
    "# #d['Reserva de Instrumentos'] = '' \n",
    "\n",
    "# # d['notes'] = \"Não foi constatada irregularidade no Período monitorado\" # string\n",
    "\n",
    "# # # No caso de uma tabela, string formatada como csv\n",
    "\n",
    "# d['notes'] = [\"\"\"Faixa, Classe Especial, Classe A, Classe B, Classe C\n",
    "#                 VHF-L,0,0,0,0\n",
    "#                 VHF-H,0,0,0,0\n",
    "#                 UHF,1,3,2,6\n",
    "#                 FM,0,6,1,0\n",
    "#                 RADCOM,0,0,0,0\n",
    "#                 Outorgadas com indícios de irregularidades,0,4,0,4\n",
    "#               \"\"\"]"
   ]
  },
  {
   "cell_type": "code",
   "execution_count": null,
   "metadata": {},
   "outputs": [],
   "source": [
    "# json.dump(d,  Path(\"D:/OneDrive - ANATEL/Code/fiscaliza/fiscaliza/files/data_pd.json\").open('w'))"
   ]
  },
  {
   "cell_type": "markdown",
   "metadata": {},
   "source": [
    "A API do Redmine possui formatos específicos de como esses campos devem ser submetidos, validar os formatos acima e fazer essa formatação exigida pela API do Redmine é o papel da função `validar_dicionario`."
   ]
  },
  {
   "cell_type": "code",
   "execution_count": null,
   "metadata": {},
   "outputs": [],
   "source": [
    "#hide\n",
    "show_doc(validar_dicionario)"
   ]
  },
  {
   "cell_type": "code",
   "execution_count": null,
   "metadata": {},
   "outputs": [],
   "source": [
    "dados = validar_dicionario(d, issue, login, senha, teste=True)"
   ]
  },
  {
   "cell_type": "code",
   "execution_count": null,
   "metadata": {},
   "outputs": [],
   "source": [
    "# json.dump(dados,  Path(\"D:/OneDrive - ANATEL/Code/fiscaliza/fiscaliza/files/dados_pd.json\").open('w'))"
   ]
  },
  {
   "cell_type": "code",
   "execution_count": null,
   "metadata": {},
   "outputs": [
    {
     "data": {
      "text/html": [
       "<pre style=\"white-space:pre;overflow-x:auto;line-height:normal;font-family:Menlo,'DejaVu Sans Mono',consolas,'Courier New',monospace\"><span style=\"color: #000080; text-decoration-color: #000080\">Classe_da_Inspecao </span><span style=\"color: #800000; text-decoration-color: #800000\">-&gt; </span><span style=\"color: #008000; text-decoration-color: #008000; font-weight: bold\">{</span><span style=\"color: #008000; text-decoration-color: #008000\">'id'</span><span style=\"color: #008000; text-decoration-color: #008000\">: </span><span style=\"color: #008000; text-decoration-color: #008000; font-weight: bold\">89</span><span style=\"color: #008000; text-decoration-color: #008000\">, </span><span style=\"color: #008000; text-decoration-color: #008000\">'value'</span><span style=\"color: #008000; text-decoration-color: #008000\">: </span><span style=\"color: #008000; text-decoration-color: #008000\">'{\"valor\":\"Técnica\",\"texto\":\"Técnica\"}'</span><span style=\"color: #008000; text-decoration-color: #008000; font-weight: bold\">}</span>\n",
       "</pre>\n"
      ],
      "text/plain": [
       "\u001b[34mClasse_da_Inspecao \u001b[0m\u001b[31m-> \u001b[0m\u001b[1;32m{\u001b[0m\u001b[32m'id'\u001b[0m\u001b[32m: \u001b[0m\u001b[1;32m89\u001b[0m\u001b[32m, \u001b[0m\u001b[32m'value'\u001b[0m\u001b[32m: \u001b[0m\u001b[32m'\u001b[0m\u001b[32m{\u001b[0m\u001b[32m\"valor\":\"Técnica\",\"texto\":\"Técnica\"\u001b[0m\u001b[32m}\u001b[0m\u001b[32m'\u001b[0m\u001b[1;32m}\u001b[0m\n"
      ]
     },
     "metadata": {},
     "output_type": "display_data"
    },
    {
     "data": {
      "text/html": [
       "<pre style=\"white-space:pre;overflow-x:auto;line-height:normal;font-family:Menlo,'DejaVu Sans Mono',consolas,'Courier New',monospace\"><span style=\"color: #000080; text-decoration-color: #000080\">Tipo_de_Inspecao </span><span style=\"color: #800000; text-decoration-color: #800000\">-&gt; </span><span style=\"color: #008000; text-decoration-color: #008000; font-weight: bold\">{</span><span style=\"color: #008000; text-decoration-color: #008000\">'id'</span><span style=\"color: #008000; text-decoration-color: #008000\">: </span><span style=\"color: #008000; text-decoration-color: #008000; font-weight: bold\">2</span><span style=\"color: #008000; text-decoration-color: #008000\">, </span><span style=\"color: #008000; text-decoration-color: #008000\">'value'</span><span style=\"color: #008000; text-decoration-color: #008000\">: </span><span style=\"color: #008000; text-decoration-color: #008000\">'{\"valor\":\"Uso do Espectro - Monitoração\",\"texto\":\"Uso</span>\n",
       "<span style=\"color: #008000; text-decoration-color: #008000\">do Espectro - Monitoração\"}'</span><span style=\"color: #008000; text-decoration-color: #008000; font-weight: bold\">}</span>\n",
       "</pre>\n"
      ],
      "text/plain": [
       "\u001b[34mTipo_de_Inspecao \u001b[0m\u001b[31m-> \u001b[0m\u001b[1;32m{\u001b[0m\u001b[32m'id'\u001b[0m\u001b[32m: \u001b[0m\u001b[1;32m2\u001b[0m\u001b[32m, \u001b[0m\u001b[32m'value'\u001b[0m\u001b[32m: \u001b[0m\u001b[32m'\u001b[0m\u001b[32m{\u001b[0m\u001b[32m\"valor\":\"Uso do Espectro - Monitoração\",\"texto\":\"Uso\u001b[0m\n",
       "\u001b[32mdo Espectro - Monitoração\"\u001b[0m\u001b[32m}\u001b[0m\u001b[32m'\u001b[0m\u001b[1;32m}\u001b[0m\n"
      ]
     },
     "metadata": {},
     "output_type": "display_data"
    },
    {
     "data": {
      "text/html": [
       "<pre style=\"white-space:pre;overflow-x:auto;line-height:normal;font-family:Menlo,'DejaVu Sans Mono',consolas,'Courier New',monospace\"><span style=\"color: #000080; text-decoration-color: #000080\">description </span><span style=\"color: #800000; text-decoration-color: #800000\">-&gt; </span><span style=\"color: #008000; text-decoration-color: #008000\">Atendimento da Denúncia AC202010</span><span style=\"color: #008000; text-decoration-color: #008000; font-weight: bold\">}</span><span style=\"color: #008000; text-decoration-color: #008000; font-weight: bold\">213075425</span><span style=\"color: #008000; text-decoration-color: #008000\"> </span><span style=\"color: #008000; text-decoration-color: #008000; font-weight: bold\">(</span><span style=\"color: #008000; text-decoration-color: #008000; font-weight: bold\">6104512</span><span style=\"color: #008000; text-decoration-color: #008000; font-weight: bold\">)</span><span style=\"color: #008000; text-decoration-color: #008000\">, </span>\n",
       "<span style=\"color: #008000; text-decoration-color: #008000\">verificação da Potência e Intensidade de Campo Elétrico da Frequência </span><span style=\"color: #008000; text-decoration-color: #008000; font-weight: bold\">105.</span><span style=\"color: #008000; text-decoration-color: #008000\">1MHz e seus </span>\n",
       "<span style=\"color: #008000; text-decoration-color: #008000\">harmônicos, </span>\n",
       "<span style=\"color: #008000; text-decoration-color: #008000\">além da checagem de Intermodulação e Espúrios nas frequências </span><span style=\"color: #008000; text-decoration-color: #008000; font-weight: bold\">450.</span><span style=\"color: #008000; text-decoration-color: #008000\">3MHz e 750MHz.</span>\n",
       "</pre>\n"
      ],
      "text/plain": [
       "\u001b[34mdescription \u001b[0m\u001b[31m-> \u001b[0m\u001b[32mAtendimento da Denúncia AC202010\u001b[0m\u001b[1;32m}\u001b[0m\u001b[1;32m213075425\u001b[0m\u001b[32m \u001b[0m\u001b[1;32m(\u001b[0m\u001b[1;32m6104512\u001b[0m\u001b[1;32m)\u001b[0m\u001b[32m, \u001b[0m\n",
       "\u001b[32mverificação da Potência e Intensidade de Campo Elétrico da Frequência \u001b[0m\u001b[1;32m105.\u001b[0m\u001b[32m1MHz e seus \u001b[0m\n",
       "\u001b[32mharmônicos, \u001b[0m\n",
       "\u001b[32malém da checagem de Intermodulação e Espúrios nas frequências \u001b[0m\u001b[1;32m450.\u001b[0m\u001b[32m3MHz e 750MHz.\u001b[0m\n"
      ]
     },
     "metadata": {},
     "output_type": "display_data"
    },
    {
     "data": {
      "text/html": [
       "<pre style=\"white-space:pre;overflow-x:auto;line-height:normal;font-family:Menlo,'DejaVu Sans Mono',consolas,'Courier New',monospace\"><span style=\"color: #000080; text-decoration-color: #000080\">Fiscal_Responsavel </span><span style=\"color: #800000; text-decoration-color: #800000\">-&gt; </span><span style=\"color: #008000; text-decoration-color: #008000; font-weight: bold\">{</span><span style=\"color: #008000; text-decoration-color: #008000\">'id'</span><span style=\"color: #008000; text-decoration-color: #008000\">: </span><span style=\"color: #008000; text-decoration-color: #008000; font-weight: bold\">25</span><span style=\"color: #008000; text-decoration-color: #008000\">, </span><span style=\"color: #008000; text-decoration-color: #008000\">'value'</span><span style=\"color: #008000; text-decoration-color: #008000\">: </span><span style=\"color: #008000; text-decoration-color: #008000; font-weight: bold\">887</span><span style=\"color: #008000; text-decoration-color: #008000; font-weight: bold\">}</span>\n",
       "</pre>\n"
      ],
      "text/plain": [
       "\u001b[34mFiscal_Responsavel \u001b[0m\u001b[31m-> \u001b[0m\u001b[1;32m{\u001b[0m\u001b[32m'id'\u001b[0m\u001b[32m: \u001b[0m\u001b[1;32m25\u001b[0m\u001b[32m, \u001b[0m\u001b[32m'value'\u001b[0m\u001b[32m: \u001b[0m\u001b[1;32m887\u001b[0m\u001b[1;32m}\u001b[0m\n"
      ]
     },
     "metadata": {},
     "output_type": "display_data"
    },
    {
     "data": {
      "text/html": [
       "<pre style=\"white-space:pre;overflow-x:auto;line-height:normal;font-family:Menlo,'DejaVu Sans Mono',consolas,'Courier New',monospace\"><span style=\"color: #000080; text-decoration-color: #000080\">Fiscais </span><span style=\"color: #800000; text-decoration-color: #800000\">-&gt; </span><span style=\"color: #008000; text-decoration-color: #008000; font-weight: bold\">{</span><span style=\"color: #008000; text-decoration-color: #008000\">'id'</span><span style=\"color: #008000; text-decoration-color: #008000\">: </span><span style=\"color: #008000; text-decoration-color: #008000; font-weight: bold\">26</span><span style=\"color: #008000; text-decoration-color: #008000\">, </span><span style=\"color: #008000; text-decoration-color: #008000\">'value'</span><span style=\"color: #008000; text-decoration-color: #008000\">: </span><span style=\"color: #008000; text-decoration-color: #008000; font-weight: bold\">[</span><span style=\"color: #008000; text-decoration-color: #008000; font-weight: bold\">887</span><span style=\"color: #008000; text-decoration-color: #008000\">, </span><span style=\"color: #008000; text-decoration-color: #008000; font-weight: bold\">607</span><span style=\"color: #008000; text-decoration-color: #008000\">, </span><span style=\"color: #008000; text-decoration-color: #008000; font-weight: bold\">165</span><span style=\"color: #008000; text-decoration-color: #008000; font-weight: bold\">]}</span>\n",
       "</pre>\n"
      ],
      "text/plain": [
       "\u001b[34mFiscais \u001b[0m\u001b[31m-> \u001b[0m\u001b[1;32m{\u001b[0m\u001b[32m'id'\u001b[0m\u001b[32m: \u001b[0m\u001b[1;32m26\u001b[0m\u001b[32m, \u001b[0m\u001b[32m'value'\u001b[0m\u001b[32m: \u001b[0m\u001b[1;32m[\u001b[0m\u001b[1;32m887\u001b[0m\u001b[32m, \u001b[0m\u001b[1;32m607\u001b[0m\u001b[32m, \u001b[0m\u001b[1;32m165\u001b[0m\u001b[1;32m]\u001b[0m\u001b[1;32m}\u001b[0m\n"
      ]
     },
     "metadata": {},
     "output_type": "display_data"
    },
    {
     "data": {
      "text/html": [
       "<pre style=\"white-space:pre;overflow-x:auto;line-height:normal;font-family:Menlo,'DejaVu Sans Mono',consolas,'Courier New',monospace\"><span style=\"color: #000080; text-decoration-color: #000080\">Html </span><span style=\"color: #800000; text-decoration-color: #800000\">-&gt; </span><span style=\"color: #008000; text-decoration-color: #008000; font-weight: bold\">{</span><span style=\"color: #008000; text-decoration-color: #008000\">'id'</span><span style=\"color: #008000; text-decoration-color: #008000\">: </span><span style=\"color: #008000; text-decoration-color: #008000; font-weight: bold\">543</span><span style=\"color: #008000; text-decoration-color: #008000\">, </span><span style=\"color: #008000; text-decoration-color: #008000\">'value'</span><span style=\"color: #008000; text-decoration-color: #008000\">: '</span><span style=\"color: #008000; text-decoration-color: #008000; font-weight: bold\">&lt;</span><span style=\"color: #008000; text-decoration-color: #008000\">!DOCTYPE html PUBLIC </span><span style=\"color: #008000; text-decoration-color: #008000\">\"-//W3C//DTD HTML 4.01//EN\"</span><span style=\"color: #008000; text-decoration-color: #008000\"> </span>\n",
       "<span style=\"color: #008000; text-decoration-color: #008000\">\"</span><span style=\"color: #008000; text-decoration-color: #008000; text-decoration: underline\">http://www.w3.org/TR/html4/</span>\n",
       "<span style=\"color: #008000; text-decoration-color: #008000\">...</span>\n",
       "<span style=\"color: #008000; text-decoration-color: #008000\">nte do exposto, conclui-se este relat&amp;oacute;rio </span>\n",
       "<span style=\"color: #008000; text-decoration-color: #008000\">de\\n\\t\\tatividades.\\n\\t&lt;/p</span><span style=\"color: #008000; text-decoration-color: #008000; font-weight: bold\">&gt;</span><span style=\"color: #008000; text-decoration-color: #008000\">\\n\\n</span><span style=\"color: #008000; text-decoration-color: #008000; font-weight: bold\">&lt;</span><span style=\"color: #008000; text-decoration-color: #008000\">/body</span><span style=\"color: #008000; text-decoration-color: #008000; font-weight: bold\">&gt;</span><span style=\"color: #008000; text-decoration-color: #008000\">\\n\\n</span><span style=\"color: #008000; text-decoration-color: #008000; font-weight: bold\">&lt;</span><span style=\"color: #008000; text-decoration-color: #008000\">/html</span><span style=\"color: #008000; text-decoration-color: #008000; font-weight: bold\">&gt;</span><span style=\"color: #008000; text-decoration-color: #008000\">'</span><span style=\"color: #008000; text-decoration-color: #008000; font-weight: bold\">}</span>\n",
       "</pre>\n"
      ],
      "text/plain": [
       "\u001b[34mHtml \u001b[0m\u001b[31m-> \u001b[0m\u001b[1;32m{\u001b[0m\u001b[32m'id'\u001b[0m\u001b[32m: \u001b[0m\u001b[1;32m543\u001b[0m\u001b[32m, \u001b[0m\u001b[32m'value'\u001b[0m\u001b[32m: '\u001b[0m\u001b[1;32m<\u001b[0m\u001b[32m!DOCTYPE html PUBLIC \u001b[0m\u001b[32m\"-//W3C//DTD HTML 4.01//EN\"\u001b[0m\u001b[32m \u001b[0m\n",
       "\u001b[32m\"\u001b[0m\u001b[4;32mhttp://www.w3.org/TR/html4/\u001b[0m\n",
       "\u001b[32m...\u001b[0m\n",
       "\u001b[32mnte do exposto, conclui-se este relat&oacute;rio \u001b[0m\n",
       "\u001b[32mde\\n\\t\\tatividades.\\n\\t<\u001b[0m\u001b[32m/\u001b[0m\u001b[32mp\u001b[0m\u001b[1;32m>\u001b[0m\u001b[32m\\n\\n\u001b[0m\u001b[1;32m<\u001b[0m\u001b[32m/\u001b[0m\u001b[32mbody\u001b[0m\u001b[1;32m>\u001b[0m\u001b[32m\\n\\n\u001b[0m\u001b[1;32m<\u001b[0m\u001b[32m/\u001b[0m\u001b[32mhtml\u001b[0m\u001b[1;32m>\u001b[0m\u001b[32m'\u001b[0m\u001b[1;32m}\u001b[0m\n"
      ]
     },
     "metadata": {},
     "output_type": "display_data"
    },
    {
     "data": {
      "text/html": [
       "<pre style=\"white-space:pre;overflow-x:auto;line-height:normal;font-family:Menlo,'DejaVu Sans Mono',consolas,'Courier New',monospace\"><span style=\"color: #000080; text-decoration-color: #000080\">Gerar_Relatorio </span><span style=\"color: #800000; text-decoration-color: #800000\">-&gt; </span><span style=\"color: #008000; text-decoration-color: #008000; font-weight: bold\">{</span><span style=\"color: #008000; text-decoration-color: #008000\">'id'</span><span style=\"color: #008000; text-decoration-color: #008000\">: </span><span style=\"color: #008000; text-decoration-color: #008000; font-weight: bold\">541</span><span style=\"color: #008000; text-decoration-color: #008000\">, </span><span style=\"color: #008000; text-decoration-color: #008000\">'value'</span><span style=\"color: #008000; text-decoration-color: #008000\">: </span><span style=\"color: #008000; text-decoration-color: #008000; font-weight: bold\">1</span><span style=\"color: #008000; text-decoration-color: #008000; font-weight: bold\">}</span>\n",
       "</pre>\n"
      ],
      "text/plain": [
       "\u001b[34mGerar_Relatorio \u001b[0m\u001b[31m-> \u001b[0m\u001b[1;32m{\u001b[0m\u001b[32m'id'\u001b[0m\u001b[32m: \u001b[0m\u001b[1;32m541\u001b[0m\u001b[32m, \u001b[0m\u001b[32m'value'\u001b[0m\u001b[32m: \u001b[0m\u001b[1;32m1\u001b[0m\u001b[1;32m}\u001b[0m\n"
      ]
     },
     "metadata": {},
     "output_type": "display_data"
    },
    {
     "data": {
      "text/html": [
       "<pre style=\"white-space:pre;overflow-x:auto;line-height:normal;font-family:Menlo,'DejaVu Sans Mono',consolas,'Courier New',monospace\"><span style=\"color: #000080; text-decoration-color: #000080\">Frequencia_Inicial </span><span style=\"color: #800000; text-decoration-color: #800000\">-&gt; </span><span style=\"color: #008000; text-decoration-color: #008000; font-weight: bold\">{</span><span style=\"color: #008000; text-decoration-color: #008000\">'id'</span><span style=\"color: #008000; text-decoration-color: #008000\">: </span><span style=\"color: #008000; text-decoration-color: #008000; font-weight: bold\">156</span><span style=\"color: #008000; text-decoration-color: #008000\">, </span><span style=\"color: #008000; text-decoration-color: #008000\">'value'</span><span style=\"color: #008000; text-decoration-color: #008000\">: </span><span style=\"color: #008000; text-decoration-color: #008000; font-weight: bold\">54</span><span style=\"color: #008000; text-decoration-color: #008000; font-weight: bold\">}</span>\n",
       "</pre>\n"
      ],
      "text/plain": [
       "\u001b[34mFrequencia_Inicial \u001b[0m\u001b[31m-> \u001b[0m\u001b[1;32m{\u001b[0m\u001b[32m'id'\u001b[0m\u001b[32m: \u001b[0m\u001b[1;32m156\u001b[0m\u001b[32m, \u001b[0m\u001b[32m'value'\u001b[0m\u001b[32m: \u001b[0m\u001b[1;32m54\u001b[0m\u001b[1;32m}\u001b[0m\n"
      ]
     },
     "metadata": {},
     "output_type": "display_data"
    },
    {
     "data": {
      "text/html": [
       "<pre style=\"white-space:pre;overflow-x:auto;line-height:normal;font-family:Menlo,'DejaVu Sans Mono',consolas,'Courier New',monospace\"><span style=\"color: #000080; text-decoration-color: #000080\">Unidade_da_Frequencia_Inicial </span><span style=\"color: #800000; text-decoration-color: #800000\">-&gt; </span><span style=\"color: #008000; text-decoration-color: #008000; font-weight: bold\">{</span><span style=\"color: #008000; text-decoration-color: #008000\">'id'</span><span style=\"color: #008000; text-decoration-color: #008000\">: </span><span style=\"color: #008000; text-decoration-color: #008000; font-weight: bold\">157</span><span style=\"color: #008000; text-decoration-color: #008000\">, </span><span style=\"color: #008000; text-decoration-color: #008000\">'value'</span><span style=\"color: #008000; text-decoration-color: #008000\">: </span><span style=\"color: #008000; text-decoration-color: #008000\">'MHz'</span><span style=\"color: #008000; text-decoration-color: #008000; font-weight: bold\">}</span>\n",
       "</pre>\n"
      ],
      "text/plain": [
       "\u001b[34mUnidade_da_Frequencia_Inicial \u001b[0m\u001b[31m-> \u001b[0m\u001b[1;32m{\u001b[0m\u001b[32m'id'\u001b[0m\u001b[32m: \u001b[0m\u001b[1;32m157\u001b[0m\u001b[32m, \u001b[0m\u001b[32m'value'\u001b[0m\u001b[32m: \u001b[0m\u001b[32m'MHz'\u001b[0m\u001b[1;32m}\u001b[0m\n"
      ]
     },
     "metadata": {},
     "output_type": "display_data"
    },
    {
     "data": {
      "text/html": [
       "<pre style=\"white-space:pre;overflow-x:auto;line-height:normal;font-family:Menlo,'DejaVu Sans Mono',consolas,'Courier New',monospace\"><span style=\"color: #000080; text-decoration-color: #000080\">Frequencia_Final </span><span style=\"color: #800000; text-decoration-color: #800000\">-&gt; </span><span style=\"color: #008000; text-decoration-color: #008000; font-weight: bold\">{</span><span style=\"color: #008000; text-decoration-color: #008000\">'id'</span><span style=\"color: #008000; text-decoration-color: #008000\">: </span><span style=\"color: #008000; text-decoration-color: #008000; font-weight: bold\">158</span><span style=\"color: #008000; text-decoration-color: #008000\">, </span><span style=\"color: #008000; text-decoration-color: #008000\">'value'</span><span style=\"color: #008000; text-decoration-color: #008000\">: </span><span style=\"color: #008000; text-decoration-color: #008000; font-weight: bold\">700</span><span style=\"color: #008000; text-decoration-color: #008000; font-weight: bold\">}</span>\n",
       "</pre>\n"
      ],
      "text/plain": [
       "\u001b[34mFrequencia_Final \u001b[0m\u001b[31m-> \u001b[0m\u001b[1;32m{\u001b[0m\u001b[32m'id'\u001b[0m\u001b[32m: \u001b[0m\u001b[1;32m158\u001b[0m\u001b[32m, \u001b[0m\u001b[32m'value'\u001b[0m\u001b[32m: \u001b[0m\u001b[1;32m700\u001b[0m\u001b[1;32m}\u001b[0m\n"
      ]
     },
     "metadata": {},
     "output_type": "display_data"
    },
    {
     "data": {
      "text/html": [
       "<pre style=\"white-space:pre;overflow-x:auto;line-height:normal;font-family:Menlo,'DejaVu Sans Mono',consolas,'Courier New',monospace\"><span style=\"color: #000080; text-decoration-color: #000080\">Unidade_da_Frequencia_Final </span><span style=\"color: #800000; text-decoration-color: #800000\">-&gt; </span><span style=\"color: #008000; text-decoration-color: #008000; font-weight: bold\">{</span><span style=\"color: #008000; text-decoration-color: #008000\">'id'</span><span style=\"color: #008000; text-decoration-color: #008000\">: </span><span style=\"color: #008000; text-decoration-color: #008000; font-weight: bold\">159</span><span style=\"color: #008000; text-decoration-color: #008000\">, </span><span style=\"color: #008000; text-decoration-color: #008000\">'value'</span><span style=\"color: #008000; text-decoration-color: #008000\">: </span><span style=\"color: #008000; text-decoration-color: #008000\">'MHz'</span><span style=\"color: #008000; text-decoration-color: #008000; font-weight: bold\">}</span>\n",
       "</pre>\n"
      ],
      "text/plain": [
       "\u001b[34mUnidade_da_Frequencia_Final \u001b[0m\u001b[31m-> \u001b[0m\u001b[1;32m{\u001b[0m\u001b[32m'id'\u001b[0m\u001b[32m: \u001b[0m\u001b[1;32m159\u001b[0m\u001b[32m, \u001b[0m\u001b[32m'value'\u001b[0m\u001b[32m: \u001b[0m\u001b[32m'MHz'\u001b[0m\u001b[1;32m}\u001b[0m\n"
      ]
     },
     "metadata": {},
     "output_type": "display_data"
    },
    {
     "data": {
      "text/html": [
       "<pre style=\"white-space:pre;overflow-x:auto;line-height:normal;font-family:Menlo,'DejaVu Sans Mono',consolas,'Courier New',monospace\"><span style=\"color: #000080; text-decoration-color: #000080\">start_date </span><span style=\"color: #800000; text-decoration-color: #800000\">-&gt; </span><span style=\"color: #008000; text-decoration-color: #008000; font-weight: bold\">2021</span><span style=\"color: #008000; text-decoration-color: #008000\">-</span><span style=\"color: #008000; text-decoration-color: #008000; font-weight: bold\">03</span><span style=\"color: #008000; text-decoration-color: #008000\">-</span><span style=\"color: #008000; text-decoration-color: #008000; font-weight: bold\">19</span>\n",
       "</pre>\n"
      ],
      "text/plain": [
       "\u001b[34mstart_date \u001b[0m\u001b[31m-> \u001b[0m\u001b[1;32m2021\u001b[0m\u001b[32m-\u001b[0m\u001b[1;32m03\u001b[0m\u001b[32m-\u001b[0m\u001b[1;32m19\u001b[0m\n"
      ]
     },
     "metadata": {},
     "output_type": "display_data"
    },
    {
     "data": {
      "text/html": [
       "<pre style=\"white-space:pre;overflow-x:auto;line-height:normal;font-family:Menlo,'DejaVu Sans Mono',consolas,'Courier New',monospace\"><span style=\"color: #000080; text-decoration-color: #000080\">due_date </span><span style=\"color: #800000; text-decoration-color: #800000\">-&gt; </span><span style=\"color: #008000; text-decoration-color: #008000; font-weight: bold\">2021</span><span style=\"color: #008000; text-decoration-color: #008000\">-</span><span style=\"color: #008000; text-decoration-color: #008000; font-weight: bold\">12</span><span style=\"color: #008000; text-decoration-color: #008000\">-</span><span style=\"color: #008000; text-decoration-color: #008000; font-weight: bold\">31</span>\n",
       "</pre>\n"
      ],
      "text/plain": [
       "\u001b[34mdue_date \u001b[0m\u001b[31m-> \u001b[0m\u001b[1;32m2021\u001b[0m\u001b[32m-\u001b[0m\u001b[1;32m12\u001b[0m\u001b[32m-\u001b[0m\u001b[1;32m31\u001b[0m\n"
      ]
     },
     "metadata": {},
     "output_type": "display_data"
    },
    {
     "data": {
      "text/html": [
       "<pre style=\"white-space:pre;overflow-x:auto;line-height:normal;font-family:Menlo,'DejaVu Sans Mono',consolas,'Courier New',monospace\"><span style=\"color: #000080; text-decoration-color: #000080\">UF_Municipio </span><span style=\"color: #800000; text-decoration-color: #800000\">-&gt; </span><span style=\"color: #008000; text-decoration-color: #008000; font-weight: bold\">{</span><span style=\"color: #008000; text-decoration-color: #008000\">'id'</span><span style=\"color: #008000; text-decoration-color: #008000\">: </span><span style=\"color: #008000; text-decoration-color: #008000; font-weight: bold\">31</span><span style=\"color: #008000; text-decoration-color: #008000\">, </span><span style=\"color: #008000; text-decoration-color: #008000\">'value'</span><span style=\"color: #008000; text-decoration-color: #008000\">: </span><span style=\"color: #008000; text-decoration-color: #008000; font-weight: bold\">[</span><span style=\"color: #008000; text-decoration-color: #008000\">'{\"valor\":\"SP/São Paulo\",\"texto\":\"SP/São Paulo\"}'</span><span style=\"color: #008000; text-decoration-color: #008000; font-weight: bold\">]}</span>\n",
       "</pre>\n"
      ],
      "text/plain": [
       "\u001b[34mUF_Municipio \u001b[0m\u001b[31m-> \u001b[0m\u001b[1;32m{\u001b[0m\u001b[32m'id'\u001b[0m\u001b[32m: \u001b[0m\u001b[1;32m31\u001b[0m\u001b[32m, \u001b[0m\u001b[32m'value'\u001b[0m\u001b[32m: \u001b[0m\u001b[1;32m[\u001b[0m\u001b[32m'\u001b[0m\u001b[32m{\u001b[0m\u001b[32m\"valor\":\"SP/São Paulo\",\"texto\":\"SP/São Paulo\"\u001b[0m\u001b[32m}\u001b[0m\u001b[32m'\u001b[0m\u001b[1;32m]\u001b[0m\u001b[1;32m}\u001b[0m\n"
      ]
     },
     "metadata": {},
     "output_type": "display_data"
    },
    {
     "data": {
      "text/html": [
       "<pre style=\"white-space:pre;overflow-x:auto;line-height:normal;font-family:Menlo,'DejaVu Sans Mono',consolas,'Courier New',monospace\"><span style=\"color: #000080; text-decoration-color: #000080\">Servicos_da_Inspecao </span><span style=\"color: #800000; text-decoration-color: #800000\">-&gt; </span><span style=\"color: #008000; text-decoration-color: #008000; font-weight: bold\">{</span><span style=\"color: #008000; text-decoration-color: #008000\">'id'</span><span style=\"color: #008000; text-decoration-color: #008000\">: </span><span style=\"color: #008000; text-decoration-color: #008000; font-weight: bold\">57</span><span style=\"color: #008000; text-decoration-color: #008000\">, </span><span style=\"color: #008000; text-decoration-color: #008000\">'value'</span><span style=\"color: #008000; text-decoration-color: #008000\">: </span><span style=\"color: #008000; text-decoration-color: #008000; font-weight: bold\">[</span><span style=\"color: #008000; text-decoration-color: #008000\">'{\"valor\":\"000 - Não Aplicável\",\"texto\":\"000 - </span>\n",
       "<span style=\"color: #008000; text-decoration-color: #008000\">Não Aplicável\"}'</span><span style=\"color: #008000; text-decoration-color: #008000\">, </span><span style=\"color: #008000; text-decoration-color: #008000\">'{\"valor\":\"001 - COLETIVO - SERVIÇO DE INTERESSE COLETIVO\",\"texto\":\"001 - </span>\n",
       "<span style=\"color: #008000; text-decoration-color: #008000\">COLETIVO - SERVIÇO DE INTERESSE COLETIVO\"}'</span><span style=\"color: #008000; text-decoration-color: #008000\">, </span><span style=\"color: #008000; text-decoration-color: #008000\">'{\"valor\":\"002 - RESTRITO - SERVIÇO DE INTERESSE</span>\n",
       "<span style=\"color: #008000; text-decoration-color: #008000\">RESTRITO\",\"texto\":\"002 - RESTRITO - SERVIÇO DE INTERESSE RESTRITO\"}'</span><span style=\"color: #008000; text-decoration-color: #008000\">, </span><span style=\"color: #008000; text-decoration-color: #008000\">'{\"valor\":\"010 - </span>\n",
       "<span style=\"color: #008000; text-decoration-color: #008000\">COLETIVO - SERVIÇO MOVEL PESSOAL\",\"texto\":\"010 - COLETIVO - SERVIÇO MOVEL PESSOAL\"}'</span><span style=\"color: #008000; text-decoration-color: #008000\">, </span>\n",
       "<span style=\"color: #008000; text-decoration-color: #008000\">'{\"valor\":\"011 - RESTRITO - LIMITADO PRIVADO - PRESTAÇÃO A TERCEIROS\",\"texto\":\"011 - RESTRITO</span>\n",
       "<span style=\"color: #008000; text-decoration-color: #008000\">- LIMITADO PRIVADO - PRESTAÇÃO A TERCEIROS\"}'</span><span style=\"color: #008000; text-decoration-color: #008000\">, </span><span style=\"color: #008000; text-decoration-color: #008000\">'{\"valor\":\"012 - RESTRITO - RADIOENLACES </span>\n",
       "<span style=\"color: #008000; text-decoration-color: #008000\">ASSOCIADOS AO SERVIÇO MÓVEL PRIVADO\",\"texto\":\"012 - RESTRITO - RADIOENLACES ASSOCIADOS AO </span>\n",
       "<span style=\"color: #008000; text-decoration-color: #008000\">SERVIÇO MÓVEL PRIVADO\"}'</span><span style=\"color: #008000; text-decoration-color: #008000\">, </span><span style=\"color: #008000; text-decoration-color: #008000\">'{\"valor\":\"013 - COLETIVO - RADIOENLACES ASSOCIADOS AO SERVIÇO </span>\n",
       "<span style=\"color: #008000; text-decoration-color: #008000\">ESPECIALIZADO RADIOCHAMADA\",\"texto\":\"013 - COLETIVO - RADIOENLACES ASSOCIADOS AO SERVIÇO </span>\n",
       "<span style=\"color: #008000; text-decoration-color: #008000\">ESPECIALIZADO RADIOCHAMADA\"}'</span><span style=\"color: #008000; text-decoration-color: #008000\">, </span><span style=\"color: #008000; text-decoration-color: #008000\">'{\"valor\":\"014 - RESTRITO - RADIOENLACES ASSOCIADOS AO SERVIÇO</span>\n",
       "<span style=\"color: #008000; text-decoration-color: #008000\">DE REDE ESPECIALIZADO\",\"texto\":\"014 - RESTRITO - RADIOENLACES ASSOCIADOS AO SERVIÇO DE REDE </span>\n",
       "<span style=\"color: #008000; text-decoration-color: #008000\">ESPECIALIZADO\"}'</span><span style=\"color: #008000; text-decoration-color: #008000\">, </span><span style=\"color: #008000; text-decoration-color: #008000\">'{\"valor\":\"015 - COLETIVO - RADIOENLACES ASSOCIADOS A SISTEMA DE </span>\n",
       "<span style=\"color: #008000; text-decoration-color: #008000\">SATÉLITES\",\"texto\":\"015 - COLETIVO - RADIOENLACES ASSOCIADOS A SISTEMA DE SATÉLITES\"}'</span><span style=\"color: #008000; text-decoration-color: #008000\">, </span>\n",
       "<span style=\"color: #008000; text-decoration-color: #008000\">'{\"valor\":\"016 - COLETIVO - RADIOENLACES ASSOCIADOS AO SERVIÇO POR LINHA </span>\n",
       "<span style=\"color: #008000; text-decoration-color: #008000\">DEDICADA\",\"texto\":\"016 - COLETIVO - RADIOENLACES ASSOCIADOS AO SERVIÇO POR LINHA DEDICADA\"}'</span><span style=\"color: #008000; text-decoration-color: #008000\">,</span>\n",
       "<span style=\"color: #008000; text-decoration-color: #008000\">'{\"valor\":\"017 - RESTRITO - LIMITADO ESPECIALIZADO\",\"texto\":\"017 - RESTRITO - LIMITADO </span>\n",
       "<span style=\"color: #008000; text-decoration-color: #008000\">ESPECIALIZADO\"}'</span><span style=\"color: #008000; text-decoration-color: #008000\">, </span><span style=\"color: #008000; text-decoration-color: #008000\">'{\"valor\":\"019 - RESTRITO - LIMITADO PRIVADO\",\"texto\":\"019 - RESTRITO - </span>\n",
       "<span style=\"color: #008000; text-decoration-color: #008000\">LIMITADO PRIVADO\"}'</span><span style=\"color: #008000; text-decoration-color: #008000\">, </span><span style=\"color: #008000; text-decoration-color: #008000\">'{\"valor\":\"020 - COLETIVO - SERVIÇO MOVEL ESPECIALIZADO\",\"texto\":\"020 - </span>\n",
       "<span style=\"color: #008000; text-decoration-color: #008000\">COLETIVO - SERVIÇO MOVEL ESPECIALIZADO\"}'</span><span style=\"color: #008000; text-decoration-color: #008000\">, </span><span style=\"color: #008000; text-decoration-color: #008000\">'{\"valor\":\"021 - RESTRITO - LIMITADO - FIBRAS </span>\n",
       "<span style=\"color: #008000; text-decoration-color: #008000\">ÓTICAS\",\"texto\":\"021 - RESTRITO - LIMITADO - FIBRAS ÓTICAS\"}'</span><span style=\"color: #008000; text-decoration-color: #008000\">, </span><span style=\"color: #008000; text-decoration-color: #008000\">'{\"valor\":\"023 - RESTRITO - </span>\n",
       "<span style=\"color: #008000; text-decoration-color: #008000\">SERVIÇO LIMITADO MOVEL PRIVATIVO\",\"texto\":\"023 - RESTRITO - SERVIÇO LIMITADO MOVEL </span>\n",
       "<span style=\"color: #008000; text-decoration-color: #008000\">PRIVATIVO\"}'</span><span style=\"color: #008000; text-decoration-color: #008000\">, </span><span style=\"color: #008000; text-decoration-color: #008000\">'{\"valor\":\"024 - COLETIVO - RADIOENLACES ASSOCIADOS AO SERVIÇO ESPECIALIZADO </span>\n",
       "<span style=\"color: #008000; text-decoration-color: #008000\">REPETIÇÃO SINAL ÁUDIO\",\"texto\":\"024 - COLETIVO - RADIOENLACES ASSOCIADOS AO SERVIÇO </span>\n",
       "<span style=\"color: #008000; text-decoration-color: #008000\">ESPECIALIZADO REPETIÇÃO SINAL ÁUDIO\"}'</span><span style=\"color: #008000; text-decoration-color: #008000\">, </span><span style=\"color: #008000; text-decoration-color: #008000\">'{\"valor\":\"025 - COLETIVO - RADIOENLACES ASSOCIADOS </span>\n",
       "<span style=\"color: #008000; text-decoration-color: #008000\">AO SERVIÇO ESPECIALIZADO REPETIÇÃO TV/VÍDEO\",\"texto\":\"025 - COLETIVO - RADIOENLACES </span>\n",
       "<span style=\"color: #008000; text-decoration-color: #008000\">ASSOCIADOS AO SERVIÇO ESPECIALIZADO REPETIÇÃO TV/VÍDEO\"}'</span><span style=\"color: #008000; text-decoration-color: #008000\">, </span><span style=\"color: #008000; text-decoration-color: #008000\">'{\"valor\":\"026 - RESTRITO - </span>\n",
       "<span style=\"color: #008000; text-decoration-color: #008000\">RADIOENLACES ASSOCIADOS AO SERVIÇO DE CIRCUITO ESPECIALIZADO\",\"texto\":\"026 - RESTRITO - </span>\n",
       "<span style=\"color: #008000; text-decoration-color: #008000\">RADIOENLACES ASSOCIADOS AO SERVIÇO DE CIRCUITO ESPECIALIZADO\"}'</span><span style=\"color: #008000; text-decoration-color: #008000\">, </span><span style=\"color: #008000; text-decoration-color: #008000\">'{\"valor\":\"027 - COLETIVO - </span>\n",
       "<span style=\"color: #008000; text-decoration-color: #008000\">RADIOENLACES ASSOCIADOS AO SERVIÇO MÓVEL ESPECIALIZADO\",\"texto\":\"027 - COLETIVO - </span>\n",
       "<span style=\"color: #008000; text-decoration-color: #008000\">RADIOENLACES ASSOCIADOS AO SERVIÇO MÓVEL ESPECIALIZADO\"}'</span><span style=\"color: #008000; text-decoration-color: #008000\">, </span><span style=\"color: #008000; text-decoration-color: #008000\">'{\"valor\":\"028 - RESTRITO - </span>\n",
       "<span style=\"color: #008000; text-decoration-color: #008000\">LIMITADO PRIVADO ESTAÇÕES ITINERANTES\",\"texto\":\"028 - RESTRITO - LIMITADO PRIVADO ESTAÇÕES </span>\n",
       "<span style=\"color: #008000; text-decoration-color: #008000\">ITINERANTES\"}'</span><span style=\"color: #008000; text-decoration-color: #008000\">, </span><span style=\"color: #008000; text-decoration-color: #008000\">'{\"valor\":\"029 - COLETIVO - RADIOENLACES ASSOCIADOS AO SERVIÇO LIMITADO </span>\n",
       "<span style=\"color: #008000; text-decoration-color: #008000\">ESPECIALIZADO\",\"texto\":\"029 - COLETIVO - RADIOENLACES ASSOCIADOS AO SERVIÇO LIMITADO </span>\n",
       "<span style=\"color: #008000; text-decoration-color: #008000\">ESPECIALIZADO\"}'</span><span style=\"color: #008000; text-decoration-color: #008000\">, </span><span style=\"color: #008000; text-decoration-color: #008000\">'{\"valor\":\"030 - COLETIVO - SERVIÇO REDE DE TRANSPORTE TELECOMUNICAÇÕES - </span>\n",
       "<span style=\"color: #008000; text-decoration-color: #008000\">SRTT\",\"texto\":\"030 - COLETIVO - SERVIÇO REDE DE TRANSPORTE TELECOMUNICAÇÕES - SRTT\"}'</span><span style=\"color: #008000; text-decoration-color: #008000\">, </span>\n",
       "<span style=\"color: #008000; text-decoration-color: #008000\">'{\"valor\":\"031 - COLETIVO - SERV. REDE DE TRANSPORTE TELECOM-SRTT - SATELITE\",\"texto\":\"031 - </span>\n",
       "<span style=\"color: #008000; text-decoration-color: #008000\">COLETIVO - SERV. REDE DE TRANSPORTE TELECOM-SRTT - SATELITE\"}'</span><span style=\"color: #008000; text-decoration-color: #008000\">, </span><span style=\"color: #008000; text-decoration-color: #008000\">'{\"valor\":\"032 - COLETIVO - </span>\n",
       "<span style=\"color: #008000; text-decoration-color: #008000\">RADIOENLACES ASSOCIADOS AO SERVIÇO REDE TRANSPORTE TELECOMUNICAÇÃO\",\"texto\":\"032 - COLETIVO -</span>\n",
       "<span style=\"color: #008000; text-decoration-color: #008000\">RADIOENLACES ASSOCIADOS AO SERVIÇO REDE TRANSPORTE TELECOMUNICAÇÃO\"}'</span><span style=\"color: #008000; text-decoration-color: #008000\">, </span><span style=\"color: #008000; text-decoration-color: #008000\">'{\"valor\":\"033 - </span>\n",
       "<span style=\"color: #008000; text-decoration-color: #008000\">COLETIVO - RADIOENLACES ASSOCIADOS AO SERVIÇO DE RÁDIOTAXI\",\"texto\":\"033 - COLETIVO - </span>\n",
       "<span style=\"color: #008000; text-decoration-color: #008000\">RADIOENLACES ASSOCIADOS AO SERVIÇO DE RÁDIOTAXI\"}'</span><span style=\"color: #008000; text-decoration-color: #008000\">, </span><span style=\"color: #008000; text-decoration-color: #008000\">'{\"valor\":\"034 - RESTRITO - SERVIÇO SLMP </span>\n",
       "<span style=\"color: #008000; text-decoration-color: #008000\">PRESTADO A DETERMINADOS GRUPOS DE USUARIOS\",\"texto\":\"034 - RESTRITO - SERVIÇO SLMP PRESTADO A</span>\n",
       "<span style=\"color: #008000; text-decoration-color: #008000\">DETERMINADOS GRUPOS DE USUARIOS\"}'</span><span style=\"color: #008000; text-decoration-color: #008000\">, </span><span style=\"color: #008000; text-decoration-color: #008000\">'{\"valor\":\"035 - RESTRITO - ESPC. P/FINS </span>\n",
       "<span style=\"color: #008000; text-decoration-color: #008000\">CIENTIF.EXPERIMENTAIS\",\"texto\":\"035 - RESTRITO - ESPC. P/FINS CIENTIF.EXPERIMENTAIS\"}'</span><span style=\"color: #008000; text-decoration-color: #008000\">, </span>\n",
       "<span style=\"color: #008000; text-decoration-color: #008000\">'{\"valor\":\"036 - RESTRITO - SERVIÇO DE MONITORAGEM DO ESPECTRO\",\"texto\":\"036 - RESTRITO - </span>\n",
       "<span style=\"color: #008000; text-decoration-color: #008000\">SERVIÇO DE MONITORAGEM DO ESPECTRO\"}'</span><span style=\"color: #008000; text-decoration-color: #008000\">, </span><span style=\"color: #008000; text-decoration-color: #008000\">'{\"valor\":\"037 - RESTRITO - SERVIÇO USO TEMPORÁRIO DO </span>\n",
       "<span style=\"color: #008000; text-decoration-color: #008000\">ESPECTRO\",\"texto\":\"037 - RESTRITO - SERVIÇO USO TEMPORÁRIO DO ESPECTRO\"}'</span><span style=\"color: #008000; text-decoration-color: #008000\">, </span><span style=\"color: #008000; text-decoration-color: #008000\">'{\"valor\":\"038 - </span>\n",
       "<span style=\"color: #008000; text-decoration-color: #008000\">COLETIVO - SERVIÇO ESPECIAL DE REPETIÇÃO DE SINAIS DE TV E VÍDEO\",\"texto\":\"038 - COLETIVO - </span>\n",
       "<span style=\"color: #008000; text-decoration-color: #008000\">SERVIÇO ESPECIAL DE REPETIÇÃO DE SINAIS DE TV E VÍDEO\"}'</span><span style=\"color: #008000; text-decoration-color: #008000\">, </span><span style=\"color: #008000; text-decoration-color: #008000\">'{\"valor\":\"039 - COLETIVO - SERVIÇO</span>\n",
       "<span style=\"color: #008000; text-decoration-color: #008000\">ESPECIAL DE REPETIÇÃO DE SINAIS DE ÁUDIO\",\"texto\":\"039 - COLETIVO - SERVIÇO ESPECIAL DE </span>\n",
       "<span style=\"color: #008000; text-decoration-color: #008000\">REPETIÇÃO DE SINAIS DE ÁUDIO\"}'</span><span style=\"color: #008000; text-decoration-color: #008000\">, </span><span style=\"color: #008000; text-decoration-color: #008000\">'{\"valor\":\"040 - COLETIVO - SERVIÇO POR LINHA DEDICADA </span>\n",
       "<span style=\"color: #008000; text-decoration-color: #008000\">(SLD)\",\"texto\":\"040 - COLETIVO - SERVIÇO POR LINHA DEDICADA (SLD)\"}'</span><span style=\"color: #008000; text-decoration-color: #008000\">, </span><span style=\"color: #008000; text-decoration-color: #008000\">'{\"valor\":\"041 - </span>\n",
       "<span style=\"color: #008000; text-decoration-color: #008000\">COLETIVO - SERVIÇO DE REDE COMUTADA POR PACOTE\",\"texto\":\"041 - COLETIVO - SERVIÇO DE REDE </span>\n",
       "<span style=\"color: #008000; text-decoration-color: #008000\">COMUTADA POR PACOTE\"}'</span><span style=\"color: #008000; text-decoration-color: #008000\">, </span><span style=\"color: #008000; text-decoration-color: #008000\">'{\"valor\":\"042 - COLETIVO - SERVIÇO DE REDE COMUTADA POR </span>\n",
       "<span style=\"color: #008000; text-decoration-color: #008000\">CIRCUITO\",\"texto\":\"042 - COLETIVO - SERVIÇO DE REDE COMUTADA POR CIRCUITO\"}'</span><span style=\"color: #008000; text-decoration-color: #008000\">, </span><span style=\"color: #008000; text-decoration-color: #008000\">'{\"valor\":\"043 </span>\n",
       "<span style=\"color: #008000; text-decoration-color: #008000\">- COLETIVO - ESPECIAL DE RADIORRECADO\",\"texto\":\"043 - COLETIVO - ESPECIAL DE RADIORRECADO\"}'</span><span style=\"color: #008000; text-decoration-color: #008000\">,</span>\n",
       "<span style=\"color: #008000; text-decoration-color: #008000\">'{\"valor\":\"044 - RESTRITO - ENLACES FÍSICOS ASSOCIADOS AO SERVIÇO LIMITADO </span>\n",
       "<span style=\"color: #008000; text-decoration-color: #008000\">PRIVADO\",\"texto\":\"044 - RESTRITO - ENLACES FÍSICOS ASSOCIADOS AO SERVIÇO LIMITADO PRIVADO\"}'</span><span style=\"color: #008000; text-decoration-color: #008000\">,</span>\n",
       "<span style=\"color: #008000; text-decoration-color: #008000\">'{\"valor\":\"045 - COLETIVO - SERVIÇO DE COMUNICAÇÃO MULTIMÍDIA\",\"texto\":\"045 - COLETIVO - </span>\n",
       "<span style=\"color: #008000; text-decoration-color: #008000\">SERVIÇO DE COMUNICAÇÃO MULTIMÍDIA\"}'</span><span style=\"color: #008000; text-decoration-color: #008000\">, </span><span style=\"color: #008000; text-decoration-color: #008000\">'{\"valor\":\"046 - COLETIVO - RADIOENLACES ASSOCIADOS AO </span>\n",
       "<span style=\"color: #008000; text-decoration-color: #008000\">SCM\",\"texto\":\"046 - COLETIVO - RADIOENLACES ASSOCIADOS AO SCM\"}'</span><span style=\"color: #008000; text-decoration-color: #008000\">, </span><span style=\"color: #008000; text-decoration-color: #008000\">'{\"valor\":\"047 - COLETIVO -</span>\n",
       "<span style=\"color: #008000; text-decoration-color: #008000\">SERVIÇO DE COMUNICAÇÃO MULTIMÍDIA - EST. TERRENA\",\"texto\":\"047 - COLETIVO - SERVIÇO DE </span>\n",
       "<span style=\"color: #008000; text-decoration-color: #008000\">COMUNICAÇÃO MULTIMÍDIA - EST. TERRENA\"}'</span><span style=\"color: #008000; text-decoration-color: #008000\">, </span><span style=\"color: #008000; text-decoration-color: #008000\">'{\"valor\":\"048 - RESTRITO - </span>\n",
       "<span style=\"color: #008000; text-decoration-color: #008000\">RÁDIO-ACESSO\",\"texto\":\"048 - RESTRITO - RÁDIO-ACESSO\"}'</span><span style=\"color: #008000; text-decoration-color: #008000\">, </span><span style=\"color: #008000; text-decoration-color: #008000\">'{\"valor\":\"049 - RESTRITO - SERVIÇO </span>\n",
       "<span style=\"color: #008000; text-decoration-color: #008000\">LIMITADO PRIVADO PARA PRESTAÇÃO DE SERVIÇO PELAS PREFEITURAS MUNICIPAIS\",\"texto\":\"049 - </span>\n",
       "<span style=\"color: #008000; text-decoration-color: #008000\">RESTRITO - SERVIÇO LIMITADO PRIVADO PARA PRESTAÇÃO DE SERVIÇO PELAS PREFEITURAS </span>\n",
       "<span style=\"color: #008000; text-decoration-color: #008000\">MUNICIPAIS\"}'</span><span style=\"color: #008000; text-decoration-color: #008000\">, </span><span style=\"color: #008000; text-decoration-color: #008000\">'{\"valor\":\"050 - RESTRITO - SERVIÇO LIMITADO PRIVADO PARA INCLUSÃO DIGITAL NAS</span>\n",
       "<span style=\"color: #008000; text-decoration-color: #008000\">FAIXAS DE 2,5GHZ E 3,5GHZ\",\"texto\":\"050 - RESTRITO - SERVIÇO LIMITADO PRIVADO PARA INCLUSÃO </span>\n",
       "<span style=\"color: #008000; text-decoration-color: #008000\">DIGITAL NAS FAIXAS DE 2,5GHZ E 3,5GHZ\"}'</span><span style=\"color: #008000; text-decoration-color: #008000\">, </span><span style=\"color: #008000; text-decoration-color: #008000\">'{\"valor\":\"051 - COLETIVO - SERVIÇO ESPECIAL DE </span>\n",
       "<span style=\"color: #008000; text-decoration-color: #008000\">RADIOCHAMADA\",\"texto\":\"051 - COLETIVO - SERVIÇO ESPECIAL DE RADIOCHAMADA\"}'</span><span style=\"color: #008000; text-decoration-color: #008000\">, </span><span style=\"color: #008000; text-decoration-color: #008000\">'{\"valor\":\"053 -</span>\n",
       "<span style=\"color: #008000; text-decoration-color: #008000\">COLETIVO - RADIOENLACES ASSOCIADOS AO SMP\",\"texto\":\"053 - COLETIVO - RADIOENLACES ASSOCIADOS </span>\n",
       "<span style=\"color: #008000; text-decoration-color: #008000\">AO SMP\"}'</span><span style=\"color: #008000; text-decoration-color: #008000\">, </span><span style=\"color: #008000; text-decoration-color: #008000\">'{\"valor\":\"060 - RESTRITO - SERVIÇO LIMITADO PRIVADO DE </span>\n",
       "<span style=\"color: #008000; text-decoration-color: #008000\">RADIOCHAMADA-SLPR\",\"texto\":\"060 - RESTRITO - SERVIÇO LIMITADO PRIVADO DE </span>\n",
       "<span style=\"color: #008000; text-decoration-color: #008000\">RADIOCHAMADA-SLPR\"}'</span><span style=\"color: #008000; text-decoration-color: #008000\">, </span><span style=\"color: #008000; text-decoration-color: #008000\">'{\"valor\":\"064 - COLETIVO - MÓVEL MARÍTIMO ESPECIALIZADO\",\"texto\":\"064 </span>\n",
       "<span style=\"color: #008000; text-decoration-color: #008000\">- COLETIVO - MÓVEL MARÍTIMO ESPECIALIZADO\"}'</span><span style=\"color: #008000; text-decoration-color: #008000\">, </span><span style=\"color: #008000; text-decoration-color: #008000\">'{\"valor\":\"067 - COLETIVO - SERVIÇO AVANÇADO DE</span>\n",
       "<span style=\"color: #008000; text-decoration-color: #008000\">MENSAGEM (SAM)\",\"texto\":\"067 - COLETIVO - SERVIÇO AVANÇADO DE MENSAGEM (SAM)\"}'</span><span style=\"color: #008000; text-decoration-color: #008000\">, </span>\n",
       "<span style=\"color: #008000; text-decoration-color: #008000\">'{\"valor\":\"069 - RESTRITO - SERVIÇO DE CIRCUITO ESPECIALIZADO\",\"texto\":\"069 - RESTRITO - </span>\n",
       "<span style=\"color: #008000; text-decoration-color: #008000\">SERVIÇO DE CIRCUITO ESPECIALIZADO\"}'</span><span style=\"color: #008000; text-decoration-color: #008000\">, </span><span style=\"color: #008000; text-decoration-color: #008000\">'{\"valor\":\"076 - RESTRITO - SERVIÇO DE REDE </span>\n",
       "<span style=\"color: #008000; text-decoration-color: #008000\">PRIVADO\",\"texto\":\"076 - RESTRITO - SERVIÇO DE REDE PRIVADO\"}'</span><span style=\"color: #008000; text-decoration-color: #008000\">, </span><span style=\"color: #008000; text-decoration-color: #008000\">'{\"valor\":\"077 - RESTRITO - </span>\n",
       "<span style=\"color: #008000; text-decoration-color: #008000\">SERVIÇO DE REDE ESPECIALIZADO\",\"texto\":\"077 - RESTRITO - SERVIÇO DE REDE ESPECIALIZADO\"}'</span><span style=\"color: #008000; text-decoration-color: #008000\">, </span>\n",
       "<span style=\"color: #008000; text-decoration-color: #008000\">'{\"valor\":\"078 - RESTRITO - SERVIÇO DE RADIOTÁXI PRIVADO\",\"texto\":\"078 - RESTRITO - SERVIÇO </span>\n",
       "<span style=\"color: #008000; text-decoration-color: #008000\">DE RADIOTÁXI PRIVADO\"}'</span><span style=\"color: #008000; text-decoration-color: #008000\">, </span><span style=\"color: #008000; text-decoration-color: #008000\">'{\"valor\":\"079 - COLETIVO - SERVIÇO DE RADIOTÁXI </span>\n",
       "<span style=\"color: #008000; text-decoration-color: #008000\">ESPECIALIZADO\",\"texto\":\"079 - COLETIVO - SERVIÇO DE RADIOTÁXI ESPECIALIZADO\"}'</span><span style=\"color: #008000; text-decoration-color: #008000\">, </span>\n",
       "<span style=\"color: #008000; text-decoration-color: #008000\">'{\"valor\":\"086 - COLETIVO - ESPECIAL DE FREQÜÊNCIA PADRÃO\",\"texto\":\"086 - COLETIVO - ESPECIAL</span>\n",
       "<span style=\"color: #008000; text-decoration-color: #008000\">DE FREQÜÊNCIA PADRÃO\"}'</span><span style=\"color: #008000; text-decoration-color: #008000\">, </span><span style=\"color: #008000; text-decoration-color: #008000\">'{\"valor\":\"094 - COLETIVO - SERVIÇO ESPECIAL DE SINAIS </span>\n",
       "<span style=\"color: #008000; text-decoration-color: #008000\">HORÁRIOS\",\"texto\":\"094 - COLETIVO - SERVIÇO ESPECIAL DE SINAIS HORÁRIOS\"}'</span><span style=\"color: #008000; text-decoration-color: #008000\">, </span><span style=\"color: #008000; text-decoration-color: #008000\">'{\"valor\":\"099 - </span>\n",
       "<span style=\"color: #008000; text-decoration-color: #008000\">RESTRITO - SERVIÇO DE RADIAÇÃO RESTRITA\",\"texto\":\"099 - RESTRITO - SERVIÇO DE RADIAÇÃO </span>\n",
       "<span style=\"color: #008000; text-decoration-color: #008000\">RESTRITA\"}'</span><span style=\"color: #008000; text-decoration-color: #008000\">, </span><span style=\"color: #008000; text-decoration-color: #008000\">'{\"valor\":\"108 - RESTRITO - SERVIÇO LIMITADO PRIVADO SUBMODALIDADE </span>\n",
       "<span style=\"color: #008000; text-decoration-color: #008000\">RADIODETERMINAÇÃO\",\"texto\":\"108 - RESTRITO - SERVIÇO LIMITADO PRIVADO SUBMODALIDADE </span>\n",
       "<span style=\"color: #008000; text-decoration-color: #008000\">RADIODETERMINAÇÃO\"}'</span><span style=\"color: #008000; text-decoration-color: #008000\">, </span><span style=\"color: #008000; text-decoration-color: #008000\">'{\"valor\":\"116 - COLETIVO - TEL.PUBLICO MOVEL </span>\n",
       "<span style=\"color: #008000; text-decoration-color: #008000\">RODOVIARIO-TELESTRADA\",\"texto\":\"116 - COLETIVO - TEL.PUBLICO MOVEL RODOVIARIO-TELESTRADA\"}'</span><span style=\"color: #008000; text-decoration-color: #008000\">, </span>\n",
       "<span style=\"color: #008000; text-decoration-color: #008000\">'{\"valor\":\"124 - RESTRITO - ESPECIAL DE SUPERVISÃO E CONTROLE/USO PRÓPRIO\",\"texto\":\"124 - </span>\n",
       "<span style=\"color: #008000; text-decoration-color: #008000\">RESTRITO - ESPECIAL DE SUPERVISÃO E CONTROLE/USO PRÓPRIO\"}'</span><span style=\"color: #008000; text-decoration-color: #008000\">, </span><span style=\"color: #008000; text-decoration-color: #008000\">'{\"valor\":\"125 - RESTRITO - </span>\n",
       "<span style=\"color: #008000; text-decoration-color: #008000\">ESPECIAL DE SUPERVISÃO E CONTROLE/TERCEIROS\",\"texto\":\"125 - RESTRITO - ESPECIAL DE SUPERVISÃO</span>\n",
       "<span style=\"color: #008000; text-decoration-color: #008000\">E CONTROLE/TERCEIROS\"}'</span><span style=\"color: #008000; text-decoration-color: #008000\">, </span><span style=\"color: #008000; text-decoration-color: #008000\">'{\"valor\":\"132 - RESTRITO - ESPECIAL DE RADIOAUTOCINE\",\"texto\":\"132 </span>\n",
       "<span style=\"color: #008000; text-decoration-color: #008000\">- RESTRITO - ESPECIAL DE RADIOAUTOCINE\"}'</span><span style=\"color: #008000; text-decoration-color: #008000\">, </span><span style=\"color: #008000; text-decoration-color: #008000\">'{\"valor\":\"140 - RESTRITO - LIMITADO - </span>\n",
       "<span style=\"color: #008000; text-decoration-color: #008000\">RADIOESTRADA\",\"texto\":\"140 - RESTRITO - LIMITADO - RADIOESTRADA\"}'</span><span style=\"color: #008000; text-decoration-color: #008000\">, </span><span style=\"color: #008000; text-decoration-color: #008000\">'{\"valor\":\"159 - COLETIVO</span>\n",
       "<span style=\"color: #008000; text-decoration-color: #008000\">- RADIOCOMUNICAÇÃO AERONÁUTICA PÚBLICO - RESTRITO\",\"texto\":\"159 - COLETIVO - RADIOCOMUNICAÇÃO</span>\n",
       "<span style=\"color: #008000; text-decoration-color: #008000\">AERONÁUTICA PÚBLICO - RESTRITO\"}'</span><span style=\"color: #008000; text-decoration-color: #008000\">, </span><span style=\"color: #008000; text-decoration-color: #008000\">'{\"valor\":\"163 - COLETIVO - SERVIÇO DE COMUNICAÇÃO DE </span>\n",
       "<span style=\"color: #008000; text-decoration-color: #008000\">TEXTOS\",\"texto\":\"163 - COLETIVO - SERVIÇO DE COMUNICAÇÃO DE TEXTOS\"}'</span><span style=\"color: #008000; text-decoration-color: #008000\">, </span><span style=\"color: #008000; text-decoration-color: #008000\">'{\"valor\":\"167 - </span>\n",
       "<span style=\"color: #008000; text-decoration-color: #008000\">COLETIVO - ESPECIAL DE TELEVISAO POR ASSINATURA\",\"texto\":\"167 - COLETIVO - ESPECIAL DE </span>\n",
       "<span style=\"color: #008000; text-decoration-color: #008000\">TELEVISAO POR ASSINATURA\"}'</span><span style=\"color: #008000; text-decoration-color: #008000\">, </span><span style=\"color: #008000; text-decoration-color: #008000\">'{\"valor\":\"171 - COLETIVO - SERVICO TELEFONICO FIXO </span>\n",
       "<span style=\"color: #008000; text-decoration-color: #008000\">COMUTADO\",\"texto\":\"171 - COLETIVO - SERVICO TELEFONICO FIXO COMUTADO\"}'</span><span style=\"color: #008000; text-decoration-color: #008000\">, </span><span style=\"color: #008000; text-decoration-color: #008000\">'{\"valor\":\"175 - </span>\n",
       "<span style=\"color: #008000; text-decoration-color: #008000\">COLETIVO - STFC/RADIOTELEFONICO - ESTACOES TERRESTRES\",\"texto\":\"175 - COLETIVO - </span>\n",
       "<span style=\"color: #008000; text-decoration-color: #008000\">STFC/RADIOTELEFONICO - ESTACOES TERRESTRES\"}'</span><span style=\"color: #008000; text-decoration-color: #008000\">, </span><span style=\"color: #008000; text-decoration-color: #008000\">'{\"valor\":\"176 - COLETIVO - </span>\n",
       "<span style=\"color: #008000; text-decoration-color: #008000\">STFC/RADIOTELEFONICO - ESTACOES TERRENAS\",\"texto\":\"176 - COLETIVO - STFC/RADIOTELEFONICO - </span>\n",
       "<span style=\"color: #008000; text-decoration-color: #008000\">ESTACOES TERRENAS\"}'</span><span style=\"color: #008000; text-decoration-color: #008000\">, </span><span style=\"color: #008000; text-decoration-color: #008000\">'{\"valor\":\"181 - RESTRITO - LIMITADO PRIVADO POR SATELITE\",\"texto\":\"181</span>\n",
       "<span style=\"color: #008000; text-decoration-color: #008000\">- RESTRITO - LIMITADO PRIVADO POR SATELITE\"}'</span><span style=\"color: #008000; text-decoration-color: #008000\">, </span><span style=\"color: #008000; text-decoration-color: #008000\">'{\"valor\":\"182 - RESTRITO - LIMITADO </span>\n",
       "<span style=\"color: #008000; text-decoration-color: #008000\">ESPECIALIZADO POR SATELITE\",\"texto\":\"182 - RESTRITO - LIMITADO ESPECIALIZADO POR SATELITE\"}'</span><span style=\"color: #008000; text-decoration-color: #008000\">,</span>\n",
       "<span style=\"color: #008000; text-decoration-color: #008000\">'{\"valor\":\"183 - COLETIVO - ESPECIAL DE BOLETINS METEOROLOGICOS\",\"texto\":\"183 - COLETIVO - </span>\n",
       "<span style=\"color: #008000; text-decoration-color: #008000\">ESPECIAL DE BOLETINS METEOROLOGICOS\"}'</span><span style=\"color: #008000; text-decoration-color: #008000\">, </span><span style=\"color: #008000; text-decoration-color: #008000\">'{\"valor\":\"185 - RESTRITO - EXPLORACAO DE SATELITE E </span>\n",
       "<span style=\"color: #008000; text-decoration-color: #008000\">ESTACOES DE ACESSO\",\"texto\":\"185 - RESTRITO - EXPLORACAO DE SATELITE E ESTACOES DE ACESSO\"}'</span><span style=\"color: #008000; text-decoration-color: #008000\">,</span>\n",
       "<span style=\"color: #008000; text-decoration-color: #008000\">'{\"valor\":\"186 - RESTRITO - EXPLORAÇÃO DE SATÉLITE NÃO-GEOESTACIONÁRIO E ESTAÇÃO DE </span>\n",
       "<span style=\"color: #008000; text-decoration-color: #008000\">ACESSO\",\"texto\":\"186 - RESTRITO - EXPLORAÇÃO DE SATÉLITE NÃO-GEOESTACIONÁRIO E ESTAÇÃO DE </span>\n",
       "<span style=\"color: #008000; text-decoration-color: #008000\">ACESSO\"}'</span><span style=\"color: #008000; text-decoration-color: #008000\">, </span><span style=\"color: #008000; text-decoration-color: #008000\">'{\"valor\":\"187 - RESTRITO - SERVICO DE REDE ESPECIALIZADO P/SATELITE\",\"texto\":\"187</span>\n",
       "<span style=\"color: #008000; text-decoration-color: #008000\">- RESTRITO - SERVICO DE REDE ESPECIALIZADO P/SATELITE\"}'</span><span style=\"color: #008000; text-decoration-color: #008000\">, </span><span style=\"color: #008000; text-decoration-color: #008000\">'{\"valor\":\"188 - RESTRITO - SERVICO</span>\n",
       "<span style=\"color: #008000; text-decoration-color: #008000\">DE CIRCUITO ESPECIALIZADO P/SATELITE\",\"texto\":\"188 - RESTRITO - SERVICO DE CIRCUITO </span>\n",
       "<span style=\"color: #008000; text-decoration-color: #008000\">ESPECIALIZADO P/SATELITE\"}'</span><span style=\"color: #008000; text-decoration-color: #008000\">, </span><span style=\"color: #008000; text-decoration-color: #008000\">'{\"valor\":\"189 - COLETIVO - SERVICO MOVEL GLOBAL POR </span>\n",
       "<span style=\"color: #008000; text-decoration-color: #008000\">SATELITE(SMGS)\",\"texto\":\"189 - COLETIVO - SERVICO MOVEL GLOBAL POR SATELITE(SMGS)\"}'</span><span style=\"color: #008000; text-decoration-color: #008000\">, </span>\n",
       "<span style=\"color: #008000; text-decoration-color: #008000\">'{\"valor\":\"191 - COLETIVO - SERVIÇO DE COMUNICAÇÃO DE DADOS COMUTADO\",\"texto\":\"191 - COLETIVO</span>\n",
       "<span style=\"color: #008000; text-decoration-color: #008000\">- SERVIÇO DE COMUNICAÇÃO DE DADOS COMUTADO\"}'</span><span style=\"color: #008000; text-decoration-color: #008000\">, </span><span style=\"color: #008000; text-decoration-color: #008000\">'{\"valor\":\"205 - COLETIVO - RADIODIFUSÃO </span>\n",
       "<span style=\"color: #008000; text-decoration-color: #008000\">SONORA EM ONDA MÉDIA\",\"texto\":\"205 - COLETIVO - RADIODIFUSÃO SONORA EM ONDA MÉDIA\"}'</span><span style=\"color: #008000; text-decoration-color: #008000\">, </span>\n",
       "<span style=\"color: #008000; text-decoration-color: #008000\">'{\"valor\":\"213 - COLETIVO - RADIODIFUSÃO SONORA EM ONDAS CURTAS\",\"texto\":\"213 - COLETIVO - </span>\n",
       "<span style=\"color: #008000; text-decoration-color: #008000\">RADIODIFUSÃO SONORA EM ONDAS CURTAS\"}'</span><span style=\"color: #008000; text-decoration-color: #008000\">, </span><span style=\"color: #008000; text-decoration-color: #008000\">'{\"valor\":\"221 - COLETIVO - RADIODIFUSÃO SONORA EM </span>\n",
       "<span style=\"color: #008000; text-decoration-color: #008000\">ONDA TROPICAL\",\"texto\":\"221 - COLETIVO - RADIODIFUSÃO SONORA EM ONDA TROPICAL\"}'</span><span style=\"color: #008000; text-decoration-color: #008000\">, </span>\n",
       "<span style=\"color: #008000; text-decoration-color: #008000\">'{\"valor\":\"230 - COLETIVO - RADIODIFUSÃO SONORA EM FREQÜÊNCIA MODULADA\",\"texto\":\"230 - </span>\n",
       "<span style=\"color: #008000; text-decoration-color: #008000\">COLETIVO - RADIODIFUSÃO SONORA EM FREQÜÊNCIA MODULADA\"}'</span><span style=\"color: #008000; text-decoration-color: #008000\">, </span><span style=\"color: #008000; text-decoration-color: #008000\">'{\"valor\":\"231 - COLETIVO - </span>\n",
       "<span style=\"color: #008000; text-decoration-color: #008000\">RADIODIFUSÃO COMUNITÁRIA\",\"texto\":\"231 - COLETIVO - RADIODIFUSÃO COMUNITÁRIA\"}'</span><span style=\"color: #008000; text-decoration-color: #008000\">, </span>\n",
       "<span style=\"color: #008000; text-decoration-color: #008000\">'{\"valor\":\"247 - COLETIVO - GERADORA DE RADIODIFUSÃO DE SONS E IMAGENS - </span>\n",
       "<span style=\"color: #008000; text-decoration-color: #008000\">DIGITAL\",\"texto\":\"247 - COLETIVO - GERADORA DE RADIODIFUSÃO DE SONS E IMAGENS - DIGITAL\"}'</span><span style=\"color: #008000; text-decoration-color: #008000\">, </span>\n",
       "<span style=\"color: #008000; text-decoration-color: #008000\">'{\"valor\":\"248 - COLETIVO - RADIODIFUSÃO DE SONS E IMAGENS\",\"texto\":\"248 - COLETIVO - </span>\n",
       "<span style=\"color: #008000; text-decoration-color: #008000\">RADIODIFUSÃO DE SONS E IMAGENS\"}'</span><span style=\"color: #008000; text-decoration-color: #008000\">, </span><span style=\"color: #008000; text-decoration-color: #008000\">'{\"valor\":\"251 - RESTRITO - AUXILIAR RADIODIF.- TRANSMISS.</span>\n",
       "<span style=\"color: #008000; text-decoration-color: #008000\">DE PROGRAMAS\",\"texto\":\"251 - RESTRITO - AUXILIAR RADIODIF.- TRANSMISS. DE PROGRAMAS\"}'</span><span style=\"color: #008000; text-decoration-color: #008000\">, </span>\n",
       "<span style=\"color: #008000; text-decoration-color: #008000\">'{\"valor\":\"252 - RESTRITO - AUXILIAR RADIODIF.- REPORTAGEM EXTERNA\",\"texto\":\"252 - RESTRITO -</span>\n",
       "<span style=\"color: #008000; text-decoration-color: #008000\">AUXILIAR RADIODIF.- REPORTAGEM EXTERNA\"}'</span><span style=\"color: #008000; text-decoration-color: #008000\">, </span><span style=\"color: #008000; text-decoration-color: #008000\">'{\"valor\":\"253 - RESTRITO - AUXILIAR RADIODIF.- </span>\n",
       "<span style=\"color: #008000; text-decoration-color: #008000\">COM. DE ORDENS INTERNAS\",\"texto\":\"253 - RESTRITO - AUXILIAR RADIODIF.- COM. DE ORDENS </span>\n",
       "<span style=\"color: #008000; text-decoration-color: #008000\">INTERNAS\"}'</span><span style=\"color: #008000; text-decoration-color: #008000\">, </span><span style=\"color: #008000; text-decoration-color: #008000\">'{\"valor\":\"254 - RESTRITO - AUX. DE RADIODIFUSAO - TELECOMANDO\",\"texto\":\"254 - </span>\n",
       "<span style=\"color: #008000; text-decoration-color: #008000\">RESTRITO - AUX. DE RADIODIFUSAO - TELECOMANDO\"}'</span><span style=\"color: #008000; text-decoration-color: #008000\">, </span><span style=\"color: #008000; text-decoration-color: #008000\">'{\"valor\":\"255 - RESTRITO - AUX. DE </span>\n",
       "<span style=\"color: #008000; text-decoration-color: #008000\">RADIODIFUSAO - TELEMEDICAO\",\"texto\":\"255 - RESTRITO - AUX. DE RADIODIFUSAO - TELEMEDICAO\"}'</span><span style=\"color: #008000; text-decoration-color: #008000\">, </span>\n",
       "<span style=\"color: #008000; text-decoration-color: #008000\">'{\"valor\":\"256 - RESTRITO - AUXILIAR DE RADIODIFUSAO E CORRELATOS\",\"texto\":\"256 - RESTRITO - </span>\n",
       "<span style=\"color: #008000; text-decoration-color: #008000\">AUXILIAR DE RADIODIFUSAO E CORRELATOS\"}'</span><span style=\"color: #008000; text-decoration-color: #008000\">, </span><span style=\"color: #008000; text-decoration-color: #008000\">'{\"valor\":\"264 - RESTRITO - ESPECIAL CANAL </span>\n",
       "<span style=\"color: #008000; text-decoration-color: #008000\">SECUNDARIO DE SONS E IMAGENS\",\"texto\":\"264 - RESTRITO - ESPECIAL CANAL SECUNDARIO DE SONS E </span>\n",
       "<span style=\"color: #008000; text-decoration-color: #008000\">IMAGENS\"}'</span><span style=\"color: #008000; text-decoration-color: #008000\">, </span><span style=\"color: #008000; text-decoration-color: #008000\">'{\"valor\":\"302 - RESTRITO - RADIOAMADOR\",\"texto\":\"302 - RESTRITO - </span>\n",
       "<span style=\"color: #008000; text-decoration-color: #008000\">RADIOAMADOR\"}'</span><span style=\"color: #008000; text-decoration-color: #008000\">, </span><span style=\"color: #008000; text-decoration-color: #008000\">'{\"valor\":\"400 - RESTRITO - RÁDIO DO CIDADÃO\",\"texto\":\"400 - RESTRITO - RÁDIO</span>\n",
       "<span style=\"color: #008000; text-decoration-color: #008000\">DO CIDADÃO\"}'</span><span style=\"color: #008000; text-decoration-color: #008000\">, </span><span style=\"color: #008000; text-decoration-color: #008000\">'{\"valor\":\"450 - COLETIVO - COMUNICAÇÃO MULTIMÍDIA - DISPENSA DE </span>\n",
       "<span style=\"color: #008000; text-decoration-color: #008000\">AUTORIZAÇÃO\",\"texto\":\"450 - COLETIVO - COMUNICAÇÃO MULTIMÍDIA - DISPENSA DE AUTORIZAÇÃO\"}'</span><span style=\"color: #008000; text-decoration-color: #008000\">, </span>\n",
       "<span style=\"color: #008000; text-decoration-color: #008000\">'{\"valor\":\"507 - RESTRITO - MÓVEL AERONÁUTICO\",\"texto\":\"507 - RESTRITO - MÓVEL </span>\n",
       "<span style=\"color: #008000; text-decoration-color: #008000\">AERONÁUTICO\"}'</span><span style=\"color: #008000; text-decoration-color: #008000\">, </span><span style=\"color: #008000; text-decoration-color: #008000\">'{\"valor\":\"604 - RESTRITO - MÓVEL MARÍTIMO\",\"texto\":\"604 - RESTRITO - MÓVEL </span>\n",
       "<span style=\"color: #008000; text-decoration-color: #008000\">MARÍTIMO\"}'</span><span style=\"color: #008000; text-decoration-color: #008000\">, </span><span style=\"color: #008000; text-decoration-color: #008000\">'{\"valor\":\"701 - RESTRITO - ESPECIAL DE MUSICA FUNCIONAL\",\"texto\":\"701 - </span>\n",
       "<span style=\"color: #008000; text-decoration-color: #008000\">RESTRITO - ESPECIAL DE MUSICA FUNCIONAL\"}'</span><span style=\"color: #008000; text-decoration-color: #008000\">, </span><span style=\"color: #008000; text-decoration-color: #008000\">'{\"valor\":\"710 - RESTRITO - ESPECIAL EM CANAL </span>\n",
       "<span style=\"color: #008000; text-decoration-color: #008000\">SECUNDARIO DE FM\",\"texto\":\"710 - RESTRITO - ESPECIAL EM CANAL SECUNDARIO DE FM\"}'</span><span style=\"color: #008000; text-decoration-color: #008000\">, </span>\n",
       "<span style=\"color: #008000; text-decoration-color: #008000\">'{\"valor\":\"728 - RESTRITO - ESPECIAL DE REPETICAO DE TELEVISAO\",\"texto\":\"728 - RESTRITO - </span>\n",
       "<span style=\"color: #008000; text-decoration-color: #008000\">ESPECIAL DE REPETICAO DE TELEVISAO\"}'</span><span style=\"color: #008000; text-decoration-color: #008000\">, </span><span style=\"color: #008000; text-decoration-color: #008000\">'{\"valor\":\"729 - COLETIVO - TV A CABO\",\"texto\":\"729 - </span>\n",
       "<span style=\"color: #008000; text-decoration-color: #008000\">COLETIVO - TV A CABO\"}'</span><span style=\"color: #008000; text-decoration-color: #008000\">, </span><span style=\"color: #008000; text-decoration-color: #008000\">'{\"valor\":\"730 - COLETIVO - ESPECIAL DE REPETICAO DE TV - </span>\n",
       "<span style=\"color: #008000; text-decoration-color: #008000\">SATELITE\",\"texto\":\"730 - COLETIVO - ESPECIAL DE REPETICAO DE TV - SATELITE\"}'</span><span style=\"color: #008000; text-decoration-color: #008000\">, </span><span style=\"color: #008000; text-decoration-color: #008000\">'{\"valor\":\"735</span>\n",
       "<span style=\"color: #008000; text-decoration-color: #008000\">- COLETIVO - DISTRIB. SINAIS TV/AUDIO P/ASSINATURA VIA SATELITE\",\"texto\":\"735 - COLETIVO - </span>\n",
       "<span style=\"color: #008000; text-decoration-color: #008000\">DISTRIB. SINAIS TV/AUDIO P/ASSINATURA VIA SATELITE\"}'</span><span style=\"color: #008000; text-decoration-color: #008000\">, </span><span style=\"color: #008000; text-decoration-color: #008000\">'{\"valor\":\"740 - COLETIVO - </span>\n",
       "<span style=\"color: #008000; text-decoration-color: #008000\">ESPEC.DISTRIB.SINAIS MULTIPONTO/MULTICANAL\",\"texto\":\"740 - COLETIVO - ESPEC.DISTRIB.SINAIS </span>\n",
       "<span style=\"color: #008000; text-decoration-color: #008000\">MULTIPONTO/MULTICANAL\"}'</span><span style=\"color: #008000; text-decoration-color: #008000\">, </span><span style=\"color: #008000; text-decoration-color: #008000\">'{\"valor\":\"750 - COLETIVO - SERVIÇO DE ACESSO </span>\n",
       "<span style=\"color: #008000; text-decoration-color: #008000\">CONDICIONADO\",\"texto\":\"750 - COLETIVO - SERVIÇO DE ACESSO CONDICIONADO\"}'</span><span style=\"color: #008000; text-decoration-color: #008000\">, </span><span style=\"color: #008000; text-decoration-color: #008000\">'{\"valor\":\"800 - </span>\n",
       "<span style=\"color: #008000; text-decoration-color: #008000\">COLETIVO - RETRANSMISSAO DE T.V.\",\"texto\":\"800 - COLETIVO - RETRANSMISSAO DE T.V.\"}'</span><span style=\"color: #008000; text-decoration-color: #008000\">, </span>\n",
       "<span style=\"color: #008000; text-decoration-color: #008000\">'{\"valor\":\"801 - COLETIVO - RETRANSMISSÃO DE RADIODIFUSÃO DE SONS E IMAGENS - </span>\n",
       "<span style=\"color: #008000; text-decoration-color: #008000\">DIGITAL\",\"texto\":\"801 - COLETIVO - RETRANSMISSÃO DE RADIODIFUSÃO DE SONS E IMAGENS - </span>\n",
       "<span style=\"color: #008000; text-decoration-color: #008000\">DIGITAL\"}'</span><span style=\"color: #008000; text-decoration-color: #008000\">, </span><span style=\"color: #008000; text-decoration-color: #008000\">'{\"valor\":\"802 - COLETIVO - PLANO BÁSICO DE RADIODIFUSÃO DE SONS E IMAGENS - </span>\n",
       "<span style=\"color: #008000; text-decoration-color: #008000\">DIGITAL\",\"texto\":\"802 - COLETIVO - PLANO BÁSICO DE RADIODIFUSÃO DE SONS E IMAGENS - </span>\n",
       "<span style=\"color: #008000; text-decoration-color: #008000\">DIGITAL\"}'</span><span style=\"color: #008000; text-decoration-color: #008000\">, </span><span style=\"color: #008000; text-decoration-color: #008000\">'{\"valor\":\"810 - COLETIVO - DISTRIBUICAO DE SINAIS DE TELEVISAO - </span>\n",
       "<span style=\"color: #008000; text-decoration-color: #008000\">DISTV\",\"texto\":\"810 - COLETIVO - DISTRIBUICAO DE SINAIS DE TELEVISAO - DISTV\"}'</span><span style=\"color: #008000; text-decoration-color: #008000\">, </span>\n",
       "<span style=\"color: #008000; text-decoration-color: #008000\">'{\"valor\":\"820 - RESTRITO - DE TELEV. EM CIRCUITO FECHADO (RADIOENLACE)\",\"texto\":\"820 - </span>\n",
       "<span style=\"color: #008000; text-decoration-color: #008000\">RESTRITO - DE TELEV. EM CIRCUITO FECHADO (RADIOENLACE)\"}'</span><span style=\"color: #008000; text-decoration-color: #008000\">, </span><span style=\"color: #008000; text-decoration-color: #008000\">'{\"valor\":\"900 - COLETIVO - </span>\n",
       "<span style=\"color: #008000; text-decoration-color: #008000\">FUST\",\"texto\":\"900 - COLETIVO - FUST\"}'</span><span style=\"color: #008000; text-decoration-color: #008000\">, </span><span style=\"color: #008000; text-decoration-color: #008000\">'{\"valor\":\"901 - COLETIVO - FUNTTEL\",\"texto\":\"901 - </span>\n",
       "<span style=\"color: #008000; text-decoration-color: #008000\">COLETIVO - FUNTTEL\"}'</span><span style=\"color: #008000; text-decoration-color: #008000; font-weight: bold\">]}</span>\n",
       "</pre>\n"
      ],
      "text/plain": [
       "\u001b[34mServicos_da_Inspecao \u001b[0m\u001b[31m-> \u001b[0m\u001b[1;32m{\u001b[0m\u001b[32m'id'\u001b[0m\u001b[32m: \u001b[0m\u001b[1;32m57\u001b[0m\u001b[32m, \u001b[0m\u001b[32m'value'\u001b[0m\u001b[32m: \u001b[0m\u001b[1;32m[\u001b[0m\u001b[32m'\u001b[0m\u001b[32m{\u001b[0m\u001b[32m\"valor\":\"000 - Não Aplicável\",\"texto\":\"000 - \u001b[0m\n",
       "\u001b[32mNão Aplicável\"\u001b[0m\u001b[32m}\u001b[0m\u001b[32m'\u001b[0m\u001b[32m, \u001b[0m\u001b[32m'\u001b[0m\u001b[32m{\u001b[0m\u001b[32m\"valor\":\"001 - COLETIVO - SERVIÇO DE INTERESSE COLETIVO\",\"texto\":\"001 - \u001b[0m\n",
       "\u001b[32mCOLETIVO - SERVIÇO DE INTERESSE COLETIVO\"\u001b[0m\u001b[32m}\u001b[0m\u001b[32m'\u001b[0m\u001b[32m, \u001b[0m\u001b[32m'\u001b[0m\u001b[32m{\u001b[0m\u001b[32m\"valor\":\"002 - RESTRITO - SERVIÇO DE INTERESSE\u001b[0m\n",
       "\u001b[32mRESTRITO\",\"texto\":\"002 - RESTRITO - SERVIÇO DE INTERESSE RESTRITO\"\u001b[0m\u001b[32m}\u001b[0m\u001b[32m'\u001b[0m\u001b[32m, \u001b[0m\u001b[32m'\u001b[0m\u001b[32m{\u001b[0m\u001b[32m\"valor\":\"010 - \u001b[0m\n",
       "\u001b[32mCOLETIVO - SERVIÇO MOVEL PESSOAL\",\"texto\":\"010 - COLETIVO - SERVIÇO MOVEL PESSOAL\"\u001b[0m\u001b[32m}\u001b[0m\u001b[32m'\u001b[0m\u001b[32m, \u001b[0m\n",
       "\u001b[32m'\u001b[0m\u001b[32m{\u001b[0m\u001b[32m\"valor\":\"011 - RESTRITO - LIMITADO PRIVADO - PRESTAÇÃO A TERCEIROS\",\"texto\":\"011 - RESTRITO\u001b[0m\n",
       "\u001b[32m- LIMITADO PRIVADO - PRESTAÇÃO A TERCEIROS\"\u001b[0m\u001b[32m}\u001b[0m\u001b[32m'\u001b[0m\u001b[32m, \u001b[0m\u001b[32m'\u001b[0m\u001b[32m{\u001b[0m\u001b[32m\"valor\":\"012 - RESTRITO - RADIOENLACES \u001b[0m\n",
       "\u001b[32mASSOCIADOS AO SERVIÇO MÓVEL PRIVADO\",\"texto\":\"012 - RESTRITO - RADIOENLACES ASSOCIADOS AO \u001b[0m\n",
       "\u001b[32mSERVIÇO MÓVEL PRIVADO\"\u001b[0m\u001b[32m}\u001b[0m\u001b[32m'\u001b[0m\u001b[32m, \u001b[0m\u001b[32m'\u001b[0m\u001b[32m{\u001b[0m\u001b[32m\"valor\":\"013 - COLETIVO - RADIOENLACES ASSOCIADOS AO SERVIÇO \u001b[0m\n",
       "\u001b[32mESPECIALIZADO RADIOCHAMADA\",\"texto\":\"013 - COLETIVO - RADIOENLACES ASSOCIADOS AO SERVIÇO \u001b[0m\n",
       "\u001b[32mESPECIALIZADO RADIOCHAMADA\"\u001b[0m\u001b[32m}\u001b[0m\u001b[32m'\u001b[0m\u001b[32m, \u001b[0m\u001b[32m'\u001b[0m\u001b[32m{\u001b[0m\u001b[32m\"valor\":\"014 - RESTRITO - RADIOENLACES ASSOCIADOS AO SERVIÇO\u001b[0m\n",
       "\u001b[32mDE REDE ESPECIALIZADO\",\"texto\":\"014 - RESTRITO - RADIOENLACES ASSOCIADOS AO SERVIÇO DE REDE \u001b[0m\n",
       "\u001b[32mESPECIALIZADO\"\u001b[0m\u001b[32m}\u001b[0m\u001b[32m'\u001b[0m\u001b[32m, \u001b[0m\u001b[32m'\u001b[0m\u001b[32m{\u001b[0m\u001b[32m\"valor\":\"015 - COLETIVO - RADIOENLACES ASSOCIADOS A SISTEMA DE \u001b[0m\n",
       "\u001b[32mSATÉLITES\",\"texto\":\"015 - COLETIVO - RADIOENLACES ASSOCIADOS A SISTEMA DE SATÉLITES\"\u001b[0m\u001b[32m}\u001b[0m\u001b[32m'\u001b[0m\u001b[32m, \u001b[0m\n",
       "\u001b[32m'\u001b[0m\u001b[32m{\u001b[0m\u001b[32m\"valor\":\"016 - COLETIVO - RADIOENLACES ASSOCIADOS AO SERVIÇO POR LINHA \u001b[0m\n",
       "\u001b[32mDEDICADA\",\"texto\":\"016 - COLETIVO - RADIOENLACES ASSOCIADOS AO SERVIÇO POR LINHA DEDICADA\"\u001b[0m\u001b[32m}\u001b[0m\u001b[32m'\u001b[0m\u001b[32m,\u001b[0m\n",
       "\u001b[32m'\u001b[0m\u001b[32m{\u001b[0m\u001b[32m\"valor\":\"017 - RESTRITO - LIMITADO ESPECIALIZADO\",\"texto\":\"017 - RESTRITO - LIMITADO \u001b[0m\n",
       "\u001b[32mESPECIALIZADO\"\u001b[0m\u001b[32m}\u001b[0m\u001b[32m'\u001b[0m\u001b[32m, \u001b[0m\u001b[32m'\u001b[0m\u001b[32m{\u001b[0m\u001b[32m\"valor\":\"019 - RESTRITO - LIMITADO PRIVADO\",\"texto\":\"019 - RESTRITO - \u001b[0m\n",
       "\u001b[32mLIMITADO PRIVADO\"\u001b[0m\u001b[32m}\u001b[0m\u001b[32m'\u001b[0m\u001b[32m, \u001b[0m\u001b[32m'\u001b[0m\u001b[32m{\u001b[0m\u001b[32m\"valor\":\"020 - COLETIVO - SERVIÇO MOVEL ESPECIALIZADO\",\"texto\":\"020 - \u001b[0m\n",
       "\u001b[32mCOLETIVO - SERVIÇO MOVEL ESPECIALIZADO\"\u001b[0m\u001b[32m}\u001b[0m\u001b[32m'\u001b[0m\u001b[32m, \u001b[0m\u001b[32m'\u001b[0m\u001b[32m{\u001b[0m\u001b[32m\"valor\":\"021 - RESTRITO - LIMITADO - FIBRAS \u001b[0m\n",
       "\u001b[32mÓTICAS\",\"texto\":\"021 - RESTRITO - LIMITADO - FIBRAS ÓTICAS\"\u001b[0m\u001b[32m}\u001b[0m\u001b[32m'\u001b[0m\u001b[32m, \u001b[0m\u001b[32m'\u001b[0m\u001b[32m{\u001b[0m\u001b[32m\"valor\":\"023 - RESTRITO - \u001b[0m\n",
       "\u001b[32mSERVIÇO LIMITADO MOVEL PRIVATIVO\",\"texto\":\"023 - RESTRITO - SERVIÇO LIMITADO MOVEL \u001b[0m\n",
       "\u001b[32mPRIVATIVO\"\u001b[0m\u001b[32m}\u001b[0m\u001b[32m'\u001b[0m\u001b[32m, \u001b[0m\u001b[32m'\u001b[0m\u001b[32m{\u001b[0m\u001b[32m\"valor\":\"024 - COLETIVO - RADIOENLACES ASSOCIADOS AO SERVIÇO ESPECIALIZADO \u001b[0m\n",
       "\u001b[32mREPETIÇÃO SINAL ÁUDIO\",\"texto\":\"024 - COLETIVO - RADIOENLACES ASSOCIADOS AO SERVIÇO \u001b[0m\n",
       "\u001b[32mESPECIALIZADO REPETIÇÃO SINAL ÁUDIO\"\u001b[0m\u001b[32m}\u001b[0m\u001b[32m'\u001b[0m\u001b[32m, \u001b[0m\u001b[32m'\u001b[0m\u001b[32m{\u001b[0m\u001b[32m\"valor\":\"025 - COLETIVO - RADIOENLACES ASSOCIADOS \u001b[0m\n",
       "\u001b[32mAO SERVIÇO ESPECIALIZADO REPETIÇÃO TV/VÍDEO\",\"texto\":\"025 - COLETIVO - RADIOENLACES \u001b[0m\n",
       "\u001b[32mASSOCIADOS AO SERVIÇO ESPECIALIZADO REPETIÇÃO TV/VÍDEO\"\u001b[0m\u001b[32m}\u001b[0m\u001b[32m'\u001b[0m\u001b[32m, \u001b[0m\u001b[32m'\u001b[0m\u001b[32m{\u001b[0m\u001b[32m\"valor\":\"026 - RESTRITO - \u001b[0m\n",
       "\u001b[32mRADIOENLACES ASSOCIADOS AO SERVIÇO DE CIRCUITO ESPECIALIZADO\",\"texto\":\"026 - RESTRITO - \u001b[0m\n",
       "\u001b[32mRADIOENLACES ASSOCIADOS AO SERVIÇO DE CIRCUITO ESPECIALIZADO\"\u001b[0m\u001b[32m}\u001b[0m\u001b[32m'\u001b[0m\u001b[32m, \u001b[0m\u001b[32m'\u001b[0m\u001b[32m{\u001b[0m\u001b[32m\"valor\":\"027 - COLETIVO - \u001b[0m\n",
       "\u001b[32mRADIOENLACES ASSOCIADOS AO SERVIÇO MÓVEL ESPECIALIZADO\",\"texto\":\"027 - COLETIVO - \u001b[0m\n",
       "\u001b[32mRADIOENLACES ASSOCIADOS AO SERVIÇO MÓVEL ESPECIALIZADO\"\u001b[0m\u001b[32m}\u001b[0m\u001b[32m'\u001b[0m\u001b[32m, \u001b[0m\u001b[32m'\u001b[0m\u001b[32m{\u001b[0m\u001b[32m\"valor\":\"028 - RESTRITO - \u001b[0m\n",
       "\u001b[32mLIMITADO PRIVADO ESTAÇÕES ITINERANTES\",\"texto\":\"028 - RESTRITO - LIMITADO PRIVADO ESTAÇÕES \u001b[0m\n",
       "\u001b[32mITINERANTES\"\u001b[0m\u001b[32m}\u001b[0m\u001b[32m'\u001b[0m\u001b[32m, \u001b[0m\u001b[32m'\u001b[0m\u001b[32m{\u001b[0m\u001b[32m\"valor\":\"029 - COLETIVO - RADIOENLACES ASSOCIADOS AO SERVIÇO LIMITADO \u001b[0m\n",
       "\u001b[32mESPECIALIZADO\",\"texto\":\"029 - COLETIVO - RADIOENLACES ASSOCIADOS AO SERVIÇO LIMITADO \u001b[0m\n",
       "\u001b[32mESPECIALIZADO\"\u001b[0m\u001b[32m}\u001b[0m\u001b[32m'\u001b[0m\u001b[32m, \u001b[0m\u001b[32m'\u001b[0m\u001b[32m{\u001b[0m\u001b[32m\"valor\":\"030 - COLETIVO - SERVIÇO REDE DE TRANSPORTE TELECOMUNICAÇÕES - \u001b[0m\n",
       "\u001b[32mSRTT\",\"texto\":\"030 - COLETIVO - SERVIÇO REDE DE TRANSPORTE TELECOMUNICAÇÕES - SRTT\"\u001b[0m\u001b[32m}\u001b[0m\u001b[32m'\u001b[0m\u001b[32m, \u001b[0m\n",
       "\u001b[32m'\u001b[0m\u001b[32m{\u001b[0m\u001b[32m\"valor\":\"031 - COLETIVO - SERV. REDE DE TRANSPORTE TELECOM-SRTT - SATELITE\",\"texto\":\"031 - \u001b[0m\n",
       "\u001b[32mCOLETIVO - SERV. REDE DE TRANSPORTE TELECOM-SRTT - SATELITE\"\u001b[0m\u001b[32m}\u001b[0m\u001b[32m'\u001b[0m\u001b[32m, \u001b[0m\u001b[32m'\u001b[0m\u001b[32m{\u001b[0m\u001b[32m\"valor\":\"032 - COLETIVO - \u001b[0m\n",
       "\u001b[32mRADIOENLACES ASSOCIADOS AO SERVIÇO REDE TRANSPORTE TELECOMUNICAÇÃO\",\"texto\":\"032 - COLETIVO -\u001b[0m\n",
       "\u001b[32mRADIOENLACES ASSOCIADOS AO SERVIÇO REDE TRANSPORTE TELECOMUNICAÇÃO\"\u001b[0m\u001b[32m}\u001b[0m\u001b[32m'\u001b[0m\u001b[32m, \u001b[0m\u001b[32m'\u001b[0m\u001b[32m{\u001b[0m\u001b[32m\"valor\":\"033 - \u001b[0m\n",
       "\u001b[32mCOLETIVO - RADIOENLACES ASSOCIADOS AO SERVIÇO DE RÁDIOTAXI\",\"texto\":\"033 - COLETIVO - \u001b[0m\n",
       "\u001b[32mRADIOENLACES ASSOCIADOS AO SERVIÇO DE RÁDIOTAXI\"\u001b[0m\u001b[32m}\u001b[0m\u001b[32m'\u001b[0m\u001b[32m, \u001b[0m\u001b[32m'\u001b[0m\u001b[32m{\u001b[0m\u001b[32m\"valor\":\"034 - RESTRITO - SERVIÇO SLMP \u001b[0m\n",
       "\u001b[32mPRESTADO A DETERMINADOS GRUPOS DE USUARIOS\",\"texto\":\"034 - RESTRITO - SERVIÇO SLMP PRESTADO A\u001b[0m\n",
       "\u001b[32mDETERMINADOS GRUPOS DE USUARIOS\"\u001b[0m\u001b[32m}\u001b[0m\u001b[32m'\u001b[0m\u001b[32m, \u001b[0m\u001b[32m'\u001b[0m\u001b[32m{\u001b[0m\u001b[32m\"valor\":\"035 - RESTRITO - ESPC. P/FINS \u001b[0m\n",
       "\u001b[32mCIENTIF.EXPERIMENTAIS\",\"texto\":\"035 - RESTRITO - ESPC. P/FINS CIENTIF.EXPERIMENTAIS\"\u001b[0m\u001b[32m}\u001b[0m\u001b[32m'\u001b[0m\u001b[32m, \u001b[0m\n",
       "\u001b[32m'\u001b[0m\u001b[32m{\u001b[0m\u001b[32m\"valor\":\"036 - RESTRITO - SERVIÇO DE MONITORAGEM DO ESPECTRO\",\"texto\":\"036 - RESTRITO - \u001b[0m\n",
       "\u001b[32mSERVIÇO DE MONITORAGEM DO ESPECTRO\"\u001b[0m\u001b[32m}\u001b[0m\u001b[32m'\u001b[0m\u001b[32m, \u001b[0m\u001b[32m'\u001b[0m\u001b[32m{\u001b[0m\u001b[32m\"valor\":\"037 - RESTRITO - SERVIÇO USO TEMPORÁRIO DO \u001b[0m\n",
       "\u001b[32mESPECTRO\",\"texto\":\"037 - RESTRITO - SERVIÇO USO TEMPORÁRIO DO ESPECTRO\"\u001b[0m\u001b[32m}\u001b[0m\u001b[32m'\u001b[0m\u001b[32m, \u001b[0m\u001b[32m'\u001b[0m\u001b[32m{\u001b[0m\u001b[32m\"valor\":\"038 - \u001b[0m\n",
       "\u001b[32mCOLETIVO - SERVIÇO ESPECIAL DE REPETIÇÃO DE SINAIS DE TV E VÍDEO\",\"texto\":\"038 - COLETIVO - \u001b[0m\n",
       "\u001b[32mSERVIÇO ESPECIAL DE REPETIÇÃO DE SINAIS DE TV E VÍDEO\"\u001b[0m\u001b[32m}\u001b[0m\u001b[32m'\u001b[0m\u001b[32m, \u001b[0m\u001b[32m'\u001b[0m\u001b[32m{\u001b[0m\u001b[32m\"valor\":\"039 - COLETIVO - SERVIÇO\u001b[0m\n",
       "\u001b[32mESPECIAL DE REPETIÇÃO DE SINAIS DE ÁUDIO\",\"texto\":\"039 - COLETIVO - SERVIÇO ESPECIAL DE \u001b[0m\n",
       "\u001b[32mREPETIÇÃO DE SINAIS DE ÁUDIO\"\u001b[0m\u001b[32m}\u001b[0m\u001b[32m'\u001b[0m\u001b[32m, \u001b[0m\u001b[32m'\u001b[0m\u001b[32m{\u001b[0m\u001b[32m\"valor\":\"040 - COLETIVO - SERVIÇO POR LINHA DEDICADA \u001b[0m\n",
       "\u001b[32m(\u001b[0m\u001b[32mSLD\u001b[0m\u001b[32m)\u001b[0m\u001b[32m\",\"texto\":\"040 - COLETIVO - SERVIÇO POR LINHA DEDICADA \u001b[0m\u001b[32m(\u001b[0m\u001b[32mSLD\u001b[0m\u001b[32m)\u001b[0m\u001b[32m\"\u001b[0m\u001b[32m}\u001b[0m\u001b[32m'\u001b[0m\u001b[32m, \u001b[0m\u001b[32m'\u001b[0m\u001b[32m{\u001b[0m\u001b[32m\"valor\":\"041 - \u001b[0m\n",
       "\u001b[32mCOLETIVO - SERVIÇO DE REDE COMUTADA POR PACOTE\",\"texto\":\"041 - COLETIVO - SERVIÇO DE REDE \u001b[0m\n",
       "\u001b[32mCOMUTADA POR PACOTE\"\u001b[0m\u001b[32m}\u001b[0m\u001b[32m'\u001b[0m\u001b[32m, \u001b[0m\u001b[32m'\u001b[0m\u001b[32m{\u001b[0m\u001b[32m\"valor\":\"042 - COLETIVO - SERVIÇO DE REDE COMUTADA POR \u001b[0m\n",
       "\u001b[32mCIRCUITO\",\"texto\":\"042 - COLETIVO - SERVIÇO DE REDE COMUTADA POR CIRCUITO\"\u001b[0m\u001b[32m}\u001b[0m\u001b[32m'\u001b[0m\u001b[32m, \u001b[0m\u001b[32m'\u001b[0m\u001b[32m{\u001b[0m\u001b[32m\"valor\":\"043 \u001b[0m\n",
       "\u001b[32m- COLETIVO - ESPECIAL DE RADIORRECADO\",\"texto\":\"043 - COLETIVO - ESPECIAL DE RADIORRECADO\"\u001b[0m\u001b[32m}\u001b[0m\u001b[32m'\u001b[0m\u001b[32m,\u001b[0m\n",
       "\u001b[32m'\u001b[0m\u001b[32m{\u001b[0m\u001b[32m\"valor\":\"044 - RESTRITO - ENLACES FÍSICOS ASSOCIADOS AO SERVIÇO LIMITADO \u001b[0m\n",
       "\u001b[32mPRIVADO\",\"texto\":\"044 - RESTRITO - ENLACES FÍSICOS ASSOCIADOS AO SERVIÇO LIMITADO PRIVADO\"\u001b[0m\u001b[32m}\u001b[0m\u001b[32m'\u001b[0m\u001b[32m,\u001b[0m\n",
       "\u001b[32m'\u001b[0m\u001b[32m{\u001b[0m\u001b[32m\"valor\":\"045 - COLETIVO - SERVIÇO DE COMUNICAÇÃO MULTIMÍDIA\",\"texto\":\"045 - COLETIVO - \u001b[0m\n",
       "\u001b[32mSERVIÇO DE COMUNICAÇÃO MULTIMÍDIA\"\u001b[0m\u001b[32m}\u001b[0m\u001b[32m'\u001b[0m\u001b[32m, \u001b[0m\u001b[32m'\u001b[0m\u001b[32m{\u001b[0m\u001b[32m\"valor\":\"046 - COLETIVO - RADIOENLACES ASSOCIADOS AO \u001b[0m\n",
       "\u001b[32mSCM\",\"texto\":\"046 - COLETIVO - RADIOENLACES ASSOCIADOS AO SCM\"\u001b[0m\u001b[32m}\u001b[0m\u001b[32m'\u001b[0m\u001b[32m, \u001b[0m\u001b[32m'\u001b[0m\u001b[32m{\u001b[0m\u001b[32m\"valor\":\"047 - COLETIVO -\u001b[0m\n",
       "\u001b[32mSERVIÇO DE COMUNICAÇÃO MULTIMÍDIA - EST. TERRENA\",\"texto\":\"047 - COLETIVO - SERVIÇO DE \u001b[0m\n",
       "\u001b[32mCOMUNICAÇÃO MULTIMÍDIA - EST. TERRENA\"\u001b[0m\u001b[32m}\u001b[0m\u001b[32m'\u001b[0m\u001b[32m, \u001b[0m\u001b[32m'\u001b[0m\u001b[32m{\u001b[0m\u001b[32m\"valor\":\"048 - RESTRITO - \u001b[0m\n",
       "\u001b[32mRÁDIO-ACESSO\",\"texto\":\"048 - RESTRITO - RÁDIO-ACESSO\"\u001b[0m\u001b[32m}\u001b[0m\u001b[32m'\u001b[0m\u001b[32m, \u001b[0m\u001b[32m'\u001b[0m\u001b[32m{\u001b[0m\u001b[32m\"valor\":\"049 - RESTRITO - SERVIÇO \u001b[0m\n",
       "\u001b[32mLIMITADO PRIVADO PARA PRESTAÇÃO DE SERVIÇO PELAS PREFEITURAS MUNICIPAIS\",\"texto\":\"049 - \u001b[0m\n",
       "\u001b[32mRESTRITO - SERVIÇO LIMITADO PRIVADO PARA PRESTAÇÃO DE SERVIÇO PELAS PREFEITURAS \u001b[0m\n",
       "\u001b[32mMUNICIPAIS\"\u001b[0m\u001b[32m}\u001b[0m\u001b[32m'\u001b[0m\u001b[32m, \u001b[0m\u001b[32m'\u001b[0m\u001b[32m{\u001b[0m\u001b[32m\"valor\":\"050 - RESTRITO - SERVIÇO LIMITADO PRIVADO PARA INCLUSÃO DIGITAL NAS\u001b[0m\n",
       "\u001b[32mFAIXAS DE 2,5GHZ E 3,5GHZ\",\"texto\":\"050 - RESTRITO - SERVIÇO LIMITADO PRIVADO PARA INCLUSÃO \u001b[0m\n",
       "\u001b[32mDIGITAL NAS FAIXAS DE 2,5GHZ E 3,5GHZ\"\u001b[0m\u001b[32m}\u001b[0m\u001b[32m'\u001b[0m\u001b[32m, \u001b[0m\u001b[32m'\u001b[0m\u001b[32m{\u001b[0m\u001b[32m\"valor\":\"051 - COLETIVO - SERVIÇO ESPECIAL DE \u001b[0m\n",
       "\u001b[32mRADIOCHAMADA\",\"texto\":\"051 - COLETIVO - SERVIÇO ESPECIAL DE RADIOCHAMADA\"\u001b[0m\u001b[32m}\u001b[0m\u001b[32m'\u001b[0m\u001b[32m, \u001b[0m\u001b[32m'\u001b[0m\u001b[32m{\u001b[0m\u001b[32m\"valor\":\"053 -\u001b[0m\n",
       "\u001b[32mCOLETIVO - RADIOENLACES ASSOCIADOS AO SMP\",\"texto\":\"053 - COLETIVO - RADIOENLACES ASSOCIADOS \u001b[0m\n",
       "\u001b[32mAO SMP\"\u001b[0m\u001b[32m}\u001b[0m\u001b[32m'\u001b[0m\u001b[32m, \u001b[0m\u001b[32m'\u001b[0m\u001b[32m{\u001b[0m\u001b[32m\"valor\":\"060 - RESTRITO - SERVIÇO LIMITADO PRIVADO DE \u001b[0m\n",
       "\u001b[32mRADIOCHAMADA-SLPR\",\"texto\":\"060 - RESTRITO - SERVIÇO LIMITADO PRIVADO DE \u001b[0m\n",
       "\u001b[32mRADIOCHAMADA-SLPR\"\u001b[0m\u001b[32m}\u001b[0m\u001b[32m'\u001b[0m\u001b[32m, \u001b[0m\u001b[32m'\u001b[0m\u001b[32m{\u001b[0m\u001b[32m\"valor\":\"064 - COLETIVO - MÓVEL MARÍTIMO ESPECIALIZADO\",\"texto\":\"064 \u001b[0m\n",
       "\u001b[32m- COLETIVO - MÓVEL MARÍTIMO ESPECIALIZADO\"\u001b[0m\u001b[32m}\u001b[0m\u001b[32m'\u001b[0m\u001b[32m, \u001b[0m\u001b[32m'\u001b[0m\u001b[32m{\u001b[0m\u001b[32m\"valor\":\"067 - COLETIVO - SERVIÇO AVANÇADO DE\u001b[0m\n",
       "\u001b[32mMENSAGEM \u001b[0m\u001b[32m(\u001b[0m\u001b[32mSAM\u001b[0m\u001b[32m)\u001b[0m\u001b[32m\",\"texto\":\"067 - COLETIVO - SERVIÇO AVANÇADO DE MENSAGEM \u001b[0m\u001b[32m(\u001b[0m\u001b[32mSAM\u001b[0m\u001b[32m)\u001b[0m\u001b[32m\"\u001b[0m\u001b[32m}\u001b[0m\u001b[32m'\u001b[0m\u001b[32m, \u001b[0m\n",
       "\u001b[32m'\u001b[0m\u001b[32m{\u001b[0m\u001b[32m\"valor\":\"069 - RESTRITO - SERVIÇO DE CIRCUITO ESPECIALIZADO\",\"texto\":\"069 - RESTRITO - \u001b[0m\n",
       "\u001b[32mSERVIÇO DE CIRCUITO ESPECIALIZADO\"\u001b[0m\u001b[32m}\u001b[0m\u001b[32m'\u001b[0m\u001b[32m, \u001b[0m\u001b[32m'\u001b[0m\u001b[32m{\u001b[0m\u001b[32m\"valor\":\"076 - RESTRITO - SERVIÇO DE REDE \u001b[0m\n",
       "\u001b[32mPRIVADO\",\"texto\":\"076 - RESTRITO - SERVIÇO DE REDE PRIVADO\"\u001b[0m\u001b[32m}\u001b[0m\u001b[32m'\u001b[0m\u001b[32m, \u001b[0m\u001b[32m'\u001b[0m\u001b[32m{\u001b[0m\u001b[32m\"valor\":\"077 - RESTRITO - \u001b[0m\n",
       "\u001b[32mSERVIÇO DE REDE ESPECIALIZADO\",\"texto\":\"077 - RESTRITO - SERVIÇO DE REDE ESPECIALIZADO\"\u001b[0m\u001b[32m}\u001b[0m\u001b[32m'\u001b[0m\u001b[32m, \u001b[0m\n",
       "\u001b[32m'\u001b[0m\u001b[32m{\u001b[0m\u001b[32m\"valor\":\"078 - RESTRITO - SERVIÇO DE RADIOTÁXI PRIVADO\",\"texto\":\"078 - RESTRITO - SERVIÇO \u001b[0m\n",
       "\u001b[32mDE RADIOTÁXI PRIVADO\"\u001b[0m\u001b[32m}\u001b[0m\u001b[32m'\u001b[0m\u001b[32m, \u001b[0m\u001b[32m'\u001b[0m\u001b[32m{\u001b[0m\u001b[32m\"valor\":\"079 - COLETIVO - SERVIÇO DE RADIOTÁXI \u001b[0m\n",
       "\u001b[32mESPECIALIZADO\",\"texto\":\"079 - COLETIVO - SERVIÇO DE RADIOTÁXI ESPECIALIZADO\"\u001b[0m\u001b[32m}\u001b[0m\u001b[32m'\u001b[0m\u001b[32m, \u001b[0m\n",
       "\u001b[32m'\u001b[0m\u001b[32m{\u001b[0m\u001b[32m\"valor\":\"086 - COLETIVO - ESPECIAL DE FREQÜÊNCIA PADRÃO\",\"texto\":\"086 - COLETIVO - ESPECIAL\u001b[0m\n",
       "\u001b[32mDE FREQÜÊNCIA PADRÃO\"\u001b[0m\u001b[32m}\u001b[0m\u001b[32m'\u001b[0m\u001b[32m, \u001b[0m\u001b[32m'\u001b[0m\u001b[32m{\u001b[0m\u001b[32m\"valor\":\"094 - COLETIVO - SERVIÇO ESPECIAL DE SINAIS \u001b[0m\n",
       "\u001b[32mHORÁRIOS\",\"texto\":\"094 - COLETIVO - SERVIÇO ESPECIAL DE SINAIS HORÁRIOS\"\u001b[0m\u001b[32m}\u001b[0m\u001b[32m'\u001b[0m\u001b[32m, \u001b[0m\u001b[32m'\u001b[0m\u001b[32m{\u001b[0m\u001b[32m\"valor\":\"099 - \u001b[0m\n",
       "\u001b[32mRESTRITO - SERVIÇO DE RADIAÇÃO RESTRITA\",\"texto\":\"099 - RESTRITO - SERVIÇO DE RADIAÇÃO \u001b[0m\n",
       "\u001b[32mRESTRITA\"\u001b[0m\u001b[32m}\u001b[0m\u001b[32m'\u001b[0m\u001b[32m, \u001b[0m\u001b[32m'\u001b[0m\u001b[32m{\u001b[0m\u001b[32m\"valor\":\"108 - RESTRITO - SERVIÇO LIMITADO PRIVADO SUBMODALIDADE \u001b[0m\n",
       "\u001b[32mRADIODETERMINAÇÃO\",\"texto\":\"108 - RESTRITO - SERVIÇO LIMITADO PRIVADO SUBMODALIDADE \u001b[0m\n",
       "\u001b[32mRADIODETERMINAÇÃO\"\u001b[0m\u001b[32m}\u001b[0m\u001b[32m'\u001b[0m\u001b[32m, \u001b[0m\u001b[32m'\u001b[0m\u001b[32m{\u001b[0m\u001b[32m\"valor\":\"116 - COLETIVO - TEL.PUBLICO MOVEL \u001b[0m\n",
       "\u001b[32mRODOVIARIO-TELESTRADA\",\"texto\":\"116 - COLETIVO - TEL.PUBLICO MOVEL RODOVIARIO-TELESTRADA\"\u001b[0m\u001b[32m}\u001b[0m\u001b[32m'\u001b[0m\u001b[32m, \u001b[0m\n",
       "\u001b[32m'\u001b[0m\u001b[32m{\u001b[0m\u001b[32m\"valor\":\"124 - RESTRITO - ESPECIAL DE SUPERVISÃO E CONTROLE/USO PRÓPRIO\",\"texto\":\"124 - \u001b[0m\n",
       "\u001b[32mRESTRITO - ESPECIAL DE SUPERVISÃO E CONTROLE/USO PRÓPRIO\"\u001b[0m\u001b[32m}\u001b[0m\u001b[32m'\u001b[0m\u001b[32m, \u001b[0m\u001b[32m'\u001b[0m\u001b[32m{\u001b[0m\u001b[32m\"valor\":\"125 - RESTRITO - \u001b[0m\n",
       "\u001b[32mESPECIAL DE SUPERVISÃO E CONTROLE/TERCEIROS\",\"texto\":\"125 - RESTRITO - ESPECIAL DE SUPERVISÃO\u001b[0m\n",
       "\u001b[32mE CONTROLE/TERCEIROS\"\u001b[0m\u001b[32m}\u001b[0m\u001b[32m'\u001b[0m\u001b[32m, \u001b[0m\u001b[32m'\u001b[0m\u001b[32m{\u001b[0m\u001b[32m\"valor\":\"132 - RESTRITO - ESPECIAL DE RADIOAUTOCINE\",\"texto\":\"132 \u001b[0m\n",
       "\u001b[32m- RESTRITO - ESPECIAL DE RADIOAUTOCINE\"\u001b[0m\u001b[32m}\u001b[0m\u001b[32m'\u001b[0m\u001b[32m, \u001b[0m\u001b[32m'\u001b[0m\u001b[32m{\u001b[0m\u001b[32m\"valor\":\"140 - RESTRITO - LIMITADO - \u001b[0m\n",
       "\u001b[32mRADIOESTRADA\",\"texto\":\"140 - RESTRITO - LIMITADO - RADIOESTRADA\"\u001b[0m\u001b[32m}\u001b[0m\u001b[32m'\u001b[0m\u001b[32m, \u001b[0m\u001b[32m'\u001b[0m\u001b[32m{\u001b[0m\u001b[32m\"valor\":\"159 - COLETIVO\u001b[0m\n",
       "\u001b[32m- RADIOCOMUNICAÇÃO AERONÁUTICA PÚBLICO - RESTRITO\",\"texto\":\"159 - COLETIVO - RADIOCOMUNICAÇÃO\u001b[0m\n",
       "\u001b[32mAERONÁUTICA PÚBLICO - RESTRITO\"\u001b[0m\u001b[32m}\u001b[0m\u001b[32m'\u001b[0m\u001b[32m, \u001b[0m\u001b[32m'\u001b[0m\u001b[32m{\u001b[0m\u001b[32m\"valor\":\"163 - COLETIVO - SERVIÇO DE COMUNICAÇÃO DE \u001b[0m\n",
       "\u001b[32mTEXTOS\",\"texto\":\"163 - COLETIVO - SERVIÇO DE COMUNICAÇÃO DE TEXTOS\"\u001b[0m\u001b[32m}\u001b[0m\u001b[32m'\u001b[0m\u001b[32m, \u001b[0m\u001b[32m'\u001b[0m\u001b[32m{\u001b[0m\u001b[32m\"valor\":\"167 - \u001b[0m\n",
       "\u001b[32mCOLETIVO - ESPECIAL DE TELEVISAO POR ASSINATURA\",\"texto\":\"167 - COLETIVO - ESPECIAL DE \u001b[0m\n",
       "\u001b[32mTELEVISAO POR ASSINATURA\"\u001b[0m\u001b[32m}\u001b[0m\u001b[32m'\u001b[0m\u001b[32m, \u001b[0m\u001b[32m'\u001b[0m\u001b[32m{\u001b[0m\u001b[32m\"valor\":\"171 - COLETIVO - SERVICO TELEFONICO FIXO \u001b[0m\n",
       "\u001b[32mCOMUTADO\",\"texto\":\"171 - COLETIVO - SERVICO TELEFONICO FIXO COMUTADO\"\u001b[0m\u001b[32m}\u001b[0m\u001b[32m'\u001b[0m\u001b[32m, \u001b[0m\u001b[32m'\u001b[0m\u001b[32m{\u001b[0m\u001b[32m\"valor\":\"175 - \u001b[0m\n",
       "\u001b[32mCOLETIVO - STFC/RADIOTELEFONICO - ESTACOES TERRESTRES\",\"texto\":\"175 - COLETIVO - \u001b[0m\n",
       "\u001b[32mSTFC/RADIOTELEFONICO - ESTACOES TERRESTRES\"\u001b[0m\u001b[32m}\u001b[0m\u001b[32m'\u001b[0m\u001b[32m, \u001b[0m\u001b[32m'\u001b[0m\u001b[32m{\u001b[0m\u001b[32m\"valor\":\"176 - COLETIVO - \u001b[0m\n",
       "\u001b[32mSTFC/RADIOTELEFONICO - ESTACOES TERRENAS\",\"texto\":\"176 - COLETIVO - STFC/RADIOTELEFONICO - \u001b[0m\n",
       "\u001b[32mESTACOES TERRENAS\"\u001b[0m\u001b[32m}\u001b[0m\u001b[32m'\u001b[0m\u001b[32m, \u001b[0m\u001b[32m'\u001b[0m\u001b[32m{\u001b[0m\u001b[32m\"valor\":\"181 - RESTRITO - LIMITADO PRIVADO POR SATELITE\",\"texto\":\"181\u001b[0m\n",
       "\u001b[32m- RESTRITO - LIMITADO PRIVADO POR SATELITE\"\u001b[0m\u001b[32m}\u001b[0m\u001b[32m'\u001b[0m\u001b[32m, \u001b[0m\u001b[32m'\u001b[0m\u001b[32m{\u001b[0m\u001b[32m\"valor\":\"182 - RESTRITO - LIMITADO \u001b[0m\n",
       "\u001b[32mESPECIALIZADO POR SATELITE\",\"texto\":\"182 - RESTRITO - LIMITADO ESPECIALIZADO POR SATELITE\"\u001b[0m\u001b[32m}\u001b[0m\u001b[32m'\u001b[0m\u001b[32m,\u001b[0m\n",
       "\u001b[32m'\u001b[0m\u001b[32m{\u001b[0m\u001b[32m\"valor\":\"183 - COLETIVO - ESPECIAL DE BOLETINS METEOROLOGICOS\",\"texto\":\"183 - COLETIVO - \u001b[0m\n",
       "\u001b[32mESPECIAL DE BOLETINS METEOROLOGICOS\"\u001b[0m\u001b[32m}\u001b[0m\u001b[32m'\u001b[0m\u001b[32m, \u001b[0m\u001b[32m'\u001b[0m\u001b[32m{\u001b[0m\u001b[32m\"valor\":\"185 - RESTRITO - EXPLORACAO DE SATELITE E \u001b[0m\n",
       "\u001b[32mESTACOES DE ACESSO\",\"texto\":\"185 - RESTRITO - EXPLORACAO DE SATELITE E ESTACOES DE ACESSO\"\u001b[0m\u001b[32m}\u001b[0m\u001b[32m'\u001b[0m\u001b[32m,\u001b[0m\n",
       "\u001b[32m'\u001b[0m\u001b[32m{\u001b[0m\u001b[32m\"valor\":\"186 - RESTRITO - EXPLORAÇÃO DE SATÉLITE NÃO-GEOESTACIONÁRIO E ESTAÇÃO DE \u001b[0m\n",
       "\u001b[32mACESSO\",\"texto\":\"186 - RESTRITO - EXPLORAÇÃO DE SATÉLITE NÃO-GEOESTACIONÁRIO E ESTAÇÃO DE \u001b[0m\n",
       "\u001b[32mACESSO\"\u001b[0m\u001b[32m}\u001b[0m\u001b[32m'\u001b[0m\u001b[32m, \u001b[0m\u001b[32m'\u001b[0m\u001b[32m{\u001b[0m\u001b[32m\"valor\":\"187 - RESTRITO - SERVICO DE REDE ESPECIALIZADO P/SATELITE\",\"texto\":\"187\u001b[0m\n",
       "\u001b[32m- RESTRITO - SERVICO DE REDE ESPECIALIZADO P/SATELITE\"\u001b[0m\u001b[32m}\u001b[0m\u001b[32m'\u001b[0m\u001b[32m, \u001b[0m\u001b[32m'\u001b[0m\u001b[32m{\u001b[0m\u001b[32m\"valor\":\"188 - RESTRITO - SERVICO\u001b[0m\n",
       "\u001b[32mDE CIRCUITO ESPECIALIZADO P/SATELITE\",\"texto\":\"188 - RESTRITO - SERVICO DE CIRCUITO \u001b[0m\n",
       "\u001b[32mESPECIALIZADO P/SATELITE\"\u001b[0m\u001b[32m}\u001b[0m\u001b[32m'\u001b[0m\u001b[32m, \u001b[0m\u001b[32m'\u001b[0m\u001b[32m{\u001b[0m\u001b[32m\"valor\":\"189 - COLETIVO - SERVICO MOVEL GLOBAL POR \u001b[0m\n",
       "\u001b[32mSATELITE\u001b[0m\u001b[32m(\u001b[0m\u001b[32mSMGS\u001b[0m\u001b[32m)\u001b[0m\u001b[32m\",\"texto\":\"189 - COLETIVO - SERVICO MOVEL GLOBAL POR SATELITE\u001b[0m\u001b[32m(\u001b[0m\u001b[32mSMGS\u001b[0m\u001b[32m)\u001b[0m\u001b[32m\"\u001b[0m\u001b[32m}\u001b[0m\u001b[32m'\u001b[0m\u001b[32m, \u001b[0m\n",
       "\u001b[32m'\u001b[0m\u001b[32m{\u001b[0m\u001b[32m\"valor\":\"191 - COLETIVO - SERVIÇO DE COMUNICAÇÃO DE DADOS COMUTADO\",\"texto\":\"191 - COLETIVO\u001b[0m\n",
       "\u001b[32m- SERVIÇO DE COMUNICAÇÃO DE DADOS COMUTADO\"\u001b[0m\u001b[32m}\u001b[0m\u001b[32m'\u001b[0m\u001b[32m, \u001b[0m\u001b[32m'\u001b[0m\u001b[32m{\u001b[0m\u001b[32m\"valor\":\"205 - COLETIVO - RADIODIFUSÃO \u001b[0m\n",
       "\u001b[32mSONORA EM ONDA MÉDIA\",\"texto\":\"205 - COLETIVO - RADIODIFUSÃO SONORA EM ONDA MÉDIA\"\u001b[0m\u001b[32m}\u001b[0m\u001b[32m'\u001b[0m\u001b[32m, \u001b[0m\n",
       "\u001b[32m'\u001b[0m\u001b[32m{\u001b[0m\u001b[32m\"valor\":\"213 - COLETIVO - RADIODIFUSÃO SONORA EM ONDAS CURTAS\",\"texto\":\"213 - COLETIVO - \u001b[0m\n",
       "\u001b[32mRADIODIFUSÃO SONORA EM ONDAS CURTAS\"\u001b[0m\u001b[32m}\u001b[0m\u001b[32m'\u001b[0m\u001b[32m, \u001b[0m\u001b[32m'\u001b[0m\u001b[32m{\u001b[0m\u001b[32m\"valor\":\"221 - COLETIVO - RADIODIFUSÃO SONORA EM \u001b[0m\n",
       "\u001b[32mONDA TROPICAL\",\"texto\":\"221 - COLETIVO - RADIODIFUSÃO SONORA EM ONDA TROPICAL\"\u001b[0m\u001b[32m}\u001b[0m\u001b[32m'\u001b[0m\u001b[32m, \u001b[0m\n",
       "\u001b[32m'\u001b[0m\u001b[32m{\u001b[0m\u001b[32m\"valor\":\"230 - COLETIVO - RADIODIFUSÃO SONORA EM FREQÜÊNCIA MODULADA\",\"texto\":\"230 - \u001b[0m\n",
       "\u001b[32mCOLETIVO - RADIODIFUSÃO SONORA EM FREQÜÊNCIA MODULADA\"\u001b[0m\u001b[32m}\u001b[0m\u001b[32m'\u001b[0m\u001b[32m, \u001b[0m\u001b[32m'\u001b[0m\u001b[32m{\u001b[0m\u001b[32m\"valor\":\"231 - COLETIVO - \u001b[0m\n",
       "\u001b[32mRADIODIFUSÃO COMUNITÁRIA\",\"texto\":\"231 - COLETIVO - RADIODIFUSÃO COMUNITÁRIA\"\u001b[0m\u001b[32m}\u001b[0m\u001b[32m'\u001b[0m\u001b[32m, \u001b[0m\n",
       "\u001b[32m'\u001b[0m\u001b[32m{\u001b[0m\u001b[32m\"valor\":\"247 - COLETIVO - GERADORA DE RADIODIFUSÃO DE SONS E IMAGENS - \u001b[0m\n",
       "\u001b[32mDIGITAL\",\"texto\":\"247 - COLETIVO - GERADORA DE RADIODIFUSÃO DE SONS E IMAGENS - DIGITAL\"\u001b[0m\u001b[32m}\u001b[0m\u001b[32m'\u001b[0m\u001b[32m, \u001b[0m\n",
       "\u001b[32m'\u001b[0m\u001b[32m{\u001b[0m\u001b[32m\"valor\":\"248 - COLETIVO - RADIODIFUSÃO DE SONS E IMAGENS\",\"texto\":\"248 - COLETIVO - \u001b[0m\n",
       "\u001b[32mRADIODIFUSÃO DE SONS E IMAGENS\"\u001b[0m\u001b[32m}\u001b[0m\u001b[32m'\u001b[0m\u001b[32m, \u001b[0m\u001b[32m'\u001b[0m\u001b[32m{\u001b[0m\u001b[32m\"valor\":\"251 - RESTRITO - AUXILIAR RADIODIF.- TRANSMISS.\u001b[0m\n",
       "\u001b[32mDE PROGRAMAS\",\"texto\":\"251 - RESTRITO - AUXILIAR RADIODIF.- TRANSMISS. DE PROGRAMAS\"\u001b[0m\u001b[32m}\u001b[0m\u001b[32m'\u001b[0m\u001b[32m, \u001b[0m\n",
       "\u001b[32m'\u001b[0m\u001b[32m{\u001b[0m\u001b[32m\"valor\":\"252 - RESTRITO - AUXILIAR RADIODIF.- REPORTAGEM EXTERNA\",\"texto\":\"252 - RESTRITO -\u001b[0m\n",
       "\u001b[32mAUXILIAR RADIODIF.- REPORTAGEM EXTERNA\"\u001b[0m\u001b[32m}\u001b[0m\u001b[32m'\u001b[0m\u001b[32m, \u001b[0m\u001b[32m'\u001b[0m\u001b[32m{\u001b[0m\u001b[32m\"valor\":\"253 - RESTRITO - AUXILIAR RADIODIF.- \u001b[0m\n",
       "\u001b[32mCOM. DE ORDENS INTERNAS\",\"texto\":\"253 - RESTRITO - AUXILIAR RADIODIF.- COM. DE ORDENS \u001b[0m\n",
       "\u001b[32mINTERNAS\"\u001b[0m\u001b[32m}\u001b[0m\u001b[32m'\u001b[0m\u001b[32m, \u001b[0m\u001b[32m'\u001b[0m\u001b[32m{\u001b[0m\u001b[32m\"valor\":\"254 - RESTRITO - AUX. DE RADIODIFUSAO - TELECOMANDO\",\"texto\":\"254 - \u001b[0m\n",
       "\u001b[32mRESTRITO - AUX. DE RADIODIFUSAO - TELECOMANDO\"\u001b[0m\u001b[32m}\u001b[0m\u001b[32m'\u001b[0m\u001b[32m, \u001b[0m\u001b[32m'\u001b[0m\u001b[32m{\u001b[0m\u001b[32m\"valor\":\"255 - RESTRITO - AUX. DE \u001b[0m\n",
       "\u001b[32mRADIODIFUSAO - TELEMEDICAO\",\"texto\":\"255 - RESTRITO - AUX. DE RADIODIFUSAO - TELEMEDICAO\"\u001b[0m\u001b[32m}\u001b[0m\u001b[32m'\u001b[0m\u001b[32m, \u001b[0m\n",
       "\u001b[32m'\u001b[0m\u001b[32m{\u001b[0m\u001b[32m\"valor\":\"256 - RESTRITO - AUXILIAR DE RADIODIFUSAO E CORRELATOS\",\"texto\":\"256 - RESTRITO - \u001b[0m\n",
       "\u001b[32mAUXILIAR DE RADIODIFUSAO E CORRELATOS\"\u001b[0m\u001b[32m}\u001b[0m\u001b[32m'\u001b[0m\u001b[32m, \u001b[0m\u001b[32m'\u001b[0m\u001b[32m{\u001b[0m\u001b[32m\"valor\":\"264 - RESTRITO - ESPECIAL CANAL \u001b[0m\n",
       "\u001b[32mSECUNDARIO DE SONS E IMAGENS\",\"texto\":\"264 - RESTRITO - ESPECIAL CANAL SECUNDARIO DE SONS E \u001b[0m\n",
       "\u001b[32mIMAGENS\"\u001b[0m\u001b[32m}\u001b[0m\u001b[32m'\u001b[0m\u001b[32m, \u001b[0m\u001b[32m'\u001b[0m\u001b[32m{\u001b[0m\u001b[32m\"valor\":\"302 - RESTRITO - RADIOAMADOR\",\"texto\":\"302 - RESTRITO - \u001b[0m\n",
       "\u001b[32mRADIOAMADOR\"\u001b[0m\u001b[32m}\u001b[0m\u001b[32m'\u001b[0m\u001b[32m, \u001b[0m\u001b[32m'\u001b[0m\u001b[32m{\u001b[0m\u001b[32m\"valor\":\"400 - RESTRITO - RÁDIO DO CIDADÃO\",\"texto\":\"400 - RESTRITO - RÁDIO\u001b[0m\n",
       "\u001b[32mDO CIDADÃO\"\u001b[0m\u001b[32m}\u001b[0m\u001b[32m'\u001b[0m\u001b[32m, \u001b[0m\u001b[32m'\u001b[0m\u001b[32m{\u001b[0m\u001b[32m\"valor\":\"450 - COLETIVO - COMUNICAÇÃO MULTIMÍDIA - DISPENSA DE \u001b[0m\n",
       "\u001b[32mAUTORIZAÇÃO\",\"texto\":\"450 - COLETIVO - COMUNICAÇÃO MULTIMÍDIA - DISPENSA DE AUTORIZAÇÃO\"\u001b[0m\u001b[32m}\u001b[0m\u001b[32m'\u001b[0m\u001b[32m, \u001b[0m\n",
       "\u001b[32m'\u001b[0m\u001b[32m{\u001b[0m\u001b[32m\"valor\":\"507 - RESTRITO - MÓVEL AERONÁUTICO\",\"texto\":\"507 - RESTRITO - MÓVEL \u001b[0m\n",
       "\u001b[32mAERONÁUTICO\"\u001b[0m\u001b[32m}\u001b[0m\u001b[32m'\u001b[0m\u001b[32m, \u001b[0m\u001b[32m'\u001b[0m\u001b[32m{\u001b[0m\u001b[32m\"valor\":\"604 - RESTRITO - MÓVEL MARÍTIMO\",\"texto\":\"604 - RESTRITO - MÓVEL \u001b[0m\n",
       "\u001b[32mMARÍTIMO\"\u001b[0m\u001b[32m}\u001b[0m\u001b[32m'\u001b[0m\u001b[32m, \u001b[0m\u001b[32m'\u001b[0m\u001b[32m{\u001b[0m\u001b[32m\"valor\":\"701 - RESTRITO - ESPECIAL DE MUSICA FUNCIONAL\",\"texto\":\"701 - \u001b[0m\n",
       "\u001b[32mRESTRITO - ESPECIAL DE MUSICA FUNCIONAL\"\u001b[0m\u001b[32m}\u001b[0m\u001b[32m'\u001b[0m\u001b[32m, \u001b[0m\u001b[32m'\u001b[0m\u001b[32m{\u001b[0m\u001b[32m\"valor\":\"710 - RESTRITO - ESPECIAL EM CANAL \u001b[0m\n",
       "\u001b[32mSECUNDARIO DE FM\",\"texto\":\"710 - RESTRITO - ESPECIAL EM CANAL SECUNDARIO DE FM\"\u001b[0m\u001b[32m}\u001b[0m\u001b[32m'\u001b[0m\u001b[32m, \u001b[0m\n",
       "\u001b[32m'\u001b[0m\u001b[32m{\u001b[0m\u001b[32m\"valor\":\"728 - RESTRITO - ESPECIAL DE REPETICAO DE TELEVISAO\",\"texto\":\"728 - RESTRITO - \u001b[0m\n",
       "\u001b[32mESPECIAL DE REPETICAO DE TELEVISAO\"\u001b[0m\u001b[32m}\u001b[0m\u001b[32m'\u001b[0m\u001b[32m, \u001b[0m\u001b[32m'\u001b[0m\u001b[32m{\u001b[0m\u001b[32m\"valor\":\"729 - COLETIVO - TV A CABO\",\"texto\":\"729 - \u001b[0m\n",
       "\u001b[32mCOLETIVO - TV A CABO\"\u001b[0m\u001b[32m}\u001b[0m\u001b[32m'\u001b[0m\u001b[32m, \u001b[0m\u001b[32m'\u001b[0m\u001b[32m{\u001b[0m\u001b[32m\"valor\":\"730 - COLETIVO - ESPECIAL DE REPETICAO DE TV - \u001b[0m\n",
       "\u001b[32mSATELITE\",\"texto\":\"730 - COLETIVO - ESPECIAL DE REPETICAO DE TV - SATELITE\"\u001b[0m\u001b[32m}\u001b[0m\u001b[32m'\u001b[0m\u001b[32m, \u001b[0m\u001b[32m'\u001b[0m\u001b[32m{\u001b[0m\u001b[32m\"valor\":\"735\u001b[0m\n",
       "\u001b[32m- COLETIVO - DISTRIB. SINAIS TV/AUDIO P/ASSINATURA VIA SATELITE\",\"texto\":\"735 - COLETIVO - \u001b[0m\n",
       "\u001b[32mDISTRIB. SINAIS TV/AUDIO P/ASSINATURA VIA SATELITE\"\u001b[0m\u001b[32m}\u001b[0m\u001b[32m'\u001b[0m\u001b[32m, \u001b[0m\u001b[32m'\u001b[0m\u001b[32m{\u001b[0m\u001b[32m\"valor\":\"740 - COLETIVO - \u001b[0m\n",
       "\u001b[32mESPEC.DISTRIB.SINAIS MULTIPONTO/MULTICANAL\",\"texto\":\"740 - COLETIVO - ESPEC.DISTRIB.SINAIS \u001b[0m\n",
       "\u001b[32mMULTIPONTO/MULTICANAL\"\u001b[0m\u001b[32m}\u001b[0m\u001b[32m'\u001b[0m\u001b[32m, \u001b[0m\u001b[32m'\u001b[0m\u001b[32m{\u001b[0m\u001b[32m\"valor\":\"750 - COLETIVO - SERVIÇO DE ACESSO \u001b[0m\n",
       "\u001b[32mCONDICIONADO\",\"texto\":\"750 - COLETIVO - SERVIÇO DE ACESSO CONDICIONADO\"\u001b[0m\u001b[32m}\u001b[0m\u001b[32m'\u001b[0m\u001b[32m, \u001b[0m\u001b[32m'\u001b[0m\u001b[32m{\u001b[0m\u001b[32m\"valor\":\"800 - \u001b[0m\n",
       "\u001b[32mCOLETIVO - RETRANSMISSAO DE T.V.\",\"texto\":\"800 - COLETIVO - RETRANSMISSAO DE T.V.\"\u001b[0m\u001b[32m}\u001b[0m\u001b[32m'\u001b[0m\u001b[32m, \u001b[0m\n",
       "\u001b[32m'\u001b[0m\u001b[32m{\u001b[0m\u001b[32m\"valor\":\"801 - COLETIVO - RETRANSMISSÃO DE RADIODIFUSÃO DE SONS E IMAGENS - \u001b[0m\n",
       "\u001b[32mDIGITAL\",\"texto\":\"801 - COLETIVO - RETRANSMISSÃO DE RADIODIFUSÃO DE SONS E IMAGENS - \u001b[0m\n",
       "\u001b[32mDIGITAL\"\u001b[0m\u001b[32m}\u001b[0m\u001b[32m'\u001b[0m\u001b[32m, \u001b[0m\u001b[32m'\u001b[0m\u001b[32m{\u001b[0m\u001b[32m\"valor\":\"802 - COLETIVO - PLANO BÁSICO DE RADIODIFUSÃO DE SONS E IMAGENS - \u001b[0m\n",
       "\u001b[32mDIGITAL\",\"texto\":\"802 - COLETIVO - PLANO BÁSICO DE RADIODIFUSÃO DE SONS E IMAGENS - \u001b[0m\n",
       "\u001b[32mDIGITAL\"\u001b[0m\u001b[32m}\u001b[0m\u001b[32m'\u001b[0m\u001b[32m, \u001b[0m\u001b[32m'\u001b[0m\u001b[32m{\u001b[0m\u001b[32m\"valor\":\"810 - COLETIVO - DISTRIBUICAO DE SINAIS DE TELEVISAO - \u001b[0m\n",
       "\u001b[32mDISTV\",\"texto\":\"810 - COLETIVO - DISTRIBUICAO DE SINAIS DE TELEVISAO - DISTV\"\u001b[0m\u001b[32m}\u001b[0m\u001b[32m'\u001b[0m\u001b[32m, \u001b[0m\n",
       "\u001b[32m'\u001b[0m\u001b[32m{\u001b[0m\u001b[32m\"valor\":\"820 - RESTRITO - DE TELEV. EM CIRCUITO FECHADO \u001b[0m\u001b[32m(\u001b[0m\u001b[32mRADIOENLACE\u001b[0m\u001b[32m)\u001b[0m\u001b[32m\",\"texto\":\"820 - \u001b[0m\n",
       "\u001b[32mRESTRITO - DE TELEV. EM CIRCUITO FECHADO \u001b[0m\u001b[32m(\u001b[0m\u001b[32mRADIOENLACE\u001b[0m\u001b[32m)\u001b[0m\u001b[32m\"\u001b[0m\u001b[32m}\u001b[0m\u001b[32m'\u001b[0m\u001b[32m, \u001b[0m\u001b[32m'\u001b[0m\u001b[32m{\u001b[0m\u001b[32m\"valor\":\"900 - COLETIVO - \u001b[0m\n",
       "\u001b[32mFUST\",\"texto\":\"900 - COLETIVO - FUST\"\u001b[0m\u001b[32m}\u001b[0m\u001b[32m'\u001b[0m\u001b[32m, \u001b[0m\u001b[32m'\u001b[0m\u001b[32m{\u001b[0m\u001b[32m\"valor\":\"901 - COLETIVO - FUNTTEL\",\"texto\":\"901 - \u001b[0m\n",
       "\u001b[32mCOLETIVO - FUNTTEL\"\u001b[0m\u001b[32m}\u001b[0m\u001b[32m'\u001b[0m\u001b[1;32m]\u001b[0m\u001b[1;32m}\u001b[0m\n"
      ]
     },
     "metadata": {},
     "output_type": "display_data"
    },
    {
     "data": {
      "text/html": [
       "<pre style=\"white-space:pre;overflow-x:auto;line-height:normal;font-family:Menlo,'DejaVu Sans Mono',consolas,'Courier New',monospace\"><span style=\"color: #000080; text-decoration-color: #000080\">Qnt_de_emissoes_na_faixa </span><span style=\"color: #800000; text-decoration-color: #800000\">-&gt; </span><span style=\"color: #008000; text-decoration-color: #008000; font-weight: bold\">{</span><span style=\"color: #008000; text-decoration-color: #008000\">'id'</span><span style=\"color: #008000; text-decoration-color: #008000\">: </span><span style=\"color: #008000; text-decoration-color: #008000; font-weight: bold\">69</span><span style=\"color: #008000; text-decoration-color: #008000\">, </span><span style=\"color: #008000; text-decoration-color: #008000\">'value'</span><span style=\"color: #008000; text-decoration-color: #008000\">: </span><span style=\"color: #008000; text-decoration-color: #008000; font-weight: bold\">12</span><span style=\"color: #008000; text-decoration-color: #008000; font-weight: bold\">}</span>\n",
       "</pre>\n"
      ],
      "text/plain": [
       "\u001b[34mQnt_de_emissoes_na_faixa \u001b[0m\u001b[31m-> \u001b[0m\u001b[1;32m{\u001b[0m\u001b[32m'id'\u001b[0m\u001b[32m: \u001b[0m\u001b[1;32m69\u001b[0m\u001b[32m, \u001b[0m\u001b[32m'value'\u001b[0m\u001b[32m: \u001b[0m\u001b[1;32m12\u001b[0m\u001b[1;32m}\u001b[0m\n"
      ]
     },
     "metadata": {},
     "output_type": "display_data"
    },
    {
     "data": {
      "text/html": [
       "<pre style=\"white-space:pre;overflow-x:auto;line-height:normal;font-family:Menlo,'DejaVu Sans Mono',consolas,'Courier New',monospace\"><span style=\"color: #000080; text-decoration-color: #000080\">Emissoes_nao_autorizadas </span><span style=\"color: #800000; text-decoration-color: #800000\">-&gt; </span><span style=\"color: #008000; text-decoration-color: #008000; font-weight: bold\">{</span><span style=\"color: #008000; text-decoration-color: #008000\">'id'</span><span style=\"color: #008000; text-decoration-color: #008000\">: </span><span style=\"color: #008000; text-decoration-color: #008000; font-weight: bold\">70</span><span style=\"color: #008000; text-decoration-color: #008000\">, </span><span style=\"color: #008000; text-decoration-color: #008000\">'value'</span><span style=\"color: #008000; text-decoration-color: #008000\">: </span><span style=\"color: #008000; text-decoration-color: #008000; font-weight: bold\">70</span><span style=\"color: #008000; text-decoration-color: #008000; font-weight: bold\">}</span>\n",
       "</pre>\n"
      ],
      "text/plain": [
       "\u001b[34mEmissoes_nao_autorizadas \u001b[0m\u001b[31m-> \u001b[0m\u001b[1;32m{\u001b[0m\u001b[32m'id'\u001b[0m\u001b[32m: \u001b[0m\u001b[1;32m70\u001b[0m\u001b[32m, \u001b[0m\u001b[32m'value'\u001b[0m\u001b[32m: \u001b[0m\u001b[1;32m70\u001b[0m\u001b[1;32m}\u001b[0m\n"
      ]
     },
     "metadata": {},
     "output_type": "display_data"
    },
    {
     "data": {
      "text/html": [
       "<pre style=\"white-space:pre;overflow-x:auto;line-height:normal;font-family:Menlo,'DejaVu Sans Mono',consolas,'Courier New',monospace\"><span style=\"color: #000080; text-decoration-color: #000080\">Horas_de_Preparacao </span><span style=\"color: #800000; text-decoration-color: #800000\">-&gt; </span><span style=\"color: #008000; text-decoration-color: #008000; font-weight: bold\">{</span><span style=\"color: #008000; text-decoration-color: #008000\">'id'</span><span style=\"color: #008000; text-decoration-color: #008000\">: </span><span style=\"color: #008000; text-decoration-color: #008000; font-weight: bold\">91</span><span style=\"color: #008000; text-decoration-color: #008000\">, </span><span style=\"color: #008000; text-decoration-color: #008000\">'value'</span><span style=\"color: #008000; text-decoration-color: #008000\">: </span><span style=\"color: #008000; text-decoration-color: #008000; font-weight: bold\">2</span><span style=\"color: #008000; text-decoration-color: #008000; font-weight: bold\">}</span>\n",
       "</pre>\n"
      ],
      "text/plain": [
       "\u001b[34mHoras_de_Preparacao \u001b[0m\u001b[31m-> \u001b[0m\u001b[1;32m{\u001b[0m\u001b[32m'id'\u001b[0m\u001b[32m: \u001b[0m\u001b[1;32m91\u001b[0m\u001b[32m, \u001b[0m\u001b[32m'value'\u001b[0m\u001b[32m: \u001b[0m\u001b[1;32m2\u001b[0m\u001b[1;32m}\u001b[0m\n"
      ]
     },
     "metadata": {},
     "output_type": "display_data"
    },
    {
     "data": {
      "text/html": [
       "<pre style=\"white-space:pre;overflow-x:auto;line-height:normal;font-family:Menlo,'DejaVu Sans Mono',consolas,'Courier New',monospace\"><span style=\"color: #000080; text-decoration-color: #000080\">Horas_de_Deslocamento </span><span style=\"color: #800000; text-decoration-color: #800000\">-&gt; </span><span style=\"color: #008000; text-decoration-color: #008000; font-weight: bold\">{</span><span style=\"color: #008000; text-decoration-color: #008000\">'id'</span><span style=\"color: #008000; text-decoration-color: #008000\">: </span><span style=\"color: #008000; text-decoration-color: #008000; font-weight: bold\">92</span><span style=\"color: #008000; text-decoration-color: #008000\">, </span><span style=\"color: #008000; text-decoration-color: #008000\">'value'</span><span style=\"color: #008000; text-decoration-color: #008000\">: </span><span style=\"color: #008000; text-decoration-color: #008000; font-weight: bold\">0</span><span style=\"color: #008000; text-decoration-color: #008000; font-weight: bold\">}</span>\n",
       "</pre>\n"
      ],
      "text/plain": [
       "\u001b[34mHoras_de_Deslocamento \u001b[0m\u001b[31m-> \u001b[0m\u001b[1;32m{\u001b[0m\u001b[32m'id'\u001b[0m\u001b[32m: \u001b[0m\u001b[1;32m92\u001b[0m\u001b[32m, \u001b[0m\u001b[32m'value'\u001b[0m\u001b[32m: \u001b[0m\u001b[1;32m0\u001b[0m\u001b[1;32m}\u001b[0m\n"
      ]
     },
     "metadata": {},
     "output_type": "display_data"
    },
    {
     "data": {
      "text/html": [
       "<pre style=\"white-space:pre;overflow-x:auto;line-height:normal;font-family:Menlo,'DejaVu Sans Mono',consolas,'Courier New',monospace\"><span style=\"color: #000080; text-decoration-color: #000080\">Horas_de_Execucao </span><span style=\"color: #800000; text-decoration-color: #800000\">-&gt; </span><span style=\"color: #008000; text-decoration-color: #008000; font-weight: bold\">{</span><span style=\"color: #008000; text-decoration-color: #008000\">'id'</span><span style=\"color: #008000; text-decoration-color: #008000\">: </span><span style=\"color: #008000; text-decoration-color: #008000; font-weight: bold\">93</span><span style=\"color: #008000; text-decoration-color: #008000\">, </span><span style=\"color: #008000; text-decoration-color: #008000\">'value'</span><span style=\"color: #008000; text-decoration-color: #008000\">: </span><span style=\"color: #008000; text-decoration-color: #008000; font-weight: bold\">32</span><span style=\"color: #008000; text-decoration-color: #008000; font-weight: bold\">}</span>\n",
       "</pre>\n"
      ],
      "text/plain": [
       "\u001b[34mHoras_de_Execucao \u001b[0m\u001b[31m-> \u001b[0m\u001b[1;32m{\u001b[0m\u001b[32m'id'\u001b[0m\u001b[32m: \u001b[0m\u001b[1;32m93\u001b[0m\u001b[32m, \u001b[0m\u001b[32m'value'\u001b[0m\u001b[32m: \u001b[0m\u001b[1;32m32\u001b[0m\u001b[1;32m}\u001b[0m\n"
      ]
     },
     "metadata": {},
     "output_type": "display_data"
    },
    {
     "data": {
      "text/html": [
       "<pre style=\"white-space:pre;overflow-x:auto;line-height:normal;font-family:Menlo,'DejaVu Sans Mono',consolas,'Courier New',monospace\"><span style=\"color: #000080; text-decoration-color: #000080\">Horas_de_Conclusao </span><span style=\"color: #800000; text-decoration-color: #800000\">-&gt; </span><span style=\"color: #008000; text-decoration-color: #008000; font-weight: bold\">{</span><span style=\"color: #008000; text-decoration-color: #008000\">'id'</span><span style=\"color: #008000; text-decoration-color: #008000\">: </span><span style=\"color: #008000; text-decoration-color: #008000; font-weight: bold\">94</span><span style=\"color: #008000; text-decoration-color: #008000\">, </span><span style=\"color: #008000; text-decoration-color: #008000\">'value'</span><span style=\"color: #008000; text-decoration-color: #008000\">: </span><span style=\"color: #008000; text-decoration-color: #008000; font-weight: bold\">6</span><span style=\"color: #008000; text-decoration-color: #008000; font-weight: bold\">}</span>\n",
       "</pre>\n"
      ],
      "text/plain": [
       "\u001b[34mHoras_de_Conclusao \u001b[0m\u001b[31m-> \u001b[0m\u001b[1;32m{\u001b[0m\u001b[32m'id'\u001b[0m\u001b[32m: \u001b[0m\u001b[1;32m94\u001b[0m\u001b[32m, \u001b[0m\u001b[32m'value'\u001b[0m\u001b[32m: \u001b[0m\u001b[1;32m6\u001b[0m\u001b[1;32m}\u001b[0m\n"
      ]
     },
     "metadata": {},
     "output_type": "display_data"
    },
    {
     "data": {
      "text/html": [
       "<pre style=\"white-space:pre;overflow-x:auto;line-height:normal;font-family:Menlo,'DejaVu Sans Mono',consolas,'Courier New',monospace\"><span style=\"color: #000080; text-decoration-color: #000080\">Latitude </span><span style=\"color: #800000; text-decoration-color: #800000\">-&gt; </span><span style=\"color: #008000; text-decoration-color: #008000; font-weight: bold\">{</span><span style=\"color: #008000; text-decoration-color: #008000\">'id'</span><span style=\"color: #008000; text-decoration-color: #008000\">: </span><span style=\"color: #008000; text-decoration-color: #008000; font-weight: bold\">170</span><span style=\"color: #008000; text-decoration-color: #008000\">, </span><span style=\"color: #008000; text-decoration-color: #008000\">'value'</span><span style=\"color: #008000; text-decoration-color: #008000\">: </span><span style=\"color: #008000; text-decoration-color: #008000; font-weight: bold\">-22.94694</span><span style=\"color: #008000; text-decoration-color: #008000; font-weight: bold\">}</span>\n",
       "</pre>\n"
      ],
      "text/plain": [
       "\u001b[34mLatitude \u001b[0m\u001b[31m-> \u001b[0m\u001b[1;32m{\u001b[0m\u001b[32m'id'\u001b[0m\u001b[32m: \u001b[0m\u001b[1;32m170\u001b[0m\u001b[32m, \u001b[0m\u001b[32m'value'\u001b[0m\u001b[32m: \u001b[0m\u001b[1;32m-22.94694\u001b[0m\u001b[1;32m}\u001b[0m\n"
      ]
     },
     "metadata": {},
     "output_type": "display_data"
    },
    {
     "data": {
      "text/html": [
       "<pre style=\"white-space:pre;overflow-x:auto;line-height:normal;font-family:Menlo,'DejaVu Sans Mono',consolas,'Courier New',monospace\"><span style=\"color: #000080; text-decoration-color: #000080\">Longitude </span><span style=\"color: #800000; text-decoration-color: #800000\">-&gt; </span><span style=\"color: #008000; text-decoration-color: #008000; font-weight: bold\">{</span><span style=\"color: #008000; text-decoration-color: #008000\">'id'</span><span style=\"color: #008000; text-decoration-color: #008000\">: </span><span style=\"color: #008000; text-decoration-color: #008000; font-weight: bold\">171</span><span style=\"color: #008000; text-decoration-color: #008000\">, </span><span style=\"color: #008000; text-decoration-color: #008000\">'value'</span><span style=\"color: #008000; text-decoration-color: #008000\">: </span><span style=\"color: #008000; text-decoration-color: #008000; font-weight: bold\">-43.21944</span><span style=\"color: #008000; text-decoration-color: #008000; font-weight: bold\">}</span>\n",
       "</pre>\n"
      ],
      "text/plain": [
       "\u001b[34mLongitude \u001b[0m\u001b[31m-> \u001b[0m\u001b[1;32m{\u001b[0m\u001b[32m'id'\u001b[0m\u001b[32m: \u001b[0m\u001b[1;32m171\u001b[0m\u001b[32m, \u001b[0m\u001b[32m'value'\u001b[0m\u001b[32m: \u001b[0m\u001b[1;32m-43.21944\u001b[0m\u001b[1;32m}\u001b[0m\n"
      ]
     },
     "metadata": {},
     "output_type": "display_data"
    },
    {
     "data": {
      "text/html": [
       "<pre style=\"white-space:pre;overflow-x:auto;line-height:normal;font-family:Menlo,'DejaVu Sans Mono',consolas,'Courier New',monospace\"><span style=\"color: #000080; text-decoration-color: #000080\">Uso_de_PF </span><span style=\"color: #800000; text-decoration-color: #800000\">-&gt; </span><span style=\"color: #008000; text-decoration-color: #008000; font-weight: bold\">{</span><span style=\"color: #008000; text-decoration-color: #008000\">'id'</span><span style=\"color: #008000; text-decoration-color: #008000\">: </span><span style=\"color: #008000; text-decoration-color: #008000; font-weight: bold\">151</span><span style=\"color: #008000; text-decoration-color: #008000\">, </span><span style=\"color: #008000; text-decoration-color: #008000\">'value'</span><span style=\"color: #008000; text-decoration-color: #008000\">: </span><span style=\"color: #008000; text-decoration-color: #008000\">'Não se aplica PF - uso apenas de formulários'</span><span style=\"color: #008000; text-decoration-color: #008000; font-weight: bold\">}</span>\n",
       "</pre>\n"
      ],
      "text/plain": [
       "\u001b[34mUso_de_PF \u001b[0m\u001b[31m-> \u001b[0m\u001b[1;32m{\u001b[0m\u001b[32m'id'\u001b[0m\u001b[32m: \u001b[0m\u001b[1;32m151\u001b[0m\u001b[32m, \u001b[0m\u001b[32m'value'\u001b[0m\u001b[32m: \u001b[0m\u001b[32m'Não se aplica PF - uso apenas de formulários'\u001b[0m\u001b[1;32m}\u001b[0m\n"
      ]
     },
     "metadata": {},
     "output_type": "display_data"
    },
    {
     "data": {
      "text/html": [
       "<pre style=\"white-space:pre;overflow-x:auto;line-height:normal;font-family:Menlo,'DejaVu Sans Mono',consolas,'Courier New',monospace\"><span style=\"color: #000080; text-decoration-color: #000080\">Acao_de_risco_a_vida_criada </span><span style=\"color: #800000; text-decoration-color: #800000\">-&gt; </span><span style=\"color: #008000; text-decoration-color: #008000; font-weight: bold\">{</span><span style=\"color: #008000; text-decoration-color: #008000\">'id'</span><span style=\"color: #008000; text-decoration-color: #008000\">: </span><span style=\"color: #008000; text-decoration-color: #008000; font-weight: bold\">154</span><span style=\"color: #008000; text-decoration-color: #008000\">, </span><span style=\"color: #008000; text-decoration-color: #008000\">'value'</span><span style=\"color: #008000; text-decoration-color: #008000\">: </span><span style=\"color: #008000; text-decoration-color: #008000\">'Não'</span><span style=\"color: #008000; text-decoration-color: #008000; font-weight: bold\">}</span>\n",
       "</pre>\n"
      ],
      "text/plain": [
       "\u001b[34mAcao_de_risco_a_vida_criada \u001b[0m\u001b[31m-> \u001b[0m\u001b[1;32m{\u001b[0m\u001b[32m'id'\u001b[0m\u001b[32m: \u001b[0m\u001b[1;32m154\u001b[0m\u001b[32m, \u001b[0m\u001b[32m'value'\u001b[0m\u001b[32m: \u001b[0m\u001b[32m'Não'\u001b[0m\u001b[1;32m}\u001b[0m\n"
      ]
     },
     "metadata": {},
     "output_type": "display_data"
    },
    {
     "data": {
      "text/html": [
       "<pre style=\"white-space:pre;overflow-x:auto;line-height:normal;font-family:Menlo,'DejaVu Sans Mono',consolas,'Courier New',monospace\"><span style=\"color: #000080; text-decoration-color: #000080\">Impossibilidade_acesso_online </span><span style=\"color: #800000; text-decoration-color: #800000\">-&gt; </span><span style=\"color: #008000; text-decoration-color: #008000; font-weight: bold\">{</span><span style=\"color: #008000; text-decoration-color: #008000\">'id'</span><span style=\"color: #008000; text-decoration-color: #008000\">: </span><span style=\"color: #008000; text-decoration-color: #008000; font-weight: bold\">450</span><span style=\"color: #008000; text-decoration-color: #008000\">, </span><span style=\"color: #008000; text-decoration-color: #008000\">'value'</span><span style=\"color: #008000; text-decoration-color: #008000\">: </span><span style=\"color: #008000; text-decoration-color: #008000\">'0'</span><span style=\"color: #008000; text-decoration-color: #008000; font-weight: bold\">}</span>\n",
       "</pre>\n"
      ],
      "text/plain": [
       "\u001b[34mImpossibilidade_acesso_online \u001b[0m\u001b[31m-> \u001b[0m\u001b[1;32m{\u001b[0m\u001b[32m'id'\u001b[0m\u001b[32m: \u001b[0m\u001b[1;32m450\u001b[0m\u001b[32m, \u001b[0m\u001b[32m'value'\u001b[0m\u001b[32m: \u001b[0m\u001b[32m'0'\u001b[0m\u001b[1;32m}\u001b[0m\n"
      ]
     },
     "metadata": {},
     "output_type": "display_data"
    },
    {
     "data": {
      "text/html": [
       "<pre style=\"white-space:pre;overflow-x:auto;line-height:normal;font-family:Menlo,'DejaVu Sans Mono',consolas,'Courier New',monospace\"><span style=\"color: #000080; text-decoration-color: #000080\">Reservar_Instrumentos </span><span style=\"color: #800000; text-decoration-color: #800000\">-&gt; </span><span style=\"color: #008000; text-decoration-color: #008000; font-weight: bold\">{</span><span style=\"color: #008000; text-decoration-color: #008000\">'id'</span><span style=\"color: #008000; text-decoration-color: #008000\">: </span><span style=\"color: #008000; text-decoration-color: #008000; font-weight: bold\">596</span><span style=\"color: #008000; text-decoration-color: #008000\">, </span><span style=\"color: #008000; text-decoration-color: #008000\">'value'</span><span style=\"color: #008000; text-decoration-color: #008000\">: </span><span style=\"color: #008000; text-decoration-color: #008000\">'0'</span><span style=\"color: #008000; text-decoration-color: #008000; font-weight: bold\">}</span>\n",
       "</pre>\n"
      ],
      "text/plain": [
       "\u001b[34mReservar_Instrumentos \u001b[0m\u001b[31m-> \u001b[0m\u001b[1;32m{\u001b[0m\u001b[32m'id'\u001b[0m\u001b[32m: \u001b[0m\u001b[1;32m596\u001b[0m\u001b[32m, \u001b[0m\u001b[32m'value'\u001b[0m\u001b[32m: \u001b[0m\u001b[32m'0'\u001b[0m\u001b[1;32m}\u001b[0m\n"
      ]
     },
     "metadata": {},
     "output_type": "display_data"
    },
    {
     "data": {
      "text/html": [
       "<pre style=\"white-space:pre;overflow-x:auto;line-height:normal;font-family:Menlo,'DejaVu Sans Mono',consolas,'Courier New',monospace\"><span style=\"color: #000080; text-decoration-color: #000080\">Utilizou_algum_instrumento </span><span style=\"color: #800000; text-decoration-color: #800000\">-&gt; </span><span style=\"color: #008000; text-decoration-color: #008000; font-weight: bold\">{</span><span style=\"color: #008000; text-decoration-color: #008000\">'id'</span><span style=\"color: #008000; text-decoration-color: #008000\">: </span><span style=\"color: #008000; text-decoration-color: #008000; font-weight: bold\">598</span><span style=\"color: #008000; text-decoration-color: #008000\">, </span><span style=\"color: #008000; text-decoration-color: #008000\">'value'</span><span style=\"color: #008000; text-decoration-color: #008000\">: </span><span style=\"color: #008000; text-decoration-color: #008000\">'0'</span><span style=\"color: #008000; text-decoration-color: #008000; font-weight: bold\">}</span>\n",
       "</pre>\n"
      ],
      "text/plain": [
       "\u001b[34mUtilizou_algum_instrumento \u001b[0m\u001b[31m-> \u001b[0m\u001b[1;32m{\u001b[0m\u001b[32m'id'\u001b[0m\u001b[32m: \u001b[0m\u001b[1;32m598\u001b[0m\u001b[32m, \u001b[0m\u001b[32m'value'\u001b[0m\u001b[32m: \u001b[0m\u001b[32m'0'\u001b[0m\u001b[1;32m}\u001b[0m\n"
      ]
     },
     "metadata": {},
     "output_type": "display_data"
    },
    {
     "data": {
      "text/html": [
       "<pre style=\"white-space:pre;overflow-x:auto;line-height:normal;font-family:Menlo,'DejaVu Sans Mono',consolas,'Courier New',monospace\"><span style=\"color: #000080; text-decoration-color: #000080\">notes </span><span style=\"color: #800000; text-decoration-color: #800000\">-&gt; </span><span style=\"color: #008000; text-decoration-color: #008000\">|_.  Faixa                                      |_.   Classe Especial |_.   Classe A</span>\n",
       "<span style=\"color: #008000; text-decoration-color: #008000\">|_.   Classe B |_.   Classe C |</span>\n",
       "<span style=\"color: #008000; text-decoration-color: #008000\">|</span><span style=\"color: #008000; text-decoration-color: #008000; font-weight: bold\">&lt;.</span><span style=\"color: #008000; text-decoration-color: #008000\"> VHF-L                                       |</span><span style=\"color: #008000; text-decoration-color: #008000; font-weight: bold\">&gt;</span><span style=\"color: #008000; text-decoration-color: #008000\">.                 </span><span style=\"color: #008000; text-decoration-color: #008000; font-weight: bold\">0</span><span style=\"color: #008000; text-decoration-color: #008000\"> |&gt;.          </span><span style=\"color: #008000; text-decoration-color: #008000; font-weight: bold\">5</span><span style=\"color: #008000; text-decoration-color: #008000\"> |&gt;.     </span>\n",
       "<span style=\"color: #008000; text-decoration-color: #008000; font-weight: bold\">7</span><span style=\"color: #008000; text-decoration-color: #008000\"> |&gt;.          </span><span style=\"color: #008000; text-decoration-color: #008000; font-weight: bold\">5</span><span style=\"color: #008000; text-decoration-color: #008000\"> |</span>\n",
       "<span style=\"color: #008000; text-decoration-color: #008000\">|</span><span style=\"color: #008000; text-decoration-color: #008000; font-weight: bold\">&lt;.</span><span style=\"color: #008000; text-decoration-color: #008000\"> VHF-H                                       |</span><span style=\"color: #008000; text-decoration-color: #008000; font-weight: bold\">&gt;</span><span style=\"color: #008000; text-decoration-color: #008000\">.                 </span><span style=\"color: #008000; text-decoration-color: #008000; font-weight: bold\">0</span><span style=\"color: #008000; text-decoration-color: #008000\"> |&gt;.         </span><span style=\"color: #008000; text-decoration-color: #008000; font-weight: bold\">12</span><span style=\"color: #008000; text-decoration-color: #008000\"> |&gt;.     </span>\n",
       "<span style=\"color: #008000; text-decoration-color: #008000; font-weight: bold\">1</span><span style=\"color: #008000; text-decoration-color: #008000\"> |&gt;.          </span><span style=\"color: #008000; text-decoration-color: #008000; font-weight: bold\">0</span><span style=\"color: #008000; text-decoration-color: #008000\"> |</span>\n",
       "<span style=\"color: #008000; text-decoration-color: #008000\">|</span><span style=\"color: #008000; text-decoration-color: #008000; font-weight: bold\">&lt;.</span><span style=\"color: #008000; text-decoration-color: #008000\"> UHF                                         |</span><span style=\"color: #008000; text-decoration-color: #008000; font-weight: bold\">&gt;</span><span style=\"color: #008000; text-decoration-color: #008000\">.                 </span><span style=\"color: #008000; text-decoration-color: #008000; font-weight: bold\">1</span><span style=\"color: #008000; text-decoration-color: #008000\"> |&gt;.          </span><span style=\"color: #008000; text-decoration-color: #008000; font-weight: bold\">1</span><span style=\"color: #008000; text-decoration-color: #008000\"> |&gt;.     </span>\n",
       "<span style=\"color: #008000; text-decoration-color: #008000; font-weight: bold\">2</span><span style=\"color: #008000; text-decoration-color: #008000\"> |&gt;.          </span><span style=\"color: #008000; text-decoration-color: #008000; font-weight: bold\">4</span><span style=\"color: #008000; text-decoration-color: #008000\"> |</span>\n",
       "<span style=\"color: #008000; text-decoration-color: #008000\">|</span><span style=\"color: #008000; text-decoration-color: #008000; font-weight: bold\">&lt;.</span><span style=\"color: #008000; text-decoration-color: #008000\"> FM                                          |</span><span style=\"color: #008000; text-decoration-color: #008000; font-weight: bold\">&gt;</span><span style=\"color: #008000; text-decoration-color: #008000\">.                 </span><span style=\"color: #008000; text-decoration-color: #008000; font-weight: bold\">5</span><span style=\"color: #008000; text-decoration-color: #008000\"> |&gt;.          </span><span style=\"color: #008000; text-decoration-color: #008000; font-weight: bold\">1</span><span style=\"color: #008000; text-decoration-color: #008000\"> |&gt;.     </span>\n",
       "<span style=\"color: #008000; text-decoration-color: #008000; font-weight: bold\">0</span><span style=\"color: #008000; text-decoration-color: #008000\"> |&gt;.          </span><span style=\"color: #008000; text-decoration-color: #008000; font-weight: bold\">0</span><span style=\"color: #008000; text-decoration-color: #008000\"> |</span>\n",
       "<span style=\"color: #008000; text-decoration-color: #008000\">|</span><span style=\"color: #008000; text-decoration-color: #008000; font-weight: bold\">&lt;.</span><span style=\"color: #008000; text-decoration-color: #008000\"> RADCOM                                      |</span><span style=\"color: #008000; text-decoration-color: #008000; font-weight: bold\">&gt;</span><span style=\"color: #008000; text-decoration-color: #008000\">.                 </span><span style=\"color: #008000; text-decoration-color: #008000; font-weight: bold\">0</span><span style=\"color: #008000; text-decoration-color: #008000\"> |&gt;.          </span><span style=\"color: #008000; text-decoration-color: #008000; font-weight: bold\">0</span><span style=\"color: #008000; text-decoration-color: #008000\"> |&gt;.     </span>\n",
       "<span style=\"color: #008000; text-decoration-color: #008000; font-weight: bold\">0</span><span style=\"color: #008000; text-decoration-color: #008000\"> |&gt;.          </span><span style=\"color: #008000; text-decoration-color: #008000; font-weight: bold\">0</span><span style=\"color: #008000; text-decoration-color: #008000\"> |</span>\n",
       "<span style=\"color: #008000; text-decoration-color: #008000\">|</span><span style=\"color: #008000; text-decoration-color: #008000; font-weight: bold\">&lt;.</span><span style=\"color: #008000; text-decoration-color: #008000\"> Outorgadas com indícios de irregularidades  |</span><span style=\"color: #008000; text-decoration-color: #008000; font-weight: bold\">&gt;</span><span style=\"color: #008000; text-decoration-color: #008000\">.                 </span><span style=\"color: #008000; text-decoration-color: #008000; font-weight: bold\">1</span><span style=\"color: #008000; text-decoration-color: #008000\"> |&gt;.          </span><span style=\"color: #008000; text-decoration-color: #008000; font-weight: bold\">2</span><span style=\"color: #008000; text-decoration-color: #008000\"> |&gt;.     </span>\n",
       "<span style=\"color: #008000; text-decoration-color: #008000; font-weight: bold\">3</span><span style=\"color: #008000; text-decoration-color: #008000\"> |&gt;.          </span><span style=\"color: #008000; text-decoration-color: #008000; font-weight: bold\">4</span><span style=\"color: #008000; text-decoration-color: #008000\"> |</span>\n",
       "<span style=\"color: #008000; text-decoration-color: #008000\">|_.  Banda                 |_.   Sinais |_.   Licenciados |_.   Não Licenciados |_.   Não </span>\n",
       "<span style=\"color: #008000; text-decoration-color: #008000\">Licenciáveis |</span>\n",
       "<span style=\"color: #008000; text-decoration-color: #008000\">|</span><span style=\"color: #008000; text-decoration-color: #008000; font-weight: bold\">&lt;.</span><span style=\"color: #008000; text-decoration-color: #008000\"> </span><span style=\"color: #008000; text-decoration-color: #008000; font-weight: bold\">87.800</span><span style=\"color: #008000; text-decoration-color: #008000\"> - </span><span style=\"color: #008000; text-decoration-color: #008000; font-weight: bold\">108.000</span><span style=\"color: #008000; text-decoration-color: #008000\"> MHz   |</span><span style=\"color: #008000; text-decoration-color: #008000; font-weight: bold\">&gt;</span><span style=\"color: #008000; text-decoration-color: #008000\">.       </span><span style=\"color: #008000; text-decoration-color: #008000; font-weight: bold\">35</span><span style=\"color: #008000; text-decoration-color: #008000\"> |&gt;.            </span><span style=\"color: #008000; text-decoration-color: #008000; font-weight: bold\">31</span><span style=\"color: #008000; text-decoration-color: #008000\"> |&gt;.                 </span><span style=\"color: #008000; text-decoration-color: #008000; font-weight: bold\">4</span><span style=\"color: #008000; text-decoration-color: #008000\"> |&gt;.          </span>\n",
       "<span style=\"color: #008000; text-decoration-color: #008000; font-weight: bold\">0</span><span style=\"color: #008000; text-decoration-color: #008000\"> |</span>\n",
       "<span style=\"color: #008000; text-decoration-color: #008000\">|</span><span style=\"color: #008000; text-decoration-color: #008000; font-weight: bold\">&lt;.</span><span style=\"color: #008000; text-decoration-color: #008000\"> </span><span style=\"color: #008000; text-decoration-color: #008000; font-weight: bold\">470.000</span><span style=\"color: #008000; text-decoration-color: #008000\"> - </span><span style=\"color: #008000; text-decoration-color: #008000; font-weight: bold\">698.000</span><span style=\"color: #008000; text-decoration-color: #008000\"> MHz  |</span><span style=\"color: #008000; text-decoration-color: #008000; font-weight: bold\">&gt;</span><span style=\"color: #008000; text-decoration-color: #008000\">.       </span><span style=\"color: #008000; text-decoration-color: #008000; font-weight: bold\">19</span><span style=\"color: #008000; text-decoration-color: #008000\"> |&gt;.            </span><span style=\"color: #008000; text-decoration-color: #008000; font-weight: bold\">19</span><span style=\"color: #008000; text-decoration-color: #008000\"> |&gt;.                 </span><span style=\"color: #008000; text-decoration-color: #008000; font-weight: bold\">0</span><span style=\"color: #008000; text-decoration-color: #008000\"> |&gt;.          </span>\n",
       "<span style=\"color: #008000; text-decoration-color: #008000; font-weight: bold\">0</span><span style=\"color: #008000; text-decoration-color: #008000\"> |</span>\n",
       "</pre>\n"
      ],
      "text/plain": [
       "\u001b[34mnotes \u001b[0m\u001b[31m-> \u001b[0m\u001b[32m|_.  Faixa                                      |_.   Classe Especial |_.   Classe A\u001b[0m\n",
       "\u001b[32m|_.   Classe B |_.   Classe C |\u001b[0m\n",
       "\u001b[32m|\u001b[0m\u001b[1;32m<\u001b[0m\u001b[1;32m.\u001b[0m\u001b[32m VHF-L                                       |\u001b[0m\u001b[1;32m>\u001b[0m\u001b[32m.                 \u001b[0m\u001b[1;32m0\u001b[0m\u001b[32m |>.          \u001b[0m\u001b[1;32m5\u001b[0m\u001b[32m |>.     \u001b[0m\n",
       "\u001b[1;32m7\u001b[0m\u001b[32m |>.          \u001b[0m\u001b[1;32m5\u001b[0m\u001b[32m |\u001b[0m\n",
       "\u001b[32m|\u001b[0m\u001b[1;32m<\u001b[0m\u001b[1;32m.\u001b[0m\u001b[32m VHF-H                                       |\u001b[0m\u001b[1;32m>\u001b[0m\u001b[32m.                 \u001b[0m\u001b[1;32m0\u001b[0m\u001b[32m |>.         \u001b[0m\u001b[1;32m12\u001b[0m\u001b[32m |>.     \u001b[0m\n",
       "\u001b[1;32m1\u001b[0m\u001b[32m |>.          \u001b[0m\u001b[1;32m0\u001b[0m\u001b[32m |\u001b[0m\n",
       "\u001b[32m|\u001b[0m\u001b[1;32m<\u001b[0m\u001b[1;32m.\u001b[0m\u001b[32m UHF                                         |\u001b[0m\u001b[1;32m>\u001b[0m\u001b[32m.                 \u001b[0m\u001b[1;32m1\u001b[0m\u001b[32m |>.          \u001b[0m\u001b[1;32m1\u001b[0m\u001b[32m |>.     \u001b[0m\n",
       "\u001b[1;32m2\u001b[0m\u001b[32m |>.          \u001b[0m\u001b[1;32m4\u001b[0m\u001b[32m |\u001b[0m\n",
       "\u001b[32m|\u001b[0m\u001b[1;32m<\u001b[0m\u001b[1;32m.\u001b[0m\u001b[32m FM                                          |\u001b[0m\u001b[1;32m>\u001b[0m\u001b[32m.                 \u001b[0m\u001b[1;32m5\u001b[0m\u001b[32m |>.          \u001b[0m\u001b[1;32m1\u001b[0m\u001b[32m |>.     \u001b[0m\n",
       "\u001b[1;32m0\u001b[0m\u001b[32m |>.          \u001b[0m\u001b[1;32m0\u001b[0m\u001b[32m |\u001b[0m\n",
       "\u001b[32m|\u001b[0m\u001b[1;32m<\u001b[0m\u001b[1;32m.\u001b[0m\u001b[32m RADCOM                                      |\u001b[0m\u001b[1;32m>\u001b[0m\u001b[32m.                 \u001b[0m\u001b[1;32m0\u001b[0m\u001b[32m |>.          \u001b[0m\u001b[1;32m0\u001b[0m\u001b[32m |>.     \u001b[0m\n",
       "\u001b[1;32m0\u001b[0m\u001b[32m |>.          \u001b[0m\u001b[1;32m0\u001b[0m\u001b[32m |\u001b[0m\n",
       "\u001b[32m|\u001b[0m\u001b[1;32m<\u001b[0m\u001b[1;32m.\u001b[0m\u001b[32m Outorgadas com indícios de irregularidades  |\u001b[0m\u001b[1;32m>\u001b[0m\u001b[32m.                 \u001b[0m\u001b[1;32m1\u001b[0m\u001b[32m |>.          \u001b[0m\u001b[1;32m2\u001b[0m\u001b[32m |>.     \u001b[0m\n",
       "\u001b[1;32m3\u001b[0m\u001b[32m |>.          \u001b[0m\u001b[1;32m4\u001b[0m\u001b[32m |\u001b[0m\n",
       "\u001b[32m|_.  Banda                 |_.   Sinais |_.   Licenciados |_.   Não Licenciados |_.   Não \u001b[0m\n",
       "\u001b[32mLicenciáveis |\u001b[0m\n",
       "\u001b[32m|\u001b[0m\u001b[1;32m<\u001b[0m\u001b[1;32m.\u001b[0m\u001b[32m \u001b[0m\u001b[1;32m87.800\u001b[0m\u001b[32m - \u001b[0m\u001b[1;32m108.000\u001b[0m\u001b[32m MHz   |\u001b[0m\u001b[1;32m>\u001b[0m\u001b[32m.       \u001b[0m\u001b[1;32m35\u001b[0m\u001b[32m |>.            \u001b[0m\u001b[1;32m31\u001b[0m\u001b[32m |>.                 \u001b[0m\u001b[1;32m4\u001b[0m\u001b[32m |>.          \u001b[0m\n",
       "\u001b[1;32m0\u001b[0m\u001b[32m |\u001b[0m\n",
       "\u001b[32m|\u001b[0m\u001b[1;32m<\u001b[0m\u001b[1;32m.\u001b[0m\u001b[32m \u001b[0m\u001b[1;32m470.000\u001b[0m\u001b[32m - \u001b[0m\u001b[1;32m698.000\u001b[0m\u001b[32m MHz  |\u001b[0m\u001b[1;32m>\u001b[0m\u001b[32m.       \u001b[0m\u001b[1;32m19\u001b[0m\u001b[32m |>.            \u001b[0m\u001b[1;32m19\u001b[0m\u001b[32m |>.                 \u001b[0m\u001b[1;32m0\u001b[0m\u001b[32m |>.          \u001b[0m\n",
       "\u001b[1;32m0\u001b[0m\u001b[32m |\u001b[0m\n"
      ]
     },
     "metadata": {},
     "output_type": "display_data"
    }
   ],
   "source": [
    "for k,v in dados.items():\n",
    "    if k == \"Html\":\n",
    "        v = str(v)\n",
    "        v = v[:100] + '\\n...\\n' + v[-100:]\n",
    "    console.print(f'[blue]{k} [red]-> [green]{v}')"
   ]
  },
  {
   "cell_type": "markdown",
   "metadata": {},
   "source": [
    "### Relatar Inspeção\n",
    "A função a seguir é a mais importante do módulo porque ela de fato altera os dados na plataforma Fiscaliza."
   ]
  },
  {
   "cell_type": "code",
   "execution_count": null,
   "metadata": {},
   "outputs": [],
   "source": [
    "#hide\n",
    "show_doc(relatar_inspecao)"
   ]
  },
  {
   "cell_type": "code",
   "execution_count": null,
   "metadata": {},
   "outputs": [
    {
     "data": {
      "text/html": [
       "<pre style=\"white-space:pre;overflow-x:auto;line-height:normal;font-family:Menlo,'DejaVu Sans Mono',consolas,'Courier New',monospace\"><span style=\"color: #008000; text-decoration-color: #008000; font-weight: bold\">Usuário Autenticado com Sucesso 👍</span>\n",
       "</pre>\n"
      ],
      "text/plain": [
       "\u001b[1;32mUsuário Autenticado com Sucesso 👍\u001b[0m\n"
      ]
     },
     "metadata": {},
     "output_type": "display_data"
    },
    {
     "data": {
      "text/html": [
       "<pre style=\"white-space:pre;overflow-x:auto;line-height:normal;font-family:Menlo,'DejaVu Sans Mono',consolas,'Courier New',monospace\">Inspeção <span style=\"color: #008080; text-decoration-color: #008080; font-weight: bold\">72120</span> vinculada à Ação <span style=\"color: #008080; text-decoration-color: #008080; font-weight: bold\">72088</span>\n",
       "</pre>\n"
      ],
      "text/plain": [
       "Inspeção \u001b[1;36m72120\u001b[0m vinculada à Ação \u001b[1;36m72088\u001b[0m\n"
      ]
     },
     "metadata": {},
     "output_type": "display_data"
    },
    {
     "data": {
      "application/vnd.jupyter.widget-view+json": {
       "model_id": "",
       "version_major": 2,
       "version_minor": 0
      },
      "text/plain": [
       "Output()"
      ]
     },
     "metadata": {},
     "output_type": "display_data"
    },
    {
     "data": {
      "text/html": [
       "<pre style=\"white-space:pre;overflow-x:auto;line-height:normal;font-family:Menlo,'DejaVu Sans Mono',consolas,'Courier New',monospace\">✅ <span style=\"color: #008080; text-decoration-color: #008080\">Estado Atual: </span><span style=\"color: #008000; text-decoration-color: #008000; font-weight: bold\">Rascunho</span>\n",
       "</pre>\n"
      ],
      "text/plain": [
       "✅ \u001b[36mEstado Atual: \u001b[0m\u001b[1;32mRascunho\u001b[0m\n"
      ]
     },
     "metadata": {},
     "output_type": "display_data"
    },
    {
     "data": {
      "text/html": [
       "<pre style=\"white-space:pre;overflow-x:auto;line-height:normal;font-family:Menlo,'DejaVu Sans Mono',consolas,'Courier New',monospace\"></pre>\n"
      ],
      "text/plain": []
     },
     "metadata": {},
     "output_type": "display_data"
    },
    {
     "data": {
      "text/html": [
       "<pre style=\"white-space:pre;overflow-x:auto;line-height:normal;font-family:Menlo,'DejaVu Sans Mono',consolas,'Courier New',monospace\">👩‍💻 <span style=\"color: #008080; text-decoration-color: #008080\"> A inspeção será atualizada até a situação </span><span style=\"color: #008000; text-decoration-color: #008000; font-weight: bold\">Relatada</span>\n",
       "</pre>\n"
      ],
      "text/plain": [
       "👩‍💻 \u001b[36m A inspeção será atualizada até a situação \u001b[0m\u001b[1;32mRelatada\u001b[0m\n"
      ]
     },
     "metadata": {},
     "output_type": "display_data"
    },
    {
     "data": {
      "application/vnd.jupyter.widget-view+json": {
       "model_id": "",
       "version_major": 2,
       "version_minor": 0
      },
      "text/plain": [
       "Output()"
      ]
     },
     "metadata": {},
     "output_type": "display_data"
    },
    {
     "data": {
      "text/html": [
       "<pre style=\"white-space:pre;overflow-x:auto;line-height:normal;font-family:Menlo,'DejaVu Sans Mono',consolas,'Courier New',monospace\"></pre>\n"
      ],
      "text/plain": []
     },
     "metadata": {},
     "output_type": "display_data"
    },
    {
     "data": {
      "application/vnd.jupyter.widget-view+json": {
       "model_id": "",
       "version_major": 2,
       "version_minor": 0
      },
      "text/plain": [
       "Output()"
      ]
     },
     "metadata": {},
     "output_type": "display_data"
    },
    {
     "data": {
      "text/html": [
       "<pre style=\"white-space:pre;overflow-x:auto;line-height:normal;font-family:Menlo,'DejaVu Sans Mono',consolas,'Courier New',monospace\">✅ <span style=\"color: #008080; text-decoration-color: #008080\">Estado Atual: </span><span style=\"color: #008000; text-decoration-color: #008000; font-weight: bold\">Rascunho</span>\n",
       "</pre>\n"
      ],
      "text/plain": [
       "✅ \u001b[36mEstado Atual: \u001b[0m\u001b[1;32mRascunho\u001b[0m\n"
      ]
     },
     "metadata": {},
     "output_type": "display_data"
    },
    {
     "data": {
      "text/html": [
       "<pre style=\"white-space:pre;overflow-x:auto;line-height:normal;font-family:Menlo,'DejaVu Sans Mono',consolas,'Courier New',monospace\"></pre>\n"
      ],
      "text/plain": []
     },
     "metadata": {},
     "output_type": "display_data"
    },
    {
     "data": {
      "application/vnd.jupyter.widget-view+json": {
       "model_id": "",
       "version_major": 2,
       "version_minor": 0
      },
      "text/plain": [
       "Output()"
      ]
     },
     "metadata": {},
     "output_type": "display_data"
    },
    {
     "data": {
      "text/html": [
       "<pre style=\"white-space:pre;overflow-x:auto;line-height:normal;font-family:Menlo,'DejaVu Sans Mono',consolas,'Courier New',monospace\">✨ <span style=\"color: #008080; text-decoration-color: #008080\">Inspeção </span><span style=\"color: #008080; text-decoration-color: #008080; font-weight: bold\">72120</span><span style=\"color: #008080; text-decoration-color: #008080\"> atualizada para </span><span style=\"color: #008000; text-decoration-color: #008000; font-weight: bold\">Aguardando Execução</span>\n",
       "</pre>\n"
      ],
      "text/plain": [
       "✨ \u001b[36mInspeção \u001b[0m\u001b[1;36m72120\u001b[0m\u001b[36m atualizada para \u001b[0m\u001b[1;32mAguardando Execução\u001b[0m\n"
      ]
     },
     "metadata": {},
     "output_type": "display_data"
    },
    {
     "data": {
      "text/html": [
       "<pre style=\"white-space:pre;overflow-x:auto;line-height:normal;font-family:Menlo,'DejaVu Sans Mono',consolas,'Courier New',monospace\"></pre>\n"
      ],
      "text/plain": []
     },
     "metadata": {},
     "output_type": "display_data"
    },
    {
     "data": {
      "application/vnd.jupyter.widget-view+json": {
       "model_id": "",
       "version_major": 2,
       "version_minor": 0
      },
      "text/plain": [
       "Output()"
      ]
     },
     "metadata": {},
     "output_type": "display_data"
    },
    {
     "data": {
      "text/html": [
       "<pre style=\"white-space:pre;overflow-x:auto;line-height:normal;font-family:Menlo,'DejaVu Sans Mono',consolas,'Courier New',monospace\">✅ <span style=\"color: #008080; text-decoration-color: #008080\">Estado Atual: </span><span style=\"color: #008000; text-decoration-color: #008000; font-weight: bold\">Aguardando Execução</span>\n",
       "</pre>\n"
      ],
      "text/plain": [
       "✅ \u001b[36mEstado Atual: \u001b[0m\u001b[1;32mAguardando Execução\u001b[0m\n"
      ]
     },
     "metadata": {},
     "output_type": "display_data"
    },
    {
     "data": {
      "text/html": [
       "<pre style=\"white-space:pre;overflow-x:auto;line-height:normal;font-family:Menlo,'DejaVu Sans Mono',consolas,'Courier New',monospace\"><span style=\"color: #800000; text-decoration-color: #800000; font-weight: bold\"> ⚠ Já existe um Relatório de Monitoramento criado, esse campo não será atualizado nesta </span>\n",
       "<span style=\"color: #800000; text-decoration-color: #800000; font-weight: bold\">chamada ⚠</span>\n",
       "</pre>\n"
      ],
      "text/plain": [
       "\u001b[1;31m ⚠ Já existe um Relatório de Monitoramento criado, esse campo não será atualizado nesta \u001b[0m\n",
       "\u001b[1;31mchamada ⚠\u001b[0m\n"
      ]
     },
     "metadata": {},
     "output_type": "display_data"
    },
    {
     "data": {
      "text/html": [
       "<pre style=\"white-space:pre;overflow-x:auto;line-height:normal;font-family:Menlo,'DejaVu Sans Mono',consolas,'Courier New',monospace\"></pre>\n"
      ],
      "text/plain": []
     },
     "metadata": {},
     "output_type": "display_data"
    },
    {
     "data": {
      "application/vnd.jupyter.widget-view+json": {
       "model_id": "",
       "version_major": 2,
       "version_minor": 0
      },
      "text/plain": [
       "Output()"
      ]
     },
     "metadata": {},
     "output_type": "display_data"
    },
    {
     "data": {
      "text/html": [
       "<pre style=\"white-space:pre;overflow-x:auto;line-height:normal;font-family:Menlo,'DejaVu Sans Mono',consolas,'Courier New',monospace\">✨ <span style=\"color: #008080; text-decoration-color: #008080\">Inspeção </span><span style=\"color: #008080; text-decoration-color: #008080; font-weight: bold\">72120</span><span style=\"color: #008080; text-decoration-color: #008080\"> atualizada para </span><span style=\"color: #008000; text-decoration-color: #008000; font-weight: bold\">Em andamento</span>\n",
       "</pre>\n"
      ],
      "text/plain": [
       "✨ \u001b[36mInspeção \u001b[0m\u001b[1;36m72120\u001b[0m\u001b[36m atualizada para \u001b[0m\u001b[1;32mEm andamento\u001b[0m\n"
      ]
     },
     "metadata": {},
     "output_type": "display_data"
    },
    {
     "data": {
      "text/html": [
       "<pre style=\"white-space:pre;overflow-x:auto;line-height:normal;font-family:Menlo,'DejaVu Sans Mono',consolas,'Courier New',monospace\"></pre>\n"
      ],
      "text/plain": []
     },
     "metadata": {},
     "output_type": "display_data"
    },
    {
     "data": {
      "application/vnd.jupyter.widget-view+json": {
       "model_id": "",
       "version_major": 2,
       "version_minor": 0
      },
      "text/plain": [
       "Output()"
      ]
     },
     "metadata": {},
     "output_type": "display_data"
    },
    {
     "data": {
      "text/html": [
       "<pre style=\"white-space:pre;overflow-x:auto;line-height:normal;font-family:Menlo,'DejaVu Sans Mono',consolas,'Courier New',monospace\">✨ <span style=\"color: #008080; text-decoration-color: #008080\">Inspeção </span><span style=\"color: #008080; text-decoration-color: #008080; font-weight: bold\">72120</span><span style=\"color: #008080; text-decoration-color: #008080\"> atualizada para </span><span style=\"color: #008000; text-decoration-color: #008000; font-weight: bold\">Relatando</span>\n",
       "</pre>\n"
      ],
      "text/plain": [
       "✨ \u001b[36mInspeção \u001b[0m\u001b[1;36m72120\u001b[0m\u001b[36m atualizada para \u001b[0m\u001b[1;32mRelatando\u001b[0m\n"
      ]
     },
     "metadata": {},
     "output_type": "display_data"
    },
    {
     "data": {
      "text/html": [
       "<pre style=\"white-space:pre;overflow-x:auto;line-height:normal;font-family:Menlo,'DejaVu Sans Mono',consolas,'Courier New',monospace\"></pre>\n"
      ],
      "text/plain": []
     },
     "metadata": {},
     "output_type": "display_data"
    },
    {
     "data": {
      "application/vnd.jupyter.widget-view+json": {
       "model_id": "",
       "version_major": 2,
       "version_minor": 0
      },
      "text/plain": [
       "Output()"
      ]
     },
     "metadata": {},
     "output_type": "display_data"
    },
    {
     "data": {
      "text/html": [
       "<pre style=\"white-space:pre;overflow-x:auto;line-height:normal;font-family:Menlo,'DejaVu Sans Mono',consolas,'Courier New',monospace\">✒ <span style=\"color: #800000; text-decoration-color: #800000; font-weight: bold\">Assine o Relatório de Monitoramento e chame a função novamente ❗</span>\n",
       "</pre>\n"
      ],
      "text/plain": [
       "✒ \u001b[1;31mAssine o Relatório de Monitoramento e chame a função novamente ❗\u001b[0m\n"
      ]
     },
     "metadata": {},
     "output_type": "display_data"
    },
    {
     "data": {
      "text/html": [
       "<pre style=\"white-space:pre;overflow-x:auto;line-height:normal;font-family:Menlo,'DejaVu Sans Mono',consolas,'Courier New',monospace\"></pre>\n"
      ],
      "text/plain": []
     },
     "metadata": {},
     "output_type": "display_data"
    },
    {
     "data": {
      "application/vnd.jupyter.widget-view+json": {
       "model_id": "",
       "version_major": 2,
       "version_minor": 0
      },
      "text/plain": [
       "Output()"
      ]
     },
     "metadata": {},
     "output_type": "display_data"
    },
    {
     "data": {
      "text/html": [
       "<pre style=\"white-space:pre;overflow-x:auto;line-height:normal;font-family:Menlo,'DejaVu Sans Mono',consolas,'Courier New',monospace\"></pre>\n"
      ],
      "text/plain": []
     },
     "metadata": {},
     "output_type": "display_data"
    },
    {
     "data": {
      "text/plain": [
       "{'id': '72120',\n",
       " 'subject': 'INSP_GR01_2021_0702',\n",
       " 'status': 'Relatando',\n",
       " 'priority': 'Normal',\n",
       " 'start_date': '2021-03-19',\n",
       " 'due_date': '2021-12-31',\n",
       " 'description': 'Atendimento da Denúncia AC202010}213075425 (6104512), \\r\\nverificação da Potência e Intensidade de Campo Elétrico da Frequência 105.1MHz e seus harmônicos, \\r\\nalém da checagem de Intermodulação e Espúrios nas frequências 450.3MHz e 750MHz.',\n",
       " 'Data_de_inicio_efetivo': datetime.date(2021, 8, 2),\n",
       " 'Classe_da_Inspecao': 'Técnica',\n",
       " 'Tipo_de_Inspecao': 'Uso do Espectro - Monitoração',\n",
       " 'Ano': '2021',\n",
       " 'Coordenacao': '',\n",
       " 'Numero_Sei_do_Processo': '{\"numero\"=>\"53554.000013/2021-11\", \"link_acesso\"=>\"https://seihm.anatel.gov.br/sei/controlador.php?acao=procedimento_trabalhar&id_procedimento=1964149\"}',\n",
       " 'Fiscal_Responsavel': 'Ronaldo da Silva Alves Batista',\n",
       " 'Fiscais': ['Ronaldo da Silva Alves Batista',\n",
       "  'Paulo Diogo Costa',\n",
       "  'Mario Augusto Volpini'],\n",
       " 'Entidade_da_Inspecao': [],\n",
       " 'UF_Municipio': ['SP/São Paulo'],\n",
       " 'Servicos_da_Inspecao': ['507 - RESTRITO - MÓVEL AERONÁUTICO',\n",
       "  '450 - COLETIVO - COMUNICAÇÃO MULTIMÍDIA - DISPENSA DE AUTORIZAÇÃO',\n",
       "  '400 - RESTRITO - RÁDIO DO CIDADÃO',\n",
       "  '302 - RESTRITO - RADIOAMADOR',\n",
       "  '264 - RESTRITO - ESPECIAL CANAL SECUNDARIO DE SONS E IMAGENS',\n",
       "  '256 - RESTRITO - AUXILIAR DE RADIODIFUSAO E CORRELATOS',\n",
       "  '255 - RESTRITO - AUX. DE RADIODIFUSAO - TELEMEDICAO',\n",
       "  '254 - RESTRITO - AUX. DE RADIODIFUSAO - TELECOMANDO',\n",
       "  '253 - RESTRITO - AUXILIAR RADIODIF.- COM. DE ORDENS INTERNAS',\n",
       "  '252 - RESTRITO - AUXILIAR RADIODIF.- REPORTAGEM EXTERNA',\n",
       "  '248 - COLETIVO - RADIODIFUSÃO DE SONS E IMAGENS',\n",
       "  '247 - COLETIVO - GERADORA DE RADIODIFUSÃO DE SONS E IMAGENS - DIGITAL',\n",
       "  '231 - COLETIVO - RADIODIFUSÃO COMUNITÁRIA',\n",
       "  '230 - COLETIVO - RADIODIFUSÃO SONORA EM FREQÜÊNCIA MODULADA',\n",
       "  '221 - COLETIVO - RADIODIFUSÃO SONORA EM ONDA TROPICAL',\n",
       "  '213 - COLETIVO - RADIODIFUSÃO SONORA EM ONDAS CURTAS',\n",
       "  '205 - COLETIVO - RADIODIFUSÃO SONORA EM ONDA MÉDIA',\n",
       "  '191 - COLETIVO - SERVIÇO DE COMUNICAÇÃO DE DADOS COMUTADO',\n",
       "  '189 - COLETIVO - SERVICO MOVEL GLOBAL POR SATELITE(SMGS)',\n",
       "  '188 - RESTRITO - SERVICO DE CIRCUITO ESPECIALIZADO P/SATELITE',\n",
       "  '187 - RESTRITO - SERVICO DE REDE ESPECIALIZADO P/SATELITE',\n",
       "  '186 - RESTRITO - EXPLORAÇÃO DE SATÉLITE NÃO-GEOESTACIONÁRIO E ESTAÇÃO DE ACESSO',\n",
       "  '185 - RESTRITO - EXPLORACAO DE SATELITE E ESTACOES DE ACESSO',\n",
       "  '183 - COLETIVO - ESPECIAL DE BOLETINS METEOROLOGICOS',\n",
       "  '182 - RESTRITO - LIMITADO ESPECIALIZADO POR SATELITE',\n",
       "  '181 - RESTRITO - LIMITADO PRIVADO POR SATELITE',\n",
       "  '176 - COLETIVO - STFC/RADIOTELEFONICO - ESTACOES TERRENAS',\n",
       "  '175 - COLETIVO - STFC/RADIOTELEFONICO - ESTACOES TERRESTRES',\n",
       "  '167 - COLETIVO - ESPECIAL DE TELEVISAO POR ASSINATURA',\n",
       "  '163 - COLETIVO - SERVIÇO DE COMUNICAÇÃO DE TEXTOS',\n",
       "  '159 - COLETIVO - RADIOCOMUNICAÇÃO AERONÁUTICA PÚBLICO - RESTRITO',\n",
       "  '140 - RESTRITO - LIMITADO - RADIOESTRADA',\n",
       "  '132 - RESTRITO - ESPECIAL DE RADIOAUTOCINE',\n",
       "  '125 - RESTRITO - ESPECIAL DE SUPERVISÃO E CONTROLE/TERCEIROS',\n",
       "  '124 - RESTRITO - ESPECIAL DE SUPERVISÃO E CONTROLE/USO PRÓPRIO',\n",
       "  '116 - COLETIVO - TEL.PUBLICO MOVEL RODOVIARIO-TELESTRADA',\n",
       "  '108 - RESTRITO - SERVIÇO LIMITADO PRIVADO SUBMODALIDADE RADIODETERMINAÇÃO',\n",
       "  '099 - RESTRITO - SERVIÇO DE RADIAÇÃO RESTRITA',\n",
       "  '094 - COLETIVO - SERVIÇO ESPECIAL DE SINAIS HORÁRIOS',\n",
       "  '086 - COLETIVO - ESPECIAL DE FREQÜÊNCIA PADRÃO',\n",
       "  '079 - COLETIVO - SERVIÇO DE RADIOTÁXI ESPECIALIZADO',\n",
       "  '078 - RESTRITO - SERVIÇO DE RADIOTÁXI PRIVADO',\n",
       "  '077 - RESTRITO - SERVIÇO DE REDE ESPECIALIZADO',\n",
       "  '076 - RESTRITO - SERVIÇO DE REDE PRIVADO',\n",
       "  '069 - RESTRITO - SERVIÇO DE CIRCUITO ESPECIALIZADO',\n",
       "  '067 - COLETIVO - SERVIÇO AVANÇADO DE MENSAGEM (SAM)',\n",
       "  '064 - COLETIVO - MÓVEL MARÍTIMO ESPECIALIZADO',\n",
       "  '060 - RESTRITO - SERVIÇO LIMITADO PRIVADO DE RADIOCHAMADA-SLPR',\n",
       "  '053 - COLETIVO - RADIOENLACES ASSOCIADOS AO SMP',\n",
       "  '051 - COLETIVO - SERVIÇO ESPECIAL DE RADIOCHAMADA',\n",
       "  '050 - RESTRITO - SERVIÇO LIMITADO PRIVADO PARA INCLUSÃO DIGITAL NAS FAIXAS DE 2,5GHZ E 3,5GHZ',\n",
       "  '049 - RESTRITO - SERVIÇO LIMITADO PRIVADO PARA PRESTAÇÃO DE SERVIÇO PELAS PREFEITURAS MUNICIPAIS',\n",
       "  '048 - RESTRITO - RÁDIO-ACESSO',\n",
       "  '047 - COLETIVO - SERVIÇO DE COMUNICAÇÃO MULTIMÍDIA - EST. TERRENA',\n",
       "  '046 - COLETIVO - RADIOENLACES ASSOCIADOS AO SCM',\n",
       "  '045 - COLETIVO - SERVIÇO DE COMUNICAÇÃO MULTIMÍDIA',\n",
       "  '044 - RESTRITO - ENLACES FÍSICOS ASSOCIADOS AO SERVIÇO LIMITADO PRIVADO',\n",
       "  '043 - COLETIVO - ESPECIAL DE RADIORRECADO',\n",
       "  '042 - COLETIVO - SERVIÇO DE REDE COMUTADA POR CIRCUITO',\n",
       "  '041 - COLETIVO - SERVIÇO DE REDE COMUTADA POR PACOTE',\n",
       "  '040 - COLETIVO - SERVIÇO POR LINHA DEDICADA (SLD)',\n",
       "  '039 - COLETIVO - SERVIÇO ESPECIAL DE REPETIÇÃO DE SINAIS DE ÁUDIO',\n",
       "  '038 - COLETIVO - SERVIÇO ESPECIAL DE REPETIÇÃO DE SINAIS DE TV E VÍDEO',\n",
       "  '037 - RESTRITO - SERVIÇO USO TEMPORÁRIO DO ESPECTRO',\n",
       "  '036 - RESTRITO - SERVIÇO DE MONITORAGEM DO ESPECTRO',\n",
       "  '035 - RESTRITO - ESPC. P/FINS CIENTIF.EXPERIMENTAIS',\n",
       "  '034 - RESTRITO - SERVIÇO SLMP PRESTADO A DETERMINADOS GRUPOS DE USUARIOS',\n",
       "  '033 - COLETIVO - RADIOENLACES ASSOCIADOS AO SERVIÇO DE RÁDIOTAXI',\n",
       "  '032 - COLETIVO - RADIOENLACES ASSOCIADOS AO SERVIÇO REDE TRANSPORTE TELECOMUNICAÇÃO',\n",
       "  '031 - COLETIVO - SERV. REDE DE TRANSPORTE TELECOM-SRTT - SATELITE',\n",
       "  '030 - COLETIVO - SERVIÇO REDE DE TRANSPORTE TELECOMUNICAÇÕES - SRTT',\n",
       "  '028 - RESTRITO - LIMITADO PRIVADO ESTAÇÕES ITINERANTES',\n",
       "  '026 - RESTRITO - RADIOENLACES ASSOCIADOS AO SERVIÇO DE CIRCUITO ESPECIALIZADO',\n",
       "  '025 - COLETIVO - RADIOENLACES ASSOCIADOS AO SERVIÇO ESPECIALIZADO REPETIÇÃO TV/VÍDEO',\n",
       "  '024 - COLETIVO - RADIOENLACES ASSOCIADOS AO SERVIÇO ESPECIALIZADO REPETIÇÃO SINAL ÁUDIO',\n",
       "  '023 - RESTRITO - SERVIÇO LIMITADO MOVEL PRIVATIVO',\n",
       "  '021 - RESTRITO - LIMITADO - FIBRAS ÓTICAS',\n",
       "  '020 - COLETIVO - SERVIÇO MOVEL ESPECIALIZADO',\n",
       "  '019 - RESTRITO - LIMITADO PRIVADO',\n",
       "  '017 - RESTRITO - LIMITADO ESPECIALIZADO',\n",
       "  '016 - COLETIVO - RADIOENLACES ASSOCIADOS AO SERVIÇO POR LINHA DEDICADA',\n",
       "  '014 - RESTRITO - RADIOENLACES ASSOCIADOS AO SERVIÇO DE REDE ESPECIALIZADO',\n",
       "  '013 - COLETIVO - RADIOENLACES ASSOCIADOS AO SERVIÇO ESPECIALIZADO RADIOCHAMADA',\n",
       "  '012 - RESTRITO - RADIOENLACES ASSOCIADOS AO SERVIÇO MÓVEL PRIVADO',\n",
       "  '011 - RESTRITO - LIMITADO PRIVADO - PRESTAÇÃO A TERCEIROS',\n",
       "  '010 - COLETIVO - SERVIÇO MOVEL PESSOAL',\n",
       "  '002 - RESTRITO - SERVIÇO DE INTERESSE RESTRITO',\n",
       "  '001 - COLETIVO - SERVIÇO DE INTERESSE COLETIVO',\n",
       "  '000 - Não Aplicável',\n",
       "  '171 - COLETIVO - SERVICO TELEFONICO FIXO COMUTADO',\n",
       "  '901 - COLETIVO - FUNTTEL',\n",
       "  '900 - COLETIVO - FUST',\n",
       "  '820 - RESTRITO - DE TELEV. EM CIRCUITO FECHADO (RADIOENLACE)',\n",
       "  '810 - COLETIVO - DISTRIBUICAO DE SINAIS DE TELEVISAO - DISTV',\n",
       "  '802 - COLETIVO - PLANO BÁSICO DE RADIODIFUSÃO DE SONS E IMAGENS - DIGITAL',\n",
       "  '801 - COLETIVO - RETRANSMISSÃO DE RADIODIFUSÃO DE SONS E IMAGENS - DIGITAL',\n",
       "  '800 - COLETIVO - RETRANSMISSAO DE T.V.',\n",
       "  '750 - COLETIVO - SERVIÇO DE ACESSO CONDICIONADO',\n",
       "  '740 - COLETIVO - ESPEC.DISTRIB.SINAIS MULTIPONTO/MULTICANAL',\n",
       "  '735 - COLETIVO - DISTRIB. SINAIS TV/AUDIO P/ASSINATURA VIA SATELITE',\n",
       "  '730 - COLETIVO - ESPECIAL DE REPETICAO DE TV - SATELITE',\n",
       "  '729 - COLETIVO - TV A CABO',\n",
       "  '728 - RESTRITO - ESPECIAL DE REPETICAO DE TELEVISAO',\n",
       "  '710 - RESTRITO - ESPECIAL EM CANAL SECUNDARIO DE FM',\n",
       "  '701 - RESTRITO - ESPECIAL DE MUSICA FUNCIONAL',\n",
       "  '604 - RESTRITO - MÓVEL MARÍTIMO',\n",
       "  '029 - COLETIVO - RADIOENLACES ASSOCIADOS AO SERVIÇO LIMITADO ESPECIALIZADO',\n",
       "  '027 - COLETIVO - RADIOENLACES ASSOCIADOS AO SERVIÇO MÓVEL ESPECIALIZADO',\n",
       "  '015 - COLETIVO - RADIOENLACES ASSOCIADOS A SISTEMA DE SATÉLITES',\n",
       "  '251 - RESTRITO - AUXILIAR RADIODIF.- TRANSMISS. DE PROGRAMAS'],\n",
       " 'Qnt_de_emissoes_na_faixa': '12',\n",
       " 'Emissoes_nao_autorizadas': '70',\n",
       " 'Horas_de_Preparacao': '2',\n",
       " 'Horas_de_Deslocamento': '0',\n",
       " 'Horas_de_Execucao': '32',\n",
       " 'Horas_de_Conclusao': '6',\n",
       " 'SAV': '',\n",
       " 'PCDP': '',\n",
       " 'Procedimentos': [],\n",
       " 'Latitude': '-22.94694',\n",
       " 'Longitude': '-43.21944',\n",
       " 'Uso_de_PF': 'Não se aplica PF - uso apenas de formulários',\n",
       " 'Acao_de_risco_a_vida_criada': 'Não',\n",
       " 'Frequencia_Inicial': '54',\n",
       " 'Unidade_da_Frequencia_Inicial': 'MHz',\n",
       " 'Frequencia_Final': '700',\n",
       " 'Unidade_da_Frequencia_Final': 'MHz',\n",
       " 'Agrupamento': '',\n",
       " 'AppFiscaliza': '0',\n",
       " 'Relatorio_de_Monitoramento': '{\"numero\"=>\"0191734\", \"link_acesso\"=>\"https://seihm.anatel.gov.br/sei/controlador.php?acao=procedimento_trabalhar&id_procedimento=1964149&id_documento=1964284\"}',\n",
       " 'Reservar_Instrumentos': '0',\n",
       " 'Utilizou_algum_instrumento': '0',\n",
       " 'id_ACAO': 72088,\n",
       " 'nome_ACAO': 'ACAO_GR01_2021_0688',\n",
       " 'descricao_ACAO': '',\n",
       " 'Users': ['Alexandre Elias de Andrade Oliveira',\n",
       "  'Alexandre Freitas de Lima',\n",
       "  'Alexandre Inacio',\n",
       "  'Alexandre Junzo Hamada',\n",
       "  'Alfredo de Andrade Filho',\n",
       "  'Ananias Pereira',\n",
       "  'Antonio Carlos Cardoso de Mello',\n",
       "  'Aparecido Sebastiao da Silva',\n",
       "  'Arthur Pisaruk',\n",
       "  'Carlos Augusto de Carvalho',\n",
       "  'Carlos Eduardo Guimaraes Silveira',\n",
       "  'Carlos da Paixao Filho',\n",
       "  'Celio Yukio Takahashi',\n",
       "  'Celso Luiz Maximino',\n",
       "  'Diogo Caldeira',\n",
       "  'Ediceu Beraldi',\n",
       "  'Eduardo Narkevicius',\n",
       "  'Elcio Maehara',\n",
       "  'Eustaquio Lages Duarte',\n",
       "  'Gauber Albuquerque',\n",
       "  'Gilson Ponce Ayres Filho',\n",
       "  'Helio Lopes de Carvalho Filho',\n",
       "  'Higor da Paz Melo',\n",
       "  'Hugo Santana Lima',\n",
       "  'Humberto Barbosa Vinagre',\n",
       "  'Jamilson Evangelista',\n",
       "  'Joao Yokoyama',\n",
       "  'Joaquim Miranda',\n",
       "  'José Antônio S. Sanches',\n",
       "  'Julio Cesar de Assis Santos',\n",
       "  'Kiyotomo Kawamura',\n",
       "  'Laert Calil Junior',\n",
       "  'Lannei Vilela Moraes',\n",
       "  'Luis Lagomes',\n",
       "  'Luiz Vinicios Mielniczuk Seelig',\n",
       "  'Marcelo Augusto Scacabarozi',\n",
       "  'Marcelo Vaz Netto',\n",
       "  'Marcio Colazingari',\n",
       "  'Marcio Costa',\n",
       "  'Marcio Rodrigues Maciel',\n",
       "  'Marcos Antônio Rodrigues',\n",
       "  'Marcos Juliano Valim da Silva',\n",
       "  'Maria Teresa Flosi Garrafa',\n",
       "  'Mario Augusto Volpini',\n",
       "  'Murilo Amaro',\n",
       "  'Osnir Lopes',\n",
       "  'Paulo Diogo Costa',\n",
       "  'Pedro Arai',\n",
       "  'Renato Sadao Kushioyada',\n",
       "  'Ricardo Santos Marques',\n",
       "  'Ricardo da Silva e Souza',\n",
       "  'Roberto Carlos Soares Campos',\n",
       "  'Roberto Ferreira dos Santos',\n",
       "  'Roberto Takata',\n",
       "  'Rodrigo Barbosa de Paula',\n",
       "  'Rogerio Zambotto',\n",
       "  'Ronaldo da Silva Alves Batista',\n",
       "  'Sergio Pereira',\n",
       "  'Thiago Silva',\n",
       "  'Thomaz Honma Ishida',\n",
       "  'Vinicius Paiva de Oliveira',\n",
       "  'Vitor Zelada',\n",
       "  'Wellington Devechi Piauilino',\n",
       "  'Wladimir Senise'],\n",
       " 'Atualizado': 'Atualizado por Ronaldo da Silva Alves Batista em 02/08/2021 às 12:38:21'}"
      ]
     },
     "execution_count": null,
     "metadata": {},
     "output_type": "execute_result"
    }
   ],
   "source": [
    "relatar_inspecao(issue, login, senha, dados=dados, teste=True, parar_em=\"Relatada\", substituir_relatorio=True)"
   ]
  },
  {
   "cell_type": "markdown",
   "metadata": {},
   "source": [
    "O dicionário de dados possui os dados completos obrigatórios para o relato, a cada etapa os dados são atualizados caso distintos do que já consta no fiscaliza:\n",
    "* `Rascunho` para `Aguardando Execução`\n",
    "* `Aguardando Execução` para `Em Andamento`\n",
    "* `Em Andamento` para `Relatando`\n",
    "* `Relatando` para `Relatada`\n",
    "\n",
    "Após o relatório ser assinado basta chamar a função com os mesmos argumentos para que a etapa final seja realizada."
   ]
  },
  {
   "cell_type": "code",
   "execution_count": null,
   "metadata": {},
   "outputs": [
    {
     "data": {
      "text/html": [
       "<pre style=\"white-space:pre;overflow-x:auto;line-height:normal;font-family:Menlo,'DejaVu Sans Mono',consolas,'Courier New',monospace\"><span style=\"color: #008000; text-decoration-color: #008000; font-weight: bold\">Usuário Autenticado com Sucesso 👍</span>\n",
       "</pre>\n"
      ],
      "text/plain": [
       "\u001b[1;32mUsuário Autenticado com Sucesso 👍\u001b[0m\n"
      ]
     },
     "metadata": {},
     "output_type": "display_data"
    },
    {
     "data": {
      "text/html": [
       "<pre style=\"white-space:pre;overflow-x:auto;line-height:normal;font-family:Menlo,'DejaVu Sans Mono',consolas,'Courier New',monospace\">Inspeção <span style=\"color: #008080; text-decoration-color: #008080; font-weight: bold\">72120</span> vinculada à Ação <span style=\"color: #008080; text-decoration-color: #008080; font-weight: bold\">72088</span>\n",
       "</pre>\n"
      ],
      "text/plain": [
       "Inspeção \u001b[1;36m72120\u001b[0m vinculada à Ação \u001b[1;36m72088\u001b[0m\n"
      ]
     },
     "metadata": {},
     "output_type": "display_data"
    },
    {
     "data": {
      "application/vnd.jupyter.widget-view+json": {
       "model_id": "",
       "version_major": 2,
       "version_minor": 0
      },
      "text/plain": [
       "Output()"
      ]
     },
     "metadata": {},
     "output_type": "display_data"
    },
    {
     "data": {
      "text/html": [
       "<pre style=\"white-space:pre;overflow-x:auto;line-height:normal;font-family:Menlo,'DejaVu Sans Mono',consolas,'Courier New',monospace\">✅ <span style=\"color: #008080; text-decoration-color: #008080\">Estado Atual: </span><span style=\"color: #008000; text-decoration-color: #008000; font-weight: bold\">Relatando</span>\n",
       "</pre>\n"
      ],
      "text/plain": [
       "✅ \u001b[36mEstado Atual: \u001b[0m\u001b[1;32mRelatando\u001b[0m\n"
      ]
     },
     "metadata": {},
     "output_type": "display_data"
    },
    {
     "data": {
      "text/html": [
       "<pre style=\"white-space:pre;overflow-x:auto;line-height:normal;font-family:Menlo,'DejaVu Sans Mono',consolas,'Courier New',monospace\"></pre>\n"
      ],
      "text/plain": []
     },
     "metadata": {},
     "output_type": "display_data"
    },
    {
     "data": {
      "text/html": [
       "<pre style=\"white-space:pre;overflow-x:auto;line-height:normal;font-family:Menlo,'DejaVu Sans Mono',consolas,'Courier New',monospace\"><span style=\"color: #800000; text-decoration-color: #800000; font-weight: bold\"> ⚠ Já existe um Relatório de Monitoramento criado, esse campo não será atualizado ⚠</span>\n",
       "</pre>\n"
      ],
      "text/plain": [
       "\u001b[1;31m ⚠ Já existe um Relatório de Monitoramento criado, esse campo não será atualizado ⚠\u001b[0m\n"
      ]
     },
     "metadata": {},
     "output_type": "display_data"
    },
    {
     "data": {
      "text/html": [
       "<pre style=\"white-space:pre;overflow-x:auto;line-height:normal;font-family:Menlo,'DejaVu Sans Mono',consolas,'Courier New',monospace\">👩‍💻 <span style=\"color: #008080; text-decoration-color: #008080\"> A inspeção será atualizada até a situação </span><span style=\"color: #008000; text-decoration-color: #008000; font-weight: bold\">Relatada</span>\n",
       "</pre>\n"
      ],
      "text/plain": [
       "👩‍💻 \u001b[36m A inspeção será atualizada até a situação \u001b[0m\u001b[1;32mRelatada\u001b[0m\n"
      ]
     },
     "metadata": {},
     "output_type": "display_data"
    },
    {
     "data": {
      "application/vnd.jupyter.widget-view+json": {
       "model_id": "",
       "version_major": 2,
       "version_minor": 0
      },
      "text/plain": [
       "Output()"
      ]
     },
     "metadata": {},
     "output_type": "display_data"
    },
    {
     "data": {
      "text/html": [
       "<pre style=\"white-space:pre;overflow-x:auto;line-height:normal;font-family:Menlo,'DejaVu Sans Mono',consolas,'Courier New',monospace\">✨ <span style=\"color: #008080; text-decoration-color: #008080\">Inspeção </span><span style=\"color: #008080; text-decoration-color: #008080; font-weight: bold\">72120</span><span style=\"color: #008080; text-decoration-color: #008080\"> atualizada para </span><span style=\"color: #008000; text-decoration-color: #008000; font-weight: bold\">Relatando</span>\n",
       "</pre>\n"
      ],
      "text/plain": [
       "✨ \u001b[36mInspeção \u001b[0m\u001b[1;36m72120\u001b[0m\u001b[36m atualizada para \u001b[0m\u001b[1;32mRelatando\u001b[0m\n"
      ]
     },
     "metadata": {},
     "output_type": "display_data"
    },
    {
     "data": {
      "text/html": [
       "<pre style=\"white-space:pre;overflow-x:auto;line-height:normal;font-family:Menlo,'DejaVu Sans Mono',consolas,'Courier New',monospace\"></pre>\n"
      ],
      "text/plain": []
     },
     "metadata": {},
     "output_type": "display_data"
    },
    {
     "data": {
      "application/vnd.jupyter.widget-view+json": {
       "model_id": "",
       "version_major": 2,
       "version_minor": 0
      },
      "text/plain": [
       "Output()"
      ]
     },
     "metadata": {},
     "output_type": "display_data"
    },
    {
     "data": {
      "text/html": [
       "<pre style=\"white-space:pre;overflow-x:auto;line-height:normal;font-family:Menlo,'DejaVu Sans Mono',consolas,'Courier New',monospace\">😎 <span style=\"color: #008080; text-decoration-color: #008080\">Inspeção </span><span style=\"color: #008080; text-decoration-color: #008080; font-weight: bold\">72120</span><span style=\"color: #008080; text-decoration-color: #008080\"> atualizada para </span><span style=\"color: #008000; text-decoration-color: #008000; font-weight: bold\">Relatada</span>\n",
       "</pre>\n"
      ],
      "text/plain": [
       "😎 \u001b[36mInspeção \u001b[0m\u001b[1;36m72120\u001b[0m\u001b[36m atualizada para \u001b[0m\u001b[1;32mRelatada\u001b[0m\n"
      ]
     },
     "metadata": {},
     "output_type": "display_data"
    },
    {
     "data": {
      "text/html": [
       "<pre style=\"white-space:pre;overflow-x:auto;line-height:normal;font-family:Menlo,'DejaVu Sans Mono',consolas,'Courier New',monospace\"></pre>\n"
      ],
      "text/plain": []
     },
     "metadata": {},
     "output_type": "display_data"
    },
    {
     "data": {
      "application/vnd.jupyter.widget-view+json": {
       "model_id": "",
       "version_major": 2,
       "version_minor": 0
      },
      "text/plain": [
       "Output()"
      ]
     },
     "metadata": {},
     "output_type": "display_data"
    },
    {
     "data": {
      "text/html": [
       "<pre style=\"white-space:pre;overflow-x:auto;line-height:normal;font-family:Menlo,'DejaVu Sans Mono',consolas,'Courier New',monospace\"></pre>\n"
      ],
      "text/plain": []
     },
     "metadata": {},
     "output_type": "display_data"
    }
   ],
   "source": [
    "relato = relatar_inspecao(issue, login, senha, dados=dados, parar_em=\"Relatada\")"
   ]
  },
  {
   "cell_type": "markdown",
   "metadata": {},
   "source": [
    "Os mesmos passos acima podem ser efetuados no **Fiscaliza** de produção, bastando passar o argumento `teste=False` nas funções acima"
   ]
  },
  {
   "cell_type": "code",
   "execution_count": null,
   "metadata": {},
   "outputs": [],
   "source": [
    "inspecao = '51849'\n",
    "detalhes = detalhar_issue(inspecao, login, senha, teste=False)\n",
    "console.print(detalhes)"
   ]
  }
 ],
 "metadata": {
  "kernelspec": {
   "display_name": "Python [conda env:fiscaliza]",
   "language": "python",
   "name": "conda-env-fiscaliza-py"
  }
 },
 "nbformat": 4,
 "nbformat_minor": 4
}
