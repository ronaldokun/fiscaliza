{
 "cells": [
  {
   "cell_type": "code",
   "execution_count": null,
   "metadata": {},
   "outputs": [
    {
     "name": "stdout",
     "output_type": "stream",
     "text": [
      "The autoreload extension is already loaded. To reload it, use:\n",
      "  %reload_ext autoreload\n"
     ]
    }
   ],
   "source": [
    "%load_ext autoreload\n",
    "%autoreload 2\n",
    "%config Completer.use_jedi = False"
   ]
  },
  {
   "cell_type": "code",
   "execution_count": null,
   "metadata": {},
   "outputs": [],
   "source": [
    "#hide\n",
    "import json\n",
    "from pathlib import Path\n",
    "from typing import *\n",
    "from getpass import getuser, getpass\n",
    "from redminelib.resources import Issue\n",
    "from fiscaliza.validation import valida_fiscaliza\n",
    "from fiscaliza.update import relatar_inspecao\n",
    "from fiscaliza.info import detalhar_issue, extract_attachments\n",
    "from fiscaliza.constants import TABLECOLS\n",
    "from fastcore.foundation import L\n",
    "from fastcore.script import Param\n",
    "from rich.console import Console\n",
    "console = Console()"
   ]
  },
  {
   "cell_type": "markdown",
   "metadata": {},
   "source": [
    "Caso não desejar utilizar um ambiente virtual basta rodar:\n",
    "`pip install fiscaliza`"
   ]
  },
  {
   "cell_type": "code",
   "execution_count": null,
   "metadata": {},
   "outputs": [],
   "source": [
    "# \n",
    "login = 'eric'\n",
    "senha = 'EmD1980m$'\n",
    "TESTE = True\n",
    "issue = '84054'\n",
    "parar_em = 'Relatando'\n",
    "API = 'bf5f7955ca65703bcc73afda4a5f215d0135bf2d'\n"
   ]
  },
  {
   "cell_type": "code",
   "execution_count": null,
   "metadata": {},
   "outputs": [],
   "source": [
    "d = {}\n",
    "\n",
    "d['Classe_da_Inspecao'] = 'Técnica' # str\n",
    "\n",
    "d['Tipo_de_Inspecao'] = 'Uso do Espectro - Monitoração' #str\n",
    "\n",
    "d['description'] = '''Realizar análise espectral de faixas das frequência relacionadas ao Plano de Monitoração do Espectro destinado a aplicações Críticas (PMEC), aferindo a sua ocupação, nas localidades que compõem a Etapa 1 da fiscalização.'''\n",
    "\n",
    "d['Fiscal_Responsavel'] = 'Eric Magalhaes Delgado' #str\n",
    "\n",
    "d['Fiscais'] = ['Alessandro Vasconcelos Fernandes', 'Eric Magalhaes Delgado'] #string ou lista de strings\n",
    "\n",
    "# Windows\n",
    "d['Html'] = r'D:\\OneDrive - ANATEL\\Monitoramento\\2022\\PMEC\\Report_2022.05.16_T14.56.10_84045.html' #str\n",
    "\n",
    "# d['Html'] = r'D:\\html_simples.html'\n",
    "\n",
    "# #ou \n",
    "\n",
    "# #Unix d['Html'] = '/d/OneDrive - ANATEL/Monitoramento/53504.0005432021-55/Guarulhos.html' #str\n",
    "            \n",
    "d['Gerar_Relatorio'] = 1 # int 0 ou 1\n",
    "\n",
    "d['Frequencia_Inicial']  = 10 #int ou float\n",
    "\n",
    "d['Unidade_da_Frequencia_Inicial'] = 'kHz' #string\n",
    "\n",
    "d['Frequencia_Final'] = 110 #int ou float\n",
    "\n",
    "d['Unidade_da_Frequencia_Final'] = 'MHz' #string\n",
    "\n",
    "d['start_date'] = '2022-04-11' #YYYY-MM-DD #string nesse formato\n",
    "\n",
    "d['due_date'] = '2022-05-31'  #YYYY-MM-DD #string nesse formato\n",
    "\n",
    "d['UF_Municipio'] = \"BA/Salvador\" # string ou Lista de Strings: [\"SP/São Paulo\", \"SP/Sorocaba\"]\n",
    "\n",
    "d['Servicos_da_Inspecao'] = ['019', '205',  '230', '231', '507'] # String ou Lista de Strings\n",
    "\n",
    "d['Qtd_Emissoes'] = 70 # int\n",
    "\n",
    "d[\"Qtd_Licenciadas\"] = 1\n",
    "\n",
    "d[\"Qtd_Identificadas\"] = 1\n",
    "\n",
    "# d['Emissoes_nao_autorizadas'] = 24 # int\n",
    "\n",
    "d['Horas_de_Preparacao'] = 4 # int\n",
    "\n",
    "d['Horas_de_Deslocamento'] = 0 # int\n",
    "\n",
    "d['Horas_de_Execucao'] = 4 # int\n",
    "\n",
    "d['Horas_de_Conclusao'] = 16 # int\n",
    "\n",
    "d['Latitude'] =  -23.635884 # float\n",
    "\n",
    "d['Longitude'] = -46.654251 # float\n",
    "\n",
    "d['Uso_de_PF'] = 'Não se aplica PF - uso apenas de formulários' # string\n",
    "\n",
    "d['Acao_de_risco_a_vida_criada'] = 'Não' # string Sim | Não\n",
    "\n",
    "d['Impossibilidade_acesso_online'] = '0' # string '0' | '1'\n",
    "\n",
    "d['Reservar_Instrumentos'] = '0' #string '0' = Não | '1' = 'Sim'\n",
    "\n",
    "d['Utilizou_algum_instrumento'] = '0'\n",
    "\n",
    "# d['notes'] = \"\"\"Vemos que o nível médio medido ficou da ordem de 35.2 dB inferior e o nível máximo da ordem de 25.2 dB inferior do valor esperado pela simulação de cobertura, indicando potenciais perdas adicionais não contabilizadas pelo modelo de propagação.\n",
    "\n",
    "# Cabe salientar que concomitantemente à monitoração efetuada no item 4 foi efetuada a demodulação do sinal de áudio e monitoração do sinal ao vivo e não foi constatado qualquer sinal de interferência, batimento ou produto de intermodulação.\"\"\"\n",
    "\n",
    "# d['notes'] = [\"\"\"[{\"Banda\":\"87.800 - 108.000 MHz\", \"Licenciados\":31,\"NaoLicenciados\":4,\"NaoLicenciaveis\":0, 'Espúrio': 2, \"NaoIdentificada\": 1, \"NaoManifestada\": 0},\n",
    "#                 {\"Banda\":\"470.000 - 698.000 MHz\",\"Sinais\":19,\"Licenciados\":19,\"NaoLicenciados\":0,\"NaoLicenciaveis\":0, 'Espúrio': 2, \"NaoIdentificada\": 1, \"NaoManifestada\": 0}]\n",
    "#             \"\"\"]\n",
    "\n",
    "# No caso de uma tabela, string formatada como csv\n",
    "\n",
    "d['notes'] = {k:2 for k in TABLECOLS.values()}\n",
    "\n",
    "d['notes'] = [f\"{d['notes']}\"]\n",
    "\n",
    "# d['notes'] = [\"\"\"Faixa, Classe Especial, Classe A, Classe B, Classe C\n",
    "#                 VHF-L,0,5,7,5\n",
    "#                 VHF-H,0,12,1,0\n",
    "#                 UHF,1,1,2,4\n",
    "#                 FM,5,1,0,0\n",
    "#                 RADCOM,0,0,0,0\n",
    "#                 Outorgadas com indícios de irregularidades,1,2,3,4\n",
    "#               \"\"\",\n",
    "#               \"\"\"[{\"Banda\":\"87.800 - 108.000 MHz\",\"Sinais\":35,\"Licenciados\":31,\"NaoLicenciados\":4,\"NaoLicenciaveis\":0},\n",
    "#                   {\"Banda\":\"470.000 - 698.000 MHz\",\"Sinais\":19,\"Licenciados\":19,\"NaoLicenciados\":0,\"NaoLicenciaveis\":0}]\n",
    "#               \"\"\"]\n",
    "\n",
    "d['uploads'] = {'path': r'D:\\OneDrive - ANATEL\\Monitoramento\\2022\\PMEC\\Report_2022.05.16_T14.56.10_84045.json', \n",
    "                'filename': \"Info.json\",\n",
    "# #                 'description': \"Lista de Emissões Desmascaradas e Não Licenciadas\",\n",
    "# #                 'content_type': '.csv'\n",
    "                 }"
   ]
  },
  {
   "cell_type": "code",
   "execution_count": null,
   "metadata": {},
   "outputs": [
    {
     "data": {
      "text/html": [
       "<pre style=\"white-space:pre;overflow-x:auto;line-height:normal;font-family:Menlo,'DejaVu Sans Mono',consolas,'Courier New',monospace\"><span style=\"color: #008000; text-decoration-color: #008000\">(   ●  )</span> Atualizando...\n",
       "</pre>\n"
      ],
      "text/plain": [
       "\u001b[32m(   ●  )\u001b[0m Atualizando...\n"
      ]
     },
     "metadata": {},
     "output_type": "display_data"
    },
    {
     "data": {
      "text/html": [
       "<pre style=\"white-space:pre;overflow-x:auto;line-height:normal;font-family:Menlo,'DejaVu Sans Mono',consolas,'Courier New',monospace\"></pre>\n"
      ],
      "text/plain": []
     },
     "metadata": {},
     "output_type": "display_data"
    },
    {
     "data": {
      "text/html": [
       "<pre style=\"white-space:pre;overflow-x:auto;line-height:normal;font-family:Menlo,'DejaVu Sans Mono',consolas,'Courier New',monospace\">⚡ <span style=\"color: #008000; text-decoration-color: #008000\"> Relato efetuado</span>\n",
       "</pre>\n"
      ],
      "text/plain": [
       "⚡ \u001b[32m Relato efetuado\u001b[0m\n"
      ]
     },
     "metadata": {},
     "output_type": "display_data"
    }
   ],
   "source": [
    "data = relatar_inspecao(issue, login, senha, dados=d, teste=TESTE, parar_em=parar_em, substituir_relatorio=True)"
   ]
  },
  {
   "cell_type": "code",
   "execution_count": null,
   "metadata": {},
   "outputs": [],
   "source": []
  }
 ],
 "metadata": {
  "kernelspec": {
   "display_name": "Python 3.9.12 ('teste')",
   "language": "python",
   "name": "python3"
  }
 },
 "nbformat": 4,
 "nbformat_minor": 4
}
