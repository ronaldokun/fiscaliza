{
 "cells": [
  {
   "cell_type": "code",
   "execution_count": null,
   "metadata": {},
   "outputs": [
    {
     "name": "stdout",
     "output_type": "stream",
     "text": [
      "The autoreload extension is already loaded. To reload it, use:\n",
      "  %reload_ext autoreload\n"
     ]
    }
   ],
   "source": [
    "%load_ext autoreload\n",
    "%autoreload 2\n",
    "%config Completer.use_jedi = False"
   ]
  },
  {
   "cell_type": "code",
   "execution_count": null,
   "metadata": {},
   "outputs": [],
   "source": [
    "#hide\n",
    "import json\n",
    "from pathlib import Path\n",
    "from typing import *\n",
    "from getpass import getuser, getpass\n",
    "from redminelib.resources import Issue\n",
    "from fiscaliza.validation import valida_fiscaliza, auth_user\n",
    "from fiscaliza.update import relatar_inspecao\n",
    "from fiscaliza.info import detalhar_issue, extract_attachments, download_attachments\n",
    "from fiscaliza.constants import TABLECOLS\n",
    "from fastcore.foundation import L\n",
    "from fastcore.script import Param\n",
    "from rich.console import Console\n",
    "console = Console()"
   ]
  },
  {
   "cell_type": "markdown",
   "metadata": {},
   "source": [
    "Caso não desejar utilizar um ambiente virtual basta rodar:\n",
    "`pip install fiscaliza`"
   ]
  },
  {
   "cell_type": "code",
   "execution_count": null,
   "metadata": {},
   "outputs": [],
   "source": [
    "# \n",
    "login = 'eric'\n",
    "senha = 'EmD1980m$'\n",
    "TESTE = True\n",
    "issue = '84046'\n",
    "parar_em = 'Relatando'\n",
    "API = 'bf5f7955ca65703bcc73afda4a5f215d0135bf2d'\n"
   ]
  },
  {
   "cell_type": "code",
   "execution_count": null,
   "metadata": {},
   "outputs": [],
   "source": [
    "d = {}\n",
    "\n",
    "d['Classe_da_Inspecao'] = 'Técnica' # str\n",
    "\n",
    "d['Tipo_de_Inspecao'] = 'Uso do Espectro - Monitoração' #str\n",
    "\n",
    "d['description'] = '''Realizar análise espectral de faixas das frequência relacionadas ao Plano de Monitoração do Espectro destinado a aplicações Críticas (PMEC), aferindo a sua ocupação, nas localidades que compõem a Etapa 1 da fiscalização.'''\n",
    "\n",
    "d['Fiscal_Responsavel'] = 'Eric Magalhaes Delgado' #str\n",
    "\n",
    "d['Fiscais'] = ['Alessandro Vasconcelos Fernandes', 'Eric Magalhaes Delgado'] #string ou lista de strings\n",
    "\n",
    "# Windows\n",
    "d['Html'] = r'D:\\OneDrive - ANATEL\\Monitoramento\\2022\\PMEC\\Report_2022.05.16_T14.56.10_84045.html' #str\n",
    "\n",
    "# d['Html'] = r'D:\\html_simples.html'\n",
    "\n",
    "# #ou \n",
    "\n",
    "# #Unix d['Html'] = '/d/OneDrive - ANATEL/Monitoramento/53504.0005432021-55/Guarulhos.html' #str\n",
    "            \n",
    "d['Gerar_Relatorio'] = 0 # int 0 ou 1\n",
    "\n",
    "d['Frequencia_Inicial']  = 10 #int ou float\n",
    "\n",
    "d['Unidade_da_Frequencia_Inicial'] = 'kHz' #string\n",
    "\n",
    "d['Frequencia_Final'] = 5450 #int ou float\n",
    "\n",
    "d['Unidade_da_Frequencia_Final'] = 'MHz' #string\n",
    "\n",
    "d['start_date'] = '2022-04-11' #YYYY-MM-DD #string nesse formato\n",
    "\n",
    "d['due_date'] = '2022-05-31'  #YYYY-MM-DD #string nesse formato\n",
    "\n",
    "d['UF_Municipio'] = \"BA/Salvador\" # string ou Lista de Strings: [\"SP/São Paulo\", \"SP/Sorocaba\"]\n",
    "\n",
    "d['Servicos_da_Inspecao'] = ['019', '205',  '230', '231', '507'] # String ou Lista de Strings\n",
    "\n",
    "d['Qtd_Emissoes'] = 70 # int\n",
    "\n",
    "d[\"Qtd_Licenciadas\"] = 1\n",
    "\n",
    "d[\"Qtd_Identificadas\"] = 1\n",
    "\n",
    "# d['Emissoes_nao_autorizadas'] = 24 # int\n",
    "\n",
    "d['Horas_de_Preparacao'] = 4 # int\n",
    "\n",
    "d['Horas_de_Deslocamento'] = 0 # int\n",
    "\n",
    "d['Horas_de_Execucao'] = 4 # int\n",
    "\n",
    "d['Horas_de_Conclusao'] = 16 # int\n",
    "\n",
    "d['Latitude'] =  -23.635884 # float\n",
    "\n",
    "d['Longitude'] = -46.654251 # float\n",
    "\n",
    "d['Uso_de_PF'] = 'Não se aplica PF - uso apenas de formulários' # string\n",
    "\n",
    "d['Acao_de_risco_a_vida_criada'] = 'Não' # string Sim | Não\n",
    "\n",
    "d['Impossibilidade_acesso_online'] = '0' # string '0' | '1'\n",
    "\n",
    "d['Reservar_Instrumentos'] = '0' #string '0' = Não | '1' = 'Sim'\n",
    "\n",
    "d['Utilizou_algum_instrumento'] = '0'\n",
    "\n",
    "# d['notes'] = \"\"\"Vemos que o nível médio medido ficou da ordem de 35.2 dB inferior e o nível máximo da ordem de 25.2 dB inferior do valor esperado pela simulação de cobertura, indicando potenciais perdas adicionais não contabilizadas pelo modelo de propagação.\n",
    "\n",
    "# Cabe salientar que concomitantemente à monitoração efetuada no item 4 foi efetuada a demodulação do sinal de áudio e monitoração do sinal ao vivo e não foi constatado qualquer sinal de interferência, batimento ou produto de intermodulação.\"\"\"\n",
    "\n",
    "# d['notes'] = [\"\"\"[{\"Banda\":\"87.800 - 108.000 MHz\", \"Licenciados\":31,\"NaoLicenciados\":4,\"NaoLicenciaveis\":0, 'Espúrio': 2, \"NaoIdentificada\": 1, \"NaoManifestada\": 0},\n",
    "#                 {\"Banda\":\"470.000 - 698.000 MHz\",\"Sinais\":19,\"Licenciados\":19,\"NaoLicenciados\":0,\"NaoLicenciaveis\":0, 'Espúrio': 2, \"NaoIdentificada\": 1, \"NaoManifestada\": 0}]\n",
    "#             \"\"\"]\n",
    "\n",
    "# No caso de uma tabela, string formatada como csv\n",
    "\n",
    "d['notes'] = {k:2 for k in TABLECOLS.values()}\n",
    "\n",
    "d['notes'] = [f\"{d['notes']}\"]\n",
    "\n",
    "# d['notes'] = [\"\"\"Faixa, Classe Especial, Classe A, Classe B, Classe C\n",
    "#                 VHF-L,0,5,7,5\n",
    "#                 VHF-H,0,12,1,0\n",
    "#                 UHF,1,1,2,4\n",
    "#                 FM,5,1,0,0\n",
    "#                 RADCOM,0,0,0,0\n",
    "#                 Outorgadas com indícios de irregularidades,1,2,3,4\n",
    "#               \"\"\",\n",
    "#               \"\"\"[{\"Banda\":\"87.800 - 108.000 MHz\",\"Sinais\":35,\"Licenciados\":31,\"NaoLicenciados\":4,\"NaoLicenciaveis\":0},\n",
    "#                   {\"Banda\":\"470.000 - 698.000 MHz\",\"Sinais\":19,\"Licenciados\":19,\"NaoLicenciados\":0,\"NaoLicenciaveis\":0}]\n",
    "#               \"\"\"]\n",
    "\n",
    "d['uploads'] = {'path': r'D:\\OneDrive - ANATEL\\Monitoramento\\2022\\PMEC\\Report_2022.05.16_T14.56.10_84045.json', \n",
    "                'filename': \"Info.json\",\n",
    "# #                 'description': \"Lista de Emissões Desmascaradas e Não Licenciadas\",\n",
    "# #                 'content_type': '.csv'\n",
    "                 }"
   ]
  },
  {
   "cell_type": "code",
   "execution_count": null,
   "metadata": {},
   "outputs": [
    {
     "data": {
      "text/html": [
       "<pre style=\"white-space:pre;overflow-x:auto;line-height:normal;font-family:Menlo,'DejaVu Sans Mono',consolas,'Courier New',monospace\"><span style=\"color: #008000; text-decoration-color: #008000\">(    ● )</span> Atualizando...\n",
       "</pre>\n"
      ],
      "text/plain": [
       "\u001b[32m(    ● )\u001b[0m Atualizando...\n"
      ]
     },
     "metadata": {},
     "output_type": "display_data"
    },
    {
     "data": {
      "text/html": [
       "<pre style=\"white-space:pre;overflow-x:auto;line-height:normal;font-family:Menlo,'DejaVu Sans Mono',consolas,'Courier New',monospace\"></pre>\n"
      ],
      "text/plain": []
     },
     "metadata": {},
     "output_type": "display_data"
    },
    {
     "data": {
      "text/html": [
       "<pre style=\"white-space:pre;overflow-x:auto;line-height:normal;font-family:Menlo,'DejaVu Sans Mono',consolas,'Courier New',monospace\">✨ <span style=\"color: #008080; text-decoration-color: #008080\">Inspeção </span><span style=\"color: #008080; text-decoration-color: #008080; font-weight: bold\">84046</span><span style=\"color: #008080; text-decoration-color: #008080\"> atualizada para </span><span style=\"color: #008000; text-decoration-color: #008000; font-weight: bold\">Relatando</span>\n",
       "</pre>\n"
      ],
      "text/plain": [
       "✨ \u001b[36mInspeção \u001b[0m\u001b[1;36m84046\u001b[0m\u001b[36m atualizada para \u001b[0m\u001b[1;32mRelatando\u001b[0m\n"
      ]
     },
     "metadata": {},
     "output_type": "display_data"
    },
    {
     "data": {
      "text/html": [
       "<pre style=\"white-space:pre;overflow-x:auto;line-height:normal;font-family:Menlo,'DejaVu Sans Mono',consolas,'Courier New',monospace\">⚡ <span style=\"color: #008000; text-decoration-color: #008000\"> Relato efetuado</span>\n",
       "</pre>\n"
      ],
      "text/plain": [
       "⚡ \u001b[32m Relato efetuado\u001b[0m\n"
      ]
     },
     "metadata": {},
     "output_type": "display_data"
    },
    {
     "data": {
      "text/plain": [
       "{'Anexos': {'Info.json': 'http://sistemashm.anatel.gov.br/fiscaliza/attachments/download/2198/Info.json'},\n",
       " 'id': 84046,\n",
       " 'subject': 'INSP_GR08_2022_0059',\n",
       " 'status': <redminelib.resources.IssueStatus #14 \"Relatando\">,\n",
       " 'priority': <redminelib.resources.Enumeration #2 \"Normal\">,\n",
       " 'start_date': datetime.date(2022, 4, 11),\n",
       " 'due_date': datetime.date(2022, 5, 31),\n",
       " 'description': 'A Superintendência de Outorga e Recursos à Prestação solicitou realização de monitoração \\r\\nna faixa 70MHz a 110MHz, especificamente a frequência 104.1MHz para checagem dos níveis de emissão, \\r\\nmotivada pelo Ofício N°25/ERMBe-MB (8177388).',\n",
       " 'Data_de_inicio_efetivo': datetime.date(2022, 4, 13),\n",
       " 'Classe_da_Inspecao': 'Técnica',\n",
       " 'Tipo_de_Inspecao': 'Uso do Espectro - Monitoração',\n",
       " 'Ano': '2022',\n",
       " 'Coordenacao': 'FI2',\n",
       " 'Numero_Sei_do_Processo': '{\"numero\"=>\"53500.000209/2022-12\", \"link_acesso\"=>\"https://seihm.anatel.gov.br/sei/controlador.php?acao=procedimento_trabalhar&id_procedimento=1968548\"}',\n",
       " 'Fiscal_Responsavel': 'Lin Yu Wan',\n",
       " 'Fiscais': ['Lin Yu Wan'],\n",
       " 'Entidade_da_Inspecao': [],\n",
       " 'UF_Municipio': ['BA/Salvador'],\n",
       " 'Servicos_da_Inspecao': ['230 - COLETIVO - RADIODIFUSÃO SONORA EM FREQÜÊNCIA MODULADA',\n",
       "  '231 - COLETIVO - RADIODIFUSÃO COMUNITÁRIA',\n",
       "  '019 - RESTRITO - LIMITADO PRIVADO',\n",
       "  '205 - COLETIVO - RADIODIFUSÃO SONORA EM ONDA MÉDIA',\n",
       "  '507 - RESTRITO - MÓVEL AERONÁUTICO'],\n",
       " 'Qtd_Emissoes': '70',\n",
       " 'Qtd_Licenciadas': '1',\n",
       " 'Qtd_Identificadas': '1',\n",
       " 'Horas_de_Preparacao': '4',\n",
       " 'Horas_de_Deslocamento': '0',\n",
       " 'Horas_de_Execucao': '4',\n",
       " 'Horas_de_Conclusao': '16',\n",
       " 'SAV': '',\n",
       " 'PCDP': '',\n",
       " 'Procedimentos': [],\n",
       " 'Uso_de_PF': 'Não se aplica PF - uso apenas de formulários',\n",
       " 'Acao_de_risco_a_vida_criada': 'Não',\n",
       " 'Frequencia_Inicial': '10',\n",
       " 'Unidade_da_Frequencia_Inicial': 'kHz',\n",
       " 'Frequencia_Final': '5450',\n",
       " 'Unidade_da_Frequencia_Final': 'MHz',\n",
       " 'Agrupamento': '',\n",
       " 'AppFiscaliza': '0',\n",
       " 'Gerar_Relatorio': '0',\n",
       " 'Relatorio_de_Monitoramento': '',\n",
       " 'Reservar_Instrumentos': '0',\n",
       " 'Utilizou_algum_instrumento': '0',\n",
       " 'Coordenadas_Geograficas': '{\"latitude\"=>\"-23.635884\", \"longitude\"=>\"-46.654251\"}',\n",
       " 'Coordenadas_Estacao': '',\n",
       " 'id_ACAO': 79055,\n",
       " 'nome_ACAO': 'ACAO_GR08_2022_0003',\n",
       " 'descricao_ACAO': '',\n",
       " 'Users': ['Alessandro Vasconcelos Fernandes',\n",
       "  'Alexnaldo Cerqueira da Silva',\n",
       "  'Anecy Oliveira de Freitas',\n",
       "  'Arildo Oliva Franca Filho',\n",
       "  'Brasílio Rios Leite',\n",
       "  'Carlos Fernando Muniz Santos',\n",
       "  'Carolina Valenca',\n",
       "  'David Santana e Silva Barreto',\n",
       "  'Eric Magalhaes Delgado',\n",
       "  'Fiscal UD',\n",
       "  'Gilmar Ferreira do Nascimento',\n",
       "  'Ilva Perla Monteiro Ferreira',\n",
       "  'Isabel Cristina Soares e Souza',\n",
       "  'Iulo de Araujo Lima Lobo',\n",
       "  'Jorgean Ferreira Leal',\n",
       "  'Jose Ivan Gomes',\n",
       "  'Jose Mauricio Leite Araujo',\n",
       "  'Leonardo Lago Araujo',\n",
       "  'Lin Yu Wan',\n",
       "  'Luis Fernando Camelier de Queiroz',\n",
       "  'Michel Kulhavy Cerqueira',\n",
       "  'Tiago Mota',\n",
       "  'Wilton Machado de Oliveira'],\n",
       " 'Atualizado': 'Atualizado por Eric Magalhaes Delgado em 16/05/2022 às 23:19:06'}"
      ]
     },
     "execution_count": null,
     "metadata": {},
     "output_type": "execute_result"
    }
   ],
   "source": [
    "relatar_inspecao(issue, login, senha, dados=d, teste=TESTE, parar_em=parar_em, substituir_relatorio=True)"
   ]
  },
  {
   "cell_type": "code",
   "execution_count": null,
   "metadata": {},
   "outputs": [],
   "source": [
    "a = extract_attachments(issue, login, senha, teste=TESTE)"
   ]
  }
 ],
 "metadata": {
  "kernelspec": {
   "display_name": "Python 3.9.12 ('teste')",
   "language": "python",
   "name": "python3"
  }
 },
 "nbformat": 4,
 "nbformat_minor": 4
}
