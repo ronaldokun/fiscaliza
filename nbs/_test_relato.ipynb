{
 "cells": [
  {
   "cell_type": "code",
   "execution_count": 6,
   "metadata": {},
   "outputs": [
    {
     "name": "stdout",
     "output_type": "stream",
     "text": [
      "The autoreload extension is already loaded. To reload it, use:\n",
      "  %reload_ext autoreload\n"
     ]
    }
   ],
   "source": [
    "%load_ext autoreload\n",
    "%autoreload 2\n",
    "%config Completer.use_jedi = False"
   ]
  },
  {
   "cell_type": "code",
   "execution_count": 19,
   "metadata": {},
   "outputs": [],
   "source": [
    "#hide\n",
    "import json\n",
    "from pathlib import Path\n",
    "from typing import *\n",
    "from getpass import getuser, getpass\n",
    "from redminelib.resources import Issue\n",
    "from fiscaliza.validation import valida_fiscaliza, auth_user\n",
    "from fiscaliza.update import relatar_inspecao\n",
    "from fiscaliza.info import detalhar_issue, extract_attachments, download_attachments\n",
    "from fiscaliza.constants import TABLECOLS\n",
    "from fastcore.foundation import L\n",
    "from fastcore.script import Param\n",
    "from rich.console import Console\n",
    "console = Console()"
   ]
  },
  {
   "cell_type": "markdown",
   "metadata": {},
   "source": [
    "Caso não desejar utilizar um ambiente virtual basta rodar:\n",
    "`pip install fiscaliza`"
   ]
  },
  {
   "cell_type": "code",
   "execution_count": 20,
   "metadata": {},
   "outputs": [],
   "source": [
    "# \n",
    "login = 'eric'\n",
    "senha = getpass()\n",
    "TESTE = True\n",
    "issue = '85127'\n",
    "parar_em = 'Aguardando Execução'\n",
    "# API = 'bf5f7955ca65703bcc73afda4a5f215d0135bf2d'\n"
   ]
  },
  {
   "cell_type": "code",
   "execution_count": 3,
   "metadata": {},
   "outputs": [],
   "source": [
    "d = {}\n",
    "\n",
    "d['Classe_da_Inspecao'] = 'Técnica' # str\n",
    "\n",
    "d['Tipo_de_Inspecao'] = 'Uso do Espectro - Monitoração' #str\n",
    "\n",
    "d['description'] = '''Realizar análise espectral de faixas das frequência relacionadas ao Plano de Monitoração do Espectro destinado a aplicações Críticas (PMEC), aferindo a sua ocupação, nas localidades que compõem a Etapa 1 da fiscalização.'''\n",
    "\n",
    "d['Fiscal_Responsavel'] = 'Eric Magalhaes Delgado' #str\n",
    "\n",
    "d['Fiscais'] = ['Alessandro Vasconcelos Fernandes', 'Eric Magalhaes Delgado'] #string ou lista de strings\n",
    "\n",
    "# Windows\n",
    "d['Html'] = r'arquivos/Report_2023.02.03_T14.08.31_85127.html' #str\n",
    "\n",
    "# d['Html'] = r'D:\\html_simples.html'\n",
    "\n",
    "# #ou \n",
    "\n",
    "# #Unix d['Html'] = '/d/OneDrive - ANATEL/Monitoramento/53504.0005432021-55/Guarulhos.html' #str\n",
    "            \n",
    "d['Gerar_Relatorio'] = 0 # int 0 ou 1\n",
    "\n",
    "d['Frequencia_Inicial']  = 10 #int ou float\n",
    "\n",
    "d['Unidade_da_Frequencia_Inicial'] = 'kHz' #string\n",
    "\n",
    "d['Frequencia_Final'] = 5450 #int ou float\n",
    "\n",
    "d['Unidade_da_Frequencia_Final'] = 'MHz' #string\n",
    "\n",
    "d['start_date'] = '2022-04-11' #YYYY-MM-DD #string nesse formato\n",
    "\n",
    "d['due_date'] = '2022-05-31'  #YYYY-MM-DD #string nesse formato\n",
    "\n",
    "d['UF_Municipio'] = \"BA/Salvador\" # string ou Lista de Strings: [\"SP/São Paulo\", \"SP/Sorocaba\"]\n",
    "\n",
    "d['Servicos_da_Inspecao'] = ['019', '205',  '230', '231', '507'] # String ou Lista de Strings\n",
    "\n",
    "d['Qtd_Emissoes'] = 70 # int\n",
    "\n",
    "d[\"Qtd_Licenciadas\"] = 1\n",
    "\n",
    "d[\"Qtd_Identificadas\"] = 1\n",
    "\n",
    "# d['Emissoes_nao_autorizadas'] = 24 # int\n",
    "\n",
    "d['Horas_de_Preparacao'] = 4 # int\n",
    "\n",
    "d['Horas_de_Deslocamento'] = 0 # int\n",
    "\n",
    "d['Horas_de_Execucao'] = 4 # int\n",
    "\n",
    "d['Horas_de_Conclusao'] = 16 # int\n",
    "\n",
    "d['Latitude'] =  -23.635884 # float\n",
    "\n",
    "d['Longitude'] = -46.654251 # float\n",
    "\n",
    "d['Uso_de_PF'] = 'Não se aplica PF - uso apenas de formulários' # string\n",
    "\n",
    "d['Acao_de_risco_a_vida_criada'] = 'Não' # string Sim | Não\n",
    "\n",
    "d['Impossibilidade_acesso_online'] = '0' # string '0' | '1'\n",
    "\n",
    "d['Reservar_Instrumentos'] = '0' #string '0' = Não | '1' = 'Sim'\n",
    "\n",
    "d['Utilizou_algum_instrumento'] = '0'\n",
    "\n",
    "# d['notes'] = \"\"\"Vemos que o nível médio medido ficou da ordem de 35.2 dB inferior e o nível máximo da ordem de 25.2 dB inferior do valor esperado pela simulação de cobertura, indicando potenciais perdas adicionais não contabilizadas pelo modelo de propagação.\n",
    "\n",
    "# Cabe salientar que concomitantemente à monitoração efetuada no item 4 foi efetuada a demodulação do sinal de áudio e monitoração do sinal ao vivo e não foi constatado qualquer sinal de interferência, batimento ou produto de intermodulação.\"\"\"\n",
    "\n",
    "# d['notes'] = [\"\"\"[{\"Banda\":\"87.800 - 108.000 MHz\", \"Licenciados\":31,\"NaoLicenciados\":4,\"NaoLicenciaveis\":0, 'Espúrio': 2, \"NaoIdentificada\": 1, \"NaoManifestada\": 0},\n",
    "#                 {\"Banda\":\"470.000 - 698.000 MHz\",\"Sinais\":19,\"Licenciados\":19,\"NaoLicenciados\":0,\"NaoLicenciaveis\":0, 'Espúrio': 2, \"NaoIdentificada\": 1, \"NaoManifestada\": 0}]\n",
    "#             \"\"\"]\n",
    "\n",
    "# No caso de uma tabela, string formatada como csv\n",
    "\n",
    "d['notes'] = {k:2 for k in TABLECOLS.values()}\n",
    "\n",
    "d['notes'] = [f\"{d['notes']}\"]\n",
    "\n",
    "# d['notes'] = [\"\"\"Faixa, Classe Especial, Classe A, Classe B, Classe C\n",
    "#                 VHF-L,0,5,7,5\n",
    "#                 VHF-H,0,12,1,0\n",
    "#                 UHF,1,1,2,4\n",
    "#                 FM,5,1,0,0\n",
    "#                 RADCOM,0,0,0,0\n",
    "#                 Outorgadas com indícios de irregularidades,1,2,3,4\n",
    "#               \"\"\",\n",
    "#               \"\"\"[{\"Banda\":\"87.800 - 108.000 MHz\",\"Sinais\":35,\"Licenciados\":31,\"NaoLicenciados\":4,\"NaoLicenciaveis\":0},\n",
    "#                   {\"Banda\":\"470.000 - 698.000 MHz\",\"Sinais\":19,\"Licenciados\":19,\"NaoLicenciados\":0,\"NaoLicenciaveis\":0}]\n",
    "#               \"\"\"]\n",
    "\n",
    "d['uploads'] = {'path': r'arquivos/Report_2023.02.03_T14.08.31_85127.json', \n",
    "                'filename': \"Info.json\",\n",
    "# #                 'description': \"Lista de Emissões Desmascaradas e Não Licenciadas\",\n",
    "# #                 'content_type': '.csv'\n",
    "                 }"
   ]
  },
  {
   "cell_type": "code",
   "execution_count": 21,
   "metadata": {},
   "outputs": [
    {
     "name": "stderr",
     "output_type": "stream",
     "text": [
      "d:\\Applications\\Scoop\\apps\\mambaforge\\current\\envs\\fiscaliza\\lib\\site-packages\\urllib3\\connectionpool.py:1045: InsecureRequestWarning: Unverified HTTPS request is being made to host 'sistemasnethm'. Adding certificate verification is strongly advised. See: https://urllib3.readthedocs.io/en/1.26.x/advanced-usage.html#ssl-warnings\n",
      "  warnings.warn(\n"
     ]
    }
   ],
   "source": [
    "f = valida_fiscaliza(login, senha, teste=TESTE)"
   ]
  },
  {
   "cell_type": "code",
   "execution_count": 37,
   "metadata": {},
   "outputs": [
    {
     "name": "stderr",
     "output_type": "stream",
     "text": [
      "d:\\Applications\\Scoop\\apps\\mambaforge\\current\\envs\\fiscaliza\\lib\\site-packages\\urllib3\\connectionpool.py:1045: InsecureRequestWarning: Unverified HTTPS request is being made to host 'sistemasnethm'. Adding certificate verification is strongly advised. See: https://urllib3.readthedocs.io/en/1.26.x/advanced-usage.html#ssl-warnings\n",
      "  warnings.warn(\n"
     ]
    }
   ],
   "source": [
    "i = f.issue.get('84387', include=[\"relations\", \"attachments\"])"
   ]
  },
  {
   "cell_type": "code",
   "execution_count": 39,
   "metadata": {},
   "outputs": [],
   "source": [
    "r = getattr(i, \"relations\", [])"
   ]
  },
  {
   "cell_type": "code",
   "execution_count": 41,
   "metadata": {},
   "outputs": [
    {
     "name": "stderr",
     "output_type": "stream",
     "text": [
      "d:\\Applications\\Scoop\\apps\\mambaforge\\current\\envs\\fiscaliza\\lib\\site-packages\\urllib3\\connectionpool.py:1045: InsecureRequestWarning: Unverified HTTPS request is being made to host 'sistemasnethm'. Adding certificate verification is strongly advised. See: https://urllib3.readthedocs.io/en/1.26.x/advanced-usage.html#ssl-warnings\n",
      "  warnings.warn(\n"
     ]
    },
    {
     "ename": "ForbiddenError",
     "evalue": "Requested resource is forbidden",
     "output_type": "error",
     "traceback": [
      "\u001b[1;31m---------------------------------------------------------------------------\u001b[0m",
      "\u001b[1;31mForbiddenError\u001b[0m                            Traceback (most recent call last)",
      "Cell \u001b[1;32mIn[41], line 1\u001b[0m\n\u001b[1;32m----> 1\u001b[0m \u001b[39mlist\u001b[39;49m(r\u001b[39m.\u001b[39;49mvalues())\n",
      "File \u001b[1;32md:\\Applications\\Scoop\\apps\\mambaforge\\current\\envs\\fiscaliza\\lib\\site-packages\\redminelib\\resultsets.py:277\u001b[0m, in \u001b[0;36mResourceSet.values\u001b[1;34m(self, *fields)\u001b[0m\n\u001b[0;32m    275\u001b[0m         \u001b[39myield\u001b[39;00m {field: resource[field] \u001b[39mfor\u001b[39;00m field \u001b[39min\u001b[39;00m fields \u001b[39mif\u001b[39;00m field \u001b[39min\u001b[39;00m resource}\n\u001b[0;32m    276\u001b[0m \u001b[39melse\u001b[39;00m:\n\u001b[1;32m--> 277\u001b[0m     \u001b[39mfor\u001b[39;00m resource \u001b[39min\u001b[39;00m \u001b[39msuper\u001b[39;49m()\u001b[39m.\u001b[39;49m\u001b[39m__iter__\u001b[39;49m():\n\u001b[0;32m    278\u001b[0m         \u001b[39myield\u001b[39;00m resource\n",
      "File \u001b[1;32md:\\Applications\\Scoop\\apps\\mambaforge\\current\\envs\\fiscaliza\\lib\\site-packages\\redminelib\\resultsets.py:135\u001b[0m, in \u001b[0;36mBaseResourceSet.__iter__\u001b[1;34m(self)\u001b[0m\n\u001b[0;32m    132\u001b[0m \u001b[39mself\u001b[39m\u001b[39m.\u001b[39mmanager\u001b[39m.\u001b[39mparams\u001b[39m.\u001b[39msetdefault(\u001b[39m'\u001b[39m\u001b[39moffset\u001b[39m\u001b[39m'\u001b[39m, \u001b[39mself\u001b[39m\u001b[39m.\u001b[39moffset)\n\u001b[0;32m    134\u001b[0m \u001b[39mtry\u001b[39;00m:\n\u001b[1;32m--> 135\u001b[0m     \u001b[39mself\u001b[39m\u001b[39m.\u001b[39m_resources, \u001b[39mself\u001b[39m\u001b[39m.\u001b[39m_total_count \u001b[39m=\u001b[39m \u001b[39mself\u001b[39;49m\u001b[39m.\u001b[39;49mmanager\u001b[39m.\u001b[39;49mredmine\u001b[39m.\u001b[39;49mengine\u001b[39m.\u001b[39;49mbulk_request(\n\u001b[0;32m    136\u001b[0m         \u001b[39m'\u001b[39;49m\u001b[39mget\u001b[39;49m\u001b[39m'\u001b[39;49m, \u001b[39mself\u001b[39;49m\u001b[39m.\u001b[39;49mmanager\u001b[39m.\u001b[39;49murl, \u001b[39mself\u001b[39;49m\u001b[39m.\u001b[39;49mmanager\u001b[39m.\u001b[39;49mcontainer, \u001b[39m*\u001b[39;49m\u001b[39m*\u001b[39;49m\u001b[39mself\u001b[39;49m\u001b[39m.\u001b[39;49mmanager\u001b[39m.\u001b[39;49mparams)\n\u001b[0;32m    137\u001b[0m \u001b[39mexcept\u001b[39;00m exceptions\u001b[39m.\u001b[39mResourceNotFoundError \u001b[39mas\u001b[39;00m e:\n\u001b[0;32m    138\u001b[0m     \u001b[39mif\u001b[39;00m \u001b[39mself\u001b[39m\u001b[39m.\u001b[39mmanager\u001b[39m.\u001b[39mresource_class\u001b[39m.\u001b[39mrequirements:\n",
      "File \u001b[1;32md:\\Applications\\Scoop\\apps\\mambaforge\\current\\envs\\fiscaliza\\lib\\site-packages\\redminelib\\engines\\base.py:96\u001b[0m, in \u001b[0;36mBaseEngine.bulk_request\u001b[1;34m(self, method, url, container, **params)\u001b[0m\n\u001b[0;32m     94\u001b[0m limit \u001b[39m=\u001b[39m params\u001b[39m.\u001b[39mget(\u001b[39m'\u001b[39m\u001b[39mlimit\u001b[39m\u001b[39m'\u001b[39m) \u001b[39mor\u001b[39;00m \u001b[39m0\u001b[39m\n\u001b[0;32m     95\u001b[0m offset \u001b[39m=\u001b[39m params\u001b[39m.\u001b[39mget(\u001b[39m'\u001b[39m\u001b[39moffset\u001b[39m\u001b[39m'\u001b[39m) \u001b[39mor\u001b[39;00m \u001b[39m0\u001b[39m\n\u001b[1;32m---> 96\u001b[0m response \u001b[39m=\u001b[39m \u001b[39mself\u001b[39;49m\u001b[39m.\u001b[39;49mrequest(method, url, params\u001b[39m=\u001b[39;49m\u001b[39mdict\u001b[39;49m(params, limit\u001b[39m=\u001b[39;49mlimit \u001b[39mor\u001b[39;49;00m \u001b[39mself\u001b[39;49m\u001b[39m.\u001b[39;49mchunk, offset\u001b[39m=\u001b[39;49moffset))\n\u001b[0;32m     98\u001b[0m \u001b[39m# Resource supports limit/offset on Redmine level\u001b[39;00m\n\u001b[0;32m     99\u001b[0m \u001b[39mif\u001b[39;00m \u001b[39mall\u001b[39m(response\u001b[39m.\u001b[39mget(param) \u001b[39mis\u001b[39;00m \u001b[39mnot\u001b[39;00m \u001b[39mNone\u001b[39;00m \u001b[39mfor\u001b[39;00m param \u001b[39min\u001b[39;00m (\u001b[39m'\u001b[39m\u001b[39mtotal_count\u001b[39m\u001b[39m'\u001b[39m, \u001b[39m'\u001b[39m\u001b[39mlimit\u001b[39m\u001b[39m'\u001b[39m, \u001b[39m'\u001b[39m\u001b[39moffset\u001b[39m\u001b[39m'\u001b[39m)):\n",
      "File \u001b[1;32md:\\Applications\\Scoop\\apps\\mambaforge\\current\\envs\\fiscaliza\\lib\\site-packages\\redminelib\\engines\\base.py:83\u001b[0m, in \u001b[0;36mBaseEngine.request\u001b[1;34m(self, method, url, headers, params, data)\u001b[0m\n\u001b[0;32m     72\u001b[0m \u001b[39m\u001b[39m\u001b[39m\"\"\"\u001b[39;00m\n\u001b[0;32m     73\u001b[0m \u001b[39mMakes a single request to Redmine and returns processed response.\u001b[39;00m\n\u001b[0;32m     74\u001b[0m \n\u001b[1;32m   (...)\u001b[0m\n\u001b[0;32m     80\u001b[0m \u001b[39m:type data: dict, bytes or file-like object\u001b[39;00m\n\u001b[0;32m     81\u001b[0m \u001b[39m\"\"\"\u001b[39;00m\n\u001b[0;32m     82\u001b[0m kwargs \u001b[39m=\u001b[39m \u001b[39mself\u001b[39m\u001b[39m.\u001b[39mconstruct_request_kwargs(method, headers, params, data)\n\u001b[1;32m---> 83\u001b[0m \u001b[39mreturn\u001b[39;00m \u001b[39mself\u001b[39;49m\u001b[39m.\u001b[39;49mprocess_response(\u001b[39mself\u001b[39;49m\u001b[39m.\u001b[39;49msession\u001b[39m.\u001b[39;49mrequest(method, url, \u001b[39m*\u001b[39;49m\u001b[39m*\u001b[39;49mkwargs))\n",
      "File \u001b[1;32md:\\Applications\\Scoop\\apps\\mambaforge\\current\\envs\\fiscaliza\\lib\\site-packages\\redminelib\\engines\\base.py:167\u001b[0m, in \u001b[0;36mBaseEngine.process_response\u001b[1;34m(self, response)\u001b[0m\n\u001b[0;32m    165\u001b[0m     \u001b[39mraise\u001b[39;00m exceptions\u001b[39m.\u001b[39mAuthError\n\u001b[0;32m    166\u001b[0m \u001b[39melif\u001b[39;00m status_code \u001b[39m==\u001b[39m \u001b[39m403\u001b[39m:\n\u001b[1;32m--> 167\u001b[0m     \u001b[39mraise\u001b[39;00m exceptions\u001b[39m.\u001b[39mForbiddenError\n\u001b[0;32m    168\u001b[0m \u001b[39melif\u001b[39;00m status_code \u001b[39m==\u001b[39m \u001b[39m404\u001b[39m:\n\u001b[0;32m    169\u001b[0m     \u001b[39mraise\u001b[39;00m exceptions\u001b[39m.\u001b[39mResourceNotFoundError\n",
      "\u001b[1;31mForbiddenError\u001b[0m: Requested resource is forbidden"
     ]
    },
    {
     "ename": "",
     "evalue": "",
     "output_type": "error",
     "traceback": [
      "\u001b[1;31mThe Kernel crashed while executing code in the the current cell or a previous cell. Please review the code in the cell(s) to identify a possible cause of the failure. Click <a href='https://aka.ms/vscodeJupyterKernelCrash'>here</a> for more info. View Jupyter <a href='command:jupyter.viewOutput'>log</a> for further details."
     ]
    }
   ],
   "source": [
    "list(r.values())"
   ]
  },
  {
   "cell_type": "code",
   "execution_count": 4,
   "metadata": {},
   "outputs": [
    {
     "ename": "SSLError",
     "evalue": "HTTPSConnectionPool(host='sistemasnethm', port=443): Max retries exceeded with url: /fiscaliza/users/current.json (Caused by SSLError(SSLCertVerificationError(1, '[SSL: CERTIFICATE_VERIFY_FAILED] certificate verify failed: self-signed certificate in certificate chain (_ssl.c:1131)')))",
     "output_type": "error",
     "traceback": [
      "\u001b[1;31m---------------------------------------------------------------------------\u001b[0m",
      "\u001b[1;31mSSLCertVerificationError\u001b[0m                  Traceback (most recent call last)",
      "File \u001b[1;32md:\\Applications\\Scoop\\apps\\mambaforge\\current\\envs\\fiscaliza\\lib\\site-packages\\urllib3\\connectionpool.py:703\u001b[0m, in \u001b[0;36mHTTPConnectionPool.urlopen\u001b[1;34m(self, method, url, body, headers, retries, redirect, assert_same_host, timeout, pool_timeout, release_conn, chunked, body_pos, **response_kw)\u001b[0m\n\u001b[0;32m    702\u001b[0m \u001b[39m# Make the request on the httplib connection object.\u001b[39;00m\n\u001b[1;32m--> 703\u001b[0m httplib_response \u001b[39m=\u001b[39m \u001b[39mself\u001b[39;49m\u001b[39m.\u001b[39;49m_make_request(\n\u001b[0;32m    704\u001b[0m     conn,\n\u001b[0;32m    705\u001b[0m     method,\n\u001b[0;32m    706\u001b[0m     url,\n\u001b[0;32m    707\u001b[0m     timeout\u001b[39m=\u001b[39;49mtimeout_obj,\n\u001b[0;32m    708\u001b[0m     body\u001b[39m=\u001b[39;49mbody,\n\u001b[0;32m    709\u001b[0m     headers\u001b[39m=\u001b[39;49mheaders,\n\u001b[0;32m    710\u001b[0m     chunked\u001b[39m=\u001b[39;49mchunked,\n\u001b[0;32m    711\u001b[0m )\n\u001b[0;32m    713\u001b[0m \u001b[39m# If we're going to release the connection in ``finally:``, then\u001b[39;00m\n\u001b[0;32m    714\u001b[0m \u001b[39m# the response doesn't need to know about the connection. Otherwise\u001b[39;00m\n\u001b[0;32m    715\u001b[0m \u001b[39m# it will also try to release it and we'll have a double-release\u001b[39;00m\n\u001b[0;32m    716\u001b[0m \u001b[39m# mess.\u001b[39;00m\n",
      "File \u001b[1;32md:\\Applications\\Scoop\\apps\\mambaforge\\current\\envs\\fiscaliza\\lib\\site-packages\\urllib3\\connectionpool.py:386\u001b[0m, in \u001b[0;36mHTTPConnectionPool._make_request\u001b[1;34m(self, conn, method, url, timeout, chunked, **httplib_request_kw)\u001b[0m\n\u001b[0;32m    385\u001b[0m \u001b[39mtry\u001b[39;00m:\n\u001b[1;32m--> 386\u001b[0m     \u001b[39mself\u001b[39;49m\u001b[39m.\u001b[39;49m_validate_conn(conn)\n\u001b[0;32m    387\u001b[0m \u001b[39mexcept\u001b[39;00m (SocketTimeout, BaseSSLError) \u001b[39mas\u001b[39;00m e:\n\u001b[0;32m    388\u001b[0m     \u001b[39m# Py2 raises this as a BaseSSLError, Py3 raises it as socket timeout.\u001b[39;00m\n",
      "File \u001b[1;32md:\\Applications\\Scoop\\apps\\mambaforge\\current\\envs\\fiscaliza\\lib\\site-packages\\urllib3\\connectionpool.py:1042\u001b[0m, in \u001b[0;36mHTTPSConnectionPool._validate_conn\u001b[1;34m(self, conn)\u001b[0m\n\u001b[0;32m   1041\u001b[0m \u001b[39mif\u001b[39;00m \u001b[39mnot\u001b[39;00m \u001b[39mgetattr\u001b[39m(conn, \u001b[39m\"\u001b[39m\u001b[39msock\u001b[39m\u001b[39m\"\u001b[39m, \u001b[39mNone\u001b[39;00m):  \u001b[39m# AppEngine might not have  `.sock`\u001b[39;00m\n\u001b[1;32m-> 1042\u001b[0m     conn\u001b[39m.\u001b[39;49mconnect()\n\u001b[0;32m   1044\u001b[0m \u001b[39mif\u001b[39;00m \u001b[39mnot\u001b[39;00m conn\u001b[39m.\u001b[39mis_verified:\n",
      "File \u001b[1;32md:\\Applications\\Scoop\\apps\\mambaforge\\current\\envs\\fiscaliza\\lib\\site-packages\\urllib3\\connection.py:414\u001b[0m, in \u001b[0;36mHTTPSConnection.connect\u001b[1;34m(self)\u001b[0m\n\u001b[0;32m    412\u001b[0m     context\u001b[39m.\u001b[39mload_default_certs()\n\u001b[1;32m--> 414\u001b[0m \u001b[39mself\u001b[39m\u001b[39m.\u001b[39msock \u001b[39m=\u001b[39m ssl_wrap_socket(\n\u001b[0;32m    415\u001b[0m     sock\u001b[39m=\u001b[39;49mconn,\n\u001b[0;32m    416\u001b[0m     keyfile\u001b[39m=\u001b[39;49m\u001b[39mself\u001b[39;49m\u001b[39m.\u001b[39;49mkey_file,\n\u001b[0;32m    417\u001b[0m     certfile\u001b[39m=\u001b[39;49m\u001b[39mself\u001b[39;49m\u001b[39m.\u001b[39;49mcert_file,\n\u001b[0;32m    418\u001b[0m     key_password\u001b[39m=\u001b[39;49m\u001b[39mself\u001b[39;49m\u001b[39m.\u001b[39;49mkey_password,\n\u001b[0;32m    419\u001b[0m     ca_certs\u001b[39m=\u001b[39;49m\u001b[39mself\u001b[39;49m\u001b[39m.\u001b[39;49mca_certs,\n\u001b[0;32m    420\u001b[0m     ca_cert_dir\u001b[39m=\u001b[39;49m\u001b[39mself\u001b[39;49m\u001b[39m.\u001b[39;49mca_cert_dir,\n\u001b[0;32m    421\u001b[0m     ca_cert_data\u001b[39m=\u001b[39;49m\u001b[39mself\u001b[39;49m\u001b[39m.\u001b[39;49mca_cert_data,\n\u001b[0;32m    422\u001b[0m     server_hostname\u001b[39m=\u001b[39;49mserver_hostname,\n\u001b[0;32m    423\u001b[0m     ssl_context\u001b[39m=\u001b[39;49mcontext,\n\u001b[0;32m    424\u001b[0m     tls_in_tls\u001b[39m=\u001b[39;49mtls_in_tls,\n\u001b[0;32m    425\u001b[0m )\n\u001b[0;32m    427\u001b[0m \u001b[39m# If we're using all defaults and the connection\u001b[39;00m\n\u001b[0;32m    428\u001b[0m \u001b[39m# is TLSv1 or TLSv1.1 we throw a DeprecationWarning\u001b[39;00m\n\u001b[0;32m    429\u001b[0m \u001b[39m# for the host.\u001b[39;00m\n",
      "File \u001b[1;32md:\\Applications\\Scoop\\apps\\mambaforge\\current\\envs\\fiscaliza\\lib\\site-packages\\urllib3\\util\\ssl_.py:449\u001b[0m, in \u001b[0;36mssl_wrap_socket\u001b[1;34m(sock, keyfile, certfile, cert_reqs, ca_certs, server_hostname, ssl_version, ciphers, ssl_context, ca_cert_dir, key_password, ca_cert_data, tls_in_tls)\u001b[0m\n\u001b[0;32m    448\u001b[0m \u001b[39mif\u001b[39;00m send_sni:\n\u001b[1;32m--> 449\u001b[0m     ssl_sock \u001b[39m=\u001b[39m _ssl_wrap_socket_impl(\n\u001b[0;32m    450\u001b[0m         sock, context, tls_in_tls, server_hostname\u001b[39m=\u001b[39;49mserver_hostname\n\u001b[0;32m    451\u001b[0m     )\n\u001b[0;32m    452\u001b[0m \u001b[39melse\u001b[39;00m:\n",
      "File \u001b[1;32md:\\Applications\\Scoop\\apps\\mambaforge\\current\\envs\\fiscaliza\\lib\\site-packages\\urllib3\\util\\ssl_.py:493\u001b[0m, in \u001b[0;36m_ssl_wrap_socket_impl\u001b[1;34m(sock, ssl_context, tls_in_tls, server_hostname)\u001b[0m\n\u001b[0;32m    492\u001b[0m \u001b[39mif\u001b[39;00m server_hostname:\n\u001b[1;32m--> 493\u001b[0m     \u001b[39mreturn\u001b[39;00m ssl_context\u001b[39m.\u001b[39;49mwrap_socket(sock, server_hostname\u001b[39m=\u001b[39;49mserver_hostname)\n\u001b[0;32m    494\u001b[0m \u001b[39melse\u001b[39;00m:\n",
      "File \u001b[1;32md:\\Applications\\Scoop\\apps\\mambaforge\\current\\envs\\fiscaliza\\lib\\ssl.py:500\u001b[0m, in \u001b[0;36mSSLContext.wrap_socket\u001b[1;34m(self, sock, server_side, do_handshake_on_connect, suppress_ragged_eofs, server_hostname, session)\u001b[0m\n\u001b[0;32m    494\u001b[0m \u001b[39mdef\u001b[39;00m \u001b[39mwrap_socket\u001b[39m(\u001b[39mself\u001b[39m, sock, server_side\u001b[39m=\u001b[39m\u001b[39mFalse\u001b[39;00m,\n\u001b[0;32m    495\u001b[0m                 do_handshake_on_connect\u001b[39m=\u001b[39m\u001b[39mTrue\u001b[39;00m,\n\u001b[0;32m    496\u001b[0m                 suppress_ragged_eofs\u001b[39m=\u001b[39m\u001b[39mTrue\u001b[39;00m,\n\u001b[0;32m    497\u001b[0m                 server_hostname\u001b[39m=\u001b[39m\u001b[39mNone\u001b[39;00m, session\u001b[39m=\u001b[39m\u001b[39mNone\u001b[39;00m):\n\u001b[0;32m    498\u001b[0m     \u001b[39m# SSLSocket class handles server_hostname encoding before it calls\u001b[39;00m\n\u001b[0;32m    499\u001b[0m     \u001b[39m# ctx._wrap_socket()\u001b[39;00m\n\u001b[1;32m--> 500\u001b[0m     \u001b[39mreturn\u001b[39;00m \u001b[39mself\u001b[39;49m\u001b[39m.\u001b[39;49msslsocket_class\u001b[39m.\u001b[39;49m_create(\n\u001b[0;32m    501\u001b[0m         sock\u001b[39m=\u001b[39;49msock,\n\u001b[0;32m    502\u001b[0m         server_side\u001b[39m=\u001b[39;49mserver_side,\n\u001b[0;32m    503\u001b[0m         do_handshake_on_connect\u001b[39m=\u001b[39;49mdo_handshake_on_connect,\n\u001b[0;32m    504\u001b[0m         suppress_ragged_eofs\u001b[39m=\u001b[39;49msuppress_ragged_eofs,\n\u001b[0;32m    505\u001b[0m         server_hostname\u001b[39m=\u001b[39;49mserver_hostname,\n\u001b[0;32m    506\u001b[0m         context\u001b[39m=\u001b[39;49m\u001b[39mself\u001b[39;49m,\n\u001b[0;32m    507\u001b[0m         session\u001b[39m=\u001b[39;49msession\n\u001b[0;32m    508\u001b[0m     )\n",
      "File \u001b[1;32md:\\Applications\\Scoop\\apps\\mambaforge\\current\\envs\\fiscaliza\\lib\\ssl.py:1040\u001b[0m, in \u001b[0;36mSSLSocket._create\u001b[1;34m(cls, sock, server_side, do_handshake_on_connect, suppress_ragged_eofs, server_hostname, context, session)\u001b[0m\n\u001b[0;32m   1039\u001b[0m             \u001b[39mraise\u001b[39;00m \u001b[39mValueError\u001b[39;00m(\u001b[39m\"\u001b[39m\u001b[39mdo_handshake_on_connect should not be specified for non-blocking sockets\u001b[39m\u001b[39m\"\u001b[39m)\n\u001b[1;32m-> 1040\u001b[0m         \u001b[39mself\u001b[39;49m\u001b[39m.\u001b[39;49mdo_handshake()\n\u001b[0;32m   1041\u001b[0m \u001b[39mexcept\u001b[39;00m (\u001b[39mOSError\u001b[39;00m, \u001b[39mValueError\u001b[39;00m):\n",
      "File \u001b[1;32md:\\Applications\\Scoop\\apps\\mambaforge\\current\\envs\\fiscaliza\\lib\\ssl.py:1309\u001b[0m, in \u001b[0;36mSSLSocket.do_handshake\u001b[1;34m(self, block)\u001b[0m\n\u001b[0;32m   1308\u001b[0m         \u001b[39mself\u001b[39m\u001b[39m.\u001b[39msettimeout(\u001b[39mNone\u001b[39;00m)\n\u001b[1;32m-> 1309\u001b[0m     \u001b[39mself\u001b[39;49m\u001b[39m.\u001b[39;49m_sslobj\u001b[39m.\u001b[39;49mdo_handshake()\n\u001b[0;32m   1310\u001b[0m \u001b[39mfinally\u001b[39;00m:\n",
      "\u001b[1;31mSSLCertVerificationError\u001b[0m: [SSL: CERTIFICATE_VERIFY_FAILED] certificate verify failed: self-signed certificate in certificate chain (_ssl.c:1131)",
      "\nDuring handling of the above exception, another exception occurred:\n",
      "\u001b[1;31mMaxRetryError\u001b[0m                             Traceback (most recent call last)",
      "File \u001b[1;32md:\\Applications\\Scoop\\apps\\mambaforge\\current\\envs\\fiscaliza\\lib\\site-packages\\requests\\adapters.py:489\u001b[0m, in \u001b[0;36mHTTPAdapter.send\u001b[1;34m(self, request, stream, timeout, verify, cert, proxies)\u001b[0m\n\u001b[0;32m    488\u001b[0m \u001b[39mif\u001b[39;00m \u001b[39mnot\u001b[39;00m chunked:\n\u001b[1;32m--> 489\u001b[0m     resp \u001b[39m=\u001b[39m conn\u001b[39m.\u001b[39;49murlopen(\n\u001b[0;32m    490\u001b[0m         method\u001b[39m=\u001b[39;49mrequest\u001b[39m.\u001b[39;49mmethod,\n\u001b[0;32m    491\u001b[0m         url\u001b[39m=\u001b[39;49murl,\n\u001b[0;32m    492\u001b[0m         body\u001b[39m=\u001b[39;49mrequest\u001b[39m.\u001b[39;49mbody,\n\u001b[0;32m    493\u001b[0m         headers\u001b[39m=\u001b[39;49mrequest\u001b[39m.\u001b[39;49mheaders,\n\u001b[0;32m    494\u001b[0m         redirect\u001b[39m=\u001b[39;49m\u001b[39mFalse\u001b[39;49;00m,\n\u001b[0;32m    495\u001b[0m         assert_same_host\u001b[39m=\u001b[39;49m\u001b[39mFalse\u001b[39;49;00m,\n\u001b[0;32m    496\u001b[0m         preload_content\u001b[39m=\u001b[39;49m\u001b[39mFalse\u001b[39;49;00m,\n\u001b[0;32m    497\u001b[0m         decode_content\u001b[39m=\u001b[39;49m\u001b[39mFalse\u001b[39;49;00m,\n\u001b[0;32m    498\u001b[0m         retries\u001b[39m=\u001b[39;49m\u001b[39mself\u001b[39;49m\u001b[39m.\u001b[39;49mmax_retries,\n\u001b[0;32m    499\u001b[0m         timeout\u001b[39m=\u001b[39;49mtimeout,\n\u001b[0;32m    500\u001b[0m     )\n\u001b[0;32m    502\u001b[0m \u001b[39m# Send the request.\u001b[39;00m\n\u001b[0;32m    503\u001b[0m \u001b[39melse\u001b[39;00m:\n",
      "File \u001b[1;32md:\\Applications\\Scoop\\apps\\mambaforge\\current\\envs\\fiscaliza\\lib\\site-packages\\urllib3\\connectionpool.py:787\u001b[0m, in \u001b[0;36mHTTPConnectionPool.urlopen\u001b[1;34m(self, method, url, body, headers, retries, redirect, assert_same_host, timeout, pool_timeout, release_conn, chunked, body_pos, **response_kw)\u001b[0m\n\u001b[0;32m    785\u001b[0m     e \u001b[39m=\u001b[39m ProtocolError(\u001b[39m\"\u001b[39m\u001b[39mConnection aborted.\u001b[39m\u001b[39m\"\u001b[39m, e)\n\u001b[1;32m--> 787\u001b[0m retries \u001b[39m=\u001b[39m retries\u001b[39m.\u001b[39;49mincrement(\n\u001b[0;32m    788\u001b[0m     method, url, error\u001b[39m=\u001b[39;49me, _pool\u001b[39m=\u001b[39;49m\u001b[39mself\u001b[39;49m, _stacktrace\u001b[39m=\u001b[39;49msys\u001b[39m.\u001b[39;49mexc_info()[\u001b[39m2\u001b[39;49m]\n\u001b[0;32m    789\u001b[0m )\n\u001b[0;32m    790\u001b[0m retries\u001b[39m.\u001b[39msleep()\n",
      "File \u001b[1;32md:\\Applications\\Scoop\\apps\\mambaforge\\current\\envs\\fiscaliza\\lib\\site-packages\\urllib3\\util\\retry.py:592\u001b[0m, in \u001b[0;36mRetry.increment\u001b[1;34m(self, method, url, response, error, _pool, _stacktrace)\u001b[0m\n\u001b[0;32m    591\u001b[0m \u001b[39mif\u001b[39;00m new_retry\u001b[39m.\u001b[39mis_exhausted():\n\u001b[1;32m--> 592\u001b[0m     \u001b[39mraise\u001b[39;00m MaxRetryError(_pool, url, error \u001b[39mor\u001b[39;00m ResponseError(cause))\n\u001b[0;32m    594\u001b[0m log\u001b[39m.\u001b[39mdebug(\u001b[39m\"\u001b[39m\u001b[39mIncremented Retry for (url=\u001b[39m\u001b[39m'\u001b[39m\u001b[39m%s\u001b[39;00m\u001b[39m'\u001b[39m\u001b[39m): \u001b[39m\u001b[39m%r\u001b[39;00m\u001b[39m\"\u001b[39m, url, new_retry)\n",
      "\u001b[1;31mMaxRetryError\u001b[0m: HTTPSConnectionPool(host='sistemasnethm', port=443): Max retries exceeded with url: /fiscaliza/users/current.json (Caused by SSLError(SSLCertVerificationError(1, '[SSL: CERTIFICATE_VERIFY_FAILED] certificate verify failed: self-signed certificate in certificate chain (_ssl.c:1131)')))",
      "\nDuring handling of the above exception, another exception occurred:\n",
      "\u001b[1;31mSSLError\u001b[0m                                  Traceback (most recent call last)",
      "Cell \u001b[1;32mIn[4], line 1\u001b[0m\n\u001b[1;32m----> 1\u001b[0m relatar_inspecao(issue, login, senha, dados\u001b[39m=\u001b[39;49md, teste\u001b[39m=\u001b[39;49mTESTE, parar_em\u001b[39m=\u001b[39;49mparar_em, substituir_relatorio\u001b[39m=\u001b[39;49m\u001b[39mTrue\u001b[39;49;00m)\n",
      "File \u001b[1;32md:\\Applications\\Scoop\\apps\\mambaforge\\current\\envs\\fiscaliza\\lib\\site-packages\\fastcore\\script.py:110\u001b[0m, in \u001b[0;36mcall_parse.<locals>._f\u001b[1;34m(*args, **kwargs)\u001b[0m\n\u001b[0;32m    107\u001b[0m \u001b[39m@wraps\u001b[39m(func)\n\u001b[0;32m    108\u001b[0m \u001b[39mdef\u001b[39;00m \u001b[39m_f\u001b[39m(\u001b[39m*\u001b[39margs, \u001b[39m*\u001b[39m\u001b[39m*\u001b[39mkwargs):\n\u001b[0;32m    109\u001b[0m     mod \u001b[39m=\u001b[39m inspect\u001b[39m.\u001b[39mgetmodule(inspect\u001b[39m.\u001b[39mcurrentframe()\u001b[39m.\u001b[39mf_back)\n\u001b[1;32m--> 110\u001b[0m     \u001b[39mif\u001b[39;00m \u001b[39mnot\u001b[39;00m mod: \u001b[39mreturn\u001b[39;00m func(\u001b[39m*\u001b[39;49margs, \u001b[39m*\u001b[39;49m\u001b[39m*\u001b[39;49mkwargs)\n\u001b[0;32m    111\u001b[0m     \u001b[39mif\u001b[39;00m \u001b[39mnot\u001b[39;00m SCRIPT_INFO\u001b[39m.\u001b[39mfunc \u001b[39mand\u001b[39;00m mod\u001b[39m.\u001b[39m\u001b[39m__name__\u001b[39m\u001b[39m==\u001b[39m\u001b[39m\"\u001b[39m\u001b[39m__main__\u001b[39m\u001b[39m\"\u001b[39m: SCRIPT_INFO\u001b[39m.\u001b[39mfunc \u001b[39m=\u001b[39m func\u001b[39m.\u001b[39m\u001b[39m__name__\u001b[39m\n\u001b[0;32m    112\u001b[0m     \u001b[39mif\u001b[39;00m \u001b[39mlen\u001b[39m(sys\u001b[39m.\u001b[39margv)\u001b[39m>\u001b[39m\u001b[39m1\u001b[39m \u001b[39mand\u001b[39;00m sys\u001b[39m.\u001b[39margv[\u001b[39m1\u001b[39m]\u001b[39m==\u001b[39m\u001b[39m'\u001b[39m\u001b[39m'\u001b[39m: sys\u001b[39m.\u001b[39margv\u001b[39m.\u001b[39mpop(\u001b[39m1\u001b[39m)\n",
      "File \u001b[1;32mc:\\users\\rsilva\\code\\fiscaliza\\fiscaliza\\update.py:158\u001b[0m, in \u001b[0;36mrelatar_inspecao\u001b[1;34m(inspecao, login, senha, dados, teste, parar_em, substituir_relatorio)\u001b[0m\n\u001b[0;32m    153\u001b[0m \u001b[39massert\u001b[39;00m (\n\u001b[0;32m    154\u001b[0m     parar_em \u001b[39min\u001b[39;00m SITUACAO\u001b[39m.\u001b[39mkeys()\n\u001b[0;32m    155\u001b[0m ), \u001b[39mf\u001b[39m\u001b[39m\"\u001b[39m\u001b[39mForneça um dos valores para parar_em \u001b[39m\u001b[39m{\u001b[39;00mSITUACAO\u001b[39m.\u001b[39mkeys()\u001b[39m}\u001b[39;00m\u001b[39m\"\u001b[39m\n\u001b[0;32m    157\u001b[0m console \u001b[39m=\u001b[39m Console()\n\u001b[1;32m--> 158\u001b[0m fiscaliza \u001b[39m=\u001b[39m auth_user(login, senha, teste\u001b[39m=\u001b[39;49mteste)\n\u001b[0;32m    159\u001b[0m console\u001b[39m.\u001b[39mprint(\u001b[39m\"\u001b[39m\u001b[39mUsuário Autenticado com Sucesso :thumbs_up:\u001b[39m\u001b[39m\"\u001b[39m, style\u001b[39m=\u001b[39m\u001b[39m\"\u001b[39m\u001b[39mbold green\u001b[39m\u001b[39m\"\u001b[39m)\n\u001b[0;32m    160\u001b[0m \u001b[39m# Deprecate in future\u001b[39;00m\n",
      "File \u001b[1;32mc:\\users\\rsilva\\code\\fiscaliza\\fiscaliza\\validation.py:54\u001b[0m, in \u001b[0;36mauth_user\u001b[1;34m(username, password, api, teste)\u001b[0m\n\u001b[0;32m     49\u001b[0m \u001b[39mtry\u001b[39;00m:\n\u001b[0;32m     51\u001b[0m     fiscaliza \u001b[39m=\u001b[39m Redmine(\n\u001b[0;32m     52\u001b[0m         url, key\u001b[39m=\u001b[39mapi, username\u001b[39m=\u001b[39musername, password\u001b[39m=\u001b[39mpassword, requests\u001b[39m=\u001b[39m{\u001b[39m\"\u001b[39m\u001b[39mverify\u001b[39m\u001b[39m\"\u001b[39m: \u001b[39mTrue\u001b[39;00m}\n\u001b[0;32m     53\u001b[0m     )\n\u001b[1;32m---> 54\u001b[0m     fiscaliza\u001b[39m.\u001b[39;49mauth()\n\u001b[0;32m     55\u001b[0m     \u001b[39mreturn\u001b[39;00m fiscaliza\n\u001b[0;32m     56\u001b[0m \u001b[39mexcept\u001b[39;00m SSLError:\n",
      "File \u001b[1;32md:\\Applications\\Scoop\\apps\\mambaforge\\current\\envs\\fiscaliza\\lib\\site-packages\\redminelib\\__init__.py:189\u001b[0m, in \u001b[0;36mRedmine.auth\u001b[1;34m(self)\u001b[0m\n\u001b[0;32m    185\u001b[0m \u001b[39mdef\u001b[39;00m \u001b[39mauth\u001b[39m(\u001b[39mself\u001b[39m):\n\u001b[0;32m    186\u001b[0m \u001b[39m    \u001b[39m\u001b[39m\"\"\"\u001b[39;00m\n\u001b[0;32m    187\u001b[0m \u001b[39m    Shortcut for the case if we just want to check if user provided valid auth credentials.\u001b[39;00m\n\u001b[0;32m    188\u001b[0m \u001b[39m    \"\"\"\u001b[39;00m\n\u001b[1;32m--> 189\u001b[0m     \u001b[39mreturn\u001b[39;00m \u001b[39mself\u001b[39;49m\u001b[39m.\u001b[39;49muser\u001b[39m.\u001b[39;49mget(\u001b[39m'\u001b[39;49m\u001b[39mcurrent\u001b[39;49m\u001b[39m'\u001b[39;49m)\n",
      "File \u001b[1;32md:\\Applications\\Scoop\\apps\\mambaforge\\current\\envs\\fiscaliza\\lib\\site-packages\\redminelib\\managers\\base.py:99\u001b[0m, in \u001b[0;36mResourceManager.get\u001b[1;34m(self, resource_id, **params)\u001b[0m\n\u001b[0;32m     96\u001b[0m \u001b[39mself\u001b[39m\u001b[39m.\u001b[39mcontainer \u001b[39m=\u001b[39m \u001b[39mself\u001b[39m\u001b[39m.\u001b[39mresource_class\u001b[39m.\u001b[39mcontainer_one\n\u001b[0;32m     98\u001b[0m \u001b[39mtry\u001b[39;00m:\n\u001b[1;32m---> 99\u001b[0m     response \u001b[39m=\u001b[39m \u001b[39mself\u001b[39;49m\u001b[39m.\u001b[39;49mredmine\u001b[39m.\u001b[39;49mengine\u001b[39m.\u001b[39;49mrequest(\u001b[39m'\u001b[39;49m\u001b[39mget\u001b[39;49m\u001b[39m'\u001b[39;49m, \u001b[39mself\u001b[39;49m\u001b[39m.\u001b[39;49murl, params\u001b[39m=\u001b[39;49m\u001b[39mself\u001b[39;49m\u001b[39m.\u001b[39;49mparams)\n\u001b[0;32m    100\u001b[0m \u001b[39mexcept\u001b[39;00m exceptions\u001b[39m.\u001b[39mResourceNotFoundError \u001b[39mas\u001b[39;00m e:\n\u001b[0;32m    101\u001b[0m     \u001b[39mif\u001b[39;00m \u001b[39mself\u001b[39m\u001b[39m.\u001b[39mresource_class\u001b[39m.\u001b[39mrequirements:\n",
      "File \u001b[1;32md:\\Applications\\Scoop\\apps\\mambaforge\\current\\envs\\fiscaliza\\lib\\site-packages\\redminelib\\engines\\base.py:83\u001b[0m, in \u001b[0;36mBaseEngine.request\u001b[1;34m(self, method, url, headers, params, data)\u001b[0m\n\u001b[0;32m     72\u001b[0m \u001b[39m\u001b[39m\u001b[39m\"\"\"\u001b[39;00m\n\u001b[0;32m     73\u001b[0m \u001b[39mMakes a single request to Redmine and returns processed response.\u001b[39;00m\n\u001b[0;32m     74\u001b[0m \n\u001b[1;32m   (...)\u001b[0m\n\u001b[0;32m     80\u001b[0m \u001b[39m:type data: dict, bytes or file-like object\u001b[39;00m\n\u001b[0;32m     81\u001b[0m \u001b[39m\"\"\"\u001b[39;00m\n\u001b[0;32m     82\u001b[0m kwargs \u001b[39m=\u001b[39m \u001b[39mself\u001b[39m\u001b[39m.\u001b[39mconstruct_request_kwargs(method, headers, params, data)\n\u001b[1;32m---> 83\u001b[0m \u001b[39mreturn\u001b[39;00m \u001b[39mself\u001b[39m\u001b[39m.\u001b[39mprocess_response(\u001b[39mself\u001b[39;49m\u001b[39m.\u001b[39;49msession\u001b[39m.\u001b[39;49mrequest(method, url, \u001b[39m*\u001b[39;49m\u001b[39m*\u001b[39;49mkwargs))\n",
      "File \u001b[1;32md:\\Applications\\Scoop\\apps\\mambaforge\\current\\envs\\fiscaliza\\lib\\site-packages\\requests\\sessions.py:587\u001b[0m, in \u001b[0;36mSession.request\u001b[1;34m(self, method, url, params, data, headers, cookies, files, auth, timeout, allow_redirects, proxies, hooks, stream, verify, cert, json)\u001b[0m\n\u001b[0;32m    582\u001b[0m send_kwargs \u001b[39m=\u001b[39m {\n\u001b[0;32m    583\u001b[0m     \u001b[39m\"\u001b[39m\u001b[39mtimeout\u001b[39m\u001b[39m\"\u001b[39m: timeout,\n\u001b[0;32m    584\u001b[0m     \u001b[39m\"\u001b[39m\u001b[39mallow_redirects\u001b[39m\u001b[39m\"\u001b[39m: allow_redirects,\n\u001b[0;32m    585\u001b[0m }\n\u001b[0;32m    586\u001b[0m send_kwargs\u001b[39m.\u001b[39mupdate(settings)\n\u001b[1;32m--> 587\u001b[0m resp \u001b[39m=\u001b[39m \u001b[39mself\u001b[39;49m\u001b[39m.\u001b[39;49msend(prep, \u001b[39m*\u001b[39;49m\u001b[39m*\u001b[39;49msend_kwargs)\n\u001b[0;32m    589\u001b[0m \u001b[39mreturn\u001b[39;00m resp\n",
      "File \u001b[1;32md:\\Applications\\Scoop\\apps\\mambaforge\\current\\envs\\fiscaliza\\lib\\site-packages\\requests\\sessions.py:701\u001b[0m, in \u001b[0;36mSession.send\u001b[1;34m(self, request, **kwargs)\u001b[0m\n\u001b[0;32m    698\u001b[0m start \u001b[39m=\u001b[39m preferred_clock()\n\u001b[0;32m    700\u001b[0m \u001b[39m# Send the request\u001b[39;00m\n\u001b[1;32m--> 701\u001b[0m r \u001b[39m=\u001b[39m adapter\u001b[39m.\u001b[39;49msend(request, \u001b[39m*\u001b[39;49m\u001b[39m*\u001b[39;49mkwargs)\n\u001b[0;32m    703\u001b[0m \u001b[39m# Total elapsed time of the request (approximately)\u001b[39;00m\n\u001b[0;32m    704\u001b[0m elapsed \u001b[39m=\u001b[39m preferred_clock() \u001b[39m-\u001b[39m start\n",
      "File \u001b[1;32md:\\Applications\\Scoop\\apps\\mambaforge\\current\\envs\\fiscaliza\\lib\\site-packages\\requests\\adapters.py:563\u001b[0m, in \u001b[0;36mHTTPAdapter.send\u001b[1;34m(self, request, stream, timeout, verify, cert, proxies)\u001b[0m\n\u001b[0;32m    559\u001b[0m         \u001b[39mraise\u001b[39;00m ProxyError(e, request\u001b[39m=\u001b[39mrequest)\n\u001b[0;32m    561\u001b[0m     \u001b[39mif\u001b[39;00m \u001b[39misinstance\u001b[39m(e\u001b[39m.\u001b[39mreason, _SSLError):\n\u001b[0;32m    562\u001b[0m         \u001b[39m# This branch is for urllib3 v1.22 and later.\u001b[39;00m\n\u001b[1;32m--> 563\u001b[0m         \u001b[39mraise\u001b[39;00m SSLError(e, request\u001b[39m=\u001b[39mrequest)\n\u001b[0;32m    565\u001b[0m     \u001b[39mraise\u001b[39;00m \u001b[39mConnectionError\u001b[39;00m(e, request\u001b[39m=\u001b[39mrequest)\n\u001b[0;32m    567\u001b[0m \u001b[39mexcept\u001b[39;00m ClosedPoolError \u001b[39mas\u001b[39;00m e:\n",
      "\u001b[1;31mSSLError\u001b[0m: HTTPSConnectionPool(host='sistemasnethm', port=443): Max retries exceeded with url: /fiscaliza/users/current.json (Caused by SSLError(SSLCertVerificationError(1, '[SSL: CERTIFICATE_VERIFY_FAILED] certificate verify failed: self-signed certificate in certificate chain (_ssl.c:1131)')))"
     ]
    }
   ],
   "source": [
    "relatar_inspecao(issue, login, senha, dados=d, teste=TESTE, parar_em=parar_em, substituir_relatorio=True)"
   ]
  },
  {
   "cell_type": "code",
   "execution_count": null,
   "metadata": {},
   "outputs": [],
   "source": [
    "a = extract_attachments(issue, login, senha, teste=TESTE)"
   ]
  }
 ],
 "metadata": {
  "kernelspec": {
   "display_name": "fiscaliza",
   "language": "python",
   "name": "python3"
  },
  "language_info": {
   "codemirror_mode": {
    "name": "ipython",
    "version": 3
   },
   "file_extension": ".py",
   "mimetype": "text/x-python",
   "name": "python",
   "nbconvert_exporter": "python",
   "pygments_lexer": "ipython3",
   "version": "3.8.16"
  },
  "vscode": {
   "interpreter": {
    "hash": "62954afd0722dfef9f161388be98ad8bff0e5056504a73b0e2dbd78b4d236775"
   }
  }
 },
 "nbformat": 4,
 "nbformat_minor": 4
}
