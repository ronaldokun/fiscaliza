{
 "cells": [
  {
   "cell_type": "code",
   "execution_count": null,
   "metadata": {},
   "outputs": [],
   "source": [
    "#default_exp format"
   ]
  },
  {
   "cell_type": "markdown",
   "metadata": {},
   "source": [
    "# Formatação de dados\n",
    "> Nesse módulo temos funções para formatar dados de acordo com o formato requisitado pela API do Redmine"
   ]
  },
  {
   "cell_type": "code",
   "execution_count": null,
   "metadata": {},
   "outputs": [],
   "source": [
    "%load_ext autoreload\n",
    "%autoreload 2\n",
    "%config Completer.use_jedi = False"
   ]
  },
  {
   "cell_type": "code",
   "execution_count": null,
   "metadata": {},
   "outputs": [],
   "source": [
    "#export\n",
    "import json\n",
    "from typing import Iterable\n",
    "from fastcore.basics import listify\n",
    "from fiscaliza.constants import TABLECOLS, FIELD2ID\n",
    "from tabulate import tabulate"
   ]
  },
  {
   "cell_type": "code",
   "execution_count": null,
   "metadata": {},
   "outputs": [],
   "source": [
    "#export\n",
    "def journal2table(journal):\n",
    "    \"\"\"Recebe a string journal, caso a formatação seja compatível com um csv, retorna este formato como markdown\n",
    "    Do contrário simplesmente retorna a string inalterada\"\"\"\n",
    "    try:\n",
    "        string = json.loads(journal)\n",
    "        string = listify(string)\n",
    "        headers = [TABLECOLS.get(s, s) for s in string[0].keys()]\n",
    "        values = [list(d.values()) for d in string]\n",
    "    except json.JSONDecodeError:\n",
    "        table = [\n",
    "            [r.strip() for r in j.strip().split(\",\")]\n",
    "            for j in journal.split(\"\\n\")\n",
    "            if j.strip() != \"\"\n",
    "        ]\n",
    "        if len({len(t) for t in table}) != 1:\n",
    "            print(\n",
    "                \"O texto passado como notes, não está configurado corretamente para formatar uma tabela\"\n",
    "            )\n",
    "            print(\n",
    "                \"No Campo notes será enviada a string no formato que está, sem modificação\"\n",
    "            )\n",
    "            return journal\n",
    "        values = table[1:]\n",
    "        headers = table[0]\n",
    "\n",
    "    return tabulate(values, headers, tablefmt=\"textile\")\n",
    "\n",
    "def value_text_string(input_value):\n",
    "    \"\"\"Formata `input_value` como string json contendo chaves `texto` e `valor` com o mesmo valor de `input_value`\"\"\"\n",
    "    return \"{\" + '\"valor\":\"{0}\",\"texto\":\"{0}\"'.format(input_value) + \"}\"\n",
    "\n",
    "\n",
    "def check_update(\n",
    "    field: str, value, dtype, values_set: Iterable = None, val_text_string: bool = False\n",
    ") -> dict:\n",
    "    \"\"\"checa se `value` é do tipo `dtype`. Opcionalmente checa se `value` pertence ao conjunto `values_set`\n",
    "    Opcionalmente formata `value` com a função `value_text_string`\n",
    "    Returns: Dicionário no formato compatível com a API do Redmine {\"id\" : ... , \"value\" : ...}\n",
    "    \"\"\"\n",
    "    if not isinstance(value, dtype):\n",
    "        raise TypeError(\n",
    "            f\"É esperado que o campo {field} seja do tipo {dtype}, o fornecido foi {type(value)}\"\n",
    "        )\n",
    "\n",
    "    if values_set is not None and not set(listify(value)).issubset(set(values_set)):\n",
    "        raise ValueError(\n",
    "            f\"O valor para {field} : {value} deve pertencer ao conjunto: {values_set}\"\n",
    "        )\n",
    "\n",
    "    if val_text_string:\n",
    "        value = value_text_string(value)\n",
    "\n",
    "    return {\"id\": FIELD2ID[field], \"value\": value}\n",
    "\n",
    "\n",
    "def view_string(s):\n",
    "    \"\"\"Recebe uma string formatada como json e retorna somente o valor 'value' da string\"\"\"\n",
    "    try:\n",
    "        d = json.loads(s)\n",
    "        return d.get(\"valor\", s)\n",
    "    except json.JSONDecodeError:\n",
    "        return s\n"
   ]
  },
  {
   "cell_type": "code",
   "execution_count": null,
   "metadata": {},
   "outputs": [],
   "source": [
    "from nbdev.export import notebook2script\n",
    "notebook2script()"
   ]
  }
 ],
 "metadata": {
  "kernelspec": {
   "display_name": "Python 3.9.12 ('teste')",
   "language": "python",
   "name": "python3"
  }
 },
 "nbformat": 4,
 "nbformat_minor": 2
}
