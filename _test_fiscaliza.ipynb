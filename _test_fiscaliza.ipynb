{
 "cells": [
  {
   "cell_type": "code",
   "execution_count": null,
   "metadata": {},
   "outputs": [],
   "source": [
    "%load_ext autoreload\n",
    "%autoreload 2\n",
    "%config Completer.use_jedi = False"
   ]
  },
  {
   "cell_type": "code",
   "execution_count": null,
   "metadata": {},
   "outputs": [],
   "source": [
    "#hide\n",
    "from nbdev.showdoc import show_doc\n",
    "from getpass import getuser, getpass\n",
    "from fiscaliza.redmine import detalhar_inspecao, validar_dicionario, relatar_inspecao\n",
    "from rich.console import Console\n",
    "console = Console()"
   ]
  },
  {
   "cell_type": "markdown",
   "metadata": {},
   "source": [
    "# Fiscaliza\n",
    "\n",
    "> Scripts para baixar informações sobre inspeções no Sistema Fiscaliza da Anatel e atualizar inspeções por meio da API do Redmine."
   ]
  },
  {
   "cell_type": "markdown",
   "metadata": {},
   "source": [
    "## Instalação"
   ]
  },
  {
   "cell_type": "markdown",
   "metadata": {},
   "source": [
    "`pip install fiscaliza`"
   ]
  },
  {
   "cell_type": "markdown",
   "metadata": {},
   "source": [
    "## Como utilizar"
   ]
  },
  {
   "cell_type": "markdown",
   "metadata": {},
   "source": [
    "O `Fiscaliza` da Anatel é um sistema web que utiliza a plataforma Redmine. É basicamente um softaware de gerenciamento e atividades.\n",
    "\n",
    "O Fiscaliza possui 2 módulos para os fiscais utilizarem:\n",
    "* Módulo de Teste ( Homologação ) : \"https://sistemashm.anatel.gov.br/fiscaliza\"\n",
    "* Módulo de Produção: \"https://sistemas.anatel.gov.br/fiscaliza/\"\n",
    "\n",
    "Ambos módulos precisam de um usuário e senha com acesso autorizado, em geral somente servidores da Anatel.\n",
    "\n",
    "O Escopo desse módulo basicamente está encapsulado em 3 funções básicas:\n",
    "* detalhar_inspecao - **Retorna as informações do estado atual da Issue ( Inspeção )**\n",
    "* validar_dicionario - **Para dado dicionário de dados, formata-o para a API do Redmine**\n",
    "* relatar_inspecao - **Atualiza e Issue com o dicionário de dados passado**\n",
    "\n",
    "> Note: O escopo da terceira função `relatar_inspecao` possui escopo limitado. Atualmente somente é formatado e relatado Inspeções ( Issue ) to tipo \"Uso do Espectro - Monitoração\". Essa inspeção é a principal utilizada para as atividades de monitoração da Anatel e foi o que motivou a criação da presente biblioteca. Outras inspeções possuem campos distintos e assim exigem formatação distinta. Versões futuras poderão abarcar o relato de diferentes inspeções. "
   ]
  },
  {
   "cell_type": "code",
   "execution_count": null,
   "metadata": {},
   "outputs": [],
   "source": [
    "#hide\n",
    "show_doc(detalhar_inspecao)"
   ]
  },
  {
   "cell_type": "markdown",
   "metadata": {},
   "source": [
    "Vamos exemplificar a Inspeção de Teste `53646`"
   ]
  },
  {
   "cell_type": "code",
   "execution_count": null,
   "metadata": {},
   "outputs": [],
   "source": [
    "login = getuser()\n",
    "senha = getpass()\n",
    "inspecao = '57683'"
   ]
  },
  {
   "cell_type": "code",
   "execution_count": null,
   "metadata": {},
   "outputs": [],
   "source": [
    "detalhes = detalhar_inspecao(inspecao, login, senha)"
   ]
  },
  {
   "cell_type": "code",
   "execution_count": null,
   "metadata": {},
   "outputs": [],
   "source": [
    "for k,v in detalhes.items():\n",
    "    console.print(f'[red]{k} [blue]-> [green]{v}')"
   ]
  },
  {
   "cell_type": "markdown",
   "metadata": {},
   "source": [
    "Agora vamos testar o retorno de informações para um Inspeção no Fiscaliza de produção `teste=False`."
   ]
  },
  {
   "cell_type": "code",
   "execution_count": null,
   "metadata": {},
   "outputs": [],
   "source": [
    "inspecao = '51804'\n",
    "detalhes = detalhar_inspecao(inspecao, login, senha, teste=False)"
   ]
  },
  {
   "cell_type": "code",
   "execution_count": null,
   "metadata": {},
   "outputs": [],
   "source": [
    "for k,v in detalhes.items():\n",
    "    console.print(f'[blue]{k} [red]-> [green]{v}')"
   ]
  },
  {
   "cell_type": "markdown",
   "metadata": {},
   "source": [
    "## Dicionário de Dados\n",
    "A função anterior somente retorna as informações já constantes em dada Inspeção ( Issue ) do Fiscaliza. Para alterarmos ou atualizarmos dada inspeção, precisamos passar um dicionário de dados ou um caminho para um arquivo `.json` ou pickle `.pkl` onde conste esse dicionário de dados serializado. O exemplo seguinte mostra um dicionário de dados com as informações básicas constantes de uma monitoração e a formatação que elas são validadas:"
   ]
  },
  {
   "cell_type": "code",
   "execution_count": null,
   "metadata": {},
   "outputs": [],
   "source": [
    "d = {}\n",
    "\n",
    "d['Classe da Inspeção'] = 'Técnica' # str\n",
    "\n",
    "d['Tipo de inspeção'] = 'Uso do Espectro - Monitoração' #str\n",
    "\n",
    "d['Descrição da Inspeção'] = '''Atendimento da Denúncia AC202010213075425 (6104512), \n",
    "verificação da Potência e Intensidade de Campo Elétrico da Frequência 105.1MHz e seus harmônicos, \n",
    "além da checagem de Intermodulação e Espúrios nas frequências 450.3MHz e 750MHz.''' #str\n",
    "\n",
    "d['Fiscal Responsável'] = 'Ronaldo da Silva Alves Batista' #str\n",
    "\n",
    "d['Fiscais'] = ['Ronaldo da Silva Alves Batista', 'Paulo Diogo Costa', 'Mario Augusto Volpini'] #string ou lista de strings\n",
    "\n",
    "# Windows\n",
    "d['Html'] = 'D:\\\\OneDrive - ANATEL\\\\Monitoramento\\\\Processos\\\\53504.0005432021-55\\\\Guarulhos.html' #str\n",
    "\n",
    "#ou \n",
    "\n",
    "#Unix d['Html'] = '/d/OneDrive - ANATEL/Monitoramento/53504.0005432021-55/Guarulhos.html' #str\n",
    "            \n",
    "d['Gerar Relatório'] = 1 # int 0 ou 1\n",
    "\n",
    "d['Frequência Inicial']  = 54 #int ou float\n",
    "\n",
    "d['Unidade da Frequência Inicial'] = 'MHz' #string\n",
    "\n",
    "d['Frequência Final'] = 700 #int ou float\n",
    "\n",
    "d['Unidade da Frequência Final'] = 'MHz' #string\n",
    "\n",
    "d['Data de Início'] = '2021-03-19' #YYYY-MM-DD #string nesse formato\n",
    "\n",
    "d['Data Limite'] = '2021-12-31'  #YYYY-MM-DD #string nesse formato\n",
    "\n",
    "d['UF/Município'] = \"SP/São Paulo\" # string ou Lista de Strings: [\"SP/São Paulo\", \"SP/Sorocaba\"]\n",
    "\n",
    "d['Serviços da Inspeção'] = ['230', '231', '800'] # String ou Lista de Strings\n",
    "\n",
    "d['Qnt. de emissões na faixa'] = 12 # int\n",
    "\n",
    "d['Emissões não autorizadas/desc'] = 70 # int\n",
    "\n",
    "d['Horas de Preparação'] = 2 # int\n",
    "\n",
    "d['Horas de Deslocamento'] = 0 # int\n",
    "\n",
    "d['Horas de Execução'] = 32 # int\n",
    "\n",
    "d['Horas de Conclusão'] = 6 # int\n",
    "\n",
    "d['Latitude (coordenadas)'] = -22.94694 # float\n",
    "\n",
    "d['Longitude (coordenadas)'] = -43.21944 # float\n",
    "\n",
    "d['Uso de PF'] = 'Não se aplica PF - uso apenas de formulários' # string\n",
    "\n",
    "d['Ação de risco à vida criada?'] = 'Não' # string Sim | Não\n",
    "\n",
    "d['Impossibilidade acesso online?'] = '0' # string '0' | '1'\n",
    "\n",
    "d['Reservar Instrumentos?'] = '0' #string '0' = Não | '1' = 'Sim'\n",
    "\n",
    "d['Utilizou algum instrumento?'] = '0'\n",
    "\n",
    "#d['Reserva de Instrumentos'] = '' \n",
    "\n",
    "d['Notes'] = \"Não foi constatada irregularidade no Período monitorado\" # string\n",
    "\n",
    "# No caso de uma tabela, string formatada como csv\n",
    "\n",
    "d['Notes'] = \"\"\"Faixa, Classe Especial, Classe A, Classe B, Classe C\n",
    "                VHF-L,0,5,7,5\n",
    "                VHF-H,0,12,1,0\n",
    "                UHF,1,1,2,4\n",
    "                FM,5,1,0,0\n",
    "                RADCOM,0,0,0,0\n",
    "                Outorgadas com indícios de irregularidades,1,2,3,4\n",
    "            \"\"\""
   ]
  },
  {
   "cell_type": "markdown",
   "metadata": {},
   "source": [
    "A API do Redmine possui formatos específicos de como esses campos devem ser submetidos, validar os formatos acima e fazer essa formatação exigida pela API do Redmine é o papel da função `validar_dicionario`."
   ]
  },
  {
   "cell_type": "code",
   "execution_count": null,
   "metadata": {},
   "outputs": [],
   "source": [
    "#hide\n",
    "show_doc(validar_dicionario)"
   ]
  },
  {
   "cell_type": "code",
   "execution_count": null,
   "metadata": {},
   "outputs": [],
   "source": [
    "inspecao = '57684'\n",
    "dados = validar_dicionario('files/data.json', inspecao, login, senha)"
   ]
  },
  {
   "cell_type": "code",
   "execution_count": null,
   "metadata": {},
   "outputs": [],
   "source": [
    "for k,v in dados.items():\n",
    "    if k == \"Html\":\n",
    "        v = str(v)\n",
    "        v = v[:100] + '\\n...\\n' + v[-100:]\n",
    "    console.print(f'[blue]{k} [red]-> [green]{v}')"
   ]
  },
  {
   "cell_type": "markdown",
   "metadata": {},
   "source": [
    "## Relatar Inspeção\n",
    "A função a seguir é a mais importante do módulo porque ela de fato altera os dados na plataforma Fiscaliza."
   ]
  },
  {
   "cell_type": "code",
   "execution_count": null,
   "metadata": {},
   "outputs": [],
   "source": [
    "#hide\n",
    "show_doc(relatar_inspecao)"
   ]
  },
  {
   "cell_type": "code",
   "execution_count": null,
   "metadata": {},
   "outputs": [
    {
     "data": {
      "text/html": [
       "<pre style=\"white-space:pre;overflow-x:auto;line-height:normal;font-family:Menlo,'DejaVu Sans Mono',consolas,'Courier New',monospace\"><span style=\"color: #008000; text-decoration-color: #008000; font-weight: bold\">Usuário Autenticado com Sucesso 👍</span>\n",
       "</pre>\n"
      ],
      "text/plain": [
       "\u001b[1;32mUsuário Autenticado com Sucesso 👍\u001b[0m\n"
      ]
     },
     "metadata": {},
     "output_type": "display_data"
    },
    {
     "data": {
      "text/html": [
       "<pre style=\"white-space:pre;overflow-x:auto;line-height:normal;font-family:Menlo,'DejaVu Sans Mono',consolas,'Courier New',monospace\">Inspeção <span style=\"color: #008080; text-decoration-color: #008080; font-weight: bold\">57683</span> vinculada à Ação <span style=\"font-weight: bold\">{</span><span style=\"color: #008000; text-decoration-color: #008000\">'id_ACAO'</span>: <span style=\"color: #008080; text-decoration-color: #008080; font-weight: bold\">52876</span>, <span style=\"color: #008000; text-decoration-color: #008000\">'nome_ACAO'</span>: <span style=\"color: #008000; text-decoration-color: #008000\">'ACAO_GR01_2021_0491'</span>, \n",
       "<span style=\"color: #008000; text-decoration-color: #008000\">'descrição_ACAO'</span>: <span style=\"color: #008000; text-decoration-color: #008000\">'Teste'</span><span style=\"font-weight: bold\">}</span>\n",
       "</pre>\n"
      ],
      "text/plain": [
       "Inspeção \u001b[1;36m57683\u001b[0m vinculada à Ação \u001b[1m{\u001b[0m\u001b[32m'id_ACAO'\u001b[0m: \u001b[1;36m52876\u001b[0m, \u001b[32m'nome_ACAO'\u001b[0m: \u001b[32m'ACAO_GR01_2021_0491'\u001b[0m, \n",
       "\u001b[32m'descrição_ACAO'\u001b[0m: \u001b[32m'Teste'\u001b[0m\u001b[1m}\u001b[0m\n"
      ]
     },
     "metadata": {},
     "output_type": "display_data"
    },
    {
     "name": "stderr",
     "output_type": "stream",
     "text": [
      "usage: ipykernel_launcher.py [-h] [--fiscaliza FISCALIZA] [--teste TESTE]\n",
      "                             inspecao login senha\n",
      "ipykernel_launcher.py: error: the following arguments are required: login, senha\n"
     ]
    },
    {
     "data": {
      "text/html": [
       "<pre style=\"white-space:pre;overflow-x:auto;line-height:normal;font-family:Menlo,'DejaVu Sans Mono',consolas,'Courier New',monospace\"></pre>\n"
      ],
      "text/plain": []
     },
     "metadata": {},
     "output_type": "display_data"
    },
    {
     "ename": "SystemExit",
     "evalue": "2",
     "output_type": "error",
     "traceback": [
      "An exception has occurred, use %tb to see the full traceback.\n",
      "\u001b[1;31mSystemExit\u001b[0m\u001b[1;31m:\u001b[0m 2\n"
     ]
    },
    {
     "name": "stderr",
     "output_type": "stream",
     "text": [
      "C:\\Users\\rsilva\\Miniconda3\\envs\\fiscaliza\\lib\\site-packages\\IPython\\core\\interactiveshell.py:3449: UserWarning: To exit: use 'exit', 'quit', or Ctrl-D.\n",
      "  warn(\"To exit: use 'exit', 'quit', or Ctrl-D.\", stacklevel=1)\n"
     ]
    }
   ],
   "source": [
    "inspecao = '57683'\n",
    "relatar_inspecao(inspecao, login, senha, dados='files/dados.json', teste=True)"
   ]
  },
  {
   "cell_type": "markdown",
   "metadata": {},
   "source": [
    "O dicionário de dados possui os dados completos obrigatórios para o relato, no entanto o relato é feito em algumas etapas, utilizando somente algumas das informações do dicionário:\n",
    "* `Rascunho` para `Aguardando Execução`\n",
    "* `Aguardando Execução` para `Em Andamento`\n",
    "* `Em Andamento` para `Relatando`\n",
    "* `Relatando` para `Relatada`\n",
    "\n",
    "Na terceira etapa é gerado um relatório da monitoração no Sistema Eletrônico de Informações - SEI. Para executar a quarta etapa é preciso que esse relatório da terceira etapa esteja assinado. Por essa razão a função para na terceira etapa e informa da necessidade do relatório estar assinado.\n",
    "\n",
    "Após o relatório ser assinado basta chamar a função com os mesmos argumentos para que a etapa final seja realizada."
   ]
  },
  {
   "cell_type": "code",
   "execution_count": null,
   "metadata": {},
   "outputs": [],
   "source": [
    "estado = relatar_inspecao(login, senha, inspecao, dados=dados, teste=True)"
   ]
  }
 ],
 "metadata": {
  "kernelspec": {
   "display_name": "Python [conda env:fiscaliza]",
   "language": "python",
   "name": "conda-env-fiscaliza-py"
  }
 },
 "nbformat": 4,
 "nbformat_minor": 4
}
