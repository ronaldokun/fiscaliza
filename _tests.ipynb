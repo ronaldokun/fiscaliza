{
 "cells": [
  {
   "cell_type": "code",
   "execution_count": null,
   "id": "7de12ac8",
   "metadata": {},
   "outputs": [],
   "source": [
    "#default_exp tests\n",
    "%load_ext autoreload\n",
    "%autoreload 2"
   ]
  },
  {
   "cell_type": "markdown",
   "id": "c14377fe",
   "metadata": {},
   "source": [
    "# Tests\n",
    "> Rotinas para testes simples da biblioteca"
   ]
  },
  {
   "cell_type": "code",
   "execution_count": null,
   "id": "6364803b",
   "metadata": {},
   "outputs": [],
   "source": [
    "#export\n",
    "from anateldb.query import *\n",
    "from anateldb.parser import *\n",
    "from anateldb.filter import *\n",
    "from anateldb.redmine import *\n",
    "from pathlib import Path"
   ]
  },
  {
   "cell_type": "code",
   "execution_count": null,
   "id": "6e432588",
   "metadata": {},
   "outputs": [],
   "source": [
    "filter_database(Path.cwd())"
   ]
  },
  {
   "cell_type": "code",
   "execution_count": null,
   "id": "53eb6e67",
   "metadata": {},
   "outputs": [
    {
     "name": "stdin",
     "output_type": "stream",
     "text": [
      " ··········\n"
     ]
    }
   ],
   "source": [
    "#local\n",
    "import getpass\n",
    "USR = getpass.getuser()\n",
    "PWD = getpass.getpass()"
   ]
  },
  {
   "cell_type": "code",
   "execution_count": null,
   "id": "ace3e242",
   "metadata": {},
   "outputs": [],
   "source": [
    "fiscaliza = auth_user(USR, PWD)"
   ]
  },
  {
   "cell_type": "code",
   "execution_count": null,
   "id": "df50736b",
   "metadata": {},
   "outputs": [],
   "source": [
    "validate_datadict('data.json', '52919', fiscaliza)"
   ]
  },
  {
   "cell_type": "code",
   "execution_count": null,
   "id": "2d43d6a1",
   "metadata": {},
   "outputs": [
    {
     "data": {
      "text/html": [
       "<pre style=\"white-space:pre;overflow-x:auto;line-height:normal;font-family:Menlo,'DejaVu Sans Mono',consolas,'Courier New',monospace\"><span style=\"color: #008000; text-decoration-color: #008000; font-weight: bold\">Usuário Autenticado com Sucesso 👍</span>\n",
       "</pre>\n"
      ],
      "text/plain": [
       "\u001b[1;32mUsuário Autenticado com Sucesso 👍\u001b[0m\n"
      ]
     },
     "metadata": {},
     "output_type": "display_data"
    },
    {
     "data": {
      "text/html": [
       "<pre style=\"white-space:pre;overflow-x:auto;line-height:normal;font-family:Menlo,'DejaVu Sans Mono',consolas,'Courier New',monospace\">❗ O número de inspeção inserido <span style=\"color: #008080; text-decoration-color: #008080; font-weight: bold\">52876</span> corresponde a uma <span style=\"color: #800000; text-decoration-color: #800000; font-weight: bold\">Ação</span> ❗\n",
       "</pre>\n"
      ],
      "text/plain": [
       "❗ O número de inspeção inserido \u001b[1;36m52876\u001b[0m corresponde a uma \u001b[1;31mAção\u001b[0m ❗\n"
      ]
     },
     "metadata": {},
     "output_type": "display_data"
    }
   ],
   "source": [
    "relatar_inspecao(USR, PWD, '52919', d)"
   ]
  },
  {
   "cell_type": "markdown",
   "id": "50745d81",
   "metadata": {},
   "source": [
    "## Testes"
   ]
  },
  {
   "cell_type": "code",
   "execution_count": null,
   "id": "4ad3eaef",
   "metadata": {},
   "outputs": [],
   "source": [
    "d = defaultdict(str)\n",
    "f = partialler(validate_datadict, d)\n",
    "test_eq(f(), d)"
   ]
  },
  {
   "cell_type": "code",
   "execution_count": null,
   "id": "7f9c8462",
   "metadata": {},
   "outputs": [],
   "source": [
    "d = [('Servidor', 'Ronaldo')]\n",
    "with ExceptionExpected(ex=AssertionError, regex='É esperado um dicionário'):\n",
    "    validate_datadict(d)"
   ]
  },
  {
   "cell_type": "code",
   "execution_count": null,
   "id": "0d21c1b6",
   "metadata": {},
   "outputs": [],
   "source": [
    "d = {}\n",
    "d['Servidor'] = 'Ronaldo'\n",
    "with ExceptionExpected(ex=ValueError, regex='As chaves seguintes são desconhecidas'):\n",
    "    validate_datadict(d)"
   ]
  },
  {
   "cell_type": "code",
   "execution_count": null,
   "id": "4b73b28c",
   "metadata": {},
   "outputs": [],
   "source": [
    "with ExceptionExpected(ex=ValueError):\n",
    "    validate_datadict({'Classe da Inspeção': 'Outorga'})"
   ]
  },
  {
   "cell_type": "code",
   "execution_count": null,
   "id": "7408fdd5",
   "metadata": {},
   "outputs": [],
   "source": [
    "with ExceptionExpected(ex=TypeError):\n",
    "    validate_datadict({'Classe da Inspeção': ['Técnica']})\n",
    "    validate_datadict({'Classe da Inspeção': 12})"
   ]
  },
  {
   "cell_type": "markdown",
   "id": "2717f438",
   "metadata": {},
   "source": [
    "### Mostrar resumo da Ação à partir da Inspeção"
   ]
  },
  {
   "cell_type": "code",
   "execution_count": null,
   "id": "6a23d643",
   "metadata": {},
   "outputs": [],
   "source": [
    "#hide\n",
    "insp2acao(INSP, fiscaliza)"
   ]
  },
  {
   "cell_type": "code",
   "execution_count": null,
   "id": "be40ad16",
   "metadata": {},
   "outputs": [],
   "source": [
    "detalhar_inspecao(INSP, fiscaliza)"
   ]
  },
  {
   "cell_type": "code",
   "execution_count": null,
   "id": "f9fe5bf6",
   "metadata": {},
   "outputs": [],
   "source": []
  }
 ],
 "metadata": {
  "kernelspec": {
   "display_name": "Python [conda env:anateldb]",
   "language": "python",
   "name": "conda-env-anateldb-py"
  }
 },
 "nbformat": 4,
 "nbformat_minor": 5
}
